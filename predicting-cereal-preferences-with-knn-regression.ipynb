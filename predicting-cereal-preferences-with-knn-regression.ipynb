{
 "cells": [
  {
   "cell_type": "markdown",
   "metadata": {
    "papermill": {
     "duration": 0.031786,
     "end_time": "2020-12-30T13:11:07.467541",
     "exception": false,
     "start_time": "2020-12-30T13:11:07.435755",
     "status": "completed"
    },
    "tags": []
   },
   "source": [
    "Should the most important meal of the day be yummy or nutritious? Can't it be both?"
   ]
  },
  {
   "cell_type": "code",
   "execution_count": 49,
   "metadata": {
    "execution": {
     "iopub.execute_input": "2020-12-30T13:11:07.546364Z",
     "iopub.status.busy": "2020-12-30T13:11:07.545580Z",
     "iopub.status.idle": "2020-12-30T13:11:09.516434Z",
     "shell.execute_reply": "2020-12-30T13:11:09.515217Z"
    },
    "papermill": {
     "duration": 2.016814,
     "end_time": "2020-12-30T13:11:09.516623",
     "exception": false,
     "start_time": "2020-12-30T13:11:07.499809",
     "status": "completed"
    },
    "tags": []
   },
   "outputs": [
    {
     "data": {
      "text/html": [
       "        <script type=\"text/javascript\">\n",
       "        window.PlotlyConfig = {MathJaxConfig: 'local'};\n",
       "        if (window.MathJax) {MathJax.Hub.Config({SVG: {font: \"STIX-Web\"}});}\n",
       "        if (typeof require !== 'undefined') {\n",
       "        require.undef(\"plotly\");\n",
       "        requirejs.config({\n",
       "            paths: {\n",
       "                'plotly': ['https://cdn.plot.ly/plotly-latest.min']\n",
       "            }\n",
       "        });\n",
       "        require(['plotly'], function(Plotly) {\n",
       "            window._Plotly = Plotly;\n",
       "        });\n",
       "        }\n",
       "        </script>\n",
       "        "
      ]
     },
     "metadata": {},
     "output_type": "display_data"
    }
   ],
   "source": [
    "import numpy as np\n",
    "import pandas as pd\n",
    "import plotly #I will only be using plotly express to visualise the data\n",
    "import plotly.express as px \n",
    "from plotly.offline import download_plotlyjs,init_notebook_mode,plot,iplot\n",
    "init_notebook_mode(connected=True) \n",
    "import scipy.stats as stats"
   ]
  },
  {
   "cell_type": "code",
   "execution_count": 45,
   "metadata": {
    "execution": {
     "iopub.execute_input": "2020-12-30T13:11:09.608029Z",
     "iopub.status.busy": "2020-12-30T13:11:09.603874Z",
     "iopub.status.idle": "2020-12-30T13:11:09.648126Z",
     "shell.execute_reply": "2020-12-30T13:11:09.648652Z"
    },
    "papermill": {
     "duration": 0.092572,
     "end_time": "2020-12-30T13:11:09.648817",
     "exception": false,
     "start_time": "2020-12-30T13:11:09.556245",
     "status": "completed"
    },
    "tags": []
   },
   "outputs": [
    {
     "data": {
      "text/html": [
       "<div>\n",
       "<style scoped>\n",
       "    .dataframe tbody tr th:only-of-type {\n",
       "        vertical-align: middle;\n",
       "    }\n",
       "\n",
       "    .dataframe tbody tr th {\n",
       "        vertical-align: top;\n",
       "    }\n",
       "\n",
       "    .dataframe thead th {\n",
       "        text-align: right;\n",
       "    }\n",
       "</style>\n",
       "<table border=\"1\" class=\"dataframe\">\n",
       "  <thead>\n",
       "    <tr style=\"text-align: right;\">\n",
       "      <th></th>\n",
       "      <th>Name</th>\n",
       "      <th>Manufacturer</th>\n",
       "      <th>Type</th>\n",
       "      <th>Calories</th>\n",
       "      <th>Protein</th>\n",
       "      <th>Fat</th>\n",
       "      <th>Sodium</th>\n",
       "      <th>Fiber</th>\n",
       "      <th>Carbohydrates</th>\n",
       "      <th>Sugars</th>\n",
       "      <th>Potassium</th>\n",
       "      <th>Vitamins</th>\n",
       "      <th>Shelf</th>\n",
       "      <th>Weight</th>\n",
       "      <th>Cups</th>\n",
       "      <th>Rating</th>\n",
       "    </tr>\n",
       "  </thead>\n",
       "  <tbody>\n",
       "    <tr>\n",
       "      <th>0</th>\n",
       "      <td>100% Bran</td>\n",
       "      <td>N</td>\n",
       "      <td>C</td>\n",
       "      <td>70</td>\n",
       "      <td>4</td>\n",
       "      <td>1</td>\n",
       "      <td>130</td>\n",
       "      <td>10.0</td>\n",
       "      <td>5.0</td>\n",
       "      <td>6</td>\n",
       "      <td>280</td>\n",
       "      <td>25</td>\n",
       "      <td>3</td>\n",
       "      <td>1.0</td>\n",
       "      <td>0.33</td>\n",
       "      <td>68.402973</td>\n",
       "    </tr>\n",
       "    <tr>\n",
       "      <th>1</th>\n",
       "      <td>100% Natural Bran</td>\n",
       "      <td>Q</td>\n",
       "      <td>C</td>\n",
       "      <td>120</td>\n",
       "      <td>3</td>\n",
       "      <td>5</td>\n",
       "      <td>15</td>\n",
       "      <td>2.0</td>\n",
       "      <td>8.0</td>\n",
       "      <td>8</td>\n",
       "      <td>135</td>\n",
       "      <td>0</td>\n",
       "      <td>3</td>\n",
       "      <td>1.0</td>\n",
       "      <td>1.00</td>\n",
       "      <td>33.983679</td>\n",
       "    </tr>\n",
       "    <tr>\n",
       "      <th>2</th>\n",
       "      <td>All-Bran</td>\n",
       "      <td>K</td>\n",
       "      <td>C</td>\n",
       "      <td>70</td>\n",
       "      <td>4</td>\n",
       "      <td>1</td>\n",
       "      <td>260</td>\n",
       "      <td>9.0</td>\n",
       "      <td>7.0</td>\n",
       "      <td>5</td>\n",
       "      <td>320</td>\n",
       "      <td>25</td>\n",
       "      <td>3</td>\n",
       "      <td>1.0</td>\n",
       "      <td>0.33</td>\n",
       "      <td>59.425505</td>\n",
       "    </tr>\n",
       "    <tr>\n",
       "      <th>3</th>\n",
       "      <td>All-Bran with Extra Fiber</td>\n",
       "      <td>K</td>\n",
       "      <td>C</td>\n",
       "      <td>50</td>\n",
       "      <td>4</td>\n",
       "      <td>0</td>\n",
       "      <td>140</td>\n",
       "      <td>14.0</td>\n",
       "      <td>8.0</td>\n",
       "      <td>0</td>\n",
       "      <td>330</td>\n",
       "      <td>25</td>\n",
       "      <td>3</td>\n",
       "      <td>1.0</td>\n",
       "      <td>0.50</td>\n",
       "      <td>93.704912</td>\n",
       "    </tr>\n",
       "    <tr>\n",
       "      <th>4</th>\n",
       "      <td>Almond Delight</td>\n",
       "      <td>R</td>\n",
       "      <td>C</td>\n",
       "      <td>110</td>\n",
       "      <td>2</td>\n",
       "      <td>2</td>\n",
       "      <td>200</td>\n",
       "      <td>1.0</td>\n",
       "      <td>14.0</td>\n",
       "      <td>8</td>\n",
       "      <td>-1</td>\n",
       "      <td>25</td>\n",
       "      <td>3</td>\n",
       "      <td>1.0</td>\n",
       "      <td>0.75</td>\n",
       "      <td>34.384843</td>\n",
       "    </tr>\n",
       "  </tbody>\n",
       "</table>\n",
       "</div>"
      ],
      "text/plain": [
       "                        Name Manufacturer Type  Calories  Protein  Fat  \\\n",
       "0                  100% Bran            N    C        70        4    1   \n",
       "1          100% Natural Bran            Q    C       120        3    5   \n",
       "2                   All-Bran            K    C        70        4    1   \n",
       "3  All-Bran with Extra Fiber            K    C        50        4    0   \n",
       "4             Almond Delight            R    C       110        2    2   \n",
       "\n",
       "   Sodium  Fiber  Carbohydrates  Sugars  Potassium  Vitamins  Shelf  Weight  \\\n",
       "0     130   10.0            5.0       6        280        25      3     1.0   \n",
       "1      15    2.0            8.0       8        135         0      3     1.0   \n",
       "2     260    9.0            7.0       5        320        25      3     1.0   \n",
       "3     140   14.0            8.0       0        330        25      3     1.0   \n",
       "4     200    1.0           14.0       8         -1        25      3     1.0   \n",
       "\n",
       "   Cups     Rating  \n",
       "0  0.33  68.402973  \n",
       "1  1.00  33.983679  \n",
       "2  0.33  59.425505  \n",
       "3  0.50  93.704912  \n",
       "4  0.75  34.384843  "
      ]
     },
     "execution_count": 45,
     "metadata": {},
     "output_type": "execute_result"
    }
   ],
   "source": [
    "df=pd.read_csv(\"cereal.csv\")\n",
    "df.rename(columns=lambda x:x.title(),inplace=True)\n",
    "df.rename(columns={\"Mfr\":\"Manufacturer\",\"Potass\":\"Potassium\",\"Carbo\":\"Carbohydrates\"},inplace=True)\n",
    "df.head()"
   ]
  },
  {
   "cell_type": "markdown",
   "metadata": {
    "papermill": {
     "duration": 0.030876,
     "end_time": "2020-12-30T13:11:09.719059",
     "exception": false,
     "start_time": "2020-12-30T13:11:09.688183",
     "status": "completed"
    },
    "tags": []
   },
   "source": [
    "A survey of 80 cereals was conducted to include information on:\n",
    "- *Name*: cereal name\n",
    "- *Manufacturer*: cereal manufacturer\n",
    "    - *A* = American Home Food Products\n",
    "    - *G* = General Mills\n",
    "    - *K* = Kelloggs\n",
    "    - *N* = Nabisco\n",
    "    - *P* = Post\n",
    "    - *Q* = Quaker Oats\n",
    "    - *R* = Ralston Purina\n",
    "- *Type*:\n",
    "    - *C* = cold\n",
    "    - *H* = hot\n",
    "- *Calories*: calories per serving\n",
    "- *Protein*: grams of protein\n",
    "- *Fat*: grams of fat\n",
    "- *Sodium*: milligrams of sodium\n",
    "- *Fiber*: grams of dietary fiber\n",
    "- *Carbohydrates*: grams of complex carbohydrates\n",
    "- *Sugars*: grams of sugars\n",
    "- *Potassium*: milligrams of potassium\n",
    "- *Vitamins*: percentage (0, 25, or 100) of vitamins and minerals recommended by the FDA\n",
    "- *Shelf*: location of the cereal on the display shelf counting from the floor (1, 2, or 3)\n",
    "- *Weight*: weight in ounces of one serving\n",
    "- *Cups*: number of cups in one serving\n",
    "- *Rating*: rating of the cereal\n",
    "\n",
    "You should note that the survey was conducted in the early 90's so you most probably won't be able to find many of the cereals available to us today. What we can do is determine what people were eating almost 2 decades ago!"
   ]
  },
  {
   "cell_type": "code",
   "execution_count": 9,
   "metadata": {
    "execution": {
     "iopub.execute_input": "2020-12-30T13:11:09.795167Z",
     "iopub.status.busy": "2020-12-30T13:11:09.786876Z",
     "iopub.status.idle": "2020-12-30T13:11:09.799860Z",
     "shell.execute_reply": "2020-12-30T13:11:09.800411Z"
    },
    "papermill": {
     "duration": 0.050603,
     "end_time": "2020-12-30T13:11:09.800594",
     "exception": false,
     "start_time": "2020-12-30T13:11:09.749991",
     "status": "completed"
    },
    "tags": []
   },
   "outputs": [
    {
     "name": "stdout",
     "output_type": "stream",
     "text": [
      "<class 'pandas.core.frame.DataFrame'>\n",
      "RangeIndex: 77 entries, 0 to 76\n",
      "Data columns (total 16 columns):\n",
      " #   Column         Non-Null Count  Dtype  \n",
      "---  ------         --------------  -----  \n",
      " 0   Name           77 non-null     object \n",
      " 1   Manufacturer   77 non-null     object \n",
      " 2   Type           77 non-null     object \n",
      " 3   Calories       77 non-null     int64  \n",
      " 4   Protein        77 non-null     int64  \n",
      " 5   Fat            77 non-null     int64  \n",
      " 6   Sodium         77 non-null     int64  \n",
      " 7   Fiber          77 non-null     float64\n",
      " 8   Carbohydrates  77 non-null     float64\n",
      " 9   Sugars         77 non-null     int64  \n",
      " 10  Potassium      77 non-null     int64  \n",
      " 11  Vitamins       77 non-null     int64  \n",
      " 12  Shelf          77 non-null     int64  \n",
      " 13  Weight         77 non-null     float64\n",
      " 14  Cups           77 non-null     float64\n",
      " 15  Rating         77 non-null     float64\n",
      "dtypes: float64(5), int64(8), object(3)\n",
      "memory usage: 9.8+ KB\n"
     ]
    }
   ],
   "source": [
    "df.info()"
   ]
  },
  {
   "cell_type": "markdown",
   "metadata": {
    "papermill": {
     "duration": 0.031076,
     "end_time": "2020-12-30T13:11:09.863621",
     "exception": false,
     "start_time": "2020-12-30T13:11:09.832545",
     "status": "completed"
    },
    "tags": []
   },
   "source": [
    "No null values - good start."
   ]
  },
  {
   "cell_type": "code",
   "execution_count": 10,
   "metadata": {
    "execution": {
     "iopub.execute_input": "2020-12-30T13:11:09.934164Z",
     "iopub.status.busy": "2020-12-30T13:11:09.933389Z",
     "iopub.status.idle": "2020-12-30T13:11:10.011281Z",
     "shell.execute_reply": "2020-12-30T13:11:10.010556Z"
    },
    "papermill": {
     "duration": 0.116249,
     "end_time": "2020-12-30T13:11:10.011464",
     "exception": false,
     "start_time": "2020-12-30T13:11:09.895215",
     "status": "completed"
    },
    "tags": []
   },
   "outputs": [
    {
     "data": {
      "text/html": [
       "<div>\n",
       "<style scoped>\n",
       "    .dataframe tbody tr th:only-of-type {\n",
       "        vertical-align: middle;\n",
       "    }\n",
       "\n",
       "    .dataframe tbody tr th {\n",
       "        vertical-align: top;\n",
       "    }\n",
       "\n",
       "    .dataframe thead th {\n",
       "        text-align: right;\n",
       "    }\n",
       "</style>\n",
       "<table border=\"1\" class=\"dataframe\">\n",
       "  <thead>\n",
       "    <tr style=\"text-align: right;\">\n",
       "      <th></th>\n",
       "      <th>count</th>\n",
       "      <th>unique</th>\n",
       "      <th>top</th>\n",
       "      <th>freq</th>\n",
       "      <th>mean</th>\n",
       "      <th>std</th>\n",
       "      <th>min</th>\n",
       "      <th>25%</th>\n",
       "      <th>50%</th>\n",
       "      <th>75%</th>\n",
       "      <th>max</th>\n",
       "    </tr>\n",
       "  </thead>\n",
       "  <tbody>\n",
       "    <tr>\n",
       "      <th>Name</th>\n",
       "      <td>77</td>\n",
       "      <td>77</td>\n",
       "      <td>Cream of Wheat (Quick)</td>\n",
       "      <td>1</td>\n",
       "      <td>NaN</td>\n",
       "      <td>NaN</td>\n",
       "      <td>NaN</td>\n",
       "      <td>NaN</td>\n",
       "      <td>NaN</td>\n",
       "      <td>NaN</td>\n",
       "      <td>NaN</td>\n",
       "    </tr>\n",
       "    <tr>\n",
       "      <th>Manufacturer</th>\n",
       "      <td>77</td>\n",
       "      <td>7</td>\n",
       "      <td>K</td>\n",
       "      <td>23</td>\n",
       "      <td>NaN</td>\n",
       "      <td>NaN</td>\n",
       "      <td>NaN</td>\n",
       "      <td>NaN</td>\n",
       "      <td>NaN</td>\n",
       "      <td>NaN</td>\n",
       "      <td>NaN</td>\n",
       "    </tr>\n",
       "    <tr>\n",
       "      <th>Type</th>\n",
       "      <td>77</td>\n",
       "      <td>2</td>\n",
       "      <td>C</td>\n",
       "      <td>74</td>\n",
       "      <td>NaN</td>\n",
       "      <td>NaN</td>\n",
       "      <td>NaN</td>\n",
       "      <td>NaN</td>\n",
       "      <td>NaN</td>\n",
       "      <td>NaN</td>\n",
       "      <td>NaN</td>\n",
       "    </tr>\n",
       "    <tr>\n",
       "      <th>Calories</th>\n",
       "      <td>77</td>\n",
       "      <td>NaN</td>\n",
       "      <td>NaN</td>\n",
       "      <td>NaN</td>\n",
       "      <td>106.883</td>\n",
       "      <td>19.4841</td>\n",
       "      <td>50</td>\n",
       "      <td>100</td>\n",
       "      <td>110</td>\n",
       "      <td>110</td>\n",
       "      <td>160</td>\n",
       "    </tr>\n",
       "    <tr>\n",
       "      <th>Protein</th>\n",
       "      <td>77</td>\n",
       "      <td>NaN</td>\n",
       "      <td>NaN</td>\n",
       "      <td>NaN</td>\n",
       "      <td>2.54545</td>\n",
       "      <td>1.09479</td>\n",
       "      <td>1</td>\n",
       "      <td>2</td>\n",
       "      <td>3</td>\n",
       "      <td>3</td>\n",
       "      <td>6</td>\n",
       "    </tr>\n",
       "    <tr>\n",
       "      <th>Fat</th>\n",
       "      <td>77</td>\n",
       "      <td>NaN</td>\n",
       "      <td>NaN</td>\n",
       "      <td>NaN</td>\n",
       "      <td>1.01299</td>\n",
       "      <td>1.00647</td>\n",
       "      <td>0</td>\n",
       "      <td>0</td>\n",
       "      <td>1</td>\n",
       "      <td>2</td>\n",
       "      <td>5</td>\n",
       "    </tr>\n",
       "    <tr>\n",
       "      <th>Sodium</th>\n",
       "      <td>77</td>\n",
       "      <td>NaN</td>\n",
       "      <td>NaN</td>\n",
       "      <td>NaN</td>\n",
       "      <td>159.675</td>\n",
       "      <td>83.8323</td>\n",
       "      <td>0</td>\n",
       "      <td>130</td>\n",
       "      <td>180</td>\n",
       "      <td>210</td>\n",
       "      <td>320</td>\n",
       "    </tr>\n",
       "    <tr>\n",
       "      <th>Fiber</th>\n",
       "      <td>77</td>\n",
       "      <td>NaN</td>\n",
       "      <td>NaN</td>\n",
       "      <td>NaN</td>\n",
       "      <td>2.15195</td>\n",
       "      <td>2.38336</td>\n",
       "      <td>0</td>\n",
       "      <td>1</td>\n",
       "      <td>2</td>\n",
       "      <td>3</td>\n",
       "      <td>14</td>\n",
       "    </tr>\n",
       "    <tr>\n",
       "      <th>Carbohydrates</th>\n",
       "      <td>77</td>\n",
       "      <td>NaN</td>\n",
       "      <td>NaN</td>\n",
       "      <td>NaN</td>\n",
       "      <td>14.5974</td>\n",
       "      <td>4.27896</td>\n",
       "      <td>-1</td>\n",
       "      <td>12</td>\n",
       "      <td>14</td>\n",
       "      <td>17</td>\n",
       "      <td>23</td>\n",
       "    </tr>\n",
       "    <tr>\n",
       "      <th>Sugars</th>\n",
       "      <td>77</td>\n",
       "      <td>NaN</td>\n",
       "      <td>NaN</td>\n",
       "      <td>NaN</td>\n",
       "      <td>6.92208</td>\n",
       "      <td>4.44489</td>\n",
       "      <td>-1</td>\n",
       "      <td>3</td>\n",
       "      <td>7</td>\n",
       "      <td>11</td>\n",
       "      <td>15</td>\n",
       "    </tr>\n",
       "    <tr>\n",
       "      <th>Potassium</th>\n",
       "      <td>77</td>\n",
       "      <td>NaN</td>\n",
       "      <td>NaN</td>\n",
       "      <td>NaN</td>\n",
       "      <td>96.0779</td>\n",
       "      <td>71.2868</td>\n",
       "      <td>-1</td>\n",
       "      <td>40</td>\n",
       "      <td>90</td>\n",
       "      <td>120</td>\n",
       "      <td>330</td>\n",
       "    </tr>\n",
       "    <tr>\n",
       "      <th>Vitamins</th>\n",
       "      <td>77</td>\n",
       "      <td>NaN</td>\n",
       "      <td>NaN</td>\n",
       "      <td>NaN</td>\n",
       "      <td>28.2468</td>\n",
       "      <td>22.3425</td>\n",
       "      <td>0</td>\n",
       "      <td>25</td>\n",
       "      <td>25</td>\n",
       "      <td>25</td>\n",
       "      <td>100</td>\n",
       "    </tr>\n",
       "    <tr>\n",
       "      <th>Shelf</th>\n",
       "      <td>77</td>\n",
       "      <td>NaN</td>\n",
       "      <td>NaN</td>\n",
       "      <td>NaN</td>\n",
       "      <td>2.20779</td>\n",
       "      <td>0.832524</td>\n",
       "      <td>1</td>\n",
       "      <td>1</td>\n",
       "      <td>2</td>\n",
       "      <td>3</td>\n",
       "      <td>3</td>\n",
       "    </tr>\n",
       "    <tr>\n",
       "      <th>Weight</th>\n",
       "      <td>77</td>\n",
       "      <td>NaN</td>\n",
       "      <td>NaN</td>\n",
       "      <td>NaN</td>\n",
       "      <td>1.02961</td>\n",
       "      <td>0.150477</td>\n",
       "      <td>0.5</td>\n",
       "      <td>1</td>\n",
       "      <td>1</td>\n",
       "      <td>1</td>\n",
       "      <td>1.5</td>\n",
       "    </tr>\n",
       "    <tr>\n",
       "      <th>Cups</th>\n",
       "      <td>77</td>\n",
       "      <td>NaN</td>\n",
       "      <td>NaN</td>\n",
       "      <td>NaN</td>\n",
       "      <td>0.821039</td>\n",
       "      <td>0.232716</td>\n",
       "      <td>0.25</td>\n",
       "      <td>0.67</td>\n",
       "      <td>0.75</td>\n",
       "      <td>1</td>\n",
       "      <td>1.5</td>\n",
       "    </tr>\n",
       "    <tr>\n",
       "      <th>Rating</th>\n",
       "      <td>77</td>\n",
       "      <td>NaN</td>\n",
       "      <td>NaN</td>\n",
       "      <td>NaN</td>\n",
       "      <td>42.6657</td>\n",
       "      <td>14.0473</td>\n",
       "      <td>18.0429</td>\n",
       "      <td>33.1741</td>\n",
       "      <td>40.4002</td>\n",
       "      <td>50.8284</td>\n",
       "      <td>93.7049</td>\n",
       "    </tr>\n",
       "  </tbody>\n",
       "</table>\n",
       "</div>"
      ],
      "text/plain": [
       "              count unique                     top freq      mean       std  \\\n",
       "Name             77     77  Cream of Wheat (Quick)    1       NaN       NaN   \n",
       "Manufacturer     77      7                       K   23       NaN       NaN   \n",
       "Type             77      2                       C   74       NaN       NaN   \n",
       "Calories         77    NaN                     NaN  NaN   106.883   19.4841   \n",
       "Protein          77    NaN                     NaN  NaN   2.54545   1.09479   \n",
       "Fat              77    NaN                     NaN  NaN   1.01299   1.00647   \n",
       "Sodium           77    NaN                     NaN  NaN   159.675   83.8323   \n",
       "Fiber            77    NaN                     NaN  NaN   2.15195   2.38336   \n",
       "Carbohydrates    77    NaN                     NaN  NaN   14.5974   4.27896   \n",
       "Sugars           77    NaN                     NaN  NaN   6.92208   4.44489   \n",
       "Potassium        77    NaN                     NaN  NaN   96.0779   71.2868   \n",
       "Vitamins         77    NaN                     NaN  NaN   28.2468   22.3425   \n",
       "Shelf            77    NaN                     NaN  NaN   2.20779  0.832524   \n",
       "Weight           77    NaN                     NaN  NaN   1.02961  0.150477   \n",
       "Cups             77    NaN                     NaN  NaN  0.821039  0.232716   \n",
       "Rating           77    NaN                     NaN  NaN   42.6657   14.0473   \n",
       "\n",
       "                   min      25%      50%      75%      max  \n",
       "Name               NaN      NaN      NaN      NaN      NaN  \n",
       "Manufacturer       NaN      NaN      NaN      NaN      NaN  \n",
       "Type               NaN      NaN      NaN      NaN      NaN  \n",
       "Calories            50      100      110      110      160  \n",
       "Protein              1        2        3        3        6  \n",
       "Fat                  0        0        1        2        5  \n",
       "Sodium               0      130      180      210      320  \n",
       "Fiber                0        1        2        3       14  \n",
       "Carbohydrates       -1       12       14       17       23  \n",
       "Sugars              -1        3        7       11       15  \n",
       "Potassium           -1       40       90      120      330  \n",
       "Vitamins             0       25       25       25      100  \n",
       "Shelf                1        1        2        3        3  \n",
       "Weight             0.5        1        1        1      1.5  \n",
       "Cups              0.25     0.67     0.75        1      1.5  \n",
       "Rating         18.0429  33.1741  40.4002  50.8284  93.7049  "
      ]
     },
     "execution_count": 10,
     "metadata": {},
     "output_type": "execute_result"
    }
   ],
   "source": [
    "df.describe(include=\"all\").T"
   ]
  },
  {
   "cell_type": "markdown",
   "metadata": {
    "papermill": {
     "duration": 0.031635,
     "end_time": "2020-12-30T13:11:10.076147",
     "exception": false,
     "start_time": "2020-12-30T13:11:10.044512",
     "status": "completed"
    },
    "tags": []
   },
   "source": [
    "However it is not possible to have negative *carbohydrates*, *sugars* or *potassium*, instead I will change these to 0:"
   ]
  },
  {
   "cell_type": "code",
   "execution_count": 11,
   "metadata": {
    "execution": {
     "iopub.execute_input": "2020-12-30T13:11:10.159678Z",
     "iopub.status.busy": "2020-12-30T13:11:10.151858Z",
     "iopub.status.idle": "2020-12-30T13:11:10.163145Z",
     "shell.execute_reply": "2020-12-30T13:11:10.162511Z"
    },
    "papermill": {
     "duration": 0.055071,
     "end_time": "2020-12-30T13:11:10.163257",
     "exception": false,
     "start_time": "2020-12-30T13:11:10.108186",
     "status": "completed"
    },
    "tags": []
   },
   "outputs": [],
   "source": [
    "df.loc[(df[\"Carbohydrates\"]<0)|(df[\"Sugars\"]<0)|(df[\"Potassium\"]<0)]=df.loc[(df[\"Carbohydrates\"]<0)|(df[\"Sugars\"]<0)|(df[\"Potassium\"]<0)].replace(-1,0)"
   ]
  },
  {
   "cell_type": "code",
   "execution_count": 48,
   "metadata": {
    "execution": {
     "iopub.execute_input": "2020-12-30T13:11:10.236850Z",
     "iopub.status.busy": "2020-12-30T13:11:10.236104Z",
     "iopub.status.idle": "2020-12-30T13:11:11.727320Z",
     "shell.execute_reply": "2020-12-30T13:11:11.726680Z"
    },
    "papermill": {
     "duration": 1.531571,
     "end_time": "2020-12-30T13:11:11.727474",
     "exception": false,
     "start_time": "2020-12-30T13:11:10.195903",
     "status": "completed"
    },
    "scrolled": false,
    "tags": []
   },
   "outputs": [
    {
     "data": {
      "application/vnd.plotly.v1+json": {
       "config": {
        "plotlyServerURL": "https://plot.ly"
       },
       "data": [
        {
         "alignmentgroup": "True",
         "customdata": [
          [
           "Cap'n'Crunch"
          ],
          [
           "Cinnamon Toast Crunch"
          ],
          [
           "Honey Graham Ohs"
          ],
          [
           "Count Chocula"
          ],
          [
           "Cocoa Puffs"
          ],
          [
           "Golden Grahams"
          ],
          [
           "Lucky Charms"
          ],
          [
           "Trix"
          ],
          [
           "Fruity Pebbles"
          ],
          [
           "Total Raisin Bran"
          ],
          [
           "Honey-comb"
          ],
          [
           "Apple Cinnamon Cheerios"
          ],
          [
           "Nut&Honey Crunch"
          ],
          [
           "Mueslix Crispy Blend"
          ],
          [
           "Oatmeal Raisin Crisp"
          ],
          [
           "Honey Nut Cheerios"
          ],
          [
           "Smacks"
          ],
          [
           "Frosted Flakes"
          ],
          [
           "Froot Loops"
          ],
          [
           "Apple Jacks"
          ],
          [
           "100% Natural Bran"
          ],
          [
           "Muesli Raisins; Peaches; & Pecans"
          ],
          [
           "Almond Delight"
          ],
          [
           "Golden Crisp"
          ],
          [
           "Corn Pops"
          ],
          [
           "Crispy Wheat & Raisins"
          ],
          [
           "Wheaties Honey Gold"
          ],
          [
           "Just Right Fruit & Nut"
          ],
          [
           "Just Right Crunchy  Nuggets"
          ],
          [
           "Basic 4"
          ],
          [
           "Muesli Raisins; Dates; & Almonds"
          ],
          [
           "Post Nat. Raisin Bran"
          ],
          [
           "Total Corn Flakes"
          ],
          [
           "Triples"
          ],
          [
           "Kix"
          ],
          [
           "Raisin Bran"
          ],
          [
           "Raisin Nut Bran"
          ],
          [
           "Multi-Grain Cheerios"
          ],
          [
           "Clusters"
          ],
          [
           "Cracklin' Oat Bran"
          ],
          [
           "Rice Krispies"
          ],
          [
           "Nutri-Grain Almond-Raisin"
          ],
          [
           "Fruit & Fibre Dates; Walnuts; and Oats"
          ],
          [
           "Fruitful Bran"
          ],
          [
           "Corn Chex"
          ],
          [
           "Product 19"
          ],
          [
           "Rice Chex"
          ],
          [
           "Double Chex"
          ],
          [
           "Life"
          ],
          [
           "Great Grains Pecan"
          ],
          [
           "Corn Flakes"
          ],
          [
           "Total Whole Grain"
          ],
          [
           "Crispix"
          ],
          [
           "Bran Chex"
          ],
          [
           "Quaker Oat Squares"
          ],
          [
           "Wheat Chex"
          ],
          [
           "Cheerios"
          ],
          [
           "Quaker Oatmeal"
          ],
          [
           "Wheaties"
          ],
          [
           "Grape Nuts Flakes"
          ],
          [
           "Special K"
          ],
          [
           "Bran Flakes"
          ],
          [
           "Grape-Nuts"
          ],
          [
           "Maypo"
          ],
          [
           "Raisin Squares"
          ],
          [
           "Frosted Mini-Wheats"
          ],
          [
           "Strawberry Fruit Wheats"
          ],
          [
           "All-Bran"
          ],
          [
           "Nutri-grain Wheat"
          ],
          [
           "Puffed Rice"
          ],
          [
           "Puffed Wheat"
          ],
          [
           "Cream of Wheat (Quick)"
          ],
          [
           "Shredded Wheat"
          ],
          [
           "100% Bran"
          ],
          [
           "Shredded Wheat spoon size"
          ],
          [
           "Shredded Wheat 'n'Bran"
          ],
          [
           "All-Bran with Extra Fiber"
          ]
         ],
         "hovertemplate": "<b>%{hovertext}</b><br><br>Rating (%)=%{marker.color}<extra></extra>",
         "hovertext": [
          "Cap'n'Crunch",
          "Cinnamon Toast Crunch",
          "Honey Graham Ohs",
          "Count Chocula",
          "Cocoa Puffs",
          "Golden Grahams",
          "Lucky Charms",
          "Trix",
          "Fruity Pebbles",
          "Total Raisin Bran",
          "Honey-comb",
          "Apple Cinnamon Cheerios",
          "Nut&Honey Crunch",
          "Mueslix Crispy Blend",
          "Oatmeal Raisin Crisp",
          "Honey Nut Cheerios",
          "Smacks",
          "Frosted Flakes",
          "Froot Loops",
          "Apple Jacks",
          "100% Natural Bran",
          "Muesli Raisins; Peaches; & Pecans",
          "Almond Delight",
          "Golden Crisp",
          "Corn Pops",
          "Crispy Wheat & Raisins",
          "Wheaties Honey Gold",
          "Just Right Fruit & Nut",
          "Just Right Crunchy  Nuggets",
          "Basic 4",
          "Muesli Raisins; Dates; & Almonds",
          "Post Nat. Raisin Bran",
          "Total Corn Flakes",
          "Triples",
          "Kix",
          "Raisin Bran",
          "Raisin Nut Bran",
          "Multi-Grain Cheerios",
          "Clusters",
          "Cracklin' Oat Bran",
          "Rice Krispies",
          "Nutri-Grain Almond-Raisin",
          "Fruit & Fibre Dates; Walnuts; and Oats",
          "Fruitful Bran",
          "Corn Chex",
          "Product 19",
          "Rice Chex",
          "Double Chex",
          "Life",
          "Great Grains Pecan",
          "Corn Flakes",
          "Total Whole Grain",
          "Crispix",
          "Bran Chex",
          "Quaker Oat Squares",
          "Wheat Chex",
          "Cheerios",
          "Quaker Oatmeal",
          "Wheaties",
          "Grape Nuts Flakes",
          "Special K",
          "Bran Flakes",
          "Grape-Nuts",
          "Maypo",
          "Raisin Squares",
          "Frosted Mini-Wheats",
          "Strawberry Fruit Wheats",
          "All-Bran",
          "Nutri-grain Wheat",
          "Puffed Rice",
          "Puffed Wheat",
          "Cream of Wheat (Quick)",
          "Shredded Wheat",
          "100% Bran",
          "Shredded Wheat spoon size",
          "Shredded Wheat 'n'Bran",
          "All-Bran with Extra Fiber"
         ],
         "legendgroup": "",
         "marker": {
          "color": [
           18.042851000000002,
           19.823573,
           21.871292,
           22.396513,
           22.736446,
           23.804043,
           26.734515000000002,
           27.753301,
           28.025765000000003,
           28.592785,
           28.742414,
           29.509541,
           29.924284999999998,
           30.313351,
           30.450843,
           31.072217,
           31.230054,
           31.435972999999997,
           32.207582,
           33.174094000000004,
           33.983678999999995,
           34.139765000000004,
           34.384843,
           35.252444,
           35.782790999999996,
           36.176196000000004,
           36.187559,
           36.471512,
           36.523683,
           37.038562,
           37.136863,
           37.840594,
           38.839746000000005,
           39.106173999999996,
           39.241114,
           39.259197,
           39.7034,
           40.105965000000005,
           40.400208,
           40.448772,
           40.560159000000006,
           40.69232,
           40.917047,
           41.015492,
           41.445019,
           41.50354,
           41.998933,
           44.330856,
           45.328074,
           45.811716,
           45.863324,
           46.658844,
           46.895644,
           49.120253000000005,
           49.511874,
           49.787445,
           50.764998999999996,
           50.828392,
           51.592193,
           52.076896999999995,
           53.131324,
           53.313813,
           53.37100699999999,
           54.850917,
           55.333142,
           58.345141000000005,
           59.36399300000001,
           59.425505,
           59.642837,
           60.756112,
           63.005644999999994,
           64.533816,
           68.235885,
           68.402973,
           72.801787,
           74.472949,
           93.704912
          ],
          "coloraxis": "coloraxis"
         },
         "name": "",
         "offsetgroup": "",
         "orientation": "h",
         "showlegend": false,
         "textposition": "auto",
         "type": "bar",
         "x": [
          18.042851000000002,
          19.823573,
          21.871292,
          22.396513,
          22.736446,
          23.804043,
          26.734515000000002,
          27.753301,
          28.025765000000003,
          28.592785,
          28.742414,
          29.509541,
          29.924284999999998,
          30.313351,
          30.450843,
          31.072217,
          31.230054,
          31.435972999999997,
          32.207582,
          33.174094000000004,
          33.983678999999995,
          34.139765000000004,
          34.384843,
          35.252444,
          35.782790999999996,
          36.176196000000004,
          36.187559,
          36.471512,
          36.523683,
          37.038562,
          37.136863,
          37.840594,
          38.839746000000005,
          39.106173999999996,
          39.241114,
          39.259197,
          39.7034,
          40.105965000000005,
          40.400208,
          40.448772,
          40.560159000000006,
          40.69232,
          40.917047,
          41.015492,
          41.445019,
          41.50354,
          41.998933,
          44.330856,
          45.328074,
          45.811716,
          45.863324,
          46.658844,
          46.895644,
          49.120253000000005,
          49.511874,
          49.787445,
          50.764998999999996,
          50.828392,
          51.592193,
          52.076896999999995,
          53.131324,
          53.313813,
          53.37100699999999,
          54.850917,
          55.333142,
          58.345141000000005,
          59.36399300000001,
          59.425505,
          59.642837,
          60.756112,
          63.005644999999994,
          64.533816,
          68.235885,
          68.402973,
          72.801787,
          74.472949,
          93.704912
         ],
         "xaxis": "x",
         "y": [
          "Cap'n'Crunch",
          "Cinnamon Toast Crunch",
          "Honey Graham Ohs",
          "Count Chocula",
          "Cocoa Puffs",
          "Golden Grahams",
          "Lucky Charms",
          "Trix",
          "Fruity Pebbles",
          "Total Raisin Bran",
          "Honey-comb",
          "Apple Cinnamon Cheerios",
          "Nut&Honey Crunch",
          "Mueslix Crispy Blend",
          "Oatmeal Raisin Crisp",
          "Honey Nut Cheerios",
          "Smacks",
          "Frosted Flakes",
          "Froot Loops",
          "Apple Jacks",
          "100% Natural Bran",
          "Muesli Raisins; Peaches; & Pecans",
          "Almond Delight",
          "Golden Crisp",
          "Corn Pops",
          "Crispy Wheat & Raisins",
          "Wheaties Honey Gold",
          "Just Right Fruit & Nut",
          "Just Right Crunchy  Nuggets",
          "Basic 4",
          "Muesli Raisins; Dates; & Almonds",
          "Post Nat. Raisin Bran",
          "Total Corn Flakes",
          "Triples",
          "Kix",
          "Raisin Bran",
          "Raisin Nut Bran",
          "Multi-Grain Cheerios",
          "Clusters",
          "Cracklin' Oat Bran",
          "Rice Krispies",
          "Nutri-Grain Almond-Raisin",
          "Fruit & Fibre Dates; Walnuts; and Oats",
          "Fruitful Bran",
          "Corn Chex",
          "Product 19",
          "Rice Chex",
          "Double Chex",
          "Life",
          "Great Grains Pecan",
          "Corn Flakes",
          "Total Whole Grain",
          "Crispix",
          "Bran Chex",
          "Quaker Oat Squares",
          "Wheat Chex",
          "Cheerios",
          "Quaker Oatmeal",
          "Wheaties",
          "Grape Nuts Flakes",
          "Special K",
          "Bran Flakes",
          "Grape-Nuts",
          "Maypo",
          "Raisin Squares",
          "Frosted Mini-Wheats",
          "Strawberry Fruit Wheats",
          "All-Bran",
          "Nutri-grain Wheat",
          "Puffed Rice",
          "Puffed Wheat",
          "Cream of Wheat (Quick)",
          "Shredded Wheat",
          "100% Bran",
          "Shredded Wheat spoon size",
          "Shredded Wheat 'n'Bran",
          "All-Bran with Extra Fiber"
         ],
         "yaxis": "y"
        }
       ],
       "layout": {
        "barmode": "relative",
        "coloraxis": {
         "colorbar": {
          "title": {
           "text": "Rating (%)"
          }
         },
         "colorscale": [
          [
           0,
           "rgb(176, 242, 188)"
          ],
          [
           0.16666666666666666,
           "rgb(137, 232, 172)"
          ],
          [
           0.3333333333333333,
           "rgb(103, 219, 165)"
          ],
          [
           0.5,
           "rgb(76, 200, 163)"
          ],
          [
           0.6666666666666666,
           "rgb(56, 178, 163)"
          ],
          [
           0.8333333333333334,
           "rgb(44, 152, 160)"
          ],
          [
           1,
           "rgb(37, 125, 152)"
          ]
         ]
        },
        "legend": {
         "tracegroupgap": 0
        },
        "margin": {
         "t": 60
        },
        "template": {
         "data": {
          "bar": [
           {
            "error_x": {
             "color": "#2a3f5f"
            },
            "error_y": {
             "color": "#2a3f5f"
            },
            "marker": {
             "line": {
              "color": "#E5ECF6",
              "width": 0.5
             }
            },
            "type": "bar"
           }
          ],
          "barpolar": [
           {
            "marker": {
             "line": {
              "color": "#E5ECF6",
              "width": 0.5
             }
            },
            "type": "barpolar"
           }
          ],
          "carpet": [
           {
            "aaxis": {
             "endlinecolor": "#2a3f5f",
             "gridcolor": "white",
             "linecolor": "white",
             "minorgridcolor": "white",
             "startlinecolor": "#2a3f5f"
            },
            "baxis": {
             "endlinecolor": "#2a3f5f",
             "gridcolor": "white",
             "linecolor": "white",
             "minorgridcolor": "white",
             "startlinecolor": "#2a3f5f"
            },
            "type": "carpet"
           }
          ],
          "choropleth": [
           {
            "colorbar": {
             "outlinewidth": 0,
             "ticks": ""
            },
            "type": "choropleth"
           }
          ],
          "contour": [
           {
            "colorbar": {
             "outlinewidth": 0,
             "ticks": ""
            },
            "colorscale": [
             [
              0,
              "#0d0887"
             ],
             [
              0.1111111111111111,
              "#46039f"
             ],
             [
              0.2222222222222222,
              "#7201a8"
             ],
             [
              0.3333333333333333,
              "#9c179e"
             ],
             [
              0.4444444444444444,
              "#bd3786"
             ],
             [
              0.5555555555555556,
              "#d8576b"
             ],
             [
              0.6666666666666666,
              "#ed7953"
             ],
             [
              0.7777777777777778,
              "#fb9f3a"
             ],
             [
              0.8888888888888888,
              "#fdca26"
             ],
             [
              1,
              "#f0f921"
             ]
            ],
            "type": "contour"
           }
          ],
          "contourcarpet": [
           {
            "colorbar": {
             "outlinewidth": 0,
             "ticks": ""
            },
            "type": "contourcarpet"
           }
          ],
          "heatmap": [
           {
            "colorbar": {
             "outlinewidth": 0,
             "ticks": ""
            },
            "colorscale": [
             [
              0,
              "#0d0887"
             ],
             [
              0.1111111111111111,
              "#46039f"
             ],
             [
              0.2222222222222222,
              "#7201a8"
             ],
             [
              0.3333333333333333,
              "#9c179e"
             ],
             [
              0.4444444444444444,
              "#bd3786"
             ],
             [
              0.5555555555555556,
              "#d8576b"
             ],
             [
              0.6666666666666666,
              "#ed7953"
             ],
             [
              0.7777777777777778,
              "#fb9f3a"
             ],
             [
              0.8888888888888888,
              "#fdca26"
             ],
             [
              1,
              "#f0f921"
             ]
            ],
            "type": "heatmap"
           }
          ],
          "heatmapgl": [
           {
            "colorbar": {
             "outlinewidth": 0,
             "ticks": ""
            },
            "colorscale": [
             [
              0,
              "#0d0887"
             ],
             [
              0.1111111111111111,
              "#46039f"
             ],
             [
              0.2222222222222222,
              "#7201a8"
             ],
             [
              0.3333333333333333,
              "#9c179e"
             ],
             [
              0.4444444444444444,
              "#bd3786"
             ],
             [
              0.5555555555555556,
              "#d8576b"
             ],
             [
              0.6666666666666666,
              "#ed7953"
             ],
             [
              0.7777777777777778,
              "#fb9f3a"
             ],
             [
              0.8888888888888888,
              "#fdca26"
             ],
             [
              1,
              "#f0f921"
             ]
            ],
            "type": "heatmapgl"
           }
          ],
          "histogram": [
           {
            "marker": {
             "colorbar": {
              "outlinewidth": 0,
              "ticks": ""
             }
            },
            "type": "histogram"
           }
          ],
          "histogram2d": [
           {
            "colorbar": {
             "outlinewidth": 0,
             "ticks": ""
            },
            "colorscale": [
             [
              0,
              "#0d0887"
             ],
             [
              0.1111111111111111,
              "#46039f"
             ],
             [
              0.2222222222222222,
              "#7201a8"
             ],
             [
              0.3333333333333333,
              "#9c179e"
             ],
             [
              0.4444444444444444,
              "#bd3786"
             ],
             [
              0.5555555555555556,
              "#d8576b"
             ],
             [
              0.6666666666666666,
              "#ed7953"
             ],
             [
              0.7777777777777778,
              "#fb9f3a"
             ],
             [
              0.8888888888888888,
              "#fdca26"
             ],
             [
              1,
              "#f0f921"
             ]
            ],
            "type": "histogram2d"
           }
          ],
          "histogram2dcontour": [
           {
            "colorbar": {
             "outlinewidth": 0,
             "ticks": ""
            },
            "colorscale": [
             [
              0,
              "#0d0887"
             ],
             [
              0.1111111111111111,
              "#46039f"
             ],
             [
              0.2222222222222222,
              "#7201a8"
             ],
             [
              0.3333333333333333,
              "#9c179e"
             ],
             [
              0.4444444444444444,
              "#bd3786"
             ],
             [
              0.5555555555555556,
              "#d8576b"
             ],
             [
              0.6666666666666666,
              "#ed7953"
             ],
             [
              0.7777777777777778,
              "#fb9f3a"
             ],
             [
              0.8888888888888888,
              "#fdca26"
             ],
             [
              1,
              "#f0f921"
             ]
            ],
            "type": "histogram2dcontour"
           }
          ],
          "mesh3d": [
           {
            "colorbar": {
             "outlinewidth": 0,
             "ticks": ""
            },
            "type": "mesh3d"
           }
          ],
          "parcoords": [
           {
            "line": {
             "colorbar": {
              "outlinewidth": 0,
              "ticks": ""
             }
            },
            "type": "parcoords"
           }
          ],
          "pie": [
           {
            "automargin": true,
            "type": "pie"
           }
          ],
          "scatter": [
           {
            "marker": {
             "colorbar": {
              "outlinewidth": 0,
              "ticks": ""
             }
            },
            "type": "scatter"
           }
          ],
          "scatter3d": [
           {
            "line": {
             "colorbar": {
              "outlinewidth": 0,
              "ticks": ""
             }
            },
            "marker": {
             "colorbar": {
              "outlinewidth": 0,
              "ticks": ""
             }
            },
            "type": "scatter3d"
           }
          ],
          "scattercarpet": [
           {
            "marker": {
             "colorbar": {
              "outlinewidth": 0,
              "ticks": ""
             }
            },
            "type": "scattercarpet"
           }
          ],
          "scattergeo": [
           {
            "marker": {
             "colorbar": {
              "outlinewidth": 0,
              "ticks": ""
             }
            },
            "type": "scattergeo"
           }
          ],
          "scattergl": [
           {
            "marker": {
             "colorbar": {
              "outlinewidth": 0,
              "ticks": ""
             }
            },
            "type": "scattergl"
           }
          ],
          "scattermapbox": [
           {
            "marker": {
             "colorbar": {
              "outlinewidth": 0,
              "ticks": ""
             }
            },
            "type": "scattermapbox"
           }
          ],
          "scatterpolar": [
           {
            "marker": {
             "colorbar": {
              "outlinewidth": 0,
              "ticks": ""
             }
            },
            "type": "scatterpolar"
           }
          ],
          "scatterpolargl": [
           {
            "marker": {
             "colorbar": {
              "outlinewidth": 0,
              "ticks": ""
             }
            },
            "type": "scatterpolargl"
           }
          ],
          "scatterternary": [
           {
            "marker": {
             "colorbar": {
              "outlinewidth": 0,
              "ticks": ""
             }
            },
            "type": "scatterternary"
           }
          ],
          "surface": [
           {
            "colorbar": {
             "outlinewidth": 0,
             "ticks": ""
            },
            "colorscale": [
             [
              0,
              "#0d0887"
             ],
             [
              0.1111111111111111,
              "#46039f"
             ],
             [
              0.2222222222222222,
              "#7201a8"
             ],
             [
              0.3333333333333333,
              "#9c179e"
             ],
             [
              0.4444444444444444,
              "#bd3786"
             ],
             [
              0.5555555555555556,
              "#d8576b"
             ],
             [
              0.6666666666666666,
              "#ed7953"
             ],
             [
              0.7777777777777778,
              "#fb9f3a"
             ],
             [
              0.8888888888888888,
              "#fdca26"
             ],
             [
              1,
              "#f0f921"
             ]
            ],
            "type": "surface"
           }
          ],
          "table": [
           {
            "cells": {
             "fill": {
              "color": "#EBF0F8"
             },
             "line": {
              "color": "white"
             }
            },
            "header": {
             "fill": {
              "color": "#C8D4E3"
             },
             "line": {
              "color": "white"
             }
            },
            "type": "table"
           }
          ]
         },
         "layout": {
          "annotationdefaults": {
           "arrowcolor": "#2a3f5f",
           "arrowhead": 0,
           "arrowwidth": 1
          },
          "coloraxis": {
           "colorbar": {
            "outlinewidth": 0,
            "ticks": ""
           }
          },
          "colorscale": {
           "diverging": [
            [
             0,
             "#8e0152"
            ],
            [
             0.1,
             "#c51b7d"
            ],
            [
             0.2,
             "#de77ae"
            ],
            [
             0.3,
             "#f1b6da"
            ],
            [
             0.4,
             "#fde0ef"
            ],
            [
             0.5,
             "#f7f7f7"
            ],
            [
             0.6,
             "#e6f5d0"
            ],
            [
             0.7,
             "#b8e186"
            ],
            [
             0.8,
             "#7fbc41"
            ],
            [
             0.9,
             "#4d9221"
            ],
            [
             1,
             "#276419"
            ]
           ],
           "sequential": [
            [
             0,
             "#0d0887"
            ],
            [
             0.1111111111111111,
             "#46039f"
            ],
            [
             0.2222222222222222,
             "#7201a8"
            ],
            [
             0.3333333333333333,
             "#9c179e"
            ],
            [
             0.4444444444444444,
             "#bd3786"
            ],
            [
             0.5555555555555556,
             "#d8576b"
            ],
            [
             0.6666666666666666,
             "#ed7953"
            ],
            [
             0.7777777777777778,
             "#fb9f3a"
            ],
            [
             0.8888888888888888,
             "#fdca26"
            ],
            [
             1,
             "#f0f921"
            ]
           ],
           "sequentialminus": [
            [
             0,
             "#0d0887"
            ],
            [
             0.1111111111111111,
             "#46039f"
            ],
            [
             0.2222222222222222,
             "#7201a8"
            ],
            [
             0.3333333333333333,
             "#9c179e"
            ],
            [
             0.4444444444444444,
             "#bd3786"
            ],
            [
             0.5555555555555556,
             "#d8576b"
            ],
            [
             0.6666666666666666,
             "#ed7953"
            ],
            [
             0.7777777777777778,
             "#fb9f3a"
            ],
            [
             0.8888888888888888,
             "#fdca26"
            ],
            [
             1,
             "#f0f921"
            ]
           ]
          },
          "colorway": [
           "#636efa",
           "#EF553B",
           "#00cc96",
           "#ab63fa",
           "#FFA15A",
           "#19d3f3",
           "#FF6692",
           "#B6E880",
           "#FF97FF",
           "#FECB52"
          ],
          "font": {
           "color": "#2a3f5f"
          },
          "geo": {
           "bgcolor": "white",
           "lakecolor": "white",
           "landcolor": "#E5ECF6",
           "showlakes": true,
           "showland": true,
           "subunitcolor": "white"
          },
          "hoverlabel": {
           "align": "left"
          },
          "hovermode": "closest",
          "mapbox": {
           "style": "light"
          },
          "paper_bgcolor": "white",
          "plot_bgcolor": "#E5ECF6",
          "polar": {
           "angularaxis": {
            "gridcolor": "white",
            "linecolor": "white",
            "ticks": ""
           },
           "bgcolor": "#E5ECF6",
           "radialaxis": {
            "gridcolor": "white",
            "linecolor": "white",
            "ticks": ""
           }
          },
          "scene": {
           "xaxis": {
            "backgroundcolor": "#E5ECF6",
            "gridcolor": "white",
            "gridwidth": 2,
            "linecolor": "white",
            "showbackground": true,
            "ticks": "",
            "zerolinecolor": "white"
           },
           "yaxis": {
            "backgroundcolor": "#E5ECF6",
            "gridcolor": "white",
            "gridwidth": 2,
            "linecolor": "white",
            "showbackground": true,
            "ticks": "",
            "zerolinecolor": "white"
           },
           "zaxis": {
            "backgroundcolor": "#E5ECF6",
            "gridcolor": "white",
            "gridwidth": 2,
            "linecolor": "white",
            "showbackground": true,
            "ticks": "",
            "zerolinecolor": "white"
           }
          },
          "shapedefaults": {
           "line": {
            "color": "#2a3f5f"
           }
          },
          "ternary": {
           "aaxis": {
            "gridcolor": "white",
            "linecolor": "white",
            "ticks": ""
           },
           "baxis": {
            "gridcolor": "white",
            "linecolor": "white",
            "ticks": ""
           },
           "bgcolor": "#E5ECF6",
           "caxis": {
            "gridcolor": "white",
            "linecolor": "white",
            "ticks": ""
           }
          },
          "title": {
           "x": 0.05
          },
          "xaxis": {
           "automargin": true,
           "gridcolor": "white",
           "linecolor": "white",
           "ticks": "",
           "title": {
            "standoff": 15
           },
           "zerolinecolor": "white",
           "zerolinewidth": 2
          },
          "yaxis": {
           "automargin": true,
           "gridcolor": "white",
           "linecolor": "white",
           "ticks": "",
           "title": {
            "standoff": 15
           },
           "zerolinecolor": "white",
           "zerolinewidth": 2
          }
         }
        },
        "xaxis": {
         "anchor": "y",
         "domain": [
          0,
          1
         ],
         "title": {
          "text": "Rating (%)"
         }
        },
        "yaxis": {
         "anchor": "x",
         "domain": [
          0,
          1
         ],
         "title": {
          "text": ""
         }
        }
       }
      },
      "text/html": [
       "<div>                            <div id=\"f1040b4c-267a-4adc-b2b4-cc75a5342d1c\" class=\"plotly-graph-div\" style=\"height:525px; width:100%;\"></div>            <script type=\"text/javascript\">                require([\"plotly\"], function(Plotly) {                    window.PLOTLYENV=window.PLOTLYENV || {};                                    if (document.getElementById(\"f1040b4c-267a-4adc-b2b4-cc75a5342d1c\")) {                    Plotly.newPlot(                        \"f1040b4c-267a-4adc-b2b4-cc75a5342d1c\",                        [{\"alignmentgroup\": \"True\", \"customdata\": [[\"Cap'n'Crunch\"], [\"Cinnamon Toast Crunch\"], [\"Honey Graham Ohs\"], [\"Count Chocula\"], [\"Cocoa Puffs\"], [\"Golden Grahams\"], [\"Lucky Charms\"], [\"Trix\"], [\"Fruity Pebbles\"], [\"Total Raisin Bran\"], [\"Honey-comb\"], [\"Apple Cinnamon Cheerios\"], [\"Nut&Honey Crunch\"], [\"Mueslix Crispy Blend\"], [\"Oatmeal Raisin Crisp\"], [\"Honey Nut Cheerios\"], [\"Smacks\"], [\"Frosted Flakes\"], [\"Froot Loops\"], [\"Apple Jacks\"], [\"100% Natural Bran\"], [\"Muesli Raisins; Peaches; & Pecans\"], [\"Almond Delight\"], [\"Golden Crisp\"], [\"Corn Pops\"], [\"Crispy Wheat & Raisins\"], [\"Wheaties Honey Gold\"], [\"Just Right Fruit & Nut\"], [\"Just Right Crunchy  Nuggets\"], [\"Basic 4\"], [\"Muesli Raisins; Dates; & Almonds\"], [\"Post Nat. Raisin Bran\"], [\"Total Corn Flakes\"], [\"Triples\"], [\"Kix\"], [\"Raisin Bran\"], [\"Raisin Nut Bran\"], [\"Multi-Grain Cheerios\"], [\"Clusters\"], [\"Cracklin' Oat Bran\"], [\"Rice Krispies\"], [\"Nutri-Grain Almond-Raisin\"], [\"Fruit & Fibre Dates; Walnuts; and Oats\"], [\"Fruitful Bran\"], [\"Corn Chex\"], [\"Product 19\"], [\"Rice Chex\"], [\"Double Chex\"], [\"Life\"], [\"Great Grains Pecan\"], [\"Corn Flakes\"], [\"Total Whole Grain\"], [\"Crispix\"], [\"Bran Chex\"], [\"Quaker Oat Squares\"], [\"Wheat Chex\"], [\"Cheerios\"], [\"Quaker Oatmeal\"], [\"Wheaties\"], [\"Grape Nuts Flakes\"], [\"Special K\"], [\"Bran Flakes\"], [\"Grape-Nuts\"], [\"Maypo\"], [\"Raisin Squares\"], [\"Frosted Mini-Wheats\"], [\"Strawberry Fruit Wheats\"], [\"All-Bran\"], [\"Nutri-grain Wheat\"], [\"Puffed Rice\"], [\"Puffed Wheat\"], [\"Cream of Wheat (Quick)\"], [\"Shredded Wheat\"], [\"100% Bran\"], [\"Shredded Wheat spoon size\"], [\"Shredded Wheat 'n'Bran\"], [\"All-Bran with Extra Fiber\"]], \"hovertemplate\": \"<b>%{hovertext}</b><br><br>Rating (%)=%{marker.color}<extra></extra>\", \"hovertext\": [\"Cap'n'Crunch\", \"Cinnamon Toast Crunch\", \"Honey Graham Ohs\", \"Count Chocula\", \"Cocoa Puffs\", \"Golden Grahams\", \"Lucky Charms\", \"Trix\", \"Fruity Pebbles\", \"Total Raisin Bran\", \"Honey-comb\", \"Apple Cinnamon Cheerios\", \"Nut&Honey Crunch\", \"Mueslix Crispy Blend\", \"Oatmeal Raisin Crisp\", \"Honey Nut Cheerios\", \"Smacks\", \"Frosted Flakes\", \"Froot Loops\", \"Apple Jacks\", \"100% Natural Bran\", \"Muesli Raisins; Peaches; & Pecans\", \"Almond Delight\", \"Golden Crisp\", \"Corn Pops\", \"Crispy Wheat & Raisins\", \"Wheaties Honey Gold\", \"Just Right Fruit & Nut\", \"Just Right Crunchy  Nuggets\", \"Basic 4\", \"Muesli Raisins; Dates; & Almonds\", \"Post Nat. Raisin Bran\", \"Total Corn Flakes\", \"Triples\", \"Kix\", \"Raisin Bran\", \"Raisin Nut Bran\", \"Multi-Grain Cheerios\", \"Clusters\", \"Cracklin' Oat Bran\", \"Rice Krispies\", \"Nutri-Grain Almond-Raisin\", \"Fruit & Fibre Dates; Walnuts; and Oats\", \"Fruitful Bran\", \"Corn Chex\", \"Product 19\", \"Rice Chex\", \"Double Chex\", \"Life\", \"Great Grains Pecan\", \"Corn Flakes\", \"Total Whole Grain\", \"Crispix\", \"Bran Chex\", \"Quaker Oat Squares\", \"Wheat Chex\", \"Cheerios\", \"Quaker Oatmeal\", \"Wheaties\", \"Grape Nuts Flakes\", \"Special K\", \"Bran Flakes\", \"Grape-Nuts\", \"Maypo\", \"Raisin Squares\", \"Frosted Mini-Wheats\", \"Strawberry Fruit Wheats\", \"All-Bran\", \"Nutri-grain Wheat\", \"Puffed Rice\", \"Puffed Wheat\", \"Cream of Wheat (Quick)\", \"Shredded Wheat\", \"100% Bran\", \"Shredded Wheat spoon size\", \"Shredded Wheat 'n'Bran\", \"All-Bran with Extra Fiber\"], \"legendgroup\": \"\", \"marker\": {\"color\": [18.042851000000002, 19.823573, 21.871292, 22.396513, 22.736446, 23.804043, 26.734515000000002, 27.753301, 28.025765000000003, 28.592785, 28.742414, 29.509541, 29.924284999999998, 30.313351, 30.450843, 31.072217, 31.230054, 31.435972999999997, 32.207582, 33.174094000000004, 33.983678999999995, 34.139765000000004, 34.384843, 35.252444, 35.782790999999996, 36.176196000000004, 36.187559, 36.471512, 36.523683, 37.038562, 37.136863, 37.840594, 38.839746000000005, 39.106173999999996, 39.241114, 39.259197, 39.7034, 40.105965000000005, 40.400208, 40.448772, 40.560159000000006, 40.69232, 40.917047, 41.015492, 41.445019, 41.50354, 41.998933, 44.330856, 45.328074, 45.811716, 45.863324, 46.658844, 46.895644, 49.120253000000005, 49.511874, 49.787445, 50.764998999999996, 50.828392, 51.592193, 52.076896999999995, 53.131324, 53.313813, 53.37100699999999, 54.850917, 55.333142, 58.345141000000005, 59.36399300000001, 59.425505, 59.642837, 60.756112, 63.005644999999994, 64.533816, 68.235885, 68.402973, 72.801787, 74.472949, 93.704912], \"coloraxis\": \"coloraxis\"}, \"name\": \"\", \"offsetgroup\": \"\", \"orientation\": \"h\", \"showlegend\": false, \"textposition\": \"auto\", \"type\": \"bar\", \"x\": [18.042851000000002, 19.823573, 21.871292, 22.396513, 22.736446, 23.804043, 26.734515000000002, 27.753301, 28.025765000000003, 28.592785, 28.742414, 29.509541, 29.924284999999998, 30.313351, 30.450843, 31.072217, 31.230054, 31.435972999999997, 32.207582, 33.174094000000004, 33.983678999999995, 34.139765000000004, 34.384843, 35.252444, 35.782790999999996, 36.176196000000004, 36.187559, 36.471512, 36.523683, 37.038562, 37.136863, 37.840594, 38.839746000000005, 39.106173999999996, 39.241114, 39.259197, 39.7034, 40.105965000000005, 40.400208, 40.448772, 40.560159000000006, 40.69232, 40.917047, 41.015492, 41.445019, 41.50354, 41.998933, 44.330856, 45.328074, 45.811716, 45.863324, 46.658844, 46.895644, 49.120253000000005, 49.511874, 49.787445, 50.764998999999996, 50.828392, 51.592193, 52.076896999999995, 53.131324, 53.313813, 53.37100699999999, 54.850917, 55.333142, 58.345141000000005, 59.36399300000001, 59.425505, 59.642837, 60.756112, 63.005644999999994, 64.533816, 68.235885, 68.402973, 72.801787, 74.472949, 93.704912], \"xaxis\": \"x\", \"y\": [\"Cap'n'Crunch\", \"Cinnamon Toast Crunch\", \"Honey Graham Ohs\", \"Count Chocula\", \"Cocoa Puffs\", \"Golden Grahams\", \"Lucky Charms\", \"Trix\", \"Fruity Pebbles\", \"Total Raisin Bran\", \"Honey-comb\", \"Apple Cinnamon Cheerios\", \"Nut&Honey Crunch\", \"Mueslix Crispy Blend\", \"Oatmeal Raisin Crisp\", \"Honey Nut Cheerios\", \"Smacks\", \"Frosted Flakes\", \"Froot Loops\", \"Apple Jacks\", \"100% Natural Bran\", \"Muesli Raisins; Peaches; & Pecans\", \"Almond Delight\", \"Golden Crisp\", \"Corn Pops\", \"Crispy Wheat & Raisins\", \"Wheaties Honey Gold\", \"Just Right Fruit & Nut\", \"Just Right Crunchy  Nuggets\", \"Basic 4\", \"Muesli Raisins; Dates; & Almonds\", \"Post Nat. Raisin Bran\", \"Total Corn Flakes\", \"Triples\", \"Kix\", \"Raisin Bran\", \"Raisin Nut Bran\", \"Multi-Grain Cheerios\", \"Clusters\", \"Cracklin' Oat Bran\", \"Rice Krispies\", \"Nutri-Grain Almond-Raisin\", \"Fruit & Fibre Dates; Walnuts; and Oats\", \"Fruitful Bran\", \"Corn Chex\", \"Product 19\", \"Rice Chex\", \"Double Chex\", \"Life\", \"Great Grains Pecan\", \"Corn Flakes\", \"Total Whole Grain\", \"Crispix\", \"Bran Chex\", \"Quaker Oat Squares\", \"Wheat Chex\", \"Cheerios\", \"Quaker Oatmeal\", \"Wheaties\", \"Grape Nuts Flakes\", \"Special K\", \"Bran Flakes\", \"Grape-Nuts\", \"Maypo\", \"Raisin Squares\", \"Frosted Mini-Wheats\", \"Strawberry Fruit Wheats\", \"All-Bran\", \"Nutri-grain Wheat\", \"Puffed Rice\", \"Puffed Wheat\", \"Cream of Wheat (Quick)\", \"Shredded Wheat\", \"100% Bran\", \"Shredded Wheat spoon size\", \"Shredded Wheat 'n'Bran\", \"All-Bran with Extra Fiber\"], \"yaxis\": \"y\"}],                        {\"barmode\": \"relative\", \"coloraxis\": {\"colorbar\": {\"title\": {\"text\": \"Rating (%)\"}}, \"colorscale\": [[0.0, \"rgb(176, 242, 188)\"], [0.16666666666666666, \"rgb(137, 232, 172)\"], [0.3333333333333333, \"rgb(103, 219, 165)\"], [0.5, \"rgb(76, 200, 163)\"], [0.6666666666666666, \"rgb(56, 178, 163)\"], [0.8333333333333334, \"rgb(44, 152, 160)\"], [1.0, \"rgb(37, 125, 152)\"]]}, \"legend\": {\"tracegroupgap\": 0}, \"margin\": {\"t\": 60}, \"template\": {\"data\": {\"bar\": [{\"error_x\": {\"color\": \"#2a3f5f\"}, \"error_y\": {\"color\": \"#2a3f5f\"}, \"marker\": {\"line\": {\"color\": \"#E5ECF6\", \"width\": 0.5}}, \"type\": \"bar\"}], \"barpolar\": [{\"marker\": {\"line\": {\"color\": \"#E5ECF6\", \"width\": 0.5}}, \"type\": \"barpolar\"}], \"carpet\": [{\"aaxis\": {\"endlinecolor\": \"#2a3f5f\", \"gridcolor\": \"white\", \"linecolor\": \"white\", \"minorgridcolor\": \"white\", \"startlinecolor\": \"#2a3f5f\"}, \"baxis\": {\"endlinecolor\": \"#2a3f5f\", \"gridcolor\": \"white\", \"linecolor\": \"white\", \"minorgridcolor\": \"white\", \"startlinecolor\": \"#2a3f5f\"}, \"type\": \"carpet\"}], \"choropleth\": [{\"colorbar\": {\"outlinewidth\": 0, \"ticks\": \"\"}, \"type\": \"choropleth\"}], \"contour\": [{\"colorbar\": {\"outlinewidth\": 0, \"ticks\": \"\"}, \"colorscale\": [[0.0, \"#0d0887\"], [0.1111111111111111, \"#46039f\"], [0.2222222222222222, \"#7201a8\"], [0.3333333333333333, \"#9c179e\"], [0.4444444444444444, \"#bd3786\"], [0.5555555555555556, \"#d8576b\"], [0.6666666666666666, \"#ed7953\"], [0.7777777777777778, \"#fb9f3a\"], [0.8888888888888888, \"#fdca26\"], [1.0, \"#f0f921\"]], \"type\": \"contour\"}], \"contourcarpet\": [{\"colorbar\": {\"outlinewidth\": 0, \"ticks\": \"\"}, \"type\": \"contourcarpet\"}], \"heatmap\": [{\"colorbar\": {\"outlinewidth\": 0, \"ticks\": \"\"}, \"colorscale\": [[0.0, \"#0d0887\"], [0.1111111111111111, \"#46039f\"], [0.2222222222222222, \"#7201a8\"], [0.3333333333333333, \"#9c179e\"], [0.4444444444444444, \"#bd3786\"], [0.5555555555555556, \"#d8576b\"], [0.6666666666666666, \"#ed7953\"], [0.7777777777777778, \"#fb9f3a\"], [0.8888888888888888, \"#fdca26\"], [1.0, \"#f0f921\"]], \"type\": \"heatmap\"}], \"heatmapgl\": [{\"colorbar\": {\"outlinewidth\": 0, \"ticks\": \"\"}, \"colorscale\": [[0.0, \"#0d0887\"], [0.1111111111111111, \"#46039f\"], [0.2222222222222222, \"#7201a8\"], [0.3333333333333333, \"#9c179e\"], [0.4444444444444444, \"#bd3786\"], [0.5555555555555556, \"#d8576b\"], [0.6666666666666666, \"#ed7953\"], [0.7777777777777778, \"#fb9f3a\"], [0.8888888888888888, \"#fdca26\"], [1.0, \"#f0f921\"]], \"type\": \"heatmapgl\"}], \"histogram\": [{\"marker\": {\"colorbar\": {\"outlinewidth\": 0, \"ticks\": \"\"}}, \"type\": \"histogram\"}], \"histogram2d\": [{\"colorbar\": {\"outlinewidth\": 0, \"ticks\": \"\"}, \"colorscale\": [[0.0, \"#0d0887\"], [0.1111111111111111, \"#46039f\"], [0.2222222222222222, \"#7201a8\"], [0.3333333333333333, \"#9c179e\"], [0.4444444444444444, \"#bd3786\"], [0.5555555555555556, \"#d8576b\"], [0.6666666666666666, \"#ed7953\"], [0.7777777777777778, \"#fb9f3a\"], [0.8888888888888888, \"#fdca26\"], [1.0, \"#f0f921\"]], \"type\": \"histogram2d\"}], \"histogram2dcontour\": [{\"colorbar\": {\"outlinewidth\": 0, \"ticks\": \"\"}, \"colorscale\": [[0.0, \"#0d0887\"], [0.1111111111111111, \"#46039f\"], [0.2222222222222222, \"#7201a8\"], [0.3333333333333333, \"#9c179e\"], [0.4444444444444444, \"#bd3786\"], [0.5555555555555556, \"#d8576b\"], [0.6666666666666666, \"#ed7953\"], [0.7777777777777778, \"#fb9f3a\"], [0.8888888888888888, \"#fdca26\"], [1.0, \"#f0f921\"]], \"type\": \"histogram2dcontour\"}], \"mesh3d\": [{\"colorbar\": {\"outlinewidth\": 0, \"ticks\": \"\"}, \"type\": \"mesh3d\"}], \"parcoords\": [{\"line\": {\"colorbar\": {\"outlinewidth\": 0, \"ticks\": \"\"}}, \"type\": \"parcoords\"}], \"pie\": [{\"automargin\": true, \"type\": \"pie\"}], \"scatter\": [{\"marker\": {\"colorbar\": {\"outlinewidth\": 0, \"ticks\": \"\"}}, \"type\": \"scatter\"}], \"scatter3d\": [{\"line\": {\"colorbar\": {\"outlinewidth\": 0, \"ticks\": \"\"}}, \"marker\": {\"colorbar\": {\"outlinewidth\": 0, \"ticks\": \"\"}}, \"type\": \"scatter3d\"}], \"scattercarpet\": [{\"marker\": {\"colorbar\": {\"outlinewidth\": 0, \"ticks\": \"\"}}, \"type\": \"scattercarpet\"}], \"scattergeo\": [{\"marker\": {\"colorbar\": {\"outlinewidth\": 0, \"ticks\": \"\"}}, \"type\": \"scattergeo\"}], \"scattergl\": [{\"marker\": {\"colorbar\": {\"outlinewidth\": 0, \"ticks\": \"\"}}, \"type\": \"scattergl\"}], \"scattermapbox\": [{\"marker\": {\"colorbar\": {\"outlinewidth\": 0, \"ticks\": \"\"}}, \"type\": \"scattermapbox\"}], \"scatterpolar\": [{\"marker\": {\"colorbar\": {\"outlinewidth\": 0, \"ticks\": \"\"}}, \"type\": \"scatterpolar\"}], \"scatterpolargl\": [{\"marker\": {\"colorbar\": {\"outlinewidth\": 0, \"ticks\": \"\"}}, \"type\": \"scatterpolargl\"}], \"scatterternary\": [{\"marker\": {\"colorbar\": {\"outlinewidth\": 0, \"ticks\": \"\"}}, \"type\": \"scatterternary\"}], \"surface\": [{\"colorbar\": {\"outlinewidth\": 0, \"ticks\": \"\"}, \"colorscale\": [[0.0, \"#0d0887\"], [0.1111111111111111, \"#46039f\"], [0.2222222222222222, \"#7201a8\"], [0.3333333333333333, \"#9c179e\"], [0.4444444444444444, \"#bd3786\"], [0.5555555555555556, \"#d8576b\"], [0.6666666666666666, \"#ed7953\"], [0.7777777777777778, \"#fb9f3a\"], [0.8888888888888888, \"#fdca26\"], [1.0, \"#f0f921\"]], \"type\": \"surface\"}], \"table\": [{\"cells\": {\"fill\": {\"color\": \"#EBF0F8\"}, \"line\": {\"color\": \"white\"}}, \"header\": {\"fill\": {\"color\": \"#C8D4E3\"}, \"line\": {\"color\": \"white\"}}, \"type\": \"table\"}]}, \"layout\": {\"annotationdefaults\": {\"arrowcolor\": \"#2a3f5f\", \"arrowhead\": 0, \"arrowwidth\": 1}, \"coloraxis\": {\"colorbar\": {\"outlinewidth\": 0, \"ticks\": \"\"}}, \"colorscale\": {\"diverging\": [[0, \"#8e0152\"], [0.1, \"#c51b7d\"], [0.2, \"#de77ae\"], [0.3, \"#f1b6da\"], [0.4, \"#fde0ef\"], [0.5, \"#f7f7f7\"], [0.6, \"#e6f5d0\"], [0.7, \"#b8e186\"], [0.8, \"#7fbc41\"], [0.9, \"#4d9221\"], [1, \"#276419\"]], \"sequential\": [[0.0, \"#0d0887\"], [0.1111111111111111, \"#46039f\"], [0.2222222222222222, \"#7201a8\"], [0.3333333333333333, \"#9c179e\"], [0.4444444444444444, \"#bd3786\"], [0.5555555555555556, \"#d8576b\"], [0.6666666666666666, \"#ed7953\"], [0.7777777777777778, \"#fb9f3a\"], [0.8888888888888888, \"#fdca26\"], [1.0, \"#f0f921\"]], \"sequentialminus\": [[0.0, \"#0d0887\"], [0.1111111111111111, \"#46039f\"], [0.2222222222222222, \"#7201a8\"], [0.3333333333333333, \"#9c179e\"], [0.4444444444444444, \"#bd3786\"], [0.5555555555555556, \"#d8576b\"], [0.6666666666666666, \"#ed7953\"], [0.7777777777777778, \"#fb9f3a\"], [0.8888888888888888, \"#fdca26\"], [1.0, \"#f0f921\"]]}, \"colorway\": [\"#636efa\", \"#EF553B\", \"#00cc96\", \"#ab63fa\", \"#FFA15A\", \"#19d3f3\", \"#FF6692\", \"#B6E880\", \"#FF97FF\", \"#FECB52\"], \"font\": {\"color\": \"#2a3f5f\"}, \"geo\": {\"bgcolor\": \"white\", \"lakecolor\": \"white\", \"landcolor\": \"#E5ECF6\", \"showlakes\": true, \"showland\": true, \"subunitcolor\": \"white\"}, \"hoverlabel\": {\"align\": \"left\"}, \"hovermode\": \"closest\", \"mapbox\": {\"style\": \"light\"}, \"paper_bgcolor\": \"white\", \"plot_bgcolor\": \"#E5ECF6\", \"polar\": {\"angularaxis\": {\"gridcolor\": \"white\", \"linecolor\": \"white\", \"ticks\": \"\"}, \"bgcolor\": \"#E5ECF6\", \"radialaxis\": {\"gridcolor\": \"white\", \"linecolor\": \"white\", \"ticks\": \"\"}}, \"scene\": {\"xaxis\": {\"backgroundcolor\": \"#E5ECF6\", \"gridcolor\": \"white\", \"gridwidth\": 2, \"linecolor\": \"white\", \"showbackground\": true, \"ticks\": \"\", \"zerolinecolor\": \"white\"}, \"yaxis\": {\"backgroundcolor\": \"#E5ECF6\", \"gridcolor\": \"white\", \"gridwidth\": 2, \"linecolor\": \"white\", \"showbackground\": true, \"ticks\": \"\", \"zerolinecolor\": \"white\"}, \"zaxis\": {\"backgroundcolor\": \"#E5ECF6\", \"gridcolor\": \"white\", \"gridwidth\": 2, \"linecolor\": \"white\", \"showbackground\": true, \"ticks\": \"\", \"zerolinecolor\": \"white\"}}, \"shapedefaults\": {\"line\": {\"color\": \"#2a3f5f\"}}, \"ternary\": {\"aaxis\": {\"gridcolor\": \"white\", \"linecolor\": \"white\", \"ticks\": \"\"}, \"baxis\": {\"gridcolor\": \"white\", \"linecolor\": \"white\", \"ticks\": \"\"}, \"bgcolor\": \"#E5ECF6\", \"caxis\": {\"gridcolor\": \"white\", \"linecolor\": \"white\", \"ticks\": \"\"}}, \"title\": {\"x\": 0.05}, \"xaxis\": {\"automargin\": true, \"gridcolor\": \"white\", \"linecolor\": \"white\", \"ticks\": \"\", \"title\": {\"standoff\": 15}, \"zerolinecolor\": \"white\", \"zerolinewidth\": 2}, \"yaxis\": {\"automargin\": true, \"gridcolor\": \"white\", \"linecolor\": \"white\", \"ticks\": \"\", \"title\": {\"standoff\": 15}, \"zerolinecolor\": \"white\", \"zerolinewidth\": 2}}}, \"xaxis\": {\"anchor\": \"y\", \"domain\": [0.0, 1.0], \"title\": {\"text\": \"Rating (%)\"}}, \"yaxis\": {\"anchor\": \"x\", \"domain\": [0.0, 1.0], \"title\": {\"text\": \"\"}}},                        {\"responsive\": true}                    ).then(function(){\n",
       "                            \n",
       "var gd = document.getElementById('f1040b4c-267a-4adc-b2b4-cc75a5342d1c');\n",
       "var x = new MutationObserver(function (mutations, observer) {{\n",
       "        var display = window.getComputedStyle(gd).display;\n",
       "        if (!display || display === 'none') {{\n",
       "            console.log([gd, 'removed!']);\n",
       "            Plotly.purge(gd);\n",
       "            observer.disconnect();\n",
       "        }}\n",
       "}});\n",
       "\n",
       "// Listen for the removal of the full notebook cells\n",
       "var notebookContainer = gd.closest('#notebook-container');\n",
       "if (notebookContainer) {{\n",
       "    x.observe(notebookContainer, {childList: true});\n",
       "}}\n",
       "\n",
       "// Listen for the clearing of the current output cell\n",
       "var outputEl = gd.closest('.output');\n",
       "if (outputEl) {{\n",
       "    x.observe(outputEl, {childList: true});\n",
       "}}\n",
       "\n",
       "                        })                };                });            </script>        </div>"
      ]
     },
     "metadata": {},
     "output_type": "display_data"
    }
   ],
   "source": [
    "px.bar(df.sort_values(by=\"Rating\",ascending=True),x=\"Rating\",y=\"Name\",\n",
    "      labels={\"Name\":\"\",\"Rating\":\"Rating (%)\"},hover_name=\"Name\",hover_data={\"Name\":False},\n",
    "      color=\"Rating\",color_continuous_scale=\"tealgrn\",template=\"plotly\")"
   ]
  },
  {
   "cell_type": "markdown",
   "metadata": {
    "papermill": {
     "duration": 0.050894,
     "end_time": "2020-12-30T13:11:11.817114",
     "exception": false,
     "start_time": "2020-12-30T13:11:11.766220",
     "status": "completed"
    },
    "tags": []
   },
   "source": [
    "The favourite cereal is *All-Bran with Extra Fibre* (so healthy!), and the least favourite is actually one of my favourites *Cap'n'Crunch*.."
   ]
  },
  {
   "cell_type": "code",
   "execution_count": 13,
   "metadata": {
    "execution": {
     "iopub.execute_input": "2020-12-30T13:11:11.915232Z",
     "iopub.status.busy": "2020-12-30T13:11:11.913896Z",
     "iopub.status.idle": "2020-12-30T13:11:11.924484Z",
     "shell.execute_reply": "2020-12-30T13:11:11.923711Z"
    },
    "papermill": {
     "duration": 0.062923,
     "end_time": "2020-12-30T13:11:11.924621",
     "exception": false,
     "start_time": "2020-12-30T13:11:11.861698",
     "status": "completed"
    },
    "tags": []
   },
   "outputs": [
    {
     "data": {
      "text/plain": [
       "array(['N', 'Q', 'K', 'R', 'G', 'P', 'A'], dtype=object)"
      ]
     },
     "execution_count": 13,
     "metadata": {},
     "output_type": "execute_result"
    }
   ],
   "source": [
    "df[\"Manufacturer\"].unique()"
   ]
  },
  {
   "cell_type": "code",
   "execution_count": 14,
   "metadata": {
    "execution": {
     "iopub.execute_input": "2020-12-30T13:11:12.006815Z",
     "iopub.status.busy": "2020-12-30T13:11:12.005696Z",
     "iopub.status.idle": "2020-12-30T13:11:12.019341Z",
     "shell.execute_reply": "2020-12-30T13:11:12.018401Z"
    },
    "papermill": {
     "duration": 0.057276,
     "end_time": "2020-12-30T13:11:12.019556",
     "exception": false,
     "start_time": "2020-12-30T13:11:11.962280",
     "status": "completed"
    },
    "tags": []
   },
   "outputs": [
    {
     "data": {
      "text/plain": [
       "array(['C', 'H'], dtype=object)"
      ]
     },
     "execution_count": 14,
     "metadata": {},
     "output_type": "execute_result"
    }
   ],
   "source": [
    "df[\"Type\"].unique()"
   ]
  },
  {
   "cell_type": "code",
   "execution_count": 50,
   "metadata": {
    "execution": {
     "iopub.execute_input": "2020-12-30T13:11:12.122764Z",
     "iopub.status.busy": "2020-12-30T13:11:12.115421Z",
     "iopub.status.idle": "2020-12-30T13:11:12.257194Z",
     "shell.execute_reply": "2020-12-30T13:11:12.256672Z"
    },
    "papermill": {
     "duration": 0.198079,
     "end_time": "2020-12-30T13:11:12.257341",
     "exception": false,
     "start_time": "2020-12-30T13:11:12.059262",
     "status": "completed"
    },
    "tags": []
   },
   "outputs": [
    {
     "data": {
      "application/vnd.plotly.v1+json": {
       "config": {
        "plotlyServerURL": "https://plot.ly"
       },
       "data": [
        {
         "branchvalues": "total",
         "domain": {
          "x": [
           0,
           1
          ],
          "y": [
           0,
           1
          ]
         },
         "hovertemplate": "labels=%{label}<br>count=%{value}<br>parent=%{parent}<br>id=%{id}<extra></extra>",
         "ids": [
          "G/C",
          "K/C",
          "N/C",
          "P/C",
          "Q/C",
          "R/C",
          "A/H",
          "N/H",
          "Q/H",
          "A",
          "G",
          "K",
          "N",
          "P",
          "Q",
          "R"
         ],
         "labels": [
          "C",
          "C",
          "C",
          "C",
          "C",
          "C",
          "H",
          "H",
          "H",
          "A",
          "G",
          "K",
          "N",
          "P",
          "Q",
          "R"
         ],
         "name": "",
         "parents": [
          "G",
          "K",
          "N",
          "P",
          "Q",
          "R",
          "A",
          "N",
          "Q",
          "",
          "",
          "",
          "",
          "",
          "",
          ""
         ],
         "type": "sunburst",
         "values": [
          22,
          23,
          5,
          9,
          7,
          8,
          1,
          1,
          1,
          1,
          22,
          23,
          6,
          9,
          8,
          8
         ]
        }
       ],
       "layout": {
        "legend": {
         "tracegroupgap": 0
        },
        "margin": {
         "t": 60
        },
        "template": {
         "data": {
          "bar": [
           {
            "error_x": {
             "color": "#2a3f5f"
            },
            "error_y": {
             "color": "#2a3f5f"
            },
            "marker": {
             "line": {
              "color": "#E5ECF6",
              "width": 0.5
             }
            },
            "type": "bar"
           }
          ],
          "barpolar": [
           {
            "marker": {
             "line": {
              "color": "#E5ECF6",
              "width": 0.5
             }
            },
            "type": "barpolar"
           }
          ],
          "carpet": [
           {
            "aaxis": {
             "endlinecolor": "#2a3f5f",
             "gridcolor": "white",
             "linecolor": "white",
             "minorgridcolor": "white",
             "startlinecolor": "#2a3f5f"
            },
            "baxis": {
             "endlinecolor": "#2a3f5f",
             "gridcolor": "white",
             "linecolor": "white",
             "minorgridcolor": "white",
             "startlinecolor": "#2a3f5f"
            },
            "type": "carpet"
           }
          ],
          "choropleth": [
           {
            "colorbar": {
             "outlinewidth": 0,
             "ticks": ""
            },
            "type": "choropleth"
           }
          ],
          "contour": [
           {
            "colorbar": {
             "outlinewidth": 0,
             "ticks": ""
            },
            "colorscale": [
             [
              0,
              "#0d0887"
             ],
             [
              0.1111111111111111,
              "#46039f"
             ],
             [
              0.2222222222222222,
              "#7201a8"
             ],
             [
              0.3333333333333333,
              "#9c179e"
             ],
             [
              0.4444444444444444,
              "#bd3786"
             ],
             [
              0.5555555555555556,
              "#d8576b"
             ],
             [
              0.6666666666666666,
              "#ed7953"
             ],
             [
              0.7777777777777778,
              "#fb9f3a"
             ],
             [
              0.8888888888888888,
              "#fdca26"
             ],
             [
              1,
              "#f0f921"
             ]
            ],
            "type": "contour"
           }
          ],
          "contourcarpet": [
           {
            "colorbar": {
             "outlinewidth": 0,
             "ticks": ""
            },
            "type": "contourcarpet"
           }
          ],
          "heatmap": [
           {
            "colorbar": {
             "outlinewidth": 0,
             "ticks": ""
            },
            "colorscale": [
             [
              0,
              "#0d0887"
             ],
             [
              0.1111111111111111,
              "#46039f"
             ],
             [
              0.2222222222222222,
              "#7201a8"
             ],
             [
              0.3333333333333333,
              "#9c179e"
             ],
             [
              0.4444444444444444,
              "#bd3786"
             ],
             [
              0.5555555555555556,
              "#d8576b"
             ],
             [
              0.6666666666666666,
              "#ed7953"
             ],
             [
              0.7777777777777778,
              "#fb9f3a"
             ],
             [
              0.8888888888888888,
              "#fdca26"
             ],
             [
              1,
              "#f0f921"
             ]
            ],
            "type": "heatmap"
           }
          ],
          "heatmapgl": [
           {
            "colorbar": {
             "outlinewidth": 0,
             "ticks": ""
            },
            "colorscale": [
             [
              0,
              "#0d0887"
             ],
             [
              0.1111111111111111,
              "#46039f"
             ],
             [
              0.2222222222222222,
              "#7201a8"
             ],
             [
              0.3333333333333333,
              "#9c179e"
             ],
             [
              0.4444444444444444,
              "#bd3786"
             ],
             [
              0.5555555555555556,
              "#d8576b"
             ],
             [
              0.6666666666666666,
              "#ed7953"
             ],
             [
              0.7777777777777778,
              "#fb9f3a"
             ],
             [
              0.8888888888888888,
              "#fdca26"
             ],
             [
              1,
              "#f0f921"
             ]
            ],
            "type": "heatmapgl"
           }
          ],
          "histogram": [
           {
            "marker": {
             "colorbar": {
              "outlinewidth": 0,
              "ticks": ""
             }
            },
            "type": "histogram"
           }
          ],
          "histogram2d": [
           {
            "colorbar": {
             "outlinewidth": 0,
             "ticks": ""
            },
            "colorscale": [
             [
              0,
              "#0d0887"
             ],
             [
              0.1111111111111111,
              "#46039f"
             ],
             [
              0.2222222222222222,
              "#7201a8"
             ],
             [
              0.3333333333333333,
              "#9c179e"
             ],
             [
              0.4444444444444444,
              "#bd3786"
             ],
             [
              0.5555555555555556,
              "#d8576b"
             ],
             [
              0.6666666666666666,
              "#ed7953"
             ],
             [
              0.7777777777777778,
              "#fb9f3a"
             ],
             [
              0.8888888888888888,
              "#fdca26"
             ],
             [
              1,
              "#f0f921"
             ]
            ],
            "type": "histogram2d"
           }
          ],
          "histogram2dcontour": [
           {
            "colorbar": {
             "outlinewidth": 0,
             "ticks": ""
            },
            "colorscale": [
             [
              0,
              "#0d0887"
             ],
             [
              0.1111111111111111,
              "#46039f"
             ],
             [
              0.2222222222222222,
              "#7201a8"
             ],
             [
              0.3333333333333333,
              "#9c179e"
             ],
             [
              0.4444444444444444,
              "#bd3786"
             ],
             [
              0.5555555555555556,
              "#d8576b"
             ],
             [
              0.6666666666666666,
              "#ed7953"
             ],
             [
              0.7777777777777778,
              "#fb9f3a"
             ],
             [
              0.8888888888888888,
              "#fdca26"
             ],
             [
              1,
              "#f0f921"
             ]
            ],
            "type": "histogram2dcontour"
           }
          ],
          "mesh3d": [
           {
            "colorbar": {
             "outlinewidth": 0,
             "ticks": ""
            },
            "type": "mesh3d"
           }
          ],
          "parcoords": [
           {
            "line": {
             "colorbar": {
              "outlinewidth": 0,
              "ticks": ""
             }
            },
            "type": "parcoords"
           }
          ],
          "pie": [
           {
            "automargin": true,
            "type": "pie"
           }
          ],
          "scatter": [
           {
            "marker": {
             "colorbar": {
              "outlinewidth": 0,
              "ticks": ""
             }
            },
            "type": "scatter"
           }
          ],
          "scatter3d": [
           {
            "line": {
             "colorbar": {
              "outlinewidth": 0,
              "ticks": ""
             }
            },
            "marker": {
             "colorbar": {
              "outlinewidth": 0,
              "ticks": ""
             }
            },
            "type": "scatter3d"
           }
          ],
          "scattercarpet": [
           {
            "marker": {
             "colorbar": {
              "outlinewidth": 0,
              "ticks": ""
             }
            },
            "type": "scattercarpet"
           }
          ],
          "scattergeo": [
           {
            "marker": {
             "colorbar": {
              "outlinewidth": 0,
              "ticks": ""
             }
            },
            "type": "scattergeo"
           }
          ],
          "scattergl": [
           {
            "marker": {
             "colorbar": {
              "outlinewidth": 0,
              "ticks": ""
             }
            },
            "type": "scattergl"
           }
          ],
          "scattermapbox": [
           {
            "marker": {
             "colorbar": {
              "outlinewidth": 0,
              "ticks": ""
             }
            },
            "type": "scattermapbox"
           }
          ],
          "scatterpolar": [
           {
            "marker": {
             "colorbar": {
              "outlinewidth": 0,
              "ticks": ""
             }
            },
            "type": "scatterpolar"
           }
          ],
          "scatterpolargl": [
           {
            "marker": {
             "colorbar": {
              "outlinewidth": 0,
              "ticks": ""
             }
            },
            "type": "scatterpolargl"
           }
          ],
          "scatterternary": [
           {
            "marker": {
             "colorbar": {
              "outlinewidth": 0,
              "ticks": ""
             }
            },
            "type": "scatterternary"
           }
          ],
          "surface": [
           {
            "colorbar": {
             "outlinewidth": 0,
             "ticks": ""
            },
            "colorscale": [
             [
              0,
              "#0d0887"
             ],
             [
              0.1111111111111111,
              "#46039f"
             ],
             [
              0.2222222222222222,
              "#7201a8"
             ],
             [
              0.3333333333333333,
              "#9c179e"
             ],
             [
              0.4444444444444444,
              "#bd3786"
             ],
             [
              0.5555555555555556,
              "#d8576b"
             ],
             [
              0.6666666666666666,
              "#ed7953"
             ],
             [
              0.7777777777777778,
              "#fb9f3a"
             ],
             [
              0.8888888888888888,
              "#fdca26"
             ],
             [
              1,
              "#f0f921"
             ]
            ],
            "type": "surface"
           }
          ],
          "table": [
           {
            "cells": {
             "fill": {
              "color": "#EBF0F8"
             },
             "line": {
              "color": "white"
             }
            },
            "header": {
             "fill": {
              "color": "#C8D4E3"
             },
             "line": {
              "color": "white"
             }
            },
            "type": "table"
           }
          ]
         },
         "layout": {
          "annotationdefaults": {
           "arrowcolor": "#2a3f5f",
           "arrowhead": 0,
           "arrowwidth": 1
          },
          "coloraxis": {
           "colorbar": {
            "outlinewidth": 0,
            "ticks": ""
           }
          },
          "colorscale": {
           "diverging": [
            [
             0,
             "#8e0152"
            ],
            [
             0.1,
             "#c51b7d"
            ],
            [
             0.2,
             "#de77ae"
            ],
            [
             0.3,
             "#f1b6da"
            ],
            [
             0.4,
             "#fde0ef"
            ],
            [
             0.5,
             "#f7f7f7"
            ],
            [
             0.6,
             "#e6f5d0"
            ],
            [
             0.7,
             "#b8e186"
            ],
            [
             0.8,
             "#7fbc41"
            ],
            [
             0.9,
             "#4d9221"
            ],
            [
             1,
             "#276419"
            ]
           ],
           "sequential": [
            [
             0,
             "#0d0887"
            ],
            [
             0.1111111111111111,
             "#46039f"
            ],
            [
             0.2222222222222222,
             "#7201a8"
            ],
            [
             0.3333333333333333,
             "#9c179e"
            ],
            [
             0.4444444444444444,
             "#bd3786"
            ],
            [
             0.5555555555555556,
             "#d8576b"
            ],
            [
             0.6666666666666666,
             "#ed7953"
            ],
            [
             0.7777777777777778,
             "#fb9f3a"
            ],
            [
             0.8888888888888888,
             "#fdca26"
            ],
            [
             1,
             "#f0f921"
            ]
           ],
           "sequentialminus": [
            [
             0,
             "#0d0887"
            ],
            [
             0.1111111111111111,
             "#46039f"
            ],
            [
             0.2222222222222222,
             "#7201a8"
            ],
            [
             0.3333333333333333,
             "#9c179e"
            ],
            [
             0.4444444444444444,
             "#bd3786"
            ],
            [
             0.5555555555555556,
             "#d8576b"
            ],
            [
             0.6666666666666666,
             "#ed7953"
            ],
            [
             0.7777777777777778,
             "#fb9f3a"
            ],
            [
             0.8888888888888888,
             "#fdca26"
            ],
            [
             1,
             "#f0f921"
            ]
           ]
          },
          "colorway": [
           "#636efa",
           "#EF553B",
           "#00cc96",
           "#ab63fa",
           "#FFA15A",
           "#19d3f3",
           "#FF6692",
           "#B6E880",
           "#FF97FF",
           "#FECB52"
          ],
          "font": {
           "color": "#2a3f5f"
          },
          "geo": {
           "bgcolor": "white",
           "lakecolor": "white",
           "landcolor": "#E5ECF6",
           "showlakes": true,
           "showland": true,
           "subunitcolor": "white"
          },
          "hoverlabel": {
           "align": "left"
          },
          "hovermode": "closest",
          "mapbox": {
           "style": "light"
          },
          "paper_bgcolor": "white",
          "plot_bgcolor": "#E5ECF6",
          "polar": {
           "angularaxis": {
            "gridcolor": "white",
            "linecolor": "white",
            "ticks": ""
           },
           "bgcolor": "#E5ECF6",
           "radialaxis": {
            "gridcolor": "white",
            "linecolor": "white",
            "ticks": ""
           }
          },
          "scene": {
           "xaxis": {
            "backgroundcolor": "#E5ECF6",
            "gridcolor": "white",
            "gridwidth": 2,
            "linecolor": "white",
            "showbackground": true,
            "ticks": "",
            "zerolinecolor": "white"
           },
           "yaxis": {
            "backgroundcolor": "#E5ECF6",
            "gridcolor": "white",
            "gridwidth": 2,
            "linecolor": "white",
            "showbackground": true,
            "ticks": "",
            "zerolinecolor": "white"
           },
           "zaxis": {
            "backgroundcolor": "#E5ECF6",
            "gridcolor": "white",
            "gridwidth": 2,
            "linecolor": "white",
            "showbackground": true,
            "ticks": "",
            "zerolinecolor": "white"
           }
          },
          "shapedefaults": {
           "line": {
            "color": "#2a3f5f"
           }
          },
          "ternary": {
           "aaxis": {
            "gridcolor": "white",
            "linecolor": "white",
            "ticks": ""
           },
           "baxis": {
            "gridcolor": "white",
            "linecolor": "white",
            "ticks": ""
           },
           "bgcolor": "#E5ECF6",
           "caxis": {
            "gridcolor": "white",
            "linecolor": "white",
            "ticks": ""
           }
          },
          "title": {
           "x": 0.05
          },
          "xaxis": {
           "automargin": true,
           "gridcolor": "white",
           "linecolor": "white",
           "ticks": "",
           "title": {
            "standoff": 15
           },
           "zerolinecolor": "white",
           "zerolinewidth": 2
          },
          "yaxis": {
           "automargin": true,
           "gridcolor": "white",
           "linecolor": "white",
           "ticks": "",
           "title": {
            "standoff": 15
           },
           "zerolinecolor": "white",
           "zerolinewidth": 2
          }
         }
        }
       }
      },
      "text/html": [
       "<div>                            <div id=\"4864e143-c2db-42e2-9961-3745b47c2889\" class=\"plotly-graph-div\" style=\"height:525px; width:100%;\"></div>            <script type=\"text/javascript\">                require([\"plotly\"], function(Plotly) {                    window.PLOTLYENV=window.PLOTLYENV || {};                                    if (document.getElementById(\"4864e143-c2db-42e2-9961-3745b47c2889\")) {                    Plotly.newPlot(                        \"4864e143-c2db-42e2-9961-3745b47c2889\",                        [{\"branchvalues\": \"total\", \"domain\": {\"x\": [0.0, 1.0], \"y\": [0.0, 1.0]}, \"hovertemplate\": \"labels=%{label}<br>count=%{value}<br>parent=%{parent}<br>id=%{id}<extra></extra>\", \"ids\": [\"G/C\", \"K/C\", \"N/C\", \"P/C\", \"Q/C\", \"R/C\", \"A/H\", \"N/H\", \"Q/H\", \"A\", \"G\", \"K\", \"N\", \"P\", \"Q\", \"R\"], \"labels\": [\"C\", \"C\", \"C\", \"C\", \"C\", \"C\", \"H\", \"H\", \"H\", \"A\", \"G\", \"K\", \"N\", \"P\", \"Q\", \"R\"], \"name\": \"\", \"parents\": [\"G\", \"K\", \"N\", \"P\", \"Q\", \"R\", \"A\", \"N\", \"Q\", \"\", \"\", \"\", \"\", \"\", \"\", \"\"], \"type\": \"sunburst\", \"values\": [22, 23, 5, 9, 7, 8, 1, 1, 1, 1, 22, 23, 6, 9, 8, 8]}],                        {\"legend\": {\"tracegroupgap\": 0}, \"margin\": {\"t\": 60}, \"template\": {\"data\": {\"bar\": [{\"error_x\": {\"color\": \"#2a3f5f\"}, \"error_y\": {\"color\": \"#2a3f5f\"}, \"marker\": {\"line\": {\"color\": \"#E5ECF6\", \"width\": 0.5}}, \"type\": \"bar\"}], \"barpolar\": [{\"marker\": {\"line\": {\"color\": \"#E5ECF6\", \"width\": 0.5}}, \"type\": \"barpolar\"}], \"carpet\": [{\"aaxis\": {\"endlinecolor\": \"#2a3f5f\", \"gridcolor\": \"white\", \"linecolor\": \"white\", \"minorgridcolor\": \"white\", \"startlinecolor\": \"#2a3f5f\"}, \"baxis\": {\"endlinecolor\": \"#2a3f5f\", \"gridcolor\": \"white\", \"linecolor\": \"white\", \"minorgridcolor\": \"white\", \"startlinecolor\": \"#2a3f5f\"}, \"type\": \"carpet\"}], \"choropleth\": [{\"colorbar\": {\"outlinewidth\": 0, \"ticks\": \"\"}, \"type\": \"choropleth\"}], \"contour\": [{\"colorbar\": {\"outlinewidth\": 0, \"ticks\": \"\"}, \"colorscale\": [[0.0, \"#0d0887\"], [0.1111111111111111, \"#46039f\"], [0.2222222222222222, \"#7201a8\"], [0.3333333333333333, \"#9c179e\"], [0.4444444444444444, \"#bd3786\"], [0.5555555555555556, \"#d8576b\"], [0.6666666666666666, \"#ed7953\"], [0.7777777777777778, \"#fb9f3a\"], [0.8888888888888888, \"#fdca26\"], [1.0, \"#f0f921\"]], \"type\": \"contour\"}], \"contourcarpet\": [{\"colorbar\": {\"outlinewidth\": 0, \"ticks\": \"\"}, \"type\": \"contourcarpet\"}], \"heatmap\": [{\"colorbar\": {\"outlinewidth\": 0, \"ticks\": \"\"}, \"colorscale\": [[0.0, \"#0d0887\"], [0.1111111111111111, \"#46039f\"], [0.2222222222222222, \"#7201a8\"], [0.3333333333333333, \"#9c179e\"], [0.4444444444444444, \"#bd3786\"], [0.5555555555555556, \"#d8576b\"], [0.6666666666666666, \"#ed7953\"], [0.7777777777777778, \"#fb9f3a\"], [0.8888888888888888, \"#fdca26\"], [1.0, \"#f0f921\"]], \"type\": \"heatmap\"}], \"heatmapgl\": [{\"colorbar\": {\"outlinewidth\": 0, \"ticks\": \"\"}, \"colorscale\": [[0.0, \"#0d0887\"], [0.1111111111111111, \"#46039f\"], [0.2222222222222222, \"#7201a8\"], [0.3333333333333333, \"#9c179e\"], [0.4444444444444444, \"#bd3786\"], [0.5555555555555556, \"#d8576b\"], [0.6666666666666666, \"#ed7953\"], [0.7777777777777778, \"#fb9f3a\"], [0.8888888888888888, \"#fdca26\"], [1.0, \"#f0f921\"]], \"type\": \"heatmapgl\"}], \"histogram\": [{\"marker\": {\"colorbar\": {\"outlinewidth\": 0, \"ticks\": \"\"}}, \"type\": \"histogram\"}], \"histogram2d\": [{\"colorbar\": {\"outlinewidth\": 0, \"ticks\": \"\"}, \"colorscale\": [[0.0, \"#0d0887\"], [0.1111111111111111, \"#46039f\"], [0.2222222222222222, \"#7201a8\"], [0.3333333333333333, \"#9c179e\"], [0.4444444444444444, \"#bd3786\"], [0.5555555555555556, \"#d8576b\"], [0.6666666666666666, \"#ed7953\"], [0.7777777777777778, \"#fb9f3a\"], [0.8888888888888888, \"#fdca26\"], [1.0, \"#f0f921\"]], \"type\": \"histogram2d\"}], \"histogram2dcontour\": [{\"colorbar\": {\"outlinewidth\": 0, \"ticks\": \"\"}, \"colorscale\": [[0.0, \"#0d0887\"], [0.1111111111111111, \"#46039f\"], [0.2222222222222222, \"#7201a8\"], [0.3333333333333333, \"#9c179e\"], [0.4444444444444444, \"#bd3786\"], [0.5555555555555556, \"#d8576b\"], [0.6666666666666666, \"#ed7953\"], [0.7777777777777778, \"#fb9f3a\"], [0.8888888888888888, \"#fdca26\"], [1.0, \"#f0f921\"]], \"type\": \"histogram2dcontour\"}], \"mesh3d\": [{\"colorbar\": {\"outlinewidth\": 0, \"ticks\": \"\"}, \"type\": \"mesh3d\"}], \"parcoords\": [{\"line\": {\"colorbar\": {\"outlinewidth\": 0, \"ticks\": \"\"}}, \"type\": \"parcoords\"}], \"pie\": [{\"automargin\": true, \"type\": \"pie\"}], \"scatter\": [{\"marker\": {\"colorbar\": {\"outlinewidth\": 0, \"ticks\": \"\"}}, \"type\": \"scatter\"}], \"scatter3d\": [{\"line\": {\"colorbar\": {\"outlinewidth\": 0, \"ticks\": \"\"}}, \"marker\": {\"colorbar\": {\"outlinewidth\": 0, \"ticks\": \"\"}}, \"type\": \"scatter3d\"}], \"scattercarpet\": [{\"marker\": {\"colorbar\": {\"outlinewidth\": 0, \"ticks\": \"\"}}, \"type\": \"scattercarpet\"}], \"scattergeo\": [{\"marker\": {\"colorbar\": {\"outlinewidth\": 0, \"ticks\": \"\"}}, \"type\": \"scattergeo\"}], \"scattergl\": [{\"marker\": {\"colorbar\": {\"outlinewidth\": 0, \"ticks\": \"\"}}, \"type\": \"scattergl\"}], \"scattermapbox\": [{\"marker\": {\"colorbar\": {\"outlinewidth\": 0, \"ticks\": \"\"}}, \"type\": \"scattermapbox\"}], \"scatterpolar\": [{\"marker\": {\"colorbar\": {\"outlinewidth\": 0, \"ticks\": \"\"}}, \"type\": \"scatterpolar\"}], \"scatterpolargl\": [{\"marker\": {\"colorbar\": {\"outlinewidth\": 0, \"ticks\": \"\"}}, \"type\": \"scatterpolargl\"}], \"scatterternary\": [{\"marker\": {\"colorbar\": {\"outlinewidth\": 0, \"ticks\": \"\"}}, \"type\": \"scatterternary\"}], \"surface\": [{\"colorbar\": {\"outlinewidth\": 0, \"ticks\": \"\"}, \"colorscale\": [[0.0, \"#0d0887\"], [0.1111111111111111, \"#46039f\"], [0.2222222222222222, \"#7201a8\"], [0.3333333333333333, \"#9c179e\"], [0.4444444444444444, \"#bd3786\"], [0.5555555555555556, \"#d8576b\"], [0.6666666666666666, \"#ed7953\"], [0.7777777777777778, \"#fb9f3a\"], [0.8888888888888888, \"#fdca26\"], [1.0, \"#f0f921\"]], \"type\": \"surface\"}], \"table\": [{\"cells\": {\"fill\": {\"color\": \"#EBF0F8\"}, \"line\": {\"color\": \"white\"}}, \"header\": {\"fill\": {\"color\": \"#C8D4E3\"}, \"line\": {\"color\": \"white\"}}, \"type\": \"table\"}]}, \"layout\": {\"annotationdefaults\": {\"arrowcolor\": \"#2a3f5f\", \"arrowhead\": 0, \"arrowwidth\": 1}, \"coloraxis\": {\"colorbar\": {\"outlinewidth\": 0, \"ticks\": \"\"}}, \"colorscale\": {\"diverging\": [[0, \"#8e0152\"], [0.1, \"#c51b7d\"], [0.2, \"#de77ae\"], [0.3, \"#f1b6da\"], [0.4, \"#fde0ef\"], [0.5, \"#f7f7f7\"], [0.6, \"#e6f5d0\"], [0.7, \"#b8e186\"], [0.8, \"#7fbc41\"], [0.9, \"#4d9221\"], [1, \"#276419\"]], \"sequential\": [[0.0, \"#0d0887\"], [0.1111111111111111, \"#46039f\"], [0.2222222222222222, \"#7201a8\"], [0.3333333333333333, \"#9c179e\"], [0.4444444444444444, \"#bd3786\"], [0.5555555555555556, \"#d8576b\"], [0.6666666666666666, \"#ed7953\"], [0.7777777777777778, \"#fb9f3a\"], [0.8888888888888888, \"#fdca26\"], [1.0, \"#f0f921\"]], \"sequentialminus\": [[0.0, \"#0d0887\"], [0.1111111111111111, \"#46039f\"], [0.2222222222222222, \"#7201a8\"], [0.3333333333333333, \"#9c179e\"], [0.4444444444444444, \"#bd3786\"], [0.5555555555555556, \"#d8576b\"], [0.6666666666666666, \"#ed7953\"], [0.7777777777777778, \"#fb9f3a\"], [0.8888888888888888, \"#fdca26\"], [1.0, \"#f0f921\"]]}, \"colorway\": [\"#636efa\", \"#EF553B\", \"#00cc96\", \"#ab63fa\", \"#FFA15A\", \"#19d3f3\", \"#FF6692\", \"#B6E880\", \"#FF97FF\", \"#FECB52\"], \"font\": {\"color\": \"#2a3f5f\"}, \"geo\": {\"bgcolor\": \"white\", \"lakecolor\": \"white\", \"landcolor\": \"#E5ECF6\", \"showlakes\": true, \"showland\": true, \"subunitcolor\": \"white\"}, \"hoverlabel\": {\"align\": \"left\"}, \"hovermode\": \"closest\", \"mapbox\": {\"style\": \"light\"}, \"paper_bgcolor\": \"white\", \"plot_bgcolor\": \"#E5ECF6\", \"polar\": {\"angularaxis\": {\"gridcolor\": \"white\", \"linecolor\": \"white\", \"ticks\": \"\"}, \"bgcolor\": \"#E5ECF6\", \"radialaxis\": {\"gridcolor\": \"white\", \"linecolor\": \"white\", \"ticks\": \"\"}}, \"scene\": {\"xaxis\": {\"backgroundcolor\": \"#E5ECF6\", \"gridcolor\": \"white\", \"gridwidth\": 2, \"linecolor\": \"white\", \"showbackground\": true, \"ticks\": \"\", \"zerolinecolor\": \"white\"}, \"yaxis\": {\"backgroundcolor\": \"#E5ECF6\", \"gridcolor\": \"white\", \"gridwidth\": 2, \"linecolor\": \"white\", \"showbackground\": true, \"ticks\": \"\", \"zerolinecolor\": \"white\"}, \"zaxis\": {\"backgroundcolor\": \"#E5ECF6\", \"gridcolor\": \"white\", \"gridwidth\": 2, \"linecolor\": \"white\", \"showbackground\": true, \"ticks\": \"\", \"zerolinecolor\": \"white\"}}, \"shapedefaults\": {\"line\": {\"color\": \"#2a3f5f\"}}, \"ternary\": {\"aaxis\": {\"gridcolor\": \"white\", \"linecolor\": \"white\", \"ticks\": \"\"}, \"baxis\": {\"gridcolor\": \"white\", \"linecolor\": \"white\", \"ticks\": \"\"}, \"bgcolor\": \"#E5ECF6\", \"caxis\": {\"gridcolor\": \"white\", \"linecolor\": \"white\", \"ticks\": \"\"}}, \"title\": {\"x\": 0.05}, \"xaxis\": {\"automargin\": true, \"gridcolor\": \"white\", \"linecolor\": \"white\", \"ticks\": \"\", \"title\": {\"standoff\": 15}, \"zerolinecolor\": \"white\", \"zerolinewidth\": 2}, \"yaxis\": {\"automargin\": true, \"gridcolor\": \"white\", \"linecolor\": \"white\", \"ticks\": \"\", \"title\": {\"standoff\": 15}, \"zerolinecolor\": \"white\", \"zerolinewidth\": 2}}}},                        {\"responsive\": true}                    ).then(function(){\n",
       "                            \n",
       "var gd = document.getElementById('4864e143-c2db-42e2-9961-3745b47c2889');\n",
       "var x = new MutationObserver(function (mutations, observer) {{\n",
       "        var display = window.getComputedStyle(gd).display;\n",
       "        if (!display || display === 'none') {{\n",
       "            console.log([gd, 'removed!']);\n",
       "            Plotly.purge(gd);\n",
       "            observer.disconnect();\n",
       "        }}\n",
       "}});\n",
       "\n",
       "// Listen for the removal of the full notebook cells\n",
       "var notebookContainer = gd.closest('#notebook-container');\n",
       "if (notebookContainer) {{\n",
       "    x.observe(notebookContainer, {childList: true});\n",
       "}}\n",
       "\n",
       "// Listen for the clearing of the current output cell\n",
       "var outputEl = gd.closest('.output');\n",
       "if (outputEl) {{\n",
       "    x.observe(outputEl, {childList: true});\n",
       "}}\n",
       "\n",
       "                        })                };                });            </script>        </div>"
      ]
     },
     "metadata": {},
     "output_type": "display_data"
    }
   ],
   "source": [
    "px.sunburst(df,path=[\"Manufacturer\",\"Type\"])"
   ]
  },
  {
   "cell_type": "markdown",
   "metadata": {
    "papermill": {
     "duration": 0.036575,
     "end_time": "2020-12-30T13:11:12.329663",
     "exception": false,
     "start_time": "2020-12-30T13:11:12.293088",
     "status": "completed"
    },
    "tags": []
   },
   "source": [
    "Manufacturers *G* (General Mills) and *K* (Kelloggs) each supply more than a quarter of the cereals in the pool; and majority of the cereals are *C* (cold). Only three manufacuturers produce *H* (hot) cereals - *Q* (Quaker Oats), *N* (Nabisco) and *A* (American Home Food Products)."
   ]
  },
  {
   "cell_type": "code",
   "execution_count": 16,
   "metadata": {
    "execution": {
     "iopub.execute_input": "2020-12-30T13:11:12.425247Z",
     "iopub.status.busy": "2020-12-30T13:11:12.424559Z",
     "iopub.status.idle": "2020-12-30T13:11:12.558585Z",
     "shell.execute_reply": "2020-12-30T13:11:12.559089Z"
    },
    "papermill": {
     "duration": 0.192482,
     "end_time": "2020-12-30T13:11:12.559265",
     "exception": false,
     "start_time": "2020-12-30T13:11:12.366783",
     "status": "completed"
    },
    "tags": []
   },
   "outputs": [
    {
     "data": {
      "application/vnd.plotly.v1+json": {
       "config": {
        "plotlyServerURL": "https://plot.ly"
       },
       "data": [
        {
         "alignmentgroup": "True",
         "hovertemplate": "Manufacturer=%{x}<br>Rating (%)=%{y}<extra></extra>",
         "legendgroup": "N",
         "marker": {
          "color": "#636efa"
         },
         "name": "N",
         "notched": false,
         "offsetgroup": "N",
         "orientation": "v",
         "showlegend": true,
         "type": "box",
         "x": [
          "N",
          "N",
          "N",
          "N",
          "N",
          "N"
         ],
         "x0": " ",
         "xaxis": "x",
         "y": [
          68.402973,
          64.533816,
          68.235885,
          74.472949,
          72.801787,
          59.36399300000001
         ],
         "y0": " ",
         "yaxis": "y"
        },
        {
         "alignmentgroup": "True",
         "hovertemplate": "Manufacturer=%{x}<br>Rating (%)=%{y}<extra></extra>",
         "legendgroup": "Q",
         "marker": {
          "color": "#EF553B"
         },
         "name": "Q",
         "notched": false,
         "offsetgroup": "Q",
         "orientation": "v",
         "showlegend": true,
         "type": "box",
         "x": [
          "Q",
          "Q",
          "Q",
          "Q",
          "Q",
          "Q",
          "Q",
          "Q"
         ],
         "x0": " ",
         "xaxis": "x",
         "y": [
          33.983678999999995,
          18.042851000000002,
          21.871292,
          45.328074,
          60.756112,
          63.005644999999994,
          49.511874,
          50.828392
         ],
         "y0": " ",
         "yaxis": "y"
        },
        {
         "alignmentgroup": "True",
         "hovertemplate": "Manufacturer=%{x}<br>Rating (%)=%{y}<extra></extra>",
         "legendgroup": "K",
         "marker": {
          "color": "#00cc96"
         },
         "name": "K",
         "notched": false,
         "offsetgroup": "K",
         "orientation": "v",
         "showlegend": true,
         "type": "box",
         "x": [
          "K",
          "K",
          "K",
          "K",
          "K",
          "K",
          "K",
          "K",
          "K",
          "K",
          "K",
          "K",
          "K",
          "K",
          "K",
          "K",
          "K",
          "K",
          "K",
          "K",
          "K",
          "K",
          "K"
         ],
         "x0": " ",
         "xaxis": "x",
         "y": [
          59.425505,
          93.704912,
          33.174094000000004,
          45.863324,
          35.782790999999996,
          40.448772,
          46.895644,
          32.207582,
          31.435972999999997,
          58.345141000000005,
          41.015492,
          36.523683,
          36.471512,
          30.313351,
          29.924284999999998,
          40.69232,
          59.642837,
          41.50354,
          39.259197,
          55.333142,
          40.560159000000006,
          31.230054,
          53.131324
         ],
         "y0": " ",
         "yaxis": "y"
        },
        {
         "alignmentgroup": "True",
         "hovertemplate": "Manufacturer=%{x}<br>Rating (%)=%{y}<extra></extra>",
         "legendgroup": "R",
         "marker": {
          "color": "#ab63fa"
         },
         "name": "R",
         "notched": false,
         "offsetgroup": "R",
         "orientation": "v",
         "showlegend": true,
         "type": "box",
         "x": [
          "R",
          "R",
          "R",
          "R",
          "R",
          "R",
          "R",
          "R"
         ],
         "x0": " ",
         "xaxis": "x",
         "y": [
          34.384843,
          49.120253000000005,
          41.445019,
          44.330856,
          37.136863,
          34.139765000000004,
          41.998933,
          49.787445
         ],
         "y0": " ",
         "yaxis": "y"
        },
        {
         "alignmentgroup": "True",
         "hovertemplate": "Manufacturer=%{x}<br>Rating (%)=%{y}<extra></extra>",
         "legendgroup": "G",
         "marker": {
          "color": "#FFA15A"
         },
         "name": "G",
         "notched": false,
         "offsetgroup": "G",
         "orientation": "v",
         "showlegend": true,
         "type": "box",
         "x": [
          "G",
          "G",
          "G",
          "G",
          "G",
          "G",
          "G",
          "G",
          "G",
          "G",
          "G",
          "G",
          "G",
          "G",
          "G",
          "G",
          "G",
          "G",
          "G",
          "G",
          "G",
          "G"
         ],
         "x0": " ",
         "xaxis": "x",
         "y": [
          29.509541,
          37.038562,
          50.764998999999996,
          19.823573,
          40.400208,
          22.736446,
          22.396513,
          36.176196000000004,
          23.804043,
          31.072217,
          39.241114,
          26.734515000000002,
          40.105965000000005,
          30.450843,
          39.7034,
          38.839746000000005,
          28.592785,
          46.658844,
          39.106173999999996,
          27.753301,
          51.592193,
          36.187559
         ],
         "y0": " ",
         "yaxis": "y"
        },
        {
         "alignmentgroup": "True",
         "hovertemplate": "Manufacturer=%{x}<br>Rating (%)=%{y}<extra></extra>",
         "legendgroup": "P",
         "marker": {
          "color": "#19d3f3"
         },
         "name": "P",
         "notched": false,
         "offsetgroup": "P",
         "orientation": "v",
         "showlegend": true,
         "type": "box",
         "x": [
          "P",
          "P",
          "P",
          "P",
          "P",
          "P",
          "P",
          "P",
          "P"
         ],
         "x0": " ",
         "xaxis": "x",
         "y": [
          53.313813,
          40.917047,
          28.025765000000003,
          35.252444,
          52.076896999999995,
          53.37100699999999,
          45.811716,
          28.742414,
          37.840594
         ],
         "y0": " ",
         "yaxis": "y"
        },
        {
         "alignmentgroup": "True",
         "hovertemplate": "Manufacturer=%{x}<br>Rating (%)=%{y}<extra></extra>",
         "legendgroup": "A",
         "marker": {
          "color": "#FF6692"
         },
         "name": "A",
         "notched": false,
         "offsetgroup": "A",
         "orientation": "v",
         "showlegend": true,
         "type": "box",
         "x": [
          "A"
         ],
         "x0": " ",
         "xaxis": "x",
         "y": [
          54.850917
         ],
         "y0": " ",
         "yaxis": "y"
        }
       ],
       "layout": {
        "boxmode": "overlay",
        "legend": {
         "title": {
          "text": "Manufacturer"
         },
         "tracegroupgap": 0
        },
        "template": {
         "data": {
          "bar": [
           {
            "error_x": {
             "color": "#2a3f5f"
            },
            "error_y": {
             "color": "#2a3f5f"
            },
            "marker": {
             "line": {
              "color": "#E5ECF6",
              "width": 0.5
             }
            },
            "type": "bar"
           }
          ],
          "barpolar": [
           {
            "marker": {
             "line": {
              "color": "#E5ECF6",
              "width": 0.5
             }
            },
            "type": "barpolar"
           }
          ],
          "carpet": [
           {
            "aaxis": {
             "endlinecolor": "#2a3f5f",
             "gridcolor": "white",
             "linecolor": "white",
             "minorgridcolor": "white",
             "startlinecolor": "#2a3f5f"
            },
            "baxis": {
             "endlinecolor": "#2a3f5f",
             "gridcolor": "white",
             "linecolor": "white",
             "minorgridcolor": "white",
             "startlinecolor": "#2a3f5f"
            },
            "type": "carpet"
           }
          ],
          "choropleth": [
           {
            "colorbar": {
             "outlinewidth": 0,
             "ticks": ""
            },
            "type": "choropleth"
           }
          ],
          "contour": [
           {
            "colorbar": {
             "outlinewidth": 0,
             "ticks": ""
            },
            "colorscale": [
             [
              0,
              "#0d0887"
             ],
             [
              0.1111111111111111,
              "#46039f"
             ],
             [
              0.2222222222222222,
              "#7201a8"
             ],
             [
              0.3333333333333333,
              "#9c179e"
             ],
             [
              0.4444444444444444,
              "#bd3786"
             ],
             [
              0.5555555555555556,
              "#d8576b"
             ],
             [
              0.6666666666666666,
              "#ed7953"
             ],
             [
              0.7777777777777778,
              "#fb9f3a"
             ],
             [
              0.8888888888888888,
              "#fdca26"
             ],
             [
              1,
              "#f0f921"
             ]
            ],
            "type": "contour"
           }
          ],
          "contourcarpet": [
           {
            "colorbar": {
             "outlinewidth": 0,
             "ticks": ""
            },
            "type": "contourcarpet"
           }
          ],
          "heatmap": [
           {
            "colorbar": {
             "outlinewidth": 0,
             "ticks": ""
            },
            "colorscale": [
             [
              0,
              "#0d0887"
             ],
             [
              0.1111111111111111,
              "#46039f"
             ],
             [
              0.2222222222222222,
              "#7201a8"
             ],
             [
              0.3333333333333333,
              "#9c179e"
             ],
             [
              0.4444444444444444,
              "#bd3786"
             ],
             [
              0.5555555555555556,
              "#d8576b"
             ],
             [
              0.6666666666666666,
              "#ed7953"
             ],
             [
              0.7777777777777778,
              "#fb9f3a"
             ],
             [
              0.8888888888888888,
              "#fdca26"
             ],
             [
              1,
              "#f0f921"
             ]
            ],
            "type": "heatmap"
           }
          ],
          "heatmapgl": [
           {
            "colorbar": {
             "outlinewidth": 0,
             "ticks": ""
            },
            "colorscale": [
             [
              0,
              "#0d0887"
             ],
             [
              0.1111111111111111,
              "#46039f"
             ],
             [
              0.2222222222222222,
              "#7201a8"
             ],
             [
              0.3333333333333333,
              "#9c179e"
             ],
             [
              0.4444444444444444,
              "#bd3786"
             ],
             [
              0.5555555555555556,
              "#d8576b"
             ],
             [
              0.6666666666666666,
              "#ed7953"
             ],
             [
              0.7777777777777778,
              "#fb9f3a"
             ],
             [
              0.8888888888888888,
              "#fdca26"
             ],
             [
              1,
              "#f0f921"
             ]
            ],
            "type": "heatmapgl"
           }
          ],
          "histogram": [
           {
            "marker": {
             "colorbar": {
              "outlinewidth": 0,
              "ticks": ""
             }
            },
            "type": "histogram"
           }
          ],
          "histogram2d": [
           {
            "colorbar": {
             "outlinewidth": 0,
             "ticks": ""
            },
            "colorscale": [
             [
              0,
              "#0d0887"
             ],
             [
              0.1111111111111111,
              "#46039f"
             ],
             [
              0.2222222222222222,
              "#7201a8"
             ],
             [
              0.3333333333333333,
              "#9c179e"
             ],
             [
              0.4444444444444444,
              "#bd3786"
             ],
             [
              0.5555555555555556,
              "#d8576b"
             ],
             [
              0.6666666666666666,
              "#ed7953"
             ],
             [
              0.7777777777777778,
              "#fb9f3a"
             ],
             [
              0.8888888888888888,
              "#fdca26"
             ],
             [
              1,
              "#f0f921"
             ]
            ],
            "type": "histogram2d"
           }
          ],
          "histogram2dcontour": [
           {
            "colorbar": {
             "outlinewidth": 0,
             "ticks": ""
            },
            "colorscale": [
             [
              0,
              "#0d0887"
             ],
             [
              0.1111111111111111,
              "#46039f"
             ],
             [
              0.2222222222222222,
              "#7201a8"
             ],
             [
              0.3333333333333333,
              "#9c179e"
             ],
             [
              0.4444444444444444,
              "#bd3786"
             ],
             [
              0.5555555555555556,
              "#d8576b"
             ],
             [
              0.6666666666666666,
              "#ed7953"
             ],
             [
              0.7777777777777778,
              "#fb9f3a"
             ],
             [
              0.8888888888888888,
              "#fdca26"
             ],
             [
              1,
              "#f0f921"
             ]
            ],
            "type": "histogram2dcontour"
           }
          ],
          "mesh3d": [
           {
            "colorbar": {
             "outlinewidth": 0,
             "ticks": ""
            },
            "type": "mesh3d"
           }
          ],
          "parcoords": [
           {
            "line": {
             "colorbar": {
              "outlinewidth": 0,
              "ticks": ""
             }
            },
            "type": "parcoords"
           }
          ],
          "pie": [
           {
            "automargin": true,
            "type": "pie"
           }
          ],
          "scatter": [
           {
            "marker": {
             "colorbar": {
              "outlinewidth": 0,
              "ticks": ""
             }
            },
            "type": "scatter"
           }
          ],
          "scatter3d": [
           {
            "line": {
             "colorbar": {
              "outlinewidth": 0,
              "ticks": ""
             }
            },
            "marker": {
             "colorbar": {
              "outlinewidth": 0,
              "ticks": ""
             }
            },
            "type": "scatter3d"
           }
          ],
          "scattercarpet": [
           {
            "marker": {
             "colorbar": {
              "outlinewidth": 0,
              "ticks": ""
             }
            },
            "type": "scattercarpet"
           }
          ],
          "scattergeo": [
           {
            "marker": {
             "colorbar": {
              "outlinewidth": 0,
              "ticks": ""
             }
            },
            "type": "scattergeo"
           }
          ],
          "scattergl": [
           {
            "marker": {
             "colorbar": {
              "outlinewidth": 0,
              "ticks": ""
             }
            },
            "type": "scattergl"
           }
          ],
          "scattermapbox": [
           {
            "marker": {
             "colorbar": {
              "outlinewidth": 0,
              "ticks": ""
             }
            },
            "type": "scattermapbox"
           }
          ],
          "scatterpolar": [
           {
            "marker": {
             "colorbar": {
              "outlinewidth": 0,
              "ticks": ""
             }
            },
            "type": "scatterpolar"
           }
          ],
          "scatterpolargl": [
           {
            "marker": {
             "colorbar": {
              "outlinewidth": 0,
              "ticks": ""
             }
            },
            "type": "scatterpolargl"
           }
          ],
          "scatterternary": [
           {
            "marker": {
             "colorbar": {
              "outlinewidth": 0,
              "ticks": ""
             }
            },
            "type": "scatterternary"
           }
          ],
          "surface": [
           {
            "colorbar": {
             "outlinewidth": 0,
             "ticks": ""
            },
            "colorscale": [
             [
              0,
              "#0d0887"
             ],
             [
              0.1111111111111111,
              "#46039f"
             ],
             [
              0.2222222222222222,
              "#7201a8"
             ],
             [
              0.3333333333333333,
              "#9c179e"
             ],
             [
              0.4444444444444444,
              "#bd3786"
             ],
             [
              0.5555555555555556,
              "#d8576b"
             ],
             [
              0.6666666666666666,
              "#ed7953"
             ],
             [
              0.7777777777777778,
              "#fb9f3a"
             ],
             [
              0.8888888888888888,
              "#fdca26"
             ],
             [
              1,
              "#f0f921"
             ]
            ],
            "type": "surface"
           }
          ],
          "table": [
           {
            "cells": {
             "fill": {
              "color": "#EBF0F8"
             },
             "line": {
              "color": "white"
             }
            },
            "header": {
             "fill": {
              "color": "#C8D4E3"
             },
             "line": {
              "color": "white"
             }
            },
            "type": "table"
           }
          ]
         },
         "layout": {
          "annotationdefaults": {
           "arrowcolor": "#2a3f5f",
           "arrowhead": 0,
           "arrowwidth": 1
          },
          "coloraxis": {
           "colorbar": {
            "outlinewidth": 0,
            "ticks": ""
           }
          },
          "colorscale": {
           "diverging": [
            [
             0,
             "#8e0152"
            ],
            [
             0.1,
             "#c51b7d"
            ],
            [
             0.2,
             "#de77ae"
            ],
            [
             0.3,
             "#f1b6da"
            ],
            [
             0.4,
             "#fde0ef"
            ],
            [
             0.5,
             "#f7f7f7"
            ],
            [
             0.6,
             "#e6f5d0"
            ],
            [
             0.7,
             "#b8e186"
            ],
            [
             0.8,
             "#7fbc41"
            ],
            [
             0.9,
             "#4d9221"
            ],
            [
             1,
             "#276419"
            ]
           ],
           "sequential": [
            [
             0,
             "#0d0887"
            ],
            [
             0.1111111111111111,
             "#46039f"
            ],
            [
             0.2222222222222222,
             "#7201a8"
            ],
            [
             0.3333333333333333,
             "#9c179e"
            ],
            [
             0.4444444444444444,
             "#bd3786"
            ],
            [
             0.5555555555555556,
             "#d8576b"
            ],
            [
             0.6666666666666666,
             "#ed7953"
            ],
            [
             0.7777777777777778,
             "#fb9f3a"
            ],
            [
             0.8888888888888888,
             "#fdca26"
            ],
            [
             1,
             "#f0f921"
            ]
           ],
           "sequentialminus": [
            [
             0,
             "#0d0887"
            ],
            [
             0.1111111111111111,
             "#46039f"
            ],
            [
             0.2222222222222222,
             "#7201a8"
            ],
            [
             0.3333333333333333,
             "#9c179e"
            ],
            [
             0.4444444444444444,
             "#bd3786"
            ],
            [
             0.5555555555555556,
             "#d8576b"
            ],
            [
             0.6666666666666666,
             "#ed7953"
            ],
            [
             0.7777777777777778,
             "#fb9f3a"
            ],
            [
             0.8888888888888888,
             "#fdca26"
            ],
            [
             1,
             "#f0f921"
            ]
           ]
          },
          "colorway": [
           "#636efa",
           "#EF553B",
           "#00cc96",
           "#ab63fa",
           "#FFA15A",
           "#19d3f3",
           "#FF6692",
           "#B6E880",
           "#FF97FF",
           "#FECB52"
          ],
          "font": {
           "color": "#2a3f5f"
          },
          "geo": {
           "bgcolor": "white",
           "lakecolor": "white",
           "landcolor": "#E5ECF6",
           "showlakes": true,
           "showland": true,
           "subunitcolor": "white"
          },
          "hoverlabel": {
           "align": "left"
          },
          "hovermode": "closest",
          "mapbox": {
           "style": "light"
          },
          "paper_bgcolor": "white",
          "plot_bgcolor": "#E5ECF6",
          "polar": {
           "angularaxis": {
            "gridcolor": "white",
            "linecolor": "white",
            "ticks": ""
           },
           "bgcolor": "#E5ECF6",
           "radialaxis": {
            "gridcolor": "white",
            "linecolor": "white",
            "ticks": ""
           }
          },
          "scene": {
           "xaxis": {
            "backgroundcolor": "#E5ECF6",
            "gridcolor": "white",
            "gridwidth": 2,
            "linecolor": "white",
            "showbackground": true,
            "ticks": "",
            "zerolinecolor": "white"
           },
           "yaxis": {
            "backgroundcolor": "#E5ECF6",
            "gridcolor": "white",
            "gridwidth": 2,
            "linecolor": "white",
            "showbackground": true,
            "ticks": "",
            "zerolinecolor": "white"
           },
           "zaxis": {
            "backgroundcolor": "#E5ECF6",
            "gridcolor": "white",
            "gridwidth": 2,
            "linecolor": "white",
            "showbackground": true,
            "ticks": "",
            "zerolinecolor": "white"
           }
          },
          "shapedefaults": {
           "line": {
            "color": "#2a3f5f"
           }
          },
          "ternary": {
           "aaxis": {
            "gridcolor": "white",
            "linecolor": "white",
            "ticks": ""
           },
           "baxis": {
            "gridcolor": "white",
            "linecolor": "white",
            "ticks": ""
           },
           "bgcolor": "#E5ECF6",
           "caxis": {
            "gridcolor": "white",
            "linecolor": "white",
            "ticks": ""
           }
          },
          "title": {
           "x": 0.05
          },
          "xaxis": {
           "automargin": true,
           "gridcolor": "white",
           "linecolor": "white",
           "ticks": "",
           "title": {
            "standoff": 15
           },
           "zerolinecolor": "white",
           "zerolinewidth": 2
          },
          "yaxis": {
           "automargin": true,
           "gridcolor": "white",
           "linecolor": "white",
           "ticks": "",
           "title": {
            "standoff": 15
           },
           "zerolinecolor": "white",
           "zerolinewidth": 2
          }
         }
        },
        "title": {
         "text": "Rating Distribution"
        },
        "xaxis": {
         "anchor": "y",
         "categoryarray": [
          "N",
          "Q",
          "K",
          "R",
          "G",
          "P",
          "A"
         ],
         "categoryorder": "array",
         "domain": [
          0,
          1
         ],
         "title": {
          "text": "Manufacturer"
         }
        },
        "yaxis": {
         "anchor": "x",
         "domain": [
          0,
          1
         ],
         "title": {
          "text": "Rating (%)"
         }
        }
       }
      },
      "text/html": [
       "<div>                            <div id=\"2b7c789c-bfea-4855-9b2f-a853227c3989\" class=\"plotly-graph-div\" style=\"height:525px; width:100%;\"></div>            <script type=\"text/javascript\">                require([\"plotly\"], function(Plotly) {                    window.PLOTLYENV=window.PLOTLYENV || {};                                    if (document.getElementById(\"2b7c789c-bfea-4855-9b2f-a853227c3989\")) {                    Plotly.newPlot(                        \"2b7c789c-bfea-4855-9b2f-a853227c3989\",                        [{\"alignmentgroup\": \"True\", \"hovertemplate\": \"Manufacturer=%{x}<br>Rating (%)=%{y}<extra></extra>\", \"legendgroup\": \"N\", \"marker\": {\"color\": \"#636efa\"}, \"name\": \"N\", \"notched\": false, \"offsetgroup\": \"N\", \"orientation\": \"v\", \"showlegend\": true, \"type\": \"box\", \"x\": [\"N\", \"N\", \"N\", \"N\", \"N\", \"N\"], \"x0\": \" \", \"xaxis\": \"x\", \"y\": [68.402973, 64.533816, 68.235885, 74.472949, 72.801787, 59.36399300000001], \"y0\": \" \", \"yaxis\": \"y\"}, {\"alignmentgroup\": \"True\", \"hovertemplate\": \"Manufacturer=%{x}<br>Rating (%)=%{y}<extra></extra>\", \"legendgroup\": \"Q\", \"marker\": {\"color\": \"#EF553B\"}, \"name\": \"Q\", \"notched\": false, \"offsetgroup\": \"Q\", \"orientation\": \"v\", \"showlegend\": true, \"type\": \"box\", \"x\": [\"Q\", \"Q\", \"Q\", \"Q\", \"Q\", \"Q\", \"Q\", \"Q\"], \"x0\": \" \", \"xaxis\": \"x\", \"y\": [33.983678999999995, 18.042851000000002, 21.871292, 45.328074, 60.756112, 63.005644999999994, 49.511874, 50.828392], \"y0\": \" \", \"yaxis\": \"y\"}, {\"alignmentgroup\": \"True\", \"hovertemplate\": \"Manufacturer=%{x}<br>Rating (%)=%{y}<extra></extra>\", \"legendgroup\": \"K\", \"marker\": {\"color\": \"#00cc96\"}, \"name\": \"K\", \"notched\": false, \"offsetgroup\": \"K\", \"orientation\": \"v\", \"showlegend\": true, \"type\": \"box\", \"x\": [\"K\", \"K\", \"K\", \"K\", \"K\", \"K\", \"K\", \"K\", \"K\", \"K\", \"K\", \"K\", \"K\", \"K\", \"K\", \"K\", \"K\", \"K\", \"K\", \"K\", \"K\", \"K\", \"K\"], \"x0\": \" \", \"xaxis\": \"x\", \"y\": [59.425505, 93.704912, 33.174094000000004, 45.863324, 35.782790999999996, 40.448772, 46.895644, 32.207582, 31.435972999999997, 58.345141000000005, 41.015492, 36.523683, 36.471512, 30.313351, 29.924284999999998, 40.69232, 59.642837, 41.50354, 39.259197, 55.333142, 40.560159000000006, 31.230054, 53.131324], \"y0\": \" \", \"yaxis\": \"y\"}, {\"alignmentgroup\": \"True\", \"hovertemplate\": \"Manufacturer=%{x}<br>Rating (%)=%{y}<extra></extra>\", \"legendgroup\": \"R\", \"marker\": {\"color\": \"#ab63fa\"}, \"name\": \"R\", \"notched\": false, \"offsetgroup\": \"R\", \"orientation\": \"v\", \"showlegend\": true, \"type\": \"box\", \"x\": [\"R\", \"R\", \"R\", \"R\", \"R\", \"R\", \"R\", \"R\"], \"x0\": \" \", \"xaxis\": \"x\", \"y\": [34.384843, 49.120253000000005, 41.445019, 44.330856, 37.136863, 34.139765000000004, 41.998933, 49.787445], \"y0\": \" \", \"yaxis\": \"y\"}, {\"alignmentgroup\": \"True\", \"hovertemplate\": \"Manufacturer=%{x}<br>Rating (%)=%{y}<extra></extra>\", \"legendgroup\": \"G\", \"marker\": {\"color\": \"#FFA15A\"}, \"name\": \"G\", \"notched\": false, \"offsetgroup\": \"G\", \"orientation\": \"v\", \"showlegend\": true, \"type\": \"box\", \"x\": [\"G\", \"G\", \"G\", \"G\", \"G\", \"G\", \"G\", \"G\", \"G\", \"G\", \"G\", \"G\", \"G\", \"G\", \"G\", \"G\", \"G\", \"G\", \"G\", \"G\", \"G\", \"G\"], \"x0\": \" \", \"xaxis\": \"x\", \"y\": [29.509541, 37.038562, 50.764998999999996, 19.823573, 40.400208, 22.736446, 22.396513, 36.176196000000004, 23.804043, 31.072217, 39.241114, 26.734515000000002, 40.105965000000005, 30.450843, 39.7034, 38.839746000000005, 28.592785, 46.658844, 39.106173999999996, 27.753301, 51.592193, 36.187559], \"y0\": \" \", \"yaxis\": \"y\"}, {\"alignmentgroup\": \"True\", \"hovertemplate\": \"Manufacturer=%{x}<br>Rating (%)=%{y}<extra></extra>\", \"legendgroup\": \"P\", \"marker\": {\"color\": \"#19d3f3\"}, \"name\": \"P\", \"notched\": false, \"offsetgroup\": \"P\", \"orientation\": \"v\", \"showlegend\": true, \"type\": \"box\", \"x\": [\"P\", \"P\", \"P\", \"P\", \"P\", \"P\", \"P\", \"P\", \"P\"], \"x0\": \" \", \"xaxis\": \"x\", \"y\": [53.313813, 40.917047, 28.025765000000003, 35.252444, 52.076896999999995, 53.37100699999999, 45.811716, 28.742414, 37.840594], \"y0\": \" \", \"yaxis\": \"y\"}, {\"alignmentgroup\": \"True\", \"hovertemplate\": \"Manufacturer=%{x}<br>Rating (%)=%{y}<extra></extra>\", \"legendgroup\": \"A\", \"marker\": {\"color\": \"#FF6692\"}, \"name\": \"A\", \"notched\": false, \"offsetgroup\": \"A\", \"orientation\": \"v\", \"showlegend\": true, \"type\": \"box\", \"x\": [\"A\"], \"x0\": \" \", \"xaxis\": \"x\", \"y\": [54.850917], \"y0\": \" \", \"yaxis\": \"y\"}],                        {\"boxmode\": \"overlay\", \"legend\": {\"title\": {\"text\": \"Manufacturer\"}, \"tracegroupgap\": 0}, \"template\": {\"data\": {\"bar\": [{\"error_x\": {\"color\": \"#2a3f5f\"}, \"error_y\": {\"color\": \"#2a3f5f\"}, \"marker\": {\"line\": {\"color\": \"#E5ECF6\", \"width\": 0.5}}, \"type\": \"bar\"}], \"barpolar\": [{\"marker\": {\"line\": {\"color\": \"#E5ECF6\", \"width\": 0.5}}, \"type\": \"barpolar\"}], \"carpet\": [{\"aaxis\": {\"endlinecolor\": \"#2a3f5f\", \"gridcolor\": \"white\", \"linecolor\": \"white\", \"minorgridcolor\": \"white\", \"startlinecolor\": \"#2a3f5f\"}, \"baxis\": {\"endlinecolor\": \"#2a3f5f\", \"gridcolor\": \"white\", \"linecolor\": \"white\", \"minorgridcolor\": \"white\", \"startlinecolor\": \"#2a3f5f\"}, \"type\": \"carpet\"}], \"choropleth\": [{\"colorbar\": {\"outlinewidth\": 0, \"ticks\": \"\"}, \"type\": \"choropleth\"}], \"contour\": [{\"colorbar\": {\"outlinewidth\": 0, \"ticks\": \"\"}, \"colorscale\": [[0.0, \"#0d0887\"], [0.1111111111111111, \"#46039f\"], [0.2222222222222222, \"#7201a8\"], [0.3333333333333333, \"#9c179e\"], [0.4444444444444444, \"#bd3786\"], [0.5555555555555556, \"#d8576b\"], [0.6666666666666666, \"#ed7953\"], [0.7777777777777778, \"#fb9f3a\"], [0.8888888888888888, \"#fdca26\"], [1.0, \"#f0f921\"]], \"type\": \"contour\"}], \"contourcarpet\": [{\"colorbar\": {\"outlinewidth\": 0, \"ticks\": \"\"}, \"type\": \"contourcarpet\"}], \"heatmap\": [{\"colorbar\": {\"outlinewidth\": 0, \"ticks\": \"\"}, \"colorscale\": [[0.0, \"#0d0887\"], [0.1111111111111111, \"#46039f\"], [0.2222222222222222, \"#7201a8\"], [0.3333333333333333, \"#9c179e\"], [0.4444444444444444, \"#bd3786\"], [0.5555555555555556, \"#d8576b\"], [0.6666666666666666, \"#ed7953\"], [0.7777777777777778, \"#fb9f3a\"], [0.8888888888888888, \"#fdca26\"], [1.0, \"#f0f921\"]], \"type\": \"heatmap\"}], \"heatmapgl\": [{\"colorbar\": {\"outlinewidth\": 0, \"ticks\": \"\"}, \"colorscale\": [[0.0, \"#0d0887\"], [0.1111111111111111, \"#46039f\"], [0.2222222222222222, \"#7201a8\"], [0.3333333333333333, \"#9c179e\"], [0.4444444444444444, \"#bd3786\"], [0.5555555555555556, \"#d8576b\"], [0.6666666666666666, \"#ed7953\"], [0.7777777777777778, \"#fb9f3a\"], [0.8888888888888888, \"#fdca26\"], [1.0, \"#f0f921\"]], \"type\": \"heatmapgl\"}], \"histogram\": [{\"marker\": {\"colorbar\": {\"outlinewidth\": 0, \"ticks\": \"\"}}, \"type\": \"histogram\"}], \"histogram2d\": [{\"colorbar\": {\"outlinewidth\": 0, \"ticks\": \"\"}, \"colorscale\": [[0.0, \"#0d0887\"], [0.1111111111111111, \"#46039f\"], [0.2222222222222222, \"#7201a8\"], [0.3333333333333333, \"#9c179e\"], [0.4444444444444444, \"#bd3786\"], [0.5555555555555556, \"#d8576b\"], [0.6666666666666666, \"#ed7953\"], [0.7777777777777778, \"#fb9f3a\"], [0.8888888888888888, \"#fdca26\"], [1.0, \"#f0f921\"]], \"type\": \"histogram2d\"}], \"histogram2dcontour\": [{\"colorbar\": {\"outlinewidth\": 0, \"ticks\": \"\"}, \"colorscale\": [[0.0, \"#0d0887\"], [0.1111111111111111, \"#46039f\"], [0.2222222222222222, \"#7201a8\"], [0.3333333333333333, \"#9c179e\"], [0.4444444444444444, \"#bd3786\"], [0.5555555555555556, \"#d8576b\"], [0.6666666666666666, \"#ed7953\"], [0.7777777777777778, \"#fb9f3a\"], [0.8888888888888888, \"#fdca26\"], [1.0, \"#f0f921\"]], \"type\": \"histogram2dcontour\"}], \"mesh3d\": [{\"colorbar\": {\"outlinewidth\": 0, \"ticks\": \"\"}, \"type\": \"mesh3d\"}], \"parcoords\": [{\"line\": {\"colorbar\": {\"outlinewidth\": 0, \"ticks\": \"\"}}, \"type\": \"parcoords\"}], \"pie\": [{\"automargin\": true, \"type\": \"pie\"}], \"scatter\": [{\"marker\": {\"colorbar\": {\"outlinewidth\": 0, \"ticks\": \"\"}}, \"type\": \"scatter\"}], \"scatter3d\": [{\"line\": {\"colorbar\": {\"outlinewidth\": 0, \"ticks\": \"\"}}, \"marker\": {\"colorbar\": {\"outlinewidth\": 0, \"ticks\": \"\"}}, \"type\": \"scatter3d\"}], \"scattercarpet\": [{\"marker\": {\"colorbar\": {\"outlinewidth\": 0, \"ticks\": \"\"}}, \"type\": \"scattercarpet\"}], \"scattergeo\": [{\"marker\": {\"colorbar\": {\"outlinewidth\": 0, \"ticks\": \"\"}}, \"type\": \"scattergeo\"}], \"scattergl\": [{\"marker\": {\"colorbar\": {\"outlinewidth\": 0, \"ticks\": \"\"}}, \"type\": \"scattergl\"}], \"scattermapbox\": [{\"marker\": {\"colorbar\": {\"outlinewidth\": 0, \"ticks\": \"\"}}, \"type\": \"scattermapbox\"}], \"scatterpolar\": [{\"marker\": {\"colorbar\": {\"outlinewidth\": 0, \"ticks\": \"\"}}, \"type\": \"scatterpolar\"}], \"scatterpolargl\": [{\"marker\": {\"colorbar\": {\"outlinewidth\": 0, \"ticks\": \"\"}}, \"type\": \"scatterpolargl\"}], \"scatterternary\": [{\"marker\": {\"colorbar\": {\"outlinewidth\": 0, \"ticks\": \"\"}}, \"type\": \"scatterternary\"}], \"surface\": [{\"colorbar\": {\"outlinewidth\": 0, \"ticks\": \"\"}, \"colorscale\": [[0.0, \"#0d0887\"], [0.1111111111111111, \"#46039f\"], [0.2222222222222222, \"#7201a8\"], [0.3333333333333333, \"#9c179e\"], [0.4444444444444444, \"#bd3786\"], [0.5555555555555556, \"#d8576b\"], [0.6666666666666666, \"#ed7953\"], [0.7777777777777778, \"#fb9f3a\"], [0.8888888888888888, \"#fdca26\"], [1.0, \"#f0f921\"]], \"type\": \"surface\"}], \"table\": [{\"cells\": {\"fill\": {\"color\": \"#EBF0F8\"}, \"line\": {\"color\": \"white\"}}, \"header\": {\"fill\": {\"color\": \"#C8D4E3\"}, \"line\": {\"color\": \"white\"}}, \"type\": \"table\"}]}, \"layout\": {\"annotationdefaults\": {\"arrowcolor\": \"#2a3f5f\", \"arrowhead\": 0, \"arrowwidth\": 1}, \"coloraxis\": {\"colorbar\": {\"outlinewidth\": 0, \"ticks\": \"\"}}, \"colorscale\": {\"diverging\": [[0, \"#8e0152\"], [0.1, \"#c51b7d\"], [0.2, \"#de77ae\"], [0.3, \"#f1b6da\"], [0.4, \"#fde0ef\"], [0.5, \"#f7f7f7\"], [0.6, \"#e6f5d0\"], [0.7, \"#b8e186\"], [0.8, \"#7fbc41\"], [0.9, \"#4d9221\"], [1, \"#276419\"]], \"sequential\": [[0.0, \"#0d0887\"], [0.1111111111111111, \"#46039f\"], [0.2222222222222222, \"#7201a8\"], [0.3333333333333333, \"#9c179e\"], [0.4444444444444444, \"#bd3786\"], [0.5555555555555556, \"#d8576b\"], [0.6666666666666666, \"#ed7953\"], [0.7777777777777778, \"#fb9f3a\"], [0.8888888888888888, \"#fdca26\"], [1.0, \"#f0f921\"]], \"sequentialminus\": [[0.0, \"#0d0887\"], [0.1111111111111111, \"#46039f\"], [0.2222222222222222, \"#7201a8\"], [0.3333333333333333, \"#9c179e\"], [0.4444444444444444, \"#bd3786\"], [0.5555555555555556, \"#d8576b\"], [0.6666666666666666, \"#ed7953\"], [0.7777777777777778, \"#fb9f3a\"], [0.8888888888888888, \"#fdca26\"], [1.0, \"#f0f921\"]]}, \"colorway\": [\"#636efa\", \"#EF553B\", \"#00cc96\", \"#ab63fa\", \"#FFA15A\", \"#19d3f3\", \"#FF6692\", \"#B6E880\", \"#FF97FF\", \"#FECB52\"], \"font\": {\"color\": \"#2a3f5f\"}, \"geo\": {\"bgcolor\": \"white\", \"lakecolor\": \"white\", \"landcolor\": \"#E5ECF6\", \"showlakes\": true, \"showland\": true, \"subunitcolor\": \"white\"}, \"hoverlabel\": {\"align\": \"left\"}, \"hovermode\": \"closest\", \"mapbox\": {\"style\": \"light\"}, \"paper_bgcolor\": \"white\", \"plot_bgcolor\": \"#E5ECF6\", \"polar\": {\"angularaxis\": {\"gridcolor\": \"white\", \"linecolor\": \"white\", \"ticks\": \"\"}, \"bgcolor\": \"#E5ECF6\", \"radialaxis\": {\"gridcolor\": \"white\", \"linecolor\": \"white\", \"ticks\": \"\"}}, \"scene\": {\"xaxis\": {\"backgroundcolor\": \"#E5ECF6\", \"gridcolor\": \"white\", \"gridwidth\": 2, \"linecolor\": \"white\", \"showbackground\": true, \"ticks\": \"\", \"zerolinecolor\": \"white\"}, \"yaxis\": {\"backgroundcolor\": \"#E5ECF6\", \"gridcolor\": \"white\", \"gridwidth\": 2, \"linecolor\": \"white\", \"showbackground\": true, \"ticks\": \"\", \"zerolinecolor\": \"white\"}, \"zaxis\": {\"backgroundcolor\": \"#E5ECF6\", \"gridcolor\": \"white\", \"gridwidth\": 2, \"linecolor\": \"white\", \"showbackground\": true, \"ticks\": \"\", \"zerolinecolor\": \"white\"}}, \"shapedefaults\": {\"line\": {\"color\": \"#2a3f5f\"}}, \"ternary\": {\"aaxis\": {\"gridcolor\": \"white\", \"linecolor\": \"white\", \"ticks\": \"\"}, \"baxis\": {\"gridcolor\": \"white\", \"linecolor\": \"white\", \"ticks\": \"\"}, \"bgcolor\": \"#E5ECF6\", \"caxis\": {\"gridcolor\": \"white\", \"linecolor\": \"white\", \"ticks\": \"\"}}, \"title\": {\"x\": 0.05}, \"xaxis\": {\"automargin\": true, \"gridcolor\": \"white\", \"linecolor\": \"white\", \"ticks\": \"\", \"title\": {\"standoff\": 15}, \"zerolinecolor\": \"white\", \"zerolinewidth\": 2}, \"yaxis\": {\"automargin\": true, \"gridcolor\": \"white\", \"linecolor\": \"white\", \"ticks\": \"\", \"title\": {\"standoff\": 15}, \"zerolinecolor\": \"white\", \"zerolinewidth\": 2}}}, \"title\": {\"text\": \"Rating Distribution\"}, \"xaxis\": {\"anchor\": \"y\", \"categoryarray\": [\"N\", \"Q\", \"K\", \"R\", \"G\", \"P\", \"A\"], \"categoryorder\": \"array\", \"domain\": [0.0, 1.0], \"title\": {\"text\": \"Manufacturer\"}}, \"yaxis\": {\"anchor\": \"x\", \"domain\": [0.0, 1.0], \"title\": {\"text\": \"Rating (%)\"}}},                        {\"responsive\": true}                    ).then(function(){\n",
       "                            \n",
       "var gd = document.getElementById('2b7c789c-bfea-4855-9b2f-a853227c3989');\n",
       "var x = new MutationObserver(function (mutations, observer) {{\n",
       "        var display = window.getComputedStyle(gd).display;\n",
       "        if (!display || display === 'none') {{\n",
       "            console.log([gd, 'removed!']);\n",
       "            Plotly.purge(gd);\n",
       "            observer.disconnect();\n",
       "        }}\n",
       "}});\n",
       "\n",
       "// Listen for the removal of the full notebook cells\n",
       "var notebookContainer = gd.closest('#notebook-container');\n",
       "if (notebookContainer) {{\n",
       "    x.observe(notebookContainer, {childList: true});\n",
       "}}\n",
       "\n",
       "// Listen for the clearing of the current output cell\n",
       "var outputEl = gd.closest('.output');\n",
       "if (outputEl) {{\n",
       "    x.observe(outputEl, {childList: true});\n",
       "}}\n",
       "\n",
       "                        })                };                });            </script>        </div>"
      ]
     },
     "metadata": {},
     "output_type": "display_data"
    }
   ],
   "source": [
    "px.box(df,x=\"Manufacturer\",y=\"Rating\",labels={\"Mfr\":\"Manufacturer\",\"Rating\":\"Rating (%)\"},\n",
    "       title=\"Rating Distribution\",color=\"Manufacturer\")"
   ]
  },
  {
   "cell_type": "code",
   "execution_count": 17,
   "metadata": {
    "execution": {
     "iopub.execute_input": "2020-12-30T13:11:12.662425Z",
     "iopub.status.busy": "2020-12-30T13:11:12.661256Z",
     "iopub.status.idle": "2020-12-30T13:11:12.665585Z",
     "shell.execute_reply": "2020-12-30T13:11:12.666030Z"
    },
    "papermill": {
     "duration": 0.065069,
     "end_time": "2020-12-30T13:11:12.666179",
     "exception": false,
     "start_time": "2020-12-30T13:11:12.601110",
     "status": "completed"
    },
    "tags": []
   },
   "outputs": [
    {
     "data": {
      "text/html": [
       "<div>\n",
       "<style scoped>\n",
       "    .dataframe tbody tr th:only-of-type {\n",
       "        vertical-align: middle;\n",
       "    }\n",
       "\n",
       "    .dataframe tbody tr th {\n",
       "        vertical-align: top;\n",
       "    }\n",
       "\n",
       "    .dataframe thead th {\n",
       "        text-align: right;\n",
       "    }\n",
       "</style>\n",
       "<table border=\"1\" class=\"dataframe\">\n",
       "  <thead>\n",
       "    <tr style=\"text-align: right;\">\n",
       "      <th></th>\n",
       "      <th>Name</th>\n",
       "      <th>Rating</th>\n",
       "    </tr>\n",
       "  </thead>\n",
       "  <tbody>\n",
       "    <tr>\n",
       "      <th>3</th>\n",
       "      <td>All-Bran with Extra Fiber</td>\n",
       "      <td>93.704912</td>\n",
       "    </tr>\n",
       "  </tbody>\n",
       "</table>\n",
       "</div>"
      ],
      "text/plain": [
       "                        Name     Rating\n",
       "3  All-Bran with Extra Fiber  93.704912"
      ]
     },
     "execution_count": 17,
     "metadata": {},
     "output_type": "execute_result"
    }
   ],
   "source": [
    "df[[\"Name\",\"Rating\"]].loc[df[\"Manufacturer\"]==\"K\"].sort_values(by=\"Rating\",ascending=False).head(1)"
   ]
  },
  {
   "cell_type": "markdown",
   "metadata": {
    "papermill": {
     "duration": 0.038243,
     "end_time": "2020-12-30T13:11:12.741692",
     "exception": false,
     "start_time": "2020-12-30T13:11:12.703449",
     "status": "completed"
    },
    "tags": []
   },
   "source": [
    "*N* (Nabisco) performs the best out of all the manufacturers, followed by *A* (American Home Food Products) but American Home Food Products only has one cereal. *Q* (Quaker Oats) has the largest rating distribution, and *K* (Kelloggs) has one high performing outlier cereal, *All-Bran with Extra Fibre*."
   ]
  },
  {
   "cell_type": "code",
   "execution_count": 18,
   "metadata": {
    "execution": {
     "iopub.execute_input": "2020-12-30T13:11:12.834027Z",
     "iopub.status.busy": "2020-12-30T13:11:12.832817Z",
     "iopub.status.idle": "2020-12-30T13:11:12.918423Z",
     "shell.execute_reply": "2020-12-30T13:11:12.917720Z"
    },
    "papermill": {
     "duration": 0.13986,
     "end_time": "2020-12-30T13:11:12.918542",
     "exception": false,
     "start_time": "2020-12-30T13:11:12.778682",
     "status": "completed"
    },
    "tags": []
   },
   "outputs": [
    {
     "data": {
      "application/vnd.plotly.v1+json": {
       "config": {
        "plotlyServerURL": "https://plot.ly"
       },
       "data": [
        {
         "alignmentgroup": "True",
         "hovertemplate": "variable=Calories<br>Manufacturer=%{x}<br>value=%{y}<extra></extra>",
         "legendgroup": "Calories",
         "marker": {
          "color": "#636efa"
         },
         "name": "Calories",
         "offsetgroup": "Calories",
         "orientation": "v",
         "showlegend": true,
         "textposition": "auto",
         "type": "bar",
         "x": [
          "A",
          "G",
          "K",
          "N",
          "P",
          "Q",
          "R"
         ],
         "xaxis": "x",
         "y": [
          100,
          111.36363636363636,
          108.69565217391305,
          86.66666666666667,
          108.88888888888889,
          95,
          115
         ],
         "yaxis": "y"
        },
        {
         "alignmentgroup": "True",
         "hovertemplate": "variable=Protein<br>Manufacturer=%{x}<br>value=%{y}<extra></extra>",
         "legendgroup": "Protein",
         "marker": {
          "color": "#EF553B"
         },
         "name": "Protein",
         "offsetgroup": "Protein",
         "orientation": "v",
         "showlegend": true,
         "textposition": "auto",
         "type": "bar",
         "x": [
          "A",
          "G",
          "K",
          "N",
          "P",
          "Q",
          "R"
         ],
         "xaxis": "x",
         "y": [
          4,
          2.3181818181818183,
          2.652173913043478,
          2.8333333333333335,
          2.4444444444444446,
          2.625,
          2.5
         ],
         "yaxis": "y"
        },
        {
         "alignmentgroup": "True",
         "hovertemplate": "variable=Fat<br>Manufacturer=%{x}<br>value=%{y}<extra></extra>",
         "legendgroup": "Fat",
         "marker": {
          "color": "#00cc96"
         },
         "name": "Fat",
         "offsetgroup": "Fat",
         "orientation": "v",
         "showlegend": true,
         "textposition": "auto",
         "type": "bar",
         "x": [
          "A",
          "G",
          "K",
          "N",
          "P",
          "Q",
          "R"
         ],
         "xaxis": "x",
         "y": [
          1,
          1.3636363636363635,
          0.6086956521739131,
          0.16666666666666666,
          0.8888888888888888,
          1.75,
          1.25
         ],
         "yaxis": "y"
        },
        {
         "alignmentgroup": "True",
         "hovertemplate": "variable=Sodium<br>Manufacturer=%{x}<br>value=%{y}<extra></extra>",
         "legendgroup": "Sodium",
         "marker": {
          "color": "#ab63fa"
         },
         "name": "Sodium",
         "offsetgroup": "Sodium",
         "orientation": "v",
         "showlegend": true,
         "textposition": "auto",
         "type": "bar",
         "x": [
          "A",
          "G",
          "K",
          "N",
          "P",
          "Q",
          "R"
         ],
         "xaxis": "x",
         "y": [
          0,
          200.45454545454547,
          174.7826086956522,
          37.5,
          146.11111111111111,
          92.5,
          198.125
         ],
         "yaxis": "y"
        },
        {
         "alignmentgroup": "True",
         "hovertemplate": "variable=Fiber<br>Manufacturer=%{x}<br>value=%{y}<extra></extra>",
         "legendgroup": "Fiber",
         "marker": {
          "color": "#FFA15A"
         },
         "name": "Fiber",
         "offsetgroup": "Fiber",
         "orientation": "v",
         "showlegend": true,
         "textposition": "auto",
         "type": "bar",
         "x": [
          "A",
          "G",
          "K",
          "N",
          "P",
          "Q",
          "R"
         ],
         "xaxis": "x",
         "y": [
          0,
          1.2727272727272727,
          2.739130434782609,
          4,
          2.7777777777777777,
          1.3375,
          1.875
         ],
         "yaxis": "y"
        },
        {
         "alignmentgroup": "True",
         "hovertemplate": "variable=Carbohydrates<br>Manufacturer=%{x}<br>value=%{y}<extra></extra>",
         "legendgroup": "Carbohydrates",
         "marker": {
          "color": "#19d3f3"
         },
         "name": "Carbohydrates",
         "offsetgroup": "Carbohydrates",
         "orientation": "v",
         "showlegend": true,
         "textposition": "auto",
         "type": "bar",
         "x": [
          "A",
          "G",
          "K",
          "N",
          "P",
          "Q",
          "R"
         ],
         "xaxis": "x",
         "y": [
          16,
          14.727272727272727,
          15.130434782608695,
          16,
          13.222222222222221,
          10.125,
          17.625
         ],
         "yaxis": "y"
        },
        {
         "alignmentgroup": "True",
         "hovertemplate": "variable=Sugars<br>Manufacturer=%{x}<br>value=%{y}<extra></extra>",
         "legendgroup": "Sugars",
         "marker": {
          "color": "#FF6692"
         },
         "name": "Sugars",
         "offsetgroup": "Sugars",
         "orientation": "v",
         "showlegend": true,
         "textposition": "auto",
         "type": "bar",
         "x": [
          "A",
          "G",
          "K",
          "N",
          "P",
          "Q",
          "R"
         ],
         "xaxis": "x",
         "y": [
          3,
          7.954545454545454,
          7.565217391304348,
          1.8333333333333333,
          8.777777777777779,
          5.375,
          6.125
         ],
         "yaxis": "y"
        },
        {
         "alignmentgroup": "True",
         "hovertemplate": "variable=Potassium<br>Manufacturer=%{x}<br>value=%{y}<extra></extra>",
         "legendgroup": "Potassium",
         "marker": {
          "color": "#B6E880"
         },
         "name": "Potassium",
         "offsetgroup": "Potassium",
         "orientation": "v",
         "showlegend": true,
         "textposition": "auto",
         "type": "bar",
         "x": [
          "A",
          "G",
          "K",
          "N",
          "P",
          "Q",
          "R"
         ],
         "xaxis": "x",
         "y": [
          95,
          85.22727272727273,
          103.04347826086956,
          120.83333333333333,
          113.88888888888889,
          74.375,
          89.375
         ],
         "yaxis": "y"
        },
        {
         "alignmentgroup": "True",
         "hovertemplate": "variable=Vitamins<br>Manufacturer=%{x}<br>value=%{y}<extra></extra>",
         "legendgroup": "Vitamins",
         "marker": {
          "color": "#FF97FF"
         },
         "name": "Vitamins",
         "offsetgroup": "Vitamins",
         "orientation": "v",
         "showlegend": true,
         "textposition": "auto",
         "type": "bar",
         "x": [
          "A",
          "G",
          "K",
          "N",
          "P",
          "Q",
          "R"
         ],
         "xaxis": "x",
         "y": [
          25,
          35.22727272727273,
          34.78260869565217,
          8.333333333333334,
          25,
          12.5,
          25
         ],
         "yaxis": "y"
        }
       ],
       "layout": {
        "barmode": "relative",
        "legend": {
         "title": {
          "text": "variable"
         },
         "tracegroupgap": 0
        },
        "margin": {
         "t": 60
        },
        "template": {
         "data": {
          "bar": [
           {
            "error_x": {
             "color": "#2a3f5f"
            },
            "error_y": {
             "color": "#2a3f5f"
            },
            "marker": {
             "line": {
              "color": "#E5ECF6",
              "width": 0.5
             }
            },
            "type": "bar"
           }
          ],
          "barpolar": [
           {
            "marker": {
             "line": {
              "color": "#E5ECF6",
              "width": 0.5
             }
            },
            "type": "barpolar"
           }
          ],
          "carpet": [
           {
            "aaxis": {
             "endlinecolor": "#2a3f5f",
             "gridcolor": "white",
             "linecolor": "white",
             "minorgridcolor": "white",
             "startlinecolor": "#2a3f5f"
            },
            "baxis": {
             "endlinecolor": "#2a3f5f",
             "gridcolor": "white",
             "linecolor": "white",
             "minorgridcolor": "white",
             "startlinecolor": "#2a3f5f"
            },
            "type": "carpet"
           }
          ],
          "choropleth": [
           {
            "colorbar": {
             "outlinewidth": 0,
             "ticks": ""
            },
            "type": "choropleth"
           }
          ],
          "contour": [
           {
            "colorbar": {
             "outlinewidth": 0,
             "ticks": ""
            },
            "colorscale": [
             [
              0,
              "#0d0887"
             ],
             [
              0.1111111111111111,
              "#46039f"
             ],
             [
              0.2222222222222222,
              "#7201a8"
             ],
             [
              0.3333333333333333,
              "#9c179e"
             ],
             [
              0.4444444444444444,
              "#bd3786"
             ],
             [
              0.5555555555555556,
              "#d8576b"
             ],
             [
              0.6666666666666666,
              "#ed7953"
             ],
             [
              0.7777777777777778,
              "#fb9f3a"
             ],
             [
              0.8888888888888888,
              "#fdca26"
             ],
             [
              1,
              "#f0f921"
             ]
            ],
            "type": "contour"
           }
          ],
          "contourcarpet": [
           {
            "colorbar": {
             "outlinewidth": 0,
             "ticks": ""
            },
            "type": "contourcarpet"
           }
          ],
          "heatmap": [
           {
            "colorbar": {
             "outlinewidth": 0,
             "ticks": ""
            },
            "colorscale": [
             [
              0,
              "#0d0887"
             ],
             [
              0.1111111111111111,
              "#46039f"
             ],
             [
              0.2222222222222222,
              "#7201a8"
             ],
             [
              0.3333333333333333,
              "#9c179e"
             ],
             [
              0.4444444444444444,
              "#bd3786"
             ],
             [
              0.5555555555555556,
              "#d8576b"
             ],
             [
              0.6666666666666666,
              "#ed7953"
             ],
             [
              0.7777777777777778,
              "#fb9f3a"
             ],
             [
              0.8888888888888888,
              "#fdca26"
             ],
             [
              1,
              "#f0f921"
             ]
            ],
            "type": "heatmap"
           }
          ],
          "heatmapgl": [
           {
            "colorbar": {
             "outlinewidth": 0,
             "ticks": ""
            },
            "colorscale": [
             [
              0,
              "#0d0887"
             ],
             [
              0.1111111111111111,
              "#46039f"
             ],
             [
              0.2222222222222222,
              "#7201a8"
             ],
             [
              0.3333333333333333,
              "#9c179e"
             ],
             [
              0.4444444444444444,
              "#bd3786"
             ],
             [
              0.5555555555555556,
              "#d8576b"
             ],
             [
              0.6666666666666666,
              "#ed7953"
             ],
             [
              0.7777777777777778,
              "#fb9f3a"
             ],
             [
              0.8888888888888888,
              "#fdca26"
             ],
             [
              1,
              "#f0f921"
             ]
            ],
            "type": "heatmapgl"
           }
          ],
          "histogram": [
           {
            "marker": {
             "colorbar": {
              "outlinewidth": 0,
              "ticks": ""
             }
            },
            "type": "histogram"
           }
          ],
          "histogram2d": [
           {
            "colorbar": {
             "outlinewidth": 0,
             "ticks": ""
            },
            "colorscale": [
             [
              0,
              "#0d0887"
             ],
             [
              0.1111111111111111,
              "#46039f"
             ],
             [
              0.2222222222222222,
              "#7201a8"
             ],
             [
              0.3333333333333333,
              "#9c179e"
             ],
             [
              0.4444444444444444,
              "#bd3786"
             ],
             [
              0.5555555555555556,
              "#d8576b"
             ],
             [
              0.6666666666666666,
              "#ed7953"
             ],
             [
              0.7777777777777778,
              "#fb9f3a"
             ],
             [
              0.8888888888888888,
              "#fdca26"
             ],
             [
              1,
              "#f0f921"
             ]
            ],
            "type": "histogram2d"
           }
          ],
          "histogram2dcontour": [
           {
            "colorbar": {
             "outlinewidth": 0,
             "ticks": ""
            },
            "colorscale": [
             [
              0,
              "#0d0887"
             ],
             [
              0.1111111111111111,
              "#46039f"
             ],
             [
              0.2222222222222222,
              "#7201a8"
             ],
             [
              0.3333333333333333,
              "#9c179e"
             ],
             [
              0.4444444444444444,
              "#bd3786"
             ],
             [
              0.5555555555555556,
              "#d8576b"
             ],
             [
              0.6666666666666666,
              "#ed7953"
             ],
             [
              0.7777777777777778,
              "#fb9f3a"
             ],
             [
              0.8888888888888888,
              "#fdca26"
             ],
             [
              1,
              "#f0f921"
             ]
            ],
            "type": "histogram2dcontour"
           }
          ],
          "mesh3d": [
           {
            "colorbar": {
             "outlinewidth": 0,
             "ticks": ""
            },
            "type": "mesh3d"
           }
          ],
          "parcoords": [
           {
            "line": {
             "colorbar": {
              "outlinewidth": 0,
              "ticks": ""
             }
            },
            "type": "parcoords"
           }
          ],
          "pie": [
           {
            "automargin": true,
            "type": "pie"
           }
          ],
          "scatter": [
           {
            "marker": {
             "colorbar": {
              "outlinewidth": 0,
              "ticks": ""
             }
            },
            "type": "scatter"
           }
          ],
          "scatter3d": [
           {
            "line": {
             "colorbar": {
              "outlinewidth": 0,
              "ticks": ""
             }
            },
            "marker": {
             "colorbar": {
              "outlinewidth": 0,
              "ticks": ""
             }
            },
            "type": "scatter3d"
           }
          ],
          "scattercarpet": [
           {
            "marker": {
             "colorbar": {
              "outlinewidth": 0,
              "ticks": ""
             }
            },
            "type": "scattercarpet"
           }
          ],
          "scattergeo": [
           {
            "marker": {
             "colorbar": {
              "outlinewidth": 0,
              "ticks": ""
             }
            },
            "type": "scattergeo"
           }
          ],
          "scattergl": [
           {
            "marker": {
             "colorbar": {
              "outlinewidth": 0,
              "ticks": ""
             }
            },
            "type": "scattergl"
           }
          ],
          "scattermapbox": [
           {
            "marker": {
             "colorbar": {
              "outlinewidth": 0,
              "ticks": ""
             }
            },
            "type": "scattermapbox"
           }
          ],
          "scatterpolar": [
           {
            "marker": {
             "colorbar": {
              "outlinewidth": 0,
              "ticks": ""
             }
            },
            "type": "scatterpolar"
           }
          ],
          "scatterpolargl": [
           {
            "marker": {
             "colorbar": {
              "outlinewidth": 0,
              "ticks": ""
             }
            },
            "type": "scatterpolargl"
           }
          ],
          "scatterternary": [
           {
            "marker": {
             "colorbar": {
              "outlinewidth": 0,
              "ticks": ""
             }
            },
            "type": "scatterternary"
           }
          ],
          "surface": [
           {
            "colorbar": {
             "outlinewidth": 0,
             "ticks": ""
            },
            "colorscale": [
             [
              0,
              "#0d0887"
             ],
             [
              0.1111111111111111,
              "#46039f"
             ],
             [
              0.2222222222222222,
              "#7201a8"
             ],
             [
              0.3333333333333333,
              "#9c179e"
             ],
             [
              0.4444444444444444,
              "#bd3786"
             ],
             [
              0.5555555555555556,
              "#d8576b"
             ],
             [
              0.6666666666666666,
              "#ed7953"
             ],
             [
              0.7777777777777778,
              "#fb9f3a"
             ],
             [
              0.8888888888888888,
              "#fdca26"
             ],
             [
              1,
              "#f0f921"
             ]
            ],
            "type": "surface"
           }
          ],
          "table": [
           {
            "cells": {
             "fill": {
              "color": "#EBF0F8"
             },
             "line": {
              "color": "white"
             }
            },
            "header": {
             "fill": {
              "color": "#C8D4E3"
             },
             "line": {
              "color": "white"
             }
            },
            "type": "table"
           }
          ]
         },
         "layout": {
          "annotationdefaults": {
           "arrowcolor": "#2a3f5f",
           "arrowhead": 0,
           "arrowwidth": 1
          },
          "coloraxis": {
           "colorbar": {
            "outlinewidth": 0,
            "ticks": ""
           }
          },
          "colorscale": {
           "diverging": [
            [
             0,
             "#8e0152"
            ],
            [
             0.1,
             "#c51b7d"
            ],
            [
             0.2,
             "#de77ae"
            ],
            [
             0.3,
             "#f1b6da"
            ],
            [
             0.4,
             "#fde0ef"
            ],
            [
             0.5,
             "#f7f7f7"
            ],
            [
             0.6,
             "#e6f5d0"
            ],
            [
             0.7,
             "#b8e186"
            ],
            [
             0.8,
             "#7fbc41"
            ],
            [
             0.9,
             "#4d9221"
            ],
            [
             1,
             "#276419"
            ]
           ],
           "sequential": [
            [
             0,
             "#0d0887"
            ],
            [
             0.1111111111111111,
             "#46039f"
            ],
            [
             0.2222222222222222,
             "#7201a8"
            ],
            [
             0.3333333333333333,
             "#9c179e"
            ],
            [
             0.4444444444444444,
             "#bd3786"
            ],
            [
             0.5555555555555556,
             "#d8576b"
            ],
            [
             0.6666666666666666,
             "#ed7953"
            ],
            [
             0.7777777777777778,
             "#fb9f3a"
            ],
            [
             0.8888888888888888,
             "#fdca26"
            ],
            [
             1,
             "#f0f921"
            ]
           ],
           "sequentialminus": [
            [
             0,
             "#0d0887"
            ],
            [
             0.1111111111111111,
             "#46039f"
            ],
            [
             0.2222222222222222,
             "#7201a8"
            ],
            [
             0.3333333333333333,
             "#9c179e"
            ],
            [
             0.4444444444444444,
             "#bd3786"
            ],
            [
             0.5555555555555556,
             "#d8576b"
            ],
            [
             0.6666666666666666,
             "#ed7953"
            ],
            [
             0.7777777777777778,
             "#fb9f3a"
            ],
            [
             0.8888888888888888,
             "#fdca26"
            ],
            [
             1,
             "#f0f921"
            ]
           ]
          },
          "colorway": [
           "#636efa",
           "#EF553B",
           "#00cc96",
           "#ab63fa",
           "#FFA15A",
           "#19d3f3",
           "#FF6692",
           "#B6E880",
           "#FF97FF",
           "#FECB52"
          ],
          "font": {
           "color": "#2a3f5f"
          },
          "geo": {
           "bgcolor": "white",
           "lakecolor": "white",
           "landcolor": "#E5ECF6",
           "showlakes": true,
           "showland": true,
           "subunitcolor": "white"
          },
          "hoverlabel": {
           "align": "left"
          },
          "hovermode": "closest",
          "mapbox": {
           "style": "light"
          },
          "paper_bgcolor": "white",
          "plot_bgcolor": "#E5ECF6",
          "polar": {
           "angularaxis": {
            "gridcolor": "white",
            "linecolor": "white",
            "ticks": ""
           },
           "bgcolor": "#E5ECF6",
           "radialaxis": {
            "gridcolor": "white",
            "linecolor": "white",
            "ticks": ""
           }
          },
          "scene": {
           "xaxis": {
            "backgroundcolor": "#E5ECF6",
            "gridcolor": "white",
            "gridwidth": 2,
            "linecolor": "white",
            "showbackground": true,
            "ticks": "",
            "zerolinecolor": "white"
           },
           "yaxis": {
            "backgroundcolor": "#E5ECF6",
            "gridcolor": "white",
            "gridwidth": 2,
            "linecolor": "white",
            "showbackground": true,
            "ticks": "",
            "zerolinecolor": "white"
           },
           "zaxis": {
            "backgroundcolor": "#E5ECF6",
            "gridcolor": "white",
            "gridwidth": 2,
            "linecolor": "white",
            "showbackground": true,
            "ticks": "",
            "zerolinecolor": "white"
           }
          },
          "shapedefaults": {
           "line": {
            "color": "#2a3f5f"
           }
          },
          "ternary": {
           "aaxis": {
            "gridcolor": "white",
            "linecolor": "white",
            "ticks": ""
           },
           "baxis": {
            "gridcolor": "white",
            "linecolor": "white",
            "ticks": ""
           },
           "bgcolor": "#E5ECF6",
           "caxis": {
            "gridcolor": "white",
            "linecolor": "white",
            "ticks": ""
           }
          },
          "title": {
           "x": 0.05
          },
          "xaxis": {
           "automargin": true,
           "gridcolor": "white",
           "linecolor": "white",
           "ticks": "",
           "title": {
            "standoff": 15
           },
           "zerolinecolor": "white",
           "zerolinewidth": 2
          },
          "yaxis": {
           "automargin": true,
           "gridcolor": "white",
           "linecolor": "white",
           "ticks": "",
           "title": {
            "standoff": 15
           },
           "zerolinecolor": "white",
           "zerolinewidth": 2
          }
         }
        },
        "xaxis": {
         "anchor": "y",
         "domain": [
          0,
          1
         ],
         "title": {
          "text": "Manufacturer"
         }
        },
        "yaxis": {
         "anchor": "x",
         "domain": [
          0,
          1
         ],
         "title": {
          "text": "value"
         }
        }
       }
      },
      "text/html": [
       "<div>                            <div id=\"f4393b7f-9131-4efd-b6d2-69ae816c9d2d\" class=\"plotly-graph-div\" style=\"height:525px; width:100%;\"></div>            <script type=\"text/javascript\">                require([\"plotly\"], function(Plotly) {                    window.PLOTLYENV=window.PLOTLYENV || {};                                    if (document.getElementById(\"f4393b7f-9131-4efd-b6d2-69ae816c9d2d\")) {                    Plotly.newPlot(                        \"f4393b7f-9131-4efd-b6d2-69ae816c9d2d\",                        [{\"alignmentgroup\": \"True\", \"hovertemplate\": \"variable=Calories<br>Manufacturer=%{x}<br>value=%{y}<extra></extra>\", \"legendgroup\": \"Calories\", \"marker\": {\"color\": \"#636efa\"}, \"name\": \"Calories\", \"offsetgroup\": \"Calories\", \"orientation\": \"v\", \"showlegend\": true, \"textposition\": \"auto\", \"type\": \"bar\", \"x\": [\"A\", \"G\", \"K\", \"N\", \"P\", \"Q\", \"R\"], \"xaxis\": \"x\", \"y\": [100.0, 111.36363636363636, 108.69565217391305, 86.66666666666667, 108.88888888888889, 95.0, 115.0], \"yaxis\": \"y\"}, {\"alignmentgroup\": \"True\", \"hovertemplate\": \"variable=Protein<br>Manufacturer=%{x}<br>value=%{y}<extra></extra>\", \"legendgroup\": \"Protein\", \"marker\": {\"color\": \"#EF553B\"}, \"name\": \"Protein\", \"offsetgroup\": \"Protein\", \"orientation\": \"v\", \"showlegend\": true, \"textposition\": \"auto\", \"type\": \"bar\", \"x\": [\"A\", \"G\", \"K\", \"N\", \"P\", \"Q\", \"R\"], \"xaxis\": \"x\", \"y\": [4.0, 2.3181818181818183, 2.652173913043478, 2.8333333333333335, 2.4444444444444446, 2.625, 2.5], \"yaxis\": \"y\"}, {\"alignmentgroup\": \"True\", \"hovertemplate\": \"variable=Fat<br>Manufacturer=%{x}<br>value=%{y}<extra></extra>\", \"legendgroup\": \"Fat\", \"marker\": {\"color\": \"#00cc96\"}, \"name\": \"Fat\", \"offsetgroup\": \"Fat\", \"orientation\": \"v\", \"showlegend\": true, \"textposition\": \"auto\", \"type\": \"bar\", \"x\": [\"A\", \"G\", \"K\", \"N\", \"P\", \"Q\", \"R\"], \"xaxis\": \"x\", \"y\": [1.0, 1.3636363636363635, 0.6086956521739131, 0.16666666666666666, 0.8888888888888888, 1.75, 1.25], \"yaxis\": \"y\"}, {\"alignmentgroup\": \"True\", \"hovertemplate\": \"variable=Sodium<br>Manufacturer=%{x}<br>value=%{y}<extra></extra>\", \"legendgroup\": \"Sodium\", \"marker\": {\"color\": \"#ab63fa\"}, \"name\": \"Sodium\", \"offsetgroup\": \"Sodium\", \"orientation\": \"v\", \"showlegend\": true, \"textposition\": \"auto\", \"type\": \"bar\", \"x\": [\"A\", \"G\", \"K\", \"N\", \"P\", \"Q\", \"R\"], \"xaxis\": \"x\", \"y\": [0.0, 200.45454545454547, 174.7826086956522, 37.5, 146.11111111111111, 92.5, 198.125], \"yaxis\": \"y\"}, {\"alignmentgroup\": \"True\", \"hovertemplate\": \"variable=Fiber<br>Manufacturer=%{x}<br>value=%{y}<extra></extra>\", \"legendgroup\": \"Fiber\", \"marker\": {\"color\": \"#FFA15A\"}, \"name\": \"Fiber\", \"offsetgroup\": \"Fiber\", \"orientation\": \"v\", \"showlegend\": true, \"textposition\": \"auto\", \"type\": \"bar\", \"x\": [\"A\", \"G\", \"K\", \"N\", \"P\", \"Q\", \"R\"], \"xaxis\": \"x\", \"y\": [0.0, 1.2727272727272727, 2.739130434782609, 4.0, 2.7777777777777777, 1.3375, 1.875], \"yaxis\": \"y\"}, {\"alignmentgroup\": \"True\", \"hovertemplate\": \"variable=Carbohydrates<br>Manufacturer=%{x}<br>value=%{y}<extra></extra>\", \"legendgroup\": \"Carbohydrates\", \"marker\": {\"color\": \"#19d3f3\"}, \"name\": \"Carbohydrates\", \"offsetgroup\": \"Carbohydrates\", \"orientation\": \"v\", \"showlegend\": true, \"textposition\": \"auto\", \"type\": \"bar\", \"x\": [\"A\", \"G\", \"K\", \"N\", \"P\", \"Q\", \"R\"], \"xaxis\": \"x\", \"y\": [16.0, 14.727272727272727, 15.130434782608695, 16.0, 13.222222222222221, 10.125, 17.625], \"yaxis\": \"y\"}, {\"alignmentgroup\": \"True\", \"hovertemplate\": \"variable=Sugars<br>Manufacturer=%{x}<br>value=%{y}<extra></extra>\", \"legendgroup\": \"Sugars\", \"marker\": {\"color\": \"#FF6692\"}, \"name\": \"Sugars\", \"offsetgroup\": \"Sugars\", \"orientation\": \"v\", \"showlegend\": true, \"textposition\": \"auto\", \"type\": \"bar\", \"x\": [\"A\", \"G\", \"K\", \"N\", \"P\", \"Q\", \"R\"], \"xaxis\": \"x\", \"y\": [3.0, 7.954545454545454, 7.565217391304348, 1.8333333333333333, 8.777777777777779, 5.375, 6.125], \"yaxis\": \"y\"}, {\"alignmentgroup\": \"True\", \"hovertemplate\": \"variable=Potassium<br>Manufacturer=%{x}<br>value=%{y}<extra></extra>\", \"legendgroup\": \"Potassium\", \"marker\": {\"color\": \"#B6E880\"}, \"name\": \"Potassium\", \"offsetgroup\": \"Potassium\", \"orientation\": \"v\", \"showlegend\": true, \"textposition\": \"auto\", \"type\": \"bar\", \"x\": [\"A\", \"G\", \"K\", \"N\", \"P\", \"Q\", \"R\"], \"xaxis\": \"x\", \"y\": [95.0, 85.22727272727273, 103.04347826086956, 120.83333333333333, 113.88888888888889, 74.375, 89.375], \"yaxis\": \"y\"}, {\"alignmentgroup\": \"True\", \"hovertemplate\": \"variable=Vitamins<br>Manufacturer=%{x}<br>value=%{y}<extra></extra>\", \"legendgroup\": \"Vitamins\", \"marker\": {\"color\": \"#FF97FF\"}, \"name\": \"Vitamins\", \"offsetgroup\": \"Vitamins\", \"orientation\": \"v\", \"showlegend\": true, \"textposition\": \"auto\", \"type\": \"bar\", \"x\": [\"A\", \"G\", \"K\", \"N\", \"P\", \"Q\", \"R\"], \"xaxis\": \"x\", \"y\": [25.0, 35.22727272727273, 34.78260869565217, 8.333333333333334, 25.0, 12.5, 25.0], \"yaxis\": \"y\"}],                        {\"barmode\": \"relative\", \"legend\": {\"title\": {\"text\": \"variable\"}, \"tracegroupgap\": 0}, \"margin\": {\"t\": 60}, \"template\": {\"data\": {\"bar\": [{\"error_x\": {\"color\": \"#2a3f5f\"}, \"error_y\": {\"color\": \"#2a3f5f\"}, \"marker\": {\"line\": {\"color\": \"#E5ECF6\", \"width\": 0.5}}, \"type\": \"bar\"}], \"barpolar\": [{\"marker\": {\"line\": {\"color\": \"#E5ECF6\", \"width\": 0.5}}, \"type\": \"barpolar\"}], \"carpet\": [{\"aaxis\": {\"endlinecolor\": \"#2a3f5f\", \"gridcolor\": \"white\", \"linecolor\": \"white\", \"minorgridcolor\": \"white\", \"startlinecolor\": \"#2a3f5f\"}, \"baxis\": {\"endlinecolor\": \"#2a3f5f\", \"gridcolor\": \"white\", \"linecolor\": \"white\", \"minorgridcolor\": \"white\", \"startlinecolor\": \"#2a3f5f\"}, \"type\": \"carpet\"}], \"choropleth\": [{\"colorbar\": {\"outlinewidth\": 0, \"ticks\": \"\"}, \"type\": \"choropleth\"}], \"contour\": [{\"colorbar\": {\"outlinewidth\": 0, \"ticks\": \"\"}, \"colorscale\": [[0.0, \"#0d0887\"], [0.1111111111111111, \"#46039f\"], [0.2222222222222222, \"#7201a8\"], [0.3333333333333333, \"#9c179e\"], [0.4444444444444444, \"#bd3786\"], [0.5555555555555556, \"#d8576b\"], [0.6666666666666666, \"#ed7953\"], [0.7777777777777778, \"#fb9f3a\"], [0.8888888888888888, \"#fdca26\"], [1.0, \"#f0f921\"]], \"type\": \"contour\"}], \"contourcarpet\": [{\"colorbar\": {\"outlinewidth\": 0, \"ticks\": \"\"}, \"type\": \"contourcarpet\"}], \"heatmap\": [{\"colorbar\": {\"outlinewidth\": 0, \"ticks\": \"\"}, \"colorscale\": [[0.0, \"#0d0887\"], [0.1111111111111111, \"#46039f\"], [0.2222222222222222, \"#7201a8\"], [0.3333333333333333, \"#9c179e\"], [0.4444444444444444, \"#bd3786\"], [0.5555555555555556, \"#d8576b\"], [0.6666666666666666, \"#ed7953\"], [0.7777777777777778, \"#fb9f3a\"], [0.8888888888888888, \"#fdca26\"], [1.0, \"#f0f921\"]], \"type\": \"heatmap\"}], \"heatmapgl\": [{\"colorbar\": {\"outlinewidth\": 0, \"ticks\": \"\"}, \"colorscale\": [[0.0, \"#0d0887\"], [0.1111111111111111, \"#46039f\"], [0.2222222222222222, \"#7201a8\"], [0.3333333333333333, \"#9c179e\"], [0.4444444444444444, \"#bd3786\"], [0.5555555555555556, \"#d8576b\"], [0.6666666666666666, \"#ed7953\"], [0.7777777777777778, \"#fb9f3a\"], [0.8888888888888888, \"#fdca26\"], [1.0, \"#f0f921\"]], \"type\": \"heatmapgl\"}], \"histogram\": [{\"marker\": {\"colorbar\": {\"outlinewidth\": 0, \"ticks\": \"\"}}, \"type\": \"histogram\"}], \"histogram2d\": [{\"colorbar\": {\"outlinewidth\": 0, \"ticks\": \"\"}, \"colorscale\": [[0.0, \"#0d0887\"], [0.1111111111111111, \"#46039f\"], [0.2222222222222222, \"#7201a8\"], [0.3333333333333333, \"#9c179e\"], [0.4444444444444444, \"#bd3786\"], [0.5555555555555556, \"#d8576b\"], [0.6666666666666666, \"#ed7953\"], [0.7777777777777778, \"#fb9f3a\"], [0.8888888888888888, \"#fdca26\"], [1.0, \"#f0f921\"]], \"type\": \"histogram2d\"}], \"histogram2dcontour\": [{\"colorbar\": {\"outlinewidth\": 0, \"ticks\": \"\"}, \"colorscale\": [[0.0, \"#0d0887\"], [0.1111111111111111, \"#46039f\"], [0.2222222222222222, \"#7201a8\"], [0.3333333333333333, \"#9c179e\"], [0.4444444444444444, \"#bd3786\"], [0.5555555555555556, \"#d8576b\"], [0.6666666666666666, \"#ed7953\"], [0.7777777777777778, \"#fb9f3a\"], [0.8888888888888888, \"#fdca26\"], [1.0, \"#f0f921\"]], \"type\": \"histogram2dcontour\"}], \"mesh3d\": [{\"colorbar\": {\"outlinewidth\": 0, \"ticks\": \"\"}, \"type\": \"mesh3d\"}], \"parcoords\": [{\"line\": {\"colorbar\": {\"outlinewidth\": 0, \"ticks\": \"\"}}, \"type\": \"parcoords\"}], \"pie\": [{\"automargin\": true, \"type\": \"pie\"}], \"scatter\": [{\"marker\": {\"colorbar\": {\"outlinewidth\": 0, \"ticks\": \"\"}}, \"type\": \"scatter\"}], \"scatter3d\": [{\"line\": {\"colorbar\": {\"outlinewidth\": 0, \"ticks\": \"\"}}, \"marker\": {\"colorbar\": {\"outlinewidth\": 0, \"ticks\": \"\"}}, \"type\": \"scatter3d\"}], \"scattercarpet\": [{\"marker\": {\"colorbar\": {\"outlinewidth\": 0, \"ticks\": \"\"}}, \"type\": \"scattercarpet\"}], \"scattergeo\": [{\"marker\": {\"colorbar\": {\"outlinewidth\": 0, \"ticks\": \"\"}}, \"type\": \"scattergeo\"}], \"scattergl\": [{\"marker\": {\"colorbar\": {\"outlinewidth\": 0, \"ticks\": \"\"}}, \"type\": \"scattergl\"}], \"scattermapbox\": [{\"marker\": {\"colorbar\": {\"outlinewidth\": 0, \"ticks\": \"\"}}, \"type\": \"scattermapbox\"}], \"scatterpolar\": [{\"marker\": {\"colorbar\": {\"outlinewidth\": 0, \"ticks\": \"\"}}, \"type\": \"scatterpolar\"}], \"scatterpolargl\": [{\"marker\": {\"colorbar\": {\"outlinewidth\": 0, \"ticks\": \"\"}}, \"type\": \"scatterpolargl\"}], \"scatterternary\": [{\"marker\": {\"colorbar\": {\"outlinewidth\": 0, \"ticks\": \"\"}}, \"type\": \"scatterternary\"}], \"surface\": [{\"colorbar\": {\"outlinewidth\": 0, \"ticks\": \"\"}, \"colorscale\": [[0.0, \"#0d0887\"], [0.1111111111111111, \"#46039f\"], [0.2222222222222222, \"#7201a8\"], [0.3333333333333333, \"#9c179e\"], [0.4444444444444444, \"#bd3786\"], [0.5555555555555556, \"#d8576b\"], [0.6666666666666666, \"#ed7953\"], [0.7777777777777778, \"#fb9f3a\"], [0.8888888888888888, \"#fdca26\"], [1.0, \"#f0f921\"]], \"type\": \"surface\"}], \"table\": [{\"cells\": {\"fill\": {\"color\": \"#EBF0F8\"}, \"line\": {\"color\": \"white\"}}, \"header\": {\"fill\": {\"color\": \"#C8D4E3\"}, \"line\": {\"color\": \"white\"}}, \"type\": \"table\"}]}, \"layout\": {\"annotationdefaults\": {\"arrowcolor\": \"#2a3f5f\", \"arrowhead\": 0, \"arrowwidth\": 1}, \"coloraxis\": {\"colorbar\": {\"outlinewidth\": 0, \"ticks\": \"\"}}, \"colorscale\": {\"diverging\": [[0, \"#8e0152\"], [0.1, \"#c51b7d\"], [0.2, \"#de77ae\"], [0.3, \"#f1b6da\"], [0.4, \"#fde0ef\"], [0.5, \"#f7f7f7\"], [0.6, \"#e6f5d0\"], [0.7, \"#b8e186\"], [0.8, \"#7fbc41\"], [0.9, \"#4d9221\"], [1, \"#276419\"]], \"sequential\": [[0.0, \"#0d0887\"], [0.1111111111111111, \"#46039f\"], [0.2222222222222222, \"#7201a8\"], [0.3333333333333333, \"#9c179e\"], [0.4444444444444444, \"#bd3786\"], [0.5555555555555556, \"#d8576b\"], [0.6666666666666666, \"#ed7953\"], [0.7777777777777778, \"#fb9f3a\"], [0.8888888888888888, \"#fdca26\"], [1.0, \"#f0f921\"]], \"sequentialminus\": [[0.0, \"#0d0887\"], [0.1111111111111111, \"#46039f\"], [0.2222222222222222, \"#7201a8\"], [0.3333333333333333, \"#9c179e\"], [0.4444444444444444, \"#bd3786\"], [0.5555555555555556, \"#d8576b\"], [0.6666666666666666, \"#ed7953\"], [0.7777777777777778, \"#fb9f3a\"], [0.8888888888888888, \"#fdca26\"], [1.0, \"#f0f921\"]]}, \"colorway\": [\"#636efa\", \"#EF553B\", \"#00cc96\", \"#ab63fa\", \"#FFA15A\", \"#19d3f3\", \"#FF6692\", \"#B6E880\", \"#FF97FF\", \"#FECB52\"], \"font\": {\"color\": \"#2a3f5f\"}, \"geo\": {\"bgcolor\": \"white\", \"lakecolor\": \"white\", \"landcolor\": \"#E5ECF6\", \"showlakes\": true, \"showland\": true, \"subunitcolor\": \"white\"}, \"hoverlabel\": {\"align\": \"left\"}, \"hovermode\": \"closest\", \"mapbox\": {\"style\": \"light\"}, \"paper_bgcolor\": \"white\", \"plot_bgcolor\": \"#E5ECF6\", \"polar\": {\"angularaxis\": {\"gridcolor\": \"white\", \"linecolor\": \"white\", \"ticks\": \"\"}, \"bgcolor\": \"#E5ECF6\", \"radialaxis\": {\"gridcolor\": \"white\", \"linecolor\": \"white\", \"ticks\": \"\"}}, \"scene\": {\"xaxis\": {\"backgroundcolor\": \"#E5ECF6\", \"gridcolor\": \"white\", \"gridwidth\": 2, \"linecolor\": \"white\", \"showbackground\": true, \"ticks\": \"\", \"zerolinecolor\": \"white\"}, \"yaxis\": {\"backgroundcolor\": \"#E5ECF6\", \"gridcolor\": \"white\", \"gridwidth\": 2, \"linecolor\": \"white\", \"showbackground\": true, \"ticks\": \"\", \"zerolinecolor\": \"white\"}, \"zaxis\": {\"backgroundcolor\": \"#E5ECF6\", \"gridcolor\": \"white\", \"gridwidth\": 2, \"linecolor\": \"white\", \"showbackground\": true, \"ticks\": \"\", \"zerolinecolor\": \"white\"}}, \"shapedefaults\": {\"line\": {\"color\": \"#2a3f5f\"}}, \"ternary\": {\"aaxis\": {\"gridcolor\": \"white\", \"linecolor\": \"white\", \"ticks\": \"\"}, \"baxis\": {\"gridcolor\": \"white\", \"linecolor\": \"white\", \"ticks\": \"\"}, \"bgcolor\": \"#E5ECF6\", \"caxis\": {\"gridcolor\": \"white\", \"linecolor\": \"white\", \"ticks\": \"\"}}, \"title\": {\"x\": 0.05}, \"xaxis\": {\"automargin\": true, \"gridcolor\": \"white\", \"linecolor\": \"white\", \"ticks\": \"\", \"title\": {\"standoff\": 15}, \"zerolinecolor\": \"white\", \"zerolinewidth\": 2}, \"yaxis\": {\"automargin\": true, \"gridcolor\": \"white\", \"linecolor\": \"white\", \"ticks\": \"\", \"title\": {\"standoff\": 15}, \"zerolinecolor\": \"white\", \"zerolinewidth\": 2}}}, \"xaxis\": {\"anchor\": \"y\", \"domain\": [0.0, 1.0], \"title\": {\"text\": \"Manufacturer\"}}, \"yaxis\": {\"anchor\": \"x\", \"domain\": [0.0, 1.0], \"title\": {\"text\": \"value\"}}},                        {\"responsive\": true}                    ).then(function(){\n",
       "                            \n",
       "var gd = document.getElementById('f4393b7f-9131-4efd-b6d2-69ae816c9d2d');\n",
       "var x = new MutationObserver(function (mutations, observer) {{\n",
       "        var display = window.getComputedStyle(gd).display;\n",
       "        if (!display || display === 'none') {{\n",
       "            console.log([gd, 'removed!']);\n",
       "            Plotly.purge(gd);\n",
       "            observer.disconnect();\n",
       "        }}\n",
       "}});\n",
       "\n",
       "// Listen for the removal of the full notebook cells\n",
       "var notebookContainer = gd.closest('#notebook-container');\n",
       "if (notebookContainer) {{\n",
       "    x.observe(notebookContainer, {childList: true});\n",
       "}}\n",
       "\n",
       "// Listen for the clearing of the current output cell\n",
       "var outputEl = gd.closest('.output');\n",
       "if (outputEl) {{\n",
       "    x.observe(outputEl, {childList: true});\n",
       "}}\n",
       "\n",
       "                        })                };                });            </script>        </div>"
      ]
     },
     "metadata": {},
     "output_type": "display_data"
    }
   ],
   "source": [
    "manu=df.drop([\"Name\",\"Type\",\"Rating\",\"Shelf\",\"Weight\",\"Cups\"],axis=1).groupby([\"Manufacturer\"]).mean()\n",
    "\n",
    "px.bar(manu,x=manu.index,y=[\"Calories\",\"Protein\",\"Fat\",\"Sodium\",\"Fiber\",\"Carbohydrates\",\"Sugars\",\"Potassium\",\"Vitamins\"])"
   ]
  },
  {
   "cell_type": "markdown",
   "metadata": {
    "papermill": {
     "duration": 0.039286,
     "end_time": "2020-12-30T13:11:12.997148",
     "exception": false,
     "start_time": "2020-12-30T13:11:12.957862",
     "status": "completed"
    },
    "tags": []
   },
   "source": [
    "> double click on the legend to isolate the variable"
   ]
  },
  {
   "cell_type": "markdown",
   "metadata": {
    "papermill": {
     "duration": 0.038432,
     "end_time": "2020-12-30T13:11:13.076860",
     "exception": false,
     "start_time": "2020-12-30T13:11:13.038428",
     "status": "completed"
    },
    "tags": []
   },
   "source": [
    "*A* (American Home Food Products)'s cereal has viturally no *sodium* or *fibre* but the most *protein* compared to the other manufacturers. *Q* (Quaker Oats) has the most *fat*, and *P* (Post) the most *sugars*. "
   ]
  },
  {
   "cell_type": "code",
   "execution_count": 19,
   "metadata": {
    "execution": {
     "iopub.execute_input": "2020-12-30T13:11:13.181236Z",
     "iopub.status.busy": "2020-12-30T13:11:13.180201Z",
     "iopub.status.idle": "2020-12-30T13:11:13.286139Z",
     "shell.execute_reply": "2020-12-30T13:11:13.285490Z"
    },
    "papermill": {
     "duration": 0.170345,
     "end_time": "2020-12-30T13:11:13.286256",
     "exception": false,
     "start_time": "2020-12-30T13:11:13.115911",
     "status": "completed"
    },
    "tags": []
   },
   "outputs": [
    {
     "data": {
      "application/vnd.plotly.v1+json": {
       "config": {
        "plotlyServerURL": "https://plot.ly"
       },
       "data": [
        {
         "alignmentgroup": "True",
         "bingroup": "x",
         "hovertemplate": "variable=Calories<br>value=%{x}<br>count=%{y}<extra></extra>",
         "legendgroup": "Calories",
         "marker": {
          "color": "#636efa"
         },
         "name": "Calories",
         "nbinsx": 30,
         "offsetgroup": "Calories",
         "orientation": "v",
         "showlegend": true,
         "type": "histogram",
         "x": [
          100,
          111.36363636363636,
          108.69565217391305,
          86.66666666666667,
          108.88888888888889,
          95,
          115
         ],
         "xaxis": "x",
         "yaxis": "y"
        },
        {
         "alignmentgroup": "True",
         "bingroup": "x",
         "hovertemplate": "variable=Protein<br>value=%{x}<br>count=%{y}<extra></extra>",
         "legendgroup": "Protein",
         "marker": {
          "color": "#EF553B"
         },
         "name": "Protein",
         "nbinsx": 30,
         "offsetgroup": "Protein",
         "orientation": "v",
         "showlegend": true,
         "type": "histogram",
         "x": [
          4,
          2.3181818181818183,
          2.652173913043478,
          2.8333333333333335,
          2.4444444444444446,
          2.625,
          2.5
         ],
         "xaxis": "x",
         "yaxis": "y"
        },
        {
         "alignmentgroup": "True",
         "bingroup": "x",
         "hovertemplate": "variable=Fat<br>value=%{x}<br>count=%{y}<extra></extra>",
         "legendgroup": "Fat",
         "marker": {
          "color": "#00cc96"
         },
         "name": "Fat",
         "nbinsx": 30,
         "offsetgroup": "Fat",
         "orientation": "v",
         "showlegend": true,
         "type": "histogram",
         "x": [
          1,
          1.3636363636363635,
          0.6086956521739131,
          0.16666666666666666,
          0.8888888888888888,
          1.75,
          1.25
         ],
         "xaxis": "x",
         "yaxis": "y"
        },
        {
         "alignmentgroup": "True",
         "bingroup": "x",
         "hovertemplate": "variable=Sodium<br>value=%{x}<br>count=%{y}<extra></extra>",
         "legendgroup": "Sodium",
         "marker": {
          "color": "#ab63fa"
         },
         "name": "Sodium",
         "nbinsx": 30,
         "offsetgroup": "Sodium",
         "orientation": "v",
         "showlegend": true,
         "type": "histogram",
         "x": [
          0,
          200.45454545454547,
          174.7826086956522,
          37.5,
          146.11111111111111,
          92.5,
          198.125
         ],
         "xaxis": "x",
         "yaxis": "y"
        },
        {
         "alignmentgroup": "True",
         "bingroup": "x",
         "hovertemplate": "variable=Fiber<br>value=%{x}<br>count=%{y}<extra></extra>",
         "legendgroup": "Fiber",
         "marker": {
          "color": "#FFA15A"
         },
         "name": "Fiber",
         "nbinsx": 30,
         "offsetgroup": "Fiber",
         "orientation": "v",
         "showlegend": true,
         "type": "histogram",
         "x": [
          0,
          1.2727272727272727,
          2.739130434782609,
          4,
          2.7777777777777777,
          1.3375,
          1.875
         ],
         "xaxis": "x",
         "yaxis": "y"
        },
        {
         "alignmentgroup": "True",
         "bingroup": "x",
         "hovertemplate": "variable=Carbohydrates<br>value=%{x}<br>count=%{y}<extra></extra>",
         "legendgroup": "Carbohydrates",
         "marker": {
          "color": "#19d3f3"
         },
         "name": "Carbohydrates",
         "nbinsx": 30,
         "offsetgroup": "Carbohydrates",
         "orientation": "v",
         "showlegend": true,
         "type": "histogram",
         "x": [
          16,
          14.727272727272727,
          15.130434782608695,
          16,
          13.222222222222221,
          10.125,
          17.625
         ],
         "xaxis": "x",
         "yaxis": "y"
        },
        {
         "alignmentgroup": "True",
         "bingroup": "x",
         "hovertemplate": "variable=Sugars<br>value=%{x}<br>count=%{y}<extra></extra>",
         "legendgroup": "Sugars",
         "marker": {
          "color": "#FF6692"
         },
         "name": "Sugars",
         "nbinsx": 30,
         "offsetgroup": "Sugars",
         "orientation": "v",
         "showlegend": true,
         "type": "histogram",
         "x": [
          3,
          7.954545454545454,
          7.565217391304348,
          1.8333333333333333,
          8.777777777777779,
          5.375,
          6.125
         ],
         "xaxis": "x",
         "yaxis": "y"
        },
        {
         "alignmentgroup": "True",
         "bingroup": "x",
         "hovertemplate": "variable=Potassium<br>value=%{x}<br>count=%{y}<extra></extra>",
         "legendgroup": "Potassium",
         "marker": {
          "color": "#B6E880"
         },
         "name": "Potassium",
         "nbinsx": 30,
         "offsetgroup": "Potassium",
         "orientation": "v",
         "showlegend": true,
         "type": "histogram",
         "x": [
          95,
          85.22727272727273,
          103.04347826086956,
          120.83333333333333,
          113.88888888888889,
          74.375,
          89.375
         ],
         "xaxis": "x",
         "yaxis": "y"
        },
        {
         "alignmentgroup": "True",
         "bingroup": "x",
         "hovertemplate": "variable=Vitamins<br>value=%{x}<br>count=%{y}<extra></extra>",
         "legendgroup": "Vitamins",
         "marker": {
          "color": "#FF97FF"
         },
         "name": "Vitamins",
         "nbinsx": 30,
         "offsetgroup": "Vitamins",
         "orientation": "v",
         "showlegend": true,
         "type": "histogram",
         "x": [
          25,
          35.22727272727273,
          34.78260869565217,
          8.333333333333334,
          25,
          12.5,
          25
         ],
         "xaxis": "x",
         "yaxis": "y"
        }
       ],
       "layout": {
        "barmode": "relative",
        "legend": {
         "title": {
          "text": "variable"
         },
         "tracegroupgap": 0
        },
        "margin": {
         "t": 60
        },
        "template": {
         "data": {
          "bar": [
           {
            "error_x": {
             "color": "#2a3f5f"
            },
            "error_y": {
             "color": "#2a3f5f"
            },
            "marker": {
             "line": {
              "color": "#E5ECF6",
              "width": 0.5
             }
            },
            "type": "bar"
           }
          ],
          "barpolar": [
           {
            "marker": {
             "line": {
              "color": "#E5ECF6",
              "width": 0.5
             }
            },
            "type": "barpolar"
           }
          ],
          "carpet": [
           {
            "aaxis": {
             "endlinecolor": "#2a3f5f",
             "gridcolor": "white",
             "linecolor": "white",
             "minorgridcolor": "white",
             "startlinecolor": "#2a3f5f"
            },
            "baxis": {
             "endlinecolor": "#2a3f5f",
             "gridcolor": "white",
             "linecolor": "white",
             "minorgridcolor": "white",
             "startlinecolor": "#2a3f5f"
            },
            "type": "carpet"
           }
          ],
          "choropleth": [
           {
            "colorbar": {
             "outlinewidth": 0,
             "ticks": ""
            },
            "type": "choropleth"
           }
          ],
          "contour": [
           {
            "colorbar": {
             "outlinewidth": 0,
             "ticks": ""
            },
            "colorscale": [
             [
              0,
              "#0d0887"
             ],
             [
              0.1111111111111111,
              "#46039f"
             ],
             [
              0.2222222222222222,
              "#7201a8"
             ],
             [
              0.3333333333333333,
              "#9c179e"
             ],
             [
              0.4444444444444444,
              "#bd3786"
             ],
             [
              0.5555555555555556,
              "#d8576b"
             ],
             [
              0.6666666666666666,
              "#ed7953"
             ],
             [
              0.7777777777777778,
              "#fb9f3a"
             ],
             [
              0.8888888888888888,
              "#fdca26"
             ],
             [
              1,
              "#f0f921"
             ]
            ],
            "type": "contour"
           }
          ],
          "contourcarpet": [
           {
            "colorbar": {
             "outlinewidth": 0,
             "ticks": ""
            },
            "type": "contourcarpet"
           }
          ],
          "heatmap": [
           {
            "colorbar": {
             "outlinewidth": 0,
             "ticks": ""
            },
            "colorscale": [
             [
              0,
              "#0d0887"
             ],
             [
              0.1111111111111111,
              "#46039f"
             ],
             [
              0.2222222222222222,
              "#7201a8"
             ],
             [
              0.3333333333333333,
              "#9c179e"
             ],
             [
              0.4444444444444444,
              "#bd3786"
             ],
             [
              0.5555555555555556,
              "#d8576b"
             ],
             [
              0.6666666666666666,
              "#ed7953"
             ],
             [
              0.7777777777777778,
              "#fb9f3a"
             ],
             [
              0.8888888888888888,
              "#fdca26"
             ],
             [
              1,
              "#f0f921"
             ]
            ],
            "type": "heatmap"
           }
          ],
          "heatmapgl": [
           {
            "colorbar": {
             "outlinewidth": 0,
             "ticks": ""
            },
            "colorscale": [
             [
              0,
              "#0d0887"
             ],
             [
              0.1111111111111111,
              "#46039f"
             ],
             [
              0.2222222222222222,
              "#7201a8"
             ],
             [
              0.3333333333333333,
              "#9c179e"
             ],
             [
              0.4444444444444444,
              "#bd3786"
             ],
             [
              0.5555555555555556,
              "#d8576b"
             ],
             [
              0.6666666666666666,
              "#ed7953"
             ],
             [
              0.7777777777777778,
              "#fb9f3a"
             ],
             [
              0.8888888888888888,
              "#fdca26"
             ],
             [
              1,
              "#f0f921"
             ]
            ],
            "type": "heatmapgl"
           }
          ],
          "histogram": [
           {
            "marker": {
             "colorbar": {
              "outlinewidth": 0,
              "ticks": ""
             }
            },
            "type": "histogram"
           }
          ],
          "histogram2d": [
           {
            "colorbar": {
             "outlinewidth": 0,
             "ticks": ""
            },
            "colorscale": [
             [
              0,
              "#0d0887"
             ],
             [
              0.1111111111111111,
              "#46039f"
             ],
             [
              0.2222222222222222,
              "#7201a8"
             ],
             [
              0.3333333333333333,
              "#9c179e"
             ],
             [
              0.4444444444444444,
              "#bd3786"
             ],
             [
              0.5555555555555556,
              "#d8576b"
             ],
             [
              0.6666666666666666,
              "#ed7953"
             ],
             [
              0.7777777777777778,
              "#fb9f3a"
             ],
             [
              0.8888888888888888,
              "#fdca26"
             ],
             [
              1,
              "#f0f921"
             ]
            ],
            "type": "histogram2d"
           }
          ],
          "histogram2dcontour": [
           {
            "colorbar": {
             "outlinewidth": 0,
             "ticks": ""
            },
            "colorscale": [
             [
              0,
              "#0d0887"
             ],
             [
              0.1111111111111111,
              "#46039f"
             ],
             [
              0.2222222222222222,
              "#7201a8"
             ],
             [
              0.3333333333333333,
              "#9c179e"
             ],
             [
              0.4444444444444444,
              "#bd3786"
             ],
             [
              0.5555555555555556,
              "#d8576b"
             ],
             [
              0.6666666666666666,
              "#ed7953"
             ],
             [
              0.7777777777777778,
              "#fb9f3a"
             ],
             [
              0.8888888888888888,
              "#fdca26"
             ],
             [
              1,
              "#f0f921"
             ]
            ],
            "type": "histogram2dcontour"
           }
          ],
          "mesh3d": [
           {
            "colorbar": {
             "outlinewidth": 0,
             "ticks": ""
            },
            "type": "mesh3d"
           }
          ],
          "parcoords": [
           {
            "line": {
             "colorbar": {
              "outlinewidth": 0,
              "ticks": ""
             }
            },
            "type": "parcoords"
           }
          ],
          "pie": [
           {
            "automargin": true,
            "type": "pie"
           }
          ],
          "scatter": [
           {
            "marker": {
             "colorbar": {
              "outlinewidth": 0,
              "ticks": ""
             }
            },
            "type": "scatter"
           }
          ],
          "scatter3d": [
           {
            "line": {
             "colorbar": {
              "outlinewidth": 0,
              "ticks": ""
             }
            },
            "marker": {
             "colorbar": {
              "outlinewidth": 0,
              "ticks": ""
             }
            },
            "type": "scatter3d"
           }
          ],
          "scattercarpet": [
           {
            "marker": {
             "colorbar": {
              "outlinewidth": 0,
              "ticks": ""
             }
            },
            "type": "scattercarpet"
           }
          ],
          "scattergeo": [
           {
            "marker": {
             "colorbar": {
              "outlinewidth": 0,
              "ticks": ""
             }
            },
            "type": "scattergeo"
           }
          ],
          "scattergl": [
           {
            "marker": {
             "colorbar": {
              "outlinewidth": 0,
              "ticks": ""
             }
            },
            "type": "scattergl"
           }
          ],
          "scattermapbox": [
           {
            "marker": {
             "colorbar": {
              "outlinewidth": 0,
              "ticks": ""
             }
            },
            "type": "scattermapbox"
           }
          ],
          "scatterpolar": [
           {
            "marker": {
             "colorbar": {
              "outlinewidth": 0,
              "ticks": ""
             }
            },
            "type": "scatterpolar"
           }
          ],
          "scatterpolargl": [
           {
            "marker": {
             "colorbar": {
              "outlinewidth": 0,
              "ticks": ""
             }
            },
            "type": "scatterpolargl"
           }
          ],
          "scatterternary": [
           {
            "marker": {
             "colorbar": {
              "outlinewidth": 0,
              "ticks": ""
             }
            },
            "type": "scatterternary"
           }
          ],
          "surface": [
           {
            "colorbar": {
             "outlinewidth": 0,
             "ticks": ""
            },
            "colorscale": [
             [
              0,
              "#0d0887"
             ],
             [
              0.1111111111111111,
              "#46039f"
             ],
             [
              0.2222222222222222,
              "#7201a8"
             ],
             [
              0.3333333333333333,
              "#9c179e"
             ],
             [
              0.4444444444444444,
              "#bd3786"
             ],
             [
              0.5555555555555556,
              "#d8576b"
             ],
             [
              0.6666666666666666,
              "#ed7953"
             ],
             [
              0.7777777777777778,
              "#fb9f3a"
             ],
             [
              0.8888888888888888,
              "#fdca26"
             ],
             [
              1,
              "#f0f921"
             ]
            ],
            "type": "surface"
           }
          ],
          "table": [
           {
            "cells": {
             "fill": {
              "color": "#EBF0F8"
             },
             "line": {
              "color": "white"
             }
            },
            "header": {
             "fill": {
              "color": "#C8D4E3"
             },
             "line": {
              "color": "white"
             }
            },
            "type": "table"
           }
          ]
         },
         "layout": {
          "annotationdefaults": {
           "arrowcolor": "#2a3f5f",
           "arrowhead": 0,
           "arrowwidth": 1
          },
          "coloraxis": {
           "colorbar": {
            "outlinewidth": 0,
            "ticks": ""
           }
          },
          "colorscale": {
           "diverging": [
            [
             0,
             "#8e0152"
            ],
            [
             0.1,
             "#c51b7d"
            ],
            [
             0.2,
             "#de77ae"
            ],
            [
             0.3,
             "#f1b6da"
            ],
            [
             0.4,
             "#fde0ef"
            ],
            [
             0.5,
             "#f7f7f7"
            ],
            [
             0.6,
             "#e6f5d0"
            ],
            [
             0.7,
             "#b8e186"
            ],
            [
             0.8,
             "#7fbc41"
            ],
            [
             0.9,
             "#4d9221"
            ],
            [
             1,
             "#276419"
            ]
           ],
           "sequential": [
            [
             0,
             "#0d0887"
            ],
            [
             0.1111111111111111,
             "#46039f"
            ],
            [
             0.2222222222222222,
             "#7201a8"
            ],
            [
             0.3333333333333333,
             "#9c179e"
            ],
            [
             0.4444444444444444,
             "#bd3786"
            ],
            [
             0.5555555555555556,
             "#d8576b"
            ],
            [
             0.6666666666666666,
             "#ed7953"
            ],
            [
             0.7777777777777778,
             "#fb9f3a"
            ],
            [
             0.8888888888888888,
             "#fdca26"
            ],
            [
             1,
             "#f0f921"
            ]
           ],
           "sequentialminus": [
            [
             0,
             "#0d0887"
            ],
            [
             0.1111111111111111,
             "#46039f"
            ],
            [
             0.2222222222222222,
             "#7201a8"
            ],
            [
             0.3333333333333333,
             "#9c179e"
            ],
            [
             0.4444444444444444,
             "#bd3786"
            ],
            [
             0.5555555555555556,
             "#d8576b"
            ],
            [
             0.6666666666666666,
             "#ed7953"
            ],
            [
             0.7777777777777778,
             "#fb9f3a"
            ],
            [
             0.8888888888888888,
             "#fdca26"
            ],
            [
             1,
             "#f0f921"
            ]
           ]
          },
          "colorway": [
           "#636efa",
           "#EF553B",
           "#00cc96",
           "#ab63fa",
           "#FFA15A",
           "#19d3f3",
           "#FF6692",
           "#B6E880",
           "#FF97FF",
           "#FECB52"
          ],
          "font": {
           "color": "#2a3f5f"
          },
          "geo": {
           "bgcolor": "white",
           "lakecolor": "white",
           "landcolor": "#E5ECF6",
           "showlakes": true,
           "showland": true,
           "subunitcolor": "white"
          },
          "hoverlabel": {
           "align": "left"
          },
          "hovermode": "closest",
          "mapbox": {
           "style": "light"
          },
          "paper_bgcolor": "white",
          "plot_bgcolor": "#E5ECF6",
          "polar": {
           "angularaxis": {
            "gridcolor": "white",
            "linecolor": "white",
            "ticks": ""
           },
           "bgcolor": "#E5ECF6",
           "radialaxis": {
            "gridcolor": "white",
            "linecolor": "white",
            "ticks": ""
           }
          },
          "scene": {
           "xaxis": {
            "backgroundcolor": "#E5ECF6",
            "gridcolor": "white",
            "gridwidth": 2,
            "linecolor": "white",
            "showbackground": true,
            "ticks": "",
            "zerolinecolor": "white"
           },
           "yaxis": {
            "backgroundcolor": "#E5ECF6",
            "gridcolor": "white",
            "gridwidth": 2,
            "linecolor": "white",
            "showbackground": true,
            "ticks": "",
            "zerolinecolor": "white"
           },
           "zaxis": {
            "backgroundcolor": "#E5ECF6",
            "gridcolor": "white",
            "gridwidth": 2,
            "linecolor": "white",
            "showbackground": true,
            "ticks": "",
            "zerolinecolor": "white"
           }
          },
          "shapedefaults": {
           "line": {
            "color": "#2a3f5f"
           }
          },
          "ternary": {
           "aaxis": {
            "gridcolor": "white",
            "linecolor": "white",
            "ticks": ""
           },
           "baxis": {
            "gridcolor": "white",
            "linecolor": "white",
            "ticks": ""
           },
           "bgcolor": "#E5ECF6",
           "caxis": {
            "gridcolor": "white",
            "linecolor": "white",
            "ticks": ""
           }
          },
          "title": {
           "x": 0.05
          },
          "xaxis": {
           "automargin": true,
           "gridcolor": "white",
           "linecolor": "white",
           "ticks": "",
           "title": {
            "standoff": 15
           },
           "zerolinecolor": "white",
           "zerolinewidth": 2
          },
          "yaxis": {
           "automargin": true,
           "gridcolor": "white",
           "linecolor": "white",
           "ticks": "",
           "title": {
            "standoff": 15
           },
           "zerolinecolor": "white",
           "zerolinewidth": 2
          }
         }
        },
        "xaxis": {
         "anchor": "y",
         "domain": [
          0,
          1
         ],
         "range": [
          0,
          200
         ],
         "title": {
          "text": "value"
         }
        },
        "yaxis": {
         "anchor": "x",
         "domain": [
          0,
          1
         ],
         "title": {
          "text": "count"
         }
        }
       }
      },
      "text/html": [
       "<div>                            <div id=\"059e266f-f73d-4940-8485-d35e0fb11642\" class=\"plotly-graph-div\" style=\"height:525px; width:100%;\"></div>            <script type=\"text/javascript\">                require([\"plotly\"], function(Plotly) {                    window.PLOTLYENV=window.PLOTLYENV || {};                                    if (document.getElementById(\"059e266f-f73d-4940-8485-d35e0fb11642\")) {                    Plotly.newPlot(                        \"059e266f-f73d-4940-8485-d35e0fb11642\",                        [{\"alignmentgroup\": \"True\", \"bingroup\": \"x\", \"hovertemplate\": \"variable=Calories<br>value=%{x}<br>count=%{y}<extra></extra>\", \"legendgroup\": \"Calories\", \"marker\": {\"color\": \"#636efa\"}, \"name\": \"Calories\", \"nbinsx\": 30, \"offsetgroup\": \"Calories\", \"orientation\": \"v\", \"showlegend\": true, \"type\": \"histogram\", \"x\": [100.0, 111.36363636363636, 108.69565217391305, 86.66666666666667, 108.88888888888889, 95.0, 115.0], \"xaxis\": \"x\", \"yaxis\": \"y\"}, {\"alignmentgroup\": \"True\", \"bingroup\": \"x\", \"hovertemplate\": \"variable=Protein<br>value=%{x}<br>count=%{y}<extra></extra>\", \"legendgroup\": \"Protein\", \"marker\": {\"color\": \"#EF553B\"}, \"name\": \"Protein\", \"nbinsx\": 30, \"offsetgroup\": \"Protein\", \"orientation\": \"v\", \"showlegend\": true, \"type\": \"histogram\", \"x\": [4.0, 2.3181818181818183, 2.652173913043478, 2.8333333333333335, 2.4444444444444446, 2.625, 2.5], \"xaxis\": \"x\", \"yaxis\": \"y\"}, {\"alignmentgroup\": \"True\", \"bingroup\": \"x\", \"hovertemplate\": \"variable=Fat<br>value=%{x}<br>count=%{y}<extra></extra>\", \"legendgroup\": \"Fat\", \"marker\": {\"color\": \"#00cc96\"}, \"name\": \"Fat\", \"nbinsx\": 30, \"offsetgroup\": \"Fat\", \"orientation\": \"v\", \"showlegend\": true, \"type\": \"histogram\", \"x\": [1.0, 1.3636363636363635, 0.6086956521739131, 0.16666666666666666, 0.8888888888888888, 1.75, 1.25], \"xaxis\": \"x\", \"yaxis\": \"y\"}, {\"alignmentgroup\": \"True\", \"bingroup\": \"x\", \"hovertemplate\": \"variable=Sodium<br>value=%{x}<br>count=%{y}<extra></extra>\", \"legendgroup\": \"Sodium\", \"marker\": {\"color\": \"#ab63fa\"}, \"name\": \"Sodium\", \"nbinsx\": 30, \"offsetgroup\": \"Sodium\", \"orientation\": \"v\", \"showlegend\": true, \"type\": \"histogram\", \"x\": [0.0, 200.45454545454547, 174.7826086956522, 37.5, 146.11111111111111, 92.5, 198.125], \"xaxis\": \"x\", \"yaxis\": \"y\"}, {\"alignmentgroup\": \"True\", \"bingroup\": \"x\", \"hovertemplate\": \"variable=Fiber<br>value=%{x}<br>count=%{y}<extra></extra>\", \"legendgroup\": \"Fiber\", \"marker\": {\"color\": \"#FFA15A\"}, \"name\": \"Fiber\", \"nbinsx\": 30, \"offsetgroup\": \"Fiber\", \"orientation\": \"v\", \"showlegend\": true, \"type\": \"histogram\", \"x\": [0.0, 1.2727272727272727, 2.739130434782609, 4.0, 2.7777777777777777, 1.3375, 1.875], \"xaxis\": \"x\", \"yaxis\": \"y\"}, {\"alignmentgroup\": \"True\", \"bingroup\": \"x\", \"hovertemplate\": \"variable=Carbohydrates<br>value=%{x}<br>count=%{y}<extra></extra>\", \"legendgroup\": \"Carbohydrates\", \"marker\": {\"color\": \"#19d3f3\"}, \"name\": \"Carbohydrates\", \"nbinsx\": 30, \"offsetgroup\": \"Carbohydrates\", \"orientation\": \"v\", \"showlegend\": true, \"type\": \"histogram\", \"x\": [16.0, 14.727272727272727, 15.130434782608695, 16.0, 13.222222222222221, 10.125, 17.625], \"xaxis\": \"x\", \"yaxis\": \"y\"}, {\"alignmentgroup\": \"True\", \"bingroup\": \"x\", \"hovertemplate\": \"variable=Sugars<br>value=%{x}<br>count=%{y}<extra></extra>\", \"legendgroup\": \"Sugars\", \"marker\": {\"color\": \"#FF6692\"}, \"name\": \"Sugars\", \"nbinsx\": 30, \"offsetgroup\": \"Sugars\", \"orientation\": \"v\", \"showlegend\": true, \"type\": \"histogram\", \"x\": [3.0, 7.954545454545454, 7.565217391304348, 1.8333333333333333, 8.777777777777779, 5.375, 6.125], \"xaxis\": \"x\", \"yaxis\": \"y\"}, {\"alignmentgroup\": \"True\", \"bingroup\": \"x\", \"hovertemplate\": \"variable=Potassium<br>value=%{x}<br>count=%{y}<extra></extra>\", \"legendgroup\": \"Potassium\", \"marker\": {\"color\": \"#B6E880\"}, \"name\": \"Potassium\", \"nbinsx\": 30, \"offsetgroup\": \"Potassium\", \"orientation\": \"v\", \"showlegend\": true, \"type\": \"histogram\", \"x\": [95.0, 85.22727272727273, 103.04347826086956, 120.83333333333333, 113.88888888888889, 74.375, 89.375], \"xaxis\": \"x\", \"yaxis\": \"y\"}, {\"alignmentgroup\": \"True\", \"bingroup\": \"x\", \"hovertemplate\": \"variable=Vitamins<br>value=%{x}<br>count=%{y}<extra></extra>\", \"legendgroup\": \"Vitamins\", \"marker\": {\"color\": \"#FF97FF\"}, \"name\": \"Vitamins\", \"nbinsx\": 30, \"offsetgroup\": \"Vitamins\", \"orientation\": \"v\", \"showlegend\": true, \"type\": \"histogram\", \"x\": [25.0, 35.22727272727273, 34.78260869565217, 8.333333333333334, 25.0, 12.5, 25.0], \"xaxis\": \"x\", \"yaxis\": \"y\"}],                        {\"barmode\": \"relative\", \"legend\": {\"title\": {\"text\": \"variable\"}, \"tracegroupgap\": 0}, \"margin\": {\"t\": 60}, \"template\": {\"data\": {\"bar\": [{\"error_x\": {\"color\": \"#2a3f5f\"}, \"error_y\": {\"color\": \"#2a3f5f\"}, \"marker\": {\"line\": {\"color\": \"#E5ECF6\", \"width\": 0.5}}, \"type\": \"bar\"}], \"barpolar\": [{\"marker\": {\"line\": {\"color\": \"#E5ECF6\", \"width\": 0.5}}, \"type\": \"barpolar\"}], \"carpet\": [{\"aaxis\": {\"endlinecolor\": \"#2a3f5f\", \"gridcolor\": \"white\", \"linecolor\": \"white\", \"minorgridcolor\": \"white\", \"startlinecolor\": \"#2a3f5f\"}, \"baxis\": {\"endlinecolor\": \"#2a3f5f\", \"gridcolor\": \"white\", \"linecolor\": \"white\", \"minorgridcolor\": \"white\", \"startlinecolor\": \"#2a3f5f\"}, \"type\": \"carpet\"}], \"choropleth\": [{\"colorbar\": {\"outlinewidth\": 0, \"ticks\": \"\"}, \"type\": \"choropleth\"}], \"contour\": [{\"colorbar\": {\"outlinewidth\": 0, \"ticks\": \"\"}, \"colorscale\": [[0.0, \"#0d0887\"], [0.1111111111111111, \"#46039f\"], [0.2222222222222222, \"#7201a8\"], [0.3333333333333333, \"#9c179e\"], [0.4444444444444444, \"#bd3786\"], [0.5555555555555556, \"#d8576b\"], [0.6666666666666666, \"#ed7953\"], [0.7777777777777778, \"#fb9f3a\"], [0.8888888888888888, \"#fdca26\"], [1.0, \"#f0f921\"]], \"type\": \"contour\"}], \"contourcarpet\": [{\"colorbar\": {\"outlinewidth\": 0, \"ticks\": \"\"}, \"type\": \"contourcarpet\"}], \"heatmap\": [{\"colorbar\": {\"outlinewidth\": 0, \"ticks\": \"\"}, \"colorscale\": [[0.0, \"#0d0887\"], [0.1111111111111111, \"#46039f\"], [0.2222222222222222, \"#7201a8\"], [0.3333333333333333, \"#9c179e\"], [0.4444444444444444, \"#bd3786\"], [0.5555555555555556, \"#d8576b\"], [0.6666666666666666, \"#ed7953\"], [0.7777777777777778, \"#fb9f3a\"], [0.8888888888888888, \"#fdca26\"], [1.0, \"#f0f921\"]], \"type\": \"heatmap\"}], \"heatmapgl\": [{\"colorbar\": {\"outlinewidth\": 0, \"ticks\": \"\"}, \"colorscale\": [[0.0, \"#0d0887\"], [0.1111111111111111, \"#46039f\"], [0.2222222222222222, \"#7201a8\"], [0.3333333333333333, \"#9c179e\"], [0.4444444444444444, \"#bd3786\"], [0.5555555555555556, \"#d8576b\"], [0.6666666666666666, \"#ed7953\"], [0.7777777777777778, \"#fb9f3a\"], [0.8888888888888888, \"#fdca26\"], [1.0, \"#f0f921\"]], \"type\": \"heatmapgl\"}], \"histogram\": [{\"marker\": {\"colorbar\": {\"outlinewidth\": 0, \"ticks\": \"\"}}, \"type\": \"histogram\"}], \"histogram2d\": [{\"colorbar\": {\"outlinewidth\": 0, \"ticks\": \"\"}, \"colorscale\": [[0.0, \"#0d0887\"], [0.1111111111111111, \"#46039f\"], [0.2222222222222222, \"#7201a8\"], [0.3333333333333333, \"#9c179e\"], [0.4444444444444444, \"#bd3786\"], [0.5555555555555556, \"#d8576b\"], [0.6666666666666666, \"#ed7953\"], [0.7777777777777778, \"#fb9f3a\"], [0.8888888888888888, \"#fdca26\"], [1.0, \"#f0f921\"]], \"type\": \"histogram2d\"}], \"histogram2dcontour\": [{\"colorbar\": {\"outlinewidth\": 0, \"ticks\": \"\"}, \"colorscale\": [[0.0, \"#0d0887\"], [0.1111111111111111, \"#46039f\"], [0.2222222222222222, \"#7201a8\"], [0.3333333333333333, \"#9c179e\"], [0.4444444444444444, \"#bd3786\"], [0.5555555555555556, \"#d8576b\"], [0.6666666666666666, \"#ed7953\"], [0.7777777777777778, \"#fb9f3a\"], [0.8888888888888888, \"#fdca26\"], [1.0, \"#f0f921\"]], \"type\": \"histogram2dcontour\"}], \"mesh3d\": [{\"colorbar\": {\"outlinewidth\": 0, \"ticks\": \"\"}, \"type\": \"mesh3d\"}], \"parcoords\": [{\"line\": {\"colorbar\": {\"outlinewidth\": 0, \"ticks\": \"\"}}, \"type\": \"parcoords\"}], \"pie\": [{\"automargin\": true, \"type\": \"pie\"}], \"scatter\": [{\"marker\": {\"colorbar\": {\"outlinewidth\": 0, \"ticks\": \"\"}}, \"type\": \"scatter\"}], \"scatter3d\": [{\"line\": {\"colorbar\": {\"outlinewidth\": 0, \"ticks\": \"\"}}, \"marker\": {\"colorbar\": {\"outlinewidth\": 0, \"ticks\": \"\"}}, \"type\": \"scatter3d\"}], \"scattercarpet\": [{\"marker\": {\"colorbar\": {\"outlinewidth\": 0, \"ticks\": \"\"}}, \"type\": \"scattercarpet\"}], \"scattergeo\": [{\"marker\": {\"colorbar\": {\"outlinewidth\": 0, \"ticks\": \"\"}}, \"type\": \"scattergeo\"}], \"scattergl\": [{\"marker\": {\"colorbar\": {\"outlinewidth\": 0, \"ticks\": \"\"}}, \"type\": \"scattergl\"}], \"scattermapbox\": [{\"marker\": {\"colorbar\": {\"outlinewidth\": 0, \"ticks\": \"\"}}, \"type\": \"scattermapbox\"}], \"scatterpolar\": [{\"marker\": {\"colorbar\": {\"outlinewidth\": 0, \"ticks\": \"\"}}, \"type\": \"scatterpolar\"}], \"scatterpolargl\": [{\"marker\": {\"colorbar\": {\"outlinewidth\": 0, \"ticks\": \"\"}}, \"type\": \"scatterpolargl\"}], \"scatterternary\": [{\"marker\": {\"colorbar\": {\"outlinewidth\": 0, \"ticks\": \"\"}}, \"type\": \"scatterternary\"}], \"surface\": [{\"colorbar\": {\"outlinewidth\": 0, \"ticks\": \"\"}, \"colorscale\": [[0.0, \"#0d0887\"], [0.1111111111111111, \"#46039f\"], [0.2222222222222222, \"#7201a8\"], [0.3333333333333333, \"#9c179e\"], [0.4444444444444444, \"#bd3786\"], [0.5555555555555556, \"#d8576b\"], [0.6666666666666666, \"#ed7953\"], [0.7777777777777778, \"#fb9f3a\"], [0.8888888888888888, \"#fdca26\"], [1.0, \"#f0f921\"]], \"type\": \"surface\"}], \"table\": [{\"cells\": {\"fill\": {\"color\": \"#EBF0F8\"}, \"line\": {\"color\": \"white\"}}, \"header\": {\"fill\": {\"color\": \"#C8D4E3\"}, \"line\": {\"color\": \"white\"}}, \"type\": \"table\"}]}, \"layout\": {\"annotationdefaults\": {\"arrowcolor\": \"#2a3f5f\", \"arrowhead\": 0, \"arrowwidth\": 1}, \"coloraxis\": {\"colorbar\": {\"outlinewidth\": 0, \"ticks\": \"\"}}, \"colorscale\": {\"diverging\": [[0, \"#8e0152\"], [0.1, \"#c51b7d\"], [0.2, \"#de77ae\"], [0.3, \"#f1b6da\"], [0.4, \"#fde0ef\"], [0.5, \"#f7f7f7\"], [0.6, \"#e6f5d0\"], [0.7, \"#b8e186\"], [0.8, \"#7fbc41\"], [0.9, \"#4d9221\"], [1, \"#276419\"]], \"sequential\": [[0.0, \"#0d0887\"], [0.1111111111111111, \"#46039f\"], [0.2222222222222222, \"#7201a8\"], [0.3333333333333333, \"#9c179e\"], [0.4444444444444444, \"#bd3786\"], [0.5555555555555556, \"#d8576b\"], [0.6666666666666666, \"#ed7953\"], [0.7777777777777778, \"#fb9f3a\"], [0.8888888888888888, \"#fdca26\"], [1.0, \"#f0f921\"]], \"sequentialminus\": [[0.0, \"#0d0887\"], [0.1111111111111111, \"#46039f\"], [0.2222222222222222, \"#7201a8\"], [0.3333333333333333, \"#9c179e\"], [0.4444444444444444, \"#bd3786\"], [0.5555555555555556, \"#d8576b\"], [0.6666666666666666, \"#ed7953\"], [0.7777777777777778, \"#fb9f3a\"], [0.8888888888888888, \"#fdca26\"], [1.0, \"#f0f921\"]]}, \"colorway\": [\"#636efa\", \"#EF553B\", \"#00cc96\", \"#ab63fa\", \"#FFA15A\", \"#19d3f3\", \"#FF6692\", \"#B6E880\", \"#FF97FF\", \"#FECB52\"], \"font\": {\"color\": \"#2a3f5f\"}, \"geo\": {\"bgcolor\": \"white\", \"lakecolor\": \"white\", \"landcolor\": \"#E5ECF6\", \"showlakes\": true, \"showland\": true, \"subunitcolor\": \"white\"}, \"hoverlabel\": {\"align\": \"left\"}, \"hovermode\": \"closest\", \"mapbox\": {\"style\": \"light\"}, \"paper_bgcolor\": \"white\", \"plot_bgcolor\": \"#E5ECF6\", \"polar\": {\"angularaxis\": {\"gridcolor\": \"white\", \"linecolor\": \"white\", \"ticks\": \"\"}, \"bgcolor\": \"#E5ECF6\", \"radialaxis\": {\"gridcolor\": \"white\", \"linecolor\": \"white\", \"ticks\": \"\"}}, \"scene\": {\"xaxis\": {\"backgroundcolor\": \"#E5ECF6\", \"gridcolor\": \"white\", \"gridwidth\": 2, \"linecolor\": \"white\", \"showbackground\": true, \"ticks\": \"\", \"zerolinecolor\": \"white\"}, \"yaxis\": {\"backgroundcolor\": \"#E5ECF6\", \"gridcolor\": \"white\", \"gridwidth\": 2, \"linecolor\": \"white\", \"showbackground\": true, \"ticks\": \"\", \"zerolinecolor\": \"white\"}, \"zaxis\": {\"backgroundcolor\": \"#E5ECF6\", \"gridcolor\": \"white\", \"gridwidth\": 2, \"linecolor\": \"white\", \"showbackground\": true, \"ticks\": \"\", \"zerolinecolor\": \"white\"}}, \"shapedefaults\": {\"line\": {\"color\": \"#2a3f5f\"}}, \"ternary\": {\"aaxis\": {\"gridcolor\": \"white\", \"linecolor\": \"white\", \"ticks\": \"\"}, \"baxis\": {\"gridcolor\": \"white\", \"linecolor\": \"white\", \"ticks\": \"\"}, \"bgcolor\": \"#E5ECF6\", \"caxis\": {\"gridcolor\": \"white\", \"linecolor\": \"white\", \"ticks\": \"\"}}, \"title\": {\"x\": 0.05}, \"xaxis\": {\"automargin\": true, \"gridcolor\": \"white\", \"linecolor\": \"white\", \"ticks\": \"\", \"title\": {\"standoff\": 15}, \"zerolinecolor\": \"white\", \"zerolinewidth\": 2}, \"yaxis\": {\"automargin\": true, \"gridcolor\": \"white\", \"linecolor\": \"white\", \"ticks\": \"\", \"title\": {\"standoff\": 15}, \"zerolinecolor\": \"white\", \"zerolinewidth\": 2}}}, \"xaxis\": {\"anchor\": \"y\", \"domain\": [0.0, 1.0], \"range\": [0, 200], \"title\": {\"text\": \"value\"}}, \"yaxis\": {\"anchor\": \"x\", \"domain\": [0.0, 1.0], \"title\": {\"text\": \"count\"}}},                        {\"responsive\": true}                    ).then(function(){\n",
       "                            \n",
       "var gd = document.getElementById('059e266f-f73d-4940-8485-d35e0fb11642');\n",
       "var x = new MutationObserver(function (mutations, observer) {{\n",
       "        var display = window.getComputedStyle(gd).display;\n",
       "        if (!display || display === 'none') {{\n",
       "            console.log([gd, 'removed!']);\n",
       "            Plotly.purge(gd);\n",
       "            observer.disconnect();\n",
       "        }}\n",
       "}});\n",
       "\n",
       "// Listen for the removal of the full notebook cells\n",
       "var notebookContainer = gd.closest('#notebook-container');\n",
       "if (notebookContainer) {{\n",
       "    x.observe(notebookContainer, {childList: true});\n",
       "}}\n",
       "\n",
       "// Listen for the clearing of the current output cell\n",
       "var outputEl = gd.closest('.output');\n",
       "if (outputEl) {{\n",
       "    x.observe(outputEl, {childList: true});\n",
       "}}\n",
       "\n",
       "                        })                };                });            </script>        </div>"
      ]
     },
     "metadata": {},
     "output_type": "display_data"
    }
   ],
   "source": [
    "px.histogram(manu,nbins=30,range_x=[0,200])"
   ]
  },
  {
   "cell_type": "markdown",
   "metadata": {
    "papermill": {
     "duration": 0.040664,
     "end_time": "2020-12-30T13:11:13.365854",
     "exception": false,
     "start_time": "2020-12-30T13:11:13.325190",
     "status": "completed"
    },
    "tags": []
   },
   "source": [
    "> double click on the legend to isolate the variable"
   ]
  },
  {
   "cell_type": "code",
   "execution_count": 20,
   "metadata": {
    "execution": {
     "iopub.execute_input": "2020-12-30T13:11:13.463636Z",
     "iopub.status.busy": "2020-12-30T13:11:13.458700Z",
     "iopub.status.idle": "2020-12-30T13:11:13.670698Z",
     "shell.execute_reply": "2020-12-30T13:11:13.670080Z"
    },
    "papermill": {
     "duration": 0.264051,
     "end_time": "2020-12-30T13:11:13.670828",
     "exception": false,
     "start_time": "2020-12-30T13:11:13.406777",
     "status": "completed"
    },
    "tags": []
   },
   "outputs": [
    {
     "data": {
      "text/html": [
       "<style  type=\"text/css\" >\n",
       "    #T_0a3e480e_4aa2_11eb_a353_820a63678600row0_col0 {\n",
       "            background-color:  #c6d8e9;\n",
       "            color:  #000000;\n",
       "        }    #T_0a3e480e_4aa2_11eb_a353_820a63678600row0_col1 {\n",
       "            background-color:  #f0f7fa;\n",
       "            color:  #000000;\n",
       "        }    #T_0a3e480e_4aa2_11eb_a353_820a63678600row0_col2 {\n",
       "            background-color:  #a2bfdb;\n",
       "            color:  #000000;\n",
       "        }    #T_0a3e480e_4aa2_11eb_a353_820a63678600row1_col0 {\n",
       "            background-color:  #f7fcfd;\n",
       "            color:  #000000;\n",
       "        }    #T_0a3e480e_4aa2_11eb_a353_820a63678600row1_col1 {\n",
       "            background-color:  #95aad0;\n",
       "            color:  #000000;\n",
       "        }    #T_0a3e480e_4aa2_11eb_a353_820a63678600row1_col2 {\n",
       "            background-color:  #c2d5e7;\n",
       "            color:  #000000;\n",
       "        }    #T_0a3e480e_4aa2_11eb_a353_820a63678600row2_col0 {\n",
       "            background-color:  #f7fcfd;\n",
       "            color:  #000000;\n",
       "        }    #T_0a3e480e_4aa2_11eb_a353_820a63678600row2_col1 {\n",
       "            background-color:  #8c7dba;\n",
       "            color:  #000000;\n",
       "        }    #T_0a3e480e_4aa2_11eb_a353_820a63678600row2_col2 {\n",
       "            background-color:  #abc5df;\n",
       "            color:  #000000;\n",
       "        }    #T_0a3e480e_4aa2_11eb_a353_820a63678600row3_col0 {\n",
       "            background-color:  #4d004b;\n",
       "            color:  #f1f1f1;\n",
       "        }    #T_0a3e480e_4aa2_11eb_a353_820a63678600row3_col1 {\n",
       "            background-color:  #f7fcfd;\n",
       "            color:  #000000;\n",
       "        }    #T_0a3e480e_4aa2_11eb_a353_820a63678600row3_col2 {\n",
       "            background-color:  #e8f1f7;\n",
       "            color:  #000000;\n",
       "        }    #T_0a3e480e_4aa2_11eb_a353_820a63678600row4_col0 {\n",
       "            background-color:  #f4fafc;\n",
       "            color:  #000000;\n",
       "        }    #T_0a3e480e_4aa2_11eb_a353_820a63678600row4_col1 {\n",
       "            background-color:  #50014e;\n",
       "            color:  #f1f1f1;\n",
       "        }    #T_0a3e480e_4aa2_11eb_a353_820a63678600row4_col2 {\n",
       "            background-color:  #4d004b;\n",
       "            color:  #f1f1f1;\n",
       "        }    #T_0a3e480e_4aa2_11eb_a353_820a63678600row5_col0 {\n",
       "            background-color:  #f1f7fa;\n",
       "            color:  #000000;\n",
       "        }    #T_0a3e480e_4aa2_11eb_a353_820a63678600row5_col1 {\n",
       "            background-color:  #eaf3f8;\n",
       "            color:  #000000;\n",
       "        }    #T_0a3e480e_4aa2_11eb_a353_820a63678600row5_col2 {\n",
       "            background-color:  #c9dbea;\n",
       "            color:  #000000;\n",
       "        }    #T_0a3e480e_4aa2_11eb_a353_820a63678600row6_col0 {\n",
       "            background-color:  #f0f7fa;\n",
       "            color:  #000000;\n",
       "        }    #T_0a3e480e_4aa2_11eb_a353_820a63678600row6_col1 {\n",
       "            background-color:  #cbdceb;\n",
       "            color:  #000000;\n",
       "        }    #T_0a3e480e_4aa2_11eb_a353_820a63678600row6_col2 {\n",
       "            background-color:  #f7fcfd;\n",
       "            color:  #000000;\n",
       "        }    #T_0a3e480e_4aa2_11eb_a353_820a63678600row7_col0 {\n",
       "            background-color:  #821982;\n",
       "            color:  #f1f1f1;\n",
       "        }    #T_0a3e480e_4aa2_11eb_a353_820a63678600row7_col1 {\n",
       "            background-color:  #8c68af;\n",
       "            color:  #000000;\n",
       "        }    #T_0a3e480e_4aa2_11eb_a353_820a63678600row7_col2 {\n",
       "            background-color:  #afc8e0;\n",
       "            color:  #000000;\n",
       "        }    #T_0a3e480e_4aa2_11eb_a353_820a63678600row8_col0 {\n",
       "            background-color:  #bed2e6;\n",
       "            color:  #000000;\n",
       "        }    #T_0a3e480e_4aa2_11eb_a353_820a63678600row8_col1 {\n",
       "            background-color:  #4d004b;\n",
       "            color:  #f1f1f1;\n",
       "        }    #T_0a3e480e_4aa2_11eb_a353_820a63678600row8_col2 {\n",
       "            background-color:  #883e9b;\n",
       "            color:  #f1f1f1;\n",
       "        }</style><table id=\"T_0a3e480e_4aa2_11eb_a353_820a63678600\" ><thead>    <tr>        <th class=\"blank level0\" ></th>        <th class=\"col_heading level0 col0\" >Standard Deviation</th>        <th class=\"col_heading level0 col1\" >Skew</th>        <th class=\"col_heading level0 col2\" >Kurtosis</th>    </tr></thead><tbody>\n",
       "                <tr>\n",
       "                        <th id=\"T_0a3e480e_4aa2_11eb_a353_820a63678600level0_row0\" class=\"row_heading level0 row0\" >Calories</th>\n",
       "                        <td id=\"T_0a3e480e_4aa2_11eb_a353_820a63678600row0_col0\" class=\"data row0 col0\" >19.484119</td>\n",
       "                        <td id=\"T_0a3e480e_4aa2_11eb_a353_820a63678600row0_col1\" class=\"data row0 col1\" >-0.436683</td>\n",
       "                        <td id=\"T_0a3e480e_4aa2_11eb_a353_820a63678600row0_col2\" class=\"data row0 col2\" >2.142090</td>\n",
       "            </tr>\n",
       "            <tr>\n",
       "                        <th id=\"T_0a3e480e_4aa2_11eb_a353_820a63678600level0_row1\" class=\"row_heading level0 row1\" >Protein</th>\n",
       "                        <td id=\"T_0a3e480e_4aa2_11eb_a353_820a63678600row1_col0\" class=\"data row1 col0\" >1.094790</td>\n",
       "                        <td id=\"T_0a3e480e_4aa2_11eb_a353_820a63678600row1_col1\" class=\"data row1 col1\" >0.731221</td>\n",
       "                        <td id=\"T_0a3e480e_4aa2_11eb_a353_820a63678600row1_col2\" class=\"data row1 col2\" >1.032193</td>\n",
       "            </tr>\n",
       "            <tr>\n",
       "                        <th id=\"T_0a3e480e_4aa2_11eb_a353_820a63678600level0_row2\" class=\"row_heading level0 row2\" >Fat</th>\n",
       "                        <td id=\"T_0a3e480e_4aa2_11eb_a353_820a63678600row2_col0\" class=\"data row2 col0\" >1.006473</td>\n",
       "                        <td id=\"T_0a3e480e_4aa2_11eb_a353_820a63678600row2_col1\" class=\"data row2 col1\" >1.143151</td>\n",
       "                        <td id=\"T_0a3e480e_4aa2_11eb_a353_820a63678600row2_col2\" class=\"data row2 col2\" >1.837354</td>\n",
       "            </tr>\n",
       "            <tr>\n",
       "                        <th id=\"T_0a3e480e_4aa2_11eb_a353_820a63678600level0_row3\" class=\"row_heading level0 row3\" >Sodium</th>\n",
       "                        <td id=\"T_0a3e480e_4aa2_11eb_a353_820a63678600row3_col0\" class=\"data row3 col0\" >83.832295</td>\n",
       "                        <td id=\"T_0a3e480e_4aa2_11eb_a353_820a63678600row3_col1\" class=\"data row3 col1\" >-0.564435</td>\n",
       "                        <td id=\"T_0a3e480e_4aa2_11eb_a353_820a63678600row3_col2\" class=\"data row3 col2\" >-0.400151</td>\n",
       "            </tr>\n",
       "            <tr>\n",
       "                        <th id=\"T_0a3e480e_4aa2_11eb_a353_820a63678600level0_row4\" class=\"row_heading level0 row4\" >Fiber</th>\n",
       "                        <td id=\"T_0a3e480e_4aa2_11eb_a353_820a63678600row4_col0\" class=\"data row4 col0\" >2.383364</td>\n",
       "                        <td id=\"T_0a3e480e_4aa2_11eb_a353_820a63678600row4_col1\" class=\"data row4 col1\" >2.384046</td>\n",
       "                        <td id=\"T_0a3e480e_4aa2_11eb_a353_820a63678600row4_col2\" class=\"data row4 col2\" >8.019160</td>\n",
       "            </tr>\n",
       "            <tr>\n",
       "                        <th id=\"T_0a3e480e_4aa2_11eb_a353_820a63678600level0_row5\" class=\"row_heading level0 row5\" >Carbohydrates</th>\n",
       "                        <td id=\"T_0a3e480e_4aa2_11eb_a353_820a63678600row5_col0\" class=\"data row5 col0\" >4.232257</td>\n",
       "                        <td id=\"T_0a3e480e_4aa2_11eb_a353_820a63678600row5_col1\" class=\"data row5 col1\" >-0.343613</td>\n",
       "                        <td id=\"T_0a3e480e_4aa2_11eb_a353_820a63678600row5_col2\" class=\"data row5 col2\" >0.788007</td>\n",
       "            </tr>\n",
       "            <tr>\n",
       "                        <th id=\"T_0a3e480e_4aa2_11eb_a353_820a63678600level0_row6\" class=\"row_heading level0 row6\" >Sugars</th>\n",
       "                        <td id=\"T_0a3e480e_4aa2_11eb_a353_820a63678600row6_col0\" class=\"data row6 col0\" >4.422840</td>\n",
       "                        <td id=\"T_0a3e480e_4aa2_11eb_a353_820a63678600row6_col1\" class=\"data row6 col1\" >0.050920</td>\n",
       "                        <td id=\"T_0a3e480e_4aa2_11eb_a353_820a63678600row6_col2\" class=\"data row6 col2\" >-1.166392</td>\n",
       "            </tr>\n",
       "            <tr>\n",
       "                        <th id=\"T_0a3e480e_4aa2_11eb_a353_820a63678600level0_row7\" class=\"row_heading level0 row7\" >Potassium</th>\n",
       "                        <td id=\"T_0a3e480e_4aa2_11eb_a353_820a63678600row7_col0\" class=\"data row7 col0\" >71.251147</td>\n",
       "                        <td id=\"T_0a3e480e_4aa2_11eb_a353_820a63678600row7_col1\" class=\"data row7 col1\" >1.327448</td>\n",
       "                        <td id=\"T_0a3e480e_4aa2_11eb_a353_820a63678600row7_col2\" class=\"data row7 col2\" >1.697380</td>\n",
       "            </tr>\n",
       "            <tr>\n",
       "                        <th id=\"T_0a3e480e_4aa2_11eb_a353_820a63678600level0_row8\" class=\"row_heading level0 row8\" >Vitamins</th>\n",
       "                        <td id=\"T_0a3e480e_4aa2_11eb_a353_820a63678600row8_col0\" class=\"data row8 col0\" >22.342523</td>\n",
       "                        <td id=\"T_0a3e480e_4aa2_11eb_a353_820a63678600row8_col1\" class=\"data row8 col1\" >2.415447</td>\n",
       "                        <td id=\"T_0a3e480e_4aa2_11eb_a353_820a63678600row8_col2\" class=\"data row8 col2\" >5.781316</td>\n",
       "            </tr>\n",
       "    </tbody></table>"
      ],
      "text/plain": [
       "<pandas.io.formats.style.Styler at 0x7f94c8f2b8b0>"
      ]
     },
     "execution_count": 20,
     "metadata": {},
     "output_type": "execute_result"
    }
   ],
   "source": [
    "sstd=[stats.tstd(df[i]) for i in manu.columns]\n",
    "sskew=[stats.skew(df[i]) for i in manu.columns]\n",
    "skurtosis=[stats.kurtosis(df[i]) for i in manu.columns]\n",
    "\n",
    "stable=pd.DataFrame({\"Standard Deviation\":sstd,\"Skew\":sskew,\"Kurtosis\":skurtosis},index=manu.columns)\n",
    "stable.style.background_gradient(cmap=\"BuPu\")"
   ]
  },
  {
   "cell_type": "markdown",
   "metadata": {
    "papermill": {
     "duration": 0.039738,
     "end_time": "2020-12-30T13:11:13.750255",
     "exception": false,
     "start_time": "2020-12-30T13:11:13.710517",
     "status": "completed"
    },
    "tags": []
   },
   "source": [
    "*Sodium* followed by *potassium* has the largest spread; *vitamins* and *fibre* are the most skewed and not normally distributed; and again *fibre* and *vitamins* have the highest kurtosis."
   ]
  },
  {
   "cell_type": "code",
   "execution_count": 21,
   "metadata": {
    "execution": {
     "iopub.execute_input": "2020-12-30T13:11:13.842123Z",
     "iopub.status.busy": "2020-12-30T13:11:13.841363Z",
     "iopub.status.idle": "2020-12-30T13:11:13.895968Z",
     "shell.execute_reply": "2020-12-30T13:11:13.895218Z"
    },
    "papermill": {
     "duration": 0.106243,
     "end_time": "2020-12-30T13:11:13.896100",
     "exception": false,
     "start_time": "2020-12-30T13:11:13.789857",
     "status": "completed"
    },
    "tags": []
   },
   "outputs": [
    {
     "data": {
      "application/vnd.plotly.v1+json": {
       "config": {
        "plotlyServerURL": "https://plot.ly"
       },
       "data": [
        {
         "coloraxis": "coloraxis",
         "hovertemplate": "x: %{x}<br>y: %{y}<br>color: %{z}<extra></extra>",
         "type": "heatmap",
         "x": [
          "Calories",
          "Protein",
          "Fat",
          "Sodium",
          "Fiber",
          "Carbohydrates",
          "Sugars",
          "Potassium",
          "Vitamins",
          "Shelf",
          "Weight",
          "Cups",
          "Rating"
         ],
         "y": [
          "Calories",
          "Protein",
          "Fat",
          "Sodium",
          "Fiber",
          "Carbohydrates",
          "Sugars",
          "Potassium",
          "Vitamins",
          "Shelf",
          "Weight",
          "Cups",
          "Rating"
         ],
         "z": [
          [
           1,
           0.019066068232357045,
           0.4986098143003878,
           0.3006492269526867,
           -0.29341275179832144,
           0.25234869059605886,
           0.5640922203277142,
           -0.06667789569058025,
           0.2653562981114496,
           0.09723436772167836,
           0.6960910769169041,
           0.08719954579093925,
           -0.6893760311652587
          ],
          [
           0.019066068232357045,
           1,
           0.2084309895808068,
           -0.054674347511502484,
           0.5003300427811562,
           -0.1253372738075477,
           -0.32411233906744713,
           0.549667079464893,
           0.007335370520533918,
           0.13386478901600132,
           0.2161584855195131,
           -0.24446915776667216,
           0.4706184645492595
          ],
          [
           0.4986098143003878,
           0.2084309895808068,
           1,
           -0.005407464142988059,
           0.016719237409478938,
           -0.3185040112813799,
           0.27508649964770376,
           0.1933705844208371,
           -0.03115626553472393,
           0.26369108927169244,
           0.21462503294690521,
           -0.1758921424593898,
           -0.40928366014780987
          ],
          [
           0.3006492269526867,
           -0.054674347511502484,
           -0.005407464142988059,
           1,
           -0.07067500888163178,
           0.35398985110403086,
           0.09629059260182443,
           -0.03270647031773489,
           0.36147668811842937,
           -0.06971901520966246,
           0.3085764509091827,
           0.11966461477796655,
           -0.40129520449484835
          ],
          [
           -0.29341275179832144,
           0.5003300427811562,
           0.016719237409478938,
           -0.07067500888163178,
           1,
           -0.35929693744224234,
           -0.14122511595786214,
           0.9036473537450287,
           -0.03224267938538186,
           0.29753905609295084,
           0.24722562983528196,
           -0.5130609334010765,
           0.5841604199515834
          ],
          [
           0.25234869059605886,
           -0.1253372738075477,
           -0.3185040112813799,
           0.35398985110403086,
           -0.35929693744224234,
           1,
           -0.3528352117791931,
           -0.352861052439402,
           0.25706548099760496,
           -0.1074238240171664,
           0.13601577744047325,
           0.3659303912974207,
           0.05443561530215912
          ],
          [
           0.5640922203277142,
           -0.32411233906744713,
           0.27508649964770376,
           0.09629059260182443,
           -0.14122511595786214,
           -0.3528352117791931,
           1,
           0.022151065168512896,
           0.12199983019253399,
           0.09662251170989461,
           0.4523083786225309,
           -0.03444974497475415,
           -0.7617324153134105
          ],
          [
           -0.06667789569058025,
           0.549667079464893,
           0.1933705844208371,
           -0.03270647031773489,
           0.9036473537450287,
           -0.352861052439402,
           0.022151065168512896,
           1,
           0.020448742231550153,
           0.36097357513392864,
           0.4164388605780024,
           -0.4953571853716886,
           0.38053428751007623
          ],
          [
           0.2653562981114496,
           0.007335370520533918,
           -0.03115626553472393,
           0.36147668811842937,
           -0.03224267938538186,
           0.25706548099760496,
           0.12199983019253399,
           0.020448742231550153,
           1,
           0.2992616654364501,
           0.320324059150388,
           0.12840454253286743,
           -0.2405436107690815
          ],
          [
           0.09723436772167836,
           0.13386478901600132,
           0.26369108927169244,
           -0.06971901520966246,
           0.29753905609295084,
           -0.1074238240171664,
           0.09662251170989461,
           0.36097357513392864,
           0.2992616654364501,
           1,
           0.19076196726898997,
           -0.33526875894247576,
           0.025158815679116934
          ],
          [
           0.6960910769169041,
           0.2161584855195131,
           0.21462503294690521,
           0.3085764509091827,
           0.24722562983528196,
           0.13601577744047325,
           0.4523083786225309,
           0.4164388605780024,
           0.320324059150388,
           0.19076196726898997,
           1,
           -0.1995827224385371,
           -0.29812398497794707
          ],
          [
           0.08719954579093925,
           -0.24446915776667216,
           -0.1758921424593898,
           0.11966461477796655,
           -0.5130609334010765,
           0.3659303912974207,
           -0.03444974497475415,
           -0.4953571853716886,
           0.12840454253286743,
           -0.33526875894247576,
           -0.1995827224385371,
           1,
           -0.2031600630081788
          ],
          [
           -0.6893760311652587,
           0.4706184645492595,
           -0.40928366014780987,
           -0.40129520449484835,
           0.5841604199515834,
           0.05443561530215912,
           -0.7617324153134105,
           0.38053428751007623,
           -0.2405436107690815,
           0.025158815679116934,
           -0.29812398497794707,
           -0.2031600630081788,
           1
          ]
         ]
        }
       ],
       "layout": {
        "coloraxis": {
         "cmid": 0,
         "colorscale": [
          [
           0,
           "rgb(0, 147, 146)"
          ],
          [
           0.16666666666666666,
           "rgb(114, 170, 161)"
          ],
          [
           0.3333333333333333,
           "rgb(177, 199, 179)"
          ],
          [
           0.5,
           "rgb(241, 234, 200)"
          ],
          [
           0.6666666666666666,
           "rgb(229, 185, 173)"
          ],
          [
           0.8333333333333334,
           "rgb(217, 137, 148)"
          ],
          [
           1,
           "rgb(208, 88, 126)"
          ]
         ]
        },
        "margin": {
         "t": 60
        },
        "template": {
         "data": {
          "bar": [
           {
            "error_x": {
             "color": "#2a3f5f"
            },
            "error_y": {
             "color": "#2a3f5f"
            },
            "marker": {
             "line": {
              "color": "#E5ECF6",
              "width": 0.5
             }
            },
            "type": "bar"
           }
          ],
          "barpolar": [
           {
            "marker": {
             "line": {
              "color": "#E5ECF6",
              "width": 0.5
             }
            },
            "type": "barpolar"
           }
          ],
          "carpet": [
           {
            "aaxis": {
             "endlinecolor": "#2a3f5f",
             "gridcolor": "white",
             "linecolor": "white",
             "minorgridcolor": "white",
             "startlinecolor": "#2a3f5f"
            },
            "baxis": {
             "endlinecolor": "#2a3f5f",
             "gridcolor": "white",
             "linecolor": "white",
             "minorgridcolor": "white",
             "startlinecolor": "#2a3f5f"
            },
            "type": "carpet"
           }
          ],
          "choropleth": [
           {
            "colorbar": {
             "outlinewidth": 0,
             "ticks": ""
            },
            "type": "choropleth"
           }
          ],
          "contour": [
           {
            "colorbar": {
             "outlinewidth": 0,
             "ticks": ""
            },
            "colorscale": [
             [
              0,
              "#0d0887"
             ],
             [
              0.1111111111111111,
              "#46039f"
             ],
             [
              0.2222222222222222,
              "#7201a8"
             ],
             [
              0.3333333333333333,
              "#9c179e"
             ],
             [
              0.4444444444444444,
              "#bd3786"
             ],
             [
              0.5555555555555556,
              "#d8576b"
             ],
             [
              0.6666666666666666,
              "#ed7953"
             ],
             [
              0.7777777777777778,
              "#fb9f3a"
             ],
             [
              0.8888888888888888,
              "#fdca26"
             ],
             [
              1,
              "#f0f921"
             ]
            ],
            "type": "contour"
           }
          ],
          "contourcarpet": [
           {
            "colorbar": {
             "outlinewidth": 0,
             "ticks": ""
            },
            "type": "contourcarpet"
           }
          ],
          "heatmap": [
           {
            "colorbar": {
             "outlinewidth": 0,
             "ticks": ""
            },
            "colorscale": [
             [
              0,
              "#0d0887"
             ],
             [
              0.1111111111111111,
              "#46039f"
             ],
             [
              0.2222222222222222,
              "#7201a8"
             ],
             [
              0.3333333333333333,
              "#9c179e"
             ],
             [
              0.4444444444444444,
              "#bd3786"
             ],
             [
              0.5555555555555556,
              "#d8576b"
             ],
             [
              0.6666666666666666,
              "#ed7953"
             ],
             [
              0.7777777777777778,
              "#fb9f3a"
             ],
             [
              0.8888888888888888,
              "#fdca26"
             ],
             [
              1,
              "#f0f921"
             ]
            ],
            "type": "heatmap"
           }
          ],
          "heatmapgl": [
           {
            "colorbar": {
             "outlinewidth": 0,
             "ticks": ""
            },
            "colorscale": [
             [
              0,
              "#0d0887"
             ],
             [
              0.1111111111111111,
              "#46039f"
             ],
             [
              0.2222222222222222,
              "#7201a8"
             ],
             [
              0.3333333333333333,
              "#9c179e"
             ],
             [
              0.4444444444444444,
              "#bd3786"
             ],
             [
              0.5555555555555556,
              "#d8576b"
             ],
             [
              0.6666666666666666,
              "#ed7953"
             ],
             [
              0.7777777777777778,
              "#fb9f3a"
             ],
             [
              0.8888888888888888,
              "#fdca26"
             ],
             [
              1,
              "#f0f921"
             ]
            ],
            "type": "heatmapgl"
           }
          ],
          "histogram": [
           {
            "marker": {
             "colorbar": {
              "outlinewidth": 0,
              "ticks": ""
             }
            },
            "type": "histogram"
           }
          ],
          "histogram2d": [
           {
            "colorbar": {
             "outlinewidth": 0,
             "ticks": ""
            },
            "colorscale": [
             [
              0,
              "#0d0887"
             ],
             [
              0.1111111111111111,
              "#46039f"
             ],
             [
              0.2222222222222222,
              "#7201a8"
             ],
             [
              0.3333333333333333,
              "#9c179e"
             ],
             [
              0.4444444444444444,
              "#bd3786"
             ],
             [
              0.5555555555555556,
              "#d8576b"
             ],
             [
              0.6666666666666666,
              "#ed7953"
             ],
             [
              0.7777777777777778,
              "#fb9f3a"
             ],
             [
              0.8888888888888888,
              "#fdca26"
             ],
             [
              1,
              "#f0f921"
             ]
            ],
            "type": "histogram2d"
           }
          ],
          "histogram2dcontour": [
           {
            "colorbar": {
             "outlinewidth": 0,
             "ticks": ""
            },
            "colorscale": [
             [
              0,
              "#0d0887"
             ],
             [
              0.1111111111111111,
              "#46039f"
             ],
             [
              0.2222222222222222,
              "#7201a8"
             ],
             [
              0.3333333333333333,
              "#9c179e"
             ],
             [
              0.4444444444444444,
              "#bd3786"
             ],
             [
              0.5555555555555556,
              "#d8576b"
             ],
             [
              0.6666666666666666,
              "#ed7953"
             ],
             [
              0.7777777777777778,
              "#fb9f3a"
             ],
             [
              0.8888888888888888,
              "#fdca26"
             ],
             [
              1,
              "#f0f921"
             ]
            ],
            "type": "histogram2dcontour"
           }
          ],
          "mesh3d": [
           {
            "colorbar": {
             "outlinewidth": 0,
             "ticks": ""
            },
            "type": "mesh3d"
           }
          ],
          "parcoords": [
           {
            "line": {
             "colorbar": {
              "outlinewidth": 0,
              "ticks": ""
             }
            },
            "type": "parcoords"
           }
          ],
          "pie": [
           {
            "automargin": true,
            "type": "pie"
           }
          ],
          "scatter": [
           {
            "marker": {
             "colorbar": {
              "outlinewidth": 0,
              "ticks": ""
             }
            },
            "type": "scatter"
           }
          ],
          "scatter3d": [
           {
            "line": {
             "colorbar": {
              "outlinewidth": 0,
              "ticks": ""
             }
            },
            "marker": {
             "colorbar": {
              "outlinewidth": 0,
              "ticks": ""
             }
            },
            "type": "scatter3d"
           }
          ],
          "scattercarpet": [
           {
            "marker": {
             "colorbar": {
              "outlinewidth": 0,
              "ticks": ""
             }
            },
            "type": "scattercarpet"
           }
          ],
          "scattergeo": [
           {
            "marker": {
             "colorbar": {
              "outlinewidth": 0,
              "ticks": ""
             }
            },
            "type": "scattergeo"
           }
          ],
          "scattergl": [
           {
            "marker": {
             "colorbar": {
              "outlinewidth": 0,
              "ticks": ""
             }
            },
            "type": "scattergl"
           }
          ],
          "scattermapbox": [
           {
            "marker": {
             "colorbar": {
              "outlinewidth": 0,
              "ticks": ""
             }
            },
            "type": "scattermapbox"
           }
          ],
          "scatterpolar": [
           {
            "marker": {
             "colorbar": {
              "outlinewidth": 0,
              "ticks": ""
             }
            },
            "type": "scatterpolar"
           }
          ],
          "scatterpolargl": [
           {
            "marker": {
             "colorbar": {
              "outlinewidth": 0,
              "ticks": ""
             }
            },
            "type": "scatterpolargl"
           }
          ],
          "scatterternary": [
           {
            "marker": {
             "colorbar": {
              "outlinewidth": 0,
              "ticks": ""
             }
            },
            "type": "scatterternary"
           }
          ],
          "surface": [
           {
            "colorbar": {
             "outlinewidth": 0,
             "ticks": ""
            },
            "colorscale": [
             [
              0,
              "#0d0887"
             ],
             [
              0.1111111111111111,
              "#46039f"
             ],
             [
              0.2222222222222222,
              "#7201a8"
             ],
             [
              0.3333333333333333,
              "#9c179e"
             ],
             [
              0.4444444444444444,
              "#bd3786"
             ],
             [
              0.5555555555555556,
              "#d8576b"
             ],
             [
              0.6666666666666666,
              "#ed7953"
             ],
             [
              0.7777777777777778,
              "#fb9f3a"
             ],
             [
              0.8888888888888888,
              "#fdca26"
             ],
             [
              1,
              "#f0f921"
             ]
            ],
            "type": "surface"
           }
          ],
          "table": [
           {
            "cells": {
             "fill": {
              "color": "#EBF0F8"
             },
             "line": {
              "color": "white"
             }
            },
            "header": {
             "fill": {
              "color": "#C8D4E3"
             },
             "line": {
              "color": "white"
             }
            },
            "type": "table"
           }
          ]
         },
         "layout": {
          "annotationdefaults": {
           "arrowcolor": "#2a3f5f",
           "arrowhead": 0,
           "arrowwidth": 1
          },
          "coloraxis": {
           "colorbar": {
            "outlinewidth": 0,
            "ticks": ""
           }
          },
          "colorscale": {
           "diverging": [
            [
             0,
             "#8e0152"
            ],
            [
             0.1,
             "#c51b7d"
            ],
            [
             0.2,
             "#de77ae"
            ],
            [
             0.3,
             "#f1b6da"
            ],
            [
             0.4,
             "#fde0ef"
            ],
            [
             0.5,
             "#f7f7f7"
            ],
            [
             0.6,
             "#e6f5d0"
            ],
            [
             0.7,
             "#b8e186"
            ],
            [
             0.8,
             "#7fbc41"
            ],
            [
             0.9,
             "#4d9221"
            ],
            [
             1,
             "#276419"
            ]
           ],
           "sequential": [
            [
             0,
             "#0d0887"
            ],
            [
             0.1111111111111111,
             "#46039f"
            ],
            [
             0.2222222222222222,
             "#7201a8"
            ],
            [
             0.3333333333333333,
             "#9c179e"
            ],
            [
             0.4444444444444444,
             "#bd3786"
            ],
            [
             0.5555555555555556,
             "#d8576b"
            ],
            [
             0.6666666666666666,
             "#ed7953"
            ],
            [
             0.7777777777777778,
             "#fb9f3a"
            ],
            [
             0.8888888888888888,
             "#fdca26"
            ],
            [
             1,
             "#f0f921"
            ]
           ],
           "sequentialminus": [
            [
             0,
             "#0d0887"
            ],
            [
             0.1111111111111111,
             "#46039f"
            ],
            [
             0.2222222222222222,
             "#7201a8"
            ],
            [
             0.3333333333333333,
             "#9c179e"
            ],
            [
             0.4444444444444444,
             "#bd3786"
            ],
            [
             0.5555555555555556,
             "#d8576b"
            ],
            [
             0.6666666666666666,
             "#ed7953"
            ],
            [
             0.7777777777777778,
             "#fb9f3a"
            ],
            [
             0.8888888888888888,
             "#fdca26"
            ],
            [
             1,
             "#f0f921"
            ]
           ]
          },
          "colorway": [
           "#636efa",
           "#EF553B",
           "#00cc96",
           "#ab63fa",
           "#FFA15A",
           "#19d3f3",
           "#FF6692",
           "#B6E880",
           "#FF97FF",
           "#FECB52"
          ],
          "font": {
           "color": "#2a3f5f"
          },
          "geo": {
           "bgcolor": "white",
           "lakecolor": "white",
           "landcolor": "#E5ECF6",
           "showlakes": true,
           "showland": true,
           "subunitcolor": "white"
          },
          "hoverlabel": {
           "align": "left"
          },
          "hovermode": "closest",
          "mapbox": {
           "style": "light"
          },
          "paper_bgcolor": "white",
          "plot_bgcolor": "#E5ECF6",
          "polar": {
           "angularaxis": {
            "gridcolor": "white",
            "linecolor": "white",
            "ticks": ""
           },
           "bgcolor": "#E5ECF6",
           "radialaxis": {
            "gridcolor": "white",
            "linecolor": "white",
            "ticks": ""
           }
          },
          "scene": {
           "xaxis": {
            "backgroundcolor": "#E5ECF6",
            "gridcolor": "white",
            "gridwidth": 2,
            "linecolor": "white",
            "showbackground": true,
            "ticks": "",
            "zerolinecolor": "white"
           },
           "yaxis": {
            "backgroundcolor": "#E5ECF6",
            "gridcolor": "white",
            "gridwidth": 2,
            "linecolor": "white",
            "showbackground": true,
            "ticks": "",
            "zerolinecolor": "white"
           },
           "zaxis": {
            "backgroundcolor": "#E5ECF6",
            "gridcolor": "white",
            "gridwidth": 2,
            "linecolor": "white",
            "showbackground": true,
            "ticks": "",
            "zerolinecolor": "white"
           }
          },
          "shapedefaults": {
           "line": {
            "color": "#2a3f5f"
           }
          },
          "ternary": {
           "aaxis": {
            "gridcolor": "white",
            "linecolor": "white",
            "ticks": ""
           },
           "baxis": {
            "gridcolor": "white",
            "linecolor": "white",
            "ticks": ""
           },
           "bgcolor": "#E5ECF6",
           "caxis": {
            "gridcolor": "white",
            "linecolor": "white",
            "ticks": ""
           }
          },
          "title": {
           "x": 0.05
          },
          "xaxis": {
           "automargin": true,
           "gridcolor": "white",
           "linecolor": "white",
           "ticks": "",
           "title": {
            "standoff": 15
           },
           "zerolinecolor": "white",
           "zerolinewidth": 2
          },
          "yaxis": {
           "automargin": true,
           "gridcolor": "white",
           "linecolor": "white",
           "ticks": "",
           "title": {
            "standoff": 15
           },
           "zerolinecolor": "white",
           "zerolinewidth": 2
          }
         }
        },
        "xaxis": {
         "constrain": "domain",
         "scaleanchor": "y"
        },
        "yaxis": {
         "autorange": "reversed",
         "constrain": "domain"
        }
       }
      },
      "text/html": [
       "<div>                            <div id=\"b54858c9-a33f-4807-a78e-c212f3bb1ccb\" class=\"plotly-graph-div\" style=\"height:525px; width:100%;\"></div>            <script type=\"text/javascript\">                require([\"plotly\"], function(Plotly) {                    window.PLOTLYENV=window.PLOTLYENV || {};                                    if (document.getElementById(\"b54858c9-a33f-4807-a78e-c212f3bb1ccb\")) {                    Plotly.newPlot(                        \"b54858c9-a33f-4807-a78e-c212f3bb1ccb\",                        [{\"coloraxis\": \"coloraxis\", \"hovertemplate\": \"x: %{x}<br>y: %{y}<br>color: %{z}<extra></extra>\", \"type\": \"heatmap\", \"x\": [\"Calories\", \"Protein\", \"Fat\", \"Sodium\", \"Fiber\", \"Carbohydrates\", \"Sugars\", \"Potassium\", \"Vitamins\", \"Shelf\", \"Weight\", \"Cups\", \"Rating\"], \"y\": [\"Calories\", \"Protein\", \"Fat\", \"Sodium\", \"Fiber\", \"Carbohydrates\", \"Sugars\", \"Potassium\", \"Vitamins\", \"Shelf\", \"Weight\", \"Cups\", \"Rating\"], \"z\": [[1.0, 0.019066068232357045, 0.4986098143003878, 0.3006492269526867, -0.29341275179832144, 0.25234869059605886, 0.5640922203277142, -0.06667789569058025, 0.2653562981114496, 0.09723436772167836, 0.6960910769169041, 0.08719954579093925, -0.6893760311652587], [0.019066068232357045, 1.0, 0.2084309895808068, -0.054674347511502484, 0.5003300427811562, -0.1253372738075477, -0.32411233906744713, 0.549667079464893, 0.007335370520533918, 0.13386478901600132, 0.2161584855195131, -0.24446915776667216, 0.4706184645492595], [0.4986098143003878, 0.2084309895808068, 1.0, -0.005407464142988059, 0.016719237409478938, -0.3185040112813799, 0.27508649964770376, 0.1933705844208371, -0.03115626553472393, 0.26369108927169244, 0.21462503294690521, -0.1758921424593898, -0.40928366014780987], [0.3006492269526867, -0.054674347511502484, -0.005407464142988059, 1.0, -0.07067500888163178, 0.35398985110403086, 0.09629059260182443, -0.03270647031773489, 0.36147668811842937, -0.06971901520966246, 0.3085764509091827, 0.11966461477796655, -0.40129520449484835], [-0.29341275179832144, 0.5003300427811562, 0.016719237409478938, -0.07067500888163178, 1.0, -0.35929693744224234, -0.14122511595786214, 0.9036473537450287, -0.03224267938538186, 0.29753905609295084, 0.24722562983528196, -0.5130609334010765, 0.5841604199515834], [0.25234869059605886, -0.1253372738075477, -0.3185040112813799, 0.35398985110403086, -0.35929693744224234, 1.0, -0.3528352117791931, -0.352861052439402, 0.25706548099760496, -0.1074238240171664, 0.13601577744047325, 0.3659303912974207, 0.05443561530215912], [0.5640922203277142, -0.32411233906744713, 0.27508649964770376, 0.09629059260182443, -0.14122511595786214, -0.3528352117791931, 1.0, 0.022151065168512896, 0.12199983019253399, 0.09662251170989461, 0.4523083786225309, -0.03444974497475415, -0.7617324153134105], [-0.06667789569058025, 0.549667079464893, 0.1933705844208371, -0.03270647031773489, 0.9036473537450287, -0.352861052439402, 0.022151065168512896, 1.0, 0.020448742231550153, 0.36097357513392864, 0.4164388605780024, -0.4953571853716886, 0.38053428751007623], [0.2653562981114496, 0.007335370520533918, -0.03115626553472393, 0.36147668811842937, -0.03224267938538186, 0.25706548099760496, 0.12199983019253399, 0.020448742231550153, 1.0, 0.2992616654364501, 0.320324059150388, 0.12840454253286743, -0.2405436107690815], [0.09723436772167836, 0.13386478901600132, 0.26369108927169244, -0.06971901520966246, 0.29753905609295084, -0.1074238240171664, 0.09662251170989461, 0.36097357513392864, 0.2992616654364501, 1.0, 0.19076196726898997, -0.33526875894247576, 0.025158815679116934], [0.6960910769169041, 0.2161584855195131, 0.21462503294690521, 0.3085764509091827, 0.24722562983528196, 0.13601577744047325, 0.4523083786225309, 0.4164388605780024, 0.320324059150388, 0.19076196726898997, 1.0, -0.1995827224385371, -0.29812398497794707], [0.08719954579093925, -0.24446915776667216, -0.1758921424593898, 0.11966461477796655, -0.5130609334010765, 0.3659303912974207, -0.03444974497475415, -0.4953571853716886, 0.12840454253286743, -0.33526875894247576, -0.1995827224385371, 1.0, -0.2031600630081788], [-0.6893760311652587, 0.4706184645492595, -0.40928366014780987, -0.40129520449484835, 0.5841604199515834, 0.05443561530215912, -0.7617324153134105, 0.38053428751007623, -0.2405436107690815, 0.025158815679116934, -0.29812398497794707, -0.2031600630081788, 1.0]]}],                        {\"coloraxis\": {\"cmid\": 0, \"colorscale\": [[0.0, \"rgb(0, 147, 146)\"], [0.16666666666666666, \"rgb(114, 170, 161)\"], [0.3333333333333333, \"rgb(177, 199, 179)\"], [0.5, \"rgb(241, 234, 200)\"], [0.6666666666666666, \"rgb(229, 185, 173)\"], [0.8333333333333334, \"rgb(217, 137, 148)\"], [1.0, \"rgb(208, 88, 126)\"]]}, \"margin\": {\"t\": 60}, \"template\": {\"data\": {\"bar\": [{\"error_x\": {\"color\": \"#2a3f5f\"}, \"error_y\": {\"color\": \"#2a3f5f\"}, \"marker\": {\"line\": {\"color\": \"#E5ECF6\", \"width\": 0.5}}, \"type\": \"bar\"}], \"barpolar\": [{\"marker\": {\"line\": {\"color\": \"#E5ECF6\", \"width\": 0.5}}, \"type\": \"barpolar\"}], \"carpet\": [{\"aaxis\": {\"endlinecolor\": \"#2a3f5f\", \"gridcolor\": \"white\", \"linecolor\": \"white\", \"minorgridcolor\": \"white\", \"startlinecolor\": \"#2a3f5f\"}, \"baxis\": {\"endlinecolor\": \"#2a3f5f\", \"gridcolor\": \"white\", \"linecolor\": \"white\", \"minorgridcolor\": \"white\", \"startlinecolor\": \"#2a3f5f\"}, \"type\": \"carpet\"}], \"choropleth\": [{\"colorbar\": {\"outlinewidth\": 0, \"ticks\": \"\"}, \"type\": \"choropleth\"}], \"contour\": [{\"colorbar\": {\"outlinewidth\": 0, \"ticks\": \"\"}, \"colorscale\": [[0.0, \"#0d0887\"], [0.1111111111111111, \"#46039f\"], [0.2222222222222222, \"#7201a8\"], [0.3333333333333333, \"#9c179e\"], [0.4444444444444444, \"#bd3786\"], [0.5555555555555556, \"#d8576b\"], [0.6666666666666666, \"#ed7953\"], [0.7777777777777778, \"#fb9f3a\"], [0.8888888888888888, \"#fdca26\"], [1.0, \"#f0f921\"]], \"type\": \"contour\"}], \"contourcarpet\": [{\"colorbar\": {\"outlinewidth\": 0, \"ticks\": \"\"}, \"type\": \"contourcarpet\"}], \"heatmap\": [{\"colorbar\": {\"outlinewidth\": 0, \"ticks\": \"\"}, \"colorscale\": [[0.0, \"#0d0887\"], [0.1111111111111111, \"#46039f\"], [0.2222222222222222, \"#7201a8\"], [0.3333333333333333, \"#9c179e\"], [0.4444444444444444, \"#bd3786\"], [0.5555555555555556, \"#d8576b\"], [0.6666666666666666, \"#ed7953\"], [0.7777777777777778, \"#fb9f3a\"], [0.8888888888888888, \"#fdca26\"], [1.0, \"#f0f921\"]], \"type\": \"heatmap\"}], \"heatmapgl\": [{\"colorbar\": {\"outlinewidth\": 0, \"ticks\": \"\"}, \"colorscale\": [[0.0, \"#0d0887\"], [0.1111111111111111, \"#46039f\"], [0.2222222222222222, \"#7201a8\"], [0.3333333333333333, \"#9c179e\"], [0.4444444444444444, \"#bd3786\"], [0.5555555555555556, \"#d8576b\"], [0.6666666666666666, \"#ed7953\"], [0.7777777777777778, \"#fb9f3a\"], [0.8888888888888888, \"#fdca26\"], [1.0, \"#f0f921\"]], \"type\": \"heatmapgl\"}], \"histogram\": [{\"marker\": {\"colorbar\": {\"outlinewidth\": 0, \"ticks\": \"\"}}, \"type\": \"histogram\"}], \"histogram2d\": [{\"colorbar\": {\"outlinewidth\": 0, \"ticks\": \"\"}, \"colorscale\": [[0.0, \"#0d0887\"], [0.1111111111111111, \"#46039f\"], [0.2222222222222222, \"#7201a8\"], [0.3333333333333333, \"#9c179e\"], [0.4444444444444444, \"#bd3786\"], [0.5555555555555556, \"#d8576b\"], [0.6666666666666666, \"#ed7953\"], [0.7777777777777778, \"#fb9f3a\"], [0.8888888888888888, \"#fdca26\"], [1.0, \"#f0f921\"]], \"type\": \"histogram2d\"}], \"histogram2dcontour\": [{\"colorbar\": {\"outlinewidth\": 0, \"ticks\": \"\"}, \"colorscale\": [[0.0, \"#0d0887\"], [0.1111111111111111, \"#46039f\"], [0.2222222222222222, \"#7201a8\"], [0.3333333333333333, \"#9c179e\"], [0.4444444444444444, \"#bd3786\"], [0.5555555555555556, \"#d8576b\"], [0.6666666666666666, \"#ed7953\"], [0.7777777777777778, \"#fb9f3a\"], [0.8888888888888888, \"#fdca26\"], [1.0, \"#f0f921\"]], \"type\": \"histogram2dcontour\"}], \"mesh3d\": [{\"colorbar\": {\"outlinewidth\": 0, \"ticks\": \"\"}, \"type\": \"mesh3d\"}], \"parcoords\": [{\"line\": {\"colorbar\": {\"outlinewidth\": 0, \"ticks\": \"\"}}, \"type\": \"parcoords\"}], \"pie\": [{\"automargin\": true, \"type\": \"pie\"}], \"scatter\": [{\"marker\": {\"colorbar\": {\"outlinewidth\": 0, \"ticks\": \"\"}}, \"type\": \"scatter\"}], \"scatter3d\": [{\"line\": {\"colorbar\": {\"outlinewidth\": 0, \"ticks\": \"\"}}, \"marker\": {\"colorbar\": {\"outlinewidth\": 0, \"ticks\": \"\"}}, \"type\": \"scatter3d\"}], \"scattercarpet\": [{\"marker\": {\"colorbar\": {\"outlinewidth\": 0, \"ticks\": \"\"}}, \"type\": \"scattercarpet\"}], \"scattergeo\": [{\"marker\": {\"colorbar\": {\"outlinewidth\": 0, \"ticks\": \"\"}}, \"type\": \"scattergeo\"}], \"scattergl\": [{\"marker\": {\"colorbar\": {\"outlinewidth\": 0, \"ticks\": \"\"}}, \"type\": \"scattergl\"}], \"scattermapbox\": [{\"marker\": {\"colorbar\": {\"outlinewidth\": 0, \"ticks\": \"\"}}, \"type\": \"scattermapbox\"}], \"scatterpolar\": [{\"marker\": {\"colorbar\": {\"outlinewidth\": 0, \"ticks\": \"\"}}, \"type\": \"scatterpolar\"}], \"scatterpolargl\": [{\"marker\": {\"colorbar\": {\"outlinewidth\": 0, \"ticks\": \"\"}}, \"type\": \"scatterpolargl\"}], \"scatterternary\": [{\"marker\": {\"colorbar\": {\"outlinewidth\": 0, \"ticks\": \"\"}}, \"type\": \"scatterternary\"}], \"surface\": [{\"colorbar\": {\"outlinewidth\": 0, \"ticks\": \"\"}, \"colorscale\": [[0.0, \"#0d0887\"], [0.1111111111111111, \"#46039f\"], [0.2222222222222222, \"#7201a8\"], [0.3333333333333333, \"#9c179e\"], [0.4444444444444444, \"#bd3786\"], [0.5555555555555556, \"#d8576b\"], [0.6666666666666666, \"#ed7953\"], [0.7777777777777778, \"#fb9f3a\"], [0.8888888888888888, \"#fdca26\"], [1.0, \"#f0f921\"]], \"type\": \"surface\"}], \"table\": [{\"cells\": {\"fill\": {\"color\": \"#EBF0F8\"}, \"line\": {\"color\": \"white\"}}, \"header\": {\"fill\": {\"color\": \"#C8D4E3\"}, \"line\": {\"color\": \"white\"}}, \"type\": \"table\"}]}, \"layout\": {\"annotationdefaults\": {\"arrowcolor\": \"#2a3f5f\", \"arrowhead\": 0, \"arrowwidth\": 1}, \"coloraxis\": {\"colorbar\": {\"outlinewidth\": 0, \"ticks\": \"\"}}, \"colorscale\": {\"diverging\": [[0, \"#8e0152\"], [0.1, \"#c51b7d\"], [0.2, \"#de77ae\"], [0.3, \"#f1b6da\"], [0.4, \"#fde0ef\"], [0.5, \"#f7f7f7\"], [0.6, \"#e6f5d0\"], [0.7, \"#b8e186\"], [0.8, \"#7fbc41\"], [0.9, \"#4d9221\"], [1, \"#276419\"]], \"sequential\": [[0.0, \"#0d0887\"], [0.1111111111111111, \"#46039f\"], [0.2222222222222222, \"#7201a8\"], [0.3333333333333333, \"#9c179e\"], [0.4444444444444444, \"#bd3786\"], [0.5555555555555556, \"#d8576b\"], [0.6666666666666666, \"#ed7953\"], [0.7777777777777778, \"#fb9f3a\"], [0.8888888888888888, \"#fdca26\"], [1.0, \"#f0f921\"]], \"sequentialminus\": [[0.0, \"#0d0887\"], [0.1111111111111111, \"#46039f\"], [0.2222222222222222, \"#7201a8\"], [0.3333333333333333, \"#9c179e\"], [0.4444444444444444, \"#bd3786\"], [0.5555555555555556, \"#d8576b\"], [0.6666666666666666, \"#ed7953\"], [0.7777777777777778, \"#fb9f3a\"], [0.8888888888888888, \"#fdca26\"], [1.0, \"#f0f921\"]]}, \"colorway\": [\"#636efa\", \"#EF553B\", \"#00cc96\", \"#ab63fa\", \"#FFA15A\", \"#19d3f3\", \"#FF6692\", \"#B6E880\", \"#FF97FF\", \"#FECB52\"], \"font\": {\"color\": \"#2a3f5f\"}, \"geo\": {\"bgcolor\": \"white\", \"lakecolor\": \"white\", \"landcolor\": \"#E5ECF6\", \"showlakes\": true, \"showland\": true, \"subunitcolor\": \"white\"}, \"hoverlabel\": {\"align\": \"left\"}, \"hovermode\": \"closest\", \"mapbox\": {\"style\": \"light\"}, \"paper_bgcolor\": \"white\", \"plot_bgcolor\": \"#E5ECF6\", \"polar\": {\"angularaxis\": {\"gridcolor\": \"white\", \"linecolor\": \"white\", \"ticks\": \"\"}, \"bgcolor\": \"#E5ECF6\", \"radialaxis\": {\"gridcolor\": \"white\", \"linecolor\": \"white\", \"ticks\": \"\"}}, \"scene\": {\"xaxis\": {\"backgroundcolor\": \"#E5ECF6\", \"gridcolor\": \"white\", \"gridwidth\": 2, \"linecolor\": \"white\", \"showbackground\": true, \"ticks\": \"\", \"zerolinecolor\": \"white\"}, \"yaxis\": {\"backgroundcolor\": \"#E5ECF6\", \"gridcolor\": \"white\", \"gridwidth\": 2, \"linecolor\": \"white\", \"showbackground\": true, \"ticks\": \"\", \"zerolinecolor\": \"white\"}, \"zaxis\": {\"backgroundcolor\": \"#E5ECF6\", \"gridcolor\": \"white\", \"gridwidth\": 2, \"linecolor\": \"white\", \"showbackground\": true, \"ticks\": \"\", \"zerolinecolor\": \"white\"}}, \"shapedefaults\": {\"line\": {\"color\": \"#2a3f5f\"}}, \"ternary\": {\"aaxis\": {\"gridcolor\": \"white\", \"linecolor\": \"white\", \"ticks\": \"\"}, \"baxis\": {\"gridcolor\": \"white\", \"linecolor\": \"white\", \"ticks\": \"\"}, \"bgcolor\": \"#E5ECF6\", \"caxis\": {\"gridcolor\": \"white\", \"linecolor\": \"white\", \"ticks\": \"\"}}, \"title\": {\"x\": 0.05}, \"xaxis\": {\"automargin\": true, \"gridcolor\": \"white\", \"linecolor\": \"white\", \"ticks\": \"\", \"title\": {\"standoff\": 15}, \"zerolinecolor\": \"white\", \"zerolinewidth\": 2}, \"yaxis\": {\"automargin\": true, \"gridcolor\": \"white\", \"linecolor\": \"white\", \"ticks\": \"\", \"title\": {\"standoff\": 15}, \"zerolinecolor\": \"white\", \"zerolinewidth\": 2}}}, \"xaxis\": {\"constrain\": \"domain\", \"scaleanchor\": \"y\"}, \"yaxis\": {\"autorange\": \"reversed\", \"constrain\": \"domain\"}},                        {\"responsive\": true}                    ).then(function(){\n",
       "                            \n",
       "var gd = document.getElementById('b54858c9-a33f-4807-a78e-c212f3bb1ccb');\n",
       "var x = new MutationObserver(function (mutations, observer) {{\n",
       "        var display = window.getComputedStyle(gd).display;\n",
       "        if (!display || display === 'none') {{\n",
       "            console.log([gd, 'removed!']);\n",
       "            Plotly.purge(gd);\n",
       "            observer.disconnect();\n",
       "        }}\n",
       "}});\n",
       "\n",
       "// Listen for the removal of the full notebook cells\n",
       "var notebookContainer = gd.closest('#notebook-container');\n",
       "if (notebookContainer) {{\n",
       "    x.observe(notebookContainer, {childList: true});\n",
       "}}\n",
       "\n",
       "// Listen for the clearing of the current output cell\n",
       "var outputEl = gd.closest('.output');\n",
       "if (outputEl) {{\n",
       "    x.observe(outputEl, {childList: true});\n",
       "}}\n",
       "\n",
       "                        })                };                });            </script>        </div>"
      ]
     },
     "metadata": {},
     "output_type": "display_data"
    }
   ],
   "source": [
    "px.imshow(df.corr(),color_continuous_scale=\"tealrose\",color_continuous_midpoint=0)"
   ]
  },
  {
   "cell_type": "markdown",
   "metadata": {
    "papermill": {
     "duration": 0.042207,
     "end_time": "2020-12-30T13:11:13.979480",
     "exception": false,
     "start_time": "2020-12-30T13:11:13.937273",
     "status": "completed"
    },
    "tags": []
   },
   "source": [
    "In the data:\n",
    "- The strongest positive correlation is between *fiber* and *potassium*;\n",
    "- *Calories* have notable positive correlations with *weight*, *sugars* and *fat*, which makes nutritional sense; and\n",
    "- Strong negative correlations between *sugars* and *rating*, and *calories* and *rating*."
   ]
  },
  {
   "cell_type": "code",
   "execution_count": 22,
   "metadata": {
    "execution": {
     "iopub.execute_input": "2020-12-30T13:11:14.076756Z",
     "iopub.status.busy": "2020-12-30T13:11:14.076001Z",
     "iopub.status.idle": "2020-12-30T13:11:15.556824Z",
     "shell.execute_reply": "2020-12-30T13:11:15.555884Z"
    },
    "papermill": {
     "duration": 1.534318,
     "end_time": "2020-12-30T13:11:15.556995",
     "exception": false,
     "start_time": "2020-12-30T13:11:14.022677",
     "status": "completed"
    },
    "scrolled": false,
    "tags": []
   },
   "outputs": [
    {
     "data": {
      "application/vnd.plotly.v1+json": {
       "config": {
        "plotlyServerURL": "https://plot.ly"
       },
       "data": [
        {
         "customdata": [
          [
           68.402973
          ],
          [
           33.983678999999995
          ],
          [
           59.425505
          ],
          [
           93.704912
          ],
          [
           34.384843
          ],
          [
           29.509541
          ],
          [
           33.174094000000004
          ],
          [
           37.038562
          ],
          [
           49.120253000000005
          ],
          [
           53.313813
          ],
          [
           18.042851000000002
          ],
          [
           50.764998999999996
          ],
          [
           19.823573
          ],
          [
           40.400208
          ],
          [
           22.736446
          ],
          [
           41.445019
          ],
          [
           45.863324
          ],
          [
           35.782790999999996
          ],
          [
           22.396513
          ],
          [
           40.448772
          ],
          [
           64.533816
          ],
          [
           46.895644
          ],
          [
           36.176196000000004
          ],
          [
           44.330856
          ],
          [
           32.207582
          ],
          [
           31.435972999999997
          ],
          [
           58.345141000000005
          ],
          [
           40.917047
          ],
          [
           41.015492
          ],
          [
           28.025765000000003
          ],
          [
           35.252444
          ],
          [
           23.804043
          ],
          [
           52.076896999999995
          ],
          [
           53.37100699999999
          ],
          [
           45.811716
          ],
          [
           21.871292
          ],
          [
           31.072217
          ],
          [
           28.742414
          ],
          [
           36.523683
          ],
          [
           36.471512
          ],
          [
           39.241114
          ],
          [
           45.328074
          ],
          [
           26.734515000000002
          ],
          [
           54.850917
          ],
          [
           37.136863
          ],
          [
           34.139765000000004
          ],
          [
           30.313351
          ],
          [
           40.105965000000005
          ],
          [
           29.924284999999998
          ],
          [
           40.69232
          ],
          [
           59.642837
          ],
          [
           30.450843
          ],
          [
           37.840594
          ],
          [
           41.50354
          ],
          [
           60.756112
          ],
          [
           63.005644999999994
          ],
          [
           49.511874
          ],
          [
           50.828392
          ],
          [
           39.259197
          ],
          [
           39.7034
          ],
          [
           55.333142
          ],
          [
           41.998933
          ],
          [
           40.560159000000006
          ],
          [
           68.235885
          ],
          [
           74.472949
          ],
          [
           72.801787
          ],
          [
           31.230054
          ],
          [
           53.131324
          ],
          [
           59.36399300000001
          ],
          [
           38.839746000000005
          ],
          [
           28.592785
          ],
          [
           46.658844
          ],
          [
           39.106173999999996
          ],
          [
           27.753301
          ],
          [
           49.787445
          ],
          [
           51.592193
          ],
          [
           36.187559
          ]
         ],
         "hovertemplate": "<b>%{hovertext}</b><br><br>Calories per Serve=%{x}<br>Rating (%)=%{customdata[0]:.2f}<extra></extra>",
         "hovertext": [
          "100% Bran",
          "100% Natural Bran",
          "All-Bran",
          "All-Bran with Extra Fiber",
          "Almond Delight",
          "Apple Cinnamon Cheerios",
          "Apple Jacks",
          "Basic 4",
          "Bran Chex",
          "Bran Flakes",
          "Cap'n'Crunch",
          "Cheerios",
          "Cinnamon Toast Crunch",
          "Clusters",
          "Cocoa Puffs",
          "Corn Chex",
          "Corn Flakes",
          "Corn Pops",
          "Count Chocula",
          "Cracklin' Oat Bran",
          "Cream of Wheat (Quick)",
          "Crispix",
          "Crispy Wheat & Raisins",
          "Double Chex",
          "Froot Loops",
          "Frosted Flakes",
          "Frosted Mini-Wheats",
          "Fruit & Fibre Dates; Walnuts; and Oats",
          "Fruitful Bran",
          "Fruity Pebbles",
          "Golden Crisp",
          "Golden Grahams",
          "Grape Nuts Flakes",
          "Grape-Nuts",
          "Great Grains Pecan",
          "Honey Graham Ohs",
          "Honey Nut Cheerios",
          "Honey-comb",
          "Just Right Crunchy  Nuggets",
          "Just Right Fruit & Nut",
          "Kix",
          "Life",
          "Lucky Charms",
          "Maypo",
          "Muesli Raisins; Dates; & Almonds",
          "Muesli Raisins; Peaches; & Pecans",
          "Mueslix Crispy Blend",
          "Multi-Grain Cheerios",
          "Nut&Honey Crunch",
          "Nutri-Grain Almond-Raisin",
          "Nutri-grain Wheat",
          "Oatmeal Raisin Crisp",
          "Post Nat. Raisin Bran",
          "Product 19",
          "Puffed Rice",
          "Puffed Wheat",
          "Quaker Oat Squares",
          "Quaker Oatmeal",
          "Raisin Bran",
          "Raisin Nut Bran",
          "Raisin Squares",
          "Rice Chex",
          "Rice Krispies",
          "Shredded Wheat",
          "Shredded Wheat 'n'Bran",
          "Shredded Wheat spoon size",
          "Smacks",
          "Special K",
          "Strawberry Fruit Wheats",
          "Total Corn Flakes",
          "Total Raisin Bran",
          "Total Whole Grain",
          "Triples",
          "Trix",
          "Wheat Chex",
          "Wheaties",
          "Wheaties Honey Gold"
         ],
         "legendgroup": "",
         "marker": {
          "color": "gold",
          "symbol": "circle"
         },
         "mode": "markers",
         "name": "",
         "orientation": "v",
         "showlegend": false,
         "type": "scatter",
         "x": [
          70,
          120,
          70,
          50,
          110,
          110,
          110,
          130,
          90,
          90,
          120,
          110,
          120,
          110,
          110,
          110,
          100,
          110,
          110,
          110,
          100,
          110,
          100,
          100,
          110,
          110,
          100,
          120,
          120,
          110,
          100,
          110,
          100,
          110,
          120,
          120,
          110,
          110,
          110,
          140,
          110,
          100,
          110,
          100,
          150,
          150,
          160,
          100,
          120,
          140,
          90,
          130,
          120,
          100,
          50,
          50,
          100,
          100,
          120,
          100,
          90,
          110,
          110,
          80,
          90,
          90,
          110,
          110,
          90,
          110,
          140,
          100,
          110,
          110,
          100,
          100,
          110
         ],
         "xaxis": "x",
         "y": [
          68.402973,
          33.983678999999995,
          59.425505,
          93.704912,
          34.384843,
          29.509541,
          33.174094000000004,
          37.038562,
          49.120253000000005,
          53.313813,
          18.042851000000002,
          50.764998999999996,
          19.823573,
          40.400208,
          22.736446,
          41.445019,
          45.863324,
          35.782790999999996,
          22.396513,
          40.448772,
          64.533816,
          46.895644,
          36.176196000000004,
          44.330856,
          32.207582,
          31.435972999999997,
          58.345141000000005,
          40.917047,
          41.015492,
          28.025765000000003,
          35.252444,
          23.804043,
          52.076896999999995,
          53.37100699999999,
          45.811716,
          21.871292,
          31.072217,
          28.742414,
          36.523683,
          36.471512,
          39.241114,
          45.328074,
          26.734515000000002,
          54.850917,
          37.136863,
          34.139765000000004,
          30.313351,
          40.105965000000005,
          29.924284999999998,
          40.69232,
          59.642837,
          30.450843,
          37.840594,
          41.50354,
          60.756112,
          63.005644999999994,
          49.511874,
          50.828392,
          39.259197,
          39.7034,
          55.333142,
          41.998933,
          40.560159000000006,
          68.235885,
          74.472949,
          72.801787,
          31.230054,
          53.131324,
          59.36399300000001,
          38.839746000000005,
          28.592785,
          46.658844,
          39.106173999999996,
          27.753301,
          49.787445,
          51.592193,
          36.187559
         ],
         "yaxis": "y"
        },
        {
         "alignmentgroup": "True",
         "bingroup": "x",
         "hovertemplate": "Calories per Serve=%{x}<br>count=%{y}<extra></extra>",
         "legendgroup": "",
         "marker": {
          "color": "gold"
         },
         "name": "",
         "offsetgroup": "",
         "opacity": 0.5,
         "showlegend": false,
         "type": "histogram",
         "x": [
          70,
          120,
          70,
          50,
          110,
          110,
          110,
          130,
          90,
          90,
          120,
          110,
          120,
          110,
          110,
          110,
          100,
          110,
          110,
          110,
          100,
          110,
          100,
          100,
          110,
          110,
          100,
          120,
          120,
          110,
          100,
          110,
          100,
          110,
          120,
          120,
          110,
          110,
          110,
          140,
          110,
          100,
          110,
          100,
          150,
          150,
          160,
          100,
          120,
          140,
          90,
          130,
          120,
          100,
          50,
          50,
          100,
          100,
          120,
          100,
          90,
          110,
          110,
          80,
          90,
          90,
          110,
          110,
          90,
          110,
          140,
          100,
          110,
          110,
          100,
          100,
          110
         ],
         "xaxis": "x3",
         "yaxis": "y3"
        },
        {
         "alignmentgroup": "True",
         "customdata": [
          [
           68.402973
          ],
          [
           33.983678999999995
          ],
          [
           59.425505
          ],
          [
           93.704912
          ],
          [
           34.384843
          ],
          [
           29.509541
          ],
          [
           33.174094000000004
          ],
          [
           37.038562
          ],
          [
           49.120253000000005
          ],
          [
           53.313813
          ],
          [
           18.042851000000002
          ],
          [
           50.764998999999996
          ],
          [
           19.823573
          ],
          [
           40.400208
          ],
          [
           22.736446
          ],
          [
           41.445019
          ],
          [
           45.863324
          ],
          [
           35.782790999999996
          ],
          [
           22.396513
          ],
          [
           40.448772
          ],
          [
           64.533816
          ],
          [
           46.895644
          ],
          [
           36.176196000000004
          ],
          [
           44.330856
          ],
          [
           32.207582
          ],
          [
           31.435972999999997
          ],
          [
           58.345141000000005
          ],
          [
           40.917047
          ],
          [
           41.015492
          ],
          [
           28.025765000000003
          ],
          [
           35.252444
          ],
          [
           23.804043
          ],
          [
           52.076896999999995
          ],
          [
           53.37100699999999
          ],
          [
           45.811716
          ],
          [
           21.871292
          ],
          [
           31.072217
          ],
          [
           28.742414
          ],
          [
           36.523683
          ],
          [
           36.471512
          ],
          [
           39.241114
          ],
          [
           45.328074
          ],
          [
           26.734515000000002
          ],
          [
           54.850917
          ],
          [
           37.136863
          ],
          [
           34.139765000000004
          ],
          [
           30.313351
          ],
          [
           40.105965000000005
          ],
          [
           29.924284999999998
          ],
          [
           40.69232
          ],
          [
           59.642837
          ],
          [
           30.450843
          ],
          [
           37.840594
          ],
          [
           41.50354
          ],
          [
           60.756112
          ],
          [
           63.005644999999994
          ],
          [
           49.511874
          ],
          [
           50.828392
          ],
          [
           39.259197
          ],
          [
           39.7034
          ],
          [
           55.333142
          ],
          [
           41.998933
          ],
          [
           40.560159000000006
          ],
          [
           68.235885
          ],
          [
           74.472949
          ],
          [
           72.801787
          ],
          [
           31.230054
          ],
          [
           53.131324
          ],
          [
           59.36399300000001
          ],
          [
           38.839746000000005
          ],
          [
           28.592785
          ],
          [
           46.658844
          ],
          [
           39.106173999999996
          ],
          [
           27.753301
          ],
          [
           49.787445
          ],
          [
           51.592193
          ],
          [
           36.187559
          ]
         ],
         "hovertemplate": "<b>%{hovertext}</b><br><br>Rating (%)=%{customdata[0]:.2f}<extra></extra>",
         "hovertext": [
          "100% Bran",
          "100% Natural Bran",
          "All-Bran",
          "All-Bran with Extra Fiber",
          "Almond Delight",
          "Apple Cinnamon Cheerios",
          "Apple Jacks",
          "Basic 4",
          "Bran Chex",
          "Bran Flakes",
          "Cap'n'Crunch",
          "Cheerios",
          "Cinnamon Toast Crunch",
          "Clusters",
          "Cocoa Puffs",
          "Corn Chex",
          "Corn Flakes",
          "Corn Pops",
          "Count Chocula",
          "Cracklin' Oat Bran",
          "Cream of Wheat (Quick)",
          "Crispix",
          "Crispy Wheat & Raisins",
          "Double Chex",
          "Froot Loops",
          "Frosted Flakes",
          "Frosted Mini-Wheats",
          "Fruit & Fibre Dates; Walnuts; and Oats",
          "Fruitful Bran",
          "Fruity Pebbles",
          "Golden Crisp",
          "Golden Grahams",
          "Grape Nuts Flakes",
          "Grape-Nuts",
          "Great Grains Pecan",
          "Honey Graham Ohs",
          "Honey Nut Cheerios",
          "Honey-comb",
          "Just Right Crunchy  Nuggets",
          "Just Right Fruit & Nut",
          "Kix",
          "Life",
          "Lucky Charms",
          "Maypo",
          "Muesli Raisins; Dates; & Almonds",
          "Muesli Raisins; Peaches; & Pecans",
          "Mueslix Crispy Blend",
          "Multi-Grain Cheerios",
          "Nut&Honey Crunch",
          "Nutri-Grain Almond-Raisin",
          "Nutri-grain Wheat",
          "Oatmeal Raisin Crisp",
          "Post Nat. Raisin Bran",
          "Product 19",
          "Puffed Rice",
          "Puffed Wheat",
          "Quaker Oat Squares",
          "Quaker Oatmeal",
          "Raisin Bran",
          "Raisin Nut Bran",
          "Raisin Squares",
          "Rice Chex",
          "Rice Krispies",
          "Shredded Wheat",
          "Shredded Wheat 'n'Bran",
          "Shredded Wheat spoon size",
          "Smacks",
          "Special K",
          "Strawberry Fruit Wheats",
          "Total Corn Flakes",
          "Total Raisin Bran",
          "Total Whole Grain",
          "Triples",
          "Trix",
          "Wheat Chex",
          "Wheaties",
          "Wheaties Honey Gold"
         ],
         "legendgroup": "",
         "marker": {
          "color": "gold",
          "symbol": "circle"
         },
         "name": "",
         "notched": true,
         "offsetgroup": "",
         "showlegend": false,
         "type": "box",
         "xaxis": "x2",
         "y": [
          68.402973,
          33.983678999999995,
          59.425505,
          93.704912,
          34.384843,
          29.509541,
          33.174094000000004,
          37.038562,
          49.120253000000005,
          53.313813,
          18.042851000000002,
          50.764998999999996,
          19.823573,
          40.400208,
          22.736446,
          41.445019,
          45.863324,
          35.782790999999996,
          22.396513,
          40.448772,
          64.533816,
          46.895644,
          36.176196000000004,
          44.330856,
          32.207582,
          31.435972999999997,
          58.345141000000005,
          40.917047,
          41.015492,
          28.025765000000003,
          35.252444,
          23.804043,
          52.076896999999995,
          53.37100699999999,
          45.811716,
          21.871292,
          31.072217,
          28.742414,
          36.523683,
          36.471512,
          39.241114,
          45.328074,
          26.734515000000002,
          54.850917,
          37.136863,
          34.139765000000004,
          30.313351,
          40.105965000000005,
          29.924284999999998,
          40.69232,
          59.642837,
          30.450843,
          37.840594,
          41.50354,
          60.756112,
          63.005644999999994,
          49.511874,
          50.828392,
          39.259197,
          39.7034,
          55.333142,
          41.998933,
          40.560159000000006,
          68.235885,
          74.472949,
          72.801787,
          31.230054,
          53.131324,
          59.36399300000001,
          38.839746000000005,
          28.592785,
          46.658844,
          39.106173999999996,
          27.753301,
          49.787445,
          51.592193,
          36.187559
         ],
         "yaxis": "y2"
        },
        {
         "hovertemplate": "<b>OLS trendline</b><br>Rating = -0.497013 * Calories + 95.788<br>R<sup>2</sup>=0.475239<br><br>Calories per Serve=%{x}<br>Rating (%)=%{y:.2f} <b>(trend)</b><extra></extra>",
         "legendgroup": "",
         "marker": {
          "color": "gold",
          "symbol": "circle"
         },
         "mode": "lines",
         "name": "",
         "showlegend": false,
         "type": "scatter",
         "x": [
          50,
          50,
          50,
          70,
          70,
          80,
          90,
          90,
          90,
          90,
          90,
          90,
          90,
          100,
          100,
          100,
          100,
          100,
          100,
          100,
          100,
          100,
          100,
          100,
          100,
          100,
          100,
          100,
          100,
          100,
          110,
          110,
          110,
          110,
          110,
          110,
          110,
          110,
          110,
          110,
          110,
          110,
          110,
          110,
          110,
          110,
          110,
          110,
          110,
          110,
          110,
          110,
          110,
          110,
          110,
          110,
          110,
          110,
          110,
          120,
          120,
          120,
          120,
          120,
          120,
          120,
          120,
          120,
          120,
          130,
          130,
          140,
          140,
          140,
          150,
          150,
          160
         ],
         "xaxis": "x",
         "y": [
          70.93736435460924,
          70.93736435460924,
          70.93736435460924,
          60.997100558696395,
          60.997100558696395,
          56.026968660739975,
          51.056836762783554,
          51.056836762783554,
          51.056836762783554,
          51.056836762783554,
          51.056836762783554,
          51.056836762783554,
          51.056836762783554,
          46.086704864827134,
          46.086704864827134,
          46.086704864827134,
          46.086704864827134,
          46.086704864827134,
          46.086704864827134,
          46.086704864827134,
          46.086704864827134,
          46.086704864827134,
          46.086704864827134,
          46.086704864827134,
          46.086704864827134,
          46.086704864827134,
          46.086704864827134,
          46.086704864827134,
          46.086704864827134,
          46.086704864827134,
          41.11657296687071,
          41.11657296687071,
          41.11657296687071,
          41.11657296687071,
          41.11657296687071,
          41.11657296687071,
          41.11657296687071,
          41.11657296687071,
          41.11657296687071,
          41.11657296687071,
          41.11657296687071,
          41.11657296687071,
          41.11657296687071,
          41.11657296687071,
          41.11657296687071,
          41.11657296687071,
          41.11657296687071,
          41.11657296687071,
          41.11657296687071,
          41.11657296687071,
          41.11657296687071,
          41.11657296687071,
          41.11657296687071,
          41.11657296687071,
          41.11657296687071,
          41.11657296687071,
          41.11657296687071,
          41.11657296687071,
          41.11657296687071,
          36.14644106891429,
          36.14644106891429,
          36.14644106891429,
          36.14644106891429,
          36.14644106891429,
          36.14644106891429,
          36.14644106891429,
          36.14644106891429,
          36.14644106891429,
          36.14644106891429,
          31.176309170957865,
          31.176309170957865,
          26.206177273001444,
          26.206177273001444,
          26.206177273001444,
          21.236045375045023,
          21.236045375045023,
          16.265913477088603
         ],
         "yaxis": "y"
        }
       ],
       "layout": {
        "barmode": "overlay",
        "legend": {
         "tracegroupgap": 0
        },
        "margin": {
         "t": 60
        },
        "template": {
         "data": {
          "bar": [
           {
            "error_x": {
             "color": "#2a3f5f"
            },
            "error_y": {
             "color": "#2a3f5f"
            },
            "marker": {
             "line": {
              "color": "#E5ECF6",
              "width": 0.5
             }
            },
            "type": "bar"
           }
          ],
          "barpolar": [
           {
            "marker": {
             "line": {
              "color": "#E5ECF6",
              "width": 0.5
             }
            },
            "type": "barpolar"
           }
          ],
          "carpet": [
           {
            "aaxis": {
             "endlinecolor": "#2a3f5f",
             "gridcolor": "white",
             "linecolor": "white",
             "minorgridcolor": "white",
             "startlinecolor": "#2a3f5f"
            },
            "baxis": {
             "endlinecolor": "#2a3f5f",
             "gridcolor": "white",
             "linecolor": "white",
             "minorgridcolor": "white",
             "startlinecolor": "#2a3f5f"
            },
            "type": "carpet"
           }
          ],
          "choropleth": [
           {
            "colorbar": {
             "outlinewidth": 0,
             "ticks": ""
            },
            "type": "choropleth"
           }
          ],
          "contour": [
           {
            "colorbar": {
             "outlinewidth": 0,
             "ticks": ""
            },
            "colorscale": [
             [
              0,
              "#0d0887"
             ],
             [
              0.1111111111111111,
              "#46039f"
             ],
             [
              0.2222222222222222,
              "#7201a8"
             ],
             [
              0.3333333333333333,
              "#9c179e"
             ],
             [
              0.4444444444444444,
              "#bd3786"
             ],
             [
              0.5555555555555556,
              "#d8576b"
             ],
             [
              0.6666666666666666,
              "#ed7953"
             ],
             [
              0.7777777777777778,
              "#fb9f3a"
             ],
             [
              0.8888888888888888,
              "#fdca26"
             ],
             [
              1,
              "#f0f921"
             ]
            ],
            "type": "contour"
           }
          ],
          "contourcarpet": [
           {
            "colorbar": {
             "outlinewidth": 0,
             "ticks": ""
            },
            "type": "contourcarpet"
           }
          ],
          "heatmap": [
           {
            "colorbar": {
             "outlinewidth": 0,
             "ticks": ""
            },
            "colorscale": [
             [
              0,
              "#0d0887"
             ],
             [
              0.1111111111111111,
              "#46039f"
             ],
             [
              0.2222222222222222,
              "#7201a8"
             ],
             [
              0.3333333333333333,
              "#9c179e"
             ],
             [
              0.4444444444444444,
              "#bd3786"
             ],
             [
              0.5555555555555556,
              "#d8576b"
             ],
             [
              0.6666666666666666,
              "#ed7953"
             ],
             [
              0.7777777777777778,
              "#fb9f3a"
             ],
             [
              0.8888888888888888,
              "#fdca26"
             ],
             [
              1,
              "#f0f921"
             ]
            ],
            "type": "heatmap"
           }
          ],
          "heatmapgl": [
           {
            "colorbar": {
             "outlinewidth": 0,
             "ticks": ""
            },
            "colorscale": [
             [
              0,
              "#0d0887"
             ],
             [
              0.1111111111111111,
              "#46039f"
             ],
             [
              0.2222222222222222,
              "#7201a8"
             ],
             [
              0.3333333333333333,
              "#9c179e"
             ],
             [
              0.4444444444444444,
              "#bd3786"
             ],
             [
              0.5555555555555556,
              "#d8576b"
             ],
             [
              0.6666666666666666,
              "#ed7953"
             ],
             [
              0.7777777777777778,
              "#fb9f3a"
             ],
             [
              0.8888888888888888,
              "#fdca26"
             ],
             [
              1,
              "#f0f921"
             ]
            ],
            "type": "heatmapgl"
           }
          ],
          "histogram": [
           {
            "marker": {
             "colorbar": {
              "outlinewidth": 0,
              "ticks": ""
             }
            },
            "type": "histogram"
           }
          ],
          "histogram2d": [
           {
            "colorbar": {
             "outlinewidth": 0,
             "ticks": ""
            },
            "colorscale": [
             [
              0,
              "#0d0887"
             ],
             [
              0.1111111111111111,
              "#46039f"
             ],
             [
              0.2222222222222222,
              "#7201a8"
             ],
             [
              0.3333333333333333,
              "#9c179e"
             ],
             [
              0.4444444444444444,
              "#bd3786"
             ],
             [
              0.5555555555555556,
              "#d8576b"
             ],
             [
              0.6666666666666666,
              "#ed7953"
             ],
             [
              0.7777777777777778,
              "#fb9f3a"
             ],
             [
              0.8888888888888888,
              "#fdca26"
             ],
             [
              1,
              "#f0f921"
             ]
            ],
            "type": "histogram2d"
           }
          ],
          "histogram2dcontour": [
           {
            "colorbar": {
             "outlinewidth": 0,
             "ticks": ""
            },
            "colorscale": [
             [
              0,
              "#0d0887"
             ],
             [
              0.1111111111111111,
              "#46039f"
             ],
             [
              0.2222222222222222,
              "#7201a8"
             ],
             [
              0.3333333333333333,
              "#9c179e"
             ],
             [
              0.4444444444444444,
              "#bd3786"
             ],
             [
              0.5555555555555556,
              "#d8576b"
             ],
             [
              0.6666666666666666,
              "#ed7953"
             ],
             [
              0.7777777777777778,
              "#fb9f3a"
             ],
             [
              0.8888888888888888,
              "#fdca26"
             ],
             [
              1,
              "#f0f921"
             ]
            ],
            "type": "histogram2dcontour"
           }
          ],
          "mesh3d": [
           {
            "colorbar": {
             "outlinewidth": 0,
             "ticks": ""
            },
            "type": "mesh3d"
           }
          ],
          "parcoords": [
           {
            "line": {
             "colorbar": {
              "outlinewidth": 0,
              "ticks": ""
             }
            },
            "type": "parcoords"
           }
          ],
          "pie": [
           {
            "automargin": true,
            "type": "pie"
           }
          ],
          "scatter": [
           {
            "marker": {
             "colorbar": {
              "outlinewidth": 0,
              "ticks": ""
             }
            },
            "type": "scatter"
           }
          ],
          "scatter3d": [
           {
            "line": {
             "colorbar": {
              "outlinewidth": 0,
              "ticks": ""
             }
            },
            "marker": {
             "colorbar": {
              "outlinewidth": 0,
              "ticks": ""
             }
            },
            "type": "scatter3d"
           }
          ],
          "scattercarpet": [
           {
            "marker": {
             "colorbar": {
              "outlinewidth": 0,
              "ticks": ""
             }
            },
            "type": "scattercarpet"
           }
          ],
          "scattergeo": [
           {
            "marker": {
             "colorbar": {
              "outlinewidth": 0,
              "ticks": ""
             }
            },
            "type": "scattergeo"
           }
          ],
          "scattergl": [
           {
            "marker": {
             "colorbar": {
              "outlinewidth": 0,
              "ticks": ""
             }
            },
            "type": "scattergl"
           }
          ],
          "scattermapbox": [
           {
            "marker": {
             "colorbar": {
              "outlinewidth": 0,
              "ticks": ""
             }
            },
            "type": "scattermapbox"
           }
          ],
          "scatterpolar": [
           {
            "marker": {
             "colorbar": {
              "outlinewidth": 0,
              "ticks": ""
             }
            },
            "type": "scatterpolar"
           }
          ],
          "scatterpolargl": [
           {
            "marker": {
             "colorbar": {
              "outlinewidth": 0,
              "ticks": ""
             }
            },
            "type": "scatterpolargl"
           }
          ],
          "scatterternary": [
           {
            "marker": {
             "colorbar": {
              "outlinewidth": 0,
              "ticks": ""
             }
            },
            "type": "scatterternary"
           }
          ],
          "surface": [
           {
            "colorbar": {
             "outlinewidth": 0,
             "ticks": ""
            },
            "colorscale": [
             [
              0,
              "#0d0887"
             ],
             [
              0.1111111111111111,
              "#46039f"
             ],
             [
              0.2222222222222222,
              "#7201a8"
             ],
             [
              0.3333333333333333,
              "#9c179e"
             ],
             [
              0.4444444444444444,
              "#bd3786"
             ],
             [
              0.5555555555555556,
              "#d8576b"
             ],
             [
              0.6666666666666666,
              "#ed7953"
             ],
             [
              0.7777777777777778,
              "#fb9f3a"
             ],
             [
              0.8888888888888888,
              "#fdca26"
             ],
             [
              1,
              "#f0f921"
             ]
            ],
            "type": "surface"
           }
          ],
          "table": [
           {
            "cells": {
             "fill": {
              "color": "#EBF0F8"
             },
             "line": {
              "color": "white"
             }
            },
            "header": {
             "fill": {
              "color": "#C8D4E3"
             },
             "line": {
              "color": "white"
             }
            },
            "type": "table"
           }
          ]
         },
         "layout": {
          "annotationdefaults": {
           "arrowcolor": "#2a3f5f",
           "arrowhead": 0,
           "arrowwidth": 1
          },
          "coloraxis": {
           "colorbar": {
            "outlinewidth": 0,
            "ticks": ""
           }
          },
          "colorscale": {
           "diverging": [
            [
             0,
             "#8e0152"
            ],
            [
             0.1,
             "#c51b7d"
            ],
            [
             0.2,
             "#de77ae"
            ],
            [
             0.3,
             "#f1b6da"
            ],
            [
             0.4,
             "#fde0ef"
            ],
            [
             0.5,
             "#f7f7f7"
            ],
            [
             0.6,
             "#e6f5d0"
            ],
            [
             0.7,
             "#b8e186"
            ],
            [
             0.8,
             "#7fbc41"
            ],
            [
             0.9,
             "#4d9221"
            ],
            [
             1,
             "#276419"
            ]
           ],
           "sequential": [
            [
             0,
             "#0d0887"
            ],
            [
             0.1111111111111111,
             "#46039f"
            ],
            [
             0.2222222222222222,
             "#7201a8"
            ],
            [
             0.3333333333333333,
             "#9c179e"
            ],
            [
             0.4444444444444444,
             "#bd3786"
            ],
            [
             0.5555555555555556,
             "#d8576b"
            ],
            [
             0.6666666666666666,
             "#ed7953"
            ],
            [
             0.7777777777777778,
             "#fb9f3a"
            ],
            [
             0.8888888888888888,
             "#fdca26"
            ],
            [
             1,
             "#f0f921"
            ]
           ],
           "sequentialminus": [
            [
             0,
             "#0d0887"
            ],
            [
             0.1111111111111111,
             "#46039f"
            ],
            [
             0.2222222222222222,
             "#7201a8"
            ],
            [
             0.3333333333333333,
             "#9c179e"
            ],
            [
             0.4444444444444444,
             "#bd3786"
            ],
            [
             0.5555555555555556,
             "#d8576b"
            ],
            [
             0.6666666666666666,
             "#ed7953"
            ],
            [
             0.7777777777777778,
             "#fb9f3a"
            ],
            [
             0.8888888888888888,
             "#fdca26"
            ],
            [
             1,
             "#f0f921"
            ]
           ]
          },
          "colorway": [
           "#636efa",
           "#EF553B",
           "#00cc96",
           "#ab63fa",
           "#FFA15A",
           "#19d3f3",
           "#FF6692",
           "#B6E880",
           "#FF97FF",
           "#FECB52"
          ],
          "font": {
           "color": "#2a3f5f"
          },
          "geo": {
           "bgcolor": "white",
           "lakecolor": "white",
           "landcolor": "#E5ECF6",
           "showlakes": true,
           "showland": true,
           "subunitcolor": "white"
          },
          "hoverlabel": {
           "align": "left"
          },
          "hovermode": "closest",
          "mapbox": {
           "style": "light"
          },
          "paper_bgcolor": "white",
          "plot_bgcolor": "#E5ECF6",
          "polar": {
           "angularaxis": {
            "gridcolor": "white",
            "linecolor": "white",
            "ticks": ""
           },
           "bgcolor": "#E5ECF6",
           "radialaxis": {
            "gridcolor": "white",
            "linecolor": "white",
            "ticks": ""
           }
          },
          "scene": {
           "xaxis": {
            "backgroundcolor": "#E5ECF6",
            "gridcolor": "white",
            "gridwidth": 2,
            "linecolor": "white",
            "showbackground": true,
            "ticks": "",
            "zerolinecolor": "white"
           },
           "yaxis": {
            "backgroundcolor": "#E5ECF6",
            "gridcolor": "white",
            "gridwidth": 2,
            "linecolor": "white",
            "showbackground": true,
            "ticks": "",
            "zerolinecolor": "white"
           },
           "zaxis": {
            "backgroundcolor": "#E5ECF6",
            "gridcolor": "white",
            "gridwidth": 2,
            "linecolor": "white",
            "showbackground": true,
            "ticks": "",
            "zerolinecolor": "white"
           }
          },
          "shapedefaults": {
           "line": {
            "color": "#2a3f5f"
           }
          },
          "ternary": {
           "aaxis": {
            "gridcolor": "white",
            "linecolor": "white",
            "ticks": ""
           },
           "baxis": {
            "gridcolor": "white",
            "linecolor": "white",
            "ticks": ""
           },
           "bgcolor": "#E5ECF6",
           "caxis": {
            "gridcolor": "white",
            "linecolor": "white",
            "ticks": ""
           }
          },
          "title": {
           "x": 0.05
          },
          "xaxis": {
           "automargin": true,
           "gridcolor": "white",
           "linecolor": "white",
           "ticks": "",
           "title": {
            "standoff": 15
           },
           "zerolinecolor": "white",
           "zerolinewidth": 2
          },
          "yaxis": {
           "automargin": true,
           "gridcolor": "white",
           "linecolor": "white",
           "ticks": "",
           "title": {
            "standoff": 15
           },
           "zerolinecolor": "white",
           "zerolinewidth": 2
          }
         }
        },
        "xaxis": {
         "anchor": "y",
         "domain": [
          0,
          0.8358
         ],
         "title": {
          "text": "Calories per Serve"
         }
        },
        "xaxis2": {
         "anchor": "y2",
         "domain": [
          0.8408,
          1
         ],
         "matches": "x2",
         "showgrid": false,
         "showline": false,
         "showticklabels": false,
         "ticks": ""
        },
        "xaxis3": {
         "anchor": "y3",
         "domain": [
          0,
          0.8358
         ],
         "matches": "x",
         "showgrid": true,
         "showticklabels": false
        },
        "xaxis4": {
         "anchor": "y4",
         "domain": [
          0.8408,
          1
         ],
         "matches": "x2",
         "showgrid": false,
         "showline": false,
         "showticklabels": false,
         "ticks": ""
        },
        "yaxis": {
         "anchor": "x",
         "domain": [
          0,
          0.7326
         ],
         "title": {
          "text": "Rating (%)"
         }
        },
        "yaxis2": {
         "anchor": "x2",
         "domain": [
          0,
          0.7326
         ],
         "matches": "y",
         "showgrid": true,
         "showticklabels": false
        },
        "yaxis3": {
         "anchor": "x3",
         "domain": [
          0.7426,
          1
         ],
         "matches": "y3",
         "showgrid": true,
         "showline": false,
         "showticklabels": false,
         "ticks": ""
        },
        "yaxis4": {
         "anchor": "x4",
         "domain": [
          0.7426,
          1
         ],
         "matches": "y3",
         "showgrid": true,
         "showline": false,
         "showticklabels": false,
         "ticks": ""
        }
       }
      },
      "text/html": [
       "<div>                            <div id=\"ab2378a4-1b36-4c57-a38e-0a18e9ff20db\" class=\"plotly-graph-div\" style=\"height:525px; width:100%;\"></div>            <script type=\"text/javascript\">                require([\"plotly\"], function(Plotly) {                    window.PLOTLYENV=window.PLOTLYENV || {};                                    if (document.getElementById(\"ab2378a4-1b36-4c57-a38e-0a18e9ff20db\")) {                    Plotly.newPlot(                        \"ab2378a4-1b36-4c57-a38e-0a18e9ff20db\",                        [{\"customdata\": [[68.402973], [33.983678999999995], [59.425505], [93.704912], [34.384843], [29.509541], [33.174094000000004], [37.038562], [49.120253000000005], [53.313813], [18.042851000000002], [50.764998999999996], [19.823573], [40.400208], [22.736446], [41.445019], [45.863324], [35.782790999999996], [22.396513], [40.448772], [64.533816], [46.895644], [36.176196000000004], [44.330856], [32.207582], [31.435972999999997], [58.345141000000005], [40.917047], [41.015492], [28.025765000000003], [35.252444], [23.804043], [52.076896999999995], [53.37100699999999], [45.811716], [21.871292], [31.072217], [28.742414], [36.523683], [36.471512], [39.241114], [45.328074], [26.734515000000002], [54.850917], [37.136863], [34.139765000000004], [30.313351], [40.105965000000005], [29.924284999999998], [40.69232], [59.642837], [30.450843], [37.840594], [41.50354], [60.756112], [63.005644999999994], [49.511874], [50.828392], [39.259197], [39.7034], [55.333142], [41.998933], [40.560159000000006], [68.235885], [74.472949], [72.801787], [31.230054], [53.131324], [59.36399300000001], [38.839746000000005], [28.592785], [46.658844], [39.106173999999996], [27.753301], [49.787445], [51.592193], [36.187559]], \"hovertemplate\": \"<b>%{hovertext}</b><br><br>Calories per Serve=%{x}<br>Rating (%)=%{customdata[0]:.2f}<extra></extra>\", \"hovertext\": [\"100% Bran\", \"100% Natural Bran\", \"All-Bran\", \"All-Bran with Extra Fiber\", \"Almond Delight\", \"Apple Cinnamon Cheerios\", \"Apple Jacks\", \"Basic 4\", \"Bran Chex\", \"Bran Flakes\", \"Cap'n'Crunch\", \"Cheerios\", \"Cinnamon Toast Crunch\", \"Clusters\", \"Cocoa Puffs\", \"Corn Chex\", \"Corn Flakes\", \"Corn Pops\", \"Count Chocula\", \"Cracklin' Oat Bran\", \"Cream of Wheat (Quick)\", \"Crispix\", \"Crispy Wheat & Raisins\", \"Double Chex\", \"Froot Loops\", \"Frosted Flakes\", \"Frosted Mini-Wheats\", \"Fruit & Fibre Dates; Walnuts; and Oats\", \"Fruitful Bran\", \"Fruity Pebbles\", \"Golden Crisp\", \"Golden Grahams\", \"Grape Nuts Flakes\", \"Grape-Nuts\", \"Great Grains Pecan\", \"Honey Graham Ohs\", \"Honey Nut Cheerios\", \"Honey-comb\", \"Just Right Crunchy  Nuggets\", \"Just Right Fruit & Nut\", \"Kix\", \"Life\", \"Lucky Charms\", \"Maypo\", \"Muesli Raisins; Dates; & Almonds\", \"Muesli Raisins; Peaches; & Pecans\", \"Mueslix Crispy Blend\", \"Multi-Grain Cheerios\", \"Nut&Honey Crunch\", \"Nutri-Grain Almond-Raisin\", \"Nutri-grain Wheat\", \"Oatmeal Raisin Crisp\", \"Post Nat. Raisin Bran\", \"Product 19\", \"Puffed Rice\", \"Puffed Wheat\", \"Quaker Oat Squares\", \"Quaker Oatmeal\", \"Raisin Bran\", \"Raisin Nut Bran\", \"Raisin Squares\", \"Rice Chex\", \"Rice Krispies\", \"Shredded Wheat\", \"Shredded Wheat 'n'Bran\", \"Shredded Wheat spoon size\", \"Smacks\", \"Special K\", \"Strawberry Fruit Wheats\", \"Total Corn Flakes\", \"Total Raisin Bran\", \"Total Whole Grain\", \"Triples\", \"Trix\", \"Wheat Chex\", \"Wheaties\", \"Wheaties Honey Gold\"], \"legendgroup\": \"\", \"marker\": {\"color\": \"gold\", \"symbol\": \"circle\"}, \"mode\": \"markers\", \"name\": \"\", \"orientation\": \"v\", \"showlegend\": false, \"type\": \"scatter\", \"x\": [70, 120, 70, 50, 110, 110, 110, 130, 90, 90, 120, 110, 120, 110, 110, 110, 100, 110, 110, 110, 100, 110, 100, 100, 110, 110, 100, 120, 120, 110, 100, 110, 100, 110, 120, 120, 110, 110, 110, 140, 110, 100, 110, 100, 150, 150, 160, 100, 120, 140, 90, 130, 120, 100, 50, 50, 100, 100, 120, 100, 90, 110, 110, 80, 90, 90, 110, 110, 90, 110, 140, 100, 110, 110, 100, 100, 110], \"xaxis\": \"x\", \"y\": [68.402973, 33.983678999999995, 59.425505, 93.704912, 34.384843, 29.509541, 33.174094000000004, 37.038562, 49.120253000000005, 53.313813, 18.042851000000002, 50.764998999999996, 19.823573, 40.400208, 22.736446, 41.445019, 45.863324, 35.782790999999996, 22.396513, 40.448772, 64.533816, 46.895644, 36.176196000000004, 44.330856, 32.207582, 31.435972999999997, 58.345141000000005, 40.917047, 41.015492, 28.025765000000003, 35.252444, 23.804043, 52.076896999999995, 53.37100699999999, 45.811716, 21.871292, 31.072217, 28.742414, 36.523683, 36.471512, 39.241114, 45.328074, 26.734515000000002, 54.850917, 37.136863, 34.139765000000004, 30.313351, 40.105965000000005, 29.924284999999998, 40.69232, 59.642837, 30.450843, 37.840594, 41.50354, 60.756112, 63.005644999999994, 49.511874, 50.828392, 39.259197, 39.7034, 55.333142, 41.998933, 40.560159000000006, 68.235885, 74.472949, 72.801787, 31.230054, 53.131324, 59.36399300000001, 38.839746000000005, 28.592785, 46.658844, 39.106173999999996, 27.753301, 49.787445, 51.592193, 36.187559], \"yaxis\": \"y\"}, {\"alignmentgroup\": \"True\", \"bingroup\": \"x\", \"hovertemplate\": \"Calories per Serve=%{x}<br>count=%{y}<extra></extra>\", \"legendgroup\": \"\", \"marker\": {\"color\": \"gold\"}, \"name\": \"\", \"offsetgroup\": \"\", \"opacity\": 0.5, \"showlegend\": false, \"type\": \"histogram\", \"x\": [70, 120, 70, 50, 110, 110, 110, 130, 90, 90, 120, 110, 120, 110, 110, 110, 100, 110, 110, 110, 100, 110, 100, 100, 110, 110, 100, 120, 120, 110, 100, 110, 100, 110, 120, 120, 110, 110, 110, 140, 110, 100, 110, 100, 150, 150, 160, 100, 120, 140, 90, 130, 120, 100, 50, 50, 100, 100, 120, 100, 90, 110, 110, 80, 90, 90, 110, 110, 90, 110, 140, 100, 110, 110, 100, 100, 110], \"xaxis\": \"x3\", \"yaxis\": \"y3\"}, {\"alignmentgroup\": \"True\", \"customdata\": [[68.402973], [33.983678999999995], [59.425505], [93.704912], [34.384843], [29.509541], [33.174094000000004], [37.038562], [49.120253000000005], [53.313813], [18.042851000000002], [50.764998999999996], [19.823573], [40.400208], [22.736446], [41.445019], [45.863324], [35.782790999999996], [22.396513], [40.448772], [64.533816], [46.895644], [36.176196000000004], [44.330856], [32.207582], [31.435972999999997], [58.345141000000005], [40.917047], [41.015492], [28.025765000000003], [35.252444], [23.804043], [52.076896999999995], [53.37100699999999], [45.811716], [21.871292], [31.072217], [28.742414], [36.523683], [36.471512], [39.241114], [45.328074], [26.734515000000002], [54.850917], [37.136863], [34.139765000000004], [30.313351], [40.105965000000005], [29.924284999999998], [40.69232], [59.642837], [30.450843], [37.840594], [41.50354], [60.756112], [63.005644999999994], [49.511874], [50.828392], [39.259197], [39.7034], [55.333142], [41.998933], [40.560159000000006], [68.235885], [74.472949], [72.801787], [31.230054], [53.131324], [59.36399300000001], [38.839746000000005], [28.592785], [46.658844], [39.106173999999996], [27.753301], [49.787445], [51.592193], [36.187559]], \"hovertemplate\": \"<b>%{hovertext}</b><br><br>Rating (%)=%{customdata[0]:.2f}<extra></extra>\", \"hovertext\": [\"100% Bran\", \"100% Natural Bran\", \"All-Bran\", \"All-Bran with Extra Fiber\", \"Almond Delight\", \"Apple Cinnamon Cheerios\", \"Apple Jacks\", \"Basic 4\", \"Bran Chex\", \"Bran Flakes\", \"Cap'n'Crunch\", \"Cheerios\", \"Cinnamon Toast Crunch\", \"Clusters\", \"Cocoa Puffs\", \"Corn Chex\", \"Corn Flakes\", \"Corn Pops\", \"Count Chocula\", \"Cracklin' Oat Bran\", \"Cream of Wheat (Quick)\", \"Crispix\", \"Crispy Wheat & Raisins\", \"Double Chex\", \"Froot Loops\", \"Frosted Flakes\", \"Frosted Mini-Wheats\", \"Fruit & Fibre Dates; Walnuts; and Oats\", \"Fruitful Bran\", \"Fruity Pebbles\", \"Golden Crisp\", \"Golden Grahams\", \"Grape Nuts Flakes\", \"Grape-Nuts\", \"Great Grains Pecan\", \"Honey Graham Ohs\", \"Honey Nut Cheerios\", \"Honey-comb\", \"Just Right Crunchy  Nuggets\", \"Just Right Fruit & Nut\", \"Kix\", \"Life\", \"Lucky Charms\", \"Maypo\", \"Muesli Raisins; Dates; & Almonds\", \"Muesli Raisins; Peaches; & Pecans\", \"Mueslix Crispy Blend\", \"Multi-Grain Cheerios\", \"Nut&Honey Crunch\", \"Nutri-Grain Almond-Raisin\", \"Nutri-grain Wheat\", \"Oatmeal Raisin Crisp\", \"Post Nat. Raisin Bran\", \"Product 19\", \"Puffed Rice\", \"Puffed Wheat\", \"Quaker Oat Squares\", \"Quaker Oatmeal\", \"Raisin Bran\", \"Raisin Nut Bran\", \"Raisin Squares\", \"Rice Chex\", \"Rice Krispies\", \"Shredded Wheat\", \"Shredded Wheat 'n'Bran\", \"Shredded Wheat spoon size\", \"Smacks\", \"Special K\", \"Strawberry Fruit Wheats\", \"Total Corn Flakes\", \"Total Raisin Bran\", \"Total Whole Grain\", \"Triples\", \"Trix\", \"Wheat Chex\", \"Wheaties\", \"Wheaties Honey Gold\"], \"legendgroup\": \"\", \"marker\": {\"color\": \"gold\", \"symbol\": \"circle\"}, \"name\": \"\", \"notched\": true, \"offsetgroup\": \"\", \"showlegend\": false, \"type\": \"box\", \"xaxis\": \"x2\", \"y\": [68.402973, 33.983678999999995, 59.425505, 93.704912, 34.384843, 29.509541, 33.174094000000004, 37.038562, 49.120253000000005, 53.313813, 18.042851000000002, 50.764998999999996, 19.823573, 40.400208, 22.736446, 41.445019, 45.863324, 35.782790999999996, 22.396513, 40.448772, 64.533816, 46.895644, 36.176196000000004, 44.330856, 32.207582, 31.435972999999997, 58.345141000000005, 40.917047, 41.015492, 28.025765000000003, 35.252444, 23.804043, 52.076896999999995, 53.37100699999999, 45.811716, 21.871292, 31.072217, 28.742414, 36.523683, 36.471512, 39.241114, 45.328074, 26.734515000000002, 54.850917, 37.136863, 34.139765000000004, 30.313351, 40.105965000000005, 29.924284999999998, 40.69232, 59.642837, 30.450843, 37.840594, 41.50354, 60.756112, 63.005644999999994, 49.511874, 50.828392, 39.259197, 39.7034, 55.333142, 41.998933, 40.560159000000006, 68.235885, 74.472949, 72.801787, 31.230054, 53.131324, 59.36399300000001, 38.839746000000005, 28.592785, 46.658844, 39.106173999999996, 27.753301, 49.787445, 51.592193, 36.187559], \"yaxis\": \"y2\"}, {\"hovertemplate\": \"<b>OLS trendline</b><br>Rating = -0.497013 * Calories + 95.788<br>R<sup>2</sup>=0.475239<br><br>Calories per Serve=%{x}<br>Rating (%)=%{y:.2f} <b>(trend)</b><extra></extra>\", \"legendgroup\": \"\", \"marker\": {\"color\": \"gold\", \"symbol\": \"circle\"}, \"mode\": \"lines\", \"name\": \"\", \"showlegend\": false, \"type\": \"scatter\", \"x\": [50, 50, 50, 70, 70, 80, 90, 90, 90, 90, 90, 90, 90, 100, 100, 100, 100, 100, 100, 100, 100, 100, 100, 100, 100, 100, 100, 100, 100, 100, 110, 110, 110, 110, 110, 110, 110, 110, 110, 110, 110, 110, 110, 110, 110, 110, 110, 110, 110, 110, 110, 110, 110, 110, 110, 110, 110, 110, 110, 120, 120, 120, 120, 120, 120, 120, 120, 120, 120, 130, 130, 140, 140, 140, 150, 150, 160], \"xaxis\": \"x\", \"y\": [70.93736435460924, 70.93736435460924, 70.93736435460924, 60.997100558696395, 60.997100558696395, 56.026968660739975, 51.056836762783554, 51.056836762783554, 51.056836762783554, 51.056836762783554, 51.056836762783554, 51.056836762783554, 51.056836762783554, 46.086704864827134, 46.086704864827134, 46.086704864827134, 46.086704864827134, 46.086704864827134, 46.086704864827134, 46.086704864827134, 46.086704864827134, 46.086704864827134, 46.086704864827134, 46.086704864827134, 46.086704864827134, 46.086704864827134, 46.086704864827134, 46.086704864827134, 46.086704864827134, 46.086704864827134, 41.11657296687071, 41.11657296687071, 41.11657296687071, 41.11657296687071, 41.11657296687071, 41.11657296687071, 41.11657296687071, 41.11657296687071, 41.11657296687071, 41.11657296687071, 41.11657296687071, 41.11657296687071, 41.11657296687071, 41.11657296687071, 41.11657296687071, 41.11657296687071, 41.11657296687071, 41.11657296687071, 41.11657296687071, 41.11657296687071, 41.11657296687071, 41.11657296687071, 41.11657296687071, 41.11657296687071, 41.11657296687071, 41.11657296687071, 41.11657296687071, 41.11657296687071, 41.11657296687071, 36.14644106891429, 36.14644106891429, 36.14644106891429, 36.14644106891429, 36.14644106891429, 36.14644106891429, 36.14644106891429, 36.14644106891429, 36.14644106891429, 36.14644106891429, 31.176309170957865, 31.176309170957865, 26.206177273001444, 26.206177273001444, 26.206177273001444, 21.236045375045023, 21.236045375045023, 16.265913477088603], \"yaxis\": \"y\"}],                        {\"barmode\": \"overlay\", \"legend\": {\"tracegroupgap\": 0}, \"margin\": {\"t\": 60}, \"template\": {\"data\": {\"bar\": [{\"error_x\": {\"color\": \"#2a3f5f\"}, \"error_y\": {\"color\": \"#2a3f5f\"}, \"marker\": {\"line\": {\"color\": \"#E5ECF6\", \"width\": 0.5}}, \"type\": \"bar\"}], \"barpolar\": [{\"marker\": {\"line\": {\"color\": \"#E5ECF6\", \"width\": 0.5}}, \"type\": \"barpolar\"}], \"carpet\": [{\"aaxis\": {\"endlinecolor\": \"#2a3f5f\", \"gridcolor\": \"white\", \"linecolor\": \"white\", \"minorgridcolor\": \"white\", \"startlinecolor\": \"#2a3f5f\"}, \"baxis\": {\"endlinecolor\": \"#2a3f5f\", \"gridcolor\": \"white\", \"linecolor\": \"white\", \"minorgridcolor\": \"white\", \"startlinecolor\": \"#2a3f5f\"}, \"type\": \"carpet\"}], \"choropleth\": [{\"colorbar\": {\"outlinewidth\": 0, \"ticks\": \"\"}, \"type\": \"choropleth\"}], \"contour\": [{\"colorbar\": {\"outlinewidth\": 0, \"ticks\": \"\"}, \"colorscale\": [[0.0, \"#0d0887\"], [0.1111111111111111, \"#46039f\"], [0.2222222222222222, \"#7201a8\"], [0.3333333333333333, \"#9c179e\"], [0.4444444444444444, \"#bd3786\"], [0.5555555555555556, \"#d8576b\"], [0.6666666666666666, \"#ed7953\"], [0.7777777777777778, \"#fb9f3a\"], [0.8888888888888888, \"#fdca26\"], [1.0, \"#f0f921\"]], \"type\": \"contour\"}], \"contourcarpet\": [{\"colorbar\": {\"outlinewidth\": 0, \"ticks\": \"\"}, \"type\": \"contourcarpet\"}], \"heatmap\": [{\"colorbar\": {\"outlinewidth\": 0, \"ticks\": \"\"}, \"colorscale\": [[0.0, \"#0d0887\"], [0.1111111111111111, \"#46039f\"], [0.2222222222222222, \"#7201a8\"], [0.3333333333333333, \"#9c179e\"], [0.4444444444444444, \"#bd3786\"], [0.5555555555555556, \"#d8576b\"], [0.6666666666666666, \"#ed7953\"], [0.7777777777777778, \"#fb9f3a\"], [0.8888888888888888, \"#fdca26\"], [1.0, \"#f0f921\"]], \"type\": \"heatmap\"}], \"heatmapgl\": [{\"colorbar\": {\"outlinewidth\": 0, \"ticks\": \"\"}, \"colorscale\": [[0.0, \"#0d0887\"], [0.1111111111111111, \"#46039f\"], [0.2222222222222222, \"#7201a8\"], [0.3333333333333333, \"#9c179e\"], [0.4444444444444444, \"#bd3786\"], [0.5555555555555556, \"#d8576b\"], [0.6666666666666666, \"#ed7953\"], [0.7777777777777778, \"#fb9f3a\"], [0.8888888888888888, \"#fdca26\"], [1.0, \"#f0f921\"]], \"type\": \"heatmapgl\"}], \"histogram\": [{\"marker\": {\"colorbar\": {\"outlinewidth\": 0, \"ticks\": \"\"}}, \"type\": \"histogram\"}], \"histogram2d\": [{\"colorbar\": {\"outlinewidth\": 0, \"ticks\": \"\"}, \"colorscale\": [[0.0, \"#0d0887\"], [0.1111111111111111, \"#46039f\"], [0.2222222222222222, \"#7201a8\"], [0.3333333333333333, \"#9c179e\"], [0.4444444444444444, \"#bd3786\"], [0.5555555555555556, \"#d8576b\"], [0.6666666666666666, \"#ed7953\"], [0.7777777777777778, \"#fb9f3a\"], [0.8888888888888888, \"#fdca26\"], [1.0, \"#f0f921\"]], \"type\": \"histogram2d\"}], \"histogram2dcontour\": [{\"colorbar\": {\"outlinewidth\": 0, \"ticks\": \"\"}, \"colorscale\": [[0.0, \"#0d0887\"], [0.1111111111111111, \"#46039f\"], [0.2222222222222222, \"#7201a8\"], [0.3333333333333333, \"#9c179e\"], [0.4444444444444444, \"#bd3786\"], [0.5555555555555556, \"#d8576b\"], [0.6666666666666666, \"#ed7953\"], [0.7777777777777778, \"#fb9f3a\"], [0.8888888888888888, \"#fdca26\"], [1.0, \"#f0f921\"]], \"type\": \"histogram2dcontour\"}], \"mesh3d\": [{\"colorbar\": {\"outlinewidth\": 0, \"ticks\": \"\"}, \"type\": \"mesh3d\"}], \"parcoords\": [{\"line\": {\"colorbar\": {\"outlinewidth\": 0, \"ticks\": \"\"}}, \"type\": \"parcoords\"}], \"pie\": [{\"automargin\": true, \"type\": \"pie\"}], \"scatter\": [{\"marker\": {\"colorbar\": {\"outlinewidth\": 0, \"ticks\": \"\"}}, \"type\": \"scatter\"}], \"scatter3d\": [{\"line\": {\"colorbar\": {\"outlinewidth\": 0, \"ticks\": \"\"}}, \"marker\": {\"colorbar\": {\"outlinewidth\": 0, \"ticks\": \"\"}}, \"type\": \"scatter3d\"}], \"scattercarpet\": [{\"marker\": {\"colorbar\": {\"outlinewidth\": 0, \"ticks\": \"\"}}, \"type\": \"scattercarpet\"}], \"scattergeo\": [{\"marker\": {\"colorbar\": {\"outlinewidth\": 0, \"ticks\": \"\"}}, \"type\": \"scattergeo\"}], \"scattergl\": [{\"marker\": {\"colorbar\": {\"outlinewidth\": 0, \"ticks\": \"\"}}, \"type\": \"scattergl\"}], \"scattermapbox\": [{\"marker\": {\"colorbar\": {\"outlinewidth\": 0, \"ticks\": \"\"}}, \"type\": \"scattermapbox\"}], \"scatterpolar\": [{\"marker\": {\"colorbar\": {\"outlinewidth\": 0, \"ticks\": \"\"}}, \"type\": \"scatterpolar\"}], \"scatterpolargl\": [{\"marker\": {\"colorbar\": {\"outlinewidth\": 0, \"ticks\": \"\"}}, \"type\": \"scatterpolargl\"}], \"scatterternary\": [{\"marker\": {\"colorbar\": {\"outlinewidth\": 0, \"ticks\": \"\"}}, \"type\": \"scatterternary\"}], \"surface\": [{\"colorbar\": {\"outlinewidth\": 0, \"ticks\": \"\"}, \"colorscale\": [[0.0, \"#0d0887\"], [0.1111111111111111, \"#46039f\"], [0.2222222222222222, \"#7201a8\"], [0.3333333333333333, \"#9c179e\"], [0.4444444444444444, \"#bd3786\"], [0.5555555555555556, \"#d8576b\"], [0.6666666666666666, \"#ed7953\"], [0.7777777777777778, \"#fb9f3a\"], [0.8888888888888888, \"#fdca26\"], [1.0, \"#f0f921\"]], \"type\": \"surface\"}], \"table\": [{\"cells\": {\"fill\": {\"color\": \"#EBF0F8\"}, \"line\": {\"color\": \"white\"}}, \"header\": {\"fill\": {\"color\": \"#C8D4E3\"}, \"line\": {\"color\": \"white\"}}, \"type\": \"table\"}]}, \"layout\": {\"annotationdefaults\": {\"arrowcolor\": \"#2a3f5f\", \"arrowhead\": 0, \"arrowwidth\": 1}, \"coloraxis\": {\"colorbar\": {\"outlinewidth\": 0, \"ticks\": \"\"}}, \"colorscale\": {\"diverging\": [[0, \"#8e0152\"], [0.1, \"#c51b7d\"], [0.2, \"#de77ae\"], [0.3, \"#f1b6da\"], [0.4, \"#fde0ef\"], [0.5, \"#f7f7f7\"], [0.6, \"#e6f5d0\"], [0.7, \"#b8e186\"], [0.8, \"#7fbc41\"], [0.9, \"#4d9221\"], [1, \"#276419\"]], \"sequential\": [[0.0, \"#0d0887\"], [0.1111111111111111, \"#46039f\"], [0.2222222222222222, \"#7201a8\"], [0.3333333333333333, \"#9c179e\"], [0.4444444444444444, \"#bd3786\"], [0.5555555555555556, \"#d8576b\"], [0.6666666666666666, \"#ed7953\"], [0.7777777777777778, \"#fb9f3a\"], [0.8888888888888888, \"#fdca26\"], [1.0, \"#f0f921\"]], \"sequentialminus\": [[0.0, \"#0d0887\"], [0.1111111111111111, \"#46039f\"], [0.2222222222222222, \"#7201a8\"], [0.3333333333333333, \"#9c179e\"], [0.4444444444444444, \"#bd3786\"], [0.5555555555555556, \"#d8576b\"], [0.6666666666666666, \"#ed7953\"], [0.7777777777777778, \"#fb9f3a\"], [0.8888888888888888, \"#fdca26\"], [1.0, \"#f0f921\"]]}, \"colorway\": [\"#636efa\", \"#EF553B\", \"#00cc96\", \"#ab63fa\", \"#FFA15A\", \"#19d3f3\", \"#FF6692\", \"#B6E880\", \"#FF97FF\", \"#FECB52\"], \"font\": {\"color\": \"#2a3f5f\"}, \"geo\": {\"bgcolor\": \"white\", \"lakecolor\": \"white\", \"landcolor\": \"#E5ECF6\", \"showlakes\": true, \"showland\": true, \"subunitcolor\": \"white\"}, \"hoverlabel\": {\"align\": \"left\"}, \"hovermode\": \"closest\", \"mapbox\": {\"style\": \"light\"}, \"paper_bgcolor\": \"white\", \"plot_bgcolor\": \"#E5ECF6\", \"polar\": {\"angularaxis\": {\"gridcolor\": \"white\", \"linecolor\": \"white\", \"ticks\": \"\"}, \"bgcolor\": \"#E5ECF6\", \"radialaxis\": {\"gridcolor\": \"white\", \"linecolor\": \"white\", \"ticks\": \"\"}}, \"scene\": {\"xaxis\": {\"backgroundcolor\": \"#E5ECF6\", \"gridcolor\": \"white\", \"gridwidth\": 2, \"linecolor\": \"white\", \"showbackground\": true, \"ticks\": \"\", \"zerolinecolor\": \"white\"}, \"yaxis\": {\"backgroundcolor\": \"#E5ECF6\", \"gridcolor\": \"white\", \"gridwidth\": 2, \"linecolor\": \"white\", \"showbackground\": true, \"ticks\": \"\", \"zerolinecolor\": \"white\"}, \"zaxis\": {\"backgroundcolor\": \"#E5ECF6\", \"gridcolor\": \"white\", \"gridwidth\": 2, \"linecolor\": \"white\", \"showbackground\": true, \"ticks\": \"\", \"zerolinecolor\": \"white\"}}, \"shapedefaults\": {\"line\": {\"color\": \"#2a3f5f\"}}, \"ternary\": {\"aaxis\": {\"gridcolor\": \"white\", \"linecolor\": \"white\", \"ticks\": \"\"}, \"baxis\": {\"gridcolor\": \"white\", \"linecolor\": \"white\", \"ticks\": \"\"}, \"bgcolor\": \"#E5ECF6\", \"caxis\": {\"gridcolor\": \"white\", \"linecolor\": \"white\", \"ticks\": \"\"}}, \"title\": {\"x\": 0.05}, \"xaxis\": {\"automargin\": true, \"gridcolor\": \"white\", \"linecolor\": \"white\", \"ticks\": \"\", \"title\": {\"standoff\": 15}, \"zerolinecolor\": \"white\", \"zerolinewidth\": 2}, \"yaxis\": {\"automargin\": true, \"gridcolor\": \"white\", \"linecolor\": \"white\", \"ticks\": \"\", \"title\": {\"standoff\": 15}, \"zerolinecolor\": \"white\", \"zerolinewidth\": 2}}}, \"xaxis\": {\"anchor\": \"y\", \"domain\": [0.0, 0.8358], \"title\": {\"text\": \"Calories per Serve\"}}, \"xaxis2\": {\"anchor\": \"y2\", \"domain\": [0.8408, 1.0], \"matches\": \"x2\", \"showgrid\": false, \"showline\": false, \"showticklabels\": false, \"ticks\": \"\"}, \"xaxis3\": {\"anchor\": \"y3\", \"domain\": [0.0, 0.8358], \"matches\": \"x\", \"showgrid\": true, \"showticklabels\": false}, \"xaxis4\": {\"anchor\": \"y4\", \"domain\": [0.8408, 1.0], \"matches\": \"x2\", \"showgrid\": false, \"showline\": false, \"showticklabels\": false, \"ticks\": \"\"}, \"yaxis\": {\"anchor\": \"x\", \"domain\": [0.0, 0.7326], \"title\": {\"text\": \"Rating (%)\"}}, \"yaxis2\": {\"anchor\": \"x2\", \"domain\": [0.0, 0.7326], \"matches\": \"y\", \"showgrid\": true, \"showticklabels\": false}, \"yaxis3\": {\"anchor\": \"x3\", \"domain\": [0.7426, 1.0], \"matches\": \"y3\", \"showgrid\": true, \"showline\": false, \"showticklabels\": false, \"ticks\": \"\"}, \"yaxis4\": {\"anchor\": \"x4\", \"domain\": [0.7426, 1.0], \"matches\": \"y3\", \"showgrid\": true, \"showline\": false, \"showticklabels\": false, \"ticks\": \"\"}},                        {\"responsive\": true}                    ).then(function(){\n",
       "                            \n",
       "var gd = document.getElementById('ab2378a4-1b36-4c57-a38e-0a18e9ff20db');\n",
       "var x = new MutationObserver(function (mutations, observer) {{\n",
       "        var display = window.getComputedStyle(gd).display;\n",
       "        if (!display || display === 'none') {{\n",
       "            console.log([gd, 'removed!']);\n",
       "            Plotly.purge(gd);\n",
       "            observer.disconnect();\n",
       "        }}\n",
       "}});\n",
       "\n",
       "// Listen for the removal of the full notebook cells\n",
       "var notebookContainer = gd.closest('#notebook-container');\n",
       "if (notebookContainer) {{\n",
       "    x.observe(notebookContainer, {childList: true});\n",
       "}}\n",
       "\n",
       "// Listen for the clearing of the current output cell\n",
       "var outputEl = gd.closest('.output');\n",
       "if (outputEl) {{\n",
       "    x.observe(outputEl, {childList: true});\n",
       "}}\n",
       "\n",
       "                        })                };                });            </script>        </div>"
      ]
     },
     "metadata": {},
     "output_type": "display_data"
    }
   ],
   "source": [
    "px.scatter(df,x=\"Calories\",y=\"Rating\",trendline=\"ols\",color_discrete_sequence=[\"gold\"],\n",
    "           labels={\"Calories\":\"Calories per Serve\",\"Rating\":\"Rating (%)\"},\n",
    "           hover_name=\"Name\",hover_data={\"Rating\":\":.2f\"},marginal_x=\"histogram\",marginal_y=\"box\")"
   ]
  },
  {
   "cell_type": "markdown",
   "metadata": {
    "papermill": {
     "duration": 0.042518,
     "end_time": "2020-12-30T13:11:15.648446",
     "exception": false,
     "start_time": "2020-12-30T13:11:15.605928",
     "status": "completed"
    },
    "tags": []
   },
   "source": [
    "As we have discovered above, *calories* have strong positive correlations with *weight*, *sugars* and *fat* thus is can be safe to assume that these calorific cereals are generally more unhealthy, and also perform worse than their healthier counterparts."
   ]
  },
  {
   "cell_type": "code",
   "execution_count": 23,
   "metadata": {
    "execution": {
     "iopub.execute_input": "2020-12-30T13:11:15.752861Z",
     "iopub.status.busy": "2020-12-30T13:11:15.752097Z",
     "iopub.status.idle": "2020-12-30T13:11:15.821325Z",
     "shell.execute_reply": "2020-12-30T13:11:15.820558Z"
    },
    "papermill": {
     "duration": 0.131796,
     "end_time": "2020-12-30T13:11:15.821480",
     "exception": false,
     "start_time": "2020-12-30T13:11:15.689684",
     "status": "completed"
    },
    "tags": []
   },
   "outputs": [
    {
     "data": {
      "application/vnd.plotly.v1+json": {
       "config": {
        "plotlyServerURL": "https://plot.ly"
       },
       "data": [
        {
         "hovertemplate": "<b>%{hovertext}</b><br><br>Sugar (g) per Serve=%{x}<br>Fat (g) per Serve=%{y}<br>Calories per Serve=%{marker.color}<extra></extra>",
         "hovertext": [
          "100% Bran",
          "100% Natural Bran",
          "All-Bran",
          "All-Bran with Extra Fiber",
          "Almond Delight",
          "Apple Cinnamon Cheerios",
          "Apple Jacks",
          "Basic 4",
          "Bran Chex",
          "Bran Flakes",
          "Cap'n'Crunch",
          "Cheerios",
          "Cinnamon Toast Crunch",
          "Clusters",
          "Cocoa Puffs",
          "Corn Chex",
          "Corn Flakes",
          "Corn Pops",
          "Count Chocula",
          "Cracklin' Oat Bran",
          "Cream of Wheat (Quick)",
          "Crispix",
          "Crispy Wheat & Raisins",
          "Double Chex",
          "Froot Loops",
          "Frosted Flakes",
          "Frosted Mini-Wheats",
          "Fruit & Fibre Dates; Walnuts; and Oats",
          "Fruitful Bran",
          "Fruity Pebbles",
          "Golden Crisp",
          "Golden Grahams",
          "Grape Nuts Flakes",
          "Grape-Nuts",
          "Great Grains Pecan",
          "Honey Graham Ohs",
          "Honey Nut Cheerios",
          "Honey-comb",
          "Just Right Crunchy  Nuggets",
          "Just Right Fruit & Nut",
          "Kix",
          "Life",
          "Lucky Charms",
          "Maypo",
          "Muesli Raisins; Dates; & Almonds",
          "Muesli Raisins; Peaches; & Pecans",
          "Mueslix Crispy Blend",
          "Multi-Grain Cheerios",
          "Nut&Honey Crunch",
          "Nutri-Grain Almond-Raisin",
          "Nutri-grain Wheat",
          "Oatmeal Raisin Crisp",
          "Post Nat. Raisin Bran",
          "Product 19",
          "Puffed Rice",
          "Puffed Wheat",
          "Quaker Oat Squares",
          "Quaker Oatmeal",
          "Raisin Bran",
          "Raisin Nut Bran",
          "Raisin Squares",
          "Rice Chex",
          "Rice Krispies",
          "Shredded Wheat",
          "Shredded Wheat 'n'Bran",
          "Shredded Wheat spoon size",
          "Smacks",
          "Special K",
          "Strawberry Fruit Wheats",
          "Total Corn Flakes",
          "Total Raisin Bran",
          "Total Whole Grain",
          "Triples",
          "Trix",
          "Wheat Chex",
          "Wheaties",
          "Wheaties Honey Gold"
         ],
         "legendgroup": "",
         "marker": {
          "color": [
           70,
           120,
           70,
           50,
           110,
           110,
           110,
           130,
           90,
           90,
           120,
           110,
           120,
           110,
           110,
           110,
           100,
           110,
           110,
           110,
           100,
           110,
           100,
           100,
           110,
           110,
           100,
           120,
           120,
           110,
           100,
           110,
           100,
           110,
           120,
           120,
           110,
           110,
           110,
           140,
           110,
           100,
           110,
           100,
           150,
           150,
           160,
           100,
           120,
           140,
           90,
           130,
           120,
           100,
           50,
           50,
           100,
           100,
           120,
           100,
           90,
           110,
           110,
           80,
           90,
           90,
           110,
           110,
           90,
           110,
           140,
           100,
           110,
           110,
           100,
           100,
           110
          ],
          "coloraxis": "coloraxis",
          "opacity": 0.3,
          "size": [
           70,
           120,
           70,
           50,
           110,
           110,
           110,
           130,
           90,
           90,
           120,
           110,
           120,
           110,
           110,
           110,
           100,
           110,
           110,
           110,
           100,
           110,
           100,
           100,
           110,
           110,
           100,
           120,
           120,
           110,
           100,
           110,
           100,
           110,
           120,
           120,
           110,
           110,
           110,
           140,
           110,
           100,
           110,
           100,
           150,
           150,
           160,
           100,
           120,
           140,
           90,
           130,
           120,
           100,
           50,
           50,
           100,
           100,
           120,
           100,
           90,
           110,
           110,
           80,
           90,
           90,
           110,
           110,
           90,
           110,
           140,
           100,
           110,
           110,
           100,
           100,
           110
          ],
          "sizemode": "area",
          "sizeref": 0.1306122448979592,
          "symbol": "circle"
         },
         "mode": "markers",
         "name": "",
         "orientation": "v",
         "showlegend": false,
         "type": "scatter",
         "x": [
          6,
          8,
          5,
          0,
          8,
          10,
          14,
          8,
          6,
          5,
          12,
          1,
          9,
          7,
          13,
          3,
          2,
          12,
          13,
          7,
          0,
          3,
          10,
          5,
          13,
          11,
          7,
          10,
          12,
          12,
          15,
          9,
          5,
          3,
          4,
          11,
          10,
          11,
          6,
          9,
          3,
          6,
          12,
          3,
          11,
          11,
          13,
          6,
          9,
          7,
          2,
          10,
          14,
          3,
          0,
          0,
          6,
          0,
          12,
          8,
          6,
          2,
          3,
          0,
          0,
          0,
          15,
          3,
          5,
          3,
          14,
          3,
          3,
          12,
          3,
          3,
          8
         ],
         "xaxis": "x",
         "y": [
          1,
          5,
          1,
          0,
          2,
          2,
          0,
          2,
          1,
          0,
          2,
          2,
          3,
          2,
          1,
          0,
          0,
          0,
          1,
          3,
          0,
          0,
          1,
          0,
          1,
          0,
          0,
          2,
          0,
          1,
          0,
          1,
          1,
          0,
          3,
          2,
          1,
          0,
          1,
          1,
          1,
          2,
          1,
          1,
          3,
          3,
          2,
          1,
          1,
          2,
          0,
          2,
          1,
          0,
          0,
          0,
          1,
          2,
          1,
          2,
          0,
          0,
          0,
          0,
          0,
          0,
          1,
          0,
          0,
          1,
          1,
          1,
          1,
          1,
          1,
          1,
          1
         ],
         "yaxis": "y"
        },
        {
         "hovertemplate": "<b>OLS trendline</b><br>Fat = 0.0625994 * Sugars + 0.578856<br>R<sup>2</sup>=0.075673<br><br>Sugar (g) per Serve=%{x}<br>Fat (g) per Serve=%{y} <b>(trend)</b><extra></extra>",
         "legendgroup": "",
         "line": {
          "color": "mediumseagreen"
         },
         "marker": {
          "symbol": "circle"
         },
         "mode": "lines",
         "name": "",
         "showlegend": false,
         "type": "scatter",
         "x": [
          0,
          0,
          0,
          0,
          0,
          0,
          0,
          0,
          1,
          2,
          2,
          2,
          3,
          3,
          3,
          3,
          3,
          3,
          3,
          3,
          3,
          3,
          3,
          3,
          3,
          4,
          5,
          5,
          5,
          5,
          5,
          6,
          6,
          6,
          6,
          6,
          6,
          6,
          7,
          7,
          7,
          7,
          8,
          8,
          8,
          8,
          8,
          9,
          9,
          9,
          9,
          10,
          10,
          10,
          10,
          10,
          11,
          11,
          11,
          11,
          11,
          12,
          12,
          12,
          12,
          12,
          12,
          12,
          13,
          13,
          13,
          13,
          14,
          14,
          14,
          15,
          15
         ],
         "xaxis": "x",
         "y": [
          0.5788563341894222,
          0.5788563341894222,
          0.5788563341894222,
          0.5788563341894222,
          0.5788563341894222,
          0.5788563341894222,
          0.5788563341894222,
          0.5788563341894222,
          0.6414557017313968,
          0.7040550692733714,
          0.7040550692733714,
          0.7040550692733714,
          0.7666544368153461,
          0.7666544368153461,
          0.7666544368153461,
          0.7666544368153461,
          0.7666544368153461,
          0.7666544368153461,
          0.7666544368153461,
          0.7666544368153461,
          0.7666544368153461,
          0.7666544368153461,
          0.7666544368153461,
          0.7666544368153461,
          0.7666544368153461,
          0.8292538043573207,
          0.8918531718992952,
          0.8918531718992952,
          0.8918531718992952,
          0.8918531718992952,
          0.8918531718992952,
          0.95445253944127,
          0.95445253944127,
          0.95445253944127,
          0.95445253944127,
          0.95445253944127,
          0.95445253944127,
          0.95445253944127,
          1.0170519069832444,
          1.0170519069832444,
          1.0170519069832444,
          1.0170519069832444,
          1.0796512745252191,
          1.0796512745252191,
          1.0796512745252191,
          1.0796512745252191,
          1.0796512745252191,
          1.1422506420671938,
          1.1422506420671938,
          1.1422506420671938,
          1.1422506420671938,
          1.2048500096091683,
          1.2048500096091683,
          1.2048500096091683,
          1.2048500096091683,
          1.2048500096091683,
          1.267449377151143,
          1.267449377151143,
          1.267449377151143,
          1.267449377151143,
          1.267449377151143,
          1.3300487446931175,
          1.3300487446931175,
          1.3300487446931175,
          1.3300487446931175,
          1.3300487446931175,
          1.3300487446931175,
          1.3300487446931175,
          1.3926481122350922,
          1.3926481122350922,
          1.3926481122350922,
          1.3926481122350922,
          1.455247479777067,
          1.455247479777067,
          1.455247479777067,
          1.5178468473190416,
          1.5178468473190416
         ],
         "yaxis": "y"
        }
       ],
       "layout": {
        "coloraxis": {
         "colorbar": {
          "title": {
           "text": "Calories per Serve"
          }
         },
         "colorscale": [
          [
           0,
           "rgb(0,0,255)"
          ],
          [
           0.1,
           "rgb(51,153,255)"
          ],
          [
           0.2,
           "rgb(102,204,255)"
          ],
          [
           0.3,
           "rgb(153,204,255)"
          ],
          [
           0.4,
           "rgb(204,204,255)"
          ],
          [
           0.5,
           "rgb(255,255,255)"
          ],
          [
           0.6,
           "rgb(255,204,255)"
          ],
          [
           0.7,
           "rgb(255,153,255)"
          ],
          [
           0.8,
           "rgb(255,102,204)"
          ],
          [
           0.9,
           "rgb(255,102,102)"
          ],
          [
           1,
           "rgb(255,0,0)"
          ]
         ]
        },
        "legend": {
         "itemsizing": "constant",
         "tracegroupgap": 0
        },
        "margin": {
         "t": 60
        },
        "template": {
         "data": {
          "bar": [
           {
            "error_x": {
             "color": "#2a3f5f"
            },
            "error_y": {
             "color": "#2a3f5f"
            },
            "marker": {
             "line": {
              "color": "#E5ECF6",
              "width": 0.5
             }
            },
            "type": "bar"
           }
          ],
          "barpolar": [
           {
            "marker": {
             "line": {
              "color": "#E5ECF6",
              "width": 0.5
             }
            },
            "type": "barpolar"
           }
          ],
          "carpet": [
           {
            "aaxis": {
             "endlinecolor": "#2a3f5f",
             "gridcolor": "white",
             "linecolor": "white",
             "minorgridcolor": "white",
             "startlinecolor": "#2a3f5f"
            },
            "baxis": {
             "endlinecolor": "#2a3f5f",
             "gridcolor": "white",
             "linecolor": "white",
             "minorgridcolor": "white",
             "startlinecolor": "#2a3f5f"
            },
            "type": "carpet"
           }
          ],
          "choropleth": [
           {
            "colorbar": {
             "outlinewidth": 0,
             "ticks": ""
            },
            "type": "choropleth"
           }
          ],
          "contour": [
           {
            "colorbar": {
             "outlinewidth": 0,
             "ticks": ""
            },
            "colorscale": [
             [
              0,
              "#0d0887"
             ],
             [
              0.1111111111111111,
              "#46039f"
             ],
             [
              0.2222222222222222,
              "#7201a8"
             ],
             [
              0.3333333333333333,
              "#9c179e"
             ],
             [
              0.4444444444444444,
              "#bd3786"
             ],
             [
              0.5555555555555556,
              "#d8576b"
             ],
             [
              0.6666666666666666,
              "#ed7953"
             ],
             [
              0.7777777777777778,
              "#fb9f3a"
             ],
             [
              0.8888888888888888,
              "#fdca26"
             ],
             [
              1,
              "#f0f921"
             ]
            ],
            "type": "contour"
           }
          ],
          "contourcarpet": [
           {
            "colorbar": {
             "outlinewidth": 0,
             "ticks": ""
            },
            "type": "contourcarpet"
           }
          ],
          "heatmap": [
           {
            "colorbar": {
             "outlinewidth": 0,
             "ticks": ""
            },
            "colorscale": [
             [
              0,
              "#0d0887"
             ],
             [
              0.1111111111111111,
              "#46039f"
             ],
             [
              0.2222222222222222,
              "#7201a8"
             ],
             [
              0.3333333333333333,
              "#9c179e"
             ],
             [
              0.4444444444444444,
              "#bd3786"
             ],
             [
              0.5555555555555556,
              "#d8576b"
             ],
             [
              0.6666666666666666,
              "#ed7953"
             ],
             [
              0.7777777777777778,
              "#fb9f3a"
             ],
             [
              0.8888888888888888,
              "#fdca26"
             ],
             [
              1,
              "#f0f921"
             ]
            ],
            "type": "heatmap"
           }
          ],
          "heatmapgl": [
           {
            "colorbar": {
             "outlinewidth": 0,
             "ticks": ""
            },
            "colorscale": [
             [
              0,
              "#0d0887"
             ],
             [
              0.1111111111111111,
              "#46039f"
             ],
             [
              0.2222222222222222,
              "#7201a8"
             ],
             [
              0.3333333333333333,
              "#9c179e"
             ],
             [
              0.4444444444444444,
              "#bd3786"
             ],
             [
              0.5555555555555556,
              "#d8576b"
             ],
             [
              0.6666666666666666,
              "#ed7953"
             ],
             [
              0.7777777777777778,
              "#fb9f3a"
             ],
             [
              0.8888888888888888,
              "#fdca26"
             ],
             [
              1,
              "#f0f921"
             ]
            ],
            "type": "heatmapgl"
           }
          ],
          "histogram": [
           {
            "marker": {
             "colorbar": {
              "outlinewidth": 0,
              "ticks": ""
             }
            },
            "type": "histogram"
           }
          ],
          "histogram2d": [
           {
            "colorbar": {
             "outlinewidth": 0,
             "ticks": ""
            },
            "colorscale": [
             [
              0,
              "#0d0887"
             ],
             [
              0.1111111111111111,
              "#46039f"
             ],
             [
              0.2222222222222222,
              "#7201a8"
             ],
             [
              0.3333333333333333,
              "#9c179e"
             ],
             [
              0.4444444444444444,
              "#bd3786"
             ],
             [
              0.5555555555555556,
              "#d8576b"
             ],
             [
              0.6666666666666666,
              "#ed7953"
             ],
             [
              0.7777777777777778,
              "#fb9f3a"
             ],
             [
              0.8888888888888888,
              "#fdca26"
             ],
             [
              1,
              "#f0f921"
             ]
            ],
            "type": "histogram2d"
           }
          ],
          "histogram2dcontour": [
           {
            "colorbar": {
             "outlinewidth": 0,
             "ticks": ""
            },
            "colorscale": [
             [
              0,
              "#0d0887"
             ],
             [
              0.1111111111111111,
              "#46039f"
             ],
             [
              0.2222222222222222,
              "#7201a8"
             ],
             [
              0.3333333333333333,
              "#9c179e"
             ],
             [
              0.4444444444444444,
              "#bd3786"
             ],
             [
              0.5555555555555556,
              "#d8576b"
             ],
             [
              0.6666666666666666,
              "#ed7953"
             ],
             [
              0.7777777777777778,
              "#fb9f3a"
             ],
             [
              0.8888888888888888,
              "#fdca26"
             ],
             [
              1,
              "#f0f921"
             ]
            ],
            "type": "histogram2dcontour"
           }
          ],
          "mesh3d": [
           {
            "colorbar": {
             "outlinewidth": 0,
             "ticks": ""
            },
            "type": "mesh3d"
           }
          ],
          "parcoords": [
           {
            "line": {
             "colorbar": {
              "outlinewidth": 0,
              "ticks": ""
             }
            },
            "type": "parcoords"
           }
          ],
          "pie": [
           {
            "automargin": true,
            "type": "pie"
           }
          ],
          "scatter": [
           {
            "marker": {
             "colorbar": {
              "outlinewidth": 0,
              "ticks": ""
             }
            },
            "type": "scatter"
           }
          ],
          "scatter3d": [
           {
            "line": {
             "colorbar": {
              "outlinewidth": 0,
              "ticks": ""
             }
            },
            "marker": {
             "colorbar": {
              "outlinewidth": 0,
              "ticks": ""
             }
            },
            "type": "scatter3d"
           }
          ],
          "scattercarpet": [
           {
            "marker": {
             "colorbar": {
              "outlinewidth": 0,
              "ticks": ""
             }
            },
            "type": "scattercarpet"
           }
          ],
          "scattergeo": [
           {
            "marker": {
             "colorbar": {
              "outlinewidth": 0,
              "ticks": ""
             }
            },
            "type": "scattergeo"
           }
          ],
          "scattergl": [
           {
            "marker": {
             "colorbar": {
              "outlinewidth": 0,
              "ticks": ""
             }
            },
            "type": "scattergl"
           }
          ],
          "scattermapbox": [
           {
            "marker": {
             "colorbar": {
              "outlinewidth": 0,
              "ticks": ""
             }
            },
            "type": "scattermapbox"
           }
          ],
          "scatterpolar": [
           {
            "marker": {
             "colorbar": {
              "outlinewidth": 0,
              "ticks": ""
             }
            },
            "type": "scatterpolar"
           }
          ],
          "scatterpolargl": [
           {
            "marker": {
             "colorbar": {
              "outlinewidth": 0,
              "ticks": ""
             }
            },
            "type": "scatterpolargl"
           }
          ],
          "scatterternary": [
           {
            "marker": {
             "colorbar": {
              "outlinewidth": 0,
              "ticks": ""
             }
            },
            "type": "scatterternary"
           }
          ],
          "surface": [
           {
            "colorbar": {
             "outlinewidth": 0,
             "ticks": ""
            },
            "colorscale": [
             [
              0,
              "#0d0887"
             ],
             [
              0.1111111111111111,
              "#46039f"
             ],
             [
              0.2222222222222222,
              "#7201a8"
             ],
             [
              0.3333333333333333,
              "#9c179e"
             ],
             [
              0.4444444444444444,
              "#bd3786"
             ],
             [
              0.5555555555555556,
              "#d8576b"
             ],
             [
              0.6666666666666666,
              "#ed7953"
             ],
             [
              0.7777777777777778,
              "#fb9f3a"
             ],
             [
              0.8888888888888888,
              "#fdca26"
             ],
             [
              1,
              "#f0f921"
             ]
            ],
            "type": "surface"
           }
          ],
          "table": [
           {
            "cells": {
             "fill": {
              "color": "#EBF0F8"
             },
             "line": {
              "color": "white"
             }
            },
            "header": {
             "fill": {
              "color": "#C8D4E3"
             },
             "line": {
              "color": "white"
             }
            },
            "type": "table"
           }
          ]
         },
         "layout": {
          "annotationdefaults": {
           "arrowcolor": "#2a3f5f",
           "arrowhead": 0,
           "arrowwidth": 1
          },
          "coloraxis": {
           "colorbar": {
            "outlinewidth": 0,
            "ticks": ""
           }
          },
          "colorscale": {
           "diverging": [
            [
             0,
             "#8e0152"
            ],
            [
             0.1,
             "#c51b7d"
            ],
            [
             0.2,
             "#de77ae"
            ],
            [
             0.3,
             "#f1b6da"
            ],
            [
             0.4,
             "#fde0ef"
            ],
            [
             0.5,
             "#f7f7f7"
            ],
            [
             0.6,
             "#e6f5d0"
            ],
            [
             0.7,
             "#b8e186"
            ],
            [
             0.8,
             "#7fbc41"
            ],
            [
             0.9,
             "#4d9221"
            ],
            [
             1,
             "#276419"
            ]
           ],
           "sequential": [
            [
             0,
             "#0d0887"
            ],
            [
             0.1111111111111111,
             "#46039f"
            ],
            [
             0.2222222222222222,
             "#7201a8"
            ],
            [
             0.3333333333333333,
             "#9c179e"
            ],
            [
             0.4444444444444444,
             "#bd3786"
            ],
            [
             0.5555555555555556,
             "#d8576b"
            ],
            [
             0.6666666666666666,
             "#ed7953"
            ],
            [
             0.7777777777777778,
             "#fb9f3a"
            ],
            [
             0.8888888888888888,
             "#fdca26"
            ],
            [
             1,
             "#f0f921"
            ]
           ],
           "sequentialminus": [
            [
             0,
             "#0d0887"
            ],
            [
             0.1111111111111111,
             "#46039f"
            ],
            [
             0.2222222222222222,
             "#7201a8"
            ],
            [
             0.3333333333333333,
             "#9c179e"
            ],
            [
             0.4444444444444444,
             "#bd3786"
            ],
            [
             0.5555555555555556,
             "#d8576b"
            ],
            [
             0.6666666666666666,
             "#ed7953"
            ],
            [
             0.7777777777777778,
             "#fb9f3a"
            ],
            [
             0.8888888888888888,
             "#fdca26"
            ],
            [
             1,
             "#f0f921"
            ]
           ]
          },
          "colorway": [
           "#636efa",
           "#EF553B",
           "#00cc96",
           "#ab63fa",
           "#FFA15A",
           "#19d3f3",
           "#FF6692",
           "#B6E880",
           "#FF97FF",
           "#FECB52"
          ],
          "font": {
           "color": "#2a3f5f"
          },
          "geo": {
           "bgcolor": "white",
           "lakecolor": "white",
           "landcolor": "#E5ECF6",
           "showlakes": true,
           "showland": true,
           "subunitcolor": "white"
          },
          "hoverlabel": {
           "align": "left"
          },
          "hovermode": "closest",
          "mapbox": {
           "style": "light"
          },
          "paper_bgcolor": "white",
          "plot_bgcolor": "#E5ECF6",
          "polar": {
           "angularaxis": {
            "gridcolor": "white",
            "linecolor": "white",
            "ticks": ""
           },
           "bgcolor": "#E5ECF6",
           "radialaxis": {
            "gridcolor": "white",
            "linecolor": "white",
            "ticks": ""
           }
          },
          "scene": {
           "xaxis": {
            "backgroundcolor": "#E5ECF6",
            "gridcolor": "white",
            "gridwidth": 2,
            "linecolor": "white",
            "showbackground": true,
            "ticks": "",
            "zerolinecolor": "white"
           },
           "yaxis": {
            "backgroundcolor": "#E5ECF6",
            "gridcolor": "white",
            "gridwidth": 2,
            "linecolor": "white",
            "showbackground": true,
            "ticks": "",
            "zerolinecolor": "white"
           },
           "zaxis": {
            "backgroundcolor": "#E5ECF6",
            "gridcolor": "white",
            "gridwidth": 2,
            "linecolor": "white",
            "showbackground": true,
            "ticks": "",
            "zerolinecolor": "white"
           }
          },
          "shapedefaults": {
           "line": {
            "color": "#2a3f5f"
           }
          },
          "ternary": {
           "aaxis": {
            "gridcolor": "white",
            "linecolor": "white",
            "ticks": ""
           },
           "baxis": {
            "gridcolor": "white",
            "linecolor": "white",
            "ticks": ""
           },
           "bgcolor": "#E5ECF6",
           "caxis": {
            "gridcolor": "white",
            "linecolor": "white",
            "ticks": ""
           }
          },
          "title": {
           "x": 0.05
          },
          "xaxis": {
           "automargin": true,
           "gridcolor": "white",
           "linecolor": "white",
           "ticks": "",
           "title": {
            "standoff": 15
           },
           "zerolinecolor": "white",
           "zerolinewidth": 2
          },
          "yaxis": {
           "automargin": true,
           "gridcolor": "white",
           "linecolor": "white",
           "ticks": "",
           "title": {
            "standoff": 15
           },
           "zerolinecolor": "white",
           "zerolinewidth": 2
          }
         }
        },
        "xaxis": {
         "anchor": "y",
         "domain": [
          0,
          1
         ],
         "title": {
          "text": "Sugar (g) per Serve"
         }
        },
        "yaxis": {
         "anchor": "x",
         "domain": [
          0,
          1
         ],
         "title": {
          "text": "Fat (g) per Serve"
         }
        }
       }
      },
      "text/html": [
       "<div>                            <div id=\"3bf08a5d-86dc-436b-81b5-dae1a4c26465\" class=\"plotly-graph-div\" style=\"height:525px; width:100%;\"></div>            <script type=\"text/javascript\">                require([\"plotly\"], function(Plotly) {                    window.PLOTLYENV=window.PLOTLYENV || {};                                    if (document.getElementById(\"3bf08a5d-86dc-436b-81b5-dae1a4c26465\")) {                    Plotly.newPlot(                        \"3bf08a5d-86dc-436b-81b5-dae1a4c26465\",                        [{\"hovertemplate\": \"<b>%{hovertext}</b><br><br>Sugar (g) per Serve=%{x}<br>Fat (g) per Serve=%{y}<br>Calories per Serve=%{marker.color}<extra></extra>\", \"hovertext\": [\"100% Bran\", \"100% Natural Bran\", \"All-Bran\", \"All-Bran with Extra Fiber\", \"Almond Delight\", \"Apple Cinnamon Cheerios\", \"Apple Jacks\", \"Basic 4\", \"Bran Chex\", \"Bran Flakes\", \"Cap'n'Crunch\", \"Cheerios\", \"Cinnamon Toast Crunch\", \"Clusters\", \"Cocoa Puffs\", \"Corn Chex\", \"Corn Flakes\", \"Corn Pops\", \"Count Chocula\", \"Cracklin' Oat Bran\", \"Cream of Wheat (Quick)\", \"Crispix\", \"Crispy Wheat & Raisins\", \"Double Chex\", \"Froot Loops\", \"Frosted Flakes\", \"Frosted Mini-Wheats\", \"Fruit & Fibre Dates; Walnuts; and Oats\", \"Fruitful Bran\", \"Fruity Pebbles\", \"Golden Crisp\", \"Golden Grahams\", \"Grape Nuts Flakes\", \"Grape-Nuts\", \"Great Grains Pecan\", \"Honey Graham Ohs\", \"Honey Nut Cheerios\", \"Honey-comb\", \"Just Right Crunchy  Nuggets\", \"Just Right Fruit & Nut\", \"Kix\", \"Life\", \"Lucky Charms\", \"Maypo\", \"Muesli Raisins; Dates; & Almonds\", \"Muesli Raisins; Peaches; & Pecans\", \"Mueslix Crispy Blend\", \"Multi-Grain Cheerios\", \"Nut&Honey Crunch\", \"Nutri-Grain Almond-Raisin\", \"Nutri-grain Wheat\", \"Oatmeal Raisin Crisp\", \"Post Nat. Raisin Bran\", \"Product 19\", \"Puffed Rice\", \"Puffed Wheat\", \"Quaker Oat Squares\", \"Quaker Oatmeal\", \"Raisin Bran\", \"Raisin Nut Bran\", \"Raisin Squares\", \"Rice Chex\", \"Rice Krispies\", \"Shredded Wheat\", \"Shredded Wheat 'n'Bran\", \"Shredded Wheat spoon size\", \"Smacks\", \"Special K\", \"Strawberry Fruit Wheats\", \"Total Corn Flakes\", \"Total Raisin Bran\", \"Total Whole Grain\", \"Triples\", \"Trix\", \"Wheat Chex\", \"Wheaties\", \"Wheaties Honey Gold\"], \"legendgroup\": \"\", \"marker\": {\"color\": [70, 120, 70, 50, 110, 110, 110, 130, 90, 90, 120, 110, 120, 110, 110, 110, 100, 110, 110, 110, 100, 110, 100, 100, 110, 110, 100, 120, 120, 110, 100, 110, 100, 110, 120, 120, 110, 110, 110, 140, 110, 100, 110, 100, 150, 150, 160, 100, 120, 140, 90, 130, 120, 100, 50, 50, 100, 100, 120, 100, 90, 110, 110, 80, 90, 90, 110, 110, 90, 110, 140, 100, 110, 110, 100, 100, 110], \"coloraxis\": \"coloraxis\", \"opacity\": 0.3, \"size\": [70, 120, 70, 50, 110, 110, 110, 130, 90, 90, 120, 110, 120, 110, 110, 110, 100, 110, 110, 110, 100, 110, 100, 100, 110, 110, 100, 120, 120, 110, 100, 110, 100, 110, 120, 120, 110, 110, 110, 140, 110, 100, 110, 100, 150, 150, 160, 100, 120, 140, 90, 130, 120, 100, 50, 50, 100, 100, 120, 100, 90, 110, 110, 80, 90, 90, 110, 110, 90, 110, 140, 100, 110, 110, 100, 100, 110], \"sizemode\": \"area\", \"sizeref\": 0.1306122448979592, \"symbol\": \"circle\"}, \"mode\": \"markers\", \"name\": \"\", \"orientation\": \"v\", \"showlegend\": false, \"type\": \"scatter\", \"x\": [6, 8, 5, 0, 8, 10, 14, 8, 6, 5, 12, 1, 9, 7, 13, 3, 2, 12, 13, 7, 0, 3, 10, 5, 13, 11, 7, 10, 12, 12, 15, 9, 5, 3, 4, 11, 10, 11, 6, 9, 3, 6, 12, 3, 11, 11, 13, 6, 9, 7, 2, 10, 14, 3, 0, 0, 6, 0, 12, 8, 6, 2, 3, 0, 0, 0, 15, 3, 5, 3, 14, 3, 3, 12, 3, 3, 8], \"xaxis\": \"x\", \"y\": [1, 5, 1, 0, 2, 2, 0, 2, 1, 0, 2, 2, 3, 2, 1, 0, 0, 0, 1, 3, 0, 0, 1, 0, 1, 0, 0, 2, 0, 1, 0, 1, 1, 0, 3, 2, 1, 0, 1, 1, 1, 2, 1, 1, 3, 3, 2, 1, 1, 2, 0, 2, 1, 0, 0, 0, 1, 2, 1, 2, 0, 0, 0, 0, 0, 0, 1, 0, 0, 1, 1, 1, 1, 1, 1, 1, 1], \"yaxis\": \"y\"}, {\"hovertemplate\": \"<b>OLS trendline</b><br>Fat = 0.0625994 * Sugars + 0.578856<br>R<sup>2</sup>=0.075673<br><br>Sugar (g) per Serve=%{x}<br>Fat (g) per Serve=%{y} <b>(trend)</b><extra></extra>\", \"legendgroup\": \"\", \"line\": {\"color\": \"mediumseagreen\"}, \"marker\": {\"symbol\": \"circle\"}, \"mode\": \"lines\", \"name\": \"\", \"showlegend\": false, \"type\": \"scatter\", \"x\": [0, 0, 0, 0, 0, 0, 0, 0, 1, 2, 2, 2, 3, 3, 3, 3, 3, 3, 3, 3, 3, 3, 3, 3, 3, 4, 5, 5, 5, 5, 5, 6, 6, 6, 6, 6, 6, 6, 7, 7, 7, 7, 8, 8, 8, 8, 8, 9, 9, 9, 9, 10, 10, 10, 10, 10, 11, 11, 11, 11, 11, 12, 12, 12, 12, 12, 12, 12, 13, 13, 13, 13, 14, 14, 14, 15, 15], \"xaxis\": \"x\", \"y\": [0.5788563341894222, 0.5788563341894222, 0.5788563341894222, 0.5788563341894222, 0.5788563341894222, 0.5788563341894222, 0.5788563341894222, 0.5788563341894222, 0.6414557017313968, 0.7040550692733714, 0.7040550692733714, 0.7040550692733714, 0.7666544368153461, 0.7666544368153461, 0.7666544368153461, 0.7666544368153461, 0.7666544368153461, 0.7666544368153461, 0.7666544368153461, 0.7666544368153461, 0.7666544368153461, 0.7666544368153461, 0.7666544368153461, 0.7666544368153461, 0.7666544368153461, 0.8292538043573207, 0.8918531718992952, 0.8918531718992952, 0.8918531718992952, 0.8918531718992952, 0.8918531718992952, 0.95445253944127, 0.95445253944127, 0.95445253944127, 0.95445253944127, 0.95445253944127, 0.95445253944127, 0.95445253944127, 1.0170519069832444, 1.0170519069832444, 1.0170519069832444, 1.0170519069832444, 1.0796512745252191, 1.0796512745252191, 1.0796512745252191, 1.0796512745252191, 1.0796512745252191, 1.1422506420671938, 1.1422506420671938, 1.1422506420671938, 1.1422506420671938, 1.2048500096091683, 1.2048500096091683, 1.2048500096091683, 1.2048500096091683, 1.2048500096091683, 1.267449377151143, 1.267449377151143, 1.267449377151143, 1.267449377151143, 1.267449377151143, 1.3300487446931175, 1.3300487446931175, 1.3300487446931175, 1.3300487446931175, 1.3300487446931175, 1.3300487446931175, 1.3300487446931175, 1.3926481122350922, 1.3926481122350922, 1.3926481122350922, 1.3926481122350922, 1.455247479777067, 1.455247479777067, 1.455247479777067, 1.5178468473190416, 1.5178468473190416], \"yaxis\": \"y\"}],                        {\"coloraxis\": {\"colorbar\": {\"title\": {\"text\": \"Calories per Serve\"}}, \"colorscale\": [[0.0, \"rgb(0,0,255)\"], [0.1, \"rgb(51,153,255)\"], [0.2, \"rgb(102,204,255)\"], [0.3, \"rgb(153,204,255)\"], [0.4, \"rgb(204,204,255)\"], [0.5, \"rgb(255,255,255)\"], [0.6, \"rgb(255,204,255)\"], [0.7, \"rgb(255,153,255)\"], [0.8, \"rgb(255,102,204)\"], [0.9, \"rgb(255,102,102)\"], [1.0, \"rgb(255,0,0)\"]]}, \"legend\": {\"itemsizing\": \"constant\", \"tracegroupgap\": 0}, \"margin\": {\"t\": 60}, \"template\": {\"data\": {\"bar\": [{\"error_x\": {\"color\": \"#2a3f5f\"}, \"error_y\": {\"color\": \"#2a3f5f\"}, \"marker\": {\"line\": {\"color\": \"#E5ECF6\", \"width\": 0.5}}, \"type\": \"bar\"}], \"barpolar\": [{\"marker\": {\"line\": {\"color\": \"#E5ECF6\", \"width\": 0.5}}, \"type\": \"barpolar\"}], \"carpet\": [{\"aaxis\": {\"endlinecolor\": \"#2a3f5f\", \"gridcolor\": \"white\", \"linecolor\": \"white\", \"minorgridcolor\": \"white\", \"startlinecolor\": \"#2a3f5f\"}, \"baxis\": {\"endlinecolor\": \"#2a3f5f\", \"gridcolor\": \"white\", \"linecolor\": \"white\", \"minorgridcolor\": \"white\", \"startlinecolor\": \"#2a3f5f\"}, \"type\": \"carpet\"}], \"choropleth\": [{\"colorbar\": {\"outlinewidth\": 0, \"ticks\": \"\"}, \"type\": \"choropleth\"}], \"contour\": [{\"colorbar\": {\"outlinewidth\": 0, \"ticks\": \"\"}, \"colorscale\": [[0.0, \"#0d0887\"], [0.1111111111111111, \"#46039f\"], [0.2222222222222222, \"#7201a8\"], [0.3333333333333333, \"#9c179e\"], [0.4444444444444444, \"#bd3786\"], [0.5555555555555556, \"#d8576b\"], [0.6666666666666666, \"#ed7953\"], [0.7777777777777778, \"#fb9f3a\"], [0.8888888888888888, \"#fdca26\"], [1.0, \"#f0f921\"]], \"type\": \"contour\"}], \"contourcarpet\": [{\"colorbar\": {\"outlinewidth\": 0, \"ticks\": \"\"}, \"type\": \"contourcarpet\"}], \"heatmap\": [{\"colorbar\": {\"outlinewidth\": 0, \"ticks\": \"\"}, \"colorscale\": [[0.0, \"#0d0887\"], [0.1111111111111111, \"#46039f\"], [0.2222222222222222, \"#7201a8\"], [0.3333333333333333, \"#9c179e\"], [0.4444444444444444, \"#bd3786\"], [0.5555555555555556, \"#d8576b\"], [0.6666666666666666, \"#ed7953\"], [0.7777777777777778, \"#fb9f3a\"], [0.8888888888888888, \"#fdca26\"], [1.0, \"#f0f921\"]], \"type\": \"heatmap\"}], \"heatmapgl\": [{\"colorbar\": {\"outlinewidth\": 0, \"ticks\": \"\"}, \"colorscale\": [[0.0, \"#0d0887\"], [0.1111111111111111, \"#46039f\"], [0.2222222222222222, \"#7201a8\"], [0.3333333333333333, \"#9c179e\"], [0.4444444444444444, \"#bd3786\"], [0.5555555555555556, \"#d8576b\"], [0.6666666666666666, \"#ed7953\"], [0.7777777777777778, \"#fb9f3a\"], [0.8888888888888888, \"#fdca26\"], [1.0, \"#f0f921\"]], \"type\": \"heatmapgl\"}], \"histogram\": [{\"marker\": {\"colorbar\": {\"outlinewidth\": 0, \"ticks\": \"\"}}, \"type\": \"histogram\"}], \"histogram2d\": [{\"colorbar\": {\"outlinewidth\": 0, \"ticks\": \"\"}, \"colorscale\": [[0.0, \"#0d0887\"], [0.1111111111111111, \"#46039f\"], [0.2222222222222222, \"#7201a8\"], [0.3333333333333333, \"#9c179e\"], [0.4444444444444444, \"#bd3786\"], [0.5555555555555556, \"#d8576b\"], [0.6666666666666666, \"#ed7953\"], [0.7777777777777778, \"#fb9f3a\"], [0.8888888888888888, \"#fdca26\"], [1.0, \"#f0f921\"]], \"type\": \"histogram2d\"}], \"histogram2dcontour\": [{\"colorbar\": {\"outlinewidth\": 0, \"ticks\": \"\"}, \"colorscale\": [[0.0, \"#0d0887\"], [0.1111111111111111, \"#46039f\"], [0.2222222222222222, \"#7201a8\"], [0.3333333333333333, \"#9c179e\"], [0.4444444444444444, \"#bd3786\"], [0.5555555555555556, \"#d8576b\"], [0.6666666666666666, \"#ed7953\"], [0.7777777777777778, \"#fb9f3a\"], [0.8888888888888888, \"#fdca26\"], [1.0, \"#f0f921\"]], \"type\": \"histogram2dcontour\"}], \"mesh3d\": [{\"colorbar\": {\"outlinewidth\": 0, \"ticks\": \"\"}, \"type\": \"mesh3d\"}], \"parcoords\": [{\"line\": {\"colorbar\": {\"outlinewidth\": 0, \"ticks\": \"\"}}, \"type\": \"parcoords\"}], \"pie\": [{\"automargin\": true, \"type\": \"pie\"}], \"scatter\": [{\"marker\": {\"colorbar\": {\"outlinewidth\": 0, \"ticks\": \"\"}}, \"type\": \"scatter\"}], \"scatter3d\": [{\"line\": {\"colorbar\": {\"outlinewidth\": 0, \"ticks\": \"\"}}, \"marker\": {\"colorbar\": {\"outlinewidth\": 0, \"ticks\": \"\"}}, \"type\": \"scatter3d\"}], \"scattercarpet\": [{\"marker\": {\"colorbar\": {\"outlinewidth\": 0, \"ticks\": \"\"}}, \"type\": \"scattercarpet\"}], \"scattergeo\": [{\"marker\": {\"colorbar\": {\"outlinewidth\": 0, \"ticks\": \"\"}}, \"type\": \"scattergeo\"}], \"scattergl\": [{\"marker\": {\"colorbar\": {\"outlinewidth\": 0, \"ticks\": \"\"}}, \"type\": \"scattergl\"}], \"scattermapbox\": [{\"marker\": {\"colorbar\": {\"outlinewidth\": 0, \"ticks\": \"\"}}, \"type\": \"scattermapbox\"}], \"scatterpolar\": [{\"marker\": {\"colorbar\": {\"outlinewidth\": 0, \"ticks\": \"\"}}, \"type\": \"scatterpolar\"}], \"scatterpolargl\": [{\"marker\": {\"colorbar\": {\"outlinewidth\": 0, \"ticks\": \"\"}}, \"type\": \"scatterpolargl\"}], \"scatterternary\": [{\"marker\": {\"colorbar\": {\"outlinewidth\": 0, \"ticks\": \"\"}}, \"type\": \"scatterternary\"}], \"surface\": [{\"colorbar\": {\"outlinewidth\": 0, \"ticks\": \"\"}, \"colorscale\": [[0.0, \"#0d0887\"], [0.1111111111111111, \"#46039f\"], [0.2222222222222222, \"#7201a8\"], [0.3333333333333333, \"#9c179e\"], [0.4444444444444444, \"#bd3786\"], [0.5555555555555556, \"#d8576b\"], [0.6666666666666666, \"#ed7953\"], [0.7777777777777778, \"#fb9f3a\"], [0.8888888888888888, \"#fdca26\"], [1.0, \"#f0f921\"]], \"type\": \"surface\"}], \"table\": [{\"cells\": {\"fill\": {\"color\": \"#EBF0F8\"}, \"line\": {\"color\": \"white\"}}, \"header\": {\"fill\": {\"color\": \"#C8D4E3\"}, \"line\": {\"color\": \"white\"}}, \"type\": \"table\"}]}, \"layout\": {\"annotationdefaults\": {\"arrowcolor\": \"#2a3f5f\", \"arrowhead\": 0, \"arrowwidth\": 1}, \"coloraxis\": {\"colorbar\": {\"outlinewidth\": 0, \"ticks\": \"\"}}, \"colorscale\": {\"diverging\": [[0, \"#8e0152\"], [0.1, \"#c51b7d\"], [0.2, \"#de77ae\"], [0.3, \"#f1b6da\"], [0.4, \"#fde0ef\"], [0.5, \"#f7f7f7\"], [0.6, \"#e6f5d0\"], [0.7, \"#b8e186\"], [0.8, \"#7fbc41\"], [0.9, \"#4d9221\"], [1, \"#276419\"]], \"sequential\": [[0.0, \"#0d0887\"], [0.1111111111111111, \"#46039f\"], [0.2222222222222222, \"#7201a8\"], [0.3333333333333333, \"#9c179e\"], [0.4444444444444444, \"#bd3786\"], [0.5555555555555556, \"#d8576b\"], [0.6666666666666666, \"#ed7953\"], [0.7777777777777778, \"#fb9f3a\"], [0.8888888888888888, \"#fdca26\"], [1.0, \"#f0f921\"]], \"sequentialminus\": [[0.0, \"#0d0887\"], [0.1111111111111111, \"#46039f\"], [0.2222222222222222, \"#7201a8\"], [0.3333333333333333, \"#9c179e\"], [0.4444444444444444, \"#bd3786\"], [0.5555555555555556, \"#d8576b\"], [0.6666666666666666, \"#ed7953\"], [0.7777777777777778, \"#fb9f3a\"], [0.8888888888888888, \"#fdca26\"], [1.0, \"#f0f921\"]]}, \"colorway\": [\"#636efa\", \"#EF553B\", \"#00cc96\", \"#ab63fa\", \"#FFA15A\", \"#19d3f3\", \"#FF6692\", \"#B6E880\", \"#FF97FF\", \"#FECB52\"], \"font\": {\"color\": \"#2a3f5f\"}, \"geo\": {\"bgcolor\": \"white\", \"lakecolor\": \"white\", \"landcolor\": \"#E5ECF6\", \"showlakes\": true, \"showland\": true, \"subunitcolor\": \"white\"}, \"hoverlabel\": {\"align\": \"left\"}, \"hovermode\": \"closest\", \"mapbox\": {\"style\": \"light\"}, \"paper_bgcolor\": \"white\", \"plot_bgcolor\": \"#E5ECF6\", \"polar\": {\"angularaxis\": {\"gridcolor\": \"white\", \"linecolor\": \"white\", \"ticks\": \"\"}, \"bgcolor\": \"#E5ECF6\", \"radialaxis\": {\"gridcolor\": \"white\", \"linecolor\": \"white\", \"ticks\": \"\"}}, \"scene\": {\"xaxis\": {\"backgroundcolor\": \"#E5ECF6\", \"gridcolor\": \"white\", \"gridwidth\": 2, \"linecolor\": \"white\", \"showbackground\": true, \"ticks\": \"\", \"zerolinecolor\": \"white\"}, \"yaxis\": {\"backgroundcolor\": \"#E5ECF6\", \"gridcolor\": \"white\", \"gridwidth\": 2, \"linecolor\": \"white\", \"showbackground\": true, \"ticks\": \"\", \"zerolinecolor\": \"white\"}, \"zaxis\": {\"backgroundcolor\": \"#E5ECF6\", \"gridcolor\": \"white\", \"gridwidth\": 2, \"linecolor\": \"white\", \"showbackground\": true, \"ticks\": \"\", \"zerolinecolor\": \"white\"}}, \"shapedefaults\": {\"line\": {\"color\": \"#2a3f5f\"}}, \"ternary\": {\"aaxis\": {\"gridcolor\": \"white\", \"linecolor\": \"white\", \"ticks\": \"\"}, \"baxis\": {\"gridcolor\": \"white\", \"linecolor\": \"white\", \"ticks\": \"\"}, \"bgcolor\": \"#E5ECF6\", \"caxis\": {\"gridcolor\": \"white\", \"linecolor\": \"white\", \"ticks\": \"\"}}, \"title\": {\"x\": 0.05}, \"xaxis\": {\"automargin\": true, \"gridcolor\": \"white\", \"linecolor\": \"white\", \"ticks\": \"\", \"title\": {\"standoff\": 15}, \"zerolinecolor\": \"white\", \"zerolinewidth\": 2}, \"yaxis\": {\"automargin\": true, \"gridcolor\": \"white\", \"linecolor\": \"white\", \"ticks\": \"\", \"title\": {\"standoff\": 15}, \"zerolinecolor\": \"white\", \"zerolinewidth\": 2}}}, \"xaxis\": {\"anchor\": \"y\", \"domain\": [0.0, 1.0], \"title\": {\"text\": \"Sugar (g) per Serve\"}}, \"yaxis\": {\"anchor\": \"x\", \"domain\": [0.0, 1.0], \"title\": {\"text\": \"Fat (g) per Serve\"}}},                        {\"responsive\": true}                    ).then(function(){\n",
       "                            \n",
       "var gd = document.getElementById('3bf08a5d-86dc-436b-81b5-dae1a4c26465');\n",
       "var x = new MutationObserver(function (mutations, observer) {{\n",
       "        var display = window.getComputedStyle(gd).display;\n",
       "        if (!display || display === 'none') {{\n",
       "            console.log([gd, 'removed!']);\n",
       "            Plotly.purge(gd);\n",
       "            observer.disconnect();\n",
       "        }}\n",
       "}});\n",
       "\n",
       "// Listen for the removal of the full notebook cells\n",
       "var notebookContainer = gd.closest('#notebook-container');\n",
       "if (notebookContainer) {{\n",
       "    x.observe(notebookContainer, {childList: true});\n",
       "}}\n",
       "\n",
       "// Listen for the clearing of the current output cell\n",
       "var outputEl = gd.closest('.output');\n",
       "if (outputEl) {{\n",
       "    x.observe(outputEl, {childList: true});\n",
       "}}\n",
       "\n",
       "                        })                };                });            </script>        </div>"
      ]
     },
     "metadata": {},
     "output_type": "display_data"
    }
   ],
   "source": [
    "px.scatter(df,x=\"Sugars\",y=\"Fat\",trendline=\"ols\",trendline_color_override=\"mediumseagreen\",\n",
    "           color_continuous_scale=\"picnic\",opacity=0.3,size=\"Calories\",size_max=35,color=\"Calories\",\n",
    "           labels={\"Sugars\":\"Sugar (g) per Serve\",\"Fat\":\"Fat (g) per Serve\",\"Calories\":\"Calories per Serve\"},\n",
    "           hover_name=\"Name\")"
   ]
  },
  {
   "cell_type": "markdown",
   "metadata": {
    "papermill": {
     "duration": 0.041585,
     "end_time": "2020-12-30T13:11:15.912264",
     "exception": false,
     "start_time": "2020-12-30T13:11:15.870679",
     "status": "completed"
    },
    "tags": []
   },
   "source": [
    "Although individually *sugars* and *fat* have a strong positive correlation with *calories*, together *sugars* and *fat*  only have a light positive correlation with one another."
   ]
  },
  {
   "cell_type": "code",
   "execution_count": 24,
   "metadata": {
    "execution": {
     "iopub.execute_input": "2020-12-30T13:11:16.019673Z",
     "iopub.status.busy": "2020-12-30T13:11:16.018942Z",
     "iopub.status.idle": "2020-12-30T13:11:16.096447Z",
     "shell.execute_reply": "2020-12-30T13:11:16.095733Z"
    },
    "papermill": {
     "duration": 0.141976,
     "end_time": "2020-12-30T13:11:16.096606",
     "exception": false,
     "start_time": "2020-12-30T13:11:15.954630",
     "status": "completed"
    },
    "scrolled": false,
    "tags": []
   },
   "outputs": [
    {
     "data": {
      "application/vnd.plotly.v1+json": {
       "config": {
        "plotlyServerURL": "https://plot.ly"
       },
       "data": [
        {
         "customdata": [
          [
           68.402973
          ],
          [
           33.983678999999995
          ],
          [
           59.425505
          ],
          [
           93.704912
          ],
          [
           34.384843
          ],
          [
           29.509541
          ],
          [
           33.174094000000004
          ],
          [
           37.038562
          ],
          [
           49.120253000000005
          ],
          [
           53.313813
          ],
          [
           18.042851000000002
          ],
          [
           50.764998999999996
          ],
          [
           19.823573
          ],
          [
           40.400208
          ],
          [
           22.736446
          ],
          [
           41.445019
          ],
          [
           45.863324
          ],
          [
           35.782790999999996
          ],
          [
           22.396513
          ],
          [
           40.448772
          ],
          [
           64.533816
          ],
          [
           46.895644
          ],
          [
           36.176196000000004
          ],
          [
           44.330856
          ],
          [
           32.207582
          ],
          [
           31.435972999999997
          ],
          [
           58.345141000000005
          ],
          [
           40.917047
          ],
          [
           41.015492
          ],
          [
           28.025765000000003
          ],
          [
           35.252444
          ],
          [
           23.804043
          ],
          [
           52.076896999999995
          ],
          [
           53.37100699999999
          ],
          [
           45.811716
          ],
          [
           21.871292
          ],
          [
           31.072217
          ],
          [
           28.742414
          ],
          [
           36.523683
          ],
          [
           36.471512
          ],
          [
           39.241114
          ],
          [
           45.328074
          ],
          [
           26.734515000000002
          ],
          [
           54.850917
          ],
          [
           37.136863
          ],
          [
           34.139765000000004
          ],
          [
           30.313351
          ],
          [
           40.105965000000005
          ],
          [
           29.924284999999998
          ],
          [
           40.69232
          ],
          [
           59.642837
          ],
          [
           30.450843
          ],
          [
           37.840594
          ],
          [
           41.50354
          ],
          [
           60.756112
          ],
          [
           63.005644999999994
          ],
          [
           49.511874
          ],
          [
           50.828392
          ],
          [
           39.259197
          ],
          [
           39.7034
          ],
          [
           55.333142
          ],
          [
           41.998933
          ],
          [
           40.560159000000006
          ],
          [
           68.235885
          ],
          [
           74.472949
          ],
          [
           72.801787
          ],
          [
           31.230054
          ],
          [
           53.131324
          ],
          [
           59.36399300000001
          ],
          [
           38.839746000000005
          ],
          [
           28.592785
          ],
          [
           46.658844
          ],
          [
           39.106173999999996
          ],
          [
           27.753301
          ],
          [
           49.787445
          ],
          [
           51.592193
          ],
          [
           36.187559
          ]
         ],
         "hovertemplate": "<b>%{hovertext}</b><br><br>variable=Fiber<br>value=%{x}<br>Rating (%)=%{customdata[0]:.2f}<extra></extra>",
         "hovertext": [
          "100% Bran",
          "100% Natural Bran",
          "All-Bran",
          "All-Bran with Extra Fiber",
          "Almond Delight",
          "Apple Cinnamon Cheerios",
          "Apple Jacks",
          "Basic 4",
          "Bran Chex",
          "Bran Flakes",
          "Cap'n'Crunch",
          "Cheerios",
          "Cinnamon Toast Crunch",
          "Clusters",
          "Cocoa Puffs",
          "Corn Chex",
          "Corn Flakes",
          "Corn Pops",
          "Count Chocula",
          "Cracklin' Oat Bran",
          "Cream of Wheat (Quick)",
          "Crispix",
          "Crispy Wheat & Raisins",
          "Double Chex",
          "Froot Loops",
          "Frosted Flakes",
          "Frosted Mini-Wheats",
          "Fruit & Fibre Dates; Walnuts; and Oats",
          "Fruitful Bran",
          "Fruity Pebbles",
          "Golden Crisp",
          "Golden Grahams",
          "Grape Nuts Flakes",
          "Grape-Nuts",
          "Great Grains Pecan",
          "Honey Graham Ohs",
          "Honey Nut Cheerios",
          "Honey-comb",
          "Just Right Crunchy  Nuggets",
          "Just Right Fruit & Nut",
          "Kix",
          "Life",
          "Lucky Charms",
          "Maypo",
          "Muesli Raisins; Dates; & Almonds",
          "Muesli Raisins; Peaches; & Pecans",
          "Mueslix Crispy Blend",
          "Multi-Grain Cheerios",
          "Nut&Honey Crunch",
          "Nutri-Grain Almond-Raisin",
          "Nutri-grain Wheat",
          "Oatmeal Raisin Crisp",
          "Post Nat. Raisin Bran",
          "Product 19",
          "Puffed Rice",
          "Puffed Wheat",
          "Quaker Oat Squares",
          "Quaker Oatmeal",
          "Raisin Bran",
          "Raisin Nut Bran",
          "Raisin Squares",
          "Rice Chex",
          "Rice Krispies",
          "Shredded Wheat",
          "Shredded Wheat 'n'Bran",
          "Shredded Wheat spoon size",
          "Smacks",
          "Special K",
          "Strawberry Fruit Wheats",
          "Total Corn Flakes",
          "Total Raisin Bran",
          "Total Whole Grain",
          "Triples",
          "Trix",
          "Wheat Chex",
          "Wheaties",
          "Wheaties Honey Gold"
         ],
         "legendgroup": "Fiber",
         "marker": {
          "color": "#636efa",
          "symbol": "circle"
         },
         "mode": "markers",
         "name": "Fiber",
         "orientation": "v",
         "showlegend": true,
         "type": "scatter",
         "x": [
          10,
          2,
          9,
          14,
          1,
          1.5,
          1,
          2,
          4,
          5,
          0,
          2,
          0,
          2,
          0,
          0,
          1,
          1,
          0,
          4,
          1,
          1,
          2,
          1,
          1,
          1,
          3,
          5,
          5,
          0,
          0,
          0,
          3,
          3,
          3,
          1,
          1.5,
          0,
          1,
          2,
          0,
          2,
          0,
          0,
          3,
          3,
          3,
          2,
          0,
          3,
          3,
          1.5,
          6,
          1,
          0,
          1,
          2,
          2.7,
          5,
          2.5,
          2,
          0,
          0,
          3,
          4,
          3,
          1,
          1,
          3,
          0,
          4,
          3,
          0,
          0,
          3,
          3,
          1
         ],
         "xaxis": "x",
         "y": [
          68.402973,
          33.983678999999995,
          59.425505,
          93.704912,
          34.384843,
          29.509541,
          33.174094000000004,
          37.038562,
          49.120253000000005,
          53.313813,
          18.042851000000002,
          50.764998999999996,
          19.823573,
          40.400208,
          22.736446,
          41.445019,
          45.863324,
          35.782790999999996,
          22.396513,
          40.448772,
          64.533816,
          46.895644,
          36.176196000000004,
          44.330856,
          32.207582,
          31.435972999999997,
          58.345141000000005,
          40.917047,
          41.015492,
          28.025765000000003,
          35.252444,
          23.804043,
          52.076896999999995,
          53.37100699999999,
          45.811716,
          21.871292,
          31.072217,
          28.742414,
          36.523683,
          36.471512,
          39.241114,
          45.328074,
          26.734515000000002,
          54.850917,
          37.136863,
          34.139765000000004,
          30.313351,
          40.105965000000005,
          29.924284999999998,
          40.69232,
          59.642837,
          30.450843,
          37.840594,
          41.50354,
          60.756112,
          63.005644999999994,
          49.511874,
          50.828392,
          39.259197,
          39.7034,
          55.333142,
          41.998933,
          40.560159000000006,
          68.235885,
          74.472949,
          72.801787,
          31.230054,
          53.131324,
          59.36399300000001,
          38.839746000000005,
          28.592785,
          46.658844,
          39.106173999999996,
          27.753301,
          49.787445,
          51.592193,
          36.187559
         ],
         "yaxis": "y"
        },
        {
         "hovertemplate": "<b>OLS trendline</b><br>Rating = 3.44298 * value + 35.2566<br>R<sup>2</sup>=0.341243<br><br>variable=Fiber<br>value=%{x}<br>Rating (%)=%{y:.2f} <b>(trend)</b><extra></extra>",
         "legendgroup": "Fiber",
         "marker": {
          "color": "#636efa",
          "symbol": "circle"
         },
         "mode": "lines",
         "name": "Fiber",
         "showlegend": false,
         "type": "scatter",
         "x": [
          0,
          0,
          0,
          0,
          0,
          0,
          0,
          0,
          0,
          0,
          0,
          0,
          0,
          0,
          0,
          0,
          0,
          0,
          0,
          1,
          1,
          1,
          1,
          1,
          1,
          1,
          1,
          1,
          1,
          1,
          1,
          1,
          1,
          1,
          1,
          1.5,
          1.5,
          1.5,
          2,
          2,
          2,
          2,
          2,
          2,
          2,
          2,
          2,
          2,
          2.5,
          2.7,
          3,
          3,
          3,
          3,
          3,
          3,
          3,
          3,
          3,
          3,
          3,
          3,
          3,
          3,
          3,
          4,
          4,
          4,
          4,
          5,
          5,
          5,
          5,
          6,
          9,
          10,
          14
         ],
         "xaxis": "x",
         "y": [
          35.25659482915296,
          35.25659482915296,
          35.25659482915296,
          35.25659482915296,
          35.25659482915296,
          35.25659482915296,
          35.25659482915296,
          35.25659482915296,
          35.25659482915296,
          35.25659482915296,
          35.25659482915296,
          35.25659482915296,
          35.25659482915296,
          35.25659482915296,
          35.25659482915296,
          35.25659482915296,
          35.25659482915296,
          35.25659482915296,
          35.25659482915296,
          38.699572995448804,
          38.699572995448804,
          38.699572995448804,
          38.699572995448804,
          38.699572995448804,
          38.699572995448804,
          38.699572995448804,
          38.699572995448804,
          38.699572995448804,
          38.699572995448804,
          38.699572995448804,
          38.699572995448804,
          38.699572995448804,
          38.699572995448804,
          38.699572995448804,
          38.699572995448804,
          40.42106207859673,
          40.42106207859673,
          40.42106207859673,
          42.14255116174465,
          42.14255116174465,
          42.14255116174465,
          42.14255116174465,
          42.14255116174465,
          42.14255116174465,
          42.14255116174465,
          42.14255116174465,
          42.14255116174465,
          42.14255116174465,
          43.86404024489257,
          44.55263587815174,
          45.585529328040494,
          45.585529328040494,
          45.585529328040494,
          45.585529328040494,
          45.585529328040494,
          45.585529328040494,
          45.585529328040494,
          45.585529328040494,
          45.585529328040494,
          45.585529328040494,
          45.585529328040494,
          45.585529328040494,
          45.585529328040494,
          45.585529328040494,
          45.585529328040494,
          49.02850749433634,
          49.02850749433634,
          49.02850749433634,
          49.02850749433634,
          52.47148566063218,
          52.47148566063218,
          52.47148566063218,
          52.47148566063218,
          55.91446382692803,
          66.24339832581556,
          69.6863764921114,
          83.45828915729479
         ],
         "yaxis": "y"
        },
        {
         "customdata": [
          [
           68.402973
          ],
          [
           33.983678999999995
          ],
          [
           59.425505
          ],
          [
           93.704912
          ],
          [
           34.384843
          ],
          [
           29.509541
          ],
          [
           33.174094000000004
          ],
          [
           37.038562
          ],
          [
           49.120253000000005
          ],
          [
           53.313813
          ],
          [
           18.042851000000002
          ],
          [
           50.764998999999996
          ],
          [
           19.823573
          ],
          [
           40.400208
          ],
          [
           22.736446
          ],
          [
           41.445019
          ],
          [
           45.863324
          ],
          [
           35.782790999999996
          ],
          [
           22.396513
          ],
          [
           40.448772
          ],
          [
           64.533816
          ],
          [
           46.895644
          ],
          [
           36.176196000000004
          ],
          [
           44.330856
          ],
          [
           32.207582
          ],
          [
           31.435972999999997
          ],
          [
           58.345141000000005
          ],
          [
           40.917047
          ],
          [
           41.015492
          ],
          [
           28.025765000000003
          ],
          [
           35.252444
          ],
          [
           23.804043
          ],
          [
           52.076896999999995
          ],
          [
           53.37100699999999
          ],
          [
           45.811716
          ],
          [
           21.871292
          ],
          [
           31.072217
          ],
          [
           28.742414
          ],
          [
           36.523683
          ],
          [
           36.471512
          ],
          [
           39.241114
          ],
          [
           45.328074
          ],
          [
           26.734515000000002
          ],
          [
           54.850917
          ],
          [
           37.136863
          ],
          [
           34.139765000000004
          ],
          [
           30.313351
          ],
          [
           40.105965000000005
          ],
          [
           29.924284999999998
          ],
          [
           40.69232
          ],
          [
           59.642837
          ],
          [
           30.450843
          ],
          [
           37.840594
          ],
          [
           41.50354
          ],
          [
           60.756112
          ],
          [
           63.005644999999994
          ],
          [
           49.511874
          ],
          [
           50.828392
          ],
          [
           39.259197
          ],
          [
           39.7034
          ],
          [
           55.333142
          ],
          [
           41.998933
          ],
          [
           40.560159000000006
          ],
          [
           68.235885
          ],
          [
           74.472949
          ],
          [
           72.801787
          ],
          [
           31.230054
          ],
          [
           53.131324
          ],
          [
           59.36399300000001
          ],
          [
           38.839746000000005
          ],
          [
           28.592785
          ],
          [
           46.658844
          ],
          [
           39.106173999999996
          ],
          [
           27.753301
          ],
          [
           49.787445
          ],
          [
           51.592193
          ],
          [
           36.187559
          ]
         ],
         "hovertemplate": "<b>%{hovertext}</b><br><br>variable=Protein<br>value=%{x}<br>Rating (%)=%{customdata[0]:.2f}<extra></extra>",
         "hovertext": [
          "100% Bran",
          "100% Natural Bran",
          "All-Bran",
          "All-Bran with Extra Fiber",
          "Almond Delight",
          "Apple Cinnamon Cheerios",
          "Apple Jacks",
          "Basic 4",
          "Bran Chex",
          "Bran Flakes",
          "Cap'n'Crunch",
          "Cheerios",
          "Cinnamon Toast Crunch",
          "Clusters",
          "Cocoa Puffs",
          "Corn Chex",
          "Corn Flakes",
          "Corn Pops",
          "Count Chocula",
          "Cracklin' Oat Bran",
          "Cream of Wheat (Quick)",
          "Crispix",
          "Crispy Wheat & Raisins",
          "Double Chex",
          "Froot Loops",
          "Frosted Flakes",
          "Frosted Mini-Wheats",
          "Fruit & Fibre Dates; Walnuts; and Oats",
          "Fruitful Bran",
          "Fruity Pebbles",
          "Golden Crisp",
          "Golden Grahams",
          "Grape Nuts Flakes",
          "Grape-Nuts",
          "Great Grains Pecan",
          "Honey Graham Ohs",
          "Honey Nut Cheerios",
          "Honey-comb",
          "Just Right Crunchy  Nuggets",
          "Just Right Fruit & Nut",
          "Kix",
          "Life",
          "Lucky Charms",
          "Maypo",
          "Muesli Raisins; Dates; & Almonds",
          "Muesli Raisins; Peaches; & Pecans",
          "Mueslix Crispy Blend",
          "Multi-Grain Cheerios",
          "Nut&Honey Crunch",
          "Nutri-Grain Almond-Raisin",
          "Nutri-grain Wheat",
          "Oatmeal Raisin Crisp",
          "Post Nat. Raisin Bran",
          "Product 19",
          "Puffed Rice",
          "Puffed Wheat",
          "Quaker Oat Squares",
          "Quaker Oatmeal",
          "Raisin Bran",
          "Raisin Nut Bran",
          "Raisin Squares",
          "Rice Chex",
          "Rice Krispies",
          "Shredded Wheat",
          "Shredded Wheat 'n'Bran",
          "Shredded Wheat spoon size",
          "Smacks",
          "Special K",
          "Strawberry Fruit Wheats",
          "Total Corn Flakes",
          "Total Raisin Bran",
          "Total Whole Grain",
          "Triples",
          "Trix",
          "Wheat Chex",
          "Wheaties",
          "Wheaties Honey Gold"
         ],
         "legendgroup": "Protein",
         "marker": {
          "color": "#EF553B",
          "symbol": "circle"
         },
         "mode": "markers",
         "name": "Protein",
         "orientation": "v",
         "showlegend": true,
         "type": "scatter",
         "x": [
          4,
          3,
          4,
          4,
          2,
          2,
          2,
          3,
          2,
          3,
          1,
          6,
          1,
          3,
          1,
          2,
          2,
          1,
          1,
          3,
          3,
          2,
          2,
          2,
          2,
          1,
          3,
          3,
          3,
          1,
          2,
          1,
          3,
          3,
          3,
          1,
          3,
          1,
          2,
          3,
          2,
          4,
          2,
          4,
          4,
          4,
          3,
          2,
          2,
          3,
          3,
          3,
          3,
          3,
          1,
          2,
          4,
          5,
          3,
          3,
          2,
          1,
          2,
          2,
          3,
          3,
          2,
          6,
          2,
          2,
          3,
          3,
          2,
          1,
          3,
          3,
          2
         ],
         "xaxis": "x",
         "y": [
          68.402973,
          33.983678999999995,
          59.425505,
          93.704912,
          34.384843,
          29.509541,
          33.174094000000004,
          37.038562,
          49.120253000000005,
          53.313813,
          18.042851000000002,
          50.764998999999996,
          19.823573,
          40.400208,
          22.736446,
          41.445019,
          45.863324,
          35.782790999999996,
          22.396513,
          40.448772,
          64.533816,
          46.895644,
          36.176196000000004,
          44.330856,
          32.207582,
          31.435972999999997,
          58.345141000000005,
          40.917047,
          41.015492,
          28.025765000000003,
          35.252444,
          23.804043,
          52.076896999999995,
          53.37100699999999,
          45.811716,
          21.871292,
          31.072217,
          28.742414,
          36.523683,
          36.471512,
          39.241114,
          45.328074,
          26.734515000000002,
          54.850917,
          37.136863,
          34.139765000000004,
          30.313351,
          40.105965000000005,
          29.924284999999998,
          40.69232,
          59.642837,
          30.450843,
          37.840594,
          41.50354,
          60.756112,
          63.005644999999994,
          49.511874,
          50.828392,
          39.259197,
          39.7034,
          55.333142,
          41.998933,
          40.560159000000006,
          68.235885,
          74.472949,
          72.801787,
          31.230054,
          53.131324,
          59.36399300000001,
          38.839746000000005,
          28.592785,
          46.658844,
          39.106173999999996,
          27.753301,
          49.787445,
          51.592193,
          36.187559
         ],
         "yaxis": "y"
        },
        {
         "hovertemplate": "<b>OLS trendline</b><br>Rating = 6.03852 * value + 27.2949<br>R<sup>2</sup>=0.221482<br><br>variable=Protein<br>value=%{x}<br>Rating (%)=%{y:.2f} <b>(trend)</b><extra></extra>",
         "legendgroup": "Protein",
         "marker": {
          "color": "#EF553B",
          "symbol": "circle"
         },
         "mode": "lines",
         "name": "Protein",
         "showlegend": false,
         "type": "scatter",
         "x": [
          1,
          1,
          1,
          1,
          1,
          1,
          1,
          1,
          1,
          1,
          1,
          1,
          1,
          2,
          2,
          2,
          2,
          2,
          2,
          2,
          2,
          2,
          2,
          2,
          2,
          2,
          2,
          2,
          2,
          2,
          2,
          2,
          2,
          2,
          2,
          2,
          2,
          2,
          3,
          3,
          3,
          3,
          3,
          3,
          3,
          3,
          3,
          3,
          3,
          3,
          3,
          3,
          3,
          3,
          3,
          3,
          3,
          3,
          3,
          3,
          3,
          3,
          3,
          3,
          3,
          3,
          4,
          4,
          4,
          4,
          4,
          4,
          4,
          4,
          5,
          6,
          6
         ],
         "xaxis": "x",
         "y": [
          33.33344162745935,
          33.33344162745935,
          33.33344162745935,
          33.33344162745935,
          33.33344162745935,
          33.33344162745935,
          33.33344162745935,
          33.33344162745935,
          33.33344162745935,
          33.33344162745935,
          33.33344162745935,
          33.33344162745935,
          33.33344162745935,
          39.37196497775875,
          39.37196497775875,
          39.37196497775875,
          39.37196497775875,
          39.37196497775875,
          39.37196497775875,
          39.37196497775875,
          39.37196497775875,
          39.37196497775875,
          39.37196497775875,
          39.37196497775875,
          39.37196497775875,
          39.37196497775875,
          39.37196497775875,
          39.37196497775875,
          39.37196497775875,
          39.37196497775875,
          39.37196497775875,
          39.37196497775875,
          39.37196497775875,
          39.37196497775875,
          39.37196497775875,
          39.37196497775875,
          39.37196497775875,
          39.37196497775875,
          45.41048832805816,
          45.41048832805816,
          45.41048832805816,
          45.41048832805816,
          45.41048832805816,
          45.41048832805816,
          45.41048832805816,
          45.41048832805816,
          45.41048832805816,
          45.41048832805816,
          45.41048832805816,
          45.41048832805816,
          45.41048832805816,
          45.41048832805816,
          45.41048832805816,
          45.41048832805816,
          45.41048832805816,
          45.41048832805816,
          45.41048832805816,
          45.41048832805816,
          45.41048832805816,
          45.41048832805816,
          45.41048832805816,
          45.41048832805816,
          45.41048832805816,
          45.41048832805816,
          45.41048832805816,
          45.41048832805816,
          51.449011678357564,
          51.449011678357564,
          51.449011678357564,
          51.449011678357564,
          51.449011678357564,
          51.449011678357564,
          51.449011678357564,
          51.449011678357564,
          57.487535028656964,
          63.526058378956364,
          63.526058378956364
         ],
         "yaxis": "y"
        },
        {
         "customdata": [
          [
           68.402973
          ],
          [
           33.983678999999995
          ],
          [
           59.425505
          ],
          [
           93.704912
          ],
          [
           34.384843
          ],
          [
           29.509541
          ],
          [
           33.174094000000004
          ],
          [
           37.038562
          ],
          [
           49.120253000000005
          ],
          [
           53.313813
          ],
          [
           18.042851000000002
          ],
          [
           50.764998999999996
          ],
          [
           19.823573
          ],
          [
           40.400208
          ],
          [
           22.736446
          ],
          [
           41.445019
          ],
          [
           45.863324
          ],
          [
           35.782790999999996
          ],
          [
           22.396513
          ],
          [
           40.448772
          ],
          [
           64.533816
          ],
          [
           46.895644
          ],
          [
           36.176196000000004
          ],
          [
           44.330856
          ],
          [
           32.207582
          ],
          [
           31.435972999999997
          ],
          [
           58.345141000000005
          ],
          [
           40.917047
          ],
          [
           41.015492
          ],
          [
           28.025765000000003
          ],
          [
           35.252444
          ],
          [
           23.804043
          ],
          [
           52.076896999999995
          ],
          [
           53.37100699999999
          ],
          [
           45.811716
          ],
          [
           21.871292
          ],
          [
           31.072217
          ],
          [
           28.742414
          ],
          [
           36.523683
          ],
          [
           36.471512
          ],
          [
           39.241114
          ],
          [
           45.328074
          ],
          [
           26.734515000000002
          ],
          [
           54.850917
          ],
          [
           37.136863
          ],
          [
           34.139765000000004
          ],
          [
           30.313351
          ],
          [
           40.105965000000005
          ],
          [
           29.924284999999998
          ],
          [
           40.69232
          ],
          [
           59.642837
          ],
          [
           30.450843
          ],
          [
           37.840594
          ],
          [
           41.50354
          ],
          [
           60.756112
          ],
          [
           63.005644999999994
          ],
          [
           49.511874
          ],
          [
           50.828392
          ],
          [
           39.259197
          ],
          [
           39.7034
          ],
          [
           55.333142
          ],
          [
           41.998933
          ],
          [
           40.560159000000006
          ],
          [
           68.235885
          ],
          [
           74.472949
          ],
          [
           72.801787
          ],
          [
           31.230054
          ],
          [
           53.131324
          ],
          [
           59.36399300000001
          ],
          [
           38.839746000000005
          ],
          [
           28.592785
          ],
          [
           46.658844
          ],
          [
           39.106173999999996
          ],
          [
           27.753301
          ],
          [
           49.787445
          ],
          [
           51.592193
          ],
          [
           36.187559
          ]
         ],
         "hovertemplate": "<b>%{hovertext}</b><br><br>variable=Potassium<br>value=%{x}<br>Rating (%)=%{customdata[0]:.2f}<extra></extra>",
         "hovertext": [
          "100% Bran",
          "100% Natural Bran",
          "All-Bran",
          "All-Bran with Extra Fiber",
          "Almond Delight",
          "Apple Cinnamon Cheerios",
          "Apple Jacks",
          "Basic 4",
          "Bran Chex",
          "Bran Flakes",
          "Cap'n'Crunch",
          "Cheerios",
          "Cinnamon Toast Crunch",
          "Clusters",
          "Cocoa Puffs",
          "Corn Chex",
          "Corn Flakes",
          "Corn Pops",
          "Count Chocula",
          "Cracklin' Oat Bran",
          "Cream of Wheat (Quick)",
          "Crispix",
          "Crispy Wheat & Raisins",
          "Double Chex",
          "Froot Loops",
          "Frosted Flakes",
          "Frosted Mini-Wheats",
          "Fruit & Fibre Dates; Walnuts; and Oats",
          "Fruitful Bran",
          "Fruity Pebbles",
          "Golden Crisp",
          "Golden Grahams",
          "Grape Nuts Flakes",
          "Grape-Nuts",
          "Great Grains Pecan",
          "Honey Graham Ohs",
          "Honey Nut Cheerios",
          "Honey-comb",
          "Just Right Crunchy  Nuggets",
          "Just Right Fruit & Nut",
          "Kix",
          "Life",
          "Lucky Charms",
          "Maypo",
          "Muesli Raisins; Dates; & Almonds",
          "Muesli Raisins; Peaches; & Pecans",
          "Mueslix Crispy Blend",
          "Multi-Grain Cheerios",
          "Nut&Honey Crunch",
          "Nutri-Grain Almond-Raisin",
          "Nutri-grain Wheat",
          "Oatmeal Raisin Crisp",
          "Post Nat. Raisin Bran",
          "Product 19",
          "Puffed Rice",
          "Puffed Wheat",
          "Quaker Oat Squares",
          "Quaker Oatmeal",
          "Raisin Bran",
          "Raisin Nut Bran",
          "Raisin Squares",
          "Rice Chex",
          "Rice Krispies",
          "Shredded Wheat",
          "Shredded Wheat 'n'Bran",
          "Shredded Wheat spoon size",
          "Smacks",
          "Special K",
          "Strawberry Fruit Wheats",
          "Total Corn Flakes",
          "Total Raisin Bran",
          "Total Whole Grain",
          "Triples",
          "Trix",
          "Wheat Chex",
          "Wheaties",
          "Wheaties Honey Gold"
         ],
         "legendgroup": "Potassium",
         "marker": {
          "color": "#00cc96",
          "symbol": "circle"
         },
         "mode": "markers",
         "name": "Potassium",
         "orientation": "v",
         "showlegend": true,
         "type": "scatter",
         "x": [
          280,
          135,
          320,
          330,
          0,
          70,
          30,
          100,
          125,
          190,
          35,
          105,
          45,
          105,
          55,
          25,
          35,
          20,
          65,
          160,
          0,
          30,
          120,
          80,
          30,
          25,
          100,
          200,
          190,
          25,
          40,
          45,
          85,
          90,
          100,
          45,
          90,
          35,
          60,
          95,
          40,
          95,
          55,
          95,
          170,
          170,
          160,
          90,
          40,
          130,
          90,
          120,
          260,
          45,
          15,
          50,
          110,
          110,
          240,
          140,
          110,
          30,
          35,
          95,
          140,
          120,
          40,
          55,
          90,
          35,
          230,
          110,
          60,
          25,
          115,
          110,
          60
         ],
         "xaxis": "x",
         "y": [
          68.402973,
          33.983678999999995,
          59.425505,
          93.704912,
          34.384843,
          29.509541,
          33.174094000000004,
          37.038562,
          49.120253000000005,
          53.313813,
          18.042851000000002,
          50.764998999999996,
          19.823573,
          40.400208,
          22.736446,
          41.445019,
          45.863324,
          35.782790999999996,
          22.396513,
          40.448772,
          64.533816,
          46.895644,
          36.176196000000004,
          44.330856,
          32.207582,
          31.435972999999997,
          58.345141000000005,
          40.917047,
          41.015492,
          28.025765000000003,
          35.252444,
          23.804043,
          52.076896999999995,
          53.37100699999999,
          45.811716,
          21.871292,
          31.072217,
          28.742414,
          36.523683,
          36.471512,
          39.241114,
          45.328074,
          26.734515000000002,
          54.850917,
          37.136863,
          34.139765000000004,
          30.313351,
          40.105965000000005,
          29.924284999999998,
          40.69232,
          59.642837,
          30.450843,
          37.840594,
          41.50354,
          60.756112,
          63.005644999999994,
          49.511874,
          50.828392,
          39.259197,
          39.7034,
          55.333142,
          41.998933,
          40.560159000000006,
          68.235885,
          74.472949,
          72.801787,
          31.230054,
          53.131324,
          59.36399300000001,
          38.839746000000005,
          28.592785,
          46.658844,
          39.106173999999996,
          27.753301,
          49.787445,
          51.592193,
          36.187559
         ],
         "yaxis": "y"
        },
        {
         "hovertemplate": "<b>OLS trendline</b><br>Rating = 0.075023 * value + 35.4557<br>R<sup>2</sup>=0.144806<br><br>variable=Potassium<br>value=%{x}<br>Rating (%)=%{y:.2f} <b>(trend)</b><extra></extra>",
         "legendgroup": "Potassium",
         "marker": {
          "color": "#00cc96",
          "symbol": "circle"
         },
         "mode": "lines",
         "name": "Potassium",
         "showlegend": false,
         "type": "scatter",
         "x": [
          0,
          0,
          15,
          20,
          25,
          25,
          25,
          25,
          30,
          30,
          30,
          30,
          35,
          35,
          35,
          35,
          35,
          40,
          40,
          40,
          40,
          45,
          45,
          45,
          45,
          50,
          55,
          55,
          55,
          60,
          60,
          60,
          65,
          70,
          80,
          85,
          90,
          90,
          90,
          90,
          90,
          95,
          95,
          95,
          95,
          100,
          100,
          100,
          105,
          105,
          110,
          110,
          110,
          110,
          110,
          115,
          120,
          120,
          120,
          125,
          130,
          135,
          140,
          140,
          160,
          160,
          170,
          170,
          190,
          190,
          200,
          230,
          240,
          260,
          280,
          320,
          330
         ],
         "xaxis": "x",
         "y": [
          35.45570207280622,
          35.45570207280622,
          36.58104712225335,
          36.956162138735735,
          37.33127715521811,
          37.33127715521811,
          37.33127715521811,
          37.33127715521811,
          37.70639217170049,
          37.70639217170049,
          37.70639217170049,
          37.70639217170049,
          38.08150718818287,
          38.08150718818287,
          38.08150718818287,
          38.08150718818287,
          38.08150718818287,
          38.45662220466525,
          38.45662220466525,
          38.45662220466525,
          38.45662220466525,
          38.83173722114763,
          38.83173722114763,
          38.83173722114763,
          38.83173722114763,
          39.20685223763001,
          39.581967254112385,
          39.581967254112385,
          39.581967254112385,
          39.95708227059477,
          39.95708227059477,
          39.95708227059477,
          40.33219728707714,
          40.707312303559526,
          41.457542336524284,
          41.83265735300666,
          42.20777236948904,
          42.20777236948904,
          42.20777236948904,
          42.20777236948904,
          42.20777236948904,
          42.58288738597142,
          42.58288738597142,
          42.58288738597142,
          42.58288738597142,
          42.9580024024538,
          42.9580024024538,
          42.9580024024538,
          43.333117418936176,
          43.333117418936176,
          43.70823243541855,
          43.70823243541855,
          43.70823243541855,
          43.70823243541855,
          43.70823243541855,
          44.083347451900934,
          44.45846246838332,
          44.45846246838332,
          44.45846246838332,
          44.83357748486569,
          45.20869250134807,
          45.58380751783045,
          45.95892253431283,
          45.95892253431283,
          47.45938260024235,
          47.45938260024235,
          48.2096126332071,
          48.2096126332071,
          49.71007269913662,
          49.71007269913662,
          50.460302732101376,
          52.71099283099565,
          53.46122286396041,
          54.961682929889925,
          56.46214299581944,
          59.463063127678474,
          60.21329316064323
         ],
         "yaxis": "y"
        }
       ],
       "layout": {
        "legend": {
         "title": {
          "text": "variable"
         },
         "tracegroupgap": 0
        },
        "margin": {
         "t": 60
        },
        "template": {
         "data": {
          "bar": [
           {
            "error_x": {
             "color": "#2a3f5f"
            },
            "error_y": {
             "color": "#2a3f5f"
            },
            "marker": {
             "line": {
              "color": "#E5ECF6",
              "width": 0.5
             }
            },
            "type": "bar"
           }
          ],
          "barpolar": [
           {
            "marker": {
             "line": {
              "color": "#E5ECF6",
              "width": 0.5
             }
            },
            "type": "barpolar"
           }
          ],
          "carpet": [
           {
            "aaxis": {
             "endlinecolor": "#2a3f5f",
             "gridcolor": "white",
             "linecolor": "white",
             "minorgridcolor": "white",
             "startlinecolor": "#2a3f5f"
            },
            "baxis": {
             "endlinecolor": "#2a3f5f",
             "gridcolor": "white",
             "linecolor": "white",
             "minorgridcolor": "white",
             "startlinecolor": "#2a3f5f"
            },
            "type": "carpet"
           }
          ],
          "choropleth": [
           {
            "colorbar": {
             "outlinewidth": 0,
             "ticks": ""
            },
            "type": "choropleth"
           }
          ],
          "contour": [
           {
            "colorbar": {
             "outlinewidth": 0,
             "ticks": ""
            },
            "colorscale": [
             [
              0,
              "#0d0887"
             ],
             [
              0.1111111111111111,
              "#46039f"
             ],
             [
              0.2222222222222222,
              "#7201a8"
             ],
             [
              0.3333333333333333,
              "#9c179e"
             ],
             [
              0.4444444444444444,
              "#bd3786"
             ],
             [
              0.5555555555555556,
              "#d8576b"
             ],
             [
              0.6666666666666666,
              "#ed7953"
             ],
             [
              0.7777777777777778,
              "#fb9f3a"
             ],
             [
              0.8888888888888888,
              "#fdca26"
             ],
             [
              1,
              "#f0f921"
             ]
            ],
            "type": "contour"
           }
          ],
          "contourcarpet": [
           {
            "colorbar": {
             "outlinewidth": 0,
             "ticks": ""
            },
            "type": "contourcarpet"
           }
          ],
          "heatmap": [
           {
            "colorbar": {
             "outlinewidth": 0,
             "ticks": ""
            },
            "colorscale": [
             [
              0,
              "#0d0887"
             ],
             [
              0.1111111111111111,
              "#46039f"
             ],
             [
              0.2222222222222222,
              "#7201a8"
             ],
             [
              0.3333333333333333,
              "#9c179e"
             ],
             [
              0.4444444444444444,
              "#bd3786"
             ],
             [
              0.5555555555555556,
              "#d8576b"
             ],
             [
              0.6666666666666666,
              "#ed7953"
             ],
             [
              0.7777777777777778,
              "#fb9f3a"
             ],
             [
              0.8888888888888888,
              "#fdca26"
             ],
             [
              1,
              "#f0f921"
             ]
            ],
            "type": "heatmap"
           }
          ],
          "heatmapgl": [
           {
            "colorbar": {
             "outlinewidth": 0,
             "ticks": ""
            },
            "colorscale": [
             [
              0,
              "#0d0887"
             ],
             [
              0.1111111111111111,
              "#46039f"
             ],
             [
              0.2222222222222222,
              "#7201a8"
             ],
             [
              0.3333333333333333,
              "#9c179e"
             ],
             [
              0.4444444444444444,
              "#bd3786"
             ],
             [
              0.5555555555555556,
              "#d8576b"
             ],
             [
              0.6666666666666666,
              "#ed7953"
             ],
             [
              0.7777777777777778,
              "#fb9f3a"
             ],
             [
              0.8888888888888888,
              "#fdca26"
             ],
             [
              1,
              "#f0f921"
             ]
            ],
            "type": "heatmapgl"
           }
          ],
          "histogram": [
           {
            "marker": {
             "colorbar": {
              "outlinewidth": 0,
              "ticks": ""
             }
            },
            "type": "histogram"
           }
          ],
          "histogram2d": [
           {
            "colorbar": {
             "outlinewidth": 0,
             "ticks": ""
            },
            "colorscale": [
             [
              0,
              "#0d0887"
             ],
             [
              0.1111111111111111,
              "#46039f"
             ],
             [
              0.2222222222222222,
              "#7201a8"
             ],
             [
              0.3333333333333333,
              "#9c179e"
             ],
             [
              0.4444444444444444,
              "#bd3786"
             ],
             [
              0.5555555555555556,
              "#d8576b"
             ],
             [
              0.6666666666666666,
              "#ed7953"
             ],
             [
              0.7777777777777778,
              "#fb9f3a"
             ],
             [
              0.8888888888888888,
              "#fdca26"
             ],
             [
              1,
              "#f0f921"
             ]
            ],
            "type": "histogram2d"
           }
          ],
          "histogram2dcontour": [
           {
            "colorbar": {
             "outlinewidth": 0,
             "ticks": ""
            },
            "colorscale": [
             [
              0,
              "#0d0887"
             ],
             [
              0.1111111111111111,
              "#46039f"
             ],
             [
              0.2222222222222222,
              "#7201a8"
             ],
             [
              0.3333333333333333,
              "#9c179e"
             ],
             [
              0.4444444444444444,
              "#bd3786"
             ],
             [
              0.5555555555555556,
              "#d8576b"
             ],
             [
              0.6666666666666666,
              "#ed7953"
             ],
             [
              0.7777777777777778,
              "#fb9f3a"
             ],
             [
              0.8888888888888888,
              "#fdca26"
             ],
             [
              1,
              "#f0f921"
             ]
            ],
            "type": "histogram2dcontour"
           }
          ],
          "mesh3d": [
           {
            "colorbar": {
             "outlinewidth": 0,
             "ticks": ""
            },
            "type": "mesh3d"
           }
          ],
          "parcoords": [
           {
            "line": {
             "colorbar": {
              "outlinewidth": 0,
              "ticks": ""
             }
            },
            "type": "parcoords"
           }
          ],
          "pie": [
           {
            "automargin": true,
            "type": "pie"
           }
          ],
          "scatter": [
           {
            "marker": {
             "colorbar": {
              "outlinewidth": 0,
              "ticks": ""
             }
            },
            "type": "scatter"
           }
          ],
          "scatter3d": [
           {
            "line": {
             "colorbar": {
              "outlinewidth": 0,
              "ticks": ""
             }
            },
            "marker": {
             "colorbar": {
              "outlinewidth": 0,
              "ticks": ""
             }
            },
            "type": "scatter3d"
           }
          ],
          "scattercarpet": [
           {
            "marker": {
             "colorbar": {
              "outlinewidth": 0,
              "ticks": ""
             }
            },
            "type": "scattercarpet"
           }
          ],
          "scattergeo": [
           {
            "marker": {
             "colorbar": {
              "outlinewidth": 0,
              "ticks": ""
             }
            },
            "type": "scattergeo"
           }
          ],
          "scattergl": [
           {
            "marker": {
             "colorbar": {
              "outlinewidth": 0,
              "ticks": ""
             }
            },
            "type": "scattergl"
           }
          ],
          "scattermapbox": [
           {
            "marker": {
             "colorbar": {
              "outlinewidth": 0,
              "ticks": ""
             }
            },
            "type": "scattermapbox"
           }
          ],
          "scatterpolar": [
           {
            "marker": {
             "colorbar": {
              "outlinewidth": 0,
              "ticks": ""
             }
            },
            "type": "scatterpolar"
           }
          ],
          "scatterpolargl": [
           {
            "marker": {
             "colorbar": {
              "outlinewidth": 0,
              "ticks": ""
             }
            },
            "type": "scatterpolargl"
           }
          ],
          "scatterternary": [
           {
            "marker": {
             "colorbar": {
              "outlinewidth": 0,
              "ticks": ""
             }
            },
            "type": "scatterternary"
           }
          ],
          "surface": [
           {
            "colorbar": {
             "outlinewidth": 0,
             "ticks": ""
            },
            "colorscale": [
             [
              0,
              "#0d0887"
             ],
             [
              0.1111111111111111,
              "#46039f"
             ],
             [
              0.2222222222222222,
              "#7201a8"
             ],
             [
              0.3333333333333333,
              "#9c179e"
             ],
             [
              0.4444444444444444,
              "#bd3786"
             ],
             [
              0.5555555555555556,
              "#d8576b"
             ],
             [
              0.6666666666666666,
              "#ed7953"
             ],
             [
              0.7777777777777778,
              "#fb9f3a"
             ],
             [
              0.8888888888888888,
              "#fdca26"
             ],
             [
              1,
              "#f0f921"
             ]
            ],
            "type": "surface"
           }
          ],
          "table": [
           {
            "cells": {
             "fill": {
              "color": "#EBF0F8"
             },
             "line": {
              "color": "white"
             }
            },
            "header": {
             "fill": {
              "color": "#C8D4E3"
             },
             "line": {
              "color": "white"
             }
            },
            "type": "table"
           }
          ]
         },
         "layout": {
          "annotationdefaults": {
           "arrowcolor": "#2a3f5f",
           "arrowhead": 0,
           "arrowwidth": 1
          },
          "coloraxis": {
           "colorbar": {
            "outlinewidth": 0,
            "ticks": ""
           }
          },
          "colorscale": {
           "diverging": [
            [
             0,
             "#8e0152"
            ],
            [
             0.1,
             "#c51b7d"
            ],
            [
             0.2,
             "#de77ae"
            ],
            [
             0.3,
             "#f1b6da"
            ],
            [
             0.4,
             "#fde0ef"
            ],
            [
             0.5,
             "#f7f7f7"
            ],
            [
             0.6,
             "#e6f5d0"
            ],
            [
             0.7,
             "#b8e186"
            ],
            [
             0.8,
             "#7fbc41"
            ],
            [
             0.9,
             "#4d9221"
            ],
            [
             1,
             "#276419"
            ]
           ],
           "sequential": [
            [
             0,
             "#0d0887"
            ],
            [
             0.1111111111111111,
             "#46039f"
            ],
            [
             0.2222222222222222,
             "#7201a8"
            ],
            [
             0.3333333333333333,
             "#9c179e"
            ],
            [
             0.4444444444444444,
             "#bd3786"
            ],
            [
             0.5555555555555556,
             "#d8576b"
            ],
            [
             0.6666666666666666,
             "#ed7953"
            ],
            [
             0.7777777777777778,
             "#fb9f3a"
            ],
            [
             0.8888888888888888,
             "#fdca26"
            ],
            [
             1,
             "#f0f921"
            ]
           ],
           "sequentialminus": [
            [
             0,
             "#0d0887"
            ],
            [
             0.1111111111111111,
             "#46039f"
            ],
            [
             0.2222222222222222,
             "#7201a8"
            ],
            [
             0.3333333333333333,
             "#9c179e"
            ],
            [
             0.4444444444444444,
             "#bd3786"
            ],
            [
             0.5555555555555556,
             "#d8576b"
            ],
            [
             0.6666666666666666,
             "#ed7953"
            ],
            [
             0.7777777777777778,
             "#fb9f3a"
            ],
            [
             0.8888888888888888,
             "#fdca26"
            ],
            [
             1,
             "#f0f921"
            ]
           ]
          },
          "colorway": [
           "#636efa",
           "#EF553B",
           "#00cc96",
           "#ab63fa",
           "#FFA15A",
           "#19d3f3",
           "#FF6692",
           "#B6E880",
           "#FF97FF",
           "#FECB52"
          ],
          "font": {
           "color": "#2a3f5f"
          },
          "geo": {
           "bgcolor": "white",
           "lakecolor": "white",
           "landcolor": "#E5ECF6",
           "showlakes": true,
           "showland": true,
           "subunitcolor": "white"
          },
          "hoverlabel": {
           "align": "left"
          },
          "hovermode": "closest",
          "mapbox": {
           "style": "light"
          },
          "paper_bgcolor": "white",
          "plot_bgcolor": "#E5ECF6",
          "polar": {
           "angularaxis": {
            "gridcolor": "white",
            "linecolor": "white",
            "ticks": ""
           },
           "bgcolor": "#E5ECF6",
           "radialaxis": {
            "gridcolor": "white",
            "linecolor": "white",
            "ticks": ""
           }
          },
          "scene": {
           "xaxis": {
            "backgroundcolor": "#E5ECF6",
            "gridcolor": "white",
            "gridwidth": 2,
            "linecolor": "white",
            "showbackground": true,
            "ticks": "",
            "zerolinecolor": "white"
           },
           "yaxis": {
            "backgroundcolor": "#E5ECF6",
            "gridcolor": "white",
            "gridwidth": 2,
            "linecolor": "white",
            "showbackground": true,
            "ticks": "",
            "zerolinecolor": "white"
           },
           "zaxis": {
            "backgroundcolor": "#E5ECF6",
            "gridcolor": "white",
            "gridwidth": 2,
            "linecolor": "white",
            "showbackground": true,
            "ticks": "",
            "zerolinecolor": "white"
           }
          },
          "shapedefaults": {
           "line": {
            "color": "#2a3f5f"
           }
          },
          "ternary": {
           "aaxis": {
            "gridcolor": "white",
            "linecolor": "white",
            "ticks": ""
           },
           "baxis": {
            "gridcolor": "white",
            "linecolor": "white",
            "ticks": ""
           },
           "bgcolor": "#E5ECF6",
           "caxis": {
            "gridcolor": "white",
            "linecolor": "white",
            "ticks": ""
           }
          },
          "title": {
           "x": 0.05
          },
          "xaxis": {
           "automargin": true,
           "gridcolor": "white",
           "linecolor": "white",
           "ticks": "",
           "title": {
            "standoff": 15
           },
           "zerolinecolor": "white",
           "zerolinewidth": 2
          },
          "yaxis": {
           "automargin": true,
           "gridcolor": "white",
           "linecolor": "white",
           "ticks": "",
           "title": {
            "standoff": 15
           },
           "zerolinecolor": "white",
           "zerolinewidth": 2
          }
         }
        },
        "xaxis": {
         "anchor": "y",
         "domain": [
          0,
          1
         ],
         "title": {
          "text": "value"
         }
        },
        "yaxis": {
         "anchor": "x",
         "domain": [
          0,
          1
         ],
         "title": {
          "text": "Rating (%)"
         }
        }
       }
      },
      "text/html": [
       "<div>                            <div id=\"380e2d77-e0c5-4357-98ed-0d35199af0ca\" class=\"plotly-graph-div\" style=\"height:525px; width:100%;\"></div>            <script type=\"text/javascript\">                require([\"plotly\"], function(Plotly) {                    window.PLOTLYENV=window.PLOTLYENV || {};                                    if (document.getElementById(\"380e2d77-e0c5-4357-98ed-0d35199af0ca\")) {                    Plotly.newPlot(                        \"380e2d77-e0c5-4357-98ed-0d35199af0ca\",                        [{\"customdata\": [[68.402973], [33.983678999999995], [59.425505], [93.704912], [34.384843], [29.509541], [33.174094000000004], [37.038562], [49.120253000000005], [53.313813], [18.042851000000002], [50.764998999999996], [19.823573], [40.400208], [22.736446], [41.445019], [45.863324], [35.782790999999996], [22.396513], [40.448772], [64.533816], [46.895644], [36.176196000000004], [44.330856], [32.207582], [31.435972999999997], [58.345141000000005], [40.917047], [41.015492], [28.025765000000003], [35.252444], [23.804043], [52.076896999999995], [53.37100699999999], [45.811716], [21.871292], [31.072217], [28.742414], [36.523683], [36.471512], [39.241114], [45.328074], [26.734515000000002], [54.850917], [37.136863], [34.139765000000004], [30.313351], [40.105965000000005], [29.924284999999998], [40.69232], [59.642837], [30.450843], [37.840594], [41.50354], [60.756112], [63.005644999999994], [49.511874], [50.828392], [39.259197], [39.7034], [55.333142], [41.998933], [40.560159000000006], [68.235885], [74.472949], [72.801787], [31.230054], [53.131324], [59.36399300000001], [38.839746000000005], [28.592785], [46.658844], [39.106173999999996], [27.753301], [49.787445], [51.592193], [36.187559]], \"hovertemplate\": \"<b>%{hovertext}</b><br><br>variable=Fiber<br>value=%{x}<br>Rating (%)=%{customdata[0]:.2f}<extra></extra>\", \"hovertext\": [\"100% Bran\", \"100% Natural Bran\", \"All-Bran\", \"All-Bran with Extra Fiber\", \"Almond Delight\", \"Apple Cinnamon Cheerios\", \"Apple Jacks\", \"Basic 4\", \"Bran Chex\", \"Bran Flakes\", \"Cap'n'Crunch\", \"Cheerios\", \"Cinnamon Toast Crunch\", \"Clusters\", \"Cocoa Puffs\", \"Corn Chex\", \"Corn Flakes\", \"Corn Pops\", \"Count Chocula\", \"Cracklin' Oat Bran\", \"Cream of Wheat (Quick)\", \"Crispix\", \"Crispy Wheat & Raisins\", \"Double Chex\", \"Froot Loops\", \"Frosted Flakes\", \"Frosted Mini-Wheats\", \"Fruit & Fibre Dates; Walnuts; and Oats\", \"Fruitful Bran\", \"Fruity Pebbles\", \"Golden Crisp\", \"Golden Grahams\", \"Grape Nuts Flakes\", \"Grape-Nuts\", \"Great Grains Pecan\", \"Honey Graham Ohs\", \"Honey Nut Cheerios\", \"Honey-comb\", \"Just Right Crunchy  Nuggets\", \"Just Right Fruit & Nut\", \"Kix\", \"Life\", \"Lucky Charms\", \"Maypo\", \"Muesli Raisins; Dates; & Almonds\", \"Muesli Raisins; Peaches; & Pecans\", \"Mueslix Crispy Blend\", \"Multi-Grain Cheerios\", \"Nut&Honey Crunch\", \"Nutri-Grain Almond-Raisin\", \"Nutri-grain Wheat\", \"Oatmeal Raisin Crisp\", \"Post Nat. Raisin Bran\", \"Product 19\", \"Puffed Rice\", \"Puffed Wheat\", \"Quaker Oat Squares\", \"Quaker Oatmeal\", \"Raisin Bran\", \"Raisin Nut Bran\", \"Raisin Squares\", \"Rice Chex\", \"Rice Krispies\", \"Shredded Wheat\", \"Shredded Wheat 'n'Bran\", \"Shredded Wheat spoon size\", \"Smacks\", \"Special K\", \"Strawberry Fruit Wheats\", \"Total Corn Flakes\", \"Total Raisin Bran\", \"Total Whole Grain\", \"Triples\", \"Trix\", \"Wheat Chex\", \"Wheaties\", \"Wheaties Honey Gold\"], \"legendgroup\": \"Fiber\", \"marker\": {\"color\": \"#636efa\", \"symbol\": \"circle\"}, \"mode\": \"markers\", \"name\": \"Fiber\", \"orientation\": \"v\", \"showlegend\": true, \"type\": \"scatter\", \"x\": [10.0, 2.0, 9.0, 14.0, 1.0, 1.5, 1.0, 2.0, 4.0, 5.0, 0.0, 2.0, 0.0, 2.0, 0.0, 0.0, 1.0, 1.0, 0.0, 4.0, 1.0, 1.0, 2.0, 1.0, 1.0, 1.0, 3.0, 5.0, 5.0, 0.0, 0.0, 0.0, 3.0, 3.0, 3.0, 1.0, 1.5, 0.0, 1.0, 2.0, 0.0, 2.0, 0.0, 0.0, 3.0, 3.0, 3.0, 2.0, 0.0, 3.0, 3.0, 1.5, 6.0, 1.0, 0.0, 1.0, 2.0, 2.7, 5.0, 2.5, 2.0, 0.0, 0.0, 3.0, 4.0, 3.0, 1.0, 1.0, 3.0, 0.0, 4.0, 3.0, 0.0, 0.0, 3.0, 3.0, 1.0], \"xaxis\": \"x\", \"y\": [68.402973, 33.983678999999995, 59.425505, 93.704912, 34.384843, 29.509541, 33.174094000000004, 37.038562, 49.120253000000005, 53.313813, 18.042851000000002, 50.764998999999996, 19.823573, 40.400208, 22.736446, 41.445019, 45.863324, 35.782790999999996, 22.396513, 40.448772, 64.533816, 46.895644, 36.176196000000004, 44.330856, 32.207582, 31.435972999999997, 58.345141000000005, 40.917047, 41.015492, 28.025765000000003, 35.252444, 23.804043, 52.076896999999995, 53.37100699999999, 45.811716, 21.871292, 31.072217, 28.742414, 36.523683, 36.471512, 39.241114, 45.328074, 26.734515000000002, 54.850917, 37.136863, 34.139765000000004, 30.313351, 40.105965000000005, 29.924284999999998, 40.69232, 59.642837, 30.450843, 37.840594, 41.50354, 60.756112, 63.005644999999994, 49.511874, 50.828392, 39.259197, 39.7034, 55.333142, 41.998933, 40.560159000000006, 68.235885, 74.472949, 72.801787, 31.230054, 53.131324, 59.36399300000001, 38.839746000000005, 28.592785, 46.658844, 39.106173999999996, 27.753301, 49.787445, 51.592193, 36.187559], \"yaxis\": \"y\"}, {\"hovertemplate\": \"<b>OLS trendline</b><br>Rating = 3.44298 * value + 35.2566<br>R<sup>2</sup>=0.341243<br><br>variable=Fiber<br>value=%{x}<br>Rating (%)=%{y:.2f} <b>(trend)</b><extra></extra>\", \"legendgroup\": \"Fiber\", \"marker\": {\"color\": \"#636efa\", \"symbol\": \"circle\"}, \"mode\": \"lines\", \"name\": \"Fiber\", \"showlegend\": false, \"type\": \"scatter\", \"x\": [0.0, 0.0, 0.0, 0.0, 0.0, 0.0, 0.0, 0.0, 0.0, 0.0, 0.0, 0.0, 0.0, 0.0, 0.0, 0.0, 0.0, 0.0, 0.0, 1.0, 1.0, 1.0, 1.0, 1.0, 1.0, 1.0, 1.0, 1.0, 1.0, 1.0, 1.0, 1.0, 1.0, 1.0, 1.0, 1.5, 1.5, 1.5, 2.0, 2.0, 2.0, 2.0, 2.0, 2.0, 2.0, 2.0, 2.0, 2.0, 2.5, 2.7, 3.0, 3.0, 3.0, 3.0, 3.0, 3.0, 3.0, 3.0, 3.0, 3.0, 3.0, 3.0, 3.0, 3.0, 3.0, 4.0, 4.0, 4.0, 4.0, 5.0, 5.0, 5.0, 5.0, 6.0, 9.0, 10.0, 14.0], \"xaxis\": \"x\", \"y\": [35.25659482915296, 35.25659482915296, 35.25659482915296, 35.25659482915296, 35.25659482915296, 35.25659482915296, 35.25659482915296, 35.25659482915296, 35.25659482915296, 35.25659482915296, 35.25659482915296, 35.25659482915296, 35.25659482915296, 35.25659482915296, 35.25659482915296, 35.25659482915296, 35.25659482915296, 35.25659482915296, 35.25659482915296, 38.699572995448804, 38.699572995448804, 38.699572995448804, 38.699572995448804, 38.699572995448804, 38.699572995448804, 38.699572995448804, 38.699572995448804, 38.699572995448804, 38.699572995448804, 38.699572995448804, 38.699572995448804, 38.699572995448804, 38.699572995448804, 38.699572995448804, 38.699572995448804, 40.42106207859673, 40.42106207859673, 40.42106207859673, 42.14255116174465, 42.14255116174465, 42.14255116174465, 42.14255116174465, 42.14255116174465, 42.14255116174465, 42.14255116174465, 42.14255116174465, 42.14255116174465, 42.14255116174465, 43.86404024489257, 44.55263587815174, 45.585529328040494, 45.585529328040494, 45.585529328040494, 45.585529328040494, 45.585529328040494, 45.585529328040494, 45.585529328040494, 45.585529328040494, 45.585529328040494, 45.585529328040494, 45.585529328040494, 45.585529328040494, 45.585529328040494, 45.585529328040494, 45.585529328040494, 49.02850749433634, 49.02850749433634, 49.02850749433634, 49.02850749433634, 52.47148566063218, 52.47148566063218, 52.47148566063218, 52.47148566063218, 55.91446382692803, 66.24339832581556, 69.6863764921114, 83.45828915729479], \"yaxis\": \"y\"}, {\"customdata\": [[68.402973], [33.983678999999995], [59.425505], [93.704912], [34.384843], [29.509541], [33.174094000000004], [37.038562], [49.120253000000005], [53.313813], [18.042851000000002], [50.764998999999996], [19.823573], [40.400208], [22.736446], [41.445019], [45.863324], [35.782790999999996], [22.396513], [40.448772], [64.533816], [46.895644], [36.176196000000004], [44.330856], [32.207582], [31.435972999999997], [58.345141000000005], [40.917047], [41.015492], [28.025765000000003], [35.252444], [23.804043], [52.076896999999995], [53.37100699999999], [45.811716], [21.871292], [31.072217], [28.742414], [36.523683], [36.471512], [39.241114], [45.328074], [26.734515000000002], [54.850917], [37.136863], [34.139765000000004], [30.313351], [40.105965000000005], [29.924284999999998], [40.69232], [59.642837], [30.450843], [37.840594], [41.50354], [60.756112], [63.005644999999994], [49.511874], [50.828392], [39.259197], [39.7034], [55.333142], [41.998933], [40.560159000000006], [68.235885], [74.472949], [72.801787], [31.230054], [53.131324], [59.36399300000001], [38.839746000000005], [28.592785], [46.658844], [39.106173999999996], [27.753301], [49.787445], [51.592193], [36.187559]], \"hovertemplate\": \"<b>%{hovertext}</b><br><br>variable=Protein<br>value=%{x}<br>Rating (%)=%{customdata[0]:.2f}<extra></extra>\", \"hovertext\": [\"100% Bran\", \"100% Natural Bran\", \"All-Bran\", \"All-Bran with Extra Fiber\", \"Almond Delight\", \"Apple Cinnamon Cheerios\", \"Apple Jacks\", \"Basic 4\", \"Bran Chex\", \"Bran Flakes\", \"Cap'n'Crunch\", \"Cheerios\", \"Cinnamon Toast Crunch\", \"Clusters\", \"Cocoa Puffs\", \"Corn Chex\", \"Corn Flakes\", \"Corn Pops\", \"Count Chocula\", \"Cracklin' Oat Bran\", \"Cream of Wheat (Quick)\", \"Crispix\", \"Crispy Wheat & Raisins\", \"Double Chex\", \"Froot Loops\", \"Frosted Flakes\", \"Frosted Mini-Wheats\", \"Fruit & Fibre Dates; Walnuts; and Oats\", \"Fruitful Bran\", \"Fruity Pebbles\", \"Golden Crisp\", \"Golden Grahams\", \"Grape Nuts Flakes\", \"Grape-Nuts\", \"Great Grains Pecan\", \"Honey Graham Ohs\", \"Honey Nut Cheerios\", \"Honey-comb\", \"Just Right Crunchy  Nuggets\", \"Just Right Fruit & Nut\", \"Kix\", \"Life\", \"Lucky Charms\", \"Maypo\", \"Muesli Raisins; Dates; & Almonds\", \"Muesli Raisins; Peaches; & Pecans\", \"Mueslix Crispy Blend\", \"Multi-Grain Cheerios\", \"Nut&Honey Crunch\", \"Nutri-Grain Almond-Raisin\", \"Nutri-grain Wheat\", \"Oatmeal Raisin Crisp\", \"Post Nat. Raisin Bran\", \"Product 19\", \"Puffed Rice\", \"Puffed Wheat\", \"Quaker Oat Squares\", \"Quaker Oatmeal\", \"Raisin Bran\", \"Raisin Nut Bran\", \"Raisin Squares\", \"Rice Chex\", \"Rice Krispies\", \"Shredded Wheat\", \"Shredded Wheat 'n'Bran\", \"Shredded Wheat spoon size\", \"Smacks\", \"Special K\", \"Strawberry Fruit Wheats\", \"Total Corn Flakes\", \"Total Raisin Bran\", \"Total Whole Grain\", \"Triples\", \"Trix\", \"Wheat Chex\", \"Wheaties\", \"Wheaties Honey Gold\"], \"legendgroup\": \"Protein\", \"marker\": {\"color\": \"#EF553B\", \"symbol\": \"circle\"}, \"mode\": \"markers\", \"name\": \"Protein\", \"orientation\": \"v\", \"showlegend\": true, \"type\": \"scatter\", \"x\": [4.0, 3.0, 4.0, 4.0, 2.0, 2.0, 2.0, 3.0, 2.0, 3.0, 1.0, 6.0, 1.0, 3.0, 1.0, 2.0, 2.0, 1.0, 1.0, 3.0, 3.0, 2.0, 2.0, 2.0, 2.0, 1.0, 3.0, 3.0, 3.0, 1.0, 2.0, 1.0, 3.0, 3.0, 3.0, 1.0, 3.0, 1.0, 2.0, 3.0, 2.0, 4.0, 2.0, 4.0, 4.0, 4.0, 3.0, 2.0, 2.0, 3.0, 3.0, 3.0, 3.0, 3.0, 1.0, 2.0, 4.0, 5.0, 3.0, 3.0, 2.0, 1.0, 2.0, 2.0, 3.0, 3.0, 2.0, 6.0, 2.0, 2.0, 3.0, 3.0, 2.0, 1.0, 3.0, 3.0, 2.0], \"xaxis\": \"x\", \"y\": [68.402973, 33.983678999999995, 59.425505, 93.704912, 34.384843, 29.509541, 33.174094000000004, 37.038562, 49.120253000000005, 53.313813, 18.042851000000002, 50.764998999999996, 19.823573, 40.400208, 22.736446, 41.445019, 45.863324, 35.782790999999996, 22.396513, 40.448772, 64.533816, 46.895644, 36.176196000000004, 44.330856, 32.207582, 31.435972999999997, 58.345141000000005, 40.917047, 41.015492, 28.025765000000003, 35.252444, 23.804043, 52.076896999999995, 53.37100699999999, 45.811716, 21.871292, 31.072217, 28.742414, 36.523683, 36.471512, 39.241114, 45.328074, 26.734515000000002, 54.850917, 37.136863, 34.139765000000004, 30.313351, 40.105965000000005, 29.924284999999998, 40.69232, 59.642837, 30.450843, 37.840594, 41.50354, 60.756112, 63.005644999999994, 49.511874, 50.828392, 39.259197, 39.7034, 55.333142, 41.998933, 40.560159000000006, 68.235885, 74.472949, 72.801787, 31.230054, 53.131324, 59.36399300000001, 38.839746000000005, 28.592785, 46.658844, 39.106173999999996, 27.753301, 49.787445, 51.592193, 36.187559], \"yaxis\": \"y\"}, {\"hovertemplate\": \"<b>OLS trendline</b><br>Rating = 6.03852 * value + 27.2949<br>R<sup>2</sup>=0.221482<br><br>variable=Protein<br>value=%{x}<br>Rating (%)=%{y:.2f} <b>(trend)</b><extra></extra>\", \"legendgroup\": \"Protein\", \"marker\": {\"color\": \"#EF553B\", \"symbol\": \"circle\"}, \"mode\": \"lines\", \"name\": \"Protein\", \"showlegend\": false, \"type\": \"scatter\", \"x\": [1.0, 1.0, 1.0, 1.0, 1.0, 1.0, 1.0, 1.0, 1.0, 1.0, 1.0, 1.0, 1.0, 2.0, 2.0, 2.0, 2.0, 2.0, 2.0, 2.0, 2.0, 2.0, 2.0, 2.0, 2.0, 2.0, 2.0, 2.0, 2.0, 2.0, 2.0, 2.0, 2.0, 2.0, 2.0, 2.0, 2.0, 2.0, 3.0, 3.0, 3.0, 3.0, 3.0, 3.0, 3.0, 3.0, 3.0, 3.0, 3.0, 3.0, 3.0, 3.0, 3.0, 3.0, 3.0, 3.0, 3.0, 3.0, 3.0, 3.0, 3.0, 3.0, 3.0, 3.0, 3.0, 3.0, 4.0, 4.0, 4.0, 4.0, 4.0, 4.0, 4.0, 4.0, 5.0, 6.0, 6.0], \"xaxis\": \"x\", \"y\": [33.33344162745935, 33.33344162745935, 33.33344162745935, 33.33344162745935, 33.33344162745935, 33.33344162745935, 33.33344162745935, 33.33344162745935, 33.33344162745935, 33.33344162745935, 33.33344162745935, 33.33344162745935, 33.33344162745935, 39.37196497775875, 39.37196497775875, 39.37196497775875, 39.37196497775875, 39.37196497775875, 39.37196497775875, 39.37196497775875, 39.37196497775875, 39.37196497775875, 39.37196497775875, 39.37196497775875, 39.37196497775875, 39.37196497775875, 39.37196497775875, 39.37196497775875, 39.37196497775875, 39.37196497775875, 39.37196497775875, 39.37196497775875, 39.37196497775875, 39.37196497775875, 39.37196497775875, 39.37196497775875, 39.37196497775875, 39.37196497775875, 45.41048832805816, 45.41048832805816, 45.41048832805816, 45.41048832805816, 45.41048832805816, 45.41048832805816, 45.41048832805816, 45.41048832805816, 45.41048832805816, 45.41048832805816, 45.41048832805816, 45.41048832805816, 45.41048832805816, 45.41048832805816, 45.41048832805816, 45.41048832805816, 45.41048832805816, 45.41048832805816, 45.41048832805816, 45.41048832805816, 45.41048832805816, 45.41048832805816, 45.41048832805816, 45.41048832805816, 45.41048832805816, 45.41048832805816, 45.41048832805816, 45.41048832805816, 51.449011678357564, 51.449011678357564, 51.449011678357564, 51.449011678357564, 51.449011678357564, 51.449011678357564, 51.449011678357564, 51.449011678357564, 57.487535028656964, 63.526058378956364, 63.526058378956364], \"yaxis\": \"y\"}, {\"customdata\": [[68.402973], [33.983678999999995], [59.425505], [93.704912], [34.384843], [29.509541], [33.174094000000004], [37.038562], [49.120253000000005], [53.313813], [18.042851000000002], [50.764998999999996], [19.823573], [40.400208], [22.736446], [41.445019], [45.863324], [35.782790999999996], [22.396513], [40.448772], [64.533816], [46.895644], [36.176196000000004], [44.330856], [32.207582], [31.435972999999997], [58.345141000000005], [40.917047], [41.015492], [28.025765000000003], [35.252444], [23.804043], [52.076896999999995], [53.37100699999999], [45.811716], [21.871292], [31.072217], [28.742414], [36.523683], [36.471512], [39.241114], [45.328074], [26.734515000000002], [54.850917], [37.136863], [34.139765000000004], [30.313351], [40.105965000000005], [29.924284999999998], [40.69232], [59.642837], [30.450843], [37.840594], [41.50354], [60.756112], [63.005644999999994], [49.511874], [50.828392], [39.259197], [39.7034], [55.333142], [41.998933], [40.560159000000006], [68.235885], [74.472949], [72.801787], [31.230054], [53.131324], [59.36399300000001], [38.839746000000005], [28.592785], [46.658844], [39.106173999999996], [27.753301], [49.787445], [51.592193], [36.187559]], \"hovertemplate\": \"<b>%{hovertext}</b><br><br>variable=Potassium<br>value=%{x}<br>Rating (%)=%{customdata[0]:.2f}<extra></extra>\", \"hovertext\": [\"100% Bran\", \"100% Natural Bran\", \"All-Bran\", \"All-Bran with Extra Fiber\", \"Almond Delight\", \"Apple Cinnamon Cheerios\", \"Apple Jacks\", \"Basic 4\", \"Bran Chex\", \"Bran Flakes\", \"Cap'n'Crunch\", \"Cheerios\", \"Cinnamon Toast Crunch\", \"Clusters\", \"Cocoa Puffs\", \"Corn Chex\", \"Corn Flakes\", \"Corn Pops\", \"Count Chocula\", \"Cracklin' Oat Bran\", \"Cream of Wheat (Quick)\", \"Crispix\", \"Crispy Wheat & Raisins\", \"Double Chex\", \"Froot Loops\", \"Frosted Flakes\", \"Frosted Mini-Wheats\", \"Fruit & Fibre Dates; Walnuts; and Oats\", \"Fruitful Bran\", \"Fruity Pebbles\", \"Golden Crisp\", \"Golden Grahams\", \"Grape Nuts Flakes\", \"Grape-Nuts\", \"Great Grains Pecan\", \"Honey Graham Ohs\", \"Honey Nut Cheerios\", \"Honey-comb\", \"Just Right Crunchy  Nuggets\", \"Just Right Fruit & Nut\", \"Kix\", \"Life\", \"Lucky Charms\", \"Maypo\", \"Muesli Raisins; Dates; & Almonds\", \"Muesli Raisins; Peaches; & Pecans\", \"Mueslix Crispy Blend\", \"Multi-Grain Cheerios\", \"Nut&Honey Crunch\", \"Nutri-Grain Almond-Raisin\", \"Nutri-grain Wheat\", \"Oatmeal Raisin Crisp\", \"Post Nat. Raisin Bran\", \"Product 19\", \"Puffed Rice\", \"Puffed Wheat\", \"Quaker Oat Squares\", \"Quaker Oatmeal\", \"Raisin Bran\", \"Raisin Nut Bran\", \"Raisin Squares\", \"Rice Chex\", \"Rice Krispies\", \"Shredded Wheat\", \"Shredded Wheat 'n'Bran\", \"Shredded Wheat spoon size\", \"Smacks\", \"Special K\", \"Strawberry Fruit Wheats\", \"Total Corn Flakes\", \"Total Raisin Bran\", \"Total Whole Grain\", \"Triples\", \"Trix\", \"Wheat Chex\", \"Wheaties\", \"Wheaties Honey Gold\"], \"legendgroup\": \"Potassium\", \"marker\": {\"color\": \"#00cc96\", \"symbol\": \"circle\"}, \"mode\": \"markers\", \"name\": \"Potassium\", \"orientation\": \"v\", \"showlegend\": true, \"type\": \"scatter\", \"x\": [280.0, 135.0, 320.0, 330.0, 0.0, 70.0, 30.0, 100.0, 125.0, 190.0, 35.0, 105.0, 45.0, 105.0, 55.0, 25.0, 35.0, 20.0, 65.0, 160.0, 0.0, 30.0, 120.0, 80.0, 30.0, 25.0, 100.0, 200.0, 190.0, 25.0, 40.0, 45.0, 85.0, 90.0, 100.0, 45.0, 90.0, 35.0, 60.0, 95.0, 40.0, 95.0, 55.0, 95.0, 170.0, 170.0, 160.0, 90.0, 40.0, 130.0, 90.0, 120.0, 260.0, 45.0, 15.0, 50.0, 110.0, 110.0, 240.0, 140.0, 110.0, 30.0, 35.0, 95.0, 140.0, 120.0, 40.0, 55.0, 90.0, 35.0, 230.0, 110.0, 60.0, 25.0, 115.0, 110.0, 60.0], \"xaxis\": \"x\", \"y\": [68.402973, 33.983678999999995, 59.425505, 93.704912, 34.384843, 29.509541, 33.174094000000004, 37.038562, 49.120253000000005, 53.313813, 18.042851000000002, 50.764998999999996, 19.823573, 40.400208, 22.736446, 41.445019, 45.863324, 35.782790999999996, 22.396513, 40.448772, 64.533816, 46.895644, 36.176196000000004, 44.330856, 32.207582, 31.435972999999997, 58.345141000000005, 40.917047, 41.015492, 28.025765000000003, 35.252444, 23.804043, 52.076896999999995, 53.37100699999999, 45.811716, 21.871292, 31.072217, 28.742414, 36.523683, 36.471512, 39.241114, 45.328074, 26.734515000000002, 54.850917, 37.136863, 34.139765000000004, 30.313351, 40.105965000000005, 29.924284999999998, 40.69232, 59.642837, 30.450843, 37.840594, 41.50354, 60.756112, 63.005644999999994, 49.511874, 50.828392, 39.259197, 39.7034, 55.333142, 41.998933, 40.560159000000006, 68.235885, 74.472949, 72.801787, 31.230054, 53.131324, 59.36399300000001, 38.839746000000005, 28.592785, 46.658844, 39.106173999999996, 27.753301, 49.787445, 51.592193, 36.187559], \"yaxis\": \"y\"}, {\"hovertemplate\": \"<b>OLS trendline</b><br>Rating = 0.075023 * value + 35.4557<br>R<sup>2</sup>=0.144806<br><br>variable=Potassium<br>value=%{x}<br>Rating (%)=%{y:.2f} <b>(trend)</b><extra></extra>\", \"legendgroup\": \"Potassium\", \"marker\": {\"color\": \"#00cc96\", \"symbol\": \"circle\"}, \"mode\": \"lines\", \"name\": \"Potassium\", \"showlegend\": false, \"type\": \"scatter\", \"x\": [0.0, 0.0, 15.0, 20.0, 25.0, 25.0, 25.0, 25.0, 30.0, 30.0, 30.0, 30.0, 35.0, 35.0, 35.0, 35.0, 35.0, 40.0, 40.0, 40.0, 40.0, 45.0, 45.0, 45.0, 45.0, 50.0, 55.0, 55.0, 55.0, 60.0, 60.0, 60.0, 65.0, 70.0, 80.0, 85.0, 90.0, 90.0, 90.0, 90.0, 90.0, 95.0, 95.0, 95.0, 95.0, 100.0, 100.0, 100.0, 105.0, 105.0, 110.0, 110.0, 110.0, 110.0, 110.0, 115.0, 120.0, 120.0, 120.0, 125.0, 130.0, 135.0, 140.0, 140.0, 160.0, 160.0, 170.0, 170.0, 190.0, 190.0, 200.0, 230.0, 240.0, 260.0, 280.0, 320.0, 330.0], \"xaxis\": \"x\", \"y\": [35.45570207280622, 35.45570207280622, 36.58104712225335, 36.956162138735735, 37.33127715521811, 37.33127715521811, 37.33127715521811, 37.33127715521811, 37.70639217170049, 37.70639217170049, 37.70639217170049, 37.70639217170049, 38.08150718818287, 38.08150718818287, 38.08150718818287, 38.08150718818287, 38.08150718818287, 38.45662220466525, 38.45662220466525, 38.45662220466525, 38.45662220466525, 38.83173722114763, 38.83173722114763, 38.83173722114763, 38.83173722114763, 39.20685223763001, 39.581967254112385, 39.581967254112385, 39.581967254112385, 39.95708227059477, 39.95708227059477, 39.95708227059477, 40.33219728707714, 40.707312303559526, 41.457542336524284, 41.83265735300666, 42.20777236948904, 42.20777236948904, 42.20777236948904, 42.20777236948904, 42.20777236948904, 42.58288738597142, 42.58288738597142, 42.58288738597142, 42.58288738597142, 42.9580024024538, 42.9580024024538, 42.9580024024538, 43.333117418936176, 43.333117418936176, 43.70823243541855, 43.70823243541855, 43.70823243541855, 43.70823243541855, 43.70823243541855, 44.083347451900934, 44.45846246838332, 44.45846246838332, 44.45846246838332, 44.83357748486569, 45.20869250134807, 45.58380751783045, 45.95892253431283, 45.95892253431283, 47.45938260024235, 47.45938260024235, 48.2096126332071, 48.2096126332071, 49.71007269913662, 49.71007269913662, 50.460302732101376, 52.71099283099565, 53.46122286396041, 54.961682929889925, 56.46214299581944, 59.463063127678474, 60.21329316064323], \"yaxis\": \"y\"}],                        {\"legend\": {\"title\": {\"text\": \"variable\"}, \"tracegroupgap\": 0}, \"margin\": {\"t\": 60}, \"template\": {\"data\": {\"bar\": [{\"error_x\": {\"color\": \"#2a3f5f\"}, \"error_y\": {\"color\": \"#2a3f5f\"}, \"marker\": {\"line\": {\"color\": \"#E5ECF6\", \"width\": 0.5}}, \"type\": \"bar\"}], \"barpolar\": [{\"marker\": {\"line\": {\"color\": \"#E5ECF6\", \"width\": 0.5}}, \"type\": \"barpolar\"}], \"carpet\": [{\"aaxis\": {\"endlinecolor\": \"#2a3f5f\", \"gridcolor\": \"white\", \"linecolor\": \"white\", \"minorgridcolor\": \"white\", \"startlinecolor\": \"#2a3f5f\"}, \"baxis\": {\"endlinecolor\": \"#2a3f5f\", \"gridcolor\": \"white\", \"linecolor\": \"white\", \"minorgridcolor\": \"white\", \"startlinecolor\": \"#2a3f5f\"}, \"type\": \"carpet\"}], \"choropleth\": [{\"colorbar\": {\"outlinewidth\": 0, \"ticks\": \"\"}, \"type\": \"choropleth\"}], \"contour\": [{\"colorbar\": {\"outlinewidth\": 0, \"ticks\": \"\"}, \"colorscale\": [[0.0, \"#0d0887\"], [0.1111111111111111, \"#46039f\"], [0.2222222222222222, \"#7201a8\"], [0.3333333333333333, \"#9c179e\"], [0.4444444444444444, \"#bd3786\"], [0.5555555555555556, \"#d8576b\"], [0.6666666666666666, \"#ed7953\"], [0.7777777777777778, \"#fb9f3a\"], [0.8888888888888888, \"#fdca26\"], [1.0, \"#f0f921\"]], \"type\": \"contour\"}], \"contourcarpet\": [{\"colorbar\": {\"outlinewidth\": 0, \"ticks\": \"\"}, \"type\": \"contourcarpet\"}], \"heatmap\": [{\"colorbar\": {\"outlinewidth\": 0, \"ticks\": \"\"}, \"colorscale\": [[0.0, \"#0d0887\"], [0.1111111111111111, \"#46039f\"], [0.2222222222222222, \"#7201a8\"], [0.3333333333333333, \"#9c179e\"], [0.4444444444444444, \"#bd3786\"], [0.5555555555555556, \"#d8576b\"], [0.6666666666666666, \"#ed7953\"], [0.7777777777777778, \"#fb9f3a\"], [0.8888888888888888, \"#fdca26\"], [1.0, \"#f0f921\"]], \"type\": \"heatmap\"}], \"heatmapgl\": [{\"colorbar\": {\"outlinewidth\": 0, \"ticks\": \"\"}, \"colorscale\": [[0.0, \"#0d0887\"], [0.1111111111111111, \"#46039f\"], [0.2222222222222222, \"#7201a8\"], [0.3333333333333333, \"#9c179e\"], [0.4444444444444444, \"#bd3786\"], [0.5555555555555556, \"#d8576b\"], [0.6666666666666666, \"#ed7953\"], [0.7777777777777778, \"#fb9f3a\"], [0.8888888888888888, \"#fdca26\"], [1.0, \"#f0f921\"]], \"type\": \"heatmapgl\"}], \"histogram\": [{\"marker\": {\"colorbar\": {\"outlinewidth\": 0, \"ticks\": \"\"}}, \"type\": \"histogram\"}], \"histogram2d\": [{\"colorbar\": {\"outlinewidth\": 0, \"ticks\": \"\"}, \"colorscale\": [[0.0, \"#0d0887\"], [0.1111111111111111, \"#46039f\"], [0.2222222222222222, \"#7201a8\"], [0.3333333333333333, \"#9c179e\"], [0.4444444444444444, \"#bd3786\"], [0.5555555555555556, \"#d8576b\"], [0.6666666666666666, \"#ed7953\"], [0.7777777777777778, \"#fb9f3a\"], [0.8888888888888888, \"#fdca26\"], [1.0, \"#f0f921\"]], \"type\": \"histogram2d\"}], \"histogram2dcontour\": [{\"colorbar\": {\"outlinewidth\": 0, \"ticks\": \"\"}, \"colorscale\": [[0.0, \"#0d0887\"], [0.1111111111111111, \"#46039f\"], [0.2222222222222222, \"#7201a8\"], [0.3333333333333333, \"#9c179e\"], [0.4444444444444444, \"#bd3786\"], [0.5555555555555556, \"#d8576b\"], [0.6666666666666666, \"#ed7953\"], [0.7777777777777778, \"#fb9f3a\"], [0.8888888888888888, \"#fdca26\"], [1.0, \"#f0f921\"]], \"type\": \"histogram2dcontour\"}], \"mesh3d\": [{\"colorbar\": {\"outlinewidth\": 0, \"ticks\": \"\"}, \"type\": \"mesh3d\"}], \"parcoords\": [{\"line\": {\"colorbar\": {\"outlinewidth\": 0, \"ticks\": \"\"}}, \"type\": \"parcoords\"}], \"pie\": [{\"automargin\": true, \"type\": \"pie\"}], \"scatter\": [{\"marker\": {\"colorbar\": {\"outlinewidth\": 0, \"ticks\": \"\"}}, \"type\": \"scatter\"}], \"scatter3d\": [{\"line\": {\"colorbar\": {\"outlinewidth\": 0, \"ticks\": \"\"}}, \"marker\": {\"colorbar\": {\"outlinewidth\": 0, \"ticks\": \"\"}}, \"type\": \"scatter3d\"}], \"scattercarpet\": [{\"marker\": {\"colorbar\": {\"outlinewidth\": 0, \"ticks\": \"\"}}, \"type\": \"scattercarpet\"}], \"scattergeo\": [{\"marker\": {\"colorbar\": {\"outlinewidth\": 0, \"ticks\": \"\"}}, \"type\": \"scattergeo\"}], \"scattergl\": [{\"marker\": {\"colorbar\": {\"outlinewidth\": 0, \"ticks\": \"\"}}, \"type\": \"scattergl\"}], \"scattermapbox\": [{\"marker\": {\"colorbar\": {\"outlinewidth\": 0, \"ticks\": \"\"}}, \"type\": \"scattermapbox\"}], \"scatterpolar\": [{\"marker\": {\"colorbar\": {\"outlinewidth\": 0, \"ticks\": \"\"}}, \"type\": \"scatterpolar\"}], \"scatterpolargl\": [{\"marker\": {\"colorbar\": {\"outlinewidth\": 0, \"ticks\": \"\"}}, \"type\": \"scatterpolargl\"}], \"scatterternary\": [{\"marker\": {\"colorbar\": {\"outlinewidth\": 0, \"ticks\": \"\"}}, \"type\": \"scatterternary\"}], \"surface\": [{\"colorbar\": {\"outlinewidth\": 0, \"ticks\": \"\"}, \"colorscale\": [[0.0, \"#0d0887\"], [0.1111111111111111, \"#46039f\"], [0.2222222222222222, \"#7201a8\"], [0.3333333333333333, \"#9c179e\"], [0.4444444444444444, \"#bd3786\"], [0.5555555555555556, \"#d8576b\"], [0.6666666666666666, \"#ed7953\"], [0.7777777777777778, \"#fb9f3a\"], [0.8888888888888888, \"#fdca26\"], [1.0, \"#f0f921\"]], \"type\": \"surface\"}], \"table\": [{\"cells\": {\"fill\": {\"color\": \"#EBF0F8\"}, \"line\": {\"color\": \"white\"}}, \"header\": {\"fill\": {\"color\": \"#C8D4E3\"}, \"line\": {\"color\": \"white\"}}, \"type\": \"table\"}]}, \"layout\": {\"annotationdefaults\": {\"arrowcolor\": \"#2a3f5f\", \"arrowhead\": 0, \"arrowwidth\": 1}, \"coloraxis\": {\"colorbar\": {\"outlinewidth\": 0, \"ticks\": \"\"}}, \"colorscale\": {\"diverging\": [[0, \"#8e0152\"], [0.1, \"#c51b7d\"], [0.2, \"#de77ae\"], [0.3, \"#f1b6da\"], [0.4, \"#fde0ef\"], [0.5, \"#f7f7f7\"], [0.6, \"#e6f5d0\"], [0.7, \"#b8e186\"], [0.8, \"#7fbc41\"], [0.9, \"#4d9221\"], [1, \"#276419\"]], \"sequential\": [[0.0, \"#0d0887\"], [0.1111111111111111, \"#46039f\"], [0.2222222222222222, \"#7201a8\"], [0.3333333333333333, \"#9c179e\"], [0.4444444444444444, \"#bd3786\"], [0.5555555555555556, \"#d8576b\"], [0.6666666666666666, \"#ed7953\"], [0.7777777777777778, \"#fb9f3a\"], [0.8888888888888888, \"#fdca26\"], [1.0, \"#f0f921\"]], \"sequentialminus\": [[0.0, \"#0d0887\"], [0.1111111111111111, \"#46039f\"], [0.2222222222222222, \"#7201a8\"], [0.3333333333333333, \"#9c179e\"], [0.4444444444444444, \"#bd3786\"], [0.5555555555555556, \"#d8576b\"], [0.6666666666666666, \"#ed7953\"], [0.7777777777777778, \"#fb9f3a\"], [0.8888888888888888, \"#fdca26\"], [1.0, \"#f0f921\"]]}, \"colorway\": [\"#636efa\", \"#EF553B\", \"#00cc96\", \"#ab63fa\", \"#FFA15A\", \"#19d3f3\", \"#FF6692\", \"#B6E880\", \"#FF97FF\", \"#FECB52\"], \"font\": {\"color\": \"#2a3f5f\"}, \"geo\": {\"bgcolor\": \"white\", \"lakecolor\": \"white\", \"landcolor\": \"#E5ECF6\", \"showlakes\": true, \"showland\": true, \"subunitcolor\": \"white\"}, \"hoverlabel\": {\"align\": \"left\"}, \"hovermode\": \"closest\", \"mapbox\": {\"style\": \"light\"}, \"paper_bgcolor\": \"white\", \"plot_bgcolor\": \"#E5ECF6\", \"polar\": {\"angularaxis\": {\"gridcolor\": \"white\", \"linecolor\": \"white\", \"ticks\": \"\"}, \"bgcolor\": \"#E5ECF6\", \"radialaxis\": {\"gridcolor\": \"white\", \"linecolor\": \"white\", \"ticks\": \"\"}}, \"scene\": {\"xaxis\": {\"backgroundcolor\": \"#E5ECF6\", \"gridcolor\": \"white\", \"gridwidth\": 2, \"linecolor\": \"white\", \"showbackground\": true, \"ticks\": \"\", \"zerolinecolor\": \"white\"}, \"yaxis\": {\"backgroundcolor\": \"#E5ECF6\", \"gridcolor\": \"white\", \"gridwidth\": 2, \"linecolor\": \"white\", \"showbackground\": true, \"ticks\": \"\", \"zerolinecolor\": \"white\"}, \"zaxis\": {\"backgroundcolor\": \"#E5ECF6\", \"gridcolor\": \"white\", \"gridwidth\": 2, \"linecolor\": \"white\", \"showbackground\": true, \"ticks\": \"\", \"zerolinecolor\": \"white\"}}, \"shapedefaults\": {\"line\": {\"color\": \"#2a3f5f\"}}, \"ternary\": {\"aaxis\": {\"gridcolor\": \"white\", \"linecolor\": \"white\", \"ticks\": \"\"}, \"baxis\": {\"gridcolor\": \"white\", \"linecolor\": \"white\", \"ticks\": \"\"}, \"bgcolor\": \"#E5ECF6\", \"caxis\": {\"gridcolor\": \"white\", \"linecolor\": \"white\", \"ticks\": \"\"}}, \"title\": {\"x\": 0.05}, \"xaxis\": {\"automargin\": true, \"gridcolor\": \"white\", \"linecolor\": \"white\", \"ticks\": \"\", \"title\": {\"standoff\": 15}, \"zerolinecolor\": \"white\", \"zerolinewidth\": 2}, \"yaxis\": {\"automargin\": true, \"gridcolor\": \"white\", \"linecolor\": \"white\", \"ticks\": \"\", \"title\": {\"standoff\": 15}, \"zerolinecolor\": \"white\", \"zerolinewidth\": 2}}}, \"xaxis\": {\"anchor\": \"y\", \"domain\": [0.0, 1.0], \"title\": {\"text\": \"value\"}}, \"yaxis\": {\"anchor\": \"x\", \"domain\": [0.0, 1.0], \"title\": {\"text\": \"Rating (%)\"}}},                        {\"responsive\": true}                    ).then(function(){\n",
       "                            \n",
       "var gd = document.getElementById('380e2d77-e0c5-4357-98ed-0d35199af0ca');\n",
       "var x = new MutationObserver(function (mutations, observer) {{\n",
       "        var display = window.getComputedStyle(gd).display;\n",
       "        if (!display || display === 'none') {{\n",
       "            console.log([gd, 'removed!']);\n",
       "            Plotly.purge(gd);\n",
       "            observer.disconnect();\n",
       "        }}\n",
       "}});\n",
       "\n",
       "// Listen for the removal of the full notebook cells\n",
       "var notebookContainer = gd.closest('#notebook-container');\n",
       "if (notebookContainer) {{\n",
       "    x.observe(notebookContainer, {childList: true});\n",
       "}}\n",
       "\n",
       "// Listen for the clearing of the current output cell\n",
       "var outputEl = gd.closest('.output');\n",
       "if (outputEl) {{\n",
       "    x.observe(outputEl, {childList: true});\n",
       "}}\n",
       "\n",
       "                        })                };                });            </script>        </div>"
      ]
     },
     "metadata": {},
     "output_type": "display_data"
    }
   ],
   "source": [
    "px.scatter(df,x=[\"Fiber\",\"Protein\",\"Potassium\"],y=\"Rating\",trendline=\"ols\",\n",
    "           labels={\"Rating\":\"Rating (%)\"},\n",
    "           hover_name=\"Name\",hover_data={\"Rating\":\":.2f\"})"
   ]
  },
  {
   "cell_type": "markdown",
   "metadata": {
    "papermill": {
     "duration": 0.043994,
     "end_time": "2020-12-30T13:11:16.190608",
     "exception": false,
     "start_time": "2020-12-30T13:11:16.146614",
     "status": "completed"
    },
    "tags": []
   },
   "source": [
    "*Fibre*, *protein* and *potassium* are the most correlated variables in decreasing order to a cereal's *rating*. Seems like people are opting for healthier cereals."
   ]
  },
  {
   "cell_type": "markdown",
   "metadata": {
    "papermill": {
     "duration": 0.044396,
     "end_time": "2020-12-30T13:11:16.279376",
     "exception": false,
     "start_time": "2020-12-30T13:11:16.234980",
     "status": "completed"
    },
    "tags": []
   },
   "source": [
    "Given a completely new cereal that you have never tried before, would it be possible to determine its rating?"
   ]
  },
  {
   "cell_type": "markdown",
   "metadata": {
    "papermill": {
     "duration": 0.043138,
     "end_time": "2020-12-30T13:11:16.367237",
     "exception": false,
     "start_time": "2020-12-30T13:11:16.324099",
     "status": "completed"
    },
    "tags": []
   },
   "source": [
    "1. Clean the dataset to get rid of any categorical variables (i.e. *Manufacturer* and *Type*) by getting dummies and dropping the original columns:"
   ]
  },
  {
   "cell_type": "code",
   "execution_count": 25,
   "metadata": {
    "execution": {
     "iopub.execute_input": "2020-12-30T13:11:16.466094Z",
     "iopub.status.busy": "2020-12-30T13:11:16.465453Z",
     "iopub.status.idle": "2020-12-30T13:11:16.468797Z",
     "shell.execute_reply": "2020-12-30T13:11:16.468063Z"
    },
    "papermill": {
     "duration": 0.057689,
     "end_time": "2020-12-30T13:11:16.468934",
     "exception": false,
     "start_time": "2020-12-30T13:11:16.411245",
     "status": "completed"
    },
    "tags": []
   },
   "outputs": [],
   "source": [
    "df=pd.concat([df,pd.get_dummies(df[\"Manufacturer\"])],axis=1)"
   ]
  },
  {
   "cell_type": "code",
   "execution_count": 26,
   "metadata": {
    "execution": {
     "iopub.execute_input": "2020-12-30T13:11:16.566564Z",
     "iopub.status.busy": "2020-12-30T13:11:16.565730Z",
     "iopub.status.idle": "2020-12-30T13:11:16.569215Z",
     "shell.execute_reply": "2020-12-30T13:11:16.568666Z"
    },
    "papermill": {
     "duration": 0.056637,
     "end_time": "2020-12-30T13:11:16.569349",
     "exception": false,
     "start_time": "2020-12-30T13:11:16.512712",
     "status": "completed"
    },
    "tags": []
   },
   "outputs": [],
   "source": [
    "df=pd.concat([df,pd.get_dummies(df[\"Type\"])[\"C\"]],axis=1)"
   ]
  },
  {
   "cell_type": "code",
   "execution_count": 27,
   "metadata": {
    "execution": {
     "iopub.execute_input": "2020-12-30T13:11:16.666806Z",
     "iopub.status.busy": "2020-12-30T13:11:16.665776Z",
     "iopub.status.idle": "2020-12-30T13:11:16.669067Z",
     "shell.execute_reply": "2020-12-30T13:11:16.668479Z"
    },
    "papermill": {
     "duration": 0.054311,
     "end_time": "2020-12-30T13:11:16.669191",
     "exception": false,
     "start_time": "2020-12-30T13:11:16.614880",
     "status": "completed"
    },
    "tags": []
   },
   "outputs": [],
   "source": [
    "df.rename(columns={\"C\":\"Cold\"},inplace=True)"
   ]
  },
  {
   "cell_type": "code",
   "execution_count": 28,
   "metadata": {
    "execution": {
     "iopub.execute_input": "2020-12-30T13:11:16.767082Z",
     "iopub.status.busy": "2020-12-30T13:11:16.765925Z",
     "iopub.status.idle": "2020-12-30T13:11:16.769416Z",
     "shell.execute_reply": "2020-12-30T13:11:16.768735Z"
    },
    "papermill": {
     "duration": 0.055792,
     "end_time": "2020-12-30T13:11:16.769536",
     "exception": false,
     "start_time": "2020-12-30T13:11:16.713744",
     "status": "completed"
    },
    "tags": []
   },
   "outputs": [],
   "source": [
    "df.drop([\"Manufacturer\",\"Type\"],axis=1,inplace=True)"
   ]
  },
  {
   "cell_type": "markdown",
   "metadata": {
    "papermill": {
     "duration": 0.043464,
     "end_time": "2020-12-30T13:11:16.857285",
     "exception": false,
     "start_time": "2020-12-30T13:11:16.813821",
     "status": "completed"
    },
    "tags": []
   },
   "source": [
    "2. Also drop any unnecessary variables (i.e. *name* and *shelf*):"
   ]
  },
  {
   "cell_type": "code",
   "execution_count": 29,
   "metadata": {
    "execution": {
     "iopub.execute_input": "2020-12-30T13:11:16.953819Z",
     "iopub.status.busy": "2020-12-30T13:11:16.952624Z",
     "iopub.status.idle": "2020-12-30T13:11:16.956933Z",
     "shell.execute_reply": "2020-12-30T13:11:16.956198Z"
    },
    "papermill": {
     "duration": 0.054766,
     "end_time": "2020-12-30T13:11:16.957058",
     "exception": false,
     "start_time": "2020-12-30T13:11:16.902292",
     "status": "completed"
    },
    "tags": []
   },
   "outputs": [],
   "source": [
    "df.drop([\"Name\",\"Shelf\"],axis=1,inplace=True)"
   ]
  },
  {
   "cell_type": "markdown",
   "metadata": {
    "papermill": {
     "duration": 0.047365,
     "end_time": "2020-12-30T13:11:17.051808",
     "exception": false,
     "start_time": "2020-12-30T13:11:17.004443",
     "status": "completed"
    },
    "tags": []
   },
   "source": [
    "3. Split the data into the training and testing set:"
   ]
  },
  {
   "cell_type": "code",
   "execution_count": 30,
   "metadata": {
    "execution": {
     "iopub.execute_input": "2020-12-30T13:11:17.153278Z",
     "iopub.status.busy": "2020-12-30T13:11:17.152220Z",
     "iopub.status.idle": "2020-12-30T13:11:17.357682Z",
     "shell.execute_reply": "2020-12-30T13:11:17.357068Z"
    },
    "papermill": {
     "duration": 0.26006,
     "end_time": "2020-12-30T13:11:17.357808",
     "exception": false,
     "start_time": "2020-12-30T13:11:17.097748",
     "status": "completed"
    },
    "tags": []
   },
   "outputs": [],
   "source": [
    "from sklearn.model_selection import train_test_split\n",
    "\n",
    "x=df.drop([\"Rating\"],axis=1)\n",
    "y=df[\"Rating\"]\n",
    "\n",
    "x_train,x_test,y_train,y_test=train_test_split(x,y,test_size=0.25,random_state=7)"
   ]
  },
  {
   "cell_type": "code",
   "execution_count": 31,
   "metadata": {
    "execution": {
     "iopub.execute_input": "2020-12-30T13:11:17.505873Z",
     "iopub.status.busy": "2020-12-30T13:11:17.504819Z",
     "iopub.status.idle": "2020-12-30T13:11:17.509834Z",
     "shell.execute_reply": "2020-12-30T13:11:17.509246Z"
    },
    "papermill": {
     "duration": 0.105284,
     "end_time": "2020-12-30T13:11:17.510151",
     "exception": false,
     "start_time": "2020-12-30T13:11:17.404867",
     "status": "completed"
    },
    "tags": []
   },
   "outputs": [
    {
     "name": "stdout",
     "output_type": "stream",
     "text": [
      "x train shape (57, 19) and y train shape (57,)\n"
     ]
    }
   ],
   "source": [
    "print(\"x train shape\",x_train.shape,\"and y train shape\",y_train.shape)"
   ]
  },
  {
   "cell_type": "code",
   "execution_count": 32,
   "metadata": {
    "execution": {
     "iopub.execute_input": "2020-12-30T13:11:17.617530Z",
     "iopub.status.busy": "2020-12-30T13:11:17.616818Z",
     "iopub.status.idle": "2020-12-30T13:11:17.623976Z",
     "shell.execute_reply": "2020-12-30T13:11:17.622965Z"
    },
    "papermill": {
     "duration": 0.060533,
     "end_time": "2020-12-30T13:11:17.624115",
     "exception": false,
     "start_time": "2020-12-30T13:11:17.563582",
     "status": "completed"
    },
    "tags": []
   },
   "outputs": [
    {
     "name": "stdout",
     "output_type": "stream",
     "text": [
      "x test shape (20, 19) and y test shape (20,)\n"
     ]
    }
   ],
   "source": [
    "print(\"x test shape\",x_test.shape,\"and y test shape\",y_test.shape)"
   ]
  },
  {
   "cell_type": "markdown",
   "metadata": {
    "papermill": {
     "duration": 0.045391,
     "end_time": "2020-12-30T13:11:17.720405",
     "exception": false,
     "start_time": "2020-12-30T13:11:17.675014",
     "status": "completed"
    },
    "tags": []
   },
   "source": [
    "4. Scale the data to ensure columns with larger numbers don't give a higher weighting:"
   ]
  },
  {
   "cell_type": "code",
   "execution_count": 33,
   "metadata": {
    "execution": {
     "iopub.execute_input": "2020-12-30T13:11:17.834752Z",
     "iopub.status.busy": "2020-12-30T13:11:17.831555Z",
     "iopub.status.idle": "2020-12-30T13:11:17.837949Z",
     "shell.execute_reply": "2020-12-30T13:11:17.838446Z"
    },
    "papermill": {
     "duration": 0.071379,
     "end_time": "2020-12-30T13:11:17.838659",
     "exception": false,
     "start_time": "2020-12-30T13:11:17.767280",
     "status": "completed"
    },
    "tags": []
   },
   "outputs": [],
   "source": [
    "from sklearn.preprocessing import StandardScaler\n",
    "\n",
    "scaler=StandardScaler()\n",
    "x_train=scaler.fit_transform(x_train)\n",
    "x_test=scaler.transform(x_test)"
   ]
  },
  {
   "cell_type": "markdown",
   "metadata": {
    "papermill": {
     "duration": 0.051459,
     "end_time": "2020-12-30T13:11:17.937217",
     "exception": false,
     "start_time": "2020-12-30T13:11:17.885758",
     "status": "completed"
    },
    "tags": []
   },
   "source": [
    "5. Create, fit and predict the model:"
   ]
  },
  {
   "cell_type": "code",
   "execution_count": 34,
   "metadata": {
    "execution": {
     "iopub.execute_input": "2020-12-30T13:11:18.040259Z",
     "iopub.status.busy": "2020-12-30T13:11:18.039569Z",
     "iopub.status.idle": "2020-12-30T13:11:18.267697Z",
     "shell.execute_reply": "2020-12-30T13:11:18.266894Z"
    },
    "papermill": {
     "duration": 0.283885,
     "end_time": "2020-12-30T13:11:18.267841",
     "exception": false,
     "start_time": "2020-12-30T13:11:17.983956",
     "status": "completed"
    },
    "tags": []
   },
   "outputs": [],
   "source": [
    "from sklearn.neighbors import KNeighborsRegressor\n",
    "\n",
    "model=KNeighborsRegressor(n_neighbors=5)\n",
    "model.fit(x_train,y_train)\n",
    "y_predict=model.predict(x_test)"
   ]
  },
  {
   "cell_type": "markdown",
   "metadata": {
    "papermill": {
     "duration": 0.047114,
     "end_time": "2020-12-30T13:11:18.364142",
     "exception": false,
     "start_time": "2020-12-30T13:11:18.317028",
     "status": "completed"
    },
    "tags": []
   },
   "source": [
    "6. Evaluate the model:"
   ]
  },
  {
   "cell_type": "code",
   "execution_count": 35,
   "metadata": {
    "execution": {
     "iopub.execute_input": "2020-12-30T13:11:18.469255Z",
     "iopub.status.busy": "2020-12-30T13:11:18.466570Z",
     "iopub.status.idle": "2020-12-30T13:11:18.474557Z",
     "shell.execute_reply": "2020-12-30T13:11:18.473946Z"
    },
    "papermill": {
     "duration": 0.062293,
     "end_time": "2020-12-30T13:11:18.474694",
     "exception": false,
     "start_time": "2020-12-30T13:11:18.412401",
     "status": "completed"
    },
    "tags": []
   },
   "outputs": [
    {
     "data": {
      "text/plain": [
       "0.718367798190463"
      ]
     },
     "execution_count": 35,
     "metadata": {},
     "output_type": "execute_result"
    }
   ],
   "source": [
    "model.score(x_test,y_test)"
   ]
  },
  {
   "cell_type": "code",
   "execution_count": 36,
   "metadata": {
    "execution": {
     "iopub.execute_input": "2020-12-30T13:11:18.601138Z",
     "iopub.status.busy": "2020-12-30T13:11:18.599888Z",
     "iopub.status.idle": "2020-12-30T13:11:18.673997Z",
     "shell.execute_reply": "2020-12-30T13:11:18.673094Z"
    },
    "papermill": {
     "duration": 0.150742,
     "end_time": "2020-12-30T13:11:18.674162",
     "exception": false,
     "start_time": "2020-12-30T13:11:18.523420",
     "status": "completed"
    },
    "tags": []
   },
   "outputs": [
    {
     "data": {
      "application/vnd.plotly.v1+json": {
       "config": {
        "plotlyServerURL": "https://plot.ly"
       },
       "data": [
        {
         "alignmentgroup": "True",
         "bingroup": "x",
         "hovertemplate": "variable=Actual<br>value=%{x}<br>count=%{y}<extra></extra>",
         "legendgroup": "Actual",
         "marker": {
          "color": "#636efa",
          "opacity": 0.3
         },
         "name": "Actual",
         "nbinsx": 20,
         "offsetgroup": "Actual",
         "orientation": "v",
         "showlegend": true,
         "type": "histogram",
         "x": [
          60.756112,
          31.072217,
          39.7034,
          35.782790999999996,
          45.328074,
          19.823573,
          40.917047,
          41.445019,
          39.241114,
          59.425505,
          28.742414,
          40.400208,
          55.333142,
          35.252444,
          37.840594,
          41.998933,
          22.396513,
          36.176196000000004,
          64.533816,
          49.787445
         ],
         "xaxis": "x",
         "yaxis": "y"
        },
        {
         "alignmentgroup": "True",
         "boxpoints": "all",
         "fillcolor": "rgba(255,255,255,0)",
         "hoveron": "points",
         "hovertemplate": "variable=Actual<br>value=%{x}<extra></extra>",
         "jitter": 0,
         "legendgroup": "Actual",
         "line": {
          "color": "rgba(255,255,255,0)"
         },
         "marker": {
          "color": "#636efa",
          "symbol": "line-ns-open"
         },
         "name": "Actual",
         "offsetgroup": "Actual",
         "showlegend": false,
         "type": "box",
         "x": [
          60.756112,
          31.072217,
          39.7034,
          35.782790999999996,
          45.328074,
          19.823573,
          40.917047,
          41.445019,
          39.241114,
          59.425505,
          28.742414,
          40.400208,
          55.333142,
          35.252444,
          37.840594,
          41.998933,
          22.396513,
          36.176196000000004,
          64.533816,
          49.787445
         ],
         "xaxis": "x2",
         "yaxis": "y2"
        },
        {
         "alignmentgroup": "True",
         "bingroup": "x",
         "hovertemplate": "variable=Predicted<br>value=%{x}<br>count=%{y}<extra></extra>",
         "legendgroup": "Predicted",
         "marker": {
          "color": "#EF553B",
          "opacity": 0.3
         },
         "name": "Predicted",
         "nbinsx": 20,
         "offsetgroup": "Predicted",
         "orientation": "v",
         "showlegend": true,
         "type": "histogram",
         "x": [
          52.453506600000004,
          31.268324600000007,
          37.569220200000004,
          31.594397599999997,
          32.7716936,
          27.998178000000003,
          46.5198396,
          42.851887000000005,
          39.27571859999999,
          56.5662692,
          32.7533006,
          37.569220200000004,
          42.115657999999996,
          35.342878400000004,
          46.295423,
          43.058351,
          26.1075692,
          31.054805200000004,
          64.35405159999999,
          39.822516
         ],
         "xaxis": "x",
         "yaxis": "y"
        },
        {
         "alignmentgroup": "True",
         "boxpoints": "all",
         "fillcolor": "rgba(255,255,255,0)",
         "hoveron": "points",
         "hovertemplate": "variable=Predicted<br>value=%{x}<extra></extra>",
         "jitter": 0,
         "legendgroup": "Predicted",
         "line": {
          "color": "rgba(255,255,255,0)"
         },
         "marker": {
          "color": "#EF553B",
          "symbol": "line-ns-open"
         },
         "name": "Predicted",
         "offsetgroup": "Predicted",
         "showlegend": false,
         "type": "box",
         "x": [
          52.453506600000004,
          31.268324600000007,
          37.569220200000004,
          31.594397599999997,
          32.7716936,
          27.998178000000003,
          46.5198396,
          42.851887000000005,
          39.27571859999999,
          56.5662692,
          32.7533006,
          37.569220200000004,
          42.115657999999996,
          35.342878400000004,
          46.295423,
          43.058351,
          26.1075692,
          31.054805200000004,
          64.35405159999999,
          39.822516
         ],
         "xaxis": "x2",
         "yaxis": "y2"
        }
       ],
       "layout": {
        "barmode": "relative",
        "legend": {
         "title": {
          "text": "variable"
         },
         "tracegroupgap": 0
        },
        "template": {
         "data": {
          "bar": [
           {
            "error_x": {
             "color": "#2a3f5f"
            },
            "error_y": {
             "color": "#2a3f5f"
            },
            "marker": {
             "line": {
              "color": "#E5ECF6",
              "width": 0.5
             }
            },
            "type": "bar"
           }
          ],
          "barpolar": [
           {
            "marker": {
             "line": {
              "color": "#E5ECF6",
              "width": 0.5
             }
            },
            "type": "barpolar"
           }
          ],
          "carpet": [
           {
            "aaxis": {
             "endlinecolor": "#2a3f5f",
             "gridcolor": "white",
             "linecolor": "white",
             "minorgridcolor": "white",
             "startlinecolor": "#2a3f5f"
            },
            "baxis": {
             "endlinecolor": "#2a3f5f",
             "gridcolor": "white",
             "linecolor": "white",
             "minorgridcolor": "white",
             "startlinecolor": "#2a3f5f"
            },
            "type": "carpet"
           }
          ],
          "choropleth": [
           {
            "colorbar": {
             "outlinewidth": 0,
             "ticks": ""
            },
            "type": "choropleth"
           }
          ],
          "contour": [
           {
            "colorbar": {
             "outlinewidth": 0,
             "ticks": ""
            },
            "colorscale": [
             [
              0,
              "#0d0887"
             ],
             [
              0.1111111111111111,
              "#46039f"
             ],
             [
              0.2222222222222222,
              "#7201a8"
             ],
             [
              0.3333333333333333,
              "#9c179e"
             ],
             [
              0.4444444444444444,
              "#bd3786"
             ],
             [
              0.5555555555555556,
              "#d8576b"
             ],
             [
              0.6666666666666666,
              "#ed7953"
             ],
             [
              0.7777777777777778,
              "#fb9f3a"
             ],
             [
              0.8888888888888888,
              "#fdca26"
             ],
             [
              1,
              "#f0f921"
             ]
            ],
            "type": "contour"
           }
          ],
          "contourcarpet": [
           {
            "colorbar": {
             "outlinewidth": 0,
             "ticks": ""
            },
            "type": "contourcarpet"
           }
          ],
          "heatmap": [
           {
            "colorbar": {
             "outlinewidth": 0,
             "ticks": ""
            },
            "colorscale": [
             [
              0,
              "#0d0887"
             ],
             [
              0.1111111111111111,
              "#46039f"
             ],
             [
              0.2222222222222222,
              "#7201a8"
             ],
             [
              0.3333333333333333,
              "#9c179e"
             ],
             [
              0.4444444444444444,
              "#bd3786"
             ],
             [
              0.5555555555555556,
              "#d8576b"
             ],
             [
              0.6666666666666666,
              "#ed7953"
             ],
             [
              0.7777777777777778,
              "#fb9f3a"
             ],
             [
              0.8888888888888888,
              "#fdca26"
             ],
             [
              1,
              "#f0f921"
             ]
            ],
            "type": "heatmap"
           }
          ],
          "heatmapgl": [
           {
            "colorbar": {
             "outlinewidth": 0,
             "ticks": ""
            },
            "colorscale": [
             [
              0,
              "#0d0887"
             ],
             [
              0.1111111111111111,
              "#46039f"
             ],
             [
              0.2222222222222222,
              "#7201a8"
             ],
             [
              0.3333333333333333,
              "#9c179e"
             ],
             [
              0.4444444444444444,
              "#bd3786"
             ],
             [
              0.5555555555555556,
              "#d8576b"
             ],
             [
              0.6666666666666666,
              "#ed7953"
             ],
             [
              0.7777777777777778,
              "#fb9f3a"
             ],
             [
              0.8888888888888888,
              "#fdca26"
             ],
             [
              1,
              "#f0f921"
             ]
            ],
            "type": "heatmapgl"
           }
          ],
          "histogram": [
           {
            "marker": {
             "colorbar": {
              "outlinewidth": 0,
              "ticks": ""
             }
            },
            "type": "histogram"
           }
          ],
          "histogram2d": [
           {
            "colorbar": {
             "outlinewidth": 0,
             "ticks": ""
            },
            "colorscale": [
             [
              0,
              "#0d0887"
             ],
             [
              0.1111111111111111,
              "#46039f"
             ],
             [
              0.2222222222222222,
              "#7201a8"
             ],
             [
              0.3333333333333333,
              "#9c179e"
             ],
             [
              0.4444444444444444,
              "#bd3786"
             ],
             [
              0.5555555555555556,
              "#d8576b"
             ],
             [
              0.6666666666666666,
              "#ed7953"
             ],
             [
              0.7777777777777778,
              "#fb9f3a"
             ],
             [
              0.8888888888888888,
              "#fdca26"
             ],
             [
              1,
              "#f0f921"
             ]
            ],
            "type": "histogram2d"
           }
          ],
          "histogram2dcontour": [
           {
            "colorbar": {
             "outlinewidth": 0,
             "ticks": ""
            },
            "colorscale": [
             [
              0,
              "#0d0887"
             ],
             [
              0.1111111111111111,
              "#46039f"
             ],
             [
              0.2222222222222222,
              "#7201a8"
             ],
             [
              0.3333333333333333,
              "#9c179e"
             ],
             [
              0.4444444444444444,
              "#bd3786"
             ],
             [
              0.5555555555555556,
              "#d8576b"
             ],
             [
              0.6666666666666666,
              "#ed7953"
             ],
             [
              0.7777777777777778,
              "#fb9f3a"
             ],
             [
              0.8888888888888888,
              "#fdca26"
             ],
             [
              1,
              "#f0f921"
             ]
            ],
            "type": "histogram2dcontour"
           }
          ],
          "mesh3d": [
           {
            "colorbar": {
             "outlinewidth": 0,
             "ticks": ""
            },
            "type": "mesh3d"
           }
          ],
          "parcoords": [
           {
            "line": {
             "colorbar": {
              "outlinewidth": 0,
              "ticks": ""
             }
            },
            "type": "parcoords"
           }
          ],
          "pie": [
           {
            "automargin": true,
            "type": "pie"
           }
          ],
          "scatter": [
           {
            "marker": {
             "colorbar": {
              "outlinewidth": 0,
              "ticks": ""
             }
            },
            "type": "scatter"
           }
          ],
          "scatter3d": [
           {
            "line": {
             "colorbar": {
              "outlinewidth": 0,
              "ticks": ""
             }
            },
            "marker": {
             "colorbar": {
              "outlinewidth": 0,
              "ticks": ""
             }
            },
            "type": "scatter3d"
           }
          ],
          "scattercarpet": [
           {
            "marker": {
             "colorbar": {
              "outlinewidth": 0,
              "ticks": ""
             }
            },
            "type": "scattercarpet"
           }
          ],
          "scattergeo": [
           {
            "marker": {
             "colorbar": {
              "outlinewidth": 0,
              "ticks": ""
             }
            },
            "type": "scattergeo"
           }
          ],
          "scattergl": [
           {
            "marker": {
             "colorbar": {
              "outlinewidth": 0,
              "ticks": ""
             }
            },
            "type": "scattergl"
           }
          ],
          "scattermapbox": [
           {
            "marker": {
             "colorbar": {
              "outlinewidth": 0,
              "ticks": ""
             }
            },
            "type": "scattermapbox"
           }
          ],
          "scatterpolar": [
           {
            "marker": {
             "colorbar": {
              "outlinewidth": 0,
              "ticks": ""
             }
            },
            "type": "scatterpolar"
           }
          ],
          "scatterpolargl": [
           {
            "marker": {
             "colorbar": {
              "outlinewidth": 0,
              "ticks": ""
             }
            },
            "type": "scatterpolargl"
           }
          ],
          "scatterternary": [
           {
            "marker": {
             "colorbar": {
              "outlinewidth": 0,
              "ticks": ""
             }
            },
            "type": "scatterternary"
           }
          ],
          "surface": [
           {
            "colorbar": {
             "outlinewidth": 0,
             "ticks": ""
            },
            "colorscale": [
             [
              0,
              "#0d0887"
             ],
             [
              0.1111111111111111,
              "#46039f"
             ],
             [
              0.2222222222222222,
              "#7201a8"
             ],
             [
              0.3333333333333333,
              "#9c179e"
             ],
             [
              0.4444444444444444,
              "#bd3786"
             ],
             [
              0.5555555555555556,
              "#d8576b"
             ],
             [
              0.6666666666666666,
              "#ed7953"
             ],
             [
              0.7777777777777778,
              "#fb9f3a"
             ],
             [
              0.8888888888888888,
              "#fdca26"
             ],
             [
              1,
              "#f0f921"
             ]
            ],
            "type": "surface"
           }
          ],
          "table": [
           {
            "cells": {
             "fill": {
              "color": "#EBF0F8"
             },
             "line": {
              "color": "white"
             }
            },
            "header": {
             "fill": {
              "color": "#C8D4E3"
             },
             "line": {
              "color": "white"
             }
            },
            "type": "table"
           }
          ]
         },
         "layout": {
          "annotationdefaults": {
           "arrowcolor": "#2a3f5f",
           "arrowhead": 0,
           "arrowwidth": 1
          },
          "coloraxis": {
           "colorbar": {
            "outlinewidth": 0,
            "ticks": ""
           }
          },
          "colorscale": {
           "diverging": [
            [
             0,
             "#8e0152"
            ],
            [
             0.1,
             "#c51b7d"
            ],
            [
             0.2,
             "#de77ae"
            ],
            [
             0.3,
             "#f1b6da"
            ],
            [
             0.4,
             "#fde0ef"
            ],
            [
             0.5,
             "#f7f7f7"
            ],
            [
             0.6,
             "#e6f5d0"
            ],
            [
             0.7,
             "#b8e186"
            ],
            [
             0.8,
             "#7fbc41"
            ],
            [
             0.9,
             "#4d9221"
            ],
            [
             1,
             "#276419"
            ]
           ],
           "sequential": [
            [
             0,
             "#0d0887"
            ],
            [
             0.1111111111111111,
             "#46039f"
            ],
            [
             0.2222222222222222,
             "#7201a8"
            ],
            [
             0.3333333333333333,
             "#9c179e"
            ],
            [
             0.4444444444444444,
             "#bd3786"
            ],
            [
             0.5555555555555556,
             "#d8576b"
            ],
            [
             0.6666666666666666,
             "#ed7953"
            ],
            [
             0.7777777777777778,
             "#fb9f3a"
            ],
            [
             0.8888888888888888,
             "#fdca26"
            ],
            [
             1,
             "#f0f921"
            ]
           ],
           "sequentialminus": [
            [
             0,
             "#0d0887"
            ],
            [
             0.1111111111111111,
             "#46039f"
            ],
            [
             0.2222222222222222,
             "#7201a8"
            ],
            [
             0.3333333333333333,
             "#9c179e"
            ],
            [
             0.4444444444444444,
             "#bd3786"
            ],
            [
             0.5555555555555556,
             "#d8576b"
            ],
            [
             0.6666666666666666,
             "#ed7953"
            ],
            [
             0.7777777777777778,
             "#fb9f3a"
            ],
            [
             0.8888888888888888,
             "#fdca26"
            ],
            [
             1,
             "#f0f921"
            ]
           ]
          },
          "colorway": [
           "#636efa",
           "#EF553B",
           "#00cc96",
           "#ab63fa",
           "#FFA15A",
           "#19d3f3",
           "#FF6692",
           "#B6E880",
           "#FF97FF",
           "#FECB52"
          ],
          "font": {
           "color": "#2a3f5f"
          },
          "geo": {
           "bgcolor": "white",
           "lakecolor": "white",
           "landcolor": "#E5ECF6",
           "showlakes": true,
           "showland": true,
           "subunitcolor": "white"
          },
          "hoverlabel": {
           "align": "left"
          },
          "hovermode": "closest",
          "mapbox": {
           "style": "light"
          },
          "paper_bgcolor": "white",
          "plot_bgcolor": "#E5ECF6",
          "polar": {
           "angularaxis": {
            "gridcolor": "white",
            "linecolor": "white",
            "ticks": ""
           },
           "bgcolor": "#E5ECF6",
           "radialaxis": {
            "gridcolor": "white",
            "linecolor": "white",
            "ticks": ""
           }
          },
          "scene": {
           "xaxis": {
            "backgroundcolor": "#E5ECF6",
            "gridcolor": "white",
            "gridwidth": 2,
            "linecolor": "white",
            "showbackground": true,
            "ticks": "",
            "zerolinecolor": "white"
           },
           "yaxis": {
            "backgroundcolor": "#E5ECF6",
            "gridcolor": "white",
            "gridwidth": 2,
            "linecolor": "white",
            "showbackground": true,
            "ticks": "",
            "zerolinecolor": "white"
           },
           "zaxis": {
            "backgroundcolor": "#E5ECF6",
            "gridcolor": "white",
            "gridwidth": 2,
            "linecolor": "white",
            "showbackground": true,
            "ticks": "",
            "zerolinecolor": "white"
           }
          },
          "shapedefaults": {
           "line": {
            "color": "#2a3f5f"
           }
          },
          "ternary": {
           "aaxis": {
            "gridcolor": "white",
            "linecolor": "white",
            "ticks": ""
           },
           "baxis": {
            "gridcolor": "white",
            "linecolor": "white",
            "ticks": ""
           },
           "bgcolor": "#E5ECF6",
           "caxis": {
            "gridcolor": "white",
            "linecolor": "white",
            "ticks": ""
           }
          },
          "title": {
           "x": 0.05
          },
          "xaxis": {
           "automargin": true,
           "gridcolor": "white",
           "linecolor": "white",
           "ticks": "",
           "title": {
            "standoff": 15
           },
           "zerolinecolor": "white",
           "zerolinewidth": 2
          },
          "yaxis": {
           "automargin": true,
           "gridcolor": "white",
           "linecolor": "white",
           "ticks": "",
           "title": {
            "standoff": 15
           },
           "zerolinecolor": "white",
           "zerolinewidth": 2
          }
         }
        },
        "title": {
         "text": "Distribution of the Acutal and Predicted Values"
        },
        "xaxis": {
         "anchor": "y",
         "domain": [
          0,
          1
         ],
         "range": [
          15,
          65
         ],
         "title": {
          "text": "value"
         }
        },
        "xaxis2": {
         "anchor": "y2",
         "domain": [
          0,
          1
         ],
         "matches": "x",
         "showgrid": true,
         "showticklabels": false
        },
        "yaxis": {
         "anchor": "x",
         "domain": [
          0,
          0.7326
         ],
         "title": {
          "text": "count"
         }
        },
        "yaxis2": {
         "anchor": "x2",
         "domain": [
          0.7426,
          1
         ],
         "matches": "y2",
         "showgrid": false,
         "showline": false,
         "showticklabels": false,
         "ticks": ""
        }
       }
      },
      "text/html": [
       "<div>                            <div id=\"8bd2866a-a8ee-4f9d-ab37-2fee8f9d946d\" class=\"plotly-graph-div\" style=\"height:525px; width:100%;\"></div>            <script type=\"text/javascript\">                require([\"plotly\"], function(Plotly) {                    window.PLOTLYENV=window.PLOTLYENV || {};                                    if (document.getElementById(\"8bd2866a-a8ee-4f9d-ab37-2fee8f9d946d\")) {                    Plotly.newPlot(                        \"8bd2866a-a8ee-4f9d-ab37-2fee8f9d946d\",                        [{\"alignmentgroup\": \"True\", \"bingroup\": \"x\", \"hovertemplate\": \"variable=Actual<br>value=%{x}<br>count=%{y}<extra></extra>\", \"legendgroup\": \"Actual\", \"marker\": {\"color\": \"#636efa\", \"opacity\": 0.3}, \"name\": \"Actual\", \"nbinsx\": 20, \"offsetgroup\": \"Actual\", \"orientation\": \"v\", \"showlegend\": true, \"type\": \"histogram\", \"x\": [60.756112, 31.072217, 39.7034, 35.782790999999996, 45.328074, 19.823573, 40.917047, 41.445019, 39.241114, 59.425505, 28.742414, 40.400208, 55.333142, 35.252444, 37.840594, 41.998933, 22.396513, 36.176196000000004, 64.533816, 49.787445], \"xaxis\": \"x\", \"yaxis\": \"y\"}, {\"alignmentgroup\": \"True\", \"boxpoints\": \"all\", \"fillcolor\": \"rgba(255,255,255,0)\", \"hoveron\": \"points\", \"hovertemplate\": \"variable=Actual<br>value=%{x}<extra></extra>\", \"jitter\": 0, \"legendgroup\": \"Actual\", \"line\": {\"color\": \"rgba(255,255,255,0)\"}, \"marker\": {\"color\": \"#636efa\", \"symbol\": \"line-ns-open\"}, \"name\": \"Actual\", \"offsetgroup\": \"Actual\", \"showlegend\": false, \"type\": \"box\", \"x\": [60.756112, 31.072217, 39.7034, 35.782790999999996, 45.328074, 19.823573, 40.917047, 41.445019, 39.241114, 59.425505, 28.742414, 40.400208, 55.333142, 35.252444, 37.840594, 41.998933, 22.396513, 36.176196000000004, 64.533816, 49.787445], \"xaxis\": \"x2\", \"yaxis\": \"y2\"}, {\"alignmentgroup\": \"True\", \"bingroup\": \"x\", \"hovertemplate\": \"variable=Predicted<br>value=%{x}<br>count=%{y}<extra></extra>\", \"legendgroup\": \"Predicted\", \"marker\": {\"color\": \"#EF553B\", \"opacity\": 0.3}, \"name\": \"Predicted\", \"nbinsx\": 20, \"offsetgroup\": \"Predicted\", \"orientation\": \"v\", \"showlegend\": true, \"type\": \"histogram\", \"x\": [52.453506600000004, 31.268324600000007, 37.569220200000004, 31.594397599999997, 32.7716936, 27.998178000000003, 46.5198396, 42.851887000000005, 39.27571859999999, 56.5662692, 32.7533006, 37.569220200000004, 42.115657999999996, 35.342878400000004, 46.295423, 43.058351, 26.1075692, 31.054805200000004, 64.35405159999999, 39.822516], \"xaxis\": \"x\", \"yaxis\": \"y\"}, {\"alignmentgroup\": \"True\", \"boxpoints\": \"all\", \"fillcolor\": \"rgba(255,255,255,0)\", \"hoveron\": \"points\", \"hovertemplate\": \"variable=Predicted<br>value=%{x}<extra></extra>\", \"jitter\": 0, \"legendgroup\": \"Predicted\", \"line\": {\"color\": \"rgba(255,255,255,0)\"}, \"marker\": {\"color\": \"#EF553B\", \"symbol\": \"line-ns-open\"}, \"name\": \"Predicted\", \"offsetgroup\": \"Predicted\", \"showlegend\": false, \"type\": \"box\", \"x\": [52.453506600000004, 31.268324600000007, 37.569220200000004, 31.594397599999997, 32.7716936, 27.998178000000003, 46.5198396, 42.851887000000005, 39.27571859999999, 56.5662692, 32.7533006, 37.569220200000004, 42.115657999999996, 35.342878400000004, 46.295423, 43.058351, 26.1075692, 31.054805200000004, 64.35405159999999, 39.822516], \"xaxis\": \"x2\", \"yaxis\": \"y2\"}],                        {\"barmode\": \"relative\", \"legend\": {\"title\": {\"text\": \"variable\"}, \"tracegroupgap\": 0}, \"template\": {\"data\": {\"bar\": [{\"error_x\": {\"color\": \"#2a3f5f\"}, \"error_y\": {\"color\": \"#2a3f5f\"}, \"marker\": {\"line\": {\"color\": \"#E5ECF6\", \"width\": 0.5}}, \"type\": \"bar\"}], \"barpolar\": [{\"marker\": {\"line\": {\"color\": \"#E5ECF6\", \"width\": 0.5}}, \"type\": \"barpolar\"}], \"carpet\": [{\"aaxis\": {\"endlinecolor\": \"#2a3f5f\", \"gridcolor\": \"white\", \"linecolor\": \"white\", \"minorgridcolor\": \"white\", \"startlinecolor\": \"#2a3f5f\"}, \"baxis\": {\"endlinecolor\": \"#2a3f5f\", \"gridcolor\": \"white\", \"linecolor\": \"white\", \"minorgridcolor\": \"white\", \"startlinecolor\": \"#2a3f5f\"}, \"type\": \"carpet\"}], \"choropleth\": [{\"colorbar\": {\"outlinewidth\": 0, \"ticks\": \"\"}, \"type\": \"choropleth\"}], \"contour\": [{\"colorbar\": {\"outlinewidth\": 0, \"ticks\": \"\"}, \"colorscale\": [[0.0, \"#0d0887\"], [0.1111111111111111, \"#46039f\"], [0.2222222222222222, \"#7201a8\"], [0.3333333333333333, \"#9c179e\"], [0.4444444444444444, \"#bd3786\"], [0.5555555555555556, \"#d8576b\"], [0.6666666666666666, \"#ed7953\"], [0.7777777777777778, \"#fb9f3a\"], [0.8888888888888888, \"#fdca26\"], [1.0, \"#f0f921\"]], \"type\": \"contour\"}], \"contourcarpet\": [{\"colorbar\": {\"outlinewidth\": 0, \"ticks\": \"\"}, \"type\": \"contourcarpet\"}], \"heatmap\": [{\"colorbar\": {\"outlinewidth\": 0, \"ticks\": \"\"}, \"colorscale\": [[0.0, \"#0d0887\"], [0.1111111111111111, \"#46039f\"], [0.2222222222222222, \"#7201a8\"], [0.3333333333333333, \"#9c179e\"], [0.4444444444444444, \"#bd3786\"], [0.5555555555555556, \"#d8576b\"], [0.6666666666666666, \"#ed7953\"], [0.7777777777777778, \"#fb9f3a\"], [0.8888888888888888, \"#fdca26\"], [1.0, \"#f0f921\"]], \"type\": \"heatmap\"}], \"heatmapgl\": [{\"colorbar\": {\"outlinewidth\": 0, \"ticks\": \"\"}, \"colorscale\": [[0.0, \"#0d0887\"], [0.1111111111111111, \"#46039f\"], [0.2222222222222222, \"#7201a8\"], [0.3333333333333333, \"#9c179e\"], [0.4444444444444444, \"#bd3786\"], [0.5555555555555556, \"#d8576b\"], [0.6666666666666666, \"#ed7953\"], [0.7777777777777778, \"#fb9f3a\"], [0.8888888888888888, \"#fdca26\"], [1.0, \"#f0f921\"]], \"type\": \"heatmapgl\"}], \"histogram\": [{\"marker\": {\"colorbar\": {\"outlinewidth\": 0, \"ticks\": \"\"}}, \"type\": \"histogram\"}], \"histogram2d\": [{\"colorbar\": {\"outlinewidth\": 0, \"ticks\": \"\"}, \"colorscale\": [[0.0, \"#0d0887\"], [0.1111111111111111, \"#46039f\"], [0.2222222222222222, \"#7201a8\"], [0.3333333333333333, \"#9c179e\"], [0.4444444444444444, \"#bd3786\"], [0.5555555555555556, \"#d8576b\"], [0.6666666666666666, \"#ed7953\"], [0.7777777777777778, \"#fb9f3a\"], [0.8888888888888888, \"#fdca26\"], [1.0, \"#f0f921\"]], \"type\": \"histogram2d\"}], \"histogram2dcontour\": [{\"colorbar\": {\"outlinewidth\": 0, \"ticks\": \"\"}, \"colorscale\": [[0.0, \"#0d0887\"], [0.1111111111111111, \"#46039f\"], [0.2222222222222222, \"#7201a8\"], [0.3333333333333333, \"#9c179e\"], [0.4444444444444444, \"#bd3786\"], [0.5555555555555556, \"#d8576b\"], [0.6666666666666666, \"#ed7953\"], [0.7777777777777778, \"#fb9f3a\"], [0.8888888888888888, \"#fdca26\"], [1.0, \"#f0f921\"]], \"type\": \"histogram2dcontour\"}], \"mesh3d\": [{\"colorbar\": {\"outlinewidth\": 0, \"ticks\": \"\"}, \"type\": \"mesh3d\"}], \"parcoords\": [{\"line\": {\"colorbar\": {\"outlinewidth\": 0, \"ticks\": \"\"}}, \"type\": \"parcoords\"}], \"pie\": [{\"automargin\": true, \"type\": \"pie\"}], \"scatter\": [{\"marker\": {\"colorbar\": {\"outlinewidth\": 0, \"ticks\": \"\"}}, \"type\": \"scatter\"}], \"scatter3d\": [{\"line\": {\"colorbar\": {\"outlinewidth\": 0, \"ticks\": \"\"}}, \"marker\": {\"colorbar\": {\"outlinewidth\": 0, \"ticks\": \"\"}}, \"type\": \"scatter3d\"}], \"scattercarpet\": [{\"marker\": {\"colorbar\": {\"outlinewidth\": 0, \"ticks\": \"\"}}, \"type\": \"scattercarpet\"}], \"scattergeo\": [{\"marker\": {\"colorbar\": {\"outlinewidth\": 0, \"ticks\": \"\"}}, \"type\": \"scattergeo\"}], \"scattergl\": [{\"marker\": {\"colorbar\": {\"outlinewidth\": 0, \"ticks\": \"\"}}, \"type\": \"scattergl\"}], \"scattermapbox\": [{\"marker\": {\"colorbar\": {\"outlinewidth\": 0, \"ticks\": \"\"}}, \"type\": \"scattermapbox\"}], \"scatterpolar\": [{\"marker\": {\"colorbar\": {\"outlinewidth\": 0, \"ticks\": \"\"}}, \"type\": \"scatterpolar\"}], \"scatterpolargl\": [{\"marker\": {\"colorbar\": {\"outlinewidth\": 0, \"ticks\": \"\"}}, \"type\": \"scatterpolargl\"}], \"scatterternary\": [{\"marker\": {\"colorbar\": {\"outlinewidth\": 0, \"ticks\": \"\"}}, \"type\": \"scatterternary\"}], \"surface\": [{\"colorbar\": {\"outlinewidth\": 0, \"ticks\": \"\"}, \"colorscale\": [[0.0, \"#0d0887\"], [0.1111111111111111, \"#46039f\"], [0.2222222222222222, \"#7201a8\"], [0.3333333333333333, \"#9c179e\"], [0.4444444444444444, \"#bd3786\"], [0.5555555555555556, \"#d8576b\"], [0.6666666666666666, \"#ed7953\"], [0.7777777777777778, \"#fb9f3a\"], [0.8888888888888888, \"#fdca26\"], [1.0, \"#f0f921\"]], \"type\": \"surface\"}], \"table\": [{\"cells\": {\"fill\": {\"color\": \"#EBF0F8\"}, \"line\": {\"color\": \"white\"}}, \"header\": {\"fill\": {\"color\": \"#C8D4E3\"}, \"line\": {\"color\": \"white\"}}, \"type\": \"table\"}]}, \"layout\": {\"annotationdefaults\": {\"arrowcolor\": \"#2a3f5f\", \"arrowhead\": 0, \"arrowwidth\": 1}, \"coloraxis\": {\"colorbar\": {\"outlinewidth\": 0, \"ticks\": \"\"}}, \"colorscale\": {\"diverging\": [[0, \"#8e0152\"], [0.1, \"#c51b7d\"], [0.2, \"#de77ae\"], [0.3, \"#f1b6da\"], [0.4, \"#fde0ef\"], [0.5, \"#f7f7f7\"], [0.6, \"#e6f5d0\"], [0.7, \"#b8e186\"], [0.8, \"#7fbc41\"], [0.9, \"#4d9221\"], [1, \"#276419\"]], \"sequential\": [[0.0, \"#0d0887\"], [0.1111111111111111, \"#46039f\"], [0.2222222222222222, \"#7201a8\"], [0.3333333333333333, \"#9c179e\"], [0.4444444444444444, \"#bd3786\"], [0.5555555555555556, \"#d8576b\"], [0.6666666666666666, \"#ed7953\"], [0.7777777777777778, \"#fb9f3a\"], [0.8888888888888888, \"#fdca26\"], [1.0, \"#f0f921\"]], \"sequentialminus\": [[0.0, \"#0d0887\"], [0.1111111111111111, \"#46039f\"], [0.2222222222222222, \"#7201a8\"], [0.3333333333333333, \"#9c179e\"], [0.4444444444444444, \"#bd3786\"], [0.5555555555555556, \"#d8576b\"], [0.6666666666666666, \"#ed7953\"], [0.7777777777777778, \"#fb9f3a\"], [0.8888888888888888, \"#fdca26\"], [1.0, \"#f0f921\"]]}, \"colorway\": [\"#636efa\", \"#EF553B\", \"#00cc96\", \"#ab63fa\", \"#FFA15A\", \"#19d3f3\", \"#FF6692\", \"#B6E880\", \"#FF97FF\", \"#FECB52\"], \"font\": {\"color\": \"#2a3f5f\"}, \"geo\": {\"bgcolor\": \"white\", \"lakecolor\": \"white\", \"landcolor\": \"#E5ECF6\", \"showlakes\": true, \"showland\": true, \"subunitcolor\": \"white\"}, \"hoverlabel\": {\"align\": \"left\"}, \"hovermode\": \"closest\", \"mapbox\": {\"style\": \"light\"}, \"paper_bgcolor\": \"white\", \"plot_bgcolor\": \"#E5ECF6\", \"polar\": {\"angularaxis\": {\"gridcolor\": \"white\", \"linecolor\": \"white\", \"ticks\": \"\"}, \"bgcolor\": \"#E5ECF6\", \"radialaxis\": {\"gridcolor\": \"white\", \"linecolor\": \"white\", \"ticks\": \"\"}}, \"scene\": {\"xaxis\": {\"backgroundcolor\": \"#E5ECF6\", \"gridcolor\": \"white\", \"gridwidth\": 2, \"linecolor\": \"white\", \"showbackground\": true, \"ticks\": \"\", \"zerolinecolor\": \"white\"}, \"yaxis\": {\"backgroundcolor\": \"#E5ECF6\", \"gridcolor\": \"white\", \"gridwidth\": 2, \"linecolor\": \"white\", \"showbackground\": true, \"ticks\": \"\", \"zerolinecolor\": \"white\"}, \"zaxis\": {\"backgroundcolor\": \"#E5ECF6\", \"gridcolor\": \"white\", \"gridwidth\": 2, \"linecolor\": \"white\", \"showbackground\": true, \"ticks\": \"\", \"zerolinecolor\": \"white\"}}, \"shapedefaults\": {\"line\": {\"color\": \"#2a3f5f\"}}, \"ternary\": {\"aaxis\": {\"gridcolor\": \"white\", \"linecolor\": \"white\", \"ticks\": \"\"}, \"baxis\": {\"gridcolor\": \"white\", \"linecolor\": \"white\", \"ticks\": \"\"}, \"bgcolor\": \"#E5ECF6\", \"caxis\": {\"gridcolor\": \"white\", \"linecolor\": \"white\", \"ticks\": \"\"}}, \"title\": {\"x\": 0.05}, \"xaxis\": {\"automargin\": true, \"gridcolor\": \"white\", \"linecolor\": \"white\", \"ticks\": \"\", \"title\": {\"standoff\": 15}, \"zerolinecolor\": \"white\", \"zerolinewidth\": 2}, \"yaxis\": {\"automargin\": true, \"gridcolor\": \"white\", \"linecolor\": \"white\", \"ticks\": \"\", \"title\": {\"standoff\": 15}, \"zerolinecolor\": \"white\", \"zerolinewidth\": 2}}}, \"title\": {\"text\": \"Distribution of the Acutal and Predicted Values\"}, \"xaxis\": {\"anchor\": \"y\", \"domain\": [0.0, 1.0], \"range\": [15, 65], \"title\": {\"text\": \"value\"}}, \"xaxis2\": {\"anchor\": \"y2\", \"domain\": [0.0, 1.0], \"matches\": \"x\", \"showgrid\": true, \"showticklabels\": false}, \"yaxis\": {\"anchor\": \"x\", \"domain\": [0.0, 0.7326], \"title\": {\"text\": \"count\"}}, \"yaxis2\": {\"anchor\": \"x2\", \"domain\": [0.7426, 1.0], \"matches\": \"y2\", \"showgrid\": false, \"showline\": false, \"showticklabels\": false, \"ticks\": \"\"}},                        {\"responsive\": true}                    ).then(function(){\n",
       "                            \n",
       "var gd = document.getElementById('8bd2866a-a8ee-4f9d-ab37-2fee8f9d946d');\n",
       "var x = new MutationObserver(function (mutations, observer) {{\n",
       "        var display = window.getComputedStyle(gd).display;\n",
       "        if (!display || display === 'none') {{\n",
       "            console.log([gd, 'removed!']);\n",
       "            Plotly.purge(gd);\n",
       "            observer.disconnect();\n",
       "        }}\n",
       "}});\n",
       "\n",
       "// Listen for the removal of the full notebook cells\n",
       "var notebookContainer = gd.closest('#notebook-container');\n",
       "if (notebookContainer) {{\n",
       "    x.observe(notebookContainer, {childList: true});\n",
       "}}\n",
       "\n",
       "// Listen for the clearing of the current output cell\n",
       "var outputEl = gd.closest('.output');\n",
       "if (outputEl) {{\n",
       "    x.observe(outputEl, {childList: true});\n",
       "}}\n",
       "\n",
       "                        })                };                });            </script>        </div>"
      ]
     },
     "metadata": {},
     "output_type": "display_data"
    }
   ],
   "source": [
    "results=pd.DataFrame({\"Actual\":y_test,\"Predicted\":y_predict})\n",
    "\n",
    "px.histogram(results,x=[\"Actual\",\"Predicted\"],nbins=20,range_x=[15,65],opacity=0.3,marginal=\"rug\",\n",
    "            title=\"Distribution of the Acutal and Predicted Values\")"
   ]
  },
  {
   "cell_type": "code",
   "execution_count": 37,
   "metadata": {
    "execution": {
     "iopub.execute_input": "2020-12-30T13:11:18.781902Z",
     "iopub.status.busy": "2020-12-30T13:11:18.781066Z",
     "iopub.status.idle": "2020-12-30T13:11:18.785809Z",
     "shell.execute_reply": "2020-12-30T13:11:18.784977Z"
    },
    "papermill": {
     "duration": 0.062862,
     "end_time": "2020-12-30T13:11:18.786006",
     "exception": false,
     "start_time": "2020-12-30T13:11:18.723144",
     "status": "completed"
    },
    "tags": []
   },
   "outputs": [
    {
     "data": {
      "text/plain": [
       "Ttest_indResult(statistic=0.4132021588854063, pvalue=0.6817810024407129)"
      ]
     },
     "execution_count": 37,
     "metadata": {},
     "output_type": "execute_result"
    }
   ],
   "source": [
    "a=results[\"Actual\"]\n",
    "b=results[\"Predicted\"]\n",
    "\n",
    "stats.ttest_ind(a,b)"
   ]
  },
  {
   "cell_type": "code",
   "execution_count": 38,
   "metadata": {
    "execution": {
     "iopub.execute_input": "2020-12-30T13:11:18.905864Z",
     "iopub.status.busy": "2020-12-30T13:11:18.903733Z",
     "iopub.status.idle": "2020-12-30T13:11:18.926963Z",
     "shell.execute_reply": "2020-12-30T13:11:18.926264Z"
    },
    "papermill": {
     "duration": 0.09107,
     "end_time": "2020-12-30T13:11:18.927088",
     "exception": false,
     "start_time": "2020-12-30T13:11:18.836018",
     "status": "completed"
    },
    "tags": []
   },
   "outputs": [
    {
     "data": {
      "text/html": [
       "<style  type=\"text/css\" >\n",
       "    #T_2b849a2c_4aa2_11eb_a353_820a63678600row0_col0 {\n",
       "            background-color:  #3b4cc0;\n",
       "            color:  #f1f1f1;\n",
       "        }    #T_2b849a2c_4aa2_11eb_a353_820a63678600row0_col1 {\n",
       "            background-color:  #b40426;\n",
       "            color:  #f1f1f1;\n",
       "        }    #T_2b849a2c_4aa2_11eb_a353_820a63678600row0_col2 {\n",
       "            background-color:  #b40426;\n",
       "            color:  #f1f1f1;\n",
       "        }    #T_2b849a2c_4aa2_11eb_a353_820a63678600row0_col3 {\n",
       "            background-color:  #b40426;\n",
       "            color:  #f1f1f1;\n",
       "        }    #T_2b849a2c_4aa2_11eb_a353_820a63678600row0_col4 {\n",
       "            background-color:  #3b4cc0;\n",
       "            color:  #f1f1f1;\n",
       "        }    #T_2b849a2c_4aa2_11eb_a353_820a63678600row0_col5 {\n",
       "            background-color:  #3b4cc0;\n",
       "            color:  #f1f1f1;\n",
       "        }    #T_2b849a2c_4aa2_11eb_a353_820a63678600row1_col0 {\n",
       "            background-color:  #b40426;\n",
       "            color:  #f1f1f1;\n",
       "        }    #T_2b849a2c_4aa2_11eb_a353_820a63678600row1_col1 {\n",
       "            background-color:  #3b4cc0;\n",
       "            color:  #f1f1f1;\n",
       "        }    #T_2b849a2c_4aa2_11eb_a353_820a63678600row1_col2 {\n",
       "            background-color:  #3b4cc0;\n",
       "            color:  #f1f1f1;\n",
       "        }    #T_2b849a2c_4aa2_11eb_a353_820a63678600row1_col3 {\n",
       "            background-color:  #3b4cc0;\n",
       "            color:  #f1f1f1;\n",
       "        }    #T_2b849a2c_4aa2_11eb_a353_820a63678600row1_col4 {\n",
       "            background-color:  #b40426;\n",
       "            color:  #f1f1f1;\n",
       "        }    #T_2b849a2c_4aa2_11eb_a353_820a63678600row1_col5 {\n",
       "            background-color:  #b40426;\n",
       "            color:  #f1f1f1;\n",
       "        }</style><table id=\"T_2b849a2c_4aa2_11eb_a353_820a63678600\" ><thead>    <tr>        <th class=\"blank level0\" ></th>        <th class=\"col_heading level0 col0\" >Min</th>        <th class=\"col_heading level0 col1\" >Max</th>        <th class=\"col_heading level0 col2\" >Mean</th>        <th class=\"col_heading level0 col3\" >Standard Deviation</th>        <th class=\"col_heading level0 col4\" >Skew</th>        <th class=\"col_heading level0 col5\" >Kurtosis</th>    </tr></thead><tbody>\n",
       "                <tr>\n",
       "                        <th id=\"T_2b849a2c_4aa2_11eb_a353_820a63678600level0_row0\" class=\"row_heading level0 row0\" >Actual</th>\n",
       "                        <td id=\"T_2b849a2c_4aa2_11eb_a353_820a63678600row0_col0\" class=\"data row0 col0\" >19.823573</td>\n",
       "                        <td id=\"T_2b849a2c_4aa2_11eb_a353_820a63678600row0_col1\" class=\"data row0 col1\" >64.533816</td>\n",
       "                        <td id=\"T_2b849a2c_4aa2_11eb_a353_820a63678600row0_col2\" class=\"data row0 col2\" >41.297828</td>\n",
       "                        <td id=\"T_2b849a2c_4aa2_11eb_a353_820a63678600row0_col3\" class=\"data row0 col3\" >11.979021</td>\n",
       "                        <td id=\"T_2b849a2c_4aa2_11eb_a353_820a63678600row0_col4\" class=\"data row0 col4\" >0.283683</td>\n",
       "                        <td id=\"T_2b849a2c_4aa2_11eb_a353_820a63678600row0_col5\" class=\"data row0 col5\" >-0.400146</td>\n",
       "            </tr>\n",
       "            <tr>\n",
       "                        <th id=\"T_2b849a2c_4aa2_11eb_a353_820a63678600level0_row1\" class=\"row_heading level0 row1\" >Predicted</th>\n",
       "                        <td id=\"T_2b849a2c_4aa2_11eb_a353_820a63678600row1_col0\" class=\"data row1 col0\" >26.107569</td>\n",
       "                        <td id=\"T_2b849a2c_4aa2_11eb_a353_820a63678600row1_col1\" class=\"data row1 col1\" >64.354052</td>\n",
       "                        <td id=\"T_2b849a2c_4aa2_11eb_a353_820a63678600row1_col2\" class=\"data row1 col2\" >39.867140</td>\n",
       "                        <td id=\"T_2b849a2c_4aa2_11eb_a353_820a63678600row1_col3\" class=\"data row1 col3\" >9.811869</td>\n",
       "                        <td id=\"T_2b849a2c_4aa2_11eb_a353_820a63678600row1_col4\" class=\"data row1 col4\" >0.855533</td>\n",
       "                        <td id=\"T_2b849a2c_4aa2_11eb_a353_820a63678600row1_col5\" class=\"data row1 col5\" >0.249976</td>\n",
       "            </tr>\n",
       "    </tbody></table>"
      ],
      "text/plain": [
       "<pandas.io.formats.style.Styler at 0x7f94cb6f74f0>"
      ]
     },
     "execution_count": 38,
     "metadata": {},
     "output_type": "execute_result"
    }
   ],
   "source": [
    "smin=[stats.tmin(results[i]) for i in results.columns]\n",
    "smax=[stats.tmax(results[i]) for i in results.columns]\n",
    "smean=[stats.tmean(results[i]) for i in results.columns]\n",
    "sstd=[stats.tstd(results[i]) for i in results.columns]\n",
    "sskew=[stats.skew(results[i]) for i in results.columns]\n",
    "skurtosis=[stats.kurtosis(results[i]) for i in results.columns]\n",
    "\n",
    "stable=pd.DataFrame({\"Min\":smin,\"Max\":smax,\"Mean\":smean,\"Standard Deviation\":sstd,\"Skew\":sskew,\"Kurtosis\":skurtosis},index=results.columns)\n",
    "stable.style.background_gradient(cmap=\"coolwarm\")"
   ]
  },
  {
   "cell_type": "markdown",
   "metadata": {
    "papermill": {
     "duration": 0.050762,
     "end_time": "2020-12-30T13:11:19.026635",
     "exception": false,
     "start_time": "2020-12-30T13:11:18.975873",
     "status": "completed"
    },
    "tags": []
   },
   "source": [
    "The model is 72% accurate with the actual and predicted results not statistically different having a similar mean and standard deviation, the same maximum value and acceptable kurtosis. Where the acutal and predicted results differ is a larger predicted minimum value and a more skewed predicted distribution."
   ]
  },
  {
   "cell_type": "markdown",
   "metadata": {
    "papermill": {
     "duration": 0.050061,
     "end_time": "2020-12-30T13:11:19.127729",
     "exception": false,
     "start_time": "2020-12-30T13:11:19.077668",
     "status": "completed"
    },
    "tags": []
   },
   "source": [
    "As with k-nearest neighbours we can choose the number of nearest neighbours the model should look for. Maybe we can improve the model's accuracy by testing the model for the most optimal number of neighbours!"
   ]
  },
  {
   "cell_type": "code",
   "execution_count": 39,
   "metadata": {
    "execution": {
     "iopub.execute_input": "2020-12-30T13:11:19.244279Z",
     "iopub.status.busy": "2020-12-30T13:11:19.240179Z",
     "iopub.status.idle": "2020-12-30T13:11:19.356824Z",
     "shell.execute_reply": "2020-12-30T13:11:19.356079Z"
    },
    "papermill": {
     "duration": 0.177598,
     "end_time": "2020-12-30T13:11:19.356953",
     "exception": false,
     "start_time": "2020-12-30T13:11:19.179355",
     "status": "completed"
    },
    "tags": []
   },
   "outputs": [
    {
     "data": {
      "application/vnd.plotly.v1+json": {
       "config": {
        "plotlyServerURL": "https://plot.ly"
       },
       "data": [
        {
         "hovertemplate": "No of Neighbours=%{x}<br>Score=%{y}<extra></extra>",
         "legendgroup": "",
         "line": {
          "color": "slateblue",
          "dash": "solid"
         },
         "mode": "lines",
         "name": "",
         "orientation": "v",
         "showlegend": false,
         "type": "scatter",
         "x": [
          1,
          2,
          3,
          4,
          5,
          6,
          7,
          8,
          9,
          10,
          11,
          12,
          13,
          14,
          15,
          16,
          17,
          18,
          19
         ],
         "xaxis": "x",
         "y": [
          0.22755811061574183,
          0.4523391794043857,
          0.5972507690737542,
          0.5904010892577782,
          0.718367798190463,
          0.7091562928872385,
          0.6642178745867164,
          0.6840130225900773,
          0.6737850244104837,
          0.6040873871925425,
          0.6011432099006053,
          0.581471220748214,
          0.5846264553782382,
          0.5786894908029206,
          0.5437378460228227,
          0.5427206113889333,
          0.5587547452351438,
          0.6079666264187136,
          0.57542417762613
         ],
         "yaxis": "y"
        }
       ],
       "layout": {
        "annotations": [
         {
          "arrowhead": 2,
          "arrowsize": 1,
          "arrowwidth": 1.5,
          "standoff": 0,
          "text": "Optimal number of neighbours, which <br> was already implemented in the initial model!",
          "x": 5,
          "y": 0.73
         }
        ],
        "legend": {
         "tracegroupgap": 0
        },
        "margin": {
         "t": 60
        },
        "template": {
         "data": {
          "bar": [
           {
            "error_x": {
             "color": "#2a3f5f"
            },
            "error_y": {
             "color": "#2a3f5f"
            },
            "marker": {
             "line": {
              "color": "#E5ECF6",
              "width": 0.5
             }
            },
            "type": "bar"
           }
          ],
          "barpolar": [
           {
            "marker": {
             "line": {
              "color": "#E5ECF6",
              "width": 0.5
             }
            },
            "type": "barpolar"
           }
          ],
          "carpet": [
           {
            "aaxis": {
             "endlinecolor": "#2a3f5f",
             "gridcolor": "white",
             "linecolor": "white",
             "minorgridcolor": "white",
             "startlinecolor": "#2a3f5f"
            },
            "baxis": {
             "endlinecolor": "#2a3f5f",
             "gridcolor": "white",
             "linecolor": "white",
             "minorgridcolor": "white",
             "startlinecolor": "#2a3f5f"
            },
            "type": "carpet"
           }
          ],
          "choropleth": [
           {
            "colorbar": {
             "outlinewidth": 0,
             "ticks": ""
            },
            "type": "choropleth"
           }
          ],
          "contour": [
           {
            "colorbar": {
             "outlinewidth": 0,
             "ticks": ""
            },
            "colorscale": [
             [
              0,
              "#0d0887"
             ],
             [
              0.1111111111111111,
              "#46039f"
             ],
             [
              0.2222222222222222,
              "#7201a8"
             ],
             [
              0.3333333333333333,
              "#9c179e"
             ],
             [
              0.4444444444444444,
              "#bd3786"
             ],
             [
              0.5555555555555556,
              "#d8576b"
             ],
             [
              0.6666666666666666,
              "#ed7953"
             ],
             [
              0.7777777777777778,
              "#fb9f3a"
             ],
             [
              0.8888888888888888,
              "#fdca26"
             ],
             [
              1,
              "#f0f921"
             ]
            ],
            "type": "contour"
           }
          ],
          "contourcarpet": [
           {
            "colorbar": {
             "outlinewidth": 0,
             "ticks": ""
            },
            "type": "contourcarpet"
           }
          ],
          "heatmap": [
           {
            "colorbar": {
             "outlinewidth": 0,
             "ticks": ""
            },
            "colorscale": [
             [
              0,
              "#0d0887"
             ],
             [
              0.1111111111111111,
              "#46039f"
             ],
             [
              0.2222222222222222,
              "#7201a8"
             ],
             [
              0.3333333333333333,
              "#9c179e"
             ],
             [
              0.4444444444444444,
              "#bd3786"
             ],
             [
              0.5555555555555556,
              "#d8576b"
             ],
             [
              0.6666666666666666,
              "#ed7953"
             ],
             [
              0.7777777777777778,
              "#fb9f3a"
             ],
             [
              0.8888888888888888,
              "#fdca26"
             ],
             [
              1,
              "#f0f921"
             ]
            ],
            "type": "heatmap"
           }
          ],
          "heatmapgl": [
           {
            "colorbar": {
             "outlinewidth": 0,
             "ticks": ""
            },
            "colorscale": [
             [
              0,
              "#0d0887"
             ],
             [
              0.1111111111111111,
              "#46039f"
             ],
             [
              0.2222222222222222,
              "#7201a8"
             ],
             [
              0.3333333333333333,
              "#9c179e"
             ],
             [
              0.4444444444444444,
              "#bd3786"
             ],
             [
              0.5555555555555556,
              "#d8576b"
             ],
             [
              0.6666666666666666,
              "#ed7953"
             ],
             [
              0.7777777777777778,
              "#fb9f3a"
             ],
             [
              0.8888888888888888,
              "#fdca26"
             ],
             [
              1,
              "#f0f921"
             ]
            ],
            "type": "heatmapgl"
           }
          ],
          "histogram": [
           {
            "marker": {
             "colorbar": {
              "outlinewidth": 0,
              "ticks": ""
             }
            },
            "type": "histogram"
           }
          ],
          "histogram2d": [
           {
            "colorbar": {
             "outlinewidth": 0,
             "ticks": ""
            },
            "colorscale": [
             [
              0,
              "#0d0887"
             ],
             [
              0.1111111111111111,
              "#46039f"
             ],
             [
              0.2222222222222222,
              "#7201a8"
             ],
             [
              0.3333333333333333,
              "#9c179e"
             ],
             [
              0.4444444444444444,
              "#bd3786"
             ],
             [
              0.5555555555555556,
              "#d8576b"
             ],
             [
              0.6666666666666666,
              "#ed7953"
             ],
             [
              0.7777777777777778,
              "#fb9f3a"
             ],
             [
              0.8888888888888888,
              "#fdca26"
             ],
             [
              1,
              "#f0f921"
             ]
            ],
            "type": "histogram2d"
           }
          ],
          "histogram2dcontour": [
           {
            "colorbar": {
             "outlinewidth": 0,
             "ticks": ""
            },
            "colorscale": [
             [
              0,
              "#0d0887"
             ],
             [
              0.1111111111111111,
              "#46039f"
             ],
             [
              0.2222222222222222,
              "#7201a8"
             ],
             [
              0.3333333333333333,
              "#9c179e"
             ],
             [
              0.4444444444444444,
              "#bd3786"
             ],
             [
              0.5555555555555556,
              "#d8576b"
             ],
             [
              0.6666666666666666,
              "#ed7953"
             ],
             [
              0.7777777777777778,
              "#fb9f3a"
             ],
             [
              0.8888888888888888,
              "#fdca26"
             ],
             [
              1,
              "#f0f921"
             ]
            ],
            "type": "histogram2dcontour"
           }
          ],
          "mesh3d": [
           {
            "colorbar": {
             "outlinewidth": 0,
             "ticks": ""
            },
            "type": "mesh3d"
           }
          ],
          "parcoords": [
           {
            "line": {
             "colorbar": {
              "outlinewidth": 0,
              "ticks": ""
             }
            },
            "type": "parcoords"
           }
          ],
          "pie": [
           {
            "automargin": true,
            "type": "pie"
           }
          ],
          "scatter": [
           {
            "marker": {
             "colorbar": {
              "outlinewidth": 0,
              "ticks": ""
             }
            },
            "type": "scatter"
           }
          ],
          "scatter3d": [
           {
            "line": {
             "colorbar": {
              "outlinewidth": 0,
              "ticks": ""
             }
            },
            "marker": {
             "colorbar": {
              "outlinewidth": 0,
              "ticks": ""
             }
            },
            "type": "scatter3d"
           }
          ],
          "scattercarpet": [
           {
            "marker": {
             "colorbar": {
              "outlinewidth": 0,
              "ticks": ""
             }
            },
            "type": "scattercarpet"
           }
          ],
          "scattergeo": [
           {
            "marker": {
             "colorbar": {
              "outlinewidth": 0,
              "ticks": ""
             }
            },
            "type": "scattergeo"
           }
          ],
          "scattergl": [
           {
            "marker": {
             "colorbar": {
              "outlinewidth": 0,
              "ticks": ""
             }
            },
            "type": "scattergl"
           }
          ],
          "scattermapbox": [
           {
            "marker": {
             "colorbar": {
              "outlinewidth": 0,
              "ticks": ""
             }
            },
            "type": "scattermapbox"
           }
          ],
          "scatterpolar": [
           {
            "marker": {
             "colorbar": {
              "outlinewidth": 0,
              "ticks": ""
             }
            },
            "type": "scatterpolar"
           }
          ],
          "scatterpolargl": [
           {
            "marker": {
             "colorbar": {
              "outlinewidth": 0,
              "ticks": ""
             }
            },
            "type": "scatterpolargl"
           }
          ],
          "scatterternary": [
           {
            "marker": {
             "colorbar": {
              "outlinewidth": 0,
              "ticks": ""
             }
            },
            "type": "scatterternary"
           }
          ],
          "surface": [
           {
            "colorbar": {
             "outlinewidth": 0,
             "ticks": ""
            },
            "colorscale": [
             [
              0,
              "#0d0887"
             ],
             [
              0.1111111111111111,
              "#46039f"
             ],
             [
              0.2222222222222222,
              "#7201a8"
             ],
             [
              0.3333333333333333,
              "#9c179e"
             ],
             [
              0.4444444444444444,
              "#bd3786"
             ],
             [
              0.5555555555555556,
              "#d8576b"
             ],
             [
              0.6666666666666666,
              "#ed7953"
             ],
             [
              0.7777777777777778,
              "#fb9f3a"
             ],
             [
              0.8888888888888888,
              "#fdca26"
             ],
             [
              1,
              "#f0f921"
             ]
            ],
            "type": "surface"
           }
          ],
          "table": [
           {
            "cells": {
             "fill": {
              "color": "#EBF0F8"
             },
             "line": {
              "color": "white"
             }
            },
            "header": {
             "fill": {
              "color": "#C8D4E3"
             },
             "line": {
              "color": "white"
             }
            },
            "type": "table"
           }
          ]
         },
         "layout": {
          "annotationdefaults": {
           "arrowcolor": "#2a3f5f",
           "arrowhead": 0,
           "arrowwidth": 1
          },
          "coloraxis": {
           "colorbar": {
            "outlinewidth": 0,
            "ticks": ""
           }
          },
          "colorscale": {
           "diverging": [
            [
             0,
             "#8e0152"
            ],
            [
             0.1,
             "#c51b7d"
            ],
            [
             0.2,
             "#de77ae"
            ],
            [
             0.3,
             "#f1b6da"
            ],
            [
             0.4,
             "#fde0ef"
            ],
            [
             0.5,
             "#f7f7f7"
            ],
            [
             0.6,
             "#e6f5d0"
            ],
            [
             0.7,
             "#b8e186"
            ],
            [
             0.8,
             "#7fbc41"
            ],
            [
             0.9,
             "#4d9221"
            ],
            [
             1,
             "#276419"
            ]
           ],
           "sequential": [
            [
             0,
             "#0d0887"
            ],
            [
             0.1111111111111111,
             "#46039f"
            ],
            [
             0.2222222222222222,
             "#7201a8"
            ],
            [
             0.3333333333333333,
             "#9c179e"
            ],
            [
             0.4444444444444444,
             "#bd3786"
            ],
            [
             0.5555555555555556,
             "#d8576b"
            ],
            [
             0.6666666666666666,
             "#ed7953"
            ],
            [
             0.7777777777777778,
             "#fb9f3a"
            ],
            [
             0.8888888888888888,
             "#fdca26"
            ],
            [
             1,
             "#f0f921"
            ]
           ],
           "sequentialminus": [
            [
             0,
             "#0d0887"
            ],
            [
             0.1111111111111111,
             "#46039f"
            ],
            [
             0.2222222222222222,
             "#7201a8"
            ],
            [
             0.3333333333333333,
             "#9c179e"
            ],
            [
             0.4444444444444444,
             "#bd3786"
            ],
            [
             0.5555555555555556,
             "#d8576b"
            ],
            [
             0.6666666666666666,
             "#ed7953"
            ],
            [
             0.7777777777777778,
             "#fb9f3a"
            ],
            [
             0.8888888888888888,
             "#fdca26"
            ],
            [
             1,
             "#f0f921"
            ]
           ]
          },
          "colorway": [
           "#636efa",
           "#EF553B",
           "#00cc96",
           "#ab63fa",
           "#FFA15A",
           "#19d3f3",
           "#FF6692",
           "#B6E880",
           "#FF97FF",
           "#FECB52"
          ],
          "font": {
           "color": "#2a3f5f"
          },
          "geo": {
           "bgcolor": "white",
           "lakecolor": "white",
           "landcolor": "#E5ECF6",
           "showlakes": true,
           "showland": true,
           "subunitcolor": "white"
          },
          "hoverlabel": {
           "align": "left"
          },
          "hovermode": "closest",
          "mapbox": {
           "style": "light"
          },
          "paper_bgcolor": "white",
          "plot_bgcolor": "#E5ECF6",
          "polar": {
           "angularaxis": {
            "gridcolor": "white",
            "linecolor": "white",
            "ticks": ""
           },
           "bgcolor": "#E5ECF6",
           "radialaxis": {
            "gridcolor": "white",
            "linecolor": "white",
            "ticks": ""
           }
          },
          "scene": {
           "xaxis": {
            "backgroundcolor": "#E5ECF6",
            "gridcolor": "white",
            "gridwidth": 2,
            "linecolor": "white",
            "showbackground": true,
            "ticks": "",
            "zerolinecolor": "white"
           },
           "yaxis": {
            "backgroundcolor": "#E5ECF6",
            "gridcolor": "white",
            "gridwidth": 2,
            "linecolor": "white",
            "showbackground": true,
            "ticks": "",
            "zerolinecolor": "white"
           },
           "zaxis": {
            "backgroundcolor": "#E5ECF6",
            "gridcolor": "white",
            "gridwidth": 2,
            "linecolor": "white",
            "showbackground": true,
            "ticks": "",
            "zerolinecolor": "white"
           }
          },
          "shapedefaults": {
           "line": {
            "color": "#2a3f5f"
           }
          },
          "ternary": {
           "aaxis": {
            "gridcolor": "white",
            "linecolor": "white",
            "ticks": ""
           },
           "baxis": {
            "gridcolor": "white",
            "linecolor": "white",
            "ticks": ""
           },
           "bgcolor": "#E5ECF6",
           "caxis": {
            "gridcolor": "white",
            "linecolor": "white",
            "ticks": ""
           }
          },
          "title": {
           "x": 0.05
          },
          "xaxis": {
           "automargin": true,
           "gridcolor": "white",
           "linecolor": "white",
           "ticks": "",
           "title": {
            "standoff": 15
           },
           "zerolinecolor": "white",
           "zerolinewidth": 2
          },
          "yaxis": {
           "automargin": true,
           "gridcolor": "white",
           "linecolor": "white",
           "ticks": "",
           "title": {
            "standoff": 15
           },
           "zerolinecolor": "white",
           "zerolinewidth": 2
          }
         }
        },
        "xaxis": {
         "anchor": "y",
         "domain": [
          0,
          1
         ],
         "title": {
          "text": "No of Neighbours"
         }
        },
        "yaxis": {
         "anchor": "x",
         "domain": [
          0,
          1
         ],
         "range": [
          0.2,
          0.83
         ],
         "title": {
          "text": "Score"
         }
        }
       }
      },
      "text/html": [
       "<div>                            <div id=\"10ae75b2-420f-4a25-98d9-0557c0805793\" class=\"plotly-graph-div\" style=\"height:525px; width:100%;\"></div>            <script type=\"text/javascript\">                require([\"plotly\"], function(Plotly) {                    window.PLOTLYENV=window.PLOTLYENV || {};                                    if (document.getElementById(\"10ae75b2-420f-4a25-98d9-0557c0805793\")) {                    Plotly.newPlot(                        \"10ae75b2-420f-4a25-98d9-0557c0805793\",                        [{\"hovertemplate\": \"No of Neighbours=%{x}<br>Score=%{y}<extra></extra>\", \"legendgroup\": \"\", \"line\": {\"color\": \"slateblue\", \"dash\": \"solid\"}, \"mode\": \"lines\", \"name\": \"\", \"orientation\": \"v\", \"showlegend\": false, \"type\": \"scatter\", \"x\": [1, 2, 3, 4, 5, 6, 7, 8, 9, 10, 11, 12, 13, 14, 15, 16, 17, 18, 19], \"xaxis\": \"x\", \"y\": [0.22755811061574183, 0.4523391794043857, 0.5972507690737542, 0.5904010892577782, 0.718367798190463, 0.7091562928872385, 0.6642178745867164, 0.6840130225900773, 0.6737850244104837, 0.6040873871925425, 0.6011432099006053, 0.581471220748214, 0.5846264553782382, 0.5786894908029206, 0.5437378460228227, 0.5427206113889333, 0.5587547452351438, 0.6079666264187136, 0.57542417762613], \"yaxis\": \"y\"}],                        {\"annotations\": [{\"arrowhead\": 2, \"arrowsize\": 1, \"arrowwidth\": 1.5, \"standoff\": 0, \"text\": \"Optimal number of neighbours, which <br> was already implemented in the initial model!\", \"x\": 5, \"y\": 0.73}], \"legend\": {\"tracegroupgap\": 0}, \"margin\": {\"t\": 60}, \"template\": {\"data\": {\"bar\": [{\"error_x\": {\"color\": \"#2a3f5f\"}, \"error_y\": {\"color\": \"#2a3f5f\"}, \"marker\": {\"line\": {\"color\": \"#E5ECF6\", \"width\": 0.5}}, \"type\": \"bar\"}], \"barpolar\": [{\"marker\": {\"line\": {\"color\": \"#E5ECF6\", \"width\": 0.5}}, \"type\": \"barpolar\"}], \"carpet\": [{\"aaxis\": {\"endlinecolor\": \"#2a3f5f\", \"gridcolor\": \"white\", \"linecolor\": \"white\", \"minorgridcolor\": \"white\", \"startlinecolor\": \"#2a3f5f\"}, \"baxis\": {\"endlinecolor\": \"#2a3f5f\", \"gridcolor\": \"white\", \"linecolor\": \"white\", \"minorgridcolor\": \"white\", \"startlinecolor\": \"#2a3f5f\"}, \"type\": \"carpet\"}], \"choropleth\": [{\"colorbar\": {\"outlinewidth\": 0, \"ticks\": \"\"}, \"type\": \"choropleth\"}], \"contour\": [{\"colorbar\": {\"outlinewidth\": 0, \"ticks\": \"\"}, \"colorscale\": [[0.0, \"#0d0887\"], [0.1111111111111111, \"#46039f\"], [0.2222222222222222, \"#7201a8\"], [0.3333333333333333, \"#9c179e\"], [0.4444444444444444, \"#bd3786\"], [0.5555555555555556, \"#d8576b\"], [0.6666666666666666, \"#ed7953\"], [0.7777777777777778, \"#fb9f3a\"], [0.8888888888888888, \"#fdca26\"], [1.0, \"#f0f921\"]], \"type\": \"contour\"}], \"contourcarpet\": [{\"colorbar\": {\"outlinewidth\": 0, \"ticks\": \"\"}, \"type\": \"contourcarpet\"}], \"heatmap\": [{\"colorbar\": {\"outlinewidth\": 0, \"ticks\": \"\"}, \"colorscale\": [[0.0, \"#0d0887\"], [0.1111111111111111, \"#46039f\"], [0.2222222222222222, \"#7201a8\"], [0.3333333333333333, \"#9c179e\"], [0.4444444444444444, \"#bd3786\"], [0.5555555555555556, \"#d8576b\"], [0.6666666666666666, \"#ed7953\"], [0.7777777777777778, \"#fb9f3a\"], [0.8888888888888888, \"#fdca26\"], [1.0, \"#f0f921\"]], \"type\": \"heatmap\"}], \"heatmapgl\": [{\"colorbar\": {\"outlinewidth\": 0, \"ticks\": \"\"}, \"colorscale\": [[0.0, \"#0d0887\"], [0.1111111111111111, \"#46039f\"], [0.2222222222222222, \"#7201a8\"], [0.3333333333333333, \"#9c179e\"], [0.4444444444444444, \"#bd3786\"], [0.5555555555555556, \"#d8576b\"], [0.6666666666666666, \"#ed7953\"], [0.7777777777777778, \"#fb9f3a\"], [0.8888888888888888, \"#fdca26\"], [1.0, \"#f0f921\"]], \"type\": \"heatmapgl\"}], \"histogram\": [{\"marker\": {\"colorbar\": {\"outlinewidth\": 0, \"ticks\": \"\"}}, \"type\": \"histogram\"}], \"histogram2d\": [{\"colorbar\": {\"outlinewidth\": 0, \"ticks\": \"\"}, \"colorscale\": [[0.0, \"#0d0887\"], [0.1111111111111111, \"#46039f\"], [0.2222222222222222, \"#7201a8\"], [0.3333333333333333, \"#9c179e\"], [0.4444444444444444, \"#bd3786\"], [0.5555555555555556, \"#d8576b\"], [0.6666666666666666, \"#ed7953\"], [0.7777777777777778, \"#fb9f3a\"], [0.8888888888888888, \"#fdca26\"], [1.0, \"#f0f921\"]], \"type\": \"histogram2d\"}], \"histogram2dcontour\": [{\"colorbar\": {\"outlinewidth\": 0, \"ticks\": \"\"}, \"colorscale\": [[0.0, \"#0d0887\"], [0.1111111111111111, \"#46039f\"], [0.2222222222222222, \"#7201a8\"], [0.3333333333333333, \"#9c179e\"], [0.4444444444444444, \"#bd3786\"], [0.5555555555555556, \"#d8576b\"], [0.6666666666666666, \"#ed7953\"], [0.7777777777777778, \"#fb9f3a\"], [0.8888888888888888, \"#fdca26\"], [1.0, \"#f0f921\"]], \"type\": \"histogram2dcontour\"}], \"mesh3d\": [{\"colorbar\": {\"outlinewidth\": 0, \"ticks\": \"\"}, \"type\": \"mesh3d\"}], \"parcoords\": [{\"line\": {\"colorbar\": {\"outlinewidth\": 0, \"ticks\": \"\"}}, \"type\": \"parcoords\"}], \"pie\": [{\"automargin\": true, \"type\": \"pie\"}], \"scatter\": [{\"marker\": {\"colorbar\": {\"outlinewidth\": 0, \"ticks\": \"\"}}, \"type\": \"scatter\"}], \"scatter3d\": [{\"line\": {\"colorbar\": {\"outlinewidth\": 0, \"ticks\": \"\"}}, \"marker\": {\"colorbar\": {\"outlinewidth\": 0, \"ticks\": \"\"}}, \"type\": \"scatter3d\"}], \"scattercarpet\": [{\"marker\": {\"colorbar\": {\"outlinewidth\": 0, \"ticks\": \"\"}}, \"type\": \"scattercarpet\"}], \"scattergeo\": [{\"marker\": {\"colorbar\": {\"outlinewidth\": 0, \"ticks\": \"\"}}, \"type\": \"scattergeo\"}], \"scattergl\": [{\"marker\": {\"colorbar\": {\"outlinewidth\": 0, \"ticks\": \"\"}}, \"type\": \"scattergl\"}], \"scattermapbox\": [{\"marker\": {\"colorbar\": {\"outlinewidth\": 0, \"ticks\": \"\"}}, \"type\": \"scattermapbox\"}], \"scatterpolar\": [{\"marker\": {\"colorbar\": {\"outlinewidth\": 0, \"ticks\": \"\"}}, \"type\": \"scatterpolar\"}], \"scatterpolargl\": [{\"marker\": {\"colorbar\": {\"outlinewidth\": 0, \"ticks\": \"\"}}, \"type\": \"scatterpolargl\"}], \"scatterternary\": [{\"marker\": {\"colorbar\": {\"outlinewidth\": 0, \"ticks\": \"\"}}, \"type\": \"scatterternary\"}], \"surface\": [{\"colorbar\": {\"outlinewidth\": 0, \"ticks\": \"\"}, \"colorscale\": [[0.0, \"#0d0887\"], [0.1111111111111111, \"#46039f\"], [0.2222222222222222, \"#7201a8\"], [0.3333333333333333, \"#9c179e\"], [0.4444444444444444, \"#bd3786\"], [0.5555555555555556, \"#d8576b\"], [0.6666666666666666, \"#ed7953\"], [0.7777777777777778, \"#fb9f3a\"], [0.8888888888888888, \"#fdca26\"], [1.0, \"#f0f921\"]], \"type\": \"surface\"}], \"table\": [{\"cells\": {\"fill\": {\"color\": \"#EBF0F8\"}, \"line\": {\"color\": \"white\"}}, \"header\": {\"fill\": {\"color\": \"#C8D4E3\"}, \"line\": {\"color\": \"white\"}}, \"type\": \"table\"}]}, \"layout\": {\"annotationdefaults\": {\"arrowcolor\": \"#2a3f5f\", \"arrowhead\": 0, \"arrowwidth\": 1}, \"coloraxis\": {\"colorbar\": {\"outlinewidth\": 0, \"ticks\": \"\"}}, \"colorscale\": {\"diverging\": [[0, \"#8e0152\"], [0.1, \"#c51b7d\"], [0.2, \"#de77ae\"], [0.3, \"#f1b6da\"], [0.4, \"#fde0ef\"], [0.5, \"#f7f7f7\"], [0.6, \"#e6f5d0\"], [0.7, \"#b8e186\"], [0.8, \"#7fbc41\"], [0.9, \"#4d9221\"], [1, \"#276419\"]], \"sequential\": [[0.0, \"#0d0887\"], [0.1111111111111111, \"#46039f\"], [0.2222222222222222, \"#7201a8\"], [0.3333333333333333, \"#9c179e\"], [0.4444444444444444, \"#bd3786\"], [0.5555555555555556, \"#d8576b\"], [0.6666666666666666, \"#ed7953\"], [0.7777777777777778, \"#fb9f3a\"], [0.8888888888888888, \"#fdca26\"], [1.0, \"#f0f921\"]], \"sequentialminus\": [[0.0, \"#0d0887\"], [0.1111111111111111, \"#46039f\"], [0.2222222222222222, \"#7201a8\"], [0.3333333333333333, \"#9c179e\"], [0.4444444444444444, \"#bd3786\"], [0.5555555555555556, \"#d8576b\"], [0.6666666666666666, \"#ed7953\"], [0.7777777777777778, \"#fb9f3a\"], [0.8888888888888888, \"#fdca26\"], [1.0, \"#f0f921\"]]}, \"colorway\": [\"#636efa\", \"#EF553B\", \"#00cc96\", \"#ab63fa\", \"#FFA15A\", \"#19d3f3\", \"#FF6692\", \"#B6E880\", \"#FF97FF\", \"#FECB52\"], \"font\": {\"color\": \"#2a3f5f\"}, \"geo\": {\"bgcolor\": \"white\", \"lakecolor\": \"white\", \"landcolor\": \"#E5ECF6\", \"showlakes\": true, \"showland\": true, \"subunitcolor\": \"white\"}, \"hoverlabel\": {\"align\": \"left\"}, \"hovermode\": \"closest\", \"mapbox\": {\"style\": \"light\"}, \"paper_bgcolor\": \"white\", \"plot_bgcolor\": \"#E5ECF6\", \"polar\": {\"angularaxis\": {\"gridcolor\": \"white\", \"linecolor\": \"white\", \"ticks\": \"\"}, \"bgcolor\": \"#E5ECF6\", \"radialaxis\": {\"gridcolor\": \"white\", \"linecolor\": \"white\", \"ticks\": \"\"}}, \"scene\": {\"xaxis\": {\"backgroundcolor\": \"#E5ECF6\", \"gridcolor\": \"white\", \"gridwidth\": 2, \"linecolor\": \"white\", \"showbackground\": true, \"ticks\": \"\", \"zerolinecolor\": \"white\"}, \"yaxis\": {\"backgroundcolor\": \"#E5ECF6\", \"gridcolor\": \"white\", \"gridwidth\": 2, \"linecolor\": \"white\", \"showbackground\": true, \"ticks\": \"\", \"zerolinecolor\": \"white\"}, \"zaxis\": {\"backgroundcolor\": \"#E5ECF6\", \"gridcolor\": \"white\", \"gridwidth\": 2, \"linecolor\": \"white\", \"showbackground\": true, \"ticks\": \"\", \"zerolinecolor\": \"white\"}}, \"shapedefaults\": {\"line\": {\"color\": \"#2a3f5f\"}}, \"ternary\": {\"aaxis\": {\"gridcolor\": \"white\", \"linecolor\": \"white\", \"ticks\": \"\"}, \"baxis\": {\"gridcolor\": \"white\", \"linecolor\": \"white\", \"ticks\": \"\"}, \"bgcolor\": \"#E5ECF6\", \"caxis\": {\"gridcolor\": \"white\", \"linecolor\": \"white\", \"ticks\": \"\"}}, \"title\": {\"x\": 0.05}, \"xaxis\": {\"automargin\": true, \"gridcolor\": \"white\", \"linecolor\": \"white\", \"ticks\": \"\", \"title\": {\"standoff\": 15}, \"zerolinecolor\": \"white\", \"zerolinewidth\": 2}, \"yaxis\": {\"automargin\": true, \"gridcolor\": \"white\", \"linecolor\": \"white\", \"ticks\": \"\", \"title\": {\"standoff\": 15}, \"zerolinecolor\": \"white\", \"zerolinewidth\": 2}}}, \"xaxis\": {\"anchor\": \"y\", \"domain\": [0.0, 1.0], \"title\": {\"text\": \"No of Neighbours\"}}, \"yaxis\": {\"anchor\": \"x\", \"domain\": [0.0, 1.0], \"range\": [0.2, 0.83], \"title\": {\"text\": \"Score\"}}},                        {\"responsive\": true}                    ).then(function(){\n",
       "                            \n",
       "var gd = document.getElementById('10ae75b2-420f-4a25-98d9-0557c0805793');\n",
       "var x = new MutationObserver(function (mutations, observer) {{\n",
       "        var display = window.getComputedStyle(gd).display;\n",
       "        if (!display || display === 'none') {{\n",
       "            console.log([gd, 'removed!']);\n",
       "            Plotly.purge(gd);\n",
       "            observer.disconnect();\n",
       "        }}\n",
       "}});\n",
       "\n",
       "// Listen for the removal of the full notebook cells\n",
       "var notebookContainer = gd.closest('#notebook-container');\n",
       "if (notebookContainer) {{\n",
       "    x.observe(notebookContainer, {childList: true});\n",
       "}}\n",
       "\n",
       "// Listen for the clearing of the current output cell\n",
       "var outputEl = gd.closest('.output');\n",
       "if (outputEl) {{\n",
       "    x.observe(outputEl, {childList: true});\n",
       "}}\n",
       "\n",
       "                        })                };                });            </script>        </div>"
      ]
     },
     "metadata": {},
     "output_type": "display_data"
    }
   ],
   "source": [
    "neighbours=list(range(1,20))\n",
    "score=[]\n",
    "\n",
    "for i in range (1,20):\n",
    "    model=KNeighborsRegressor(n_neighbors=i)\n",
    "    model.fit(x_train,y_train)\n",
    "    y_predict_i=model.predict(x_test)\n",
    "    score.append(model.score(x_test,y_test))\n",
    "\n",
    "neighbourlist=pd.DataFrame({\"No of Neighbours\":neighbours,\"Score\":score})\n",
    "\n",
    "fig=px.line(neighbourlist,x=\"No of Neighbours\",y=\"Score\",range_y=[0.2,0.83],color_discrete_sequence=[\"slateblue\"])\n",
    "fig.add_annotation(x=5,y=0.73,\n",
    "                   text=\"Optimal number of neighbours, which <br> was already implemented in the initial model!\",\n",
    "                   standoff=0,arrowsize=1,arrowwidth=1.5,arrowhead=2)"
   ]
  },
  {
   "cell_type": "markdown",
   "metadata": {
    "papermill": {
     "duration": 0.050895,
     "end_time": "2020-12-30T13:11:19.456714",
     "exception": false,
     "start_time": "2020-12-30T13:11:19.405819",
     "status": "completed"
    },
    "tags": []
   },
   "source": [
    "Our initial model already had the optimal number of neighbours.."
   ]
  },
  {
   "cell_type": "markdown",
   "metadata": {
    "papermill": {
     "duration": 0.053006,
     "end_time": "2020-12-30T13:11:19.560184",
     "exception": false,
     "start_time": "2020-12-30T13:11:19.507178",
     "status": "completed"
    },
    "tags": []
   },
   "source": [
    "But wait a minute!"
   ]
  },
  {
   "cell_type": "code",
   "execution_count": 40,
   "metadata": {
    "execution": {
     "iopub.execute_input": "2020-12-30T13:11:19.669111Z",
     "iopub.status.busy": "2020-12-30T13:11:19.668324Z",
     "iopub.status.idle": "2020-12-30T13:11:19.672427Z",
     "shell.execute_reply": "2020-12-30T13:11:19.671733Z"
    },
    "papermill": {
     "duration": 0.060834,
     "end_time": "2020-12-30T13:11:19.672568",
     "exception": false,
     "start_time": "2020-12-30T13:11:19.611734",
     "status": "completed"
    },
    "tags": []
   },
   "outputs": [
    {
     "data": {
      "text/plain": [
       "19"
      ]
     },
     "execution_count": 40,
     "metadata": {},
     "output_type": "execute_result"
    }
   ],
   "source": [
    "x.shape[1]"
   ]
  },
  {
   "cell_type": "code",
   "execution_count": 41,
   "metadata": {
    "execution": {
     "iopub.execute_input": "2020-12-30T13:11:19.777984Z",
     "iopub.status.busy": "2020-12-30T13:11:19.776872Z",
     "iopub.status.idle": "2020-12-30T13:11:19.781706Z",
     "shell.execute_reply": "2020-12-30T13:11:19.781038Z"
    },
    "papermill": {
     "duration": 0.059675,
     "end_time": "2020-12-30T13:11:19.781821",
     "exception": false,
     "start_time": "2020-12-30T13:11:19.722146",
     "status": "completed"
    },
    "tags": []
   },
   "outputs": [
    {
     "data": {
      "text/plain": [
       "Index(['Calories', 'Protein', 'Fat', 'Sodium', 'Fiber', 'Carbohydrates',\n",
       "       'Sugars', 'Potassium', 'Vitamins', 'Weight', 'Cups', 'A', 'G', 'K', 'N',\n",
       "       'P', 'Q', 'R', 'Cold'],\n",
       "      dtype='object')"
      ]
     },
     "execution_count": 41,
     "metadata": {},
     "output_type": "execute_result"
    }
   ],
   "source": [
    "x.columns"
   ]
  },
  {
   "cell_type": "markdown",
   "metadata": {
    "papermill": {
     "duration": 0.048828,
     "end_time": "2020-12-30T13:11:19.880213",
     "exception": false,
     "start_time": "2020-12-30T13:11:19.831385",
     "status": "completed"
    },
    "tags": []
   },
   "source": [
    "Our model was taking these 19 variables as input. We had already previously dropped unnecessary columns *Name* and *Shelf* but I wonder what the predictive power of these remaining variables are and if they are all important.."
   ]
  },
  {
   "cell_type": "code",
   "execution_count": 42,
   "metadata": {
    "execution": {
     "iopub.execute_input": "2020-12-30T13:11:19.987396Z",
     "iopub.status.busy": "2020-12-30T13:11:19.986650Z",
     "iopub.status.idle": "2020-12-30T13:11:20.017502Z",
     "shell.execute_reply": "2020-12-30T13:11:20.016831Z"
    },
    "papermill": {
     "duration": 0.088204,
     "end_time": "2020-12-30T13:11:20.017635",
     "exception": false,
     "start_time": "2020-12-30T13:11:19.929431",
     "status": "completed"
    },
    "tags": []
   },
   "outputs": [
    {
     "data": {
      "text/html": [
       "<style  type=\"text/css\" >\n",
       "    #T_2c34634e_4aa2_11eb_a353_820a63678600row0_col1 {\n",
       "            color: black;\n",
       "        }    #T_2c34634e_4aa2_11eb_a353_820a63678600row1_col1 {\n",
       "            color: black;\n",
       "        }    #T_2c34634e_4aa2_11eb_a353_820a63678600row2_col1 {\n",
       "            color: black;\n",
       "        }    #T_2c34634e_4aa2_11eb_a353_820a63678600row3_col1 {\n",
       "            color: black;\n",
       "        }    #T_2c34634e_4aa2_11eb_a353_820a63678600row4_col1 {\n",
       "            color: black;\n",
       "        }    #T_2c34634e_4aa2_11eb_a353_820a63678600row5_col1 {\n",
       "            color: red;\n",
       "        }    #T_2c34634e_4aa2_11eb_a353_820a63678600row6_col1 {\n",
       "            color: black;\n",
       "        }    #T_2c34634e_4aa2_11eb_a353_820a63678600row7_col1 {\n",
       "            color: black;\n",
       "        }    #T_2c34634e_4aa2_11eb_a353_820a63678600row8_col1 {\n",
       "            color: red;\n",
       "        }    #T_2c34634e_4aa2_11eb_a353_820a63678600row9_col1 {\n",
       "            color: black;\n",
       "        }    #T_2c34634e_4aa2_11eb_a353_820a63678600row10_col1 {\n",
       "            color: red;\n",
       "        }    #T_2c34634e_4aa2_11eb_a353_820a63678600row11_col1 {\n",
       "            color: red;\n",
       "        }    #T_2c34634e_4aa2_11eb_a353_820a63678600row12_col1 {\n",
       "            color: black;\n",
       "        }    #T_2c34634e_4aa2_11eb_a353_820a63678600row13_col1 {\n",
       "            color: red;\n",
       "        }    #T_2c34634e_4aa2_11eb_a353_820a63678600row14_col1 {\n",
       "            color: black;\n",
       "        }    #T_2c34634e_4aa2_11eb_a353_820a63678600row15_col1 {\n",
       "            color: red;\n",
       "        }    #T_2c34634e_4aa2_11eb_a353_820a63678600row16_col1 {\n",
       "            color: red;\n",
       "        }    #T_2c34634e_4aa2_11eb_a353_820a63678600row17_col1 {\n",
       "            color: red;\n",
       "        }    #T_2c34634e_4aa2_11eb_a353_820a63678600row18_col1 {\n",
       "            color: red;\n",
       "        }</style><table id=\"T_2c34634e_4aa2_11eb_a353_820a63678600\" ><thead>    <tr>        <th class=\"blank level0\" ></th>        <th class=\"col_heading level0 col0\" >variable</th>        <th class=\"col_heading level0 col1\" >P-value</th>    </tr></thead><tbody>\n",
       "                <tr>\n",
       "                        <th id=\"T_2c34634e_4aa2_11eb_a353_820a63678600level0_row0\" class=\"row_heading level0 row0\" >0</th>\n",
       "                        <td id=\"T_2c34634e_4aa2_11eb_a353_820a63678600row0_col0\" class=\"data row0 col0\" >Calories</td>\n",
       "                        <td id=\"T_2c34634e_4aa2_11eb_a353_820a63678600row0_col1\" class=\"data row0 col1\" >0.000000</td>\n",
       "            </tr>\n",
       "            <tr>\n",
       "                        <th id=\"T_2c34634e_4aa2_11eb_a353_820a63678600level0_row1\" class=\"row_heading level0 row1\" >1</th>\n",
       "                        <td id=\"T_2c34634e_4aa2_11eb_a353_820a63678600row1_col0\" class=\"data row1 col0\" >Protein</td>\n",
       "                        <td id=\"T_2c34634e_4aa2_11eb_a353_820a63678600row1_col1\" class=\"data row1 col1\" >0.000154</td>\n",
       "            </tr>\n",
       "            <tr>\n",
       "                        <th id=\"T_2c34634e_4aa2_11eb_a353_820a63678600level0_row2\" class=\"row_heading level0 row2\" >2</th>\n",
       "                        <td id=\"T_2c34634e_4aa2_11eb_a353_820a63678600row2_col0\" class=\"data row2 col0\" >Fat</td>\n",
       "                        <td id=\"T_2c34634e_4aa2_11eb_a353_820a63678600row2_col1\" class=\"data row2 col1\" >0.000908</td>\n",
       "            </tr>\n",
       "            <tr>\n",
       "                        <th id=\"T_2c34634e_4aa2_11eb_a353_820a63678600level0_row3\" class=\"row_heading level0 row3\" >3</th>\n",
       "                        <td id=\"T_2c34634e_4aa2_11eb_a353_820a63678600row3_col0\" class=\"data row3 col0\" >Sodium</td>\n",
       "                        <td id=\"T_2c34634e_4aa2_11eb_a353_820a63678600row3_col1\" class=\"data row3 col1\" >0.001132</td>\n",
       "            </tr>\n",
       "            <tr>\n",
       "                        <th id=\"T_2c34634e_4aa2_11eb_a353_820a63678600level0_row4\" class=\"row_heading level0 row4\" >4</th>\n",
       "                        <td id=\"T_2c34634e_4aa2_11eb_a353_820a63678600row4_col0\" class=\"data row4 col0\" >Fiber</td>\n",
       "                        <td id=\"T_2c34634e_4aa2_11eb_a353_820a63678600row4_col1\" class=\"data row4 col1\" >0.000000</td>\n",
       "            </tr>\n",
       "            <tr>\n",
       "                        <th id=\"T_2c34634e_4aa2_11eb_a353_820a63678600level0_row5\" class=\"row_heading level0 row5\" >5</th>\n",
       "                        <td id=\"T_2c34634e_4aa2_11eb_a353_820a63678600row5_col0\" class=\"data row5 col0\" >Carbohydrates</td>\n",
       "                        <td id=\"T_2c34634e_4aa2_11eb_a353_820a63678600row5_col1\" class=\"data row5 col1\" >0.921237</td>\n",
       "            </tr>\n",
       "            <tr>\n",
       "                        <th id=\"T_2c34634e_4aa2_11eb_a353_820a63678600level0_row6\" class=\"row_heading level0 row6\" >6</th>\n",
       "                        <td id=\"T_2c34634e_4aa2_11eb_a353_820a63678600row6_col0\" class=\"data row6 col0\" >Sugars</td>\n",
       "                        <td id=\"T_2c34634e_4aa2_11eb_a353_820a63678600row6_col1\" class=\"data row6 col1\" >0.000000</td>\n",
       "            </tr>\n",
       "            <tr>\n",
       "                        <th id=\"T_2c34634e_4aa2_11eb_a353_820a63678600level0_row7\" class=\"row_heading level0 row7\" >7</th>\n",
       "                        <td id=\"T_2c34634e_4aa2_11eb_a353_820a63678600row7_col0\" class=\"data row7 col0\" >Potassium</td>\n",
       "                        <td id=\"T_2c34634e_4aa2_11eb_a353_820a63678600row7_col1\" class=\"data row7 col1\" >0.000266</td>\n",
       "            </tr>\n",
       "            <tr>\n",
       "                        <th id=\"T_2c34634e_4aa2_11eb_a353_820a63678600level0_row8\" class=\"row_heading level0 row8\" >8</th>\n",
       "                        <td id=\"T_2c34634e_4aa2_11eb_a353_820a63678600row8_col0\" class=\"data row8 col0\" >Vitamins</td>\n",
       "                        <td id=\"T_2c34634e_4aa2_11eb_a353_820a63678600row8_col1\" class=\"data row8 col1\" >0.081051</td>\n",
       "            </tr>\n",
       "            <tr>\n",
       "                        <th id=\"T_2c34634e_4aa2_11eb_a353_820a63678600level0_row9\" class=\"row_heading level0 row9\" >9</th>\n",
       "                        <td id=\"T_2c34634e_4aa2_11eb_a353_820a63678600row9_col0\" class=\"data row9 col0\" >Weight</td>\n",
       "                        <td id=\"T_2c34634e_4aa2_11eb_a353_820a63678600row9_col1\" class=\"data row9 col1\" >0.022149</td>\n",
       "            </tr>\n",
       "            <tr>\n",
       "                        <th id=\"T_2c34634e_4aa2_11eb_a353_820a63678600level0_row10\" class=\"row_heading level0 row10\" >10</th>\n",
       "                        <td id=\"T_2c34634e_4aa2_11eb_a353_820a63678600row10_col0\" class=\"data row10 col0\" >Cups</td>\n",
       "                        <td id=\"T_2c34634e_4aa2_11eb_a353_820a63678600row10_col1\" class=\"data row10 col1\" >0.142837</td>\n",
       "            </tr>\n",
       "            <tr>\n",
       "                        <th id=\"T_2c34634e_4aa2_11eb_a353_820a63678600level0_row11\" class=\"row_heading level0 row11\" >11</th>\n",
       "                        <td id=\"T_2c34634e_4aa2_11eb_a353_820a63678600row11_col0\" class=\"data row11 col0\" >A</td>\n",
       "                        <td id=\"T_2c34634e_4aa2_11eb_a353_820a63678600row11_col1\" class=\"data row11 col1\" >0.428976</td>\n",
       "            </tr>\n",
       "            <tr>\n",
       "                        <th id=\"T_2c34634e_4aa2_11eb_a353_820a63678600level0_row12\" class=\"row_heading level0 row12\" >12</th>\n",
       "                        <td id=\"T_2c34634e_4aa2_11eb_a353_820a63678600row12_col0\" class=\"data row12 col0\" >G</td>\n",
       "                        <td id=\"T_2c34634e_4aa2_11eb_a353_820a63678600row12_col1\" class=\"data row12 col1\" >0.015511</td>\n",
       "            </tr>\n",
       "            <tr>\n",
       "                        <th id=\"T_2c34634e_4aa2_11eb_a353_820a63678600level0_row13\" class=\"row_heading level0 row13\" >13</th>\n",
       "                        <td id=\"T_2c34634e_4aa2_11eb_a353_820a63678600row13_col0\" class=\"data row13 col0\" >K</td>\n",
       "                        <td id=\"T_2c34634e_4aa2_11eb_a353_820a63678600row13_col1\" class=\"data row13 col1\" >0.991570</td>\n",
       "            </tr>\n",
       "            <tr>\n",
       "                        <th id=\"T_2c34634e_4aa2_11eb_a353_820a63678600level0_row14\" class=\"row_heading level0 row14\" >14</th>\n",
       "                        <td id=\"T_2c34634e_4aa2_11eb_a353_820a63678600row14_col0\" class=\"data row14 col0\" >N</td>\n",
       "                        <td id=\"T_2c34634e_4aa2_11eb_a353_820a63678600row14_col1\" class=\"data row14 col1\" >0.000014</td>\n",
       "            </tr>\n",
       "            <tr>\n",
       "                        <th id=\"T_2c34634e_4aa2_11eb_a353_820a63678600level0_row15\" class=\"row_heading level0 row15\" >15</th>\n",
       "                        <td id=\"T_2c34634e_4aa2_11eb_a353_820a63678600row15_col0\" class=\"data row15 col0\" >P</td>\n",
       "                        <td id=\"T_2c34634e_4aa2_11eb_a353_820a63678600row15_col1\" class=\"data row15 col1\" >0.597342</td>\n",
       "            </tr>\n",
       "            <tr>\n",
       "                        <th id=\"T_2c34634e_4aa2_11eb_a353_820a63678600level0_row16\" class=\"row_heading level0 row16\" >16</th>\n",
       "                        <td id=\"T_2c34634e_4aa2_11eb_a353_820a63678600row16_col0\" class=\"data row16 col0\" >Q</td>\n",
       "                        <td id=\"T_2c34634e_4aa2_11eb_a353_820a63678600row16_col1\" class=\"data row16 col1\" >0.532244</td>\n",
       "            </tr>\n",
       "            <tr>\n",
       "                        <th id=\"T_2c34634e_4aa2_11eb_a353_820a63678600level0_row17\" class=\"row_heading level0 row17\" >17</th>\n",
       "                        <td id=\"T_2c34634e_4aa2_11eb_a353_820a63678600row17_col0\" class=\"data row17 col0\" >R</td>\n",
       "                        <td id=\"T_2c34634e_4aa2_11eb_a353_820a63678600row17_col1\" class=\"data row17 col1\" >0.602912</td>\n",
       "            </tr>\n",
       "            <tr>\n",
       "                        <th id=\"T_2c34634e_4aa2_11eb_a353_820a63678600level0_row18\" class=\"row_heading level0 row18\" >18</th>\n",
       "                        <td id=\"T_2c34634e_4aa2_11eb_a353_820a63678600row18_col0\" class=\"data row18 col0\" >Cold</td>\n",
       "                        <td id=\"T_2c34634e_4aa2_11eb_a353_820a63678600row18_col1\" class=\"data row18 col1\" >0.349364</td>\n",
       "            </tr>\n",
       "    </tbody></table>"
      ],
      "text/plain": [
       "<pandas.io.formats.style.Styler at 0x7f94cb69fd60>"
      ]
     },
     "execution_count": 42,
     "metadata": {},
     "output_type": "execute_result"
    }
   ],
   "source": [
    "from sklearn.feature_selection import SelectKBest,f_regression\n",
    "\n",
    "selector=SelectKBest(f_regression,k=\"all\")\n",
    "selector.fit(x_train,y_train)\n",
    "\n",
    "pvals=pd.DataFrame({\"variable\":x.columns,\"P-value\":selector.pvalues_})\n",
    "def color_pvalues_red(val):\n",
    "    color=\"red\" if val>0.05 else \"black\"\n",
    "    return \"color:%s\" % color\n",
    "pvals.style.applymap(color_pvalues_red,subset=pd.IndexSlice[:,\"P-value\"])"
   ]
  },
  {
   "cell_type": "markdown",
   "metadata": {
    "papermill": {
     "duration": 0.051967,
     "end_time": "2020-12-30T13:11:20.122163",
     "exception": false,
     "start_time": "2020-12-30T13:11:20.070196",
     "status": "completed"
    },
    "tags": []
   },
   "source": [
    "So it seems *carbohydrates*, *cups*, *A*, *K*, *P*, *Q*, *R* and *cold* do not have much predicitive power so we can remove these from the input and test if the model is any more accurate."
   ]
  },
  {
   "cell_type": "code",
   "execution_count": 43,
   "metadata": {
    "execution": {
     "iopub.execute_input": "2020-12-30T13:11:20.235995Z",
     "iopub.status.busy": "2020-12-30T13:11:20.235269Z",
     "iopub.status.idle": "2020-12-30T13:11:20.243198Z",
     "shell.execute_reply": "2020-12-30T13:11:20.242519Z"
    },
    "papermill": {
     "duration": 0.067957,
     "end_time": "2020-12-30T13:11:20.243343",
     "exception": false,
     "start_time": "2020-12-30T13:11:20.175386",
     "status": "completed"
    },
    "tags": []
   },
   "outputs": [
    {
     "data": {
      "text/plain": [
       "0.9109939603399623"
      ]
     },
     "execution_count": 43,
     "metadata": {},
     "output_type": "execute_result"
    }
   ],
   "source": [
    "x_train=np.delete(x_train,[5,8,10,11,13,15,16,17,18],1)\n",
    "x_test=np.delete(x_test,[5,8,10,11,13,15,16,17,18],1)\n",
    "\n",
    "model=KNeighborsRegressor(n_neighbors=5)\n",
    "model.fit(x_train,y_train)\n",
    "y_predict=model.predict(x_test)\n",
    "\n",
    "model.score(x_test,y_test)"
   ]
  },
  {
   "cell_type": "markdown",
   "metadata": {
    "papermill": {
     "duration": 0.050848,
     "end_time": "2020-12-30T13:11:20.346097",
     "exception": false,
     "start_time": "2020-12-30T13:11:20.295249",
     "status": "completed"
    },
    "tags": []
   },
   "source": [
    "Yes we have improved the accuracy from it's initial 72% to 91% by removing columns with low predictive power!"
   ]
  }
 ],
 "metadata": {
  "kernelspec": {
   "display_name": "Python 3",
   "language": "python",
   "name": "python3"
  },
  "language_info": {
   "codemirror_mode": {
    "name": "ipython",
    "version": 3
   },
   "file_extension": ".py",
   "mimetype": "text/x-python",
   "name": "python",
   "nbconvert_exporter": "python",
   "pygments_lexer": "ipython3",
   "version": "3.8.3"
  },
  "papermill": {
   "duration": 18.028299,
   "end_time": "2020-12-30T13:11:20.507944",
   "environment_variables": {},
   "exception": null,
   "input_path": "__notebook__.ipynb",
   "output_path": "__notebook__.ipynb",
   "parameters": {},
   "start_time": "2020-12-30T13:11:02.479645",
   "version": "2.1.0"
  }
 },
 "nbformat": 4,
 "nbformat_minor": 4
}
