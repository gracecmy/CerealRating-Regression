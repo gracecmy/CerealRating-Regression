{
 "cells": [
  {
   "cell_type": "markdown",
   "metadata": {
    "papermill": {
     "duration": 0.038014,
     "end_time": "2020-12-29T23:15:14.162950",
     "exception": false,
     "start_time": "2020-12-29T23:15:14.124936",
     "status": "completed"
    },
    "tags": []
   },
   "source": [
    "Should the most important meal of the day be yummy or nutritious? Can't it be both?"
   ]
  },
  {
   "cell_type": "code",
   "execution_count": 1,
   "metadata": {
    "execution": {
     "iopub.execute_input": "2020-12-29T23:15:14.239913Z",
     "iopub.status.busy": "2020-12-29T23:15:14.239175Z",
     "iopub.status.idle": "2020-12-29T23:15:16.326912Z",
     "shell.execute_reply": "2020-12-29T23:15:16.326192Z"
    },
    "papermill": {
     "duration": 2.127325,
     "end_time": "2020-12-29T23:15:16.327062",
     "exception": false,
     "start_time": "2020-12-29T23:15:14.199737",
     "status": "completed"
    },
    "tags": []
   },
   "outputs": [],
   "source": [
    "import numpy as np\n",
    "import pandas as pd\n",
    "import plotly.express as px #I will only be using plotly express to visualise the data\n",
    "import scipy.stats as stats"
   ]
  },
  {
   "cell_type": "code",
   "execution_count": 2,
   "metadata": {
    "execution": {
     "iopub.execute_input": "2020-12-29T23:15:16.421595Z",
     "iopub.status.busy": "2020-12-29T23:15:16.420787Z",
     "iopub.status.idle": "2020-12-29T23:15:16.470490Z",
     "shell.execute_reply": "2020-12-29T23:15:16.469786Z"
    },
    "papermill": {
     "duration": 0.10685,
     "end_time": "2020-12-29T23:15:16.470620",
     "exception": false,
     "start_time": "2020-12-29T23:15:16.363770",
     "status": "completed"
    },
    "tags": []
   },
   "outputs": [
    {
     "data": {
      "text/html": [
       "<div>\n",
       "<style scoped>\n",
       "    .dataframe tbody tr th:only-of-type {\n",
       "        vertical-align: middle;\n",
       "    }\n",
       "\n",
       "    .dataframe tbody tr th {\n",
       "        vertical-align: top;\n",
       "    }\n",
       "\n",
       "    .dataframe thead th {\n",
       "        text-align: right;\n",
       "    }\n",
       "</style>\n",
       "<table border=\"1\" class=\"dataframe\">\n",
       "  <thead>\n",
       "    <tr style=\"text-align: right;\">\n",
       "      <th></th>\n",
       "      <th>Name</th>\n",
       "      <th>Manufacturer</th>\n",
       "      <th>Type</th>\n",
       "      <th>Calories</th>\n",
       "      <th>Protein</th>\n",
       "      <th>Fat</th>\n",
       "      <th>Sodium</th>\n",
       "      <th>Fiber</th>\n",
       "      <th>Carbohydrates</th>\n",
       "      <th>Sugars</th>\n",
       "      <th>Potassium</th>\n",
       "      <th>Vitamins</th>\n",
       "      <th>Shelf</th>\n",
       "      <th>Weight</th>\n",
       "      <th>Cups</th>\n",
       "      <th>Rating</th>\n",
       "    </tr>\n",
       "  </thead>\n",
       "  <tbody>\n",
       "    <tr>\n",
       "      <th>0</th>\n",
       "      <td>100% Bran</td>\n",
       "      <td>N</td>\n",
       "      <td>C</td>\n",
       "      <td>70</td>\n",
       "      <td>4</td>\n",
       "      <td>1</td>\n",
       "      <td>130</td>\n",
       "      <td>10.0</td>\n",
       "      <td>5.0</td>\n",
       "      <td>6</td>\n",
       "      <td>280</td>\n",
       "      <td>25</td>\n",
       "      <td>3</td>\n",
       "      <td>1.0</td>\n",
       "      <td>0.33</td>\n",
       "      <td>68.402973</td>\n",
       "    </tr>\n",
       "    <tr>\n",
       "      <th>1</th>\n",
       "      <td>100% Natural Bran</td>\n",
       "      <td>Q</td>\n",
       "      <td>C</td>\n",
       "      <td>120</td>\n",
       "      <td>3</td>\n",
       "      <td>5</td>\n",
       "      <td>15</td>\n",
       "      <td>2.0</td>\n",
       "      <td>8.0</td>\n",
       "      <td>8</td>\n",
       "      <td>135</td>\n",
       "      <td>0</td>\n",
       "      <td>3</td>\n",
       "      <td>1.0</td>\n",
       "      <td>1.00</td>\n",
       "      <td>33.983679</td>\n",
       "    </tr>\n",
       "    <tr>\n",
       "      <th>2</th>\n",
       "      <td>All-Bran</td>\n",
       "      <td>K</td>\n",
       "      <td>C</td>\n",
       "      <td>70</td>\n",
       "      <td>4</td>\n",
       "      <td>1</td>\n",
       "      <td>260</td>\n",
       "      <td>9.0</td>\n",
       "      <td>7.0</td>\n",
       "      <td>5</td>\n",
       "      <td>320</td>\n",
       "      <td>25</td>\n",
       "      <td>3</td>\n",
       "      <td>1.0</td>\n",
       "      <td>0.33</td>\n",
       "      <td>59.425505</td>\n",
       "    </tr>\n",
       "    <tr>\n",
       "      <th>3</th>\n",
       "      <td>All-Bran with Extra Fiber</td>\n",
       "      <td>K</td>\n",
       "      <td>C</td>\n",
       "      <td>50</td>\n",
       "      <td>4</td>\n",
       "      <td>0</td>\n",
       "      <td>140</td>\n",
       "      <td>14.0</td>\n",
       "      <td>8.0</td>\n",
       "      <td>0</td>\n",
       "      <td>330</td>\n",
       "      <td>25</td>\n",
       "      <td>3</td>\n",
       "      <td>1.0</td>\n",
       "      <td>0.50</td>\n",
       "      <td>93.704912</td>\n",
       "    </tr>\n",
       "    <tr>\n",
       "      <th>4</th>\n",
       "      <td>Almond Delight</td>\n",
       "      <td>R</td>\n",
       "      <td>C</td>\n",
       "      <td>110</td>\n",
       "      <td>2</td>\n",
       "      <td>2</td>\n",
       "      <td>200</td>\n",
       "      <td>1.0</td>\n",
       "      <td>14.0</td>\n",
       "      <td>8</td>\n",
       "      <td>-1</td>\n",
       "      <td>25</td>\n",
       "      <td>3</td>\n",
       "      <td>1.0</td>\n",
       "      <td>0.75</td>\n",
       "      <td>34.384843</td>\n",
       "    </tr>\n",
       "  </tbody>\n",
       "</table>\n",
       "</div>"
      ],
      "text/plain": [
       "                        Name Manufacturer Type  Calories  Protein  Fat  \\\n",
       "0                  100% Bran            N    C        70        4    1   \n",
       "1          100% Natural Bran            Q    C       120        3    5   \n",
       "2                   All-Bran            K    C        70        4    1   \n",
       "3  All-Bran with Extra Fiber            K    C        50        4    0   \n",
       "4             Almond Delight            R    C       110        2    2   \n",
       "\n",
       "   Sodium  Fiber  Carbohydrates  Sugars  Potassium  Vitamins  Shelf  Weight  \\\n",
       "0     130   10.0            5.0       6        280        25      3     1.0   \n",
       "1      15    2.0            8.0       8        135         0      3     1.0   \n",
       "2     260    9.0            7.0       5        320        25      3     1.0   \n",
       "3     140   14.0            8.0       0        330        25      3     1.0   \n",
       "4     200    1.0           14.0       8         -1        25      3     1.0   \n",
       "\n",
       "   Cups     Rating  \n",
       "0  0.33  68.402973  \n",
       "1  1.00  33.983679  \n",
       "2  0.33  59.425505  \n",
       "3  0.50  93.704912  \n",
       "4  0.75  34.384843  "
      ]
     },
     "execution_count": 2,
     "metadata": {},
     "output_type": "execute_result"
    }
   ],
   "source": [
    "df=pd.read_csv(\"../input/80-cereals/cereal.csv\")\n",
    "df.rename(columns=lambda x:x.title(),inplace=True)\n",
    "df.rename(columns={\"Mfr\":\"Manufacturer\",\"Potass\":\"Potassium\",\"Carbo\":\"Carbohydrates\"},inplace=True)\n",
    "df.head()"
   ]
  },
  {
   "cell_type": "markdown",
   "metadata": {
    "papermill": {
     "duration": 0.037531,
     "end_time": "2020-12-29T23:15:16.545469",
     "exception": false,
     "start_time": "2020-12-29T23:15:16.507938",
     "status": "completed"
    },
    "tags": []
   },
   "source": [
    "A survey of 80 cereals was conducted to include information on:\n",
    "- *Name*: cereal name\n",
    "- *Manufacturer*: cereal manufacturer\n",
    "    - *A* = American Home Food Products\n",
    "    - *G* = General Mills\n",
    "    - *K* = Kelloggs\n",
    "    - *N* = Nabisco\n",
    "    - *P* = Post\n",
    "    - *Q* = Quaker Oats\n",
    "    - *R* = Ralston Purina\n",
    "- *Type*:\n",
    "    - *C* = cold\n",
    "    - *H* = hot\n",
    "- *Calories*: calories per serving\n",
    "- *Protein*: grams of protein\n",
    "- *Fat*: grams of fat\n",
    "- *Sodium*: milligrams of sodium\n",
    "- *Fiber*: grams of dietary fiber\n",
    "- *Carbohydrates*: grams of complex carbohydrates\n",
    "- *Sugars*: grams of sugars\n",
    "- *Potassium*: milligrams of potassium\n",
    "- *Vitamins*: percentage (0, 25, or 100) of vitamins and minerals recommended by the FDA\n",
    "- *Shelf*: location of the cereal on the display shelf counting from the floor (1, 2, or 3)\n",
    "- *Weight*: weight in ounces of one serving\n",
    "- *Cups*: number of cups in one serving\n",
    "- *Rating*: rating of the cereal\n",
    "\n",
    "You should note that the survey was conducted in the early 90's so you most probably won't be able to find many of the cereals available to us today. What we can do is determine what people were eating almost 2 decades ago!"
   ]
  },
  {
   "cell_type": "code",
   "execution_count": 3,
   "metadata": {
    "execution": {
     "iopub.execute_input": "2020-12-29T23:15:16.637254Z",
     "iopub.status.busy": "2020-12-29T23:15:16.636440Z",
     "iopub.status.idle": "2020-12-29T23:15:16.641281Z",
     "shell.execute_reply": "2020-12-29T23:15:16.640592Z"
    },
    "papermill": {
     "duration": 0.059342,
     "end_time": "2020-12-29T23:15:16.641423",
     "exception": false,
     "start_time": "2020-12-29T23:15:16.582081",
     "status": "completed"
    },
    "tags": []
   },
   "outputs": [
    {
     "name": "stdout",
     "output_type": "stream",
     "text": [
      "<class 'pandas.core.frame.DataFrame'>\n",
      "RangeIndex: 77 entries, 0 to 76\n",
      "Data columns (total 16 columns):\n",
      " #   Column         Non-Null Count  Dtype  \n",
      "---  ------         --------------  -----  \n",
      " 0   Name           77 non-null     object \n",
      " 1   Manufacturer   77 non-null     object \n",
      " 2   Type           77 non-null     object \n",
      " 3   Calories       77 non-null     int64  \n",
      " 4   Protein        77 non-null     int64  \n",
      " 5   Fat            77 non-null     int64  \n",
      " 6   Sodium         77 non-null     int64  \n",
      " 7   Fiber          77 non-null     float64\n",
      " 8   Carbohydrates  77 non-null     float64\n",
      " 9   Sugars         77 non-null     int64  \n",
      " 10  Potassium      77 non-null     int64  \n",
      " 11  Vitamins       77 non-null     int64  \n",
      " 12  Shelf          77 non-null     int64  \n",
      " 13  Weight         77 non-null     float64\n",
      " 14  Cups           77 non-null     float64\n",
      " 15  Rating         77 non-null     float64\n",
      "dtypes: float64(5), int64(8), object(3)\n",
      "memory usage: 9.8+ KB\n"
     ]
    }
   ],
   "source": [
    "df.info()"
   ]
  },
  {
   "cell_type": "markdown",
   "metadata": {
    "papermill": {
     "duration": 0.037097,
     "end_time": "2020-12-29T23:15:16.716640",
     "exception": false,
     "start_time": "2020-12-29T23:15:16.679543",
     "status": "completed"
    },
    "tags": []
   },
   "source": [
    "No null values - good start."
   ]
  },
  {
   "cell_type": "code",
   "execution_count": 4,
   "metadata": {
    "execution": {
     "iopub.execute_input": "2020-12-29T23:15:16.802923Z",
     "iopub.status.busy": "2020-12-29T23:15:16.802038Z",
     "iopub.status.idle": "2020-12-29T23:15:16.887598Z",
     "shell.execute_reply": "2020-12-29T23:15:16.886944Z"
    },
    "papermill": {
     "duration": 0.130922,
     "end_time": "2020-12-29T23:15:16.887740",
     "exception": false,
     "start_time": "2020-12-29T23:15:16.756818",
     "status": "completed"
    },
    "tags": []
   },
   "outputs": [
    {
     "data": {
      "text/html": [
       "<div>\n",
       "<style scoped>\n",
       "    .dataframe tbody tr th:only-of-type {\n",
       "        vertical-align: middle;\n",
       "    }\n",
       "\n",
       "    .dataframe tbody tr th {\n",
       "        vertical-align: top;\n",
       "    }\n",
       "\n",
       "    .dataframe thead th {\n",
       "        text-align: right;\n",
       "    }\n",
       "</style>\n",
       "<table border=\"1\" class=\"dataframe\">\n",
       "  <thead>\n",
       "    <tr style=\"text-align: right;\">\n",
       "      <th></th>\n",
       "      <th>count</th>\n",
       "      <th>unique</th>\n",
       "      <th>top</th>\n",
       "      <th>freq</th>\n",
       "      <th>mean</th>\n",
       "      <th>std</th>\n",
       "      <th>min</th>\n",
       "      <th>25%</th>\n",
       "      <th>50%</th>\n",
       "      <th>75%</th>\n",
       "      <th>max</th>\n",
       "    </tr>\n",
       "  </thead>\n",
       "  <tbody>\n",
       "    <tr>\n",
       "      <th>Name</th>\n",
       "      <td>77</td>\n",
       "      <td>77</td>\n",
       "      <td>Nutri-Grain Almond-Raisin</td>\n",
       "      <td>1</td>\n",
       "      <td>NaN</td>\n",
       "      <td>NaN</td>\n",
       "      <td>NaN</td>\n",
       "      <td>NaN</td>\n",
       "      <td>NaN</td>\n",
       "      <td>NaN</td>\n",
       "      <td>NaN</td>\n",
       "    </tr>\n",
       "    <tr>\n",
       "      <th>Manufacturer</th>\n",
       "      <td>77</td>\n",
       "      <td>7</td>\n",
       "      <td>K</td>\n",
       "      <td>23</td>\n",
       "      <td>NaN</td>\n",
       "      <td>NaN</td>\n",
       "      <td>NaN</td>\n",
       "      <td>NaN</td>\n",
       "      <td>NaN</td>\n",
       "      <td>NaN</td>\n",
       "      <td>NaN</td>\n",
       "    </tr>\n",
       "    <tr>\n",
       "      <th>Type</th>\n",
       "      <td>77</td>\n",
       "      <td>2</td>\n",
       "      <td>C</td>\n",
       "      <td>74</td>\n",
       "      <td>NaN</td>\n",
       "      <td>NaN</td>\n",
       "      <td>NaN</td>\n",
       "      <td>NaN</td>\n",
       "      <td>NaN</td>\n",
       "      <td>NaN</td>\n",
       "      <td>NaN</td>\n",
       "    </tr>\n",
       "    <tr>\n",
       "      <th>Calories</th>\n",
       "      <td>77</td>\n",
       "      <td>NaN</td>\n",
       "      <td>NaN</td>\n",
       "      <td>NaN</td>\n",
       "      <td>106.883</td>\n",
       "      <td>19.4841</td>\n",
       "      <td>50</td>\n",
       "      <td>100</td>\n",
       "      <td>110</td>\n",
       "      <td>110</td>\n",
       "      <td>160</td>\n",
       "    </tr>\n",
       "    <tr>\n",
       "      <th>Protein</th>\n",
       "      <td>77</td>\n",
       "      <td>NaN</td>\n",
       "      <td>NaN</td>\n",
       "      <td>NaN</td>\n",
       "      <td>2.54545</td>\n",
       "      <td>1.09479</td>\n",
       "      <td>1</td>\n",
       "      <td>2</td>\n",
       "      <td>3</td>\n",
       "      <td>3</td>\n",
       "      <td>6</td>\n",
       "    </tr>\n",
       "    <tr>\n",
       "      <th>Fat</th>\n",
       "      <td>77</td>\n",
       "      <td>NaN</td>\n",
       "      <td>NaN</td>\n",
       "      <td>NaN</td>\n",
       "      <td>1.01299</td>\n",
       "      <td>1.00647</td>\n",
       "      <td>0</td>\n",
       "      <td>0</td>\n",
       "      <td>1</td>\n",
       "      <td>2</td>\n",
       "      <td>5</td>\n",
       "    </tr>\n",
       "    <tr>\n",
       "      <th>Sodium</th>\n",
       "      <td>77</td>\n",
       "      <td>NaN</td>\n",
       "      <td>NaN</td>\n",
       "      <td>NaN</td>\n",
       "      <td>159.675</td>\n",
       "      <td>83.8323</td>\n",
       "      <td>0</td>\n",
       "      <td>130</td>\n",
       "      <td>180</td>\n",
       "      <td>210</td>\n",
       "      <td>320</td>\n",
       "    </tr>\n",
       "    <tr>\n",
       "      <th>Fiber</th>\n",
       "      <td>77</td>\n",
       "      <td>NaN</td>\n",
       "      <td>NaN</td>\n",
       "      <td>NaN</td>\n",
       "      <td>2.15195</td>\n",
       "      <td>2.38336</td>\n",
       "      <td>0</td>\n",
       "      <td>1</td>\n",
       "      <td>2</td>\n",
       "      <td>3</td>\n",
       "      <td>14</td>\n",
       "    </tr>\n",
       "    <tr>\n",
       "      <th>Carbohydrates</th>\n",
       "      <td>77</td>\n",
       "      <td>NaN</td>\n",
       "      <td>NaN</td>\n",
       "      <td>NaN</td>\n",
       "      <td>14.5974</td>\n",
       "      <td>4.27896</td>\n",
       "      <td>-1</td>\n",
       "      <td>12</td>\n",
       "      <td>14</td>\n",
       "      <td>17</td>\n",
       "      <td>23</td>\n",
       "    </tr>\n",
       "    <tr>\n",
       "      <th>Sugars</th>\n",
       "      <td>77</td>\n",
       "      <td>NaN</td>\n",
       "      <td>NaN</td>\n",
       "      <td>NaN</td>\n",
       "      <td>6.92208</td>\n",
       "      <td>4.44489</td>\n",
       "      <td>-1</td>\n",
       "      <td>3</td>\n",
       "      <td>7</td>\n",
       "      <td>11</td>\n",
       "      <td>15</td>\n",
       "    </tr>\n",
       "    <tr>\n",
       "      <th>Potassium</th>\n",
       "      <td>77</td>\n",
       "      <td>NaN</td>\n",
       "      <td>NaN</td>\n",
       "      <td>NaN</td>\n",
       "      <td>96.0779</td>\n",
       "      <td>71.2868</td>\n",
       "      <td>-1</td>\n",
       "      <td>40</td>\n",
       "      <td>90</td>\n",
       "      <td>120</td>\n",
       "      <td>330</td>\n",
       "    </tr>\n",
       "    <tr>\n",
       "      <th>Vitamins</th>\n",
       "      <td>77</td>\n",
       "      <td>NaN</td>\n",
       "      <td>NaN</td>\n",
       "      <td>NaN</td>\n",
       "      <td>28.2468</td>\n",
       "      <td>22.3425</td>\n",
       "      <td>0</td>\n",
       "      <td>25</td>\n",
       "      <td>25</td>\n",
       "      <td>25</td>\n",
       "      <td>100</td>\n",
       "    </tr>\n",
       "    <tr>\n",
       "      <th>Shelf</th>\n",
       "      <td>77</td>\n",
       "      <td>NaN</td>\n",
       "      <td>NaN</td>\n",
       "      <td>NaN</td>\n",
       "      <td>2.20779</td>\n",
       "      <td>0.832524</td>\n",
       "      <td>1</td>\n",
       "      <td>1</td>\n",
       "      <td>2</td>\n",
       "      <td>3</td>\n",
       "      <td>3</td>\n",
       "    </tr>\n",
       "    <tr>\n",
       "      <th>Weight</th>\n",
       "      <td>77</td>\n",
       "      <td>NaN</td>\n",
       "      <td>NaN</td>\n",
       "      <td>NaN</td>\n",
       "      <td>1.02961</td>\n",
       "      <td>0.150477</td>\n",
       "      <td>0.5</td>\n",
       "      <td>1</td>\n",
       "      <td>1</td>\n",
       "      <td>1</td>\n",
       "      <td>1.5</td>\n",
       "    </tr>\n",
       "    <tr>\n",
       "      <th>Cups</th>\n",
       "      <td>77</td>\n",
       "      <td>NaN</td>\n",
       "      <td>NaN</td>\n",
       "      <td>NaN</td>\n",
       "      <td>0.821039</td>\n",
       "      <td>0.232716</td>\n",
       "      <td>0.25</td>\n",
       "      <td>0.67</td>\n",
       "      <td>0.75</td>\n",
       "      <td>1</td>\n",
       "      <td>1.5</td>\n",
       "    </tr>\n",
       "    <tr>\n",
       "      <th>Rating</th>\n",
       "      <td>77</td>\n",
       "      <td>NaN</td>\n",
       "      <td>NaN</td>\n",
       "      <td>NaN</td>\n",
       "      <td>42.6657</td>\n",
       "      <td>14.0473</td>\n",
       "      <td>18.0429</td>\n",
       "      <td>33.1741</td>\n",
       "      <td>40.4002</td>\n",
       "      <td>50.8284</td>\n",
       "      <td>93.7049</td>\n",
       "    </tr>\n",
       "  </tbody>\n",
       "</table>\n",
       "</div>"
      ],
      "text/plain": [
       "              count unique                        top freq      mean  \\\n",
       "Name             77     77  Nutri-Grain Almond-Raisin    1       NaN   \n",
       "Manufacturer     77      7                          K   23       NaN   \n",
       "Type             77      2                          C   74       NaN   \n",
       "Calories         77    NaN                        NaN  NaN   106.883   \n",
       "Protein          77    NaN                        NaN  NaN   2.54545   \n",
       "Fat              77    NaN                        NaN  NaN   1.01299   \n",
       "Sodium           77    NaN                        NaN  NaN   159.675   \n",
       "Fiber            77    NaN                        NaN  NaN   2.15195   \n",
       "Carbohydrates    77    NaN                        NaN  NaN   14.5974   \n",
       "Sugars           77    NaN                        NaN  NaN   6.92208   \n",
       "Potassium        77    NaN                        NaN  NaN   96.0779   \n",
       "Vitamins         77    NaN                        NaN  NaN   28.2468   \n",
       "Shelf            77    NaN                        NaN  NaN   2.20779   \n",
       "Weight           77    NaN                        NaN  NaN   1.02961   \n",
       "Cups             77    NaN                        NaN  NaN  0.821039   \n",
       "Rating           77    NaN                        NaN  NaN   42.6657   \n",
       "\n",
       "                    std      min      25%      50%      75%      max  \n",
       "Name                NaN      NaN      NaN      NaN      NaN      NaN  \n",
       "Manufacturer        NaN      NaN      NaN      NaN      NaN      NaN  \n",
       "Type                NaN      NaN      NaN      NaN      NaN      NaN  \n",
       "Calories        19.4841       50      100      110      110      160  \n",
       "Protein         1.09479        1        2        3        3        6  \n",
       "Fat             1.00647        0        0        1        2        5  \n",
       "Sodium          83.8323        0      130      180      210      320  \n",
       "Fiber           2.38336        0        1        2        3       14  \n",
       "Carbohydrates   4.27896       -1       12       14       17       23  \n",
       "Sugars          4.44489       -1        3        7       11       15  \n",
       "Potassium       71.2868       -1       40       90      120      330  \n",
       "Vitamins        22.3425        0       25       25       25      100  \n",
       "Shelf          0.832524        1        1        2        3        3  \n",
       "Weight         0.150477      0.5        1        1        1      1.5  \n",
       "Cups           0.232716     0.25     0.67     0.75        1      1.5  \n",
       "Rating          14.0473  18.0429  33.1741  40.4002  50.8284  93.7049  "
      ]
     },
     "execution_count": 4,
     "metadata": {},
     "output_type": "execute_result"
    }
   ],
   "source": [
    "df.describe(include=\"all\").T"
   ]
  },
  {
   "cell_type": "markdown",
   "metadata": {
    "papermill": {
     "duration": 0.038066,
     "end_time": "2020-12-29T23:15:16.964538",
     "exception": false,
     "start_time": "2020-12-29T23:15:16.926472",
     "status": "completed"
    },
    "tags": []
   },
   "source": [
    "However it is not possible to have negative *carbohydrates*, *sugars* or *potassium*, instead I will change these to 0:"
   ]
  },
  {
   "cell_type": "code",
   "execution_count": 5,
   "metadata": {
    "execution": {
     "iopub.execute_input": "2020-12-29T23:15:17.063351Z",
     "iopub.status.busy": "2020-12-29T23:15:17.062336Z",
     "iopub.status.idle": "2020-12-29T23:15:17.065120Z",
     "shell.execute_reply": "2020-12-29T23:15:17.064441Z"
    },
    "papermill": {
     "duration": 0.061918,
     "end_time": "2020-12-29T23:15:17.065277",
     "exception": false,
     "start_time": "2020-12-29T23:15:17.003359",
     "status": "completed"
    },
    "tags": []
   },
   "outputs": [],
   "source": [
    "df.loc[(df[\"Carbohydrates\"]<0)|(df[\"Sugars\"]<0)|(df[\"Potassium\"]<0)]=df.loc[(df[\"Carbohydrates\"]<0)|(df[\"Sugars\"]<0)|(df[\"Potassium\"]<0)].replace(-1,0)"
   ]
  },
  {
   "cell_type": "code",
   "execution_count": 6,
   "metadata": {
    "execution": {
     "iopub.execute_input": "2020-12-29T23:15:17.151114Z",
     "iopub.status.busy": "2020-12-29T23:15:17.150178Z",
     "iopub.status.idle": "2020-12-29T23:15:18.338371Z",
     "shell.execute_reply": "2020-12-29T23:15:18.337629Z"
    },
    "papermill": {
     "duration": 1.234013,
     "end_time": "2020-12-29T23:15:18.338504",
     "exception": false,
     "start_time": "2020-12-29T23:15:17.104491",
     "status": "completed"
    },
    "scrolled": false,
    "tags": []
   },
   "outputs": [
    {
     "data": {
      "text/html": [
       "        <script type=\"text/javascript\">\n",
       "        window.PlotlyConfig = {MathJaxConfig: 'local'};\n",
       "        if (window.MathJax) {MathJax.Hub.Config({SVG: {font: \"STIX-Web\"}});}\n",
       "        if (typeof require !== 'undefined') {\n",
       "        require.undef(\"plotly\");\n",
       "        requirejs.config({\n",
       "            paths: {\n",
       "                'plotly': ['https://cdn.plot.ly/plotly-latest.min']\n",
       "            }\n",
       "        });\n",
       "        require(['plotly'], function(Plotly) {\n",
       "            window._Plotly = Plotly;\n",
       "        });\n",
       "        }\n",
       "        </script>\n",
       "        "
      ]
     },
     "metadata": {},
     "output_type": "display_data"
    },
    {
     "data": {
      "text/html": [
       "<div>                            <div id=\"85b68c47-31d5-4495-9290-b8c6eb3c646a\" class=\"plotly-graph-div\" style=\"height:525px; width:100%;\"></div>            <script type=\"text/javascript\">                require([\"plotly\"], function(Plotly) {                    window.PLOTLYENV=window.PLOTLYENV || {};                                    if (document.getElementById(\"85b68c47-31d5-4495-9290-b8c6eb3c646a\")) {                    Plotly.newPlot(                        \"85b68c47-31d5-4495-9290-b8c6eb3c646a\",                        [{\"alignmentgroup\": \"True\", \"customdata\": [[\"Cap'n'Crunch\"], [\"Cinnamon Toast Crunch\"], [\"Honey Graham Ohs\"], [\"Count Chocula\"], [\"Cocoa Puffs\"], [\"Golden Grahams\"], [\"Lucky Charms\"], [\"Trix\"], [\"Fruity Pebbles\"], [\"Total Raisin Bran\"], [\"Honey-comb\"], [\"Apple Cinnamon Cheerios\"], [\"Nut&Honey Crunch\"], [\"Mueslix Crispy Blend\"], [\"Oatmeal Raisin Crisp\"], [\"Honey Nut Cheerios\"], [\"Smacks\"], [\"Frosted Flakes\"], [\"Froot Loops\"], [\"Apple Jacks\"], [\"100% Natural Bran\"], [\"Muesli Raisins; Peaches; & Pecans\"], [\"Almond Delight\"], [\"Golden Crisp\"], [\"Corn Pops\"], [\"Crispy Wheat & Raisins\"], [\"Wheaties Honey Gold\"], [\"Just Right Fruit & Nut\"], [\"Just Right Crunchy  Nuggets\"], [\"Basic 4\"], [\"Muesli Raisins; Dates; & Almonds\"], [\"Post Nat. Raisin Bran\"], [\"Total Corn Flakes\"], [\"Triples\"], [\"Kix\"], [\"Raisin Bran\"], [\"Raisin Nut Bran\"], [\"Multi-Grain Cheerios\"], [\"Clusters\"], [\"Cracklin' Oat Bran\"], [\"Rice Krispies\"], [\"Nutri-Grain Almond-Raisin\"], [\"Fruit & Fibre Dates; Walnuts; and Oats\"], [\"Fruitful Bran\"], [\"Corn Chex\"], [\"Product 19\"], [\"Rice Chex\"], [\"Double Chex\"], [\"Life\"], [\"Great Grains Pecan\"], [\"Corn Flakes\"], [\"Total Whole Grain\"], [\"Crispix\"], [\"Bran Chex\"], [\"Quaker Oat Squares\"], [\"Wheat Chex\"], [\"Cheerios\"], [\"Quaker Oatmeal\"], [\"Wheaties\"], [\"Grape Nuts Flakes\"], [\"Special K\"], [\"Bran Flakes\"], [\"Grape-Nuts\"], [\"Maypo\"], [\"Raisin Squares\"], [\"Frosted Mini-Wheats\"], [\"Strawberry Fruit Wheats\"], [\"All-Bran\"], [\"Nutri-grain Wheat\"], [\"Puffed Rice\"], [\"Puffed Wheat\"], [\"Cream of Wheat (Quick)\"], [\"Shredded Wheat\"], [\"100% Bran\"], [\"Shredded Wheat spoon size\"], [\"Shredded Wheat 'n'Bran\"], [\"All-Bran with Extra Fiber\"]], \"hovertemplate\": \"<b>%{hovertext}</b><br><br>Rating (%)=%{marker.color}<extra></extra>\", \"hovertext\": [\"Cap'n'Crunch\", \"Cinnamon Toast Crunch\", \"Honey Graham Ohs\", \"Count Chocula\", \"Cocoa Puffs\", \"Golden Grahams\", \"Lucky Charms\", \"Trix\", \"Fruity Pebbles\", \"Total Raisin Bran\", \"Honey-comb\", \"Apple Cinnamon Cheerios\", \"Nut&Honey Crunch\", \"Mueslix Crispy Blend\", \"Oatmeal Raisin Crisp\", \"Honey Nut Cheerios\", \"Smacks\", \"Frosted Flakes\", \"Froot Loops\", \"Apple Jacks\", \"100% Natural Bran\", \"Muesli Raisins; Peaches; & Pecans\", \"Almond Delight\", \"Golden Crisp\", \"Corn Pops\", \"Crispy Wheat & Raisins\", \"Wheaties Honey Gold\", \"Just Right Fruit & Nut\", \"Just Right Crunchy  Nuggets\", \"Basic 4\", \"Muesli Raisins; Dates; & Almonds\", \"Post Nat. Raisin Bran\", \"Total Corn Flakes\", \"Triples\", \"Kix\", \"Raisin Bran\", \"Raisin Nut Bran\", \"Multi-Grain Cheerios\", \"Clusters\", \"Cracklin' Oat Bran\", \"Rice Krispies\", \"Nutri-Grain Almond-Raisin\", \"Fruit & Fibre Dates; Walnuts; and Oats\", \"Fruitful Bran\", \"Corn Chex\", \"Product 19\", \"Rice Chex\", \"Double Chex\", \"Life\", \"Great Grains Pecan\", \"Corn Flakes\", \"Total Whole Grain\", \"Crispix\", \"Bran Chex\", \"Quaker Oat Squares\", \"Wheat Chex\", \"Cheerios\", \"Quaker Oatmeal\", \"Wheaties\", \"Grape Nuts Flakes\", \"Special K\", \"Bran Flakes\", \"Grape-Nuts\", \"Maypo\", \"Raisin Squares\", \"Frosted Mini-Wheats\", \"Strawberry Fruit Wheats\", \"All-Bran\", \"Nutri-grain Wheat\", \"Puffed Rice\", \"Puffed Wheat\", \"Cream of Wheat (Quick)\", \"Shredded Wheat\", \"100% Bran\", \"Shredded Wheat spoon size\", \"Shredded Wheat 'n'Bran\", \"All-Bran with Extra Fiber\"], \"legendgroup\": \"\", \"marker\": {\"color\": [18.042851000000002, 19.823573, 21.871292, 22.396513, 22.736446, 23.804043, 26.734515000000002, 27.753301, 28.025765000000003, 28.592785, 28.742414, 29.509541, 29.924284999999998, 30.313351, 30.450843, 31.072217, 31.230054, 31.435972999999997, 32.207582, 33.174094000000004, 33.983678999999995, 34.139765000000004, 34.384843, 35.252444, 35.782790999999996, 36.176196000000004, 36.187559, 36.471512, 36.523683, 37.038562, 37.136863, 37.840594, 38.839746000000005, 39.106173999999996, 39.241114, 39.259197, 39.7034, 40.105965000000005, 40.400208, 40.448772, 40.560159000000006, 40.69232, 40.917047, 41.015492, 41.445019, 41.50354, 41.998933, 44.330856, 45.328074, 45.811716, 45.863324, 46.658844, 46.895644, 49.120253000000005, 49.511874, 49.787445, 50.764998999999996, 50.828392, 51.592193, 52.076896999999995, 53.131324, 53.313813, 53.37100699999999, 54.850917, 55.333142, 58.345141000000005, 59.36399300000001, 59.425505, 59.642837, 60.756112, 63.005644999999994, 64.533816, 68.235885, 68.402973, 72.801787, 74.472949, 93.704912], \"coloraxis\": \"coloraxis\"}, \"name\": \"\", \"offsetgroup\": \"\", \"orientation\": \"h\", \"showlegend\": false, \"textposition\": \"auto\", \"type\": \"bar\", \"x\": [18.042851000000002, 19.823573, 21.871292, 22.396513, 22.736446, 23.804043, 26.734515000000002, 27.753301, 28.025765000000003, 28.592785, 28.742414, 29.509541, 29.924284999999998, 30.313351, 30.450843, 31.072217, 31.230054, 31.435972999999997, 32.207582, 33.174094000000004, 33.983678999999995, 34.139765000000004, 34.384843, 35.252444, 35.782790999999996, 36.176196000000004, 36.187559, 36.471512, 36.523683, 37.038562, 37.136863, 37.840594, 38.839746000000005, 39.106173999999996, 39.241114, 39.259197, 39.7034, 40.105965000000005, 40.400208, 40.448772, 40.560159000000006, 40.69232, 40.917047, 41.015492, 41.445019, 41.50354, 41.998933, 44.330856, 45.328074, 45.811716, 45.863324, 46.658844, 46.895644, 49.120253000000005, 49.511874, 49.787445, 50.764998999999996, 50.828392, 51.592193, 52.076896999999995, 53.131324, 53.313813, 53.37100699999999, 54.850917, 55.333142, 58.345141000000005, 59.36399300000001, 59.425505, 59.642837, 60.756112, 63.005644999999994, 64.533816, 68.235885, 68.402973, 72.801787, 74.472949, 93.704912], \"xaxis\": \"x\", \"y\": [\"Cap'n'Crunch\", \"Cinnamon Toast Crunch\", \"Honey Graham Ohs\", \"Count Chocula\", \"Cocoa Puffs\", \"Golden Grahams\", \"Lucky Charms\", \"Trix\", \"Fruity Pebbles\", \"Total Raisin Bran\", \"Honey-comb\", \"Apple Cinnamon Cheerios\", \"Nut&Honey Crunch\", \"Mueslix Crispy Blend\", \"Oatmeal Raisin Crisp\", \"Honey Nut Cheerios\", \"Smacks\", \"Frosted Flakes\", \"Froot Loops\", \"Apple Jacks\", \"100% Natural Bran\", \"Muesli Raisins; Peaches; & Pecans\", \"Almond Delight\", \"Golden Crisp\", \"Corn Pops\", \"Crispy Wheat & Raisins\", \"Wheaties Honey Gold\", \"Just Right Fruit & Nut\", \"Just Right Crunchy  Nuggets\", \"Basic 4\", \"Muesli Raisins; Dates; & Almonds\", \"Post Nat. Raisin Bran\", \"Total Corn Flakes\", \"Triples\", \"Kix\", \"Raisin Bran\", \"Raisin Nut Bran\", \"Multi-Grain Cheerios\", \"Clusters\", \"Cracklin' Oat Bran\", \"Rice Krispies\", \"Nutri-Grain Almond-Raisin\", \"Fruit & Fibre Dates; Walnuts; and Oats\", \"Fruitful Bran\", \"Corn Chex\", \"Product 19\", \"Rice Chex\", \"Double Chex\", \"Life\", \"Great Grains Pecan\", \"Corn Flakes\", \"Total Whole Grain\", \"Crispix\", \"Bran Chex\", \"Quaker Oat Squares\", \"Wheat Chex\", \"Cheerios\", \"Quaker Oatmeal\", \"Wheaties\", \"Grape Nuts Flakes\", \"Special K\", \"Bran Flakes\", \"Grape-Nuts\", \"Maypo\", \"Raisin Squares\", \"Frosted Mini-Wheats\", \"Strawberry Fruit Wheats\", \"All-Bran\", \"Nutri-grain Wheat\", \"Puffed Rice\", \"Puffed Wheat\", \"Cream of Wheat (Quick)\", \"Shredded Wheat\", \"100% Bran\", \"Shredded Wheat spoon size\", \"Shredded Wheat 'n'Bran\", \"All-Bran with Extra Fiber\"], \"yaxis\": \"y\"}],                        {\"barmode\": \"relative\", \"coloraxis\": {\"colorbar\": {\"title\": {\"text\": \"Rating (%)\"}}, \"colorscale\": [[0.0, \"rgb(176, 242, 188)\"], [0.16666666666666666, \"rgb(137, 232, 172)\"], [0.3333333333333333, \"rgb(103, 219, 165)\"], [0.5, \"rgb(76, 200, 163)\"], [0.6666666666666666, \"rgb(56, 178, 163)\"], [0.8333333333333334, \"rgb(44, 152, 160)\"], [1.0, \"rgb(37, 125, 152)\"]]}, \"legend\": {\"tracegroupgap\": 0}, \"margin\": {\"t\": 60}, \"template\": {\"data\": {\"bar\": [{\"error_x\": {\"color\": \"#2a3f5f\"}, \"error_y\": {\"color\": \"#2a3f5f\"}, \"marker\": {\"line\": {\"color\": \"#E5ECF6\", \"width\": 0.5}}, \"type\": \"bar\"}], \"barpolar\": [{\"marker\": {\"line\": {\"color\": \"#E5ECF6\", \"width\": 0.5}}, \"type\": \"barpolar\"}], \"carpet\": [{\"aaxis\": {\"endlinecolor\": \"#2a3f5f\", \"gridcolor\": \"white\", \"linecolor\": \"white\", \"minorgridcolor\": \"white\", \"startlinecolor\": \"#2a3f5f\"}, \"baxis\": {\"endlinecolor\": \"#2a3f5f\", \"gridcolor\": \"white\", \"linecolor\": \"white\", \"minorgridcolor\": \"white\", \"startlinecolor\": \"#2a3f5f\"}, \"type\": \"carpet\"}], \"choropleth\": [{\"colorbar\": {\"outlinewidth\": 0, \"ticks\": \"\"}, \"type\": \"choropleth\"}], \"contour\": [{\"colorbar\": {\"outlinewidth\": 0, \"ticks\": \"\"}, \"colorscale\": [[0.0, \"#0d0887\"], [0.1111111111111111, \"#46039f\"], [0.2222222222222222, \"#7201a8\"], [0.3333333333333333, \"#9c179e\"], [0.4444444444444444, \"#bd3786\"], [0.5555555555555556, \"#d8576b\"], [0.6666666666666666, \"#ed7953\"], [0.7777777777777778, \"#fb9f3a\"], [0.8888888888888888, \"#fdca26\"], [1.0, \"#f0f921\"]], \"type\": \"contour\"}], \"contourcarpet\": [{\"colorbar\": {\"outlinewidth\": 0, \"ticks\": \"\"}, \"type\": \"contourcarpet\"}], \"heatmap\": [{\"colorbar\": {\"outlinewidth\": 0, \"ticks\": \"\"}, \"colorscale\": [[0.0, \"#0d0887\"], [0.1111111111111111, \"#46039f\"], [0.2222222222222222, \"#7201a8\"], [0.3333333333333333, \"#9c179e\"], [0.4444444444444444, \"#bd3786\"], [0.5555555555555556, \"#d8576b\"], [0.6666666666666666, \"#ed7953\"], [0.7777777777777778, \"#fb9f3a\"], [0.8888888888888888, \"#fdca26\"], [1.0, \"#f0f921\"]], \"type\": \"heatmap\"}], \"heatmapgl\": [{\"colorbar\": {\"outlinewidth\": 0, \"ticks\": \"\"}, \"colorscale\": [[0.0, \"#0d0887\"], [0.1111111111111111, \"#46039f\"], [0.2222222222222222, \"#7201a8\"], [0.3333333333333333, \"#9c179e\"], [0.4444444444444444, \"#bd3786\"], [0.5555555555555556, \"#d8576b\"], [0.6666666666666666, \"#ed7953\"], [0.7777777777777778, \"#fb9f3a\"], [0.8888888888888888, \"#fdca26\"], [1.0, \"#f0f921\"]], \"type\": \"heatmapgl\"}], \"histogram\": [{\"marker\": {\"colorbar\": {\"outlinewidth\": 0, \"ticks\": \"\"}}, \"type\": \"histogram\"}], \"histogram2d\": [{\"colorbar\": {\"outlinewidth\": 0, \"ticks\": \"\"}, \"colorscale\": [[0.0, \"#0d0887\"], [0.1111111111111111, \"#46039f\"], [0.2222222222222222, \"#7201a8\"], [0.3333333333333333, \"#9c179e\"], [0.4444444444444444, \"#bd3786\"], [0.5555555555555556, \"#d8576b\"], [0.6666666666666666, \"#ed7953\"], [0.7777777777777778, \"#fb9f3a\"], [0.8888888888888888, \"#fdca26\"], [1.0, \"#f0f921\"]], \"type\": \"histogram2d\"}], \"histogram2dcontour\": [{\"colorbar\": {\"outlinewidth\": 0, \"ticks\": \"\"}, \"colorscale\": [[0.0, \"#0d0887\"], [0.1111111111111111, \"#46039f\"], [0.2222222222222222, \"#7201a8\"], [0.3333333333333333, \"#9c179e\"], [0.4444444444444444, \"#bd3786\"], [0.5555555555555556, \"#d8576b\"], [0.6666666666666666, \"#ed7953\"], [0.7777777777777778, \"#fb9f3a\"], [0.8888888888888888, \"#fdca26\"], [1.0, \"#f0f921\"]], \"type\": \"histogram2dcontour\"}], \"mesh3d\": [{\"colorbar\": {\"outlinewidth\": 0, \"ticks\": \"\"}, \"type\": \"mesh3d\"}], \"parcoords\": [{\"line\": {\"colorbar\": {\"outlinewidth\": 0, \"ticks\": \"\"}}, \"type\": \"parcoords\"}], \"pie\": [{\"automargin\": true, \"type\": \"pie\"}], \"scatter\": [{\"marker\": {\"colorbar\": {\"outlinewidth\": 0, \"ticks\": \"\"}}, \"type\": \"scatter\"}], \"scatter3d\": [{\"line\": {\"colorbar\": {\"outlinewidth\": 0, \"ticks\": \"\"}}, \"marker\": {\"colorbar\": {\"outlinewidth\": 0, \"ticks\": \"\"}}, \"type\": \"scatter3d\"}], \"scattercarpet\": [{\"marker\": {\"colorbar\": {\"outlinewidth\": 0, \"ticks\": \"\"}}, \"type\": \"scattercarpet\"}], \"scattergeo\": [{\"marker\": {\"colorbar\": {\"outlinewidth\": 0, \"ticks\": \"\"}}, \"type\": \"scattergeo\"}], \"scattergl\": [{\"marker\": {\"colorbar\": {\"outlinewidth\": 0, \"ticks\": \"\"}}, \"type\": \"scattergl\"}], \"scattermapbox\": [{\"marker\": {\"colorbar\": {\"outlinewidth\": 0, \"ticks\": \"\"}}, \"type\": \"scattermapbox\"}], \"scatterpolar\": [{\"marker\": {\"colorbar\": {\"outlinewidth\": 0, \"ticks\": \"\"}}, \"type\": \"scatterpolar\"}], \"scatterpolargl\": [{\"marker\": {\"colorbar\": {\"outlinewidth\": 0, \"ticks\": \"\"}}, \"type\": \"scatterpolargl\"}], \"scatterternary\": [{\"marker\": {\"colorbar\": {\"outlinewidth\": 0, \"ticks\": \"\"}}, \"type\": \"scatterternary\"}], \"surface\": [{\"colorbar\": {\"outlinewidth\": 0, \"ticks\": \"\"}, \"colorscale\": [[0.0, \"#0d0887\"], [0.1111111111111111, \"#46039f\"], [0.2222222222222222, \"#7201a8\"], [0.3333333333333333, \"#9c179e\"], [0.4444444444444444, \"#bd3786\"], [0.5555555555555556, \"#d8576b\"], [0.6666666666666666, \"#ed7953\"], [0.7777777777777778, \"#fb9f3a\"], [0.8888888888888888, \"#fdca26\"], [1.0, \"#f0f921\"]], \"type\": \"surface\"}], \"table\": [{\"cells\": {\"fill\": {\"color\": \"#EBF0F8\"}, \"line\": {\"color\": \"white\"}}, \"header\": {\"fill\": {\"color\": \"#C8D4E3\"}, \"line\": {\"color\": \"white\"}}, \"type\": \"table\"}]}, \"layout\": {\"annotationdefaults\": {\"arrowcolor\": \"#2a3f5f\", \"arrowhead\": 0, \"arrowwidth\": 1}, \"coloraxis\": {\"colorbar\": {\"outlinewidth\": 0, \"ticks\": \"\"}}, \"colorscale\": {\"diverging\": [[0, \"#8e0152\"], [0.1, \"#c51b7d\"], [0.2, \"#de77ae\"], [0.3, \"#f1b6da\"], [0.4, \"#fde0ef\"], [0.5, \"#f7f7f7\"], [0.6, \"#e6f5d0\"], [0.7, \"#b8e186\"], [0.8, \"#7fbc41\"], [0.9, \"#4d9221\"], [1, \"#276419\"]], \"sequential\": [[0.0, \"#0d0887\"], [0.1111111111111111, \"#46039f\"], [0.2222222222222222, \"#7201a8\"], [0.3333333333333333, \"#9c179e\"], [0.4444444444444444, \"#bd3786\"], [0.5555555555555556, \"#d8576b\"], [0.6666666666666666, \"#ed7953\"], [0.7777777777777778, \"#fb9f3a\"], [0.8888888888888888, \"#fdca26\"], [1.0, \"#f0f921\"]], \"sequentialminus\": [[0.0, \"#0d0887\"], [0.1111111111111111, \"#46039f\"], [0.2222222222222222, \"#7201a8\"], [0.3333333333333333, \"#9c179e\"], [0.4444444444444444, \"#bd3786\"], [0.5555555555555556, \"#d8576b\"], [0.6666666666666666, \"#ed7953\"], [0.7777777777777778, \"#fb9f3a\"], [0.8888888888888888, \"#fdca26\"], [1.0, \"#f0f921\"]]}, \"colorway\": [\"#636efa\", \"#EF553B\", \"#00cc96\", \"#ab63fa\", \"#FFA15A\", \"#19d3f3\", \"#FF6692\", \"#B6E880\", \"#FF97FF\", \"#FECB52\"], \"font\": {\"color\": \"#2a3f5f\"}, \"geo\": {\"bgcolor\": \"white\", \"lakecolor\": \"white\", \"landcolor\": \"#E5ECF6\", \"showlakes\": true, \"showland\": true, \"subunitcolor\": \"white\"}, \"hoverlabel\": {\"align\": \"left\"}, \"hovermode\": \"closest\", \"mapbox\": {\"style\": \"light\"}, \"paper_bgcolor\": \"white\", \"plot_bgcolor\": \"#E5ECF6\", \"polar\": {\"angularaxis\": {\"gridcolor\": \"white\", \"linecolor\": \"white\", \"ticks\": \"\"}, \"bgcolor\": \"#E5ECF6\", \"radialaxis\": {\"gridcolor\": \"white\", \"linecolor\": \"white\", \"ticks\": \"\"}}, \"scene\": {\"xaxis\": {\"backgroundcolor\": \"#E5ECF6\", \"gridcolor\": \"white\", \"gridwidth\": 2, \"linecolor\": \"white\", \"showbackground\": true, \"ticks\": \"\", \"zerolinecolor\": \"white\"}, \"yaxis\": {\"backgroundcolor\": \"#E5ECF6\", \"gridcolor\": \"white\", \"gridwidth\": 2, \"linecolor\": \"white\", \"showbackground\": true, \"ticks\": \"\", \"zerolinecolor\": \"white\"}, \"zaxis\": {\"backgroundcolor\": \"#E5ECF6\", \"gridcolor\": \"white\", \"gridwidth\": 2, \"linecolor\": \"white\", \"showbackground\": true, \"ticks\": \"\", \"zerolinecolor\": \"white\"}}, \"shapedefaults\": {\"line\": {\"color\": \"#2a3f5f\"}}, \"ternary\": {\"aaxis\": {\"gridcolor\": \"white\", \"linecolor\": \"white\", \"ticks\": \"\"}, \"baxis\": {\"gridcolor\": \"white\", \"linecolor\": \"white\", \"ticks\": \"\"}, \"bgcolor\": \"#E5ECF6\", \"caxis\": {\"gridcolor\": \"white\", \"linecolor\": \"white\", \"ticks\": \"\"}}, \"title\": {\"x\": 0.05}, \"xaxis\": {\"automargin\": true, \"gridcolor\": \"white\", \"linecolor\": \"white\", \"ticks\": \"\", \"title\": {\"standoff\": 15}, \"zerolinecolor\": \"white\", \"zerolinewidth\": 2}, \"yaxis\": {\"automargin\": true, \"gridcolor\": \"white\", \"linecolor\": \"white\", \"ticks\": \"\", \"title\": {\"standoff\": 15}, \"zerolinecolor\": \"white\", \"zerolinewidth\": 2}}}, \"xaxis\": {\"anchor\": \"y\", \"domain\": [0.0, 1.0], \"title\": {\"text\": \"Rating (%)\"}}, \"yaxis\": {\"anchor\": \"x\", \"domain\": [0.0, 1.0], \"title\": {\"text\": \"\"}}},                        {\"responsive\": true}                    ).then(function(){\n",
       "                            \n",
       "var gd = document.getElementById('85b68c47-31d5-4495-9290-b8c6eb3c646a');\n",
       "var x = new MutationObserver(function (mutations, observer) {{\n",
       "        var display = window.getComputedStyle(gd).display;\n",
       "        if (!display || display === 'none') {{\n",
       "            console.log([gd, 'removed!']);\n",
       "            Plotly.purge(gd);\n",
       "            observer.disconnect();\n",
       "        }}\n",
       "}});\n",
       "\n",
       "// Listen for the removal of the full notebook cells\n",
       "var notebookContainer = gd.closest('#notebook-container');\n",
       "if (notebookContainer) {{\n",
       "    x.observe(notebookContainer, {childList: true});\n",
       "}}\n",
       "\n",
       "// Listen for the clearing of the current output cell\n",
       "var outputEl = gd.closest('.output');\n",
       "if (outputEl) {{\n",
       "    x.observe(outputEl, {childList: true});\n",
       "}}\n",
       "\n",
       "                        })                };                });            </script>        </div>"
      ]
     },
     "metadata": {},
     "output_type": "display_data"
    }
   ],
   "source": [
    "px.bar(df.sort_values(by=\"Rating\",ascending=True),x=\"Rating\",y=\"Name\",\n",
    "      labels={\"Name\":\"\",\"Rating\":\"Rating (%)\"},hover_name=\"Name\",hover_data={\"Name\":False},\n",
    "      color=\"Rating\",color_continuous_scale=\"tealgrn\",template=\"plotly\")"
   ]
  },
  {
   "cell_type": "markdown",
   "metadata": {
    "papermill": {
     "duration": 0.03895,
     "end_time": "2020-12-29T23:15:18.417513",
     "exception": false,
     "start_time": "2020-12-29T23:15:18.378563",
     "status": "completed"
    },
    "tags": []
   },
   "source": [
    "The favourite cereal is *All-Bran with Extra Fibre* (so healthy!), and the least favourite is actually one of my favourites *Cap'n'Crunch*.."
   ]
  },
  {
   "cell_type": "code",
   "execution_count": 7,
   "metadata": {
    "execution": {
     "iopub.execute_input": "2020-12-29T23:15:18.504000Z",
     "iopub.status.busy": "2020-12-29T23:15:18.503043Z",
     "iopub.status.idle": "2020-12-29T23:15:18.507623Z",
     "shell.execute_reply": "2020-12-29T23:15:18.507035Z"
    },
    "papermill": {
     "duration": 0.050737,
     "end_time": "2020-12-29T23:15:18.507750",
     "exception": false,
     "start_time": "2020-12-29T23:15:18.457013",
     "status": "completed"
    },
    "tags": []
   },
   "outputs": [
    {
     "data": {
      "text/plain": [
       "array(['N', 'Q', 'K', 'R', 'G', 'P', 'A'], dtype=object)"
      ]
     },
     "execution_count": 7,
     "metadata": {},
     "output_type": "execute_result"
    }
   ],
   "source": [
    "df[\"Manufacturer\"].unique()"
   ]
  },
  {
   "cell_type": "code",
   "execution_count": 8,
   "metadata": {
    "execution": {
     "iopub.execute_input": "2020-12-29T23:15:18.595688Z",
     "iopub.status.busy": "2020-12-29T23:15:18.594444Z",
     "iopub.status.idle": "2020-12-29T23:15:18.599514Z",
     "shell.execute_reply": "2020-12-29T23:15:18.598757Z"
    },
    "papermill": {
     "duration": 0.051798,
     "end_time": "2020-12-29T23:15:18.599644",
     "exception": false,
     "start_time": "2020-12-29T23:15:18.547846",
     "status": "completed"
    },
    "tags": []
   },
   "outputs": [
    {
     "data": {
      "text/plain": [
       "array(['C', 'H'], dtype=object)"
      ]
     },
     "execution_count": 8,
     "metadata": {},
     "output_type": "execute_result"
    }
   ],
   "source": [
    "df[\"Type\"].unique()"
   ]
  },
  {
   "cell_type": "code",
   "execution_count": 9,
   "metadata": {
    "execution": {
     "iopub.execute_input": "2020-12-29T23:15:18.700935Z",
     "iopub.status.busy": "2020-12-29T23:15:18.700000Z",
     "iopub.status.idle": "2020-12-29T23:15:18.823020Z",
     "shell.execute_reply": "2020-12-29T23:15:18.822413Z"
    },
    "papermill": {
     "duration": 0.181438,
     "end_time": "2020-12-29T23:15:18.823147",
     "exception": false,
     "start_time": "2020-12-29T23:15:18.641709",
     "status": "completed"
    },
    "tags": []
   },
   "outputs": [
    {
     "data": {
      "text/html": [
       "<div>                            <div id=\"564b42b9-0721-4d2a-b7d0-4e2b927a5e80\" class=\"plotly-graph-div\" style=\"height:525px; width:100%;\"></div>            <script type=\"text/javascript\">                require([\"plotly\"], function(Plotly) {                    window.PLOTLYENV=window.PLOTLYENV || {};                                    if (document.getElementById(\"564b42b9-0721-4d2a-b7d0-4e2b927a5e80\")) {                    Plotly.newPlot(                        \"564b42b9-0721-4d2a-b7d0-4e2b927a5e80\",                        [{\"branchvalues\": \"total\", \"domain\": {\"x\": [0.0, 1.0], \"y\": [0.0, 1.0]}, \"hovertemplate\": \"labels=%{label}<br>count=%{value}<br>parent=%{parent}<br>id=%{id}<extra></extra>\", \"ids\": [\"G/C\", \"K/C\", \"N/C\", \"P/C\", \"Q/C\", \"R/C\", \"A/H\", \"N/H\", \"Q/H\", \"A\", \"G\", \"K\", \"N\", \"P\", \"Q\", \"R\"], \"labels\": [\"C\", \"C\", \"C\", \"C\", \"C\", \"C\", \"H\", \"H\", \"H\", \"A\", \"G\", \"K\", \"N\", \"P\", \"Q\", \"R\"], \"name\": \"\", \"parents\": [\"G\", \"K\", \"N\", \"P\", \"Q\", \"R\", \"A\", \"N\", \"Q\", \"\", \"\", \"\", \"\", \"\", \"\", \"\"], \"type\": \"sunburst\", \"values\": [22, 23, 5, 9, 7, 8, 1, 1, 1, 1, 22, 23, 6, 9, 8, 8]}],                        {\"legend\": {\"tracegroupgap\": 0}, \"margin\": {\"t\": 60}, \"template\": {\"data\": {\"bar\": [{\"error_x\": {\"color\": \"#2a3f5f\"}, \"error_y\": {\"color\": \"#2a3f5f\"}, \"marker\": {\"line\": {\"color\": \"#E5ECF6\", \"width\": 0.5}}, \"type\": \"bar\"}], \"barpolar\": [{\"marker\": {\"line\": {\"color\": \"#E5ECF6\", \"width\": 0.5}}, \"type\": \"barpolar\"}], \"carpet\": [{\"aaxis\": {\"endlinecolor\": \"#2a3f5f\", \"gridcolor\": \"white\", \"linecolor\": \"white\", \"minorgridcolor\": \"white\", \"startlinecolor\": \"#2a3f5f\"}, \"baxis\": {\"endlinecolor\": \"#2a3f5f\", \"gridcolor\": \"white\", \"linecolor\": \"white\", \"minorgridcolor\": \"white\", \"startlinecolor\": \"#2a3f5f\"}, \"type\": \"carpet\"}], \"choropleth\": [{\"colorbar\": {\"outlinewidth\": 0, \"ticks\": \"\"}, \"type\": \"choropleth\"}], \"contour\": [{\"colorbar\": {\"outlinewidth\": 0, \"ticks\": \"\"}, \"colorscale\": [[0.0, \"#0d0887\"], [0.1111111111111111, \"#46039f\"], [0.2222222222222222, \"#7201a8\"], [0.3333333333333333, \"#9c179e\"], [0.4444444444444444, \"#bd3786\"], [0.5555555555555556, \"#d8576b\"], [0.6666666666666666, \"#ed7953\"], [0.7777777777777778, \"#fb9f3a\"], [0.8888888888888888, \"#fdca26\"], [1.0, \"#f0f921\"]], \"type\": \"contour\"}], \"contourcarpet\": [{\"colorbar\": {\"outlinewidth\": 0, \"ticks\": \"\"}, \"type\": \"contourcarpet\"}], \"heatmap\": [{\"colorbar\": {\"outlinewidth\": 0, \"ticks\": \"\"}, \"colorscale\": [[0.0, \"#0d0887\"], [0.1111111111111111, \"#46039f\"], [0.2222222222222222, \"#7201a8\"], [0.3333333333333333, \"#9c179e\"], [0.4444444444444444, \"#bd3786\"], [0.5555555555555556, \"#d8576b\"], [0.6666666666666666, \"#ed7953\"], [0.7777777777777778, \"#fb9f3a\"], [0.8888888888888888, \"#fdca26\"], [1.0, \"#f0f921\"]], \"type\": \"heatmap\"}], \"heatmapgl\": [{\"colorbar\": {\"outlinewidth\": 0, \"ticks\": \"\"}, \"colorscale\": [[0.0, \"#0d0887\"], [0.1111111111111111, \"#46039f\"], [0.2222222222222222, \"#7201a8\"], [0.3333333333333333, \"#9c179e\"], [0.4444444444444444, \"#bd3786\"], [0.5555555555555556, \"#d8576b\"], [0.6666666666666666, \"#ed7953\"], [0.7777777777777778, \"#fb9f3a\"], [0.8888888888888888, \"#fdca26\"], [1.0, \"#f0f921\"]], \"type\": \"heatmapgl\"}], \"histogram\": [{\"marker\": {\"colorbar\": {\"outlinewidth\": 0, \"ticks\": \"\"}}, \"type\": \"histogram\"}], \"histogram2d\": [{\"colorbar\": {\"outlinewidth\": 0, \"ticks\": \"\"}, \"colorscale\": [[0.0, \"#0d0887\"], [0.1111111111111111, \"#46039f\"], [0.2222222222222222, \"#7201a8\"], [0.3333333333333333, \"#9c179e\"], [0.4444444444444444, \"#bd3786\"], [0.5555555555555556, \"#d8576b\"], [0.6666666666666666, \"#ed7953\"], [0.7777777777777778, \"#fb9f3a\"], [0.8888888888888888, \"#fdca26\"], [1.0, \"#f0f921\"]], \"type\": \"histogram2d\"}], \"histogram2dcontour\": [{\"colorbar\": {\"outlinewidth\": 0, \"ticks\": \"\"}, \"colorscale\": [[0.0, \"#0d0887\"], [0.1111111111111111, \"#46039f\"], [0.2222222222222222, \"#7201a8\"], [0.3333333333333333, \"#9c179e\"], [0.4444444444444444, \"#bd3786\"], [0.5555555555555556, \"#d8576b\"], [0.6666666666666666, \"#ed7953\"], [0.7777777777777778, \"#fb9f3a\"], [0.8888888888888888, \"#fdca26\"], [1.0, \"#f0f921\"]], \"type\": \"histogram2dcontour\"}], \"mesh3d\": [{\"colorbar\": {\"outlinewidth\": 0, \"ticks\": \"\"}, \"type\": \"mesh3d\"}], \"parcoords\": [{\"line\": {\"colorbar\": {\"outlinewidth\": 0, \"ticks\": \"\"}}, \"type\": \"parcoords\"}], \"pie\": [{\"automargin\": true, \"type\": \"pie\"}], \"scatter\": [{\"marker\": {\"colorbar\": {\"outlinewidth\": 0, \"ticks\": \"\"}}, \"type\": \"scatter\"}], \"scatter3d\": [{\"line\": {\"colorbar\": {\"outlinewidth\": 0, \"ticks\": \"\"}}, \"marker\": {\"colorbar\": {\"outlinewidth\": 0, \"ticks\": \"\"}}, \"type\": \"scatter3d\"}], \"scattercarpet\": [{\"marker\": {\"colorbar\": {\"outlinewidth\": 0, \"ticks\": \"\"}}, \"type\": \"scattercarpet\"}], \"scattergeo\": [{\"marker\": {\"colorbar\": {\"outlinewidth\": 0, \"ticks\": \"\"}}, \"type\": \"scattergeo\"}], \"scattergl\": [{\"marker\": {\"colorbar\": {\"outlinewidth\": 0, \"ticks\": \"\"}}, \"type\": \"scattergl\"}], \"scattermapbox\": [{\"marker\": {\"colorbar\": {\"outlinewidth\": 0, \"ticks\": \"\"}}, \"type\": \"scattermapbox\"}], \"scatterpolar\": [{\"marker\": {\"colorbar\": {\"outlinewidth\": 0, \"ticks\": \"\"}}, \"type\": \"scatterpolar\"}], \"scatterpolargl\": [{\"marker\": {\"colorbar\": {\"outlinewidth\": 0, \"ticks\": \"\"}}, \"type\": \"scatterpolargl\"}], \"scatterternary\": [{\"marker\": {\"colorbar\": {\"outlinewidth\": 0, \"ticks\": \"\"}}, \"type\": \"scatterternary\"}], \"surface\": [{\"colorbar\": {\"outlinewidth\": 0, \"ticks\": \"\"}, \"colorscale\": [[0.0, \"#0d0887\"], [0.1111111111111111, \"#46039f\"], [0.2222222222222222, \"#7201a8\"], [0.3333333333333333, \"#9c179e\"], [0.4444444444444444, \"#bd3786\"], [0.5555555555555556, \"#d8576b\"], [0.6666666666666666, \"#ed7953\"], [0.7777777777777778, \"#fb9f3a\"], [0.8888888888888888, \"#fdca26\"], [1.0, \"#f0f921\"]], \"type\": \"surface\"}], \"table\": [{\"cells\": {\"fill\": {\"color\": \"#EBF0F8\"}, \"line\": {\"color\": \"white\"}}, \"header\": {\"fill\": {\"color\": \"#C8D4E3\"}, \"line\": {\"color\": \"white\"}}, \"type\": \"table\"}]}, \"layout\": {\"annotationdefaults\": {\"arrowcolor\": \"#2a3f5f\", \"arrowhead\": 0, \"arrowwidth\": 1}, \"coloraxis\": {\"colorbar\": {\"outlinewidth\": 0, \"ticks\": \"\"}}, \"colorscale\": {\"diverging\": [[0, \"#8e0152\"], [0.1, \"#c51b7d\"], [0.2, \"#de77ae\"], [0.3, \"#f1b6da\"], [0.4, \"#fde0ef\"], [0.5, \"#f7f7f7\"], [0.6, \"#e6f5d0\"], [0.7, \"#b8e186\"], [0.8, \"#7fbc41\"], [0.9, \"#4d9221\"], [1, \"#276419\"]], \"sequential\": [[0.0, \"#0d0887\"], [0.1111111111111111, \"#46039f\"], [0.2222222222222222, \"#7201a8\"], [0.3333333333333333, \"#9c179e\"], [0.4444444444444444, \"#bd3786\"], [0.5555555555555556, \"#d8576b\"], [0.6666666666666666, \"#ed7953\"], [0.7777777777777778, \"#fb9f3a\"], [0.8888888888888888, \"#fdca26\"], [1.0, \"#f0f921\"]], \"sequentialminus\": [[0.0, \"#0d0887\"], [0.1111111111111111, \"#46039f\"], [0.2222222222222222, \"#7201a8\"], [0.3333333333333333, \"#9c179e\"], [0.4444444444444444, \"#bd3786\"], [0.5555555555555556, \"#d8576b\"], [0.6666666666666666, \"#ed7953\"], [0.7777777777777778, \"#fb9f3a\"], [0.8888888888888888, \"#fdca26\"], [1.0, \"#f0f921\"]]}, \"colorway\": [\"#636efa\", \"#EF553B\", \"#00cc96\", \"#ab63fa\", \"#FFA15A\", \"#19d3f3\", \"#FF6692\", \"#B6E880\", \"#FF97FF\", \"#FECB52\"], \"font\": {\"color\": \"#2a3f5f\"}, \"geo\": {\"bgcolor\": \"white\", \"lakecolor\": \"white\", \"landcolor\": \"#E5ECF6\", \"showlakes\": true, \"showland\": true, \"subunitcolor\": \"white\"}, \"hoverlabel\": {\"align\": \"left\"}, \"hovermode\": \"closest\", \"mapbox\": {\"style\": \"light\"}, \"paper_bgcolor\": \"white\", \"plot_bgcolor\": \"#E5ECF6\", \"polar\": {\"angularaxis\": {\"gridcolor\": \"white\", \"linecolor\": \"white\", \"ticks\": \"\"}, \"bgcolor\": \"#E5ECF6\", \"radialaxis\": {\"gridcolor\": \"white\", \"linecolor\": \"white\", \"ticks\": \"\"}}, \"scene\": {\"xaxis\": {\"backgroundcolor\": \"#E5ECF6\", \"gridcolor\": \"white\", \"gridwidth\": 2, \"linecolor\": \"white\", \"showbackground\": true, \"ticks\": \"\", \"zerolinecolor\": \"white\"}, \"yaxis\": {\"backgroundcolor\": \"#E5ECF6\", \"gridcolor\": \"white\", \"gridwidth\": 2, \"linecolor\": \"white\", \"showbackground\": true, \"ticks\": \"\", \"zerolinecolor\": \"white\"}, \"zaxis\": {\"backgroundcolor\": \"#E5ECF6\", \"gridcolor\": \"white\", \"gridwidth\": 2, \"linecolor\": \"white\", \"showbackground\": true, \"ticks\": \"\", \"zerolinecolor\": \"white\"}}, \"shapedefaults\": {\"line\": {\"color\": \"#2a3f5f\"}}, \"ternary\": {\"aaxis\": {\"gridcolor\": \"white\", \"linecolor\": \"white\", \"ticks\": \"\"}, \"baxis\": {\"gridcolor\": \"white\", \"linecolor\": \"white\", \"ticks\": \"\"}, \"bgcolor\": \"#E5ECF6\", \"caxis\": {\"gridcolor\": \"white\", \"linecolor\": \"white\", \"ticks\": \"\"}}, \"title\": {\"x\": 0.05}, \"xaxis\": {\"automargin\": true, \"gridcolor\": \"white\", \"linecolor\": \"white\", \"ticks\": \"\", \"title\": {\"standoff\": 15}, \"zerolinecolor\": \"white\", \"zerolinewidth\": 2}, \"yaxis\": {\"automargin\": true, \"gridcolor\": \"white\", \"linecolor\": \"white\", \"ticks\": \"\", \"title\": {\"standoff\": 15}, \"zerolinecolor\": \"white\", \"zerolinewidth\": 2}}}},                        {\"responsive\": true}                    ).then(function(){\n",
       "                            \n",
       "var gd = document.getElementById('564b42b9-0721-4d2a-b7d0-4e2b927a5e80');\n",
       "var x = new MutationObserver(function (mutations, observer) {{\n",
       "        var display = window.getComputedStyle(gd).display;\n",
       "        if (!display || display === 'none') {{\n",
       "            console.log([gd, 'removed!']);\n",
       "            Plotly.purge(gd);\n",
       "            observer.disconnect();\n",
       "        }}\n",
       "}});\n",
       "\n",
       "// Listen for the removal of the full notebook cells\n",
       "var notebookContainer = gd.closest('#notebook-container');\n",
       "if (notebookContainer) {{\n",
       "    x.observe(notebookContainer, {childList: true});\n",
       "}}\n",
       "\n",
       "// Listen for the clearing of the current output cell\n",
       "var outputEl = gd.closest('.output');\n",
       "if (outputEl) {{\n",
       "    x.observe(outputEl, {childList: true});\n",
       "}}\n",
       "\n",
       "                        })                };                });            </script>        </div>"
      ]
     },
     "metadata": {},
     "output_type": "display_data"
    }
   ],
   "source": [
    "px.sunburst(df,path=[\"Manufacturer\",\"Type\"])"
   ]
  },
  {
   "cell_type": "markdown",
   "metadata": {
    "papermill": {
     "duration": 0.042115,
     "end_time": "2020-12-29T23:15:18.907727",
     "exception": false,
     "start_time": "2020-12-29T23:15:18.865612",
     "status": "completed"
    },
    "tags": []
   },
   "source": [
    "Manufacturers *G* (General Mills) and *K* (Kelloggs) each supply more than a quarter of the cereals in the pool; and majority of the cereals are *C* (cold). Only three manufacuturers produce *H* (hot) cereals - *Q* (Quaker Oats), *N* (Nabisco) and *A* (American Home Food Products)."
   ]
  },
  {
   "cell_type": "code",
   "execution_count": 10,
   "metadata": {
    "execution": {
     "iopub.execute_input": "2020-12-29T23:15:19.009832Z",
     "iopub.status.busy": "2020-12-29T23:15:19.009076Z",
     "iopub.status.idle": "2020-12-29T23:15:19.124336Z",
     "shell.execute_reply": "2020-12-29T23:15:19.123693Z"
    },
    "papermill": {
     "duration": 0.173598,
     "end_time": "2020-12-29T23:15:19.124467",
     "exception": false,
     "start_time": "2020-12-29T23:15:18.950869",
     "status": "completed"
    },
    "tags": []
   },
   "outputs": [
    {
     "data": {
      "text/html": [
       "<div>                            <div id=\"ab32e07f-8758-4ab8-961e-0aae60c51be4\" class=\"plotly-graph-div\" style=\"height:525px; width:100%;\"></div>            <script type=\"text/javascript\">                require([\"plotly\"], function(Plotly) {                    window.PLOTLYENV=window.PLOTLYENV || {};                                    if (document.getElementById(\"ab32e07f-8758-4ab8-961e-0aae60c51be4\")) {                    Plotly.newPlot(                        \"ab32e07f-8758-4ab8-961e-0aae60c51be4\",                        [{\"alignmentgroup\": \"True\", \"hovertemplate\": \"Manufacturer=%{x}<br>Rating (%)=%{y}<extra></extra>\", \"legendgroup\": \"N\", \"marker\": {\"color\": \"#636efa\"}, \"name\": \"N\", \"notched\": false, \"offsetgroup\": \"N\", \"orientation\": \"v\", \"showlegend\": true, \"type\": \"box\", \"x\": [\"N\", \"N\", \"N\", \"N\", \"N\", \"N\"], \"x0\": \" \", \"xaxis\": \"x\", \"y\": [68.402973, 64.533816, 68.235885, 74.472949, 72.801787, 59.36399300000001], \"y0\": \" \", \"yaxis\": \"y\"}, {\"alignmentgroup\": \"True\", \"hovertemplate\": \"Manufacturer=%{x}<br>Rating (%)=%{y}<extra></extra>\", \"legendgroup\": \"Q\", \"marker\": {\"color\": \"#EF553B\"}, \"name\": \"Q\", \"notched\": false, \"offsetgroup\": \"Q\", \"orientation\": \"v\", \"showlegend\": true, \"type\": \"box\", \"x\": [\"Q\", \"Q\", \"Q\", \"Q\", \"Q\", \"Q\", \"Q\", \"Q\"], \"x0\": \" \", \"xaxis\": \"x\", \"y\": [33.983678999999995, 18.042851000000002, 21.871292, 45.328074, 60.756112, 63.005644999999994, 49.511874, 50.828392], \"y0\": \" \", \"yaxis\": \"y\"}, {\"alignmentgroup\": \"True\", \"hovertemplate\": \"Manufacturer=%{x}<br>Rating (%)=%{y}<extra></extra>\", \"legendgroup\": \"K\", \"marker\": {\"color\": \"#00cc96\"}, \"name\": \"K\", \"notched\": false, \"offsetgroup\": \"K\", \"orientation\": \"v\", \"showlegend\": true, \"type\": \"box\", \"x\": [\"K\", \"K\", \"K\", \"K\", \"K\", \"K\", \"K\", \"K\", \"K\", \"K\", \"K\", \"K\", \"K\", \"K\", \"K\", \"K\", \"K\", \"K\", \"K\", \"K\", \"K\", \"K\", \"K\"], \"x0\": \" \", \"xaxis\": \"x\", \"y\": [59.425505, 93.704912, 33.174094000000004, 45.863324, 35.782790999999996, 40.448772, 46.895644, 32.207582, 31.435972999999997, 58.345141000000005, 41.015492, 36.523683, 36.471512, 30.313351, 29.924284999999998, 40.69232, 59.642837, 41.50354, 39.259197, 55.333142, 40.560159000000006, 31.230054, 53.131324], \"y0\": \" \", \"yaxis\": \"y\"}, {\"alignmentgroup\": \"True\", \"hovertemplate\": \"Manufacturer=%{x}<br>Rating (%)=%{y}<extra></extra>\", \"legendgroup\": \"R\", \"marker\": {\"color\": \"#ab63fa\"}, \"name\": \"R\", \"notched\": false, \"offsetgroup\": \"R\", \"orientation\": \"v\", \"showlegend\": true, \"type\": \"box\", \"x\": [\"R\", \"R\", \"R\", \"R\", \"R\", \"R\", \"R\", \"R\"], \"x0\": \" \", \"xaxis\": \"x\", \"y\": [34.384843, 49.120253000000005, 41.445019, 44.330856, 37.136863, 34.139765000000004, 41.998933, 49.787445], \"y0\": \" \", \"yaxis\": \"y\"}, {\"alignmentgroup\": \"True\", \"hovertemplate\": \"Manufacturer=%{x}<br>Rating (%)=%{y}<extra></extra>\", \"legendgroup\": \"G\", \"marker\": {\"color\": \"#FFA15A\"}, \"name\": \"G\", \"notched\": false, \"offsetgroup\": \"G\", \"orientation\": \"v\", \"showlegend\": true, \"type\": \"box\", \"x\": [\"G\", \"G\", \"G\", \"G\", \"G\", \"G\", \"G\", \"G\", \"G\", \"G\", \"G\", \"G\", \"G\", \"G\", \"G\", \"G\", \"G\", \"G\", \"G\", \"G\", \"G\", \"G\"], \"x0\": \" \", \"xaxis\": \"x\", \"y\": [29.509541, 37.038562, 50.764998999999996, 19.823573, 40.400208, 22.736446, 22.396513, 36.176196000000004, 23.804043, 31.072217, 39.241114, 26.734515000000002, 40.105965000000005, 30.450843, 39.7034, 38.839746000000005, 28.592785, 46.658844, 39.106173999999996, 27.753301, 51.592193, 36.187559], \"y0\": \" \", \"yaxis\": \"y\"}, {\"alignmentgroup\": \"True\", \"hovertemplate\": \"Manufacturer=%{x}<br>Rating (%)=%{y}<extra></extra>\", \"legendgroup\": \"P\", \"marker\": {\"color\": \"#19d3f3\"}, \"name\": \"P\", \"notched\": false, \"offsetgroup\": \"P\", \"orientation\": \"v\", \"showlegend\": true, \"type\": \"box\", \"x\": [\"P\", \"P\", \"P\", \"P\", \"P\", \"P\", \"P\", \"P\", \"P\"], \"x0\": \" \", \"xaxis\": \"x\", \"y\": [53.313813, 40.917047, 28.025765000000003, 35.252444, 52.076896999999995, 53.37100699999999, 45.811716, 28.742414, 37.840594], \"y0\": \" \", \"yaxis\": \"y\"}, {\"alignmentgroup\": \"True\", \"hovertemplate\": \"Manufacturer=%{x}<br>Rating (%)=%{y}<extra></extra>\", \"legendgroup\": \"A\", \"marker\": {\"color\": \"#FF6692\"}, \"name\": \"A\", \"notched\": false, \"offsetgroup\": \"A\", \"orientation\": \"v\", \"showlegend\": true, \"type\": \"box\", \"x\": [\"A\"], \"x0\": \" \", \"xaxis\": \"x\", \"y\": [54.850917], \"y0\": \" \", \"yaxis\": \"y\"}],                        {\"boxmode\": \"overlay\", \"legend\": {\"title\": {\"text\": \"Manufacturer\"}, \"tracegroupgap\": 0}, \"template\": {\"data\": {\"bar\": [{\"error_x\": {\"color\": \"#2a3f5f\"}, \"error_y\": {\"color\": \"#2a3f5f\"}, \"marker\": {\"line\": {\"color\": \"#E5ECF6\", \"width\": 0.5}}, \"type\": \"bar\"}], \"barpolar\": [{\"marker\": {\"line\": {\"color\": \"#E5ECF6\", \"width\": 0.5}}, \"type\": \"barpolar\"}], \"carpet\": [{\"aaxis\": {\"endlinecolor\": \"#2a3f5f\", \"gridcolor\": \"white\", \"linecolor\": \"white\", \"minorgridcolor\": \"white\", \"startlinecolor\": \"#2a3f5f\"}, \"baxis\": {\"endlinecolor\": \"#2a3f5f\", \"gridcolor\": \"white\", \"linecolor\": \"white\", \"minorgridcolor\": \"white\", \"startlinecolor\": \"#2a3f5f\"}, \"type\": \"carpet\"}], \"choropleth\": [{\"colorbar\": {\"outlinewidth\": 0, \"ticks\": \"\"}, \"type\": \"choropleth\"}], \"contour\": [{\"colorbar\": {\"outlinewidth\": 0, \"ticks\": \"\"}, \"colorscale\": [[0.0, \"#0d0887\"], [0.1111111111111111, \"#46039f\"], [0.2222222222222222, \"#7201a8\"], [0.3333333333333333, \"#9c179e\"], [0.4444444444444444, \"#bd3786\"], [0.5555555555555556, \"#d8576b\"], [0.6666666666666666, \"#ed7953\"], [0.7777777777777778, \"#fb9f3a\"], [0.8888888888888888, \"#fdca26\"], [1.0, \"#f0f921\"]], \"type\": \"contour\"}], \"contourcarpet\": [{\"colorbar\": {\"outlinewidth\": 0, \"ticks\": \"\"}, \"type\": \"contourcarpet\"}], \"heatmap\": [{\"colorbar\": {\"outlinewidth\": 0, \"ticks\": \"\"}, \"colorscale\": [[0.0, \"#0d0887\"], [0.1111111111111111, \"#46039f\"], [0.2222222222222222, \"#7201a8\"], [0.3333333333333333, \"#9c179e\"], [0.4444444444444444, \"#bd3786\"], [0.5555555555555556, \"#d8576b\"], [0.6666666666666666, \"#ed7953\"], [0.7777777777777778, \"#fb9f3a\"], [0.8888888888888888, \"#fdca26\"], [1.0, \"#f0f921\"]], \"type\": \"heatmap\"}], \"heatmapgl\": [{\"colorbar\": {\"outlinewidth\": 0, \"ticks\": \"\"}, \"colorscale\": [[0.0, \"#0d0887\"], [0.1111111111111111, \"#46039f\"], [0.2222222222222222, \"#7201a8\"], [0.3333333333333333, \"#9c179e\"], [0.4444444444444444, \"#bd3786\"], [0.5555555555555556, \"#d8576b\"], [0.6666666666666666, \"#ed7953\"], [0.7777777777777778, \"#fb9f3a\"], [0.8888888888888888, \"#fdca26\"], [1.0, \"#f0f921\"]], \"type\": \"heatmapgl\"}], \"histogram\": [{\"marker\": {\"colorbar\": {\"outlinewidth\": 0, \"ticks\": \"\"}}, \"type\": \"histogram\"}], \"histogram2d\": [{\"colorbar\": {\"outlinewidth\": 0, \"ticks\": \"\"}, \"colorscale\": [[0.0, \"#0d0887\"], [0.1111111111111111, \"#46039f\"], [0.2222222222222222, \"#7201a8\"], [0.3333333333333333, \"#9c179e\"], [0.4444444444444444, \"#bd3786\"], [0.5555555555555556, \"#d8576b\"], [0.6666666666666666, \"#ed7953\"], [0.7777777777777778, \"#fb9f3a\"], [0.8888888888888888, \"#fdca26\"], [1.0, \"#f0f921\"]], \"type\": \"histogram2d\"}], \"histogram2dcontour\": [{\"colorbar\": {\"outlinewidth\": 0, \"ticks\": \"\"}, \"colorscale\": [[0.0, \"#0d0887\"], [0.1111111111111111, \"#46039f\"], [0.2222222222222222, \"#7201a8\"], [0.3333333333333333, \"#9c179e\"], [0.4444444444444444, \"#bd3786\"], [0.5555555555555556, \"#d8576b\"], [0.6666666666666666, \"#ed7953\"], [0.7777777777777778, \"#fb9f3a\"], [0.8888888888888888, \"#fdca26\"], [1.0, \"#f0f921\"]], \"type\": \"histogram2dcontour\"}], \"mesh3d\": [{\"colorbar\": {\"outlinewidth\": 0, \"ticks\": \"\"}, \"type\": \"mesh3d\"}], \"parcoords\": [{\"line\": {\"colorbar\": {\"outlinewidth\": 0, \"ticks\": \"\"}}, \"type\": \"parcoords\"}], \"pie\": [{\"automargin\": true, \"type\": \"pie\"}], \"scatter\": [{\"marker\": {\"colorbar\": {\"outlinewidth\": 0, \"ticks\": \"\"}}, \"type\": \"scatter\"}], \"scatter3d\": [{\"line\": {\"colorbar\": {\"outlinewidth\": 0, \"ticks\": \"\"}}, \"marker\": {\"colorbar\": {\"outlinewidth\": 0, \"ticks\": \"\"}}, \"type\": \"scatter3d\"}], \"scattercarpet\": [{\"marker\": {\"colorbar\": {\"outlinewidth\": 0, \"ticks\": \"\"}}, \"type\": \"scattercarpet\"}], \"scattergeo\": [{\"marker\": {\"colorbar\": {\"outlinewidth\": 0, \"ticks\": \"\"}}, \"type\": \"scattergeo\"}], \"scattergl\": [{\"marker\": {\"colorbar\": {\"outlinewidth\": 0, \"ticks\": \"\"}}, \"type\": \"scattergl\"}], \"scattermapbox\": [{\"marker\": {\"colorbar\": {\"outlinewidth\": 0, \"ticks\": \"\"}}, \"type\": \"scattermapbox\"}], \"scatterpolar\": [{\"marker\": {\"colorbar\": {\"outlinewidth\": 0, \"ticks\": \"\"}}, \"type\": \"scatterpolar\"}], \"scatterpolargl\": [{\"marker\": {\"colorbar\": {\"outlinewidth\": 0, \"ticks\": \"\"}}, \"type\": \"scatterpolargl\"}], \"scatterternary\": [{\"marker\": {\"colorbar\": {\"outlinewidth\": 0, \"ticks\": \"\"}}, \"type\": \"scatterternary\"}], \"surface\": [{\"colorbar\": {\"outlinewidth\": 0, \"ticks\": \"\"}, \"colorscale\": [[0.0, \"#0d0887\"], [0.1111111111111111, \"#46039f\"], [0.2222222222222222, \"#7201a8\"], [0.3333333333333333, \"#9c179e\"], [0.4444444444444444, \"#bd3786\"], [0.5555555555555556, \"#d8576b\"], [0.6666666666666666, \"#ed7953\"], [0.7777777777777778, \"#fb9f3a\"], [0.8888888888888888, \"#fdca26\"], [1.0, \"#f0f921\"]], \"type\": \"surface\"}], \"table\": [{\"cells\": {\"fill\": {\"color\": \"#EBF0F8\"}, \"line\": {\"color\": \"white\"}}, \"header\": {\"fill\": {\"color\": \"#C8D4E3\"}, \"line\": {\"color\": \"white\"}}, \"type\": \"table\"}]}, \"layout\": {\"annotationdefaults\": {\"arrowcolor\": \"#2a3f5f\", \"arrowhead\": 0, \"arrowwidth\": 1}, \"coloraxis\": {\"colorbar\": {\"outlinewidth\": 0, \"ticks\": \"\"}}, \"colorscale\": {\"diverging\": [[0, \"#8e0152\"], [0.1, \"#c51b7d\"], [0.2, \"#de77ae\"], [0.3, \"#f1b6da\"], [0.4, \"#fde0ef\"], [0.5, \"#f7f7f7\"], [0.6, \"#e6f5d0\"], [0.7, \"#b8e186\"], [0.8, \"#7fbc41\"], [0.9, \"#4d9221\"], [1, \"#276419\"]], \"sequential\": [[0.0, \"#0d0887\"], [0.1111111111111111, \"#46039f\"], [0.2222222222222222, \"#7201a8\"], [0.3333333333333333, \"#9c179e\"], [0.4444444444444444, \"#bd3786\"], [0.5555555555555556, \"#d8576b\"], [0.6666666666666666, \"#ed7953\"], [0.7777777777777778, \"#fb9f3a\"], [0.8888888888888888, \"#fdca26\"], [1.0, \"#f0f921\"]], \"sequentialminus\": [[0.0, \"#0d0887\"], [0.1111111111111111, \"#46039f\"], [0.2222222222222222, \"#7201a8\"], [0.3333333333333333, \"#9c179e\"], [0.4444444444444444, \"#bd3786\"], [0.5555555555555556, \"#d8576b\"], [0.6666666666666666, \"#ed7953\"], [0.7777777777777778, \"#fb9f3a\"], [0.8888888888888888, \"#fdca26\"], [1.0, \"#f0f921\"]]}, \"colorway\": [\"#636efa\", \"#EF553B\", \"#00cc96\", \"#ab63fa\", \"#FFA15A\", \"#19d3f3\", \"#FF6692\", \"#B6E880\", \"#FF97FF\", \"#FECB52\"], \"font\": {\"color\": \"#2a3f5f\"}, \"geo\": {\"bgcolor\": \"white\", \"lakecolor\": \"white\", \"landcolor\": \"#E5ECF6\", \"showlakes\": true, \"showland\": true, \"subunitcolor\": \"white\"}, \"hoverlabel\": {\"align\": \"left\"}, \"hovermode\": \"closest\", \"mapbox\": {\"style\": \"light\"}, \"paper_bgcolor\": \"white\", \"plot_bgcolor\": \"#E5ECF6\", \"polar\": {\"angularaxis\": {\"gridcolor\": \"white\", \"linecolor\": \"white\", \"ticks\": \"\"}, \"bgcolor\": \"#E5ECF6\", \"radialaxis\": {\"gridcolor\": \"white\", \"linecolor\": \"white\", \"ticks\": \"\"}}, \"scene\": {\"xaxis\": {\"backgroundcolor\": \"#E5ECF6\", \"gridcolor\": \"white\", \"gridwidth\": 2, \"linecolor\": \"white\", \"showbackground\": true, \"ticks\": \"\", \"zerolinecolor\": \"white\"}, \"yaxis\": {\"backgroundcolor\": \"#E5ECF6\", \"gridcolor\": \"white\", \"gridwidth\": 2, \"linecolor\": \"white\", \"showbackground\": true, \"ticks\": \"\", \"zerolinecolor\": \"white\"}, \"zaxis\": {\"backgroundcolor\": \"#E5ECF6\", \"gridcolor\": \"white\", \"gridwidth\": 2, \"linecolor\": \"white\", \"showbackground\": true, \"ticks\": \"\", \"zerolinecolor\": \"white\"}}, \"shapedefaults\": {\"line\": {\"color\": \"#2a3f5f\"}}, \"ternary\": {\"aaxis\": {\"gridcolor\": \"white\", \"linecolor\": \"white\", \"ticks\": \"\"}, \"baxis\": {\"gridcolor\": \"white\", \"linecolor\": \"white\", \"ticks\": \"\"}, \"bgcolor\": \"#E5ECF6\", \"caxis\": {\"gridcolor\": \"white\", \"linecolor\": \"white\", \"ticks\": \"\"}}, \"title\": {\"x\": 0.05}, \"xaxis\": {\"automargin\": true, \"gridcolor\": \"white\", \"linecolor\": \"white\", \"ticks\": \"\", \"title\": {\"standoff\": 15}, \"zerolinecolor\": \"white\", \"zerolinewidth\": 2}, \"yaxis\": {\"automargin\": true, \"gridcolor\": \"white\", \"linecolor\": \"white\", \"ticks\": \"\", \"title\": {\"standoff\": 15}, \"zerolinecolor\": \"white\", \"zerolinewidth\": 2}}}, \"title\": {\"text\": \"Rating Distribution\"}, \"xaxis\": {\"anchor\": \"y\", \"categoryarray\": [\"N\", \"Q\", \"K\", \"R\", \"G\", \"P\", \"A\"], \"categoryorder\": \"array\", \"domain\": [0.0, 1.0], \"title\": {\"text\": \"Manufacturer\"}}, \"yaxis\": {\"anchor\": \"x\", \"domain\": [0.0, 1.0], \"title\": {\"text\": \"Rating (%)\"}}},                        {\"responsive\": true}                    ).then(function(){\n",
       "                            \n",
       "var gd = document.getElementById('ab32e07f-8758-4ab8-961e-0aae60c51be4');\n",
       "var x = new MutationObserver(function (mutations, observer) {{\n",
       "        var display = window.getComputedStyle(gd).display;\n",
       "        if (!display || display === 'none') {{\n",
       "            console.log([gd, 'removed!']);\n",
       "            Plotly.purge(gd);\n",
       "            observer.disconnect();\n",
       "        }}\n",
       "}});\n",
       "\n",
       "// Listen for the removal of the full notebook cells\n",
       "var notebookContainer = gd.closest('#notebook-container');\n",
       "if (notebookContainer) {{\n",
       "    x.observe(notebookContainer, {childList: true});\n",
       "}}\n",
       "\n",
       "// Listen for the clearing of the current output cell\n",
       "var outputEl = gd.closest('.output');\n",
       "if (outputEl) {{\n",
       "    x.observe(outputEl, {childList: true});\n",
       "}}\n",
       "\n",
       "                        })                };                });            </script>        </div>"
      ]
     },
     "metadata": {},
     "output_type": "display_data"
    }
   ],
   "source": [
    "px.box(df,x=\"Manufacturer\",y=\"Rating\",labels={\"Mfr\":\"Manufacturer\",\"Rating\":\"Rating (%)\"},\n",
    "       title=\"Rating Distribution\",color=\"Manufacturer\")"
   ]
  },
  {
   "cell_type": "code",
   "execution_count": 11,
   "metadata": {
    "execution": {
     "iopub.execute_input": "2020-12-29T23:15:19.226867Z",
     "iopub.status.busy": "2020-12-29T23:15:19.225973Z",
     "iopub.status.idle": "2020-12-29T23:15:19.230486Z",
     "shell.execute_reply": "2020-12-29T23:15:19.229857Z"
    },
    "papermill": {
     "duration": 0.062114,
     "end_time": "2020-12-29T23:15:19.230612",
     "exception": false,
     "start_time": "2020-12-29T23:15:19.168498",
     "status": "completed"
    },
    "tags": []
   },
   "outputs": [
    {
     "data": {
      "text/html": [
       "<div>\n",
       "<style scoped>\n",
       "    .dataframe tbody tr th:only-of-type {\n",
       "        vertical-align: middle;\n",
       "    }\n",
       "\n",
       "    .dataframe tbody tr th {\n",
       "        vertical-align: top;\n",
       "    }\n",
       "\n",
       "    .dataframe thead th {\n",
       "        text-align: right;\n",
       "    }\n",
       "</style>\n",
       "<table border=\"1\" class=\"dataframe\">\n",
       "  <thead>\n",
       "    <tr style=\"text-align: right;\">\n",
       "      <th></th>\n",
       "      <th>Name</th>\n",
       "      <th>Rating</th>\n",
       "    </tr>\n",
       "  </thead>\n",
       "  <tbody>\n",
       "    <tr>\n",
       "      <th>3</th>\n",
       "      <td>All-Bran with Extra Fiber</td>\n",
       "      <td>93.704912</td>\n",
       "    </tr>\n",
       "  </tbody>\n",
       "</table>\n",
       "</div>"
      ],
      "text/plain": [
       "                        Name     Rating\n",
       "3  All-Bran with Extra Fiber  93.704912"
      ]
     },
     "execution_count": 11,
     "metadata": {},
     "output_type": "execute_result"
    }
   ],
   "source": [
    "df[[\"Name\",\"Rating\"]].loc[df[\"Manufacturer\"]==\"K\"].sort_values(by=\"Rating\",ascending=False).head(1)"
   ]
  },
  {
   "cell_type": "markdown",
   "metadata": {
    "papermill": {
     "duration": 0.043473,
     "end_time": "2020-12-29T23:15:19.317629",
     "exception": false,
     "start_time": "2020-12-29T23:15:19.274156",
     "status": "completed"
    },
    "tags": []
   },
   "source": [
    "*N* (Nabisco) performs the best out of all the manufacturers, followed by *A* (American Home Food Products) but American Home Food Products only has one cereal. *Q* (Quaker Oats) has the largest rating distribution, and *K* (Kelloggs) has one high performing outlier cereal, *All-Bran with Extra Fibre*."
   ]
  },
  {
   "cell_type": "code",
   "execution_count": 12,
   "metadata": {
    "execution": {
     "iopub.execute_input": "2020-12-29T23:15:19.441855Z",
     "iopub.status.busy": "2020-12-29T23:15:19.440996Z",
     "iopub.status.idle": "2020-12-29T23:15:19.528947Z",
     "shell.execute_reply": "2020-12-29T23:15:19.528223Z"
    },
    "papermill": {
     "duration": 0.167079,
     "end_time": "2020-12-29T23:15:19.529072",
     "exception": false,
     "start_time": "2020-12-29T23:15:19.361993",
     "status": "completed"
    },
    "tags": []
   },
   "outputs": [
    {
     "data": {
      "text/html": [
       "<div>                            <div id=\"72f6ee04-7e34-41ab-a1cf-c44415be0192\" class=\"plotly-graph-div\" style=\"height:525px; width:100%;\"></div>            <script type=\"text/javascript\">                require([\"plotly\"], function(Plotly) {                    window.PLOTLYENV=window.PLOTLYENV || {};                                    if (document.getElementById(\"72f6ee04-7e34-41ab-a1cf-c44415be0192\")) {                    Plotly.newPlot(                        \"72f6ee04-7e34-41ab-a1cf-c44415be0192\",                        [{\"alignmentgroup\": \"True\", \"hovertemplate\": \"variable=Calories<br>Manufacturer=%{x}<br>value=%{y}<extra></extra>\", \"legendgroup\": \"Calories\", \"marker\": {\"color\": \"#636efa\"}, \"name\": \"Calories\", \"offsetgroup\": \"Calories\", \"orientation\": \"v\", \"showlegend\": true, \"textposition\": \"auto\", \"type\": \"bar\", \"x\": [\"A\", \"G\", \"K\", \"N\", \"P\", \"Q\", \"R\"], \"xaxis\": \"x\", \"y\": [100.0, 111.36363636363636, 108.69565217391305, 86.66666666666667, 108.88888888888889, 95.0, 115.0], \"yaxis\": \"y\"}, {\"alignmentgroup\": \"True\", \"hovertemplate\": \"variable=Protein<br>Manufacturer=%{x}<br>value=%{y}<extra></extra>\", \"legendgroup\": \"Protein\", \"marker\": {\"color\": \"#EF553B\"}, \"name\": \"Protein\", \"offsetgroup\": \"Protein\", \"orientation\": \"v\", \"showlegend\": true, \"textposition\": \"auto\", \"type\": \"bar\", \"x\": [\"A\", \"G\", \"K\", \"N\", \"P\", \"Q\", \"R\"], \"xaxis\": \"x\", \"y\": [4.0, 2.3181818181818183, 2.652173913043478, 2.8333333333333335, 2.4444444444444446, 2.625, 2.5], \"yaxis\": \"y\"}, {\"alignmentgroup\": \"True\", \"hovertemplate\": \"variable=Fat<br>Manufacturer=%{x}<br>value=%{y}<extra></extra>\", \"legendgroup\": \"Fat\", \"marker\": {\"color\": \"#00cc96\"}, \"name\": \"Fat\", \"offsetgroup\": \"Fat\", \"orientation\": \"v\", \"showlegend\": true, \"textposition\": \"auto\", \"type\": \"bar\", \"x\": [\"A\", \"G\", \"K\", \"N\", \"P\", \"Q\", \"R\"], \"xaxis\": \"x\", \"y\": [1.0, 1.3636363636363635, 0.6086956521739131, 0.16666666666666666, 0.8888888888888888, 1.75, 1.25], \"yaxis\": \"y\"}, {\"alignmentgroup\": \"True\", \"hovertemplate\": \"variable=Sodium<br>Manufacturer=%{x}<br>value=%{y}<extra></extra>\", \"legendgroup\": \"Sodium\", \"marker\": {\"color\": \"#ab63fa\"}, \"name\": \"Sodium\", \"offsetgroup\": \"Sodium\", \"orientation\": \"v\", \"showlegend\": true, \"textposition\": \"auto\", \"type\": \"bar\", \"x\": [\"A\", \"G\", \"K\", \"N\", \"P\", \"Q\", \"R\"], \"xaxis\": \"x\", \"y\": [0.0, 200.45454545454547, 174.7826086956522, 37.5, 146.11111111111111, 92.5, 198.125], \"yaxis\": \"y\"}, {\"alignmentgroup\": \"True\", \"hovertemplate\": \"variable=Fiber<br>Manufacturer=%{x}<br>value=%{y}<extra></extra>\", \"legendgroup\": \"Fiber\", \"marker\": {\"color\": \"#FFA15A\"}, \"name\": \"Fiber\", \"offsetgroup\": \"Fiber\", \"orientation\": \"v\", \"showlegend\": true, \"textposition\": \"auto\", \"type\": \"bar\", \"x\": [\"A\", \"G\", \"K\", \"N\", \"P\", \"Q\", \"R\"], \"xaxis\": \"x\", \"y\": [0.0, 1.2727272727272727, 2.739130434782609, 4.0, 2.7777777777777777, 1.3375, 1.875], \"yaxis\": \"y\"}, {\"alignmentgroup\": \"True\", \"hovertemplate\": \"variable=Carbohydrates<br>Manufacturer=%{x}<br>value=%{y}<extra></extra>\", \"legendgroup\": \"Carbohydrates\", \"marker\": {\"color\": \"#19d3f3\"}, \"name\": \"Carbohydrates\", \"offsetgroup\": \"Carbohydrates\", \"orientation\": \"v\", \"showlegend\": true, \"textposition\": \"auto\", \"type\": \"bar\", \"x\": [\"A\", \"G\", \"K\", \"N\", \"P\", \"Q\", \"R\"], \"xaxis\": \"x\", \"y\": [16.0, 14.727272727272727, 15.130434782608695, 16.0, 13.222222222222221, 10.125, 17.625], \"yaxis\": \"y\"}, {\"alignmentgroup\": \"True\", \"hovertemplate\": \"variable=Sugars<br>Manufacturer=%{x}<br>value=%{y}<extra></extra>\", \"legendgroup\": \"Sugars\", \"marker\": {\"color\": \"#FF6692\"}, \"name\": \"Sugars\", \"offsetgroup\": \"Sugars\", \"orientation\": \"v\", \"showlegend\": true, \"textposition\": \"auto\", \"type\": \"bar\", \"x\": [\"A\", \"G\", \"K\", \"N\", \"P\", \"Q\", \"R\"], \"xaxis\": \"x\", \"y\": [3.0, 7.954545454545454, 7.565217391304348, 1.8333333333333333, 8.777777777777779, 5.375, 6.125], \"yaxis\": \"y\"}, {\"alignmentgroup\": \"True\", \"hovertemplate\": \"variable=Potassium<br>Manufacturer=%{x}<br>value=%{y}<extra></extra>\", \"legendgroup\": \"Potassium\", \"marker\": {\"color\": \"#B6E880\"}, \"name\": \"Potassium\", \"offsetgroup\": \"Potassium\", \"orientation\": \"v\", \"showlegend\": true, \"textposition\": \"auto\", \"type\": \"bar\", \"x\": [\"A\", \"G\", \"K\", \"N\", \"P\", \"Q\", \"R\"], \"xaxis\": \"x\", \"y\": [95.0, 85.22727272727273, 103.04347826086956, 120.83333333333333, 113.88888888888889, 74.375, 89.375], \"yaxis\": \"y\"}, {\"alignmentgroup\": \"True\", \"hovertemplate\": \"variable=Vitamins<br>Manufacturer=%{x}<br>value=%{y}<extra></extra>\", \"legendgroup\": \"Vitamins\", \"marker\": {\"color\": \"#FF97FF\"}, \"name\": \"Vitamins\", \"offsetgroup\": \"Vitamins\", \"orientation\": \"v\", \"showlegend\": true, \"textposition\": \"auto\", \"type\": \"bar\", \"x\": [\"A\", \"G\", \"K\", \"N\", \"P\", \"Q\", \"R\"], \"xaxis\": \"x\", \"y\": [25.0, 35.22727272727273, 34.78260869565217, 8.333333333333334, 25.0, 12.5, 25.0], \"yaxis\": \"y\"}],                        {\"barmode\": \"relative\", \"legend\": {\"title\": {\"text\": \"variable\"}, \"tracegroupgap\": 0}, \"margin\": {\"t\": 60}, \"template\": {\"data\": {\"bar\": [{\"error_x\": {\"color\": \"#2a3f5f\"}, \"error_y\": {\"color\": \"#2a3f5f\"}, \"marker\": {\"line\": {\"color\": \"#E5ECF6\", \"width\": 0.5}}, \"type\": \"bar\"}], \"barpolar\": [{\"marker\": {\"line\": {\"color\": \"#E5ECF6\", \"width\": 0.5}}, \"type\": \"barpolar\"}], \"carpet\": [{\"aaxis\": {\"endlinecolor\": \"#2a3f5f\", \"gridcolor\": \"white\", \"linecolor\": \"white\", \"minorgridcolor\": \"white\", \"startlinecolor\": \"#2a3f5f\"}, \"baxis\": {\"endlinecolor\": \"#2a3f5f\", \"gridcolor\": \"white\", \"linecolor\": \"white\", \"minorgridcolor\": \"white\", \"startlinecolor\": \"#2a3f5f\"}, \"type\": \"carpet\"}], \"choropleth\": [{\"colorbar\": {\"outlinewidth\": 0, \"ticks\": \"\"}, \"type\": \"choropleth\"}], \"contour\": [{\"colorbar\": {\"outlinewidth\": 0, \"ticks\": \"\"}, \"colorscale\": [[0.0, \"#0d0887\"], [0.1111111111111111, \"#46039f\"], [0.2222222222222222, \"#7201a8\"], [0.3333333333333333, \"#9c179e\"], [0.4444444444444444, \"#bd3786\"], [0.5555555555555556, \"#d8576b\"], [0.6666666666666666, \"#ed7953\"], [0.7777777777777778, \"#fb9f3a\"], [0.8888888888888888, \"#fdca26\"], [1.0, \"#f0f921\"]], \"type\": \"contour\"}], \"contourcarpet\": [{\"colorbar\": {\"outlinewidth\": 0, \"ticks\": \"\"}, \"type\": \"contourcarpet\"}], \"heatmap\": [{\"colorbar\": {\"outlinewidth\": 0, \"ticks\": \"\"}, \"colorscale\": [[0.0, \"#0d0887\"], [0.1111111111111111, \"#46039f\"], [0.2222222222222222, \"#7201a8\"], [0.3333333333333333, \"#9c179e\"], [0.4444444444444444, \"#bd3786\"], [0.5555555555555556, \"#d8576b\"], [0.6666666666666666, \"#ed7953\"], [0.7777777777777778, \"#fb9f3a\"], [0.8888888888888888, \"#fdca26\"], [1.0, \"#f0f921\"]], \"type\": \"heatmap\"}], \"heatmapgl\": [{\"colorbar\": {\"outlinewidth\": 0, \"ticks\": \"\"}, \"colorscale\": [[0.0, \"#0d0887\"], [0.1111111111111111, \"#46039f\"], [0.2222222222222222, \"#7201a8\"], [0.3333333333333333, \"#9c179e\"], [0.4444444444444444, \"#bd3786\"], [0.5555555555555556, \"#d8576b\"], [0.6666666666666666, \"#ed7953\"], [0.7777777777777778, \"#fb9f3a\"], [0.8888888888888888, \"#fdca26\"], [1.0, \"#f0f921\"]], \"type\": \"heatmapgl\"}], \"histogram\": [{\"marker\": {\"colorbar\": {\"outlinewidth\": 0, \"ticks\": \"\"}}, \"type\": \"histogram\"}], \"histogram2d\": [{\"colorbar\": {\"outlinewidth\": 0, \"ticks\": \"\"}, \"colorscale\": [[0.0, \"#0d0887\"], [0.1111111111111111, \"#46039f\"], [0.2222222222222222, \"#7201a8\"], [0.3333333333333333, \"#9c179e\"], [0.4444444444444444, \"#bd3786\"], [0.5555555555555556, \"#d8576b\"], [0.6666666666666666, \"#ed7953\"], [0.7777777777777778, \"#fb9f3a\"], [0.8888888888888888, \"#fdca26\"], [1.0, \"#f0f921\"]], \"type\": \"histogram2d\"}], \"histogram2dcontour\": [{\"colorbar\": {\"outlinewidth\": 0, \"ticks\": \"\"}, \"colorscale\": [[0.0, \"#0d0887\"], [0.1111111111111111, \"#46039f\"], [0.2222222222222222, \"#7201a8\"], [0.3333333333333333, \"#9c179e\"], [0.4444444444444444, \"#bd3786\"], [0.5555555555555556, \"#d8576b\"], [0.6666666666666666, \"#ed7953\"], [0.7777777777777778, \"#fb9f3a\"], [0.8888888888888888, \"#fdca26\"], [1.0, \"#f0f921\"]], \"type\": \"histogram2dcontour\"}], \"mesh3d\": [{\"colorbar\": {\"outlinewidth\": 0, \"ticks\": \"\"}, \"type\": \"mesh3d\"}], \"parcoords\": [{\"line\": {\"colorbar\": {\"outlinewidth\": 0, \"ticks\": \"\"}}, \"type\": \"parcoords\"}], \"pie\": [{\"automargin\": true, \"type\": \"pie\"}], \"scatter\": [{\"marker\": {\"colorbar\": {\"outlinewidth\": 0, \"ticks\": \"\"}}, \"type\": \"scatter\"}], \"scatter3d\": [{\"line\": {\"colorbar\": {\"outlinewidth\": 0, \"ticks\": \"\"}}, \"marker\": {\"colorbar\": {\"outlinewidth\": 0, \"ticks\": \"\"}}, \"type\": \"scatter3d\"}], \"scattercarpet\": [{\"marker\": {\"colorbar\": {\"outlinewidth\": 0, \"ticks\": \"\"}}, \"type\": \"scattercarpet\"}], \"scattergeo\": [{\"marker\": {\"colorbar\": {\"outlinewidth\": 0, \"ticks\": \"\"}}, \"type\": \"scattergeo\"}], \"scattergl\": [{\"marker\": {\"colorbar\": {\"outlinewidth\": 0, \"ticks\": \"\"}}, \"type\": \"scattergl\"}], \"scattermapbox\": [{\"marker\": {\"colorbar\": {\"outlinewidth\": 0, \"ticks\": \"\"}}, \"type\": \"scattermapbox\"}], \"scatterpolar\": [{\"marker\": {\"colorbar\": {\"outlinewidth\": 0, \"ticks\": \"\"}}, \"type\": \"scatterpolar\"}], \"scatterpolargl\": [{\"marker\": {\"colorbar\": {\"outlinewidth\": 0, \"ticks\": \"\"}}, \"type\": \"scatterpolargl\"}], \"scatterternary\": [{\"marker\": {\"colorbar\": {\"outlinewidth\": 0, \"ticks\": \"\"}}, \"type\": \"scatterternary\"}], \"surface\": [{\"colorbar\": {\"outlinewidth\": 0, \"ticks\": \"\"}, \"colorscale\": [[0.0, \"#0d0887\"], [0.1111111111111111, \"#46039f\"], [0.2222222222222222, \"#7201a8\"], [0.3333333333333333, \"#9c179e\"], [0.4444444444444444, \"#bd3786\"], [0.5555555555555556, \"#d8576b\"], [0.6666666666666666, \"#ed7953\"], [0.7777777777777778, \"#fb9f3a\"], [0.8888888888888888, \"#fdca26\"], [1.0, \"#f0f921\"]], \"type\": \"surface\"}], \"table\": [{\"cells\": {\"fill\": {\"color\": \"#EBF0F8\"}, \"line\": {\"color\": \"white\"}}, \"header\": {\"fill\": {\"color\": \"#C8D4E3\"}, \"line\": {\"color\": \"white\"}}, \"type\": \"table\"}]}, \"layout\": {\"annotationdefaults\": {\"arrowcolor\": \"#2a3f5f\", \"arrowhead\": 0, \"arrowwidth\": 1}, \"coloraxis\": {\"colorbar\": {\"outlinewidth\": 0, \"ticks\": \"\"}}, \"colorscale\": {\"diverging\": [[0, \"#8e0152\"], [0.1, \"#c51b7d\"], [0.2, \"#de77ae\"], [0.3, \"#f1b6da\"], [0.4, \"#fde0ef\"], [0.5, \"#f7f7f7\"], [0.6, \"#e6f5d0\"], [0.7, \"#b8e186\"], [0.8, \"#7fbc41\"], [0.9, \"#4d9221\"], [1, \"#276419\"]], \"sequential\": [[0.0, \"#0d0887\"], [0.1111111111111111, \"#46039f\"], [0.2222222222222222, \"#7201a8\"], [0.3333333333333333, \"#9c179e\"], [0.4444444444444444, \"#bd3786\"], [0.5555555555555556, \"#d8576b\"], [0.6666666666666666, \"#ed7953\"], [0.7777777777777778, \"#fb9f3a\"], [0.8888888888888888, \"#fdca26\"], [1.0, \"#f0f921\"]], \"sequentialminus\": [[0.0, \"#0d0887\"], [0.1111111111111111, \"#46039f\"], [0.2222222222222222, \"#7201a8\"], [0.3333333333333333, \"#9c179e\"], [0.4444444444444444, \"#bd3786\"], [0.5555555555555556, \"#d8576b\"], [0.6666666666666666, \"#ed7953\"], [0.7777777777777778, \"#fb9f3a\"], [0.8888888888888888, \"#fdca26\"], [1.0, \"#f0f921\"]]}, \"colorway\": [\"#636efa\", \"#EF553B\", \"#00cc96\", \"#ab63fa\", \"#FFA15A\", \"#19d3f3\", \"#FF6692\", \"#B6E880\", \"#FF97FF\", \"#FECB52\"], \"font\": {\"color\": \"#2a3f5f\"}, \"geo\": {\"bgcolor\": \"white\", \"lakecolor\": \"white\", \"landcolor\": \"#E5ECF6\", \"showlakes\": true, \"showland\": true, \"subunitcolor\": \"white\"}, \"hoverlabel\": {\"align\": \"left\"}, \"hovermode\": \"closest\", \"mapbox\": {\"style\": \"light\"}, \"paper_bgcolor\": \"white\", \"plot_bgcolor\": \"#E5ECF6\", \"polar\": {\"angularaxis\": {\"gridcolor\": \"white\", \"linecolor\": \"white\", \"ticks\": \"\"}, \"bgcolor\": \"#E5ECF6\", \"radialaxis\": {\"gridcolor\": \"white\", \"linecolor\": \"white\", \"ticks\": \"\"}}, \"scene\": {\"xaxis\": {\"backgroundcolor\": \"#E5ECF6\", \"gridcolor\": \"white\", \"gridwidth\": 2, \"linecolor\": \"white\", \"showbackground\": true, \"ticks\": \"\", \"zerolinecolor\": \"white\"}, \"yaxis\": {\"backgroundcolor\": \"#E5ECF6\", \"gridcolor\": \"white\", \"gridwidth\": 2, \"linecolor\": \"white\", \"showbackground\": true, \"ticks\": \"\", \"zerolinecolor\": \"white\"}, \"zaxis\": {\"backgroundcolor\": \"#E5ECF6\", \"gridcolor\": \"white\", \"gridwidth\": 2, \"linecolor\": \"white\", \"showbackground\": true, \"ticks\": \"\", \"zerolinecolor\": \"white\"}}, \"shapedefaults\": {\"line\": {\"color\": \"#2a3f5f\"}}, \"ternary\": {\"aaxis\": {\"gridcolor\": \"white\", \"linecolor\": \"white\", \"ticks\": \"\"}, \"baxis\": {\"gridcolor\": \"white\", \"linecolor\": \"white\", \"ticks\": \"\"}, \"bgcolor\": \"#E5ECF6\", \"caxis\": {\"gridcolor\": \"white\", \"linecolor\": \"white\", \"ticks\": \"\"}}, \"title\": {\"x\": 0.05}, \"xaxis\": {\"automargin\": true, \"gridcolor\": \"white\", \"linecolor\": \"white\", \"ticks\": \"\", \"title\": {\"standoff\": 15}, \"zerolinecolor\": \"white\", \"zerolinewidth\": 2}, \"yaxis\": {\"automargin\": true, \"gridcolor\": \"white\", \"linecolor\": \"white\", \"ticks\": \"\", \"title\": {\"standoff\": 15}, \"zerolinecolor\": \"white\", \"zerolinewidth\": 2}}}, \"xaxis\": {\"anchor\": \"y\", \"domain\": [0.0, 1.0], \"title\": {\"text\": \"Manufacturer\"}}, \"yaxis\": {\"anchor\": \"x\", \"domain\": [0.0, 1.0], \"title\": {\"text\": \"value\"}}},                        {\"responsive\": true}                    ).then(function(){\n",
       "                            \n",
       "var gd = document.getElementById('72f6ee04-7e34-41ab-a1cf-c44415be0192');\n",
       "var x = new MutationObserver(function (mutations, observer) {{\n",
       "        var display = window.getComputedStyle(gd).display;\n",
       "        if (!display || display === 'none') {{\n",
       "            console.log([gd, 'removed!']);\n",
       "            Plotly.purge(gd);\n",
       "            observer.disconnect();\n",
       "        }}\n",
       "}});\n",
       "\n",
       "// Listen for the removal of the full notebook cells\n",
       "var notebookContainer = gd.closest('#notebook-container');\n",
       "if (notebookContainer) {{\n",
       "    x.observe(notebookContainer, {childList: true});\n",
       "}}\n",
       "\n",
       "// Listen for the clearing of the current output cell\n",
       "var outputEl = gd.closest('.output');\n",
       "if (outputEl) {{\n",
       "    x.observe(outputEl, {childList: true});\n",
       "}}\n",
       "\n",
       "                        })                };                });            </script>        </div>"
      ]
     },
     "metadata": {},
     "output_type": "display_data"
    }
   ],
   "source": [
    "manu=df.drop([\"Name\",\"Type\",\"Rating\",\"Shelf\",\"Weight\",\"Cups\"],axis=1).groupby([\"Manufacturer\"]).mean()\n",
    "\n",
    "px.bar(manu,x=manu.index,y=[\"Calories\",\"Protein\",\"Fat\",\"Sodium\",\"Fiber\",\"Carbohydrates\",\"Sugars\",\"Potassium\",\"Vitamins\"])"
   ]
  },
  {
   "cell_type": "markdown",
   "metadata": {
    "papermill": {
     "duration": 0.043559,
     "end_time": "2020-12-29T23:15:19.617138",
     "exception": false,
     "start_time": "2020-12-29T23:15:19.573579",
     "status": "completed"
    },
    "tags": []
   },
   "source": [
    "> double click on the legend to isolate the variable"
   ]
  },
  {
   "cell_type": "markdown",
   "metadata": {
    "papermill": {
     "duration": 0.043261,
     "end_time": "2020-12-29T23:15:19.704816",
     "exception": false,
     "start_time": "2020-12-29T23:15:19.661555",
     "status": "completed"
    },
    "tags": []
   },
   "source": [
    "*A* (American Home Food Products)'s cereal has viturally no *sodium* or *fibre* but the most *protein* compared to the other manufacturers. *Q* (Quaker Oats) has the most *fat*, and *P* (Post) the most *sugars*. "
   ]
  },
  {
   "cell_type": "code",
   "execution_count": 13,
   "metadata": {
    "execution": {
     "iopub.execute_input": "2020-12-29T23:15:19.821533Z",
     "iopub.status.busy": "2020-12-29T23:15:19.820574Z",
     "iopub.status.idle": "2020-12-29T23:15:19.917183Z",
     "shell.execute_reply": "2020-12-29T23:15:19.916478Z"
    },
    "papermill": {
     "duration": 0.167861,
     "end_time": "2020-12-29T23:15:19.917335",
     "exception": false,
     "start_time": "2020-12-29T23:15:19.749474",
     "status": "completed"
    },
    "tags": []
   },
   "outputs": [
    {
     "data": {
      "text/html": [
       "<div>                            <div id=\"63b02a19-068e-42d8-acf0-a859fac1764d\" class=\"plotly-graph-div\" style=\"height:525px; width:100%;\"></div>            <script type=\"text/javascript\">                require([\"plotly\"], function(Plotly) {                    window.PLOTLYENV=window.PLOTLYENV || {};                                    if (document.getElementById(\"63b02a19-068e-42d8-acf0-a859fac1764d\")) {                    Plotly.newPlot(                        \"63b02a19-068e-42d8-acf0-a859fac1764d\",                        [{\"alignmentgroup\": \"True\", \"bingroup\": \"x\", \"hovertemplate\": \"variable=Calories<br>value=%{x}<br>count=%{y}<extra></extra>\", \"legendgroup\": \"Calories\", \"marker\": {\"color\": \"#636efa\"}, \"name\": \"Calories\", \"nbinsx\": 30, \"offsetgroup\": \"Calories\", \"orientation\": \"v\", \"showlegend\": true, \"type\": \"histogram\", \"x\": [100.0, 111.36363636363636, 108.69565217391305, 86.66666666666667, 108.88888888888889, 95.0, 115.0], \"xaxis\": \"x\", \"yaxis\": \"y\"}, {\"alignmentgroup\": \"True\", \"bingroup\": \"x\", \"hovertemplate\": \"variable=Protein<br>value=%{x}<br>count=%{y}<extra></extra>\", \"legendgroup\": \"Protein\", \"marker\": {\"color\": \"#EF553B\"}, \"name\": \"Protein\", \"nbinsx\": 30, \"offsetgroup\": \"Protein\", \"orientation\": \"v\", \"showlegend\": true, \"type\": \"histogram\", \"x\": [4.0, 2.3181818181818183, 2.652173913043478, 2.8333333333333335, 2.4444444444444446, 2.625, 2.5], \"xaxis\": \"x\", \"yaxis\": \"y\"}, {\"alignmentgroup\": \"True\", \"bingroup\": \"x\", \"hovertemplate\": \"variable=Fat<br>value=%{x}<br>count=%{y}<extra></extra>\", \"legendgroup\": \"Fat\", \"marker\": {\"color\": \"#00cc96\"}, \"name\": \"Fat\", \"nbinsx\": 30, \"offsetgroup\": \"Fat\", \"orientation\": \"v\", \"showlegend\": true, \"type\": \"histogram\", \"x\": [1.0, 1.3636363636363635, 0.6086956521739131, 0.16666666666666666, 0.8888888888888888, 1.75, 1.25], \"xaxis\": \"x\", \"yaxis\": \"y\"}, {\"alignmentgroup\": \"True\", \"bingroup\": \"x\", \"hovertemplate\": \"variable=Sodium<br>value=%{x}<br>count=%{y}<extra></extra>\", \"legendgroup\": \"Sodium\", \"marker\": {\"color\": \"#ab63fa\"}, \"name\": \"Sodium\", \"nbinsx\": 30, \"offsetgroup\": \"Sodium\", \"orientation\": \"v\", \"showlegend\": true, \"type\": \"histogram\", \"x\": [0.0, 200.45454545454547, 174.7826086956522, 37.5, 146.11111111111111, 92.5, 198.125], \"xaxis\": \"x\", \"yaxis\": \"y\"}, {\"alignmentgroup\": \"True\", \"bingroup\": \"x\", \"hovertemplate\": \"variable=Fiber<br>value=%{x}<br>count=%{y}<extra></extra>\", \"legendgroup\": \"Fiber\", \"marker\": {\"color\": \"#FFA15A\"}, \"name\": \"Fiber\", \"nbinsx\": 30, \"offsetgroup\": \"Fiber\", \"orientation\": \"v\", \"showlegend\": true, \"type\": \"histogram\", \"x\": [0.0, 1.2727272727272727, 2.739130434782609, 4.0, 2.7777777777777777, 1.3375, 1.875], \"xaxis\": \"x\", \"yaxis\": \"y\"}, {\"alignmentgroup\": \"True\", \"bingroup\": \"x\", \"hovertemplate\": \"variable=Carbohydrates<br>value=%{x}<br>count=%{y}<extra></extra>\", \"legendgroup\": \"Carbohydrates\", \"marker\": {\"color\": \"#19d3f3\"}, \"name\": \"Carbohydrates\", \"nbinsx\": 30, \"offsetgroup\": \"Carbohydrates\", \"orientation\": \"v\", \"showlegend\": true, \"type\": \"histogram\", \"x\": [16.0, 14.727272727272727, 15.130434782608695, 16.0, 13.222222222222221, 10.125, 17.625], \"xaxis\": \"x\", \"yaxis\": \"y\"}, {\"alignmentgroup\": \"True\", \"bingroup\": \"x\", \"hovertemplate\": \"variable=Sugars<br>value=%{x}<br>count=%{y}<extra></extra>\", \"legendgroup\": \"Sugars\", \"marker\": {\"color\": \"#FF6692\"}, \"name\": \"Sugars\", \"nbinsx\": 30, \"offsetgroup\": \"Sugars\", \"orientation\": \"v\", \"showlegend\": true, \"type\": \"histogram\", \"x\": [3.0, 7.954545454545454, 7.565217391304348, 1.8333333333333333, 8.777777777777779, 5.375, 6.125], \"xaxis\": \"x\", \"yaxis\": \"y\"}, {\"alignmentgroup\": \"True\", \"bingroup\": \"x\", \"hovertemplate\": \"variable=Potassium<br>value=%{x}<br>count=%{y}<extra></extra>\", \"legendgroup\": \"Potassium\", \"marker\": {\"color\": \"#B6E880\"}, \"name\": \"Potassium\", \"nbinsx\": 30, \"offsetgroup\": \"Potassium\", \"orientation\": \"v\", \"showlegend\": true, \"type\": \"histogram\", \"x\": [95.0, 85.22727272727273, 103.04347826086956, 120.83333333333333, 113.88888888888889, 74.375, 89.375], \"xaxis\": \"x\", \"yaxis\": \"y\"}, {\"alignmentgroup\": \"True\", \"bingroup\": \"x\", \"hovertemplate\": \"variable=Vitamins<br>value=%{x}<br>count=%{y}<extra></extra>\", \"legendgroup\": \"Vitamins\", \"marker\": {\"color\": \"#FF97FF\"}, \"name\": \"Vitamins\", \"nbinsx\": 30, \"offsetgroup\": \"Vitamins\", \"orientation\": \"v\", \"showlegend\": true, \"type\": \"histogram\", \"x\": [25.0, 35.22727272727273, 34.78260869565217, 8.333333333333334, 25.0, 12.5, 25.0], \"xaxis\": \"x\", \"yaxis\": \"y\"}],                        {\"barmode\": \"relative\", \"legend\": {\"title\": {\"text\": \"variable\"}, \"tracegroupgap\": 0}, \"margin\": {\"t\": 60}, \"template\": {\"data\": {\"bar\": [{\"error_x\": {\"color\": \"#2a3f5f\"}, \"error_y\": {\"color\": \"#2a3f5f\"}, \"marker\": {\"line\": {\"color\": \"#E5ECF6\", \"width\": 0.5}}, \"type\": \"bar\"}], \"barpolar\": [{\"marker\": {\"line\": {\"color\": \"#E5ECF6\", \"width\": 0.5}}, \"type\": \"barpolar\"}], \"carpet\": [{\"aaxis\": {\"endlinecolor\": \"#2a3f5f\", \"gridcolor\": \"white\", \"linecolor\": \"white\", \"minorgridcolor\": \"white\", \"startlinecolor\": \"#2a3f5f\"}, \"baxis\": {\"endlinecolor\": \"#2a3f5f\", \"gridcolor\": \"white\", \"linecolor\": \"white\", \"minorgridcolor\": \"white\", \"startlinecolor\": \"#2a3f5f\"}, \"type\": \"carpet\"}], \"choropleth\": [{\"colorbar\": {\"outlinewidth\": 0, \"ticks\": \"\"}, \"type\": \"choropleth\"}], \"contour\": [{\"colorbar\": {\"outlinewidth\": 0, \"ticks\": \"\"}, \"colorscale\": [[0.0, \"#0d0887\"], [0.1111111111111111, \"#46039f\"], [0.2222222222222222, \"#7201a8\"], [0.3333333333333333, \"#9c179e\"], [0.4444444444444444, \"#bd3786\"], [0.5555555555555556, \"#d8576b\"], [0.6666666666666666, \"#ed7953\"], [0.7777777777777778, \"#fb9f3a\"], [0.8888888888888888, \"#fdca26\"], [1.0, \"#f0f921\"]], \"type\": \"contour\"}], \"contourcarpet\": [{\"colorbar\": {\"outlinewidth\": 0, \"ticks\": \"\"}, \"type\": \"contourcarpet\"}], \"heatmap\": [{\"colorbar\": {\"outlinewidth\": 0, \"ticks\": \"\"}, \"colorscale\": [[0.0, \"#0d0887\"], [0.1111111111111111, \"#46039f\"], [0.2222222222222222, \"#7201a8\"], [0.3333333333333333, \"#9c179e\"], [0.4444444444444444, \"#bd3786\"], [0.5555555555555556, \"#d8576b\"], [0.6666666666666666, \"#ed7953\"], [0.7777777777777778, \"#fb9f3a\"], [0.8888888888888888, \"#fdca26\"], [1.0, \"#f0f921\"]], \"type\": \"heatmap\"}], \"heatmapgl\": [{\"colorbar\": {\"outlinewidth\": 0, \"ticks\": \"\"}, \"colorscale\": [[0.0, \"#0d0887\"], [0.1111111111111111, \"#46039f\"], [0.2222222222222222, \"#7201a8\"], [0.3333333333333333, \"#9c179e\"], [0.4444444444444444, \"#bd3786\"], [0.5555555555555556, \"#d8576b\"], [0.6666666666666666, \"#ed7953\"], [0.7777777777777778, \"#fb9f3a\"], [0.8888888888888888, \"#fdca26\"], [1.0, \"#f0f921\"]], \"type\": \"heatmapgl\"}], \"histogram\": [{\"marker\": {\"colorbar\": {\"outlinewidth\": 0, \"ticks\": \"\"}}, \"type\": \"histogram\"}], \"histogram2d\": [{\"colorbar\": {\"outlinewidth\": 0, \"ticks\": \"\"}, \"colorscale\": [[0.0, \"#0d0887\"], [0.1111111111111111, \"#46039f\"], [0.2222222222222222, \"#7201a8\"], [0.3333333333333333, \"#9c179e\"], [0.4444444444444444, \"#bd3786\"], [0.5555555555555556, \"#d8576b\"], [0.6666666666666666, \"#ed7953\"], [0.7777777777777778, \"#fb9f3a\"], [0.8888888888888888, \"#fdca26\"], [1.0, \"#f0f921\"]], \"type\": \"histogram2d\"}], \"histogram2dcontour\": [{\"colorbar\": {\"outlinewidth\": 0, \"ticks\": \"\"}, \"colorscale\": [[0.0, \"#0d0887\"], [0.1111111111111111, \"#46039f\"], [0.2222222222222222, \"#7201a8\"], [0.3333333333333333, \"#9c179e\"], [0.4444444444444444, \"#bd3786\"], [0.5555555555555556, \"#d8576b\"], [0.6666666666666666, \"#ed7953\"], [0.7777777777777778, \"#fb9f3a\"], [0.8888888888888888, \"#fdca26\"], [1.0, \"#f0f921\"]], \"type\": \"histogram2dcontour\"}], \"mesh3d\": [{\"colorbar\": {\"outlinewidth\": 0, \"ticks\": \"\"}, \"type\": \"mesh3d\"}], \"parcoords\": [{\"line\": {\"colorbar\": {\"outlinewidth\": 0, \"ticks\": \"\"}}, \"type\": \"parcoords\"}], \"pie\": [{\"automargin\": true, \"type\": \"pie\"}], \"scatter\": [{\"marker\": {\"colorbar\": {\"outlinewidth\": 0, \"ticks\": \"\"}}, \"type\": \"scatter\"}], \"scatter3d\": [{\"line\": {\"colorbar\": {\"outlinewidth\": 0, \"ticks\": \"\"}}, \"marker\": {\"colorbar\": {\"outlinewidth\": 0, \"ticks\": \"\"}}, \"type\": \"scatter3d\"}], \"scattercarpet\": [{\"marker\": {\"colorbar\": {\"outlinewidth\": 0, \"ticks\": \"\"}}, \"type\": \"scattercarpet\"}], \"scattergeo\": [{\"marker\": {\"colorbar\": {\"outlinewidth\": 0, \"ticks\": \"\"}}, \"type\": \"scattergeo\"}], \"scattergl\": [{\"marker\": {\"colorbar\": {\"outlinewidth\": 0, \"ticks\": \"\"}}, \"type\": \"scattergl\"}], \"scattermapbox\": [{\"marker\": {\"colorbar\": {\"outlinewidth\": 0, \"ticks\": \"\"}}, \"type\": \"scattermapbox\"}], \"scatterpolar\": [{\"marker\": {\"colorbar\": {\"outlinewidth\": 0, \"ticks\": \"\"}}, \"type\": \"scatterpolar\"}], \"scatterpolargl\": [{\"marker\": {\"colorbar\": {\"outlinewidth\": 0, \"ticks\": \"\"}}, \"type\": \"scatterpolargl\"}], \"scatterternary\": [{\"marker\": {\"colorbar\": {\"outlinewidth\": 0, \"ticks\": \"\"}}, \"type\": \"scatterternary\"}], \"surface\": [{\"colorbar\": {\"outlinewidth\": 0, \"ticks\": \"\"}, \"colorscale\": [[0.0, \"#0d0887\"], [0.1111111111111111, \"#46039f\"], [0.2222222222222222, \"#7201a8\"], [0.3333333333333333, \"#9c179e\"], [0.4444444444444444, \"#bd3786\"], [0.5555555555555556, \"#d8576b\"], [0.6666666666666666, \"#ed7953\"], [0.7777777777777778, \"#fb9f3a\"], [0.8888888888888888, \"#fdca26\"], [1.0, \"#f0f921\"]], \"type\": \"surface\"}], \"table\": [{\"cells\": {\"fill\": {\"color\": \"#EBF0F8\"}, \"line\": {\"color\": \"white\"}}, \"header\": {\"fill\": {\"color\": \"#C8D4E3\"}, \"line\": {\"color\": \"white\"}}, \"type\": \"table\"}]}, \"layout\": {\"annotationdefaults\": {\"arrowcolor\": \"#2a3f5f\", \"arrowhead\": 0, \"arrowwidth\": 1}, \"coloraxis\": {\"colorbar\": {\"outlinewidth\": 0, \"ticks\": \"\"}}, \"colorscale\": {\"diverging\": [[0, \"#8e0152\"], [0.1, \"#c51b7d\"], [0.2, \"#de77ae\"], [0.3, \"#f1b6da\"], [0.4, \"#fde0ef\"], [0.5, \"#f7f7f7\"], [0.6, \"#e6f5d0\"], [0.7, \"#b8e186\"], [0.8, \"#7fbc41\"], [0.9, \"#4d9221\"], [1, \"#276419\"]], \"sequential\": [[0.0, \"#0d0887\"], [0.1111111111111111, \"#46039f\"], [0.2222222222222222, \"#7201a8\"], [0.3333333333333333, \"#9c179e\"], [0.4444444444444444, \"#bd3786\"], [0.5555555555555556, \"#d8576b\"], [0.6666666666666666, \"#ed7953\"], [0.7777777777777778, \"#fb9f3a\"], [0.8888888888888888, \"#fdca26\"], [1.0, \"#f0f921\"]], \"sequentialminus\": [[0.0, \"#0d0887\"], [0.1111111111111111, \"#46039f\"], [0.2222222222222222, \"#7201a8\"], [0.3333333333333333, \"#9c179e\"], [0.4444444444444444, \"#bd3786\"], [0.5555555555555556, \"#d8576b\"], [0.6666666666666666, \"#ed7953\"], [0.7777777777777778, \"#fb9f3a\"], [0.8888888888888888, \"#fdca26\"], [1.0, \"#f0f921\"]]}, \"colorway\": [\"#636efa\", \"#EF553B\", \"#00cc96\", \"#ab63fa\", \"#FFA15A\", \"#19d3f3\", \"#FF6692\", \"#B6E880\", \"#FF97FF\", \"#FECB52\"], \"font\": {\"color\": \"#2a3f5f\"}, \"geo\": {\"bgcolor\": \"white\", \"lakecolor\": \"white\", \"landcolor\": \"#E5ECF6\", \"showlakes\": true, \"showland\": true, \"subunitcolor\": \"white\"}, \"hoverlabel\": {\"align\": \"left\"}, \"hovermode\": \"closest\", \"mapbox\": {\"style\": \"light\"}, \"paper_bgcolor\": \"white\", \"plot_bgcolor\": \"#E5ECF6\", \"polar\": {\"angularaxis\": {\"gridcolor\": \"white\", \"linecolor\": \"white\", \"ticks\": \"\"}, \"bgcolor\": \"#E5ECF6\", \"radialaxis\": {\"gridcolor\": \"white\", \"linecolor\": \"white\", \"ticks\": \"\"}}, \"scene\": {\"xaxis\": {\"backgroundcolor\": \"#E5ECF6\", \"gridcolor\": \"white\", \"gridwidth\": 2, \"linecolor\": \"white\", \"showbackground\": true, \"ticks\": \"\", \"zerolinecolor\": \"white\"}, \"yaxis\": {\"backgroundcolor\": \"#E5ECF6\", \"gridcolor\": \"white\", \"gridwidth\": 2, \"linecolor\": \"white\", \"showbackground\": true, \"ticks\": \"\", \"zerolinecolor\": \"white\"}, \"zaxis\": {\"backgroundcolor\": \"#E5ECF6\", \"gridcolor\": \"white\", \"gridwidth\": 2, \"linecolor\": \"white\", \"showbackground\": true, \"ticks\": \"\", \"zerolinecolor\": \"white\"}}, \"shapedefaults\": {\"line\": {\"color\": \"#2a3f5f\"}}, \"ternary\": {\"aaxis\": {\"gridcolor\": \"white\", \"linecolor\": \"white\", \"ticks\": \"\"}, \"baxis\": {\"gridcolor\": \"white\", \"linecolor\": \"white\", \"ticks\": \"\"}, \"bgcolor\": \"#E5ECF6\", \"caxis\": {\"gridcolor\": \"white\", \"linecolor\": \"white\", \"ticks\": \"\"}}, \"title\": {\"x\": 0.05}, \"xaxis\": {\"automargin\": true, \"gridcolor\": \"white\", \"linecolor\": \"white\", \"ticks\": \"\", \"title\": {\"standoff\": 15}, \"zerolinecolor\": \"white\", \"zerolinewidth\": 2}, \"yaxis\": {\"automargin\": true, \"gridcolor\": \"white\", \"linecolor\": \"white\", \"ticks\": \"\", \"title\": {\"standoff\": 15}, \"zerolinecolor\": \"white\", \"zerolinewidth\": 2}}}, \"xaxis\": {\"anchor\": \"y\", \"domain\": [0.0, 1.0], \"range\": [0, 200], \"title\": {\"text\": \"value\"}}, \"yaxis\": {\"anchor\": \"x\", \"domain\": [0.0, 1.0], \"title\": {\"text\": \"count\"}}},                        {\"responsive\": true}                    ).then(function(){\n",
       "                            \n",
       "var gd = document.getElementById('63b02a19-068e-42d8-acf0-a859fac1764d');\n",
       "var x = new MutationObserver(function (mutations, observer) {{\n",
       "        var display = window.getComputedStyle(gd).display;\n",
       "        if (!display || display === 'none') {{\n",
       "            console.log([gd, 'removed!']);\n",
       "            Plotly.purge(gd);\n",
       "            observer.disconnect();\n",
       "        }}\n",
       "}});\n",
       "\n",
       "// Listen for the removal of the full notebook cells\n",
       "var notebookContainer = gd.closest('#notebook-container');\n",
       "if (notebookContainer) {{\n",
       "    x.observe(notebookContainer, {childList: true});\n",
       "}}\n",
       "\n",
       "// Listen for the clearing of the current output cell\n",
       "var outputEl = gd.closest('.output');\n",
       "if (outputEl) {{\n",
       "    x.observe(outputEl, {childList: true});\n",
       "}}\n",
       "\n",
       "                        })                };                });            </script>        </div>"
      ]
     },
     "metadata": {},
     "output_type": "display_data"
    }
   ],
   "source": [
    "px.histogram(manu,nbins=30,range_x=[0,200])"
   ]
  },
  {
   "cell_type": "markdown",
   "metadata": {
    "papermill": {
     "duration": 0.045455,
     "end_time": "2020-12-29T23:15:20.008993",
     "exception": false,
     "start_time": "2020-12-29T23:15:19.963538",
     "status": "completed"
    },
    "tags": []
   },
   "source": [
    "> double click on the legend to isolate the variable"
   ]
  },
  {
   "cell_type": "code",
   "execution_count": 14,
   "metadata": {
    "execution": {
     "iopub.execute_input": "2020-12-29T23:15:20.118320Z",
     "iopub.status.busy": "2020-12-29T23:15:20.117509Z",
     "iopub.status.idle": "2020-12-29T23:15:20.295968Z",
     "shell.execute_reply": "2020-12-29T23:15:20.296536Z"
    },
    "papermill": {
     "duration": 0.24249,
     "end_time": "2020-12-29T23:15:20.296723",
     "exception": false,
     "start_time": "2020-12-29T23:15:20.054233",
     "status": "completed"
    },
    "tags": []
   },
   "outputs": [
    {
     "data": {
      "text/html": [
       "<style  type=\"text/css\" >\n",
       "#T_b868368c_4a2b_11eb_959e_0242ac130202row0_col0{\n",
       "            background-color:  #c6d8e9;\n",
       "            color:  #000000;\n",
       "        }#T_b868368c_4a2b_11eb_959e_0242ac130202row0_col1,#T_b868368c_4a2b_11eb_959e_0242ac130202row6_col0{\n",
       "            background-color:  #f0f7fa;\n",
       "            color:  #000000;\n",
       "        }#T_b868368c_4a2b_11eb_959e_0242ac130202row0_col2{\n",
       "            background-color:  #a2bfdb;\n",
       "            color:  #000000;\n",
       "        }#T_b868368c_4a2b_11eb_959e_0242ac130202row1_col0,#T_b868368c_4a2b_11eb_959e_0242ac130202row2_col0,#T_b868368c_4a2b_11eb_959e_0242ac130202row3_col1,#T_b868368c_4a2b_11eb_959e_0242ac130202row6_col2{\n",
       "            background-color:  #f7fcfd;\n",
       "            color:  #000000;\n",
       "        }#T_b868368c_4a2b_11eb_959e_0242ac130202row1_col1{\n",
       "            background-color:  #95aad0;\n",
       "            color:  #000000;\n",
       "        }#T_b868368c_4a2b_11eb_959e_0242ac130202row1_col2{\n",
       "            background-color:  #c2d5e7;\n",
       "            color:  #000000;\n",
       "        }#T_b868368c_4a2b_11eb_959e_0242ac130202row2_col1{\n",
       "            background-color:  #8c7dba;\n",
       "            color:  #000000;\n",
       "        }#T_b868368c_4a2b_11eb_959e_0242ac130202row2_col2{\n",
       "            background-color:  #abc5df;\n",
       "            color:  #000000;\n",
       "        }#T_b868368c_4a2b_11eb_959e_0242ac130202row3_col0,#T_b868368c_4a2b_11eb_959e_0242ac130202row4_col2,#T_b868368c_4a2b_11eb_959e_0242ac130202row8_col1{\n",
       "            background-color:  #4d004b;\n",
       "            color:  #f1f1f1;\n",
       "        }#T_b868368c_4a2b_11eb_959e_0242ac130202row3_col2{\n",
       "            background-color:  #e8f1f7;\n",
       "            color:  #000000;\n",
       "        }#T_b868368c_4a2b_11eb_959e_0242ac130202row4_col0{\n",
       "            background-color:  #f4fafc;\n",
       "            color:  #000000;\n",
       "        }#T_b868368c_4a2b_11eb_959e_0242ac130202row4_col1{\n",
       "            background-color:  #50014e;\n",
       "            color:  #f1f1f1;\n",
       "        }#T_b868368c_4a2b_11eb_959e_0242ac130202row5_col0{\n",
       "            background-color:  #f1f7fa;\n",
       "            color:  #000000;\n",
       "        }#T_b868368c_4a2b_11eb_959e_0242ac130202row5_col1{\n",
       "            background-color:  #eaf3f8;\n",
       "            color:  #000000;\n",
       "        }#T_b868368c_4a2b_11eb_959e_0242ac130202row5_col2{\n",
       "            background-color:  #c9dbea;\n",
       "            color:  #000000;\n",
       "        }#T_b868368c_4a2b_11eb_959e_0242ac130202row6_col1{\n",
       "            background-color:  #cbdceb;\n",
       "            color:  #000000;\n",
       "        }#T_b868368c_4a2b_11eb_959e_0242ac130202row7_col0{\n",
       "            background-color:  #821982;\n",
       "            color:  #f1f1f1;\n",
       "        }#T_b868368c_4a2b_11eb_959e_0242ac130202row7_col1{\n",
       "            background-color:  #8c68af;\n",
       "            color:  #000000;\n",
       "        }#T_b868368c_4a2b_11eb_959e_0242ac130202row7_col2{\n",
       "            background-color:  #afc8e0;\n",
       "            color:  #000000;\n",
       "        }#T_b868368c_4a2b_11eb_959e_0242ac130202row8_col0{\n",
       "            background-color:  #bed2e6;\n",
       "            color:  #000000;\n",
       "        }#T_b868368c_4a2b_11eb_959e_0242ac130202row8_col2{\n",
       "            background-color:  #883e9b;\n",
       "            color:  #f1f1f1;\n",
       "        }</style><table id=\"T_b868368c_4a2b_11eb_959e_0242ac130202\" ><thead>    <tr>        <th class=\"blank level0\" ></th>        <th class=\"col_heading level0 col0\" >Standard Deviation</th>        <th class=\"col_heading level0 col1\" >Skew</th>        <th class=\"col_heading level0 col2\" >Kurtosis</th>    </tr></thead><tbody>\n",
       "                <tr>\n",
       "                        <th id=\"T_b868368c_4a2b_11eb_959e_0242ac130202level0_row0\" class=\"row_heading level0 row0\" >Calories</th>\n",
       "                        <td id=\"T_b868368c_4a2b_11eb_959e_0242ac130202row0_col0\" class=\"data row0 col0\" >19.484119</td>\n",
       "                        <td id=\"T_b868368c_4a2b_11eb_959e_0242ac130202row0_col1\" class=\"data row0 col1\" >-0.436683</td>\n",
       "                        <td id=\"T_b868368c_4a2b_11eb_959e_0242ac130202row0_col2\" class=\"data row0 col2\" >2.142090</td>\n",
       "            </tr>\n",
       "            <tr>\n",
       "                        <th id=\"T_b868368c_4a2b_11eb_959e_0242ac130202level0_row1\" class=\"row_heading level0 row1\" >Protein</th>\n",
       "                        <td id=\"T_b868368c_4a2b_11eb_959e_0242ac130202row1_col0\" class=\"data row1 col0\" >1.094790</td>\n",
       "                        <td id=\"T_b868368c_4a2b_11eb_959e_0242ac130202row1_col1\" class=\"data row1 col1\" >0.731221</td>\n",
       "                        <td id=\"T_b868368c_4a2b_11eb_959e_0242ac130202row1_col2\" class=\"data row1 col2\" >1.032193</td>\n",
       "            </tr>\n",
       "            <tr>\n",
       "                        <th id=\"T_b868368c_4a2b_11eb_959e_0242ac130202level0_row2\" class=\"row_heading level0 row2\" >Fat</th>\n",
       "                        <td id=\"T_b868368c_4a2b_11eb_959e_0242ac130202row2_col0\" class=\"data row2 col0\" >1.006473</td>\n",
       "                        <td id=\"T_b868368c_4a2b_11eb_959e_0242ac130202row2_col1\" class=\"data row2 col1\" >1.143151</td>\n",
       "                        <td id=\"T_b868368c_4a2b_11eb_959e_0242ac130202row2_col2\" class=\"data row2 col2\" >1.837354</td>\n",
       "            </tr>\n",
       "            <tr>\n",
       "                        <th id=\"T_b868368c_4a2b_11eb_959e_0242ac130202level0_row3\" class=\"row_heading level0 row3\" >Sodium</th>\n",
       "                        <td id=\"T_b868368c_4a2b_11eb_959e_0242ac130202row3_col0\" class=\"data row3 col0\" >83.832295</td>\n",
       "                        <td id=\"T_b868368c_4a2b_11eb_959e_0242ac130202row3_col1\" class=\"data row3 col1\" >-0.564435</td>\n",
       "                        <td id=\"T_b868368c_4a2b_11eb_959e_0242ac130202row3_col2\" class=\"data row3 col2\" >-0.400151</td>\n",
       "            </tr>\n",
       "            <tr>\n",
       "                        <th id=\"T_b868368c_4a2b_11eb_959e_0242ac130202level0_row4\" class=\"row_heading level0 row4\" >Fiber</th>\n",
       "                        <td id=\"T_b868368c_4a2b_11eb_959e_0242ac130202row4_col0\" class=\"data row4 col0\" >2.383364</td>\n",
       "                        <td id=\"T_b868368c_4a2b_11eb_959e_0242ac130202row4_col1\" class=\"data row4 col1\" >2.384046</td>\n",
       "                        <td id=\"T_b868368c_4a2b_11eb_959e_0242ac130202row4_col2\" class=\"data row4 col2\" >8.019160</td>\n",
       "            </tr>\n",
       "            <tr>\n",
       "                        <th id=\"T_b868368c_4a2b_11eb_959e_0242ac130202level0_row5\" class=\"row_heading level0 row5\" >Carbohydrates</th>\n",
       "                        <td id=\"T_b868368c_4a2b_11eb_959e_0242ac130202row5_col0\" class=\"data row5 col0\" >4.232257</td>\n",
       "                        <td id=\"T_b868368c_4a2b_11eb_959e_0242ac130202row5_col1\" class=\"data row5 col1\" >-0.343613</td>\n",
       "                        <td id=\"T_b868368c_4a2b_11eb_959e_0242ac130202row5_col2\" class=\"data row5 col2\" >0.788007</td>\n",
       "            </tr>\n",
       "            <tr>\n",
       "                        <th id=\"T_b868368c_4a2b_11eb_959e_0242ac130202level0_row6\" class=\"row_heading level0 row6\" >Sugars</th>\n",
       "                        <td id=\"T_b868368c_4a2b_11eb_959e_0242ac130202row6_col0\" class=\"data row6 col0\" >4.422840</td>\n",
       "                        <td id=\"T_b868368c_4a2b_11eb_959e_0242ac130202row6_col1\" class=\"data row6 col1\" >0.050920</td>\n",
       "                        <td id=\"T_b868368c_4a2b_11eb_959e_0242ac130202row6_col2\" class=\"data row6 col2\" >-1.166392</td>\n",
       "            </tr>\n",
       "            <tr>\n",
       "                        <th id=\"T_b868368c_4a2b_11eb_959e_0242ac130202level0_row7\" class=\"row_heading level0 row7\" >Potassium</th>\n",
       "                        <td id=\"T_b868368c_4a2b_11eb_959e_0242ac130202row7_col0\" class=\"data row7 col0\" >71.251147</td>\n",
       "                        <td id=\"T_b868368c_4a2b_11eb_959e_0242ac130202row7_col1\" class=\"data row7 col1\" >1.327448</td>\n",
       "                        <td id=\"T_b868368c_4a2b_11eb_959e_0242ac130202row7_col2\" class=\"data row7 col2\" >1.697380</td>\n",
       "            </tr>\n",
       "            <tr>\n",
       "                        <th id=\"T_b868368c_4a2b_11eb_959e_0242ac130202level0_row8\" class=\"row_heading level0 row8\" >Vitamins</th>\n",
       "                        <td id=\"T_b868368c_4a2b_11eb_959e_0242ac130202row8_col0\" class=\"data row8 col0\" >22.342523</td>\n",
       "                        <td id=\"T_b868368c_4a2b_11eb_959e_0242ac130202row8_col1\" class=\"data row8 col1\" >2.415447</td>\n",
       "                        <td id=\"T_b868368c_4a2b_11eb_959e_0242ac130202row8_col2\" class=\"data row8 col2\" >5.781316</td>\n",
       "            </tr>\n",
       "    </tbody></table>"
      ],
      "text/plain": [
       "<pandas.io.formats.style.Styler at 0x7f380137cb10>"
      ]
     },
     "execution_count": 14,
     "metadata": {},
     "output_type": "execute_result"
    }
   ],
   "source": [
    "sstd=[stats.tstd(df[i]) for i in manu.columns]\n",
    "sskew=[stats.skew(df[i]) for i in manu.columns]\n",
    "skurtosis=[stats.kurtosis(df[i]) for i in manu.columns]\n",
    "\n",
    "stable=pd.DataFrame({\"Standard Deviation\":sstd,\"Skew\":sskew,\"Kurtosis\":skurtosis},index=manu.columns)\n",
    "stable.style.background_gradient(cmap=\"BuPu\")"
   ]
  },
  {
   "cell_type": "markdown",
   "metadata": {
    "papermill": {
     "duration": 0.046052,
     "end_time": "2020-12-29T23:15:20.389469",
     "exception": false,
     "start_time": "2020-12-29T23:15:20.343417",
     "status": "completed"
    },
    "tags": []
   },
   "source": [
    "*Sodium* followed by *potassium* has the largest spread; *vitamins* and *fibre* are the most skewed and not normally distributed; and again *fibre* and *vitamins* have the highest kurtosis."
   ]
  },
  {
   "cell_type": "code",
   "execution_count": 15,
   "metadata": {
    "execution": {
     "iopub.execute_input": "2020-12-29T23:15:20.494623Z",
     "iopub.status.busy": "2020-12-29T23:15:20.493648Z",
     "iopub.status.idle": "2020-12-29T23:15:20.550989Z",
     "shell.execute_reply": "2020-12-29T23:15:20.550363Z"
    },
    "papermill": {
     "duration": 0.11513,
     "end_time": "2020-12-29T23:15:20.551132",
     "exception": false,
     "start_time": "2020-12-29T23:15:20.436002",
     "status": "completed"
    },
    "tags": []
   },
   "outputs": [
    {
     "data": {
      "text/html": [
       "<div>                            <div id=\"4b96fa85-59c0-4d66-a2ac-cbc87eca39ce\" class=\"plotly-graph-div\" style=\"height:525px; width:100%;\"></div>            <script type=\"text/javascript\">                require([\"plotly\"], function(Plotly) {                    window.PLOTLYENV=window.PLOTLYENV || {};                                    if (document.getElementById(\"4b96fa85-59c0-4d66-a2ac-cbc87eca39ce\")) {                    Plotly.newPlot(                        \"4b96fa85-59c0-4d66-a2ac-cbc87eca39ce\",                        [{\"coloraxis\": \"coloraxis\", \"hovertemplate\": \"x: %{x}<br>y: %{y}<br>color: %{z}<extra></extra>\", \"type\": \"heatmap\", \"x\": [\"Calories\", \"Protein\", \"Fat\", \"Sodium\", \"Fiber\", \"Carbohydrates\", \"Sugars\", \"Potassium\", \"Vitamins\", \"Shelf\", \"Weight\", \"Cups\", \"Rating\"], \"y\": [\"Calories\", \"Protein\", \"Fat\", \"Sodium\", \"Fiber\", \"Carbohydrates\", \"Sugars\", \"Potassium\", \"Vitamins\", \"Shelf\", \"Weight\", \"Cups\", \"Rating\"], \"z\": [[1.0, 0.019066068232357045, 0.4986098143003878, 0.3006492269526867, -0.29341275179832144, 0.25234869059605886, 0.5640922203277142, -0.06667789569058025, 0.2653562981114496, 0.09723436772167836, 0.6960910769169041, 0.08719954579093925, -0.6893760311652587], [0.019066068232357045, 1.0, 0.2084309895808068, -0.054674347511502484, 0.5003300427811562, -0.1253372738075477, -0.32411233906744713, 0.549667079464893, 0.007335370520533918, 0.13386478901600132, 0.2161584855195131, -0.24446915776667216, 0.4706184645492595], [0.4986098143003878, 0.2084309895808068, 1.0, -0.005407464142988059, 0.016719237409478938, -0.3185040112813799, 0.27508649964770376, 0.1933705844208371, -0.03115626553472393, 0.26369108927169244, 0.21462503294690521, -0.1758921424593898, -0.40928366014780987], [0.3006492269526867, -0.054674347511502484, -0.005407464142988059, 1.0, -0.07067500888163178, 0.35398985110403086, 0.09629059260182443, -0.03270647031773489, 0.36147668811842937, -0.06971901520966246, 0.3085764509091827, 0.11966461477796655, -0.40129520449484835], [-0.29341275179832144, 0.5003300427811562, 0.016719237409478938, -0.07067500888163178, 1.0, -0.35929693744224234, -0.14122511595786214, 0.9036473537450287, -0.03224267938538186, 0.29753905609295084, 0.24722562983528196, -0.5130609334010765, 0.5841604199515834], [0.25234869059605886, -0.1253372738075477, -0.3185040112813799, 0.35398985110403086, -0.35929693744224234, 1.0, -0.3528352117791931, -0.352861052439402, 0.25706548099760496, -0.1074238240171664, 0.13601577744047325, 0.3659303912974207, 0.05443561530215912], [0.5640922203277142, -0.32411233906744713, 0.27508649964770376, 0.09629059260182443, -0.14122511595786214, -0.3528352117791931, 1.0, 0.022151065168512896, 0.12199983019253399, 0.09662251170989461, 0.4523083786225309, -0.03444974497475415, -0.7617324153134105], [-0.06667789569058025, 0.549667079464893, 0.1933705844208371, -0.03270647031773489, 0.9036473537450287, -0.352861052439402, 0.022151065168512896, 1.0, 0.020448742231550153, 0.36097357513392864, 0.4164388605780024, -0.4953571853716886, 0.38053428751007623], [0.2653562981114496, 0.007335370520533918, -0.03115626553472393, 0.36147668811842937, -0.03224267938538186, 0.25706548099760496, 0.12199983019253399, 0.020448742231550153, 1.0, 0.2992616654364501, 0.320324059150388, 0.12840454253286743, -0.2405436107690815], [0.09723436772167836, 0.13386478901600132, 0.26369108927169244, -0.06971901520966246, 0.29753905609295084, -0.1074238240171664, 0.09662251170989461, 0.36097357513392864, 0.2992616654364501, 1.0, 0.19076196726898997, -0.33526875894247576, 0.025158815679116934], [0.6960910769169041, 0.2161584855195131, 0.21462503294690521, 0.3085764509091827, 0.24722562983528196, 0.13601577744047325, 0.4523083786225309, 0.4164388605780024, 0.320324059150388, 0.19076196726898997, 1.0, -0.1995827224385371, -0.29812398497794707], [0.08719954579093925, -0.24446915776667216, -0.1758921424593898, 0.11966461477796655, -0.5130609334010765, 0.3659303912974207, -0.03444974497475415, -0.4953571853716886, 0.12840454253286743, -0.33526875894247576, -0.1995827224385371, 1.0, -0.2031600630081788], [-0.6893760311652587, 0.4706184645492595, -0.40928366014780987, -0.40129520449484835, 0.5841604199515834, 0.05443561530215912, -0.7617324153134105, 0.38053428751007623, -0.2405436107690815, 0.025158815679116934, -0.29812398497794707, -0.2031600630081788, 1.0]]}],                        {\"coloraxis\": {\"cmid\": 0, \"colorscale\": [[0.0, \"rgb(0, 147, 146)\"], [0.16666666666666666, \"rgb(114, 170, 161)\"], [0.3333333333333333, \"rgb(177, 199, 179)\"], [0.5, \"rgb(241, 234, 200)\"], [0.6666666666666666, \"rgb(229, 185, 173)\"], [0.8333333333333334, \"rgb(217, 137, 148)\"], [1.0, \"rgb(208, 88, 126)\"]]}, \"margin\": {\"t\": 60}, \"template\": {\"data\": {\"bar\": [{\"error_x\": {\"color\": \"#2a3f5f\"}, \"error_y\": {\"color\": \"#2a3f5f\"}, \"marker\": {\"line\": {\"color\": \"#E5ECF6\", \"width\": 0.5}}, \"type\": \"bar\"}], \"barpolar\": [{\"marker\": {\"line\": {\"color\": \"#E5ECF6\", \"width\": 0.5}}, \"type\": \"barpolar\"}], \"carpet\": [{\"aaxis\": {\"endlinecolor\": \"#2a3f5f\", \"gridcolor\": \"white\", \"linecolor\": \"white\", \"minorgridcolor\": \"white\", \"startlinecolor\": \"#2a3f5f\"}, \"baxis\": {\"endlinecolor\": \"#2a3f5f\", \"gridcolor\": \"white\", \"linecolor\": \"white\", \"minorgridcolor\": \"white\", \"startlinecolor\": \"#2a3f5f\"}, \"type\": \"carpet\"}], \"choropleth\": [{\"colorbar\": {\"outlinewidth\": 0, \"ticks\": \"\"}, \"type\": \"choropleth\"}], \"contour\": [{\"colorbar\": {\"outlinewidth\": 0, \"ticks\": \"\"}, \"colorscale\": [[0.0, \"#0d0887\"], [0.1111111111111111, \"#46039f\"], [0.2222222222222222, \"#7201a8\"], [0.3333333333333333, \"#9c179e\"], [0.4444444444444444, \"#bd3786\"], [0.5555555555555556, \"#d8576b\"], [0.6666666666666666, \"#ed7953\"], [0.7777777777777778, \"#fb9f3a\"], [0.8888888888888888, \"#fdca26\"], [1.0, \"#f0f921\"]], \"type\": \"contour\"}], \"contourcarpet\": [{\"colorbar\": {\"outlinewidth\": 0, \"ticks\": \"\"}, \"type\": \"contourcarpet\"}], \"heatmap\": [{\"colorbar\": {\"outlinewidth\": 0, \"ticks\": \"\"}, \"colorscale\": [[0.0, \"#0d0887\"], [0.1111111111111111, \"#46039f\"], [0.2222222222222222, \"#7201a8\"], [0.3333333333333333, \"#9c179e\"], [0.4444444444444444, \"#bd3786\"], [0.5555555555555556, \"#d8576b\"], [0.6666666666666666, \"#ed7953\"], [0.7777777777777778, \"#fb9f3a\"], [0.8888888888888888, \"#fdca26\"], [1.0, \"#f0f921\"]], \"type\": \"heatmap\"}], \"heatmapgl\": [{\"colorbar\": {\"outlinewidth\": 0, \"ticks\": \"\"}, \"colorscale\": [[0.0, \"#0d0887\"], [0.1111111111111111, \"#46039f\"], [0.2222222222222222, \"#7201a8\"], [0.3333333333333333, \"#9c179e\"], [0.4444444444444444, \"#bd3786\"], [0.5555555555555556, \"#d8576b\"], [0.6666666666666666, \"#ed7953\"], [0.7777777777777778, \"#fb9f3a\"], [0.8888888888888888, \"#fdca26\"], [1.0, \"#f0f921\"]], \"type\": \"heatmapgl\"}], \"histogram\": [{\"marker\": {\"colorbar\": {\"outlinewidth\": 0, \"ticks\": \"\"}}, \"type\": \"histogram\"}], \"histogram2d\": [{\"colorbar\": {\"outlinewidth\": 0, \"ticks\": \"\"}, \"colorscale\": [[0.0, \"#0d0887\"], [0.1111111111111111, \"#46039f\"], [0.2222222222222222, \"#7201a8\"], [0.3333333333333333, \"#9c179e\"], [0.4444444444444444, \"#bd3786\"], [0.5555555555555556, \"#d8576b\"], [0.6666666666666666, \"#ed7953\"], [0.7777777777777778, \"#fb9f3a\"], [0.8888888888888888, \"#fdca26\"], [1.0, \"#f0f921\"]], \"type\": \"histogram2d\"}], \"histogram2dcontour\": [{\"colorbar\": {\"outlinewidth\": 0, \"ticks\": \"\"}, \"colorscale\": [[0.0, \"#0d0887\"], [0.1111111111111111, \"#46039f\"], [0.2222222222222222, \"#7201a8\"], [0.3333333333333333, \"#9c179e\"], [0.4444444444444444, \"#bd3786\"], [0.5555555555555556, \"#d8576b\"], [0.6666666666666666, \"#ed7953\"], [0.7777777777777778, \"#fb9f3a\"], [0.8888888888888888, \"#fdca26\"], [1.0, \"#f0f921\"]], \"type\": \"histogram2dcontour\"}], \"mesh3d\": [{\"colorbar\": {\"outlinewidth\": 0, \"ticks\": \"\"}, \"type\": \"mesh3d\"}], \"parcoords\": [{\"line\": {\"colorbar\": {\"outlinewidth\": 0, \"ticks\": \"\"}}, \"type\": \"parcoords\"}], \"pie\": [{\"automargin\": true, \"type\": \"pie\"}], \"scatter\": [{\"marker\": {\"colorbar\": {\"outlinewidth\": 0, \"ticks\": \"\"}}, \"type\": \"scatter\"}], \"scatter3d\": [{\"line\": {\"colorbar\": {\"outlinewidth\": 0, \"ticks\": \"\"}}, \"marker\": {\"colorbar\": {\"outlinewidth\": 0, \"ticks\": \"\"}}, \"type\": \"scatter3d\"}], \"scattercarpet\": [{\"marker\": {\"colorbar\": {\"outlinewidth\": 0, \"ticks\": \"\"}}, \"type\": \"scattercarpet\"}], \"scattergeo\": [{\"marker\": {\"colorbar\": {\"outlinewidth\": 0, \"ticks\": \"\"}}, \"type\": \"scattergeo\"}], \"scattergl\": [{\"marker\": {\"colorbar\": {\"outlinewidth\": 0, \"ticks\": \"\"}}, \"type\": \"scattergl\"}], \"scattermapbox\": [{\"marker\": {\"colorbar\": {\"outlinewidth\": 0, \"ticks\": \"\"}}, \"type\": \"scattermapbox\"}], \"scatterpolar\": [{\"marker\": {\"colorbar\": {\"outlinewidth\": 0, \"ticks\": \"\"}}, \"type\": \"scatterpolar\"}], \"scatterpolargl\": [{\"marker\": {\"colorbar\": {\"outlinewidth\": 0, \"ticks\": \"\"}}, \"type\": \"scatterpolargl\"}], \"scatterternary\": [{\"marker\": {\"colorbar\": {\"outlinewidth\": 0, \"ticks\": \"\"}}, \"type\": \"scatterternary\"}], \"surface\": [{\"colorbar\": {\"outlinewidth\": 0, \"ticks\": \"\"}, \"colorscale\": [[0.0, \"#0d0887\"], [0.1111111111111111, \"#46039f\"], [0.2222222222222222, \"#7201a8\"], [0.3333333333333333, \"#9c179e\"], [0.4444444444444444, \"#bd3786\"], [0.5555555555555556, \"#d8576b\"], [0.6666666666666666, \"#ed7953\"], [0.7777777777777778, \"#fb9f3a\"], [0.8888888888888888, \"#fdca26\"], [1.0, \"#f0f921\"]], \"type\": \"surface\"}], \"table\": [{\"cells\": {\"fill\": {\"color\": \"#EBF0F8\"}, \"line\": {\"color\": \"white\"}}, \"header\": {\"fill\": {\"color\": \"#C8D4E3\"}, \"line\": {\"color\": \"white\"}}, \"type\": \"table\"}]}, \"layout\": {\"annotationdefaults\": {\"arrowcolor\": \"#2a3f5f\", \"arrowhead\": 0, \"arrowwidth\": 1}, \"coloraxis\": {\"colorbar\": {\"outlinewidth\": 0, \"ticks\": \"\"}}, \"colorscale\": {\"diverging\": [[0, \"#8e0152\"], [0.1, \"#c51b7d\"], [0.2, \"#de77ae\"], [0.3, \"#f1b6da\"], [0.4, \"#fde0ef\"], [0.5, \"#f7f7f7\"], [0.6, \"#e6f5d0\"], [0.7, \"#b8e186\"], [0.8, \"#7fbc41\"], [0.9, \"#4d9221\"], [1, \"#276419\"]], \"sequential\": [[0.0, \"#0d0887\"], [0.1111111111111111, \"#46039f\"], [0.2222222222222222, \"#7201a8\"], [0.3333333333333333, \"#9c179e\"], [0.4444444444444444, \"#bd3786\"], [0.5555555555555556, \"#d8576b\"], [0.6666666666666666, \"#ed7953\"], [0.7777777777777778, \"#fb9f3a\"], [0.8888888888888888, \"#fdca26\"], [1.0, \"#f0f921\"]], \"sequentialminus\": [[0.0, \"#0d0887\"], [0.1111111111111111, \"#46039f\"], [0.2222222222222222, \"#7201a8\"], [0.3333333333333333, \"#9c179e\"], [0.4444444444444444, \"#bd3786\"], [0.5555555555555556, \"#d8576b\"], [0.6666666666666666, \"#ed7953\"], [0.7777777777777778, \"#fb9f3a\"], [0.8888888888888888, \"#fdca26\"], [1.0, \"#f0f921\"]]}, \"colorway\": [\"#636efa\", \"#EF553B\", \"#00cc96\", \"#ab63fa\", \"#FFA15A\", \"#19d3f3\", \"#FF6692\", \"#B6E880\", \"#FF97FF\", \"#FECB52\"], \"font\": {\"color\": \"#2a3f5f\"}, \"geo\": {\"bgcolor\": \"white\", \"lakecolor\": \"white\", \"landcolor\": \"#E5ECF6\", \"showlakes\": true, \"showland\": true, \"subunitcolor\": \"white\"}, \"hoverlabel\": {\"align\": \"left\"}, \"hovermode\": \"closest\", \"mapbox\": {\"style\": \"light\"}, \"paper_bgcolor\": \"white\", \"plot_bgcolor\": \"#E5ECF6\", \"polar\": {\"angularaxis\": {\"gridcolor\": \"white\", \"linecolor\": \"white\", \"ticks\": \"\"}, \"bgcolor\": \"#E5ECF6\", \"radialaxis\": {\"gridcolor\": \"white\", \"linecolor\": \"white\", \"ticks\": \"\"}}, \"scene\": {\"xaxis\": {\"backgroundcolor\": \"#E5ECF6\", \"gridcolor\": \"white\", \"gridwidth\": 2, \"linecolor\": \"white\", \"showbackground\": true, \"ticks\": \"\", \"zerolinecolor\": \"white\"}, \"yaxis\": {\"backgroundcolor\": \"#E5ECF6\", \"gridcolor\": \"white\", \"gridwidth\": 2, \"linecolor\": \"white\", \"showbackground\": true, \"ticks\": \"\", \"zerolinecolor\": \"white\"}, \"zaxis\": {\"backgroundcolor\": \"#E5ECF6\", \"gridcolor\": \"white\", \"gridwidth\": 2, \"linecolor\": \"white\", \"showbackground\": true, \"ticks\": \"\", \"zerolinecolor\": \"white\"}}, \"shapedefaults\": {\"line\": {\"color\": \"#2a3f5f\"}}, \"ternary\": {\"aaxis\": {\"gridcolor\": \"white\", \"linecolor\": \"white\", \"ticks\": \"\"}, \"baxis\": {\"gridcolor\": \"white\", \"linecolor\": \"white\", \"ticks\": \"\"}, \"bgcolor\": \"#E5ECF6\", \"caxis\": {\"gridcolor\": \"white\", \"linecolor\": \"white\", \"ticks\": \"\"}}, \"title\": {\"x\": 0.05}, \"xaxis\": {\"automargin\": true, \"gridcolor\": \"white\", \"linecolor\": \"white\", \"ticks\": \"\", \"title\": {\"standoff\": 15}, \"zerolinecolor\": \"white\", \"zerolinewidth\": 2}, \"yaxis\": {\"automargin\": true, \"gridcolor\": \"white\", \"linecolor\": \"white\", \"ticks\": \"\", \"title\": {\"standoff\": 15}, \"zerolinecolor\": \"white\", \"zerolinewidth\": 2}}}, \"xaxis\": {\"constrain\": \"domain\", \"scaleanchor\": \"y\"}, \"yaxis\": {\"autorange\": \"reversed\", \"constrain\": \"domain\"}},                        {\"responsive\": true}                    ).then(function(){\n",
       "                            \n",
       "var gd = document.getElementById('4b96fa85-59c0-4d66-a2ac-cbc87eca39ce');\n",
       "var x = new MutationObserver(function (mutations, observer) {{\n",
       "        var display = window.getComputedStyle(gd).display;\n",
       "        if (!display || display === 'none') {{\n",
       "            console.log([gd, 'removed!']);\n",
       "            Plotly.purge(gd);\n",
       "            observer.disconnect();\n",
       "        }}\n",
       "}});\n",
       "\n",
       "// Listen for the removal of the full notebook cells\n",
       "var notebookContainer = gd.closest('#notebook-container');\n",
       "if (notebookContainer) {{\n",
       "    x.observe(notebookContainer, {childList: true});\n",
       "}}\n",
       "\n",
       "// Listen for the clearing of the current output cell\n",
       "var outputEl = gd.closest('.output');\n",
       "if (outputEl) {{\n",
       "    x.observe(outputEl, {childList: true});\n",
       "}}\n",
       "\n",
       "                        })                };                });            </script>        </div>"
      ]
     },
     "metadata": {},
     "output_type": "display_data"
    }
   ],
   "source": [
    "px.imshow(df.corr(),color_continuous_scale=\"tealrose\",color_continuous_midpoint=0)"
   ]
  },
  {
   "cell_type": "markdown",
   "metadata": {
    "papermill": {
     "duration": 0.04691,
     "end_time": "2020-12-29T23:15:20.645828",
     "exception": false,
     "start_time": "2020-12-29T23:15:20.598918",
     "status": "completed"
    },
    "tags": []
   },
   "source": [
    "In the data:\n",
    "- The strongest positive correlation is between *fiber* and *potassium*;\n",
    "- *Calories* have notable positive correlations with *weight*, *sugars* and *fat*, which makes nutritional sense; and\n",
    "- Strong negative correlations between *sugars* and *rating*, and *calories* and *rating*."
   ]
  },
  {
   "cell_type": "code",
   "execution_count": 16,
   "metadata": {
    "execution": {
     "iopub.execute_input": "2020-12-29T23:15:20.749994Z",
     "iopub.status.busy": "2020-12-29T23:15:20.748870Z",
     "iopub.status.idle": "2020-12-29T23:15:22.061831Z",
     "shell.execute_reply": "2020-12-29T23:15:22.061218Z"
    },
    "papermill": {
     "duration": 1.368065,
     "end_time": "2020-12-29T23:15:22.061969",
     "exception": false,
     "start_time": "2020-12-29T23:15:20.693904",
     "status": "completed"
    },
    "scrolled": false,
    "tags": []
   },
   "outputs": [
    {
     "data": {
      "text/html": [
       "<div>                            <div id=\"d7784810-3838-4116-8c13-a0e4fb10d798\" class=\"plotly-graph-div\" style=\"height:525px; width:100%;\"></div>            <script type=\"text/javascript\">                require([\"plotly\"], function(Plotly) {                    window.PLOTLYENV=window.PLOTLYENV || {};                                    if (document.getElementById(\"d7784810-3838-4116-8c13-a0e4fb10d798\")) {                    Plotly.newPlot(                        \"d7784810-3838-4116-8c13-a0e4fb10d798\",                        [{\"customdata\": [[68.402973], [33.983678999999995], [59.425505], [93.704912], [34.384843], [29.509541], [33.174094000000004], [37.038562], [49.120253000000005], [53.313813], [18.042851000000002], [50.764998999999996], [19.823573], [40.400208], [22.736446], [41.445019], [45.863324], [35.782790999999996], [22.396513], [40.448772], [64.533816], [46.895644], [36.176196000000004], [44.330856], [32.207582], [31.435972999999997], [58.345141000000005], [40.917047], [41.015492], [28.025765000000003], [35.252444], [23.804043], [52.076896999999995], [53.37100699999999], [45.811716], [21.871292], [31.072217], [28.742414], [36.523683], [36.471512], [39.241114], [45.328074], [26.734515000000002], [54.850917], [37.136863], [34.139765000000004], [30.313351], [40.105965000000005], [29.924284999999998], [40.69232], [59.642837], [30.450843], [37.840594], [41.50354], [60.756112], [63.005644999999994], [49.511874], [50.828392], [39.259197], [39.7034], [55.333142], [41.998933], [40.560159000000006], [68.235885], [74.472949], [72.801787], [31.230054], [53.131324], [59.36399300000001], [38.839746000000005], [28.592785], [46.658844], [39.106173999999996], [27.753301], [49.787445], [51.592193], [36.187559]], \"hovertemplate\": \"<b>%{hovertext}</b><br><br>Calories per Serve=%{x}<br>Rating (%)=%{customdata[0]:.2f}<extra></extra>\", \"hovertext\": [\"100% Bran\", \"100% Natural Bran\", \"All-Bran\", \"All-Bran with Extra Fiber\", \"Almond Delight\", \"Apple Cinnamon Cheerios\", \"Apple Jacks\", \"Basic 4\", \"Bran Chex\", \"Bran Flakes\", \"Cap'n'Crunch\", \"Cheerios\", \"Cinnamon Toast Crunch\", \"Clusters\", \"Cocoa Puffs\", \"Corn Chex\", \"Corn Flakes\", \"Corn Pops\", \"Count Chocula\", \"Cracklin' Oat Bran\", \"Cream of Wheat (Quick)\", \"Crispix\", \"Crispy Wheat & Raisins\", \"Double Chex\", \"Froot Loops\", \"Frosted Flakes\", \"Frosted Mini-Wheats\", \"Fruit & Fibre Dates; Walnuts; and Oats\", \"Fruitful Bran\", \"Fruity Pebbles\", \"Golden Crisp\", \"Golden Grahams\", \"Grape Nuts Flakes\", \"Grape-Nuts\", \"Great Grains Pecan\", \"Honey Graham Ohs\", \"Honey Nut Cheerios\", \"Honey-comb\", \"Just Right Crunchy  Nuggets\", \"Just Right Fruit & Nut\", \"Kix\", \"Life\", \"Lucky Charms\", \"Maypo\", \"Muesli Raisins; Dates; & Almonds\", \"Muesli Raisins; Peaches; & Pecans\", \"Mueslix Crispy Blend\", \"Multi-Grain Cheerios\", \"Nut&Honey Crunch\", \"Nutri-Grain Almond-Raisin\", \"Nutri-grain Wheat\", \"Oatmeal Raisin Crisp\", \"Post Nat. Raisin Bran\", \"Product 19\", \"Puffed Rice\", \"Puffed Wheat\", \"Quaker Oat Squares\", \"Quaker Oatmeal\", \"Raisin Bran\", \"Raisin Nut Bran\", \"Raisin Squares\", \"Rice Chex\", \"Rice Krispies\", \"Shredded Wheat\", \"Shredded Wheat 'n'Bran\", \"Shredded Wheat spoon size\", \"Smacks\", \"Special K\", \"Strawberry Fruit Wheats\", \"Total Corn Flakes\", \"Total Raisin Bran\", \"Total Whole Grain\", \"Triples\", \"Trix\", \"Wheat Chex\", \"Wheaties\", \"Wheaties Honey Gold\"], \"legendgroup\": \"\", \"marker\": {\"color\": \"gold\", \"symbol\": \"circle\"}, \"mode\": \"markers\", \"name\": \"\", \"orientation\": \"v\", \"showlegend\": false, \"type\": \"scatter\", \"x\": [70, 120, 70, 50, 110, 110, 110, 130, 90, 90, 120, 110, 120, 110, 110, 110, 100, 110, 110, 110, 100, 110, 100, 100, 110, 110, 100, 120, 120, 110, 100, 110, 100, 110, 120, 120, 110, 110, 110, 140, 110, 100, 110, 100, 150, 150, 160, 100, 120, 140, 90, 130, 120, 100, 50, 50, 100, 100, 120, 100, 90, 110, 110, 80, 90, 90, 110, 110, 90, 110, 140, 100, 110, 110, 100, 100, 110], \"xaxis\": \"x\", \"y\": [68.402973, 33.983678999999995, 59.425505, 93.704912, 34.384843, 29.509541, 33.174094000000004, 37.038562, 49.120253000000005, 53.313813, 18.042851000000002, 50.764998999999996, 19.823573, 40.400208, 22.736446, 41.445019, 45.863324, 35.782790999999996, 22.396513, 40.448772, 64.533816, 46.895644, 36.176196000000004, 44.330856, 32.207582, 31.435972999999997, 58.345141000000005, 40.917047, 41.015492, 28.025765000000003, 35.252444, 23.804043, 52.076896999999995, 53.37100699999999, 45.811716, 21.871292, 31.072217, 28.742414, 36.523683, 36.471512, 39.241114, 45.328074, 26.734515000000002, 54.850917, 37.136863, 34.139765000000004, 30.313351, 40.105965000000005, 29.924284999999998, 40.69232, 59.642837, 30.450843, 37.840594, 41.50354, 60.756112, 63.005644999999994, 49.511874, 50.828392, 39.259197, 39.7034, 55.333142, 41.998933, 40.560159000000006, 68.235885, 74.472949, 72.801787, 31.230054, 53.131324, 59.36399300000001, 38.839746000000005, 28.592785, 46.658844, 39.106173999999996, 27.753301, 49.787445, 51.592193, 36.187559], \"yaxis\": \"y\"}, {\"alignmentgroup\": \"True\", \"bingroup\": \"x\", \"hovertemplate\": \"Calories per Serve=%{x}<br>count=%{y}<extra></extra>\", \"legendgroup\": \"\", \"marker\": {\"color\": \"gold\"}, \"name\": \"\", \"offsetgroup\": \"\", \"opacity\": 0.5, \"showlegend\": false, \"type\": \"histogram\", \"x\": [70, 120, 70, 50, 110, 110, 110, 130, 90, 90, 120, 110, 120, 110, 110, 110, 100, 110, 110, 110, 100, 110, 100, 100, 110, 110, 100, 120, 120, 110, 100, 110, 100, 110, 120, 120, 110, 110, 110, 140, 110, 100, 110, 100, 150, 150, 160, 100, 120, 140, 90, 130, 120, 100, 50, 50, 100, 100, 120, 100, 90, 110, 110, 80, 90, 90, 110, 110, 90, 110, 140, 100, 110, 110, 100, 100, 110], \"xaxis\": \"x3\", \"yaxis\": \"y3\"}, {\"alignmentgroup\": \"True\", \"customdata\": [[68.402973], [33.983678999999995], [59.425505], [93.704912], [34.384843], [29.509541], [33.174094000000004], [37.038562], [49.120253000000005], [53.313813], [18.042851000000002], [50.764998999999996], [19.823573], [40.400208], [22.736446], [41.445019], [45.863324], [35.782790999999996], [22.396513], [40.448772], [64.533816], [46.895644], [36.176196000000004], [44.330856], [32.207582], [31.435972999999997], [58.345141000000005], [40.917047], [41.015492], [28.025765000000003], [35.252444], [23.804043], [52.076896999999995], [53.37100699999999], [45.811716], [21.871292], [31.072217], [28.742414], [36.523683], [36.471512], [39.241114], [45.328074], [26.734515000000002], [54.850917], [37.136863], [34.139765000000004], [30.313351], [40.105965000000005], [29.924284999999998], [40.69232], [59.642837], [30.450843], [37.840594], [41.50354], [60.756112], [63.005644999999994], [49.511874], [50.828392], [39.259197], [39.7034], [55.333142], [41.998933], [40.560159000000006], [68.235885], [74.472949], [72.801787], [31.230054], [53.131324], [59.36399300000001], [38.839746000000005], [28.592785], [46.658844], [39.106173999999996], [27.753301], [49.787445], [51.592193], [36.187559]], \"hovertemplate\": \"<b>%{hovertext}</b><br><br>Rating (%)=%{customdata[0]:.2f}<extra></extra>\", \"hovertext\": [\"100% Bran\", \"100% Natural Bran\", \"All-Bran\", \"All-Bran with Extra Fiber\", \"Almond Delight\", \"Apple Cinnamon Cheerios\", \"Apple Jacks\", \"Basic 4\", \"Bran Chex\", \"Bran Flakes\", \"Cap'n'Crunch\", \"Cheerios\", \"Cinnamon Toast Crunch\", \"Clusters\", \"Cocoa Puffs\", \"Corn Chex\", \"Corn Flakes\", \"Corn Pops\", \"Count Chocula\", \"Cracklin' Oat Bran\", \"Cream of Wheat (Quick)\", \"Crispix\", \"Crispy Wheat & Raisins\", \"Double Chex\", \"Froot Loops\", \"Frosted Flakes\", \"Frosted Mini-Wheats\", \"Fruit & Fibre Dates; Walnuts; and Oats\", \"Fruitful Bran\", \"Fruity Pebbles\", \"Golden Crisp\", \"Golden Grahams\", \"Grape Nuts Flakes\", \"Grape-Nuts\", \"Great Grains Pecan\", \"Honey Graham Ohs\", \"Honey Nut Cheerios\", \"Honey-comb\", \"Just Right Crunchy  Nuggets\", \"Just Right Fruit & Nut\", \"Kix\", \"Life\", \"Lucky Charms\", \"Maypo\", \"Muesli Raisins; Dates; & Almonds\", \"Muesli Raisins; Peaches; & Pecans\", \"Mueslix Crispy Blend\", \"Multi-Grain Cheerios\", \"Nut&Honey Crunch\", \"Nutri-Grain Almond-Raisin\", \"Nutri-grain Wheat\", \"Oatmeal Raisin Crisp\", \"Post Nat. Raisin Bran\", \"Product 19\", \"Puffed Rice\", \"Puffed Wheat\", \"Quaker Oat Squares\", \"Quaker Oatmeal\", \"Raisin Bran\", \"Raisin Nut Bran\", \"Raisin Squares\", \"Rice Chex\", \"Rice Krispies\", \"Shredded Wheat\", \"Shredded Wheat 'n'Bran\", \"Shredded Wheat spoon size\", \"Smacks\", \"Special K\", \"Strawberry Fruit Wheats\", \"Total Corn Flakes\", \"Total Raisin Bran\", \"Total Whole Grain\", \"Triples\", \"Trix\", \"Wheat Chex\", \"Wheaties\", \"Wheaties Honey Gold\"], \"legendgroup\": \"\", \"marker\": {\"color\": \"gold\", \"symbol\": \"circle\"}, \"name\": \"\", \"notched\": true, \"offsetgroup\": \"\", \"showlegend\": false, \"type\": \"box\", \"xaxis\": \"x2\", \"y\": [68.402973, 33.983678999999995, 59.425505, 93.704912, 34.384843, 29.509541, 33.174094000000004, 37.038562, 49.120253000000005, 53.313813, 18.042851000000002, 50.764998999999996, 19.823573, 40.400208, 22.736446, 41.445019, 45.863324, 35.782790999999996, 22.396513, 40.448772, 64.533816, 46.895644, 36.176196000000004, 44.330856, 32.207582, 31.435972999999997, 58.345141000000005, 40.917047, 41.015492, 28.025765000000003, 35.252444, 23.804043, 52.076896999999995, 53.37100699999999, 45.811716, 21.871292, 31.072217, 28.742414, 36.523683, 36.471512, 39.241114, 45.328074, 26.734515000000002, 54.850917, 37.136863, 34.139765000000004, 30.313351, 40.105965000000005, 29.924284999999998, 40.69232, 59.642837, 30.450843, 37.840594, 41.50354, 60.756112, 63.005644999999994, 49.511874, 50.828392, 39.259197, 39.7034, 55.333142, 41.998933, 40.560159000000006, 68.235885, 74.472949, 72.801787, 31.230054, 53.131324, 59.36399300000001, 38.839746000000005, 28.592785, 46.658844, 39.106173999999996, 27.753301, 49.787445, 51.592193, 36.187559], \"yaxis\": \"y2\"}, {\"hovertemplate\": \"<b>OLS trendline</b><br>Rating = -0.497013 * Calories + 95.788<br>R<sup>2</sup>=0.475239<br><br>Calories per Serve=%{x}<br>Rating (%)=%{y:.2f} <b>(trend)</b><extra></extra>\", \"legendgroup\": \"\", \"marker\": {\"color\": \"gold\", \"symbol\": \"circle\"}, \"mode\": \"lines\", \"name\": \"\", \"showlegend\": false, \"type\": \"scatter\", \"x\": [50, 50, 50, 70, 70, 80, 90, 90, 90, 90, 90, 90, 90, 100, 100, 100, 100, 100, 100, 100, 100, 100, 100, 100, 100, 100, 100, 100, 100, 100, 110, 110, 110, 110, 110, 110, 110, 110, 110, 110, 110, 110, 110, 110, 110, 110, 110, 110, 110, 110, 110, 110, 110, 110, 110, 110, 110, 110, 110, 120, 120, 120, 120, 120, 120, 120, 120, 120, 120, 130, 130, 140, 140, 140, 150, 150, 160], \"xaxis\": \"x\", \"y\": [70.93736435460926, 70.93736435460926, 70.93736435460926, 60.9971005586964, 60.9971005586964, 56.02696866073998, 51.056836762783554, 51.056836762783554, 51.056836762783554, 51.056836762783554, 51.056836762783554, 51.056836762783554, 51.056836762783554, 46.08670486482713, 46.08670486482713, 46.08670486482713, 46.08670486482713, 46.08670486482713, 46.08670486482713, 46.08670486482713, 46.08670486482713, 46.08670486482713, 46.08670486482713, 46.08670486482713, 46.08670486482713, 46.08670486482713, 46.08670486482713, 46.08670486482713, 46.08670486482713, 46.08670486482713, 41.116572966870706, 41.116572966870706, 41.116572966870706, 41.116572966870706, 41.116572966870706, 41.116572966870706, 41.116572966870706, 41.116572966870706, 41.116572966870706, 41.116572966870706, 41.116572966870706, 41.116572966870706, 41.116572966870706, 41.116572966870706, 41.116572966870706, 41.116572966870706, 41.116572966870706, 41.116572966870706, 41.116572966870706, 41.116572966870706, 41.116572966870706, 41.116572966870706, 41.116572966870706, 41.116572966870706, 41.116572966870706, 41.116572966870706, 41.116572966870706, 41.116572966870706, 41.116572966870706, 36.14644106891428, 36.14644106891428, 36.14644106891428, 36.14644106891428, 36.14644106891428, 36.14644106891428, 36.14644106891428, 36.14644106891428, 36.14644106891428, 36.14644106891428, 31.17630917095785, 31.17630917095785, 26.20617727300143, 26.20617727300143, 26.20617727300143, 21.23604537504501, 21.23604537504501, 16.26591347708859], \"yaxis\": \"y\"}],                        {\"barmode\": \"overlay\", \"legend\": {\"tracegroupgap\": 0}, \"margin\": {\"t\": 60}, \"template\": {\"data\": {\"bar\": [{\"error_x\": {\"color\": \"#2a3f5f\"}, \"error_y\": {\"color\": \"#2a3f5f\"}, \"marker\": {\"line\": {\"color\": \"#E5ECF6\", \"width\": 0.5}}, \"type\": \"bar\"}], \"barpolar\": [{\"marker\": {\"line\": {\"color\": \"#E5ECF6\", \"width\": 0.5}}, \"type\": \"barpolar\"}], \"carpet\": [{\"aaxis\": {\"endlinecolor\": \"#2a3f5f\", \"gridcolor\": \"white\", \"linecolor\": \"white\", \"minorgridcolor\": \"white\", \"startlinecolor\": \"#2a3f5f\"}, \"baxis\": {\"endlinecolor\": \"#2a3f5f\", \"gridcolor\": \"white\", \"linecolor\": \"white\", \"minorgridcolor\": \"white\", \"startlinecolor\": \"#2a3f5f\"}, \"type\": \"carpet\"}], \"choropleth\": [{\"colorbar\": {\"outlinewidth\": 0, \"ticks\": \"\"}, \"type\": \"choropleth\"}], \"contour\": [{\"colorbar\": {\"outlinewidth\": 0, \"ticks\": \"\"}, \"colorscale\": [[0.0, \"#0d0887\"], [0.1111111111111111, \"#46039f\"], [0.2222222222222222, \"#7201a8\"], [0.3333333333333333, \"#9c179e\"], [0.4444444444444444, \"#bd3786\"], [0.5555555555555556, \"#d8576b\"], [0.6666666666666666, \"#ed7953\"], [0.7777777777777778, \"#fb9f3a\"], [0.8888888888888888, \"#fdca26\"], [1.0, \"#f0f921\"]], \"type\": \"contour\"}], \"contourcarpet\": [{\"colorbar\": {\"outlinewidth\": 0, \"ticks\": \"\"}, \"type\": \"contourcarpet\"}], \"heatmap\": [{\"colorbar\": {\"outlinewidth\": 0, \"ticks\": \"\"}, \"colorscale\": [[0.0, \"#0d0887\"], [0.1111111111111111, \"#46039f\"], [0.2222222222222222, \"#7201a8\"], [0.3333333333333333, \"#9c179e\"], [0.4444444444444444, \"#bd3786\"], [0.5555555555555556, \"#d8576b\"], [0.6666666666666666, \"#ed7953\"], [0.7777777777777778, \"#fb9f3a\"], [0.8888888888888888, \"#fdca26\"], [1.0, \"#f0f921\"]], \"type\": \"heatmap\"}], \"heatmapgl\": [{\"colorbar\": {\"outlinewidth\": 0, \"ticks\": \"\"}, \"colorscale\": [[0.0, \"#0d0887\"], [0.1111111111111111, \"#46039f\"], [0.2222222222222222, \"#7201a8\"], [0.3333333333333333, \"#9c179e\"], [0.4444444444444444, \"#bd3786\"], [0.5555555555555556, \"#d8576b\"], [0.6666666666666666, \"#ed7953\"], [0.7777777777777778, \"#fb9f3a\"], [0.8888888888888888, \"#fdca26\"], [1.0, \"#f0f921\"]], \"type\": \"heatmapgl\"}], \"histogram\": [{\"marker\": {\"colorbar\": {\"outlinewidth\": 0, \"ticks\": \"\"}}, \"type\": \"histogram\"}], \"histogram2d\": [{\"colorbar\": {\"outlinewidth\": 0, \"ticks\": \"\"}, \"colorscale\": [[0.0, \"#0d0887\"], [0.1111111111111111, \"#46039f\"], [0.2222222222222222, \"#7201a8\"], [0.3333333333333333, \"#9c179e\"], [0.4444444444444444, \"#bd3786\"], [0.5555555555555556, \"#d8576b\"], [0.6666666666666666, \"#ed7953\"], [0.7777777777777778, \"#fb9f3a\"], [0.8888888888888888, \"#fdca26\"], [1.0, \"#f0f921\"]], \"type\": \"histogram2d\"}], \"histogram2dcontour\": [{\"colorbar\": {\"outlinewidth\": 0, \"ticks\": \"\"}, \"colorscale\": [[0.0, \"#0d0887\"], [0.1111111111111111, \"#46039f\"], [0.2222222222222222, \"#7201a8\"], [0.3333333333333333, \"#9c179e\"], [0.4444444444444444, \"#bd3786\"], [0.5555555555555556, \"#d8576b\"], [0.6666666666666666, \"#ed7953\"], [0.7777777777777778, \"#fb9f3a\"], [0.8888888888888888, \"#fdca26\"], [1.0, \"#f0f921\"]], \"type\": \"histogram2dcontour\"}], \"mesh3d\": [{\"colorbar\": {\"outlinewidth\": 0, \"ticks\": \"\"}, \"type\": \"mesh3d\"}], \"parcoords\": [{\"line\": {\"colorbar\": {\"outlinewidth\": 0, \"ticks\": \"\"}}, \"type\": \"parcoords\"}], \"pie\": [{\"automargin\": true, \"type\": \"pie\"}], \"scatter\": [{\"marker\": {\"colorbar\": {\"outlinewidth\": 0, \"ticks\": \"\"}}, \"type\": \"scatter\"}], \"scatter3d\": [{\"line\": {\"colorbar\": {\"outlinewidth\": 0, \"ticks\": \"\"}}, \"marker\": {\"colorbar\": {\"outlinewidth\": 0, \"ticks\": \"\"}}, \"type\": \"scatter3d\"}], \"scattercarpet\": [{\"marker\": {\"colorbar\": {\"outlinewidth\": 0, \"ticks\": \"\"}}, \"type\": \"scattercarpet\"}], \"scattergeo\": [{\"marker\": {\"colorbar\": {\"outlinewidth\": 0, \"ticks\": \"\"}}, \"type\": \"scattergeo\"}], \"scattergl\": [{\"marker\": {\"colorbar\": {\"outlinewidth\": 0, \"ticks\": \"\"}}, \"type\": \"scattergl\"}], \"scattermapbox\": [{\"marker\": {\"colorbar\": {\"outlinewidth\": 0, \"ticks\": \"\"}}, \"type\": \"scattermapbox\"}], \"scatterpolar\": [{\"marker\": {\"colorbar\": {\"outlinewidth\": 0, \"ticks\": \"\"}}, \"type\": \"scatterpolar\"}], \"scatterpolargl\": [{\"marker\": {\"colorbar\": {\"outlinewidth\": 0, \"ticks\": \"\"}}, \"type\": \"scatterpolargl\"}], \"scatterternary\": [{\"marker\": {\"colorbar\": {\"outlinewidth\": 0, \"ticks\": \"\"}}, \"type\": \"scatterternary\"}], \"surface\": [{\"colorbar\": {\"outlinewidth\": 0, \"ticks\": \"\"}, \"colorscale\": [[0.0, \"#0d0887\"], [0.1111111111111111, \"#46039f\"], [0.2222222222222222, \"#7201a8\"], [0.3333333333333333, \"#9c179e\"], [0.4444444444444444, \"#bd3786\"], [0.5555555555555556, \"#d8576b\"], [0.6666666666666666, \"#ed7953\"], [0.7777777777777778, \"#fb9f3a\"], [0.8888888888888888, \"#fdca26\"], [1.0, \"#f0f921\"]], \"type\": \"surface\"}], \"table\": [{\"cells\": {\"fill\": {\"color\": \"#EBF0F8\"}, \"line\": {\"color\": \"white\"}}, \"header\": {\"fill\": {\"color\": \"#C8D4E3\"}, \"line\": {\"color\": \"white\"}}, \"type\": \"table\"}]}, \"layout\": {\"annotationdefaults\": {\"arrowcolor\": \"#2a3f5f\", \"arrowhead\": 0, \"arrowwidth\": 1}, \"coloraxis\": {\"colorbar\": {\"outlinewidth\": 0, \"ticks\": \"\"}}, \"colorscale\": {\"diverging\": [[0, \"#8e0152\"], [0.1, \"#c51b7d\"], [0.2, \"#de77ae\"], [0.3, \"#f1b6da\"], [0.4, \"#fde0ef\"], [0.5, \"#f7f7f7\"], [0.6, \"#e6f5d0\"], [0.7, \"#b8e186\"], [0.8, \"#7fbc41\"], [0.9, \"#4d9221\"], [1, \"#276419\"]], \"sequential\": [[0.0, \"#0d0887\"], [0.1111111111111111, \"#46039f\"], [0.2222222222222222, \"#7201a8\"], [0.3333333333333333, \"#9c179e\"], [0.4444444444444444, \"#bd3786\"], [0.5555555555555556, \"#d8576b\"], [0.6666666666666666, \"#ed7953\"], [0.7777777777777778, \"#fb9f3a\"], [0.8888888888888888, \"#fdca26\"], [1.0, \"#f0f921\"]], \"sequentialminus\": [[0.0, \"#0d0887\"], [0.1111111111111111, \"#46039f\"], [0.2222222222222222, \"#7201a8\"], [0.3333333333333333, \"#9c179e\"], [0.4444444444444444, \"#bd3786\"], [0.5555555555555556, \"#d8576b\"], [0.6666666666666666, \"#ed7953\"], [0.7777777777777778, \"#fb9f3a\"], [0.8888888888888888, \"#fdca26\"], [1.0, \"#f0f921\"]]}, \"colorway\": [\"#636efa\", \"#EF553B\", \"#00cc96\", \"#ab63fa\", \"#FFA15A\", \"#19d3f3\", \"#FF6692\", \"#B6E880\", \"#FF97FF\", \"#FECB52\"], \"font\": {\"color\": \"#2a3f5f\"}, \"geo\": {\"bgcolor\": \"white\", \"lakecolor\": \"white\", \"landcolor\": \"#E5ECF6\", \"showlakes\": true, \"showland\": true, \"subunitcolor\": \"white\"}, \"hoverlabel\": {\"align\": \"left\"}, \"hovermode\": \"closest\", \"mapbox\": {\"style\": \"light\"}, \"paper_bgcolor\": \"white\", \"plot_bgcolor\": \"#E5ECF6\", \"polar\": {\"angularaxis\": {\"gridcolor\": \"white\", \"linecolor\": \"white\", \"ticks\": \"\"}, \"bgcolor\": \"#E5ECF6\", \"radialaxis\": {\"gridcolor\": \"white\", \"linecolor\": \"white\", \"ticks\": \"\"}}, \"scene\": {\"xaxis\": {\"backgroundcolor\": \"#E5ECF6\", \"gridcolor\": \"white\", \"gridwidth\": 2, \"linecolor\": \"white\", \"showbackground\": true, \"ticks\": \"\", \"zerolinecolor\": \"white\"}, \"yaxis\": {\"backgroundcolor\": \"#E5ECF6\", \"gridcolor\": \"white\", \"gridwidth\": 2, \"linecolor\": \"white\", \"showbackground\": true, \"ticks\": \"\", \"zerolinecolor\": \"white\"}, \"zaxis\": {\"backgroundcolor\": \"#E5ECF6\", \"gridcolor\": \"white\", \"gridwidth\": 2, \"linecolor\": \"white\", \"showbackground\": true, \"ticks\": \"\", \"zerolinecolor\": \"white\"}}, \"shapedefaults\": {\"line\": {\"color\": \"#2a3f5f\"}}, \"ternary\": {\"aaxis\": {\"gridcolor\": \"white\", \"linecolor\": \"white\", \"ticks\": \"\"}, \"baxis\": {\"gridcolor\": \"white\", \"linecolor\": \"white\", \"ticks\": \"\"}, \"bgcolor\": \"#E5ECF6\", \"caxis\": {\"gridcolor\": \"white\", \"linecolor\": \"white\", \"ticks\": \"\"}}, \"title\": {\"x\": 0.05}, \"xaxis\": {\"automargin\": true, \"gridcolor\": \"white\", \"linecolor\": \"white\", \"ticks\": \"\", \"title\": {\"standoff\": 15}, \"zerolinecolor\": \"white\", \"zerolinewidth\": 2}, \"yaxis\": {\"automargin\": true, \"gridcolor\": \"white\", \"linecolor\": \"white\", \"ticks\": \"\", \"title\": {\"standoff\": 15}, \"zerolinecolor\": \"white\", \"zerolinewidth\": 2}}}, \"xaxis\": {\"anchor\": \"y\", \"domain\": [0.0, 0.8358], \"title\": {\"text\": \"Calories per Serve\"}}, \"xaxis2\": {\"anchor\": \"y2\", \"domain\": [0.8408, 1.0], \"matches\": \"x2\", \"showgrid\": false, \"showline\": false, \"showticklabels\": false, \"ticks\": \"\"}, \"xaxis3\": {\"anchor\": \"y3\", \"domain\": [0.0, 0.8358], \"matches\": \"x\", \"showgrid\": true, \"showticklabels\": false}, \"xaxis4\": {\"anchor\": \"y4\", \"domain\": [0.8408, 1.0], \"matches\": \"x2\", \"showgrid\": false, \"showline\": false, \"showticklabels\": false, \"ticks\": \"\"}, \"yaxis\": {\"anchor\": \"x\", \"domain\": [0.0, 0.7326], \"title\": {\"text\": \"Rating (%)\"}}, \"yaxis2\": {\"anchor\": \"x2\", \"domain\": [0.0, 0.7326], \"matches\": \"y\", \"showgrid\": true, \"showticklabels\": false}, \"yaxis3\": {\"anchor\": \"x3\", \"domain\": [0.7426, 1.0], \"matches\": \"y3\", \"showgrid\": true, \"showline\": false, \"showticklabels\": false, \"ticks\": \"\"}, \"yaxis4\": {\"anchor\": \"x4\", \"domain\": [0.7426, 1.0], \"matches\": \"y3\", \"showgrid\": true, \"showline\": false, \"showticklabels\": false, \"ticks\": \"\"}},                        {\"responsive\": true}                    ).then(function(){\n",
       "                            \n",
       "var gd = document.getElementById('d7784810-3838-4116-8c13-a0e4fb10d798');\n",
       "var x = new MutationObserver(function (mutations, observer) {{\n",
       "        var display = window.getComputedStyle(gd).display;\n",
       "        if (!display || display === 'none') {{\n",
       "            console.log([gd, 'removed!']);\n",
       "            Plotly.purge(gd);\n",
       "            observer.disconnect();\n",
       "        }}\n",
       "}});\n",
       "\n",
       "// Listen for the removal of the full notebook cells\n",
       "var notebookContainer = gd.closest('#notebook-container');\n",
       "if (notebookContainer) {{\n",
       "    x.observe(notebookContainer, {childList: true});\n",
       "}}\n",
       "\n",
       "// Listen for the clearing of the current output cell\n",
       "var outputEl = gd.closest('.output');\n",
       "if (outputEl) {{\n",
       "    x.observe(outputEl, {childList: true});\n",
       "}}\n",
       "\n",
       "                        })                };                });            </script>        </div>"
      ]
     },
     "metadata": {},
     "output_type": "display_data"
    }
   ],
   "source": [
    "px.scatter(df,x=\"Calories\",y=\"Rating\",trendline=\"ols\",color_discrete_sequence=[\"gold\"],\n",
    "           labels={\"Calories\":\"Calories per Serve\",\"Rating\":\"Rating (%)\"},\n",
    "           hover_name=\"Name\",hover_data={\"Rating\":\":.2f\"},marginal_x=\"histogram\",marginal_y=\"box\")"
   ]
  },
  {
   "cell_type": "markdown",
   "metadata": {
    "papermill": {
     "duration": 0.058876,
     "end_time": "2020-12-29T23:15:22.169707",
     "exception": false,
     "start_time": "2020-12-29T23:15:22.110831",
     "status": "completed"
    },
    "tags": []
   },
   "source": [
    "As we have discovered above, *calories* have strong positive correlations with *weight*, *sugars* and *fat* thus is can be safe to assume that these calorific cereals are generally more unhealthy, and also perform worse than their healthier counterparts."
   ]
  },
  {
   "cell_type": "code",
   "execution_count": 17,
   "metadata": {
    "execution": {
     "iopub.execute_input": "2020-12-29T23:15:22.292833Z",
     "iopub.status.busy": "2020-12-29T23:15:22.291611Z",
     "iopub.status.idle": "2020-12-29T23:15:22.366708Z",
     "shell.execute_reply": "2020-12-29T23:15:22.367297Z"
    },
    "papermill": {
     "duration": 0.148644,
     "end_time": "2020-12-29T23:15:22.367476",
     "exception": false,
     "start_time": "2020-12-29T23:15:22.218832",
     "status": "completed"
    },
    "tags": []
   },
   "outputs": [
    {
     "data": {
      "text/html": [
       "<div>                            <div id=\"c687bcda-a314-4cad-be7e-361a5942b897\" class=\"plotly-graph-div\" style=\"height:525px; width:100%;\"></div>            <script type=\"text/javascript\">                require([\"plotly\"], function(Plotly) {                    window.PLOTLYENV=window.PLOTLYENV || {};                                    if (document.getElementById(\"c687bcda-a314-4cad-be7e-361a5942b897\")) {                    Plotly.newPlot(                        \"c687bcda-a314-4cad-be7e-361a5942b897\",                        [{\"hovertemplate\": \"<b>%{hovertext}</b><br><br>Sugar (g) per Serve=%{x}<br>Fat (g) per Serve=%{y}<br>Calories per Serve=%{marker.color}<extra></extra>\", \"hovertext\": [\"100% Bran\", \"100% Natural Bran\", \"All-Bran\", \"All-Bran with Extra Fiber\", \"Almond Delight\", \"Apple Cinnamon Cheerios\", \"Apple Jacks\", \"Basic 4\", \"Bran Chex\", \"Bran Flakes\", \"Cap'n'Crunch\", \"Cheerios\", \"Cinnamon Toast Crunch\", \"Clusters\", \"Cocoa Puffs\", \"Corn Chex\", \"Corn Flakes\", \"Corn Pops\", \"Count Chocula\", \"Cracklin' Oat Bran\", \"Cream of Wheat (Quick)\", \"Crispix\", \"Crispy Wheat & Raisins\", \"Double Chex\", \"Froot Loops\", \"Frosted Flakes\", \"Frosted Mini-Wheats\", \"Fruit & Fibre Dates; Walnuts; and Oats\", \"Fruitful Bran\", \"Fruity Pebbles\", \"Golden Crisp\", \"Golden Grahams\", \"Grape Nuts Flakes\", \"Grape-Nuts\", \"Great Grains Pecan\", \"Honey Graham Ohs\", \"Honey Nut Cheerios\", \"Honey-comb\", \"Just Right Crunchy  Nuggets\", \"Just Right Fruit & Nut\", \"Kix\", \"Life\", \"Lucky Charms\", \"Maypo\", \"Muesli Raisins; Dates; & Almonds\", \"Muesli Raisins; Peaches; & Pecans\", \"Mueslix Crispy Blend\", \"Multi-Grain Cheerios\", \"Nut&Honey Crunch\", \"Nutri-Grain Almond-Raisin\", \"Nutri-grain Wheat\", \"Oatmeal Raisin Crisp\", \"Post Nat. Raisin Bran\", \"Product 19\", \"Puffed Rice\", \"Puffed Wheat\", \"Quaker Oat Squares\", \"Quaker Oatmeal\", \"Raisin Bran\", \"Raisin Nut Bran\", \"Raisin Squares\", \"Rice Chex\", \"Rice Krispies\", \"Shredded Wheat\", \"Shredded Wheat 'n'Bran\", \"Shredded Wheat spoon size\", \"Smacks\", \"Special K\", \"Strawberry Fruit Wheats\", \"Total Corn Flakes\", \"Total Raisin Bran\", \"Total Whole Grain\", \"Triples\", \"Trix\", \"Wheat Chex\", \"Wheaties\", \"Wheaties Honey Gold\"], \"legendgroup\": \"\", \"marker\": {\"color\": [70, 120, 70, 50, 110, 110, 110, 130, 90, 90, 120, 110, 120, 110, 110, 110, 100, 110, 110, 110, 100, 110, 100, 100, 110, 110, 100, 120, 120, 110, 100, 110, 100, 110, 120, 120, 110, 110, 110, 140, 110, 100, 110, 100, 150, 150, 160, 100, 120, 140, 90, 130, 120, 100, 50, 50, 100, 100, 120, 100, 90, 110, 110, 80, 90, 90, 110, 110, 90, 110, 140, 100, 110, 110, 100, 100, 110], \"coloraxis\": \"coloraxis\", \"opacity\": 0.3, \"size\": [70, 120, 70, 50, 110, 110, 110, 130, 90, 90, 120, 110, 120, 110, 110, 110, 100, 110, 110, 110, 100, 110, 100, 100, 110, 110, 100, 120, 120, 110, 100, 110, 100, 110, 120, 120, 110, 110, 110, 140, 110, 100, 110, 100, 150, 150, 160, 100, 120, 140, 90, 130, 120, 100, 50, 50, 100, 100, 120, 100, 90, 110, 110, 80, 90, 90, 110, 110, 90, 110, 140, 100, 110, 110, 100, 100, 110], \"sizemode\": \"area\", \"sizeref\": 0.1306122448979592, \"symbol\": \"circle\"}, \"mode\": \"markers\", \"name\": \"\", \"orientation\": \"v\", \"showlegend\": false, \"type\": \"scatter\", \"x\": [6, 8, 5, 0, 8, 10, 14, 8, 6, 5, 12, 1, 9, 7, 13, 3, 2, 12, 13, 7, 0, 3, 10, 5, 13, 11, 7, 10, 12, 12, 15, 9, 5, 3, 4, 11, 10, 11, 6, 9, 3, 6, 12, 3, 11, 11, 13, 6, 9, 7, 2, 10, 14, 3, 0, 0, 6, 0, 12, 8, 6, 2, 3, 0, 0, 0, 15, 3, 5, 3, 14, 3, 3, 12, 3, 3, 8], \"xaxis\": \"x\", \"y\": [1, 5, 1, 0, 2, 2, 0, 2, 1, 0, 2, 2, 3, 2, 1, 0, 0, 0, 1, 3, 0, 0, 1, 0, 1, 0, 0, 2, 0, 1, 0, 1, 1, 0, 3, 2, 1, 0, 1, 1, 1, 2, 1, 1, 3, 3, 2, 1, 1, 2, 0, 2, 1, 0, 0, 0, 1, 2, 1, 2, 0, 0, 0, 0, 0, 0, 1, 0, 0, 1, 1, 1, 1, 1, 1, 1, 1], \"yaxis\": \"y\"}, {\"hovertemplate\": \"<b>OLS trendline</b><br>Fat = 0.0625994 * Sugars + 0.578856<br>R<sup>2</sup>=0.075673<br><br>Sugar (g) per Serve=%{x}<br>Fat (g) per Serve=%{y} <b>(trend)</b><extra></extra>\", \"legendgroup\": \"\", \"line\": {\"color\": \"mediumseagreen\"}, \"marker\": {\"symbol\": \"circle\"}, \"mode\": \"lines\", \"name\": \"\", \"showlegend\": false, \"type\": \"scatter\", \"x\": [0, 0, 0, 0, 0, 0, 0, 0, 1, 2, 2, 2, 3, 3, 3, 3, 3, 3, 3, 3, 3, 3, 3, 3, 3, 4, 5, 5, 5, 5, 5, 6, 6, 6, 6, 6, 6, 6, 7, 7, 7, 7, 8, 8, 8, 8, 8, 9, 9, 9, 9, 10, 10, 10, 10, 10, 11, 11, 11, 11, 11, 12, 12, 12, 12, 12, 12, 12, 13, 13, 13, 13, 14, 14, 14, 15, 15], \"xaxis\": \"x\", \"y\": [0.5788563341894224, 0.5788563341894224, 0.5788563341894224, 0.5788563341894224, 0.5788563341894224, 0.5788563341894224, 0.5788563341894224, 0.5788563341894224, 0.6414557017313971, 0.7040550692733717, 0.7040550692733717, 0.7040550692733717, 0.7666544368153463, 0.7666544368153463, 0.7666544368153463, 0.7666544368153463, 0.7666544368153463, 0.7666544368153463, 0.7666544368153463, 0.7666544368153463, 0.7666544368153463, 0.7666544368153463, 0.7666544368153463, 0.7666544368153463, 0.7666544368153463, 0.829253804357321, 0.8918531718992957, 0.8918531718992957, 0.8918531718992957, 0.8918531718992957, 0.8918531718992957, 0.9544525394412703, 0.9544525394412703, 0.9544525394412703, 0.9544525394412703, 0.9544525394412703, 0.9544525394412703, 0.9544525394412703, 1.0170519069832449, 1.0170519069832449, 1.0170519069832449, 1.0170519069832449, 1.0796512745252196, 1.0796512745252196, 1.0796512745252196, 1.0796512745252196, 1.0796512745252196, 1.1422506420671943, 1.1422506420671943, 1.1422506420671943, 1.1422506420671943, 1.204850009609169, 1.204850009609169, 1.204850009609169, 1.204850009609169, 1.204850009609169, 1.2674493771511435, 1.2674493771511435, 1.2674493771511435, 1.2674493771511435, 1.2674493771511435, 1.3300487446931182, 1.3300487446931182, 1.3300487446931182, 1.3300487446931182, 1.3300487446931182, 1.3300487446931182, 1.3300487446931182, 1.3926481122350929, 1.3926481122350929, 1.3926481122350929, 1.3926481122350929, 1.4552474797770674, 1.4552474797770674, 1.4552474797770674, 1.517846847319042, 1.517846847319042], \"yaxis\": \"y\"}],                        {\"coloraxis\": {\"colorbar\": {\"title\": {\"text\": \"Calories per Serve\"}}, \"colorscale\": [[0.0, \"rgb(0,0,255)\"], [0.1, \"rgb(51,153,255)\"], [0.2, \"rgb(102,204,255)\"], [0.3, \"rgb(153,204,255)\"], [0.4, \"rgb(204,204,255)\"], [0.5, \"rgb(255,255,255)\"], [0.6, \"rgb(255,204,255)\"], [0.7, \"rgb(255,153,255)\"], [0.8, \"rgb(255,102,204)\"], [0.9, \"rgb(255,102,102)\"], [1.0, \"rgb(255,0,0)\"]]}, \"legend\": {\"itemsizing\": \"constant\", \"tracegroupgap\": 0}, \"margin\": {\"t\": 60}, \"template\": {\"data\": {\"bar\": [{\"error_x\": {\"color\": \"#2a3f5f\"}, \"error_y\": {\"color\": \"#2a3f5f\"}, \"marker\": {\"line\": {\"color\": \"#E5ECF6\", \"width\": 0.5}}, \"type\": \"bar\"}], \"barpolar\": [{\"marker\": {\"line\": {\"color\": \"#E5ECF6\", \"width\": 0.5}}, \"type\": \"barpolar\"}], \"carpet\": [{\"aaxis\": {\"endlinecolor\": \"#2a3f5f\", \"gridcolor\": \"white\", \"linecolor\": \"white\", \"minorgridcolor\": \"white\", \"startlinecolor\": \"#2a3f5f\"}, \"baxis\": {\"endlinecolor\": \"#2a3f5f\", \"gridcolor\": \"white\", \"linecolor\": \"white\", \"minorgridcolor\": \"white\", \"startlinecolor\": \"#2a3f5f\"}, \"type\": \"carpet\"}], \"choropleth\": [{\"colorbar\": {\"outlinewidth\": 0, \"ticks\": \"\"}, \"type\": \"choropleth\"}], \"contour\": [{\"colorbar\": {\"outlinewidth\": 0, \"ticks\": \"\"}, \"colorscale\": [[0.0, \"#0d0887\"], [0.1111111111111111, \"#46039f\"], [0.2222222222222222, \"#7201a8\"], [0.3333333333333333, \"#9c179e\"], [0.4444444444444444, \"#bd3786\"], [0.5555555555555556, \"#d8576b\"], [0.6666666666666666, \"#ed7953\"], [0.7777777777777778, \"#fb9f3a\"], [0.8888888888888888, \"#fdca26\"], [1.0, \"#f0f921\"]], \"type\": \"contour\"}], \"contourcarpet\": [{\"colorbar\": {\"outlinewidth\": 0, \"ticks\": \"\"}, \"type\": \"contourcarpet\"}], \"heatmap\": [{\"colorbar\": {\"outlinewidth\": 0, \"ticks\": \"\"}, \"colorscale\": [[0.0, \"#0d0887\"], [0.1111111111111111, \"#46039f\"], [0.2222222222222222, \"#7201a8\"], [0.3333333333333333, \"#9c179e\"], [0.4444444444444444, \"#bd3786\"], [0.5555555555555556, \"#d8576b\"], [0.6666666666666666, \"#ed7953\"], [0.7777777777777778, \"#fb9f3a\"], [0.8888888888888888, \"#fdca26\"], [1.0, \"#f0f921\"]], \"type\": \"heatmap\"}], \"heatmapgl\": [{\"colorbar\": {\"outlinewidth\": 0, \"ticks\": \"\"}, \"colorscale\": [[0.0, \"#0d0887\"], [0.1111111111111111, \"#46039f\"], [0.2222222222222222, \"#7201a8\"], [0.3333333333333333, \"#9c179e\"], [0.4444444444444444, \"#bd3786\"], [0.5555555555555556, \"#d8576b\"], [0.6666666666666666, \"#ed7953\"], [0.7777777777777778, \"#fb9f3a\"], [0.8888888888888888, \"#fdca26\"], [1.0, \"#f0f921\"]], \"type\": \"heatmapgl\"}], \"histogram\": [{\"marker\": {\"colorbar\": {\"outlinewidth\": 0, \"ticks\": \"\"}}, \"type\": \"histogram\"}], \"histogram2d\": [{\"colorbar\": {\"outlinewidth\": 0, \"ticks\": \"\"}, \"colorscale\": [[0.0, \"#0d0887\"], [0.1111111111111111, \"#46039f\"], [0.2222222222222222, \"#7201a8\"], [0.3333333333333333, \"#9c179e\"], [0.4444444444444444, \"#bd3786\"], [0.5555555555555556, \"#d8576b\"], [0.6666666666666666, \"#ed7953\"], [0.7777777777777778, \"#fb9f3a\"], [0.8888888888888888, \"#fdca26\"], [1.0, \"#f0f921\"]], \"type\": \"histogram2d\"}], \"histogram2dcontour\": [{\"colorbar\": {\"outlinewidth\": 0, \"ticks\": \"\"}, \"colorscale\": [[0.0, \"#0d0887\"], [0.1111111111111111, \"#46039f\"], [0.2222222222222222, \"#7201a8\"], [0.3333333333333333, \"#9c179e\"], [0.4444444444444444, \"#bd3786\"], [0.5555555555555556, \"#d8576b\"], [0.6666666666666666, \"#ed7953\"], [0.7777777777777778, \"#fb9f3a\"], [0.8888888888888888, \"#fdca26\"], [1.0, \"#f0f921\"]], \"type\": \"histogram2dcontour\"}], \"mesh3d\": [{\"colorbar\": {\"outlinewidth\": 0, \"ticks\": \"\"}, \"type\": \"mesh3d\"}], \"parcoords\": [{\"line\": {\"colorbar\": {\"outlinewidth\": 0, \"ticks\": \"\"}}, \"type\": \"parcoords\"}], \"pie\": [{\"automargin\": true, \"type\": \"pie\"}], \"scatter\": [{\"marker\": {\"colorbar\": {\"outlinewidth\": 0, \"ticks\": \"\"}}, \"type\": \"scatter\"}], \"scatter3d\": [{\"line\": {\"colorbar\": {\"outlinewidth\": 0, \"ticks\": \"\"}}, \"marker\": {\"colorbar\": {\"outlinewidth\": 0, \"ticks\": \"\"}}, \"type\": \"scatter3d\"}], \"scattercarpet\": [{\"marker\": {\"colorbar\": {\"outlinewidth\": 0, \"ticks\": \"\"}}, \"type\": \"scattercarpet\"}], \"scattergeo\": [{\"marker\": {\"colorbar\": {\"outlinewidth\": 0, \"ticks\": \"\"}}, \"type\": \"scattergeo\"}], \"scattergl\": [{\"marker\": {\"colorbar\": {\"outlinewidth\": 0, \"ticks\": \"\"}}, \"type\": \"scattergl\"}], \"scattermapbox\": [{\"marker\": {\"colorbar\": {\"outlinewidth\": 0, \"ticks\": \"\"}}, \"type\": \"scattermapbox\"}], \"scatterpolar\": [{\"marker\": {\"colorbar\": {\"outlinewidth\": 0, \"ticks\": \"\"}}, \"type\": \"scatterpolar\"}], \"scatterpolargl\": [{\"marker\": {\"colorbar\": {\"outlinewidth\": 0, \"ticks\": \"\"}}, \"type\": \"scatterpolargl\"}], \"scatterternary\": [{\"marker\": {\"colorbar\": {\"outlinewidth\": 0, \"ticks\": \"\"}}, \"type\": \"scatterternary\"}], \"surface\": [{\"colorbar\": {\"outlinewidth\": 0, \"ticks\": \"\"}, \"colorscale\": [[0.0, \"#0d0887\"], [0.1111111111111111, \"#46039f\"], [0.2222222222222222, \"#7201a8\"], [0.3333333333333333, \"#9c179e\"], [0.4444444444444444, \"#bd3786\"], [0.5555555555555556, \"#d8576b\"], [0.6666666666666666, \"#ed7953\"], [0.7777777777777778, \"#fb9f3a\"], [0.8888888888888888, \"#fdca26\"], [1.0, \"#f0f921\"]], \"type\": \"surface\"}], \"table\": [{\"cells\": {\"fill\": {\"color\": \"#EBF0F8\"}, \"line\": {\"color\": \"white\"}}, \"header\": {\"fill\": {\"color\": \"#C8D4E3\"}, \"line\": {\"color\": \"white\"}}, \"type\": \"table\"}]}, \"layout\": {\"annotationdefaults\": {\"arrowcolor\": \"#2a3f5f\", \"arrowhead\": 0, \"arrowwidth\": 1}, \"coloraxis\": {\"colorbar\": {\"outlinewidth\": 0, \"ticks\": \"\"}}, \"colorscale\": {\"diverging\": [[0, \"#8e0152\"], [0.1, \"#c51b7d\"], [0.2, \"#de77ae\"], [0.3, \"#f1b6da\"], [0.4, \"#fde0ef\"], [0.5, \"#f7f7f7\"], [0.6, \"#e6f5d0\"], [0.7, \"#b8e186\"], [0.8, \"#7fbc41\"], [0.9, \"#4d9221\"], [1, \"#276419\"]], \"sequential\": [[0.0, \"#0d0887\"], [0.1111111111111111, \"#46039f\"], [0.2222222222222222, \"#7201a8\"], [0.3333333333333333, \"#9c179e\"], [0.4444444444444444, \"#bd3786\"], [0.5555555555555556, \"#d8576b\"], [0.6666666666666666, \"#ed7953\"], [0.7777777777777778, \"#fb9f3a\"], [0.8888888888888888, \"#fdca26\"], [1.0, \"#f0f921\"]], \"sequentialminus\": [[0.0, \"#0d0887\"], [0.1111111111111111, \"#46039f\"], [0.2222222222222222, \"#7201a8\"], [0.3333333333333333, \"#9c179e\"], [0.4444444444444444, \"#bd3786\"], [0.5555555555555556, \"#d8576b\"], [0.6666666666666666, \"#ed7953\"], [0.7777777777777778, \"#fb9f3a\"], [0.8888888888888888, \"#fdca26\"], [1.0, \"#f0f921\"]]}, \"colorway\": [\"#636efa\", \"#EF553B\", \"#00cc96\", \"#ab63fa\", \"#FFA15A\", \"#19d3f3\", \"#FF6692\", \"#B6E880\", \"#FF97FF\", \"#FECB52\"], \"font\": {\"color\": \"#2a3f5f\"}, \"geo\": {\"bgcolor\": \"white\", \"lakecolor\": \"white\", \"landcolor\": \"#E5ECF6\", \"showlakes\": true, \"showland\": true, \"subunitcolor\": \"white\"}, \"hoverlabel\": {\"align\": \"left\"}, \"hovermode\": \"closest\", \"mapbox\": {\"style\": \"light\"}, \"paper_bgcolor\": \"white\", \"plot_bgcolor\": \"#E5ECF6\", \"polar\": {\"angularaxis\": {\"gridcolor\": \"white\", \"linecolor\": \"white\", \"ticks\": \"\"}, \"bgcolor\": \"#E5ECF6\", \"radialaxis\": {\"gridcolor\": \"white\", \"linecolor\": \"white\", \"ticks\": \"\"}}, \"scene\": {\"xaxis\": {\"backgroundcolor\": \"#E5ECF6\", \"gridcolor\": \"white\", \"gridwidth\": 2, \"linecolor\": \"white\", \"showbackground\": true, \"ticks\": \"\", \"zerolinecolor\": \"white\"}, \"yaxis\": {\"backgroundcolor\": \"#E5ECF6\", \"gridcolor\": \"white\", \"gridwidth\": 2, \"linecolor\": \"white\", \"showbackground\": true, \"ticks\": \"\", \"zerolinecolor\": \"white\"}, \"zaxis\": {\"backgroundcolor\": \"#E5ECF6\", \"gridcolor\": \"white\", \"gridwidth\": 2, \"linecolor\": \"white\", \"showbackground\": true, \"ticks\": \"\", \"zerolinecolor\": \"white\"}}, \"shapedefaults\": {\"line\": {\"color\": \"#2a3f5f\"}}, \"ternary\": {\"aaxis\": {\"gridcolor\": \"white\", \"linecolor\": \"white\", \"ticks\": \"\"}, \"baxis\": {\"gridcolor\": \"white\", \"linecolor\": \"white\", \"ticks\": \"\"}, \"bgcolor\": \"#E5ECF6\", \"caxis\": {\"gridcolor\": \"white\", \"linecolor\": \"white\", \"ticks\": \"\"}}, \"title\": {\"x\": 0.05}, \"xaxis\": {\"automargin\": true, \"gridcolor\": \"white\", \"linecolor\": \"white\", \"ticks\": \"\", \"title\": {\"standoff\": 15}, \"zerolinecolor\": \"white\", \"zerolinewidth\": 2}, \"yaxis\": {\"automargin\": true, \"gridcolor\": \"white\", \"linecolor\": \"white\", \"ticks\": \"\", \"title\": {\"standoff\": 15}, \"zerolinecolor\": \"white\", \"zerolinewidth\": 2}}}, \"xaxis\": {\"anchor\": \"y\", \"domain\": [0.0, 1.0], \"title\": {\"text\": \"Sugar (g) per Serve\"}}, \"yaxis\": {\"anchor\": \"x\", \"domain\": [0.0, 1.0], \"title\": {\"text\": \"Fat (g) per Serve\"}}},                        {\"responsive\": true}                    ).then(function(){\n",
       "                            \n",
       "var gd = document.getElementById('c687bcda-a314-4cad-be7e-361a5942b897');\n",
       "var x = new MutationObserver(function (mutations, observer) {{\n",
       "        var display = window.getComputedStyle(gd).display;\n",
       "        if (!display || display === 'none') {{\n",
       "            console.log([gd, 'removed!']);\n",
       "            Plotly.purge(gd);\n",
       "            observer.disconnect();\n",
       "        }}\n",
       "}});\n",
       "\n",
       "// Listen for the removal of the full notebook cells\n",
       "var notebookContainer = gd.closest('#notebook-container');\n",
       "if (notebookContainer) {{\n",
       "    x.observe(notebookContainer, {childList: true});\n",
       "}}\n",
       "\n",
       "// Listen for the clearing of the current output cell\n",
       "var outputEl = gd.closest('.output');\n",
       "if (outputEl) {{\n",
       "    x.observe(outputEl, {childList: true});\n",
       "}}\n",
       "\n",
       "                        })                };                });            </script>        </div>"
      ]
     },
     "metadata": {},
     "output_type": "display_data"
    }
   ],
   "source": [
    "px.scatter(df,x=\"Sugars\",y=\"Fat\",trendline=\"ols\",trendline_color_override=\"mediumseagreen\",\n",
    "           color_continuous_scale=\"picnic\",opacity=0.3,size=\"Calories\",size_max=35,color=\"Calories\",\n",
    "           labels={\"Sugars\":\"Sugar (g) per Serve\",\"Fat\":\"Fat (g) per Serve\",\"Calories\":\"Calories per Serve\"},\n",
    "           hover_name=\"Name\")"
   ]
  },
  {
   "cell_type": "markdown",
   "metadata": {
    "papermill": {
     "duration": 0.048998,
     "end_time": "2020-12-29T23:15:22.465437",
     "exception": false,
     "start_time": "2020-12-29T23:15:22.416439",
     "status": "completed"
    },
    "tags": []
   },
   "source": [
    "Although individually *sugars* and *fat* have a strong positive correlation with *calories*, together *sugars* and *fat*  only have a light positive correlation with one another."
   ]
  },
  {
   "cell_type": "code",
   "execution_count": 18,
   "metadata": {
    "execution": {
     "iopub.execute_input": "2020-12-29T23:15:22.569463Z",
     "iopub.status.busy": "2020-12-29T23:15:22.568378Z",
     "iopub.status.idle": "2020-12-29T23:15:22.676382Z",
     "shell.execute_reply": "2020-12-29T23:15:22.675761Z"
    },
    "papermill": {
     "duration": 0.161343,
     "end_time": "2020-12-29T23:15:22.676516",
     "exception": false,
     "start_time": "2020-12-29T23:15:22.515173",
     "status": "completed"
    },
    "scrolled": false,
    "tags": []
   },
   "outputs": [
    {
     "data": {
      "text/html": [
       "<div>                            <div id=\"957e81c7-d1ef-40ad-97a4-3e3f786dc94b\" class=\"plotly-graph-div\" style=\"height:525px; width:100%;\"></div>            <script type=\"text/javascript\">                require([\"plotly\"], function(Plotly) {                    window.PLOTLYENV=window.PLOTLYENV || {};                                    if (document.getElementById(\"957e81c7-d1ef-40ad-97a4-3e3f786dc94b\")) {                    Plotly.newPlot(                        \"957e81c7-d1ef-40ad-97a4-3e3f786dc94b\",                        [{\"customdata\": [[68.402973], [33.983678999999995], [59.425505], [93.704912], [34.384843], [29.509541], [33.174094000000004], [37.038562], [49.120253000000005], [53.313813], [18.042851000000002], [50.764998999999996], [19.823573], [40.400208], [22.736446], [41.445019], [45.863324], [35.782790999999996], [22.396513], [40.448772], [64.533816], [46.895644], [36.176196000000004], [44.330856], [32.207582], [31.435972999999997], [58.345141000000005], [40.917047], [41.015492], [28.025765000000003], [35.252444], [23.804043], [52.076896999999995], [53.37100699999999], [45.811716], [21.871292], [31.072217], [28.742414], [36.523683], [36.471512], [39.241114], [45.328074], [26.734515000000002], [54.850917], [37.136863], [34.139765000000004], [30.313351], [40.105965000000005], [29.924284999999998], [40.69232], [59.642837], [30.450843], [37.840594], [41.50354], [60.756112], [63.005644999999994], [49.511874], [50.828392], [39.259197], [39.7034], [55.333142], [41.998933], [40.560159000000006], [68.235885], [74.472949], [72.801787], [31.230054], [53.131324], [59.36399300000001], [38.839746000000005], [28.592785], [46.658844], [39.106173999999996], [27.753301], [49.787445], [51.592193], [36.187559]], \"hovertemplate\": \"<b>%{hovertext}</b><br><br>variable=Fiber<br>value=%{x}<br>Rating (%)=%{customdata[0]:.2f}<extra></extra>\", \"hovertext\": [\"100% Bran\", \"100% Natural Bran\", \"All-Bran\", \"All-Bran with Extra Fiber\", \"Almond Delight\", \"Apple Cinnamon Cheerios\", \"Apple Jacks\", \"Basic 4\", \"Bran Chex\", \"Bran Flakes\", \"Cap'n'Crunch\", \"Cheerios\", \"Cinnamon Toast Crunch\", \"Clusters\", \"Cocoa Puffs\", \"Corn Chex\", \"Corn Flakes\", \"Corn Pops\", \"Count Chocula\", \"Cracklin' Oat Bran\", \"Cream of Wheat (Quick)\", \"Crispix\", \"Crispy Wheat & Raisins\", \"Double Chex\", \"Froot Loops\", \"Frosted Flakes\", \"Frosted Mini-Wheats\", \"Fruit & Fibre Dates; Walnuts; and Oats\", \"Fruitful Bran\", \"Fruity Pebbles\", \"Golden Crisp\", \"Golden Grahams\", \"Grape Nuts Flakes\", \"Grape-Nuts\", \"Great Grains Pecan\", \"Honey Graham Ohs\", \"Honey Nut Cheerios\", \"Honey-comb\", \"Just Right Crunchy  Nuggets\", \"Just Right Fruit & Nut\", \"Kix\", \"Life\", \"Lucky Charms\", \"Maypo\", \"Muesli Raisins; Dates; & Almonds\", \"Muesli Raisins; Peaches; & Pecans\", \"Mueslix Crispy Blend\", \"Multi-Grain Cheerios\", \"Nut&Honey Crunch\", \"Nutri-Grain Almond-Raisin\", \"Nutri-grain Wheat\", \"Oatmeal Raisin Crisp\", \"Post Nat. Raisin Bran\", \"Product 19\", \"Puffed Rice\", \"Puffed Wheat\", \"Quaker Oat Squares\", \"Quaker Oatmeal\", \"Raisin Bran\", \"Raisin Nut Bran\", \"Raisin Squares\", \"Rice Chex\", \"Rice Krispies\", \"Shredded Wheat\", \"Shredded Wheat 'n'Bran\", \"Shredded Wheat spoon size\", \"Smacks\", \"Special K\", \"Strawberry Fruit Wheats\", \"Total Corn Flakes\", \"Total Raisin Bran\", \"Total Whole Grain\", \"Triples\", \"Trix\", \"Wheat Chex\", \"Wheaties\", \"Wheaties Honey Gold\"], \"legendgroup\": \"Fiber\", \"marker\": {\"color\": \"#636efa\", \"symbol\": \"circle\"}, \"mode\": \"markers\", \"name\": \"Fiber\", \"orientation\": \"v\", \"showlegend\": true, \"type\": \"scatter\", \"x\": [10.0, 2.0, 9.0, 14.0, 1.0, 1.5, 1.0, 2.0, 4.0, 5.0, 0.0, 2.0, 0.0, 2.0, 0.0, 0.0, 1.0, 1.0, 0.0, 4.0, 1.0, 1.0, 2.0, 1.0, 1.0, 1.0, 3.0, 5.0, 5.0, 0.0, 0.0, 0.0, 3.0, 3.0, 3.0, 1.0, 1.5, 0.0, 1.0, 2.0, 0.0, 2.0, 0.0, 0.0, 3.0, 3.0, 3.0, 2.0, 0.0, 3.0, 3.0, 1.5, 6.0, 1.0, 0.0, 1.0, 2.0, 2.7, 5.0, 2.5, 2.0, 0.0, 0.0, 3.0, 4.0, 3.0, 1.0, 1.0, 3.0, 0.0, 4.0, 3.0, 0.0, 0.0, 3.0, 3.0, 1.0], \"xaxis\": \"x\", \"y\": [68.402973, 33.983678999999995, 59.425505, 93.704912, 34.384843, 29.509541, 33.174094000000004, 37.038562, 49.120253000000005, 53.313813, 18.042851000000002, 50.764998999999996, 19.823573, 40.400208, 22.736446, 41.445019, 45.863324, 35.782790999999996, 22.396513, 40.448772, 64.533816, 46.895644, 36.176196000000004, 44.330856, 32.207582, 31.435972999999997, 58.345141000000005, 40.917047, 41.015492, 28.025765000000003, 35.252444, 23.804043, 52.076896999999995, 53.37100699999999, 45.811716, 21.871292, 31.072217, 28.742414, 36.523683, 36.471512, 39.241114, 45.328074, 26.734515000000002, 54.850917, 37.136863, 34.139765000000004, 30.313351, 40.105965000000005, 29.924284999999998, 40.69232, 59.642837, 30.450843, 37.840594, 41.50354, 60.756112, 63.005644999999994, 49.511874, 50.828392, 39.259197, 39.7034, 55.333142, 41.998933, 40.560159000000006, 68.235885, 74.472949, 72.801787, 31.230054, 53.131324, 59.36399300000001, 38.839746000000005, 28.592785, 46.658844, 39.106173999999996, 27.753301, 49.787445, 51.592193, 36.187559], \"yaxis\": \"y\"}, {\"hovertemplate\": \"<b>OLS trendline</b><br>Rating = 3.44298 * value + 35.2566<br>R<sup>2</sup>=0.341243<br><br>variable=Fiber<br>value=%{x}<br>Rating (%)=%{y:.2f} <b>(trend)</b><extra></extra>\", \"legendgroup\": \"Fiber\", \"marker\": {\"color\": \"#636efa\", \"symbol\": \"circle\"}, \"mode\": \"lines\", \"name\": \"Fiber\", \"showlegend\": false, \"type\": \"scatter\", \"x\": [0.0, 0.0, 0.0, 0.0, 0.0, 0.0, 0.0, 0.0, 0.0, 0.0, 0.0, 0.0, 0.0, 0.0, 0.0, 0.0, 0.0, 0.0, 0.0, 1.0, 1.0, 1.0, 1.0, 1.0, 1.0, 1.0, 1.0, 1.0, 1.0, 1.0, 1.0, 1.0, 1.0, 1.0, 1.0, 1.5, 1.5, 1.5, 2.0, 2.0, 2.0, 2.0, 2.0, 2.0, 2.0, 2.0, 2.0, 2.0, 2.5, 2.7, 3.0, 3.0, 3.0, 3.0, 3.0, 3.0, 3.0, 3.0, 3.0, 3.0, 3.0, 3.0, 3.0, 3.0, 3.0, 4.0, 4.0, 4.0, 4.0, 5.0, 5.0, 5.0, 5.0, 6.0, 9.0, 10.0, 14.0], \"xaxis\": \"x\", \"y\": [35.25659482915295, 35.25659482915295, 35.25659482915295, 35.25659482915295, 35.25659482915295, 35.25659482915295, 35.25659482915295, 35.25659482915295, 35.25659482915295, 35.25659482915295, 35.25659482915295, 35.25659482915295, 35.25659482915295, 35.25659482915295, 35.25659482915295, 35.25659482915295, 35.25659482915295, 35.25659482915295, 35.25659482915295, 38.699572995448804, 38.699572995448804, 38.699572995448804, 38.699572995448804, 38.699572995448804, 38.699572995448804, 38.699572995448804, 38.699572995448804, 38.699572995448804, 38.699572995448804, 38.699572995448804, 38.699572995448804, 38.699572995448804, 38.699572995448804, 38.699572995448804, 38.699572995448804, 40.421062078596734, 40.421062078596734, 40.421062078596734, 42.142551161744656, 42.142551161744656, 42.142551161744656, 42.142551161744656, 42.142551161744656, 42.142551161744656, 42.142551161744656, 42.142551161744656, 42.142551161744656, 42.142551161744656, 43.864040244892585, 44.552635878151754, 45.58552932804051, 45.58552932804051, 45.58552932804051, 45.58552932804051, 45.58552932804051, 45.58552932804051, 45.58552932804051, 45.58552932804051, 45.58552932804051, 45.58552932804051, 45.58552932804051, 45.58552932804051, 45.58552932804051, 45.58552932804051, 45.58552932804051, 49.02850749433637, 49.02850749433637, 49.02850749433637, 49.02850749433637, 52.47148566063221, 52.47148566063221, 52.47148566063221, 52.47148566063221, 55.91446382692807, 66.24339832581563, 69.68637649211148, 83.4582891572949], \"yaxis\": \"y\"}, {\"customdata\": [[68.402973], [33.983678999999995], [59.425505], [93.704912], [34.384843], [29.509541], [33.174094000000004], [37.038562], [49.120253000000005], [53.313813], [18.042851000000002], [50.764998999999996], [19.823573], [40.400208], [22.736446], [41.445019], [45.863324], [35.782790999999996], [22.396513], [40.448772], [64.533816], [46.895644], [36.176196000000004], [44.330856], [32.207582], [31.435972999999997], [58.345141000000005], [40.917047], [41.015492], [28.025765000000003], [35.252444], [23.804043], [52.076896999999995], [53.37100699999999], [45.811716], [21.871292], [31.072217], [28.742414], [36.523683], [36.471512], [39.241114], [45.328074], [26.734515000000002], [54.850917], [37.136863], [34.139765000000004], [30.313351], [40.105965000000005], [29.924284999999998], [40.69232], [59.642837], [30.450843], [37.840594], [41.50354], [60.756112], [63.005644999999994], [49.511874], [50.828392], [39.259197], [39.7034], [55.333142], [41.998933], [40.560159000000006], [68.235885], [74.472949], [72.801787], [31.230054], [53.131324], [59.36399300000001], [38.839746000000005], [28.592785], [46.658844], [39.106173999999996], [27.753301], [49.787445], [51.592193], [36.187559]], \"hovertemplate\": \"<b>%{hovertext}</b><br><br>variable=Protein<br>value=%{x}<br>Rating (%)=%{customdata[0]:.2f}<extra></extra>\", \"hovertext\": [\"100% Bran\", \"100% Natural Bran\", \"All-Bran\", \"All-Bran with Extra Fiber\", \"Almond Delight\", \"Apple Cinnamon Cheerios\", \"Apple Jacks\", \"Basic 4\", \"Bran Chex\", \"Bran Flakes\", \"Cap'n'Crunch\", \"Cheerios\", \"Cinnamon Toast Crunch\", \"Clusters\", \"Cocoa Puffs\", \"Corn Chex\", \"Corn Flakes\", \"Corn Pops\", \"Count Chocula\", \"Cracklin' Oat Bran\", \"Cream of Wheat (Quick)\", \"Crispix\", \"Crispy Wheat & Raisins\", \"Double Chex\", \"Froot Loops\", \"Frosted Flakes\", \"Frosted Mini-Wheats\", \"Fruit & Fibre Dates; Walnuts; and Oats\", \"Fruitful Bran\", \"Fruity Pebbles\", \"Golden Crisp\", \"Golden Grahams\", \"Grape Nuts Flakes\", \"Grape-Nuts\", \"Great Grains Pecan\", \"Honey Graham Ohs\", \"Honey Nut Cheerios\", \"Honey-comb\", \"Just Right Crunchy  Nuggets\", \"Just Right Fruit & Nut\", \"Kix\", \"Life\", \"Lucky Charms\", \"Maypo\", \"Muesli Raisins; Dates; & Almonds\", \"Muesli Raisins; Peaches; & Pecans\", \"Mueslix Crispy Blend\", \"Multi-Grain Cheerios\", \"Nut&Honey Crunch\", \"Nutri-Grain Almond-Raisin\", \"Nutri-grain Wheat\", \"Oatmeal Raisin Crisp\", \"Post Nat. Raisin Bran\", \"Product 19\", \"Puffed Rice\", \"Puffed Wheat\", \"Quaker Oat Squares\", \"Quaker Oatmeal\", \"Raisin Bran\", \"Raisin Nut Bran\", \"Raisin Squares\", \"Rice Chex\", \"Rice Krispies\", \"Shredded Wheat\", \"Shredded Wheat 'n'Bran\", \"Shredded Wheat spoon size\", \"Smacks\", \"Special K\", \"Strawberry Fruit Wheats\", \"Total Corn Flakes\", \"Total Raisin Bran\", \"Total Whole Grain\", \"Triples\", \"Trix\", \"Wheat Chex\", \"Wheaties\", \"Wheaties Honey Gold\"], \"legendgroup\": \"Protein\", \"marker\": {\"color\": \"#EF553B\", \"symbol\": \"circle\"}, \"mode\": \"markers\", \"name\": \"Protein\", \"orientation\": \"v\", \"showlegend\": true, \"type\": \"scatter\", \"x\": [4.0, 3.0, 4.0, 4.0, 2.0, 2.0, 2.0, 3.0, 2.0, 3.0, 1.0, 6.0, 1.0, 3.0, 1.0, 2.0, 2.0, 1.0, 1.0, 3.0, 3.0, 2.0, 2.0, 2.0, 2.0, 1.0, 3.0, 3.0, 3.0, 1.0, 2.0, 1.0, 3.0, 3.0, 3.0, 1.0, 3.0, 1.0, 2.0, 3.0, 2.0, 4.0, 2.0, 4.0, 4.0, 4.0, 3.0, 2.0, 2.0, 3.0, 3.0, 3.0, 3.0, 3.0, 1.0, 2.0, 4.0, 5.0, 3.0, 3.0, 2.0, 1.0, 2.0, 2.0, 3.0, 3.0, 2.0, 6.0, 2.0, 2.0, 3.0, 3.0, 2.0, 1.0, 3.0, 3.0, 2.0], \"xaxis\": \"x\", \"y\": [68.402973, 33.983678999999995, 59.425505, 93.704912, 34.384843, 29.509541, 33.174094000000004, 37.038562, 49.120253000000005, 53.313813, 18.042851000000002, 50.764998999999996, 19.823573, 40.400208, 22.736446, 41.445019, 45.863324, 35.782790999999996, 22.396513, 40.448772, 64.533816, 46.895644, 36.176196000000004, 44.330856, 32.207582, 31.435972999999997, 58.345141000000005, 40.917047, 41.015492, 28.025765000000003, 35.252444, 23.804043, 52.076896999999995, 53.37100699999999, 45.811716, 21.871292, 31.072217, 28.742414, 36.523683, 36.471512, 39.241114, 45.328074, 26.734515000000002, 54.850917, 37.136863, 34.139765000000004, 30.313351, 40.105965000000005, 29.924284999999998, 40.69232, 59.642837, 30.450843, 37.840594, 41.50354, 60.756112, 63.005644999999994, 49.511874, 50.828392, 39.259197, 39.7034, 55.333142, 41.998933, 40.560159000000006, 68.235885, 74.472949, 72.801787, 31.230054, 53.131324, 59.36399300000001, 38.839746000000005, 28.592785, 46.658844, 39.106173999999996, 27.753301, 49.787445, 51.592193, 36.187559], \"yaxis\": \"y\"}, {\"hovertemplate\": \"<b>OLS trendline</b><br>Rating = 6.03852 * value + 27.2949<br>R<sup>2</sup>=0.221482<br><br>variable=Protein<br>value=%{x}<br>Rating (%)=%{y:.2f} <b>(trend)</b><extra></extra>\", \"legendgroup\": \"Protein\", \"marker\": {\"color\": \"#EF553B\", \"symbol\": \"circle\"}, \"mode\": \"lines\", \"name\": \"Protein\", \"showlegend\": false, \"type\": \"scatter\", \"x\": [1.0, 1.0, 1.0, 1.0, 1.0, 1.0, 1.0, 1.0, 1.0, 1.0, 1.0, 1.0, 1.0, 2.0, 2.0, 2.0, 2.0, 2.0, 2.0, 2.0, 2.0, 2.0, 2.0, 2.0, 2.0, 2.0, 2.0, 2.0, 2.0, 2.0, 2.0, 2.0, 2.0, 2.0, 2.0, 2.0, 2.0, 2.0, 3.0, 3.0, 3.0, 3.0, 3.0, 3.0, 3.0, 3.0, 3.0, 3.0, 3.0, 3.0, 3.0, 3.0, 3.0, 3.0, 3.0, 3.0, 3.0, 3.0, 3.0, 3.0, 3.0, 3.0, 3.0, 3.0, 3.0, 3.0, 4.0, 4.0, 4.0, 4.0, 4.0, 4.0, 4.0, 4.0, 5.0, 6.0, 6.0], \"xaxis\": \"x\", \"y\": [33.333441627459365, 33.333441627459365, 33.333441627459365, 33.333441627459365, 33.333441627459365, 33.333441627459365, 33.333441627459365, 33.333441627459365, 33.333441627459365, 33.333441627459365, 33.333441627459365, 33.333441627459365, 33.333441627459365, 39.371964977758765, 39.371964977758765, 39.371964977758765, 39.371964977758765, 39.371964977758765, 39.371964977758765, 39.371964977758765, 39.371964977758765, 39.371964977758765, 39.371964977758765, 39.371964977758765, 39.371964977758765, 39.371964977758765, 39.371964977758765, 39.371964977758765, 39.371964977758765, 39.371964977758765, 39.371964977758765, 39.371964977758765, 39.371964977758765, 39.371964977758765, 39.371964977758765, 39.371964977758765, 39.371964977758765, 39.371964977758765, 45.410488328058165, 45.410488328058165, 45.410488328058165, 45.410488328058165, 45.410488328058165, 45.410488328058165, 45.410488328058165, 45.410488328058165, 45.410488328058165, 45.410488328058165, 45.410488328058165, 45.410488328058165, 45.410488328058165, 45.410488328058165, 45.410488328058165, 45.410488328058165, 45.410488328058165, 45.410488328058165, 45.410488328058165, 45.410488328058165, 45.410488328058165, 45.410488328058165, 45.410488328058165, 45.410488328058165, 45.410488328058165, 45.410488328058165, 45.410488328058165, 45.410488328058165, 51.449011678357564, 51.449011678357564, 51.449011678357564, 51.449011678357564, 51.449011678357564, 51.449011678357564, 51.449011678357564, 51.449011678357564, 57.487535028656964, 63.52605837895637, 63.52605837895637], \"yaxis\": \"y\"}, {\"customdata\": [[68.402973], [33.983678999999995], [59.425505], [93.704912], [34.384843], [29.509541], [33.174094000000004], [37.038562], [49.120253000000005], [53.313813], [18.042851000000002], [50.764998999999996], [19.823573], [40.400208], [22.736446], [41.445019], [45.863324], [35.782790999999996], [22.396513], [40.448772], [64.533816], [46.895644], [36.176196000000004], [44.330856], [32.207582], [31.435972999999997], [58.345141000000005], [40.917047], [41.015492], [28.025765000000003], [35.252444], [23.804043], [52.076896999999995], [53.37100699999999], [45.811716], [21.871292], [31.072217], [28.742414], [36.523683], [36.471512], [39.241114], [45.328074], [26.734515000000002], [54.850917], [37.136863], [34.139765000000004], [30.313351], [40.105965000000005], [29.924284999999998], [40.69232], [59.642837], [30.450843], [37.840594], [41.50354], [60.756112], [63.005644999999994], [49.511874], [50.828392], [39.259197], [39.7034], [55.333142], [41.998933], [40.560159000000006], [68.235885], [74.472949], [72.801787], [31.230054], [53.131324], [59.36399300000001], [38.839746000000005], [28.592785], [46.658844], [39.106173999999996], [27.753301], [49.787445], [51.592193], [36.187559]], \"hovertemplate\": \"<b>%{hovertext}</b><br><br>variable=Potassium<br>value=%{x}<br>Rating (%)=%{customdata[0]:.2f}<extra></extra>\", \"hovertext\": [\"100% Bran\", \"100% Natural Bran\", \"All-Bran\", \"All-Bran with Extra Fiber\", \"Almond Delight\", \"Apple Cinnamon Cheerios\", \"Apple Jacks\", \"Basic 4\", \"Bran Chex\", \"Bran Flakes\", \"Cap'n'Crunch\", \"Cheerios\", \"Cinnamon Toast Crunch\", \"Clusters\", \"Cocoa Puffs\", \"Corn Chex\", \"Corn Flakes\", \"Corn Pops\", \"Count Chocula\", \"Cracklin' Oat Bran\", \"Cream of Wheat (Quick)\", \"Crispix\", \"Crispy Wheat & Raisins\", \"Double Chex\", \"Froot Loops\", \"Frosted Flakes\", \"Frosted Mini-Wheats\", \"Fruit & Fibre Dates; Walnuts; and Oats\", \"Fruitful Bran\", \"Fruity Pebbles\", \"Golden Crisp\", \"Golden Grahams\", \"Grape Nuts Flakes\", \"Grape-Nuts\", \"Great Grains Pecan\", \"Honey Graham Ohs\", \"Honey Nut Cheerios\", \"Honey-comb\", \"Just Right Crunchy  Nuggets\", \"Just Right Fruit & Nut\", \"Kix\", \"Life\", \"Lucky Charms\", \"Maypo\", \"Muesli Raisins; Dates; & Almonds\", \"Muesli Raisins; Peaches; & Pecans\", \"Mueslix Crispy Blend\", \"Multi-Grain Cheerios\", \"Nut&Honey Crunch\", \"Nutri-Grain Almond-Raisin\", \"Nutri-grain Wheat\", \"Oatmeal Raisin Crisp\", \"Post Nat. Raisin Bran\", \"Product 19\", \"Puffed Rice\", \"Puffed Wheat\", \"Quaker Oat Squares\", \"Quaker Oatmeal\", \"Raisin Bran\", \"Raisin Nut Bran\", \"Raisin Squares\", \"Rice Chex\", \"Rice Krispies\", \"Shredded Wheat\", \"Shredded Wheat 'n'Bran\", \"Shredded Wheat spoon size\", \"Smacks\", \"Special K\", \"Strawberry Fruit Wheats\", \"Total Corn Flakes\", \"Total Raisin Bran\", \"Total Whole Grain\", \"Triples\", \"Trix\", \"Wheat Chex\", \"Wheaties\", \"Wheaties Honey Gold\"], \"legendgroup\": \"Potassium\", \"marker\": {\"color\": \"#00cc96\", \"symbol\": \"circle\"}, \"mode\": \"markers\", \"name\": \"Potassium\", \"orientation\": \"v\", \"showlegend\": true, \"type\": \"scatter\", \"x\": [280.0, 135.0, 320.0, 330.0, 0.0, 70.0, 30.0, 100.0, 125.0, 190.0, 35.0, 105.0, 45.0, 105.0, 55.0, 25.0, 35.0, 20.0, 65.0, 160.0, 0.0, 30.0, 120.0, 80.0, 30.0, 25.0, 100.0, 200.0, 190.0, 25.0, 40.0, 45.0, 85.0, 90.0, 100.0, 45.0, 90.0, 35.0, 60.0, 95.0, 40.0, 95.0, 55.0, 95.0, 170.0, 170.0, 160.0, 90.0, 40.0, 130.0, 90.0, 120.0, 260.0, 45.0, 15.0, 50.0, 110.0, 110.0, 240.0, 140.0, 110.0, 30.0, 35.0, 95.0, 140.0, 120.0, 40.0, 55.0, 90.0, 35.0, 230.0, 110.0, 60.0, 25.0, 115.0, 110.0, 60.0], \"xaxis\": \"x\", \"y\": [68.402973, 33.983678999999995, 59.425505, 93.704912, 34.384843, 29.509541, 33.174094000000004, 37.038562, 49.120253000000005, 53.313813, 18.042851000000002, 50.764998999999996, 19.823573, 40.400208, 22.736446, 41.445019, 45.863324, 35.782790999999996, 22.396513, 40.448772, 64.533816, 46.895644, 36.176196000000004, 44.330856, 32.207582, 31.435972999999997, 58.345141000000005, 40.917047, 41.015492, 28.025765000000003, 35.252444, 23.804043, 52.076896999999995, 53.37100699999999, 45.811716, 21.871292, 31.072217, 28.742414, 36.523683, 36.471512, 39.241114, 45.328074, 26.734515000000002, 54.850917, 37.136863, 34.139765000000004, 30.313351, 40.105965000000005, 29.924284999999998, 40.69232, 59.642837, 30.450843, 37.840594, 41.50354, 60.756112, 63.005644999999994, 49.511874, 50.828392, 39.259197, 39.7034, 55.333142, 41.998933, 40.560159000000006, 68.235885, 74.472949, 72.801787, 31.230054, 53.131324, 59.36399300000001, 38.839746000000005, 28.592785, 46.658844, 39.106173999999996, 27.753301, 49.787445, 51.592193, 36.187559], \"yaxis\": \"y\"}, {\"hovertemplate\": \"<b>OLS trendline</b><br>Rating = 0.075023 * value + 35.4557<br>R<sup>2</sup>=0.144806<br><br>variable=Potassium<br>value=%{x}<br>Rating (%)=%{y:.2f} <b>(trend)</b><extra></extra>\", \"legendgroup\": \"Potassium\", \"marker\": {\"color\": \"#00cc96\", \"symbol\": \"circle\"}, \"mode\": \"lines\", \"name\": \"Potassium\", \"showlegend\": false, \"type\": \"scatter\", \"x\": [0.0, 0.0, 15.0, 20.0, 25.0, 25.0, 25.0, 25.0, 30.0, 30.0, 30.0, 30.0, 35.0, 35.0, 35.0, 35.0, 35.0, 40.0, 40.0, 40.0, 40.0, 45.0, 45.0, 45.0, 45.0, 50.0, 55.0, 55.0, 55.0, 60.0, 60.0, 60.0, 65.0, 70.0, 80.0, 85.0, 90.0, 90.0, 90.0, 90.0, 90.0, 95.0, 95.0, 95.0, 95.0, 100.0, 100.0, 100.0, 105.0, 105.0, 110.0, 110.0, 110.0, 110.0, 110.0, 115.0, 120.0, 120.0, 120.0, 125.0, 130.0, 135.0, 140.0, 140.0, 160.0, 160.0, 170.0, 170.0, 190.0, 190.0, 200.0, 230.0, 240.0, 260.0, 280.0, 320.0, 330.0], \"xaxis\": \"x\", \"y\": [35.45570207280622, 35.45570207280622, 36.58104712225336, 36.956162138735735, 37.33127715521812, 37.33127715521812, 37.33127715521812, 37.33127715521812, 37.70639217170049, 37.70639217170049, 37.70639217170049, 37.70639217170049, 38.081507188182876, 38.081507188182876, 38.081507188182876, 38.081507188182876, 38.081507188182876, 38.45662220466525, 38.45662220466525, 38.45662220466525, 38.45662220466525, 38.831737221147634, 38.831737221147634, 38.831737221147634, 38.831737221147634, 39.20685223763002, 39.58196725411239, 39.58196725411239, 39.58196725411239, 39.957082270594775, 39.957082270594775, 39.957082270594775, 40.33219728707715, 40.70731230355953, 41.45754233652429, 41.83265735300667, 42.20777236948905, 42.20777236948905, 42.20777236948905, 42.20777236948905, 42.20777236948905, 42.58288738597143, 42.58288738597143, 42.58288738597143, 42.58288738597143, 42.95800240245381, 42.95800240245381, 42.95800240245381, 43.33311741893619, 43.33311741893619, 43.708232435418566, 43.708232435418566, 43.708232435418566, 43.708232435418566, 43.708232435418566, 44.08334745190095, 44.45846246838333, 44.45846246838333, 44.45846246838333, 44.83357748486571, 45.20869250134808, 45.583807517830465, 45.95892253431285, 45.95892253431285, 47.459382600242364, 47.459382600242364, 48.20961263320712, 48.20961263320712, 49.71007269913664, 49.71007269913664, 50.4603027321014, 52.71099283099568, 53.46122286396044, 54.96168292988995, 56.46214299581948, 59.46306312767851, 60.21329316064327], \"yaxis\": \"y\"}],                        {\"legend\": {\"title\": {\"text\": \"variable\"}, \"tracegroupgap\": 0}, \"margin\": {\"t\": 60}, \"template\": {\"data\": {\"bar\": [{\"error_x\": {\"color\": \"#2a3f5f\"}, \"error_y\": {\"color\": \"#2a3f5f\"}, \"marker\": {\"line\": {\"color\": \"#E5ECF6\", \"width\": 0.5}}, \"type\": \"bar\"}], \"barpolar\": [{\"marker\": {\"line\": {\"color\": \"#E5ECF6\", \"width\": 0.5}}, \"type\": \"barpolar\"}], \"carpet\": [{\"aaxis\": {\"endlinecolor\": \"#2a3f5f\", \"gridcolor\": \"white\", \"linecolor\": \"white\", \"minorgridcolor\": \"white\", \"startlinecolor\": \"#2a3f5f\"}, \"baxis\": {\"endlinecolor\": \"#2a3f5f\", \"gridcolor\": \"white\", \"linecolor\": \"white\", \"minorgridcolor\": \"white\", \"startlinecolor\": \"#2a3f5f\"}, \"type\": \"carpet\"}], \"choropleth\": [{\"colorbar\": {\"outlinewidth\": 0, \"ticks\": \"\"}, \"type\": \"choropleth\"}], \"contour\": [{\"colorbar\": {\"outlinewidth\": 0, \"ticks\": \"\"}, \"colorscale\": [[0.0, \"#0d0887\"], [0.1111111111111111, \"#46039f\"], [0.2222222222222222, \"#7201a8\"], [0.3333333333333333, \"#9c179e\"], [0.4444444444444444, \"#bd3786\"], [0.5555555555555556, \"#d8576b\"], [0.6666666666666666, \"#ed7953\"], [0.7777777777777778, \"#fb9f3a\"], [0.8888888888888888, \"#fdca26\"], [1.0, \"#f0f921\"]], \"type\": \"contour\"}], \"contourcarpet\": [{\"colorbar\": {\"outlinewidth\": 0, \"ticks\": \"\"}, \"type\": \"contourcarpet\"}], \"heatmap\": [{\"colorbar\": {\"outlinewidth\": 0, \"ticks\": \"\"}, \"colorscale\": [[0.0, \"#0d0887\"], [0.1111111111111111, \"#46039f\"], [0.2222222222222222, \"#7201a8\"], [0.3333333333333333, \"#9c179e\"], [0.4444444444444444, \"#bd3786\"], [0.5555555555555556, \"#d8576b\"], [0.6666666666666666, \"#ed7953\"], [0.7777777777777778, \"#fb9f3a\"], [0.8888888888888888, \"#fdca26\"], [1.0, \"#f0f921\"]], \"type\": \"heatmap\"}], \"heatmapgl\": [{\"colorbar\": {\"outlinewidth\": 0, \"ticks\": \"\"}, \"colorscale\": [[0.0, \"#0d0887\"], [0.1111111111111111, \"#46039f\"], [0.2222222222222222, \"#7201a8\"], [0.3333333333333333, \"#9c179e\"], [0.4444444444444444, \"#bd3786\"], [0.5555555555555556, \"#d8576b\"], [0.6666666666666666, \"#ed7953\"], [0.7777777777777778, \"#fb9f3a\"], [0.8888888888888888, \"#fdca26\"], [1.0, \"#f0f921\"]], \"type\": \"heatmapgl\"}], \"histogram\": [{\"marker\": {\"colorbar\": {\"outlinewidth\": 0, \"ticks\": \"\"}}, \"type\": \"histogram\"}], \"histogram2d\": [{\"colorbar\": {\"outlinewidth\": 0, \"ticks\": \"\"}, \"colorscale\": [[0.0, \"#0d0887\"], [0.1111111111111111, \"#46039f\"], [0.2222222222222222, \"#7201a8\"], [0.3333333333333333, \"#9c179e\"], [0.4444444444444444, \"#bd3786\"], [0.5555555555555556, \"#d8576b\"], [0.6666666666666666, \"#ed7953\"], [0.7777777777777778, \"#fb9f3a\"], [0.8888888888888888, \"#fdca26\"], [1.0, \"#f0f921\"]], \"type\": \"histogram2d\"}], \"histogram2dcontour\": [{\"colorbar\": {\"outlinewidth\": 0, \"ticks\": \"\"}, \"colorscale\": [[0.0, \"#0d0887\"], [0.1111111111111111, \"#46039f\"], [0.2222222222222222, \"#7201a8\"], [0.3333333333333333, \"#9c179e\"], [0.4444444444444444, \"#bd3786\"], [0.5555555555555556, \"#d8576b\"], [0.6666666666666666, \"#ed7953\"], [0.7777777777777778, \"#fb9f3a\"], [0.8888888888888888, \"#fdca26\"], [1.0, \"#f0f921\"]], \"type\": \"histogram2dcontour\"}], \"mesh3d\": [{\"colorbar\": {\"outlinewidth\": 0, \"ticks\": \"\"}, \"type\": \"mesh3d\"}], \"parcoords\": [{\"line\": {\"colorbar\": {\"outlinewidth\": 0, \"ticks\": \"\"}}, \"type\": \"parcoords\"}], \"pie\": [{\"automargin\": true, \"type\": \"pie\"}], \"scatter\": [{\"marker\": {\"colorbar\": {\"outlinewidth\": 0, \"ticks\": \"\"}}, \"type\": \"scatter\"}], \"scatter3d\": [{\"line\": {\"colorbar\": {\"outlinewidth\": 0, \"ticks\": \"\"}}, \"marker\": {\"colorbar\": {\"outlinewidth\": 0, \"ticks\": \"\"}}, \"type\": \"scatter3d\"}], \"scattercarpet\": [{\"marker\": {\"colorbar\": {\"outlinewidth\": 0, \"ticks\": \"\"}}, \"type\": \"scattercarpet\"}], \"scattergeo\": [{\"marker\": {\"colorbar\": {\"outlinewidth\": 0, \"ticks\": \"\"}}, \"type\": \"scattergeo\"}], \"scattergl\": [{\"marker\": {\"colorbar\": {\"outlinewidth\": 0, \"ticks\": \"\"}}, \"type\": \"scattergl\"}], \"scattermapbox\": [{\"marker\": {\"colorbar\": {\"outlinewidth\": 0, \"ticks\": \"\"}}, \"type\": \"scattermapbox\"}], \"scatterpolar\": [{\"marker\": {\"colorbar\": {\"outlinewidth\": 0, \"ticks\": \"\"}}, \"type\": \"scatterpolar\"}], \"scatterpolargl\": [{\"marker\": {\"colorbar\": {\"outlinewidth\": 0, \"ticks\": \"\"}}, \"type\": \"scatterpolargl\"}], \"scatterternary\": [{\"marker\": {\"colorbar\": {\"outlinewidth\": 0, \"ticks\": \"\"}}, \"type\": \"scatterternary\"}], \"surface\": [{\"colorbar\": {\"outlinewidth\": 0, \"ticks\": \"\"}, \"colorscale\": [[0.0, \"#0d0887\"], [0.1111111111111111, \"#46039f\"], [0.2222222222222222, \"#7201a8\"], [0.3333333333333333, \"#9c179e\"], [0.4444444444444444, \"#bd3786\"], [0.5555555555555556, \"#d8576b\"], [0.6666666666666666, \"#ed7953\"], [0.7777777777777778, \"#fb9f3a\"], [0.8888888888888888, \"#fdca26\"], [1.0, \"#f0f921\"]], \"type\": \"surface\"}], \"table\": [{\"cells\": {\"fill\": {\"color\": \"#EBF0F8\"}, \"line\": {\"color\": \"white\"}}, \"header\": {\"fill\": {\"color\": \"#C8D4E3\"}, \"line\": {\"color\": \"white\"}}, \"type\": \"table\"}]}, \"layout\": {\"annotationdefaults\": {\"arrowcolor\": \"#2a3f5f\", \"arrowhead\": 0, \"arrowwidth\": 1}, \"coloraxis\": {\"colorbar\": {\"outlinewidth\": 0, \"ticks\": \"\"}}, \"colorscale\": {\"diverging\": [[0, \"#8e0152\"], [0.1, \"#c51b7d\"], [0.2, \"#de77ae\"], [0.3, \"#f1b6da\"], [0.4, \"#fde0ef\"], [0.5, \"#f7f7f7\"], [0.6, \"#e6f5d0\"], [0.7, \"#b8e186\"], [0.8, \"#7fbc41\"], [0.9, \"#4d9221\"], [1, \"#276419\"]], \"sequential\": [[0.0, \"#0d0887\"], [0.1111111111111111, \"#46039f\"], [0.2222222222222222, \"#7201a8\"], [0.3333333333333333, \"#9c179e\"], [0.4444444444444444, \"#bd3786\"], [0.5555555555555556, \"#d8576b\"], [0.6666666666666666, \"#ed7953\"], [0.7777777777777778, \"#fb9f3a\"], [0.8888888888888888, \"#fdca26\"], [1.0, \"#f0f921\"]], \"sequentialminus\": [[0.0, \"#0d0887\"], [0.1111111111111111, \"#46039f\"], [0.2222222222222222, \"#7201a8\"], [0.3333333333333333, \"#9c179e\"], [0.4444444444444444, \"#bd3786\"], [0.5555555555555556, \"#d8576b\"], [0.6666666666666666, \"#ed7953\"], [0.7777777777777778, \"#fb9f3a\"], [0.8888888888888888, \"#fdca26\"], [1.0, \"#f0f921\"]]}, \"colorway\": [\"#636efa\", \"#EF553B\", \"#00cc96\", \"#ab63fa\", \"#FFA15A\", \"#19d3f3\", \"#FF6692\", \"#B6E880\", \"#FF97FF\", \"#FECB52\"], \"font\": {\"color\": \"#2a3f5f\"}, \"geo\": {\"bgcolor\": \"white\", \"lakecolor\": \"white\", \"landcolor\": \"#E5ECF6\", \"showlakes\": true, \"showland\": true, \"subunitcolor\": \"white\"}, \"hoverlabel\": {\"align\": \"left\"}, \"hovermode\": \"closest\", \"mapbox\": {\"style\": \"light\"}, \"paper_bgcolor\": \"white\", \"plot_bgcolor\": \"#E5ECF6\", \"polar\": {\"angularaxis\": {\"gridcolor\": \"white\", \"linecolor\": \"white\", \"ticks\": \"\"}, \"bgcolor\": \"#E5ECF6\", \"radialaxis\": {\"gridcolor\": \"white\", \"linecolor\": \"white\", \"ticks\": \"\"}}, \"scene\": {\"xaxis\": {\"backgroundcolor\": \"#E5ECF6\", \"gridcolor\": \"white\", \"gridwidth\": 2, \"linecolor\": \"white\", \"showbackground\": true, \"ticks\": \"\", \"zerolinecolor\": \"white\"}, \"yaxis\": {\"backgroundcolor\": \"#E5ECF6\", \"gridcolor\": \"white\", \"gridwidth\": 2, \"linecolor\": \"white\", \"showbackground\": true, \"ticks\": \"\", \"zerolinecolor\": \"white\"}, \"zaxis\": {\"backgroundcolor\": \"#E5ECF6\", \"gridcolor\": \"white\", \"gridwidth\": 2, \"linecolor\": \"white\", \"showbackground\": true, \"ticks\": \"\", \"zerolinecolor\": \"white\"}}, \"shapedefaults\": {\"line\": {\"color\": \"#2a3f5f\"}}, \"ternary\": {\"aaxis\": {\"gridcolor\": \"white\", \"linecolor\": \"white\", \"ticks\": \"\"}, \"baxis\": {\"gridcolor\": \"white\", \"linecolor\": \"white\", \"ticks\": \"\"}, \"bgcolor\": \"#E5ECF6\", \"caxis\": {\"gridcolor\": \"white\", \"linecolor\": \"white\", \"ticks\": \"\"}}, \"title\": {\"x\": 0.05}, \"xaxis\": {\"automargin\": true, \"gridcolor\": \"white\", \"linecolor\": \"white\", \"ticks\": \"\", \"title\": {\"standoff\": 15}, \"zerolinecolor\": \"white\", \"zerolinewidth\": 2}, \"yaxis\": {\"automargin\": true, \"gridcolor\": \"white\", \"linecolor\": \"white\", \"ticks\": \"\", \"title\": {\"standoff\": 15}, \"zerolinecolor\": \"white\", \"zerolinewidth\": 2}}}, \"xaxis\": {\"anchor\": \"y\", \"domain\": [0.0, 1.0], \"title\": {\"text\": \"value\"}}, \"yaxis\": {\"anchor\": \"x\", \"domain\": [0.0, 1.0], \"title\": {\"text\": \"Rating (%)\"}}},                        {\"responsive\": true}                    ).then(function(){\n",
       "                            \n",
       "var gd = document.getElementById('957e81c7-d1ef-40ad-97a4-3e3f786dc94b');\n",
       "var x = new MutationObserver(function (mutations, observer) {{\n",
       "        var display = window.getComputedStyle(gd).display;\n",
       "        if (!display || display === 'none') {{\n",
       "            console.log([gd, 'removed!']);\n",
       "            Plotly.purge(gd);\n",
       "            observer.disconnect();\n",
       "        }}\n",
       "}});\n",
       "\n",
       "// Listen for the removal of the full notebook cells\n",
       "var notebookContainer = gd.closest('#notebook-container');\n",
       "if (notebookContainer) {{\n",
       "    x.observe(notebookContainer, {childList: true});\n",
       "}}\n",
       "\n",
       "// Listen for the clearing of the current output cell\n",
       "var outputEl = gd.closest('.output');\n",
       "if (outputEl) {{\n",
       "    x.observe(outputEl, {childList: true});\n",
       "}}\n",
       "\n",
       "                        })                };                });            </script>        </div>"
      ]
     },
     "metadata": {},
     "output_type": "display_data"
    }
   ],
   "source": [
    "px.scatter(df,x=[\"Fiber\",\"Protein\",\"Potassium\"],y=\"Rating\",trendline=\"ols\",\n",
    "           labels={\"Rating\":\"Rating (%)\"},\n",
    "           hover_name=\"Name\",hover_data={\"Rating\":\":.2f\"})"
   ]
  },
  {
   "cell_type": "markdown",
   "metadata": {
    "papermill": {
     "duration": 0.049889,
     "end_time": "2020-12-29T23:15:22.777423",
     "exception": false,
     "start_time": "2020-12-29T23:15:22.727534",
     "status": "completed"
    },
    "tags": []
   },
   "source": [
    "*Fibre*, *protein* and *potassium* are the most correlated variables in decreasing order to a cereal's *rating*. Seems like people are opting for healthier cereals."
   ]
  },
  {
   "cell_type": "markdown",
   "metadata": {
    "papermill": {
     "duration": 0.049805,
     "end_time": "2020-12-29T23:15:22.877697",
     "exception": false,
     "start_time": "2020-12-29T23:15:22.827892",
     "status": "completed"
    },
    "tags": []
   },
   "source": [
    "Given a completely new cereal that you have never tried before, would it be possible to determine its rating?"
   ]
  },
  {
   "cell_type": "markdown",
   "metadata": {
    "papermill": {
     "duration": 0.049684,
     "end_time": "2020-12-29T23:15:22.977377",
     "exception": false,
     "start_time": "2020-12-29T23:15:22.927693",
     "status": "completed"
    },
    "tags": []
   },
   "source": [
    "1. Clean the dataset to get rid of any categorical variables (i.e. *Manufacturer* and *Type*) by getting dummies and dropping the original columns:"
   ]
  },
  {
   "cell_type": "code",
   "execution_count": 19,
   "metadata": {
    "execution": {
     "iopub.execute_input": "2020-12-29T23:15:23.089911Z",
     "iopub.status.busy": "2020-12-29T23:15:23.088835Z",
     "iopub.status.idle": "2020-12-29T23:15:23.092356Z",
     "shell.execute_reply": "2020-12-29T23:15:23.091359Z"
    },
    "papermill": {
     "duration": 0.06404,
     "end_time": "2020-12-29T23:15:23.092605",
     "exception": false,
     "start_time": "2020-12-29T23:15:23.028565",
     "status": "completed"
    },
    "tags": []
   },
   "outputs": [],
   "source": [
    "df=pd.concat([df,pd.get_dummies(df[\"Manufacturer\"])],axis=1)"
   ]
  },
  {
   "cell_type": "code",
   "execution_count": 20,
   "metadata": {
    "execution": {
     "iopub.execute_input": "2020-12-29T23:15:23.204777Z",
     "iopub.status.busy": "2020-12-29T23:15:23.201793Z",
     "iopub.status.idle": "2020-12-29T23:15:23.207426Z",
     "shell.execute_reply": "2020-12-29T23:15:23.207987Z"
    },
    "papermill": {
     "duration": 0.064962,
     "end_time": "2020-12-29T23:15:23.208158",
     "exception": false,
     "start_time": "2020-12-29T23:15:23.143196",
     "status": "completed"
    },
    "tags": []
   },
   "outputs": [],
   "source": [
    "df=pd.concat([df,pd.get_dummies(df[\"Type\"])[\"C\"]],axis=1)"
   ]
  },
  {
   "cell_type": "code",
   "execution_count": 21,
   "metadata": {
    "execution": {
     "iopub.execute_input": "2020-12-29T23:15:23.313542Z",
     "iopub.status.busy": "2020-12-29T23:15:23.312810Z",
     "iopub.status.idle": "2020-12-29T23:15:23.319072Z",
     "shell.execute_reply": "2020-12-29T23:15:23.319619Z"
    },
    "papermill": {
     "duration": 0.060817,
     "end_time": "2020-12-29T23:15:23.319813",
     "exception": false,
     "start_time": "2020-12-29T23:15:23.258996",
     "status": "completed"
    },
    "tags": []
   },
   "outputs": [],
   "source": [
    "df.rename(columns={\"C\":\"Cold\"},inplace=True)"
   ]
  },
  {
   "cell_type": "code",
   "execution_count": 22,
   "metadata": {
    "execution": {
     "iopub.execute_input": "2020-12-29T23:15:23.430345Z",
     "iopub.status.busy": "2020-12-29T23:15:23.428925Z",
     "iopub.status.idle": "2020-12-29T23:15:23.434095Z",
     "shell.execute_reply": "2020-12-29T23:15:23.433504Z"
    },
    "papermill": {
     "duration": 0.063459,
     "end_time": "2020-12-29T23:15:23.434223",
     "exception": false,
     "start_time": "2020-12-29T23:15:23.370764",
     "status": "completed"
    },
    "tags": []
   },
   "outputs": [],
   "source": [
    "df.drop([\"Manufacturer\",\"Type\"],axis=1,inplace=True)"
   ]
  },
  {
   "cell_type": "markdown",
   "metadata": {
    "papermill": {
     "duration": 0.05025,
     "end_time": "2020-12-29T23:15:23.537972",
     "exception": false,
     "start_time": "2020-12-29T23:15:23.487722",
     "status": "completed"
    },
    "tags": []
   },
   "source": [
    "2. Also drop any unnecessary variables (i.e. *name* and *shelf*):"
   ]
  },
  {
   "cell_type": "code",
   "execution_count": 23,
   "metadata": {
    "execution": {
     "iopub.execute_input": "2020-12-29T23:15:23.648164Z",
     "iopub.status.busy": "2020-12-29T23:15:23.647257Z",
     "iopub.status.idle": "2020-12-29T23:15:23.650747Z",
     "shell.execute_reply": "2020-12-29T23:15:23.650055Z"
    },
    "papermill": {
     "duration": 0.06199,
     "end_time": "2020-12-29T23:15:23.650876",
     "exception": false,
     "start_time": "2020-12-29T23:15:23.588886",
     "status": "completed"
    },
    "tags": []
   },
   "outputs": [],
   "source": [
    "df.drop([\"Name\",\"Shelf\"],axis=1,inplace=True)"
   ]
  },
  {
   "cell_type": "markdown",
   "metadata": {
    "papermill": {
     "duration": 0.050662,
     "end_time": "2020-12-29T23:15:23.752473",
     "exception": false,
     "start_time": "2020-12-29T23:15:23.701811",
     "status": "completed"
    },
    "tags": []
   },
   "source": [
    "3. Split the data into the training and testing set:"
   ]
  },
  {
   "cell_type": "code",
   "execution_count": 24,
   "metadata": {
    "execution": {
     "iopub.execute_input": "2020-12-29T23:15:23.862378Z",
     "iopub.status.busy": "2020-12-29T23:15:23.861517Z",
     "iopub.status.idle": "2020-12-29T23:15:24.016507Z",
     "shell.execute_reply": "2020-12-29T23:15:24.017095Z"
    },
    "papermill": {
     "duration": 0.21365,
     "end_time": "2020-12-29T23:15:24.017284",
     "exception": false,
     "start_time": "2020-12-29T23:15:23.803634",
     "status": "completed"
    },
    "tags": []
   },
   "outputs": [],
   "source": [
    "from sklearn.model_selection import train_test_split\n",
    "\n",
    "x=df.drop([\"Rating\"],axis=1)\n",
    "y=df[\"Rating\"]\n",
    "\n",
    "x_train,x_test,y_train,y_test=train_test_split(x,y,test_size=0.25,random_state=7)"
   ]
  },
  {
   "cell_type": "code",
   "execution_count": 25,
   "metadata": {
    "execution": {
     "iopub.execute_input": "2020-12-29T23:15:24.195301Z",
     "iopub.status.busy": "2020-12-29T23:15:24.194372Z",
     "iopub.status.idle": "2020-12-29T23:15:24.197621Z",
     "shell.execute_reply": "2020-12-29T23:15:24.198394Z"
    },
    "papermill": {
     "duration": 0.130009,
     "end_time": "2020-12-29T23:15:24.198656",
     "exception": false,
     "start_time": "2020-12-29T23:15:24.068647",
     "status": "completed"
    },
    "tags": []
   },
   "outputs": [
    {
     "name": "stdout",
     "output_type": "stream",
     "text": [
      "x train shape (57, 19) and y train shape (57,)\n"
     ]
    }
   ],
   "source": [
    "print(\"x train shape\",x_train.shape,\"and y train shape\",y_train.shape)"
   ]
  },
  {
   "cell_type": "code",
   "execution_count": 26,
   "metadata": {
    "execution": {
     "iopub.execute_input": "2020-12-29T23:15:24.311658Z",
     "iopub.status.busy": "2020-12-29T23:15:24.310914Z",
     "iopub.status.idle": "2020-12-29T23:15:24.315334Z",
     "shell.execute_reply": "2020-12-29T23:15:24.314410Z"
    },
    "papermill": {
     "duration": 0.061407,
     "end_time": "2020-12-29T23:15:24.315500",
     "exception": false,
     "start_time": "2020-12-29T23:15:24.254093",
     "status": "completed"
    },
    "tags": []
   },
   "outputs": [
    {
     "name": "stdout",
     "output_type": "stream",
     "text": [
      "x test shape (20, 19) and y test shape (20,)\n"
     ]
    }
   ],
   "source": [
    "print(\"x test shape\",x_test.shape,\"and y test shape\",y_test.shape)"
   ]
  },
  {
   "cell_type": "markdown",
   "metadata": {
    "papermill": {
     "duration": 0.051576,
     "end_time": "2020-12-29T23:15:24.420236",
     "exception": false,
     "start_time": "2020-12-29T23:15:24.368660",
     "status": "completed"
    },
    "tags": []
   },
   "source": [
    "4. Scale the data to ensure columns with larger numbers don't give a higher weighting:"
   ]
  },
  {
   "cell_type": "code",
   "execution_count": 27,
   "metadata": {
    "execution": {
     "iopub.execute_input": "2020-12-29T23:15:24.540402Z",
     "iopub.status.busy": "2020-12-29T23:15:24.539584Z",
     "iopub.status.idle": "2020-12-29T23:15:24.542863Z",
     "shell.execute_reply": "2020-12-29T23:15:24.543414Z"
    },
    "papermill": {
     "duration": 0.071599,
     "end_time": "2020-12-29T23:15:24.543584",
     "exception": false,
     "start_time": "2020-12-29T23:15:24.471985",
     "status": "completed"
    },
    "tags": []
   },
   "outputs": [],
   "source": [
    "from sklearn.preprocessing import StandardScaler\n",
    "\n",
    "scaler=StandardScaler()\n",
    "x_train=scaler.fit_transform(x_train)\n",
    "x_test=scaler.transform(x_test)"
   ]
  },
  {
   "cell_type": "markdown",
   "metadata": {
    "papermill": {
     "duration": 0.051842,
     "end_time": "2020-12-29T23:15:24.647361",
     "exception": false,
     "start_time": "2020-12-29T23:15:24.595519",
     "status": "completed"
    },
    "tags": []
   },
   "source": [
    "5. Create, fit and predict the model:"
   ]
  },
  {
   "cell_type": "code",
   "execution_count": 28,
   "metadata": {
    "execution": {
     "iopub.execute_input": "2020-12-29T23:15:24.759555Z",
     "iopub.status.busy": "2020-12-29T23:15:24.758829Z",
     "iopub.status.idle": "2020-12-29T23:15:24.956126Z",
     "shell.execute_reply": "2020-12-29T23:15:24.954763Z"
    },
    "papermill": {
     "duration": 0.255894,
     "end_time": "2020-12-29T23:15:24.956305",
     "exception": false,
     "start_time": "2020-12-29T23:15:24.700411",
     "status": "completed"
    },
    "tags": []
   },
   "outputs": [],
   "source": [
    "from sklearn.neighbors import KNeighborsRegressor\n",
    "\n",
    "model=KNeighborsRegressor(n_neighbors=5)\n",
    "model.fit(x_train,y_train)\n",
    "y_predict=model.predict(x_test)"
   ]
  },
  {
   "cell_type": "markdown",
   "metadata": {
    "papermill": {
     "duration": 0.058169,
     "end_time": "2020-12-29T23:15:25.073487",
     "exception": false,
     "start_time": "2020-12-29T23:15:25.015318",
     "status": "completed"
    },
    "tags": []
   },
   "source": [
    "6. Evaluate the model:"
   ]
  },
  {
   "cell_type": "code",
   "execution_count": 29,
   "metadata": {
    "execution": {
     "iopub.execute_input": "2020-12-29T23:15:25.201948Z",
     "iopub.status.busy": "2020-12-29T23:15:25.199262Z",
     "iopub.status.idle": "2020-12-29T23:15:25.206635Z",
     "shell.execute_reply": "2020-12-29T23:15:25.206048Z"
    },
    "papermill": {
     "duration": 0.073569,
     "end_time": "2020-12-29T23:15:25.206795",
     "exception": false,
     "start_time": "2020-12-29T23:15:25.133226",
     "status": "completed"
    },
    "tags": []
   },
   "outputs": [
    {
     "data": {
      "text/plain": [
       "0.718367798190463"
      ]
     },
     "execution_count": 29,
     "metadata": {},
     "output_type": "execute_result"
    }
   ],
   "source": [
    "model.score(x_test,y_test)"
   ]
  },
  {
   "cell_type": "code",
   "execution_count": 30,
   "metadata": {
    "execution": {
     "iopub.execute_input": "2020-12-29T23:15:25.339118Z",
     "iopub.status.busy": "2020-12-29T23:15:25.338343Z",
     "iopub.status.idle": "2020-12-29T23:15:25.415057Z",
     "shell.execute_reply": "2020-12-29T23:15:25.414485Z"
    },
    "papermill": {
     "duration": 0.155116,
     "end_time": "2020-12-29T23:15:25.415196",
     "exception": false,
     "start_time": "2020-12-29T23:15:25.260080",
     "status": "completed"
    },
    "tags": []
   },
   "outputs": [
    {
     "data": {
      "text/html": [
       "<div>                            <div id=\"702a462e-4e33-478f-9c41-d72d23b90b74\" class=\"plotly-graph-div\" style=\"height:525px; width:100%;\"></div>            <script type=\"text/javascript\">                require([\"plotly\"], function(Plotly) {                    window.PLOTLYENV=window.PLOTLYENV || {};                                    if (document.getElementById(\"702a462e-4e33-478f-9c41-d72d23b90b74\")) {                    Plotly.newPlot(                        \"702a462e-4e33-478f-9c41-d72d23b90b74\",                        [{\"alignmentgroup\": \"True\", \"bingroup\": \"x\", \"hovertemplate\": \"variable=Actual<br>value=%{x}<br>count=%{y}<extra></extra>\", \"legendgroup\": \"Actual\", \"marker\": {\"color\": \"#636efa\", \"opacity\": 0.3}, \"name\": \"Actual\", \"nbinsx\": 20, \"offsetgroup\": \"Actual\", \"orientation\": \"v\", \"showlegend\": true, \"type\": \"histogram\", \"x\": [60.756112, 31.072217, 39.7034, 35.782790999999996, 45.328074, 19.823573, 40.917047, 41.445019, 39.241114, 59.425505, 28.742414, 40.400208, 55.333142, 35.252444, 37.840594, 41.998933, 22.396513, 36.176196000000004, 64.533816, 49.787445], \"xaxis\": \"x\", \"yaxis\": \"y\"}, {\"alignmentgroup\": \"True\", \"boxpoints\": \"all\", \"fillcolor\": \"rgba(255,255,255,0)\", \"hoveron\": \"points\", \"hovertemplate\": \"variable=Actual<br>value=%{x}<extra></extra>\", \"jitter\": 0, \"legendgroup\": \"Actual\", \"line\": {\"color\": \"rgba(255,255,255,0)\"}, \"marker\": {\"color\": \"#636efa\", \"symbol\": \"line-ns-open\"}, \"name\": \"Actual\", \"offsetgroup\": \"Actual\", \"showlegend\": false, \"type\": \"box\", \"x\": [60.756112, 31.072217, 39.7034, 35.782790999999996, 45.328074, 19.823573, 40.917047, 41.445019, 39.241114, 59.425505, 28.742414, 40.400208, 55.333142, 35.252444, 37.840594, 41.998933, 22.396513, 36.176196000000004, 64.533816, 49.787445], \"xaxis\": \"x2\", \"yaxis\": \"y2\"}, {\"alignmentgroup\": \"True\", \"bingroup\": \"x\", \"hovertemplate\": \"variable=Predicted<br>value=%{x}<br>count=%{y}<extra></extra>\", \"legendgroup\": \"Predicted\", \"marker\": {\"color\": \"#EF553B\", \"opacity\": 0.3}, \"name\": \"Predicted\", \"nbinsx\": 20, \"offsetgroup\": \"Predicted\", \"orientation\": \"v\", \"showlegend\": true, \"type\": \"histogram\", \"x\": [52.453506600000004, 31.268324600000007, 37.569220200000004, 31.594397599999997, 32.7716936, 27.998178000000003, 46.5198396, 42.851887000000005, 39.27571859999999, 56.5662692, 32.7533006, 37.569220200000004, 42.115657999999996, 35.342878400000004, 46.295423, 43.058351, 26.1075692, 31.054805200000004, 64.35405159999999, 39.822516], \"xaxis\": \"x\", \"yaxis\": \"y\"}, {\"alignmentgroup\": \"True\", \"boxpoints\": \"all\", \"fillcolor\": \"rgba(255,255,255,0)\", \"hoveron\": \"points\", \"hovertemplate\": \"variable=Predicted<br>value=%{x}<extra></extra>\", \"jitter\": 0, \"legendgroup\": \"Predicted\", \"line\": {\"color\": \"rgba(255,255,255,0)\"}, \"marker\": {\"color\": \"#EF553B\", \"symbol\": \"line-ns-open\"}, \"name\": \"Predicted\", \"offsetgroup\": \"Predicted\", \"showlegend\": false, \"type\": \"box\", \"x\": [52.453506600000004, 31.268324600000007, 37.569220200000004, 31.594397599999997, 32.7716936, 27.998178000000003, 46.5198396, 42.851887000000005, 39.27571859999999, 56.5662692, 32.7533006, 37.569220200000004, 42.115657999999996, 35.342878400000004, 46.295423, 43.058351, 26.1075692, 31.054805200000004, 64.35405159999999, 39.822516], \"xaxis\": \"x2\", \"yaxis\": \"y2\"}],                        {\"barmode\": \"relative\", \"legend\": {\"title\": {\"text\": \"variable\"}, \"tracegroupgap\": 0}, \"template\": {\"data\": {\"bar\": [{\"error_x\": {\"color\": \"#2a3f5f\"}, \"error_y\": {\"color\": \"#2a3f5f\"}, \"marker\": {\"line\": {\"color\": \"#E5ECF6\", \"width\": 0.5}}, \"type\": \"bar\"}], \"barpolar\": [{\"marker\": {\"line\": {\"color\": \"#E5ECF6\", \"width\": 0.5}}, \"type\": \"barpolar\"}], \"carpet\": [{\"aaxis\": {\"endlinecolor\": \"#2a3f5f\", \"gridcolor\": \"white\", \"linecolor\": \"white\", \"minorgridcolor\": \"white\", \"startlinecolor\": \"#2a3f5f\"}, \"baxis\": {\"endlinecolor\": \"#2a3f5f\", \"gridcolor\": \"white\", \"linecolor\": \"white\", \"minorgridcolor\": \"white\", \"startlinecolor\": \"#2a3f5f\"}, \"type\": \"carpet\"}], \"choropleth\": [{\"colorbar\": {\"outlinewidth\": 0, \"ticks\": \"\"}, \"type\": \"choropleth\"}], \"contour\": [{\"colorbar\": {\"outlinewidth\": 0, \"ticks\": \"\"}, \"colorscale\": [[0.0, \"#0d0887\"], [0.1111111111111111, \"#46039f\"], [0.2222222222222222, \"#7201a8\"], [0.3333333333333333, \"#9c179e\"], [0.4444444444444444, \"#bd3786\"], [0.5555555555555556, \"#d8576b\"], [0.6666666666666666, \"#ed7953\"], [0.7777777777777778, \"#fb9f3a\"], [0.8888888888888888, \"#fdca26\"], [1.0, \"#f0f921\"]], \"type\": \"contour\"}], \"contourcarpet\": [{\"colorbar\": {\"outlinewidth\": 0, \"ticks\": \"\"}, \"type\": \"contourcarpet\"}], \"heatmap\": [{\"colorbar\": {\"outlinewidth\": 0, \"ticks\": \"\"}, \"colorscale\": [[0.0, \"#0d0887\"], [0.1111111111111111, \"#46039f\"], [0.2222222222222222, \"#7201a8\"], [0.3333333333333333, \"#9c179e\"], [0.4444444444444444, \"#bd3786\"], [0.5555555555555556, \"#d8576b\"], [0.6666666666666666, \"#ed7953\"], [0.7777777777777778, \"#fb9f3a\"], [0.8888888888888888, \"#fdca26\"], [1.0, \"#f0f921\"]], \"type\": \"heatmap\"}], \"heatmapgl\": [{\"colorbar\": {\"outlinewidth\": 0, \"ticks\": \"\"}, \"colorscale\": [[0.0, \"#0d0887\"], [0.1111111111111111, \"#46039f\"], [0.2222222222222222, \"#7201a8\"], [0.3333333333333333, \"#9c179e\"], [0.4444444444444444, \"#bd3786\"], [0.5555555555555556, \"#d8576b\"], [0.6666666666666666, \"#ed7953\"], [0.7777777777777778, \"#fb9f3a\"], [0.8888888888888888, \"#fdca26\"], [1.0, \"#f0f921\"]], \"type\": \"heatmapgl\"}], \"histogram\": [{\"marker\": {\"colorbar\": {\"outlinewidth\": 0, \"ticks\": \"\"}}, \"type\": \"histogram\"}], \"histogram2d\": [{\"colorbar\": {\"outlinewidth\": 0, \"ticks\": \"\"}, \"colorscale\": [[0.0, \"#0d0887\"], [0.1111111111111111, \"#46039f\"], [0.2222222222222222, \"#7201a8\"], [0.3333333333333333, \"#9c179e\"], [0.4444444444444444, \"#bd3786\"], [0.5555555555555556, \"#d8576b\"], [0.6666666666666666, \"#ed7953\"], [0.7777777777777778, \"#fb9f3a\"], [0.8888888888888888, \"#fdca26\"], [1.0, \"#f0f921\"]], \"type\": \"histogram2d\"}], \"histogram2dcontour\": [{\"colorbar\": {\"outlinewidth\": 0, \"ticks\": \"\"}, \"colorscale\": [[0.0, \"#0d0887\"], [0.1111111111111111, \"#46039f\"], [0.2222222222222222, \"#7201a8\"], [0.3333333333333333, \"#9c179e\"], [0.4444444444444444, \"#bd3786\"], [0.5555555555555556, \"#d8576b\"], [0.6666666666666666, \"#ed7953\"], [0.7777777777777778, \"#fb9f3a\"], [0.8888888888888888, \"#fdca26\"], [1.0, \"#f0f921\"]], \"type\": \"histogram2dcontour\"}], \"mesh3d\": [{\"colorbar\": {\"outlinewidth\": 0, \"ticks\": \"\"}, \"type\": \"mesh3d\"}], \"parcoords\": [{\"line\": {\"colorbar\": {\"outlinewidth\": 0, \"ticks\": \"\"}}, \"type\": \"parcoords\"}], \"pie\": [{\"automargin\": true, \"type\": \"pie\"}], \"scatter\": [{\"marker\": {\"colorbar\": {\"outlinewidth\": 0, \"ticks\": \"\"}}, \"type\": \"scatter\"}], \"scatter3d\": [{\"line\": {\"colorbar\": {\"outlinewidth\": 0, \"ticks\": \"\"}}, \"marker\": {\"colorbar\": {\"outlinewidth\": 0, \"ticks\": \"\"}}, \"type\": \"scatter3d\"}], \"scattercarpet\": [{\"marker\": {\"colorbar\": {\"outlinewidth\": 0, \"ticks\": \"\"}}, \"type\": \"scattercarpet\"}], \"scattergeo\": [{\"marker\": {\"colorbar\": {\"outlinewidth\": 0, \"ticks\": \"\"}}, \"type\": \"scattergeo\"}], \"scattergl\": [{\"marker\": {\"colorbar\": {\"outlinewidth\": 0, \"ticks\": \"\"}}, \"type\": \"scattergl\"}], \"scattermapbox\": [{\"marker\": {\"colorbar\": {\"outlinewidth\": 0, \"ticks\": \"\"}}, \"type\": \"scattermapbox\"}], \"scatterpolar\": [{\"marker\": {\"colorbar\": {\"outlinewidth\": 0, \"ticks\": \"\"}}, \"type\": \"scatterpolar\"}], \"scatterpolargl\": [{\"marker\": {\"colorbar\": {\"outlinewidth\": 0, \"ticks\": \"\"}}, \"type\": \"scatterpolargl\"}], \"scatterternary\": [{\"marker\": {\"colorbar\": {\"outlinewidth\": 0, \"ticks\": \"\"}}, \"type\": \"scatterternary\"}], \"surface\": [{\"colorbar\": {\"outlinewidth\": 0, \"ticks\": \"\"}, \"colorscale\": [[0.0, \"#0d0887\"], [0.1111111111111111, \"#46039f\"], [0.2222222222222222, \"#7201a8\"], [0.3333333333333333, \"#9c179e\"], [0.4444444444444444, \"#bd3786\"], [0.5555555555555556, \"#d8576b\"], [0.6666666666666666, \"#ed7953\"], [0.7777777777777778, \"#fb9f3a\"], [0.8888888888888888, \"#fdca26\"], [1.0, \"#f0f921\"]], \"type\": \"surface\"}], \"table\": [{\"cells\": {\"fill\": {\"color\": \"#EBF0F8\"}, \"line\": {\"color\": \"white\"}}, \"header\": {\"fill\": {\"color\": \"#C8D4E3\"}, \"line\": {\"color\": \"white\"}}, \"type\": \"table\"}]}, \"layout\": {\"annotationdefaults\": {\"arrowcolor\": \"#2a3f5f\", \"arrowhead\": 0, \"arrowwidth\": 1}, \"coloraxis\": {\"colorbar\": {\"outlinewidth\": 0, \"ticks\": \"\"}}, \"colorscale\": {\"diverging\": [[0, \"#8e0152\"], [0.1, \"#c51b7d\"], [0.2, \"#de77ae\"], [0.3, \"#f1b6da\"], [0.4, \"#fde0ef\"], [0.5, \"#f7f7f7\"], [0.6, \"#e6f5d0\"], [0.7, \"#b8e186\"], [0.8, \"#7fbc41\"], [0.9, \"#4d9221\"], [1, \"#276419\"]], \"sequential\": [[0.0, \"#0d0887\"], [0.1111111111111111, \"#46039f\"], [0.2222222222222222, \"#7201a8\"], [0.3333333333333333, \"#9c179e\"], [0.4444444444444444, \"#bd3786\"], [0.5555555555555556, \"#d8576b\"], [0.6666666666666666, \"#ed7953\"], [0.7777777777777778, \"#fb9f3a\"], [0.8888888888888888, \"#fdca26\"], [1.0, \"#f0f921\"]], \"sequentialminus\": [[0.0, \"#0d0887\"], [0.1111111111111111, \"#46039f\"], [0.2222222222222222, \"#7201a8\"], [0.3333333333333333, \"#9c179e\"], [0.4444444444444444, \"#bd3786\"], [0.5555555555555556, \"#d8576b\"], [0.6666666666666666, \"#ed7953\"], [0.7777777777777778, \"#fb9f3a\"], [0.8888888888888888, \"#fdca26\"], [1.0, \"#f0f921\"]]}, \"colorway\": [\"#636efa\", \"#EF553B\", \"#00cc96\", \"#ab63fa\", \"#FFA15A\", \"#19d3f3\", \"#FF6692\", \"#B6E880\", \"#FF97FF\", \"#FECB52\"], \"font\": {\"color\": \"#2a3f5f\"}, \"geo\": {\"bgcolor\": \"white\", \"lakecolor\": \"white\", \"landcolor\": \"#E5ECF6\", \"showlakes\": true, \"showland\": true, \"subunitcolor\": \"white\"}, \"hoverlabel\": {\"align\": \"left\"}, \"hovermode\": \"closest\", \"mapbox\": {\"style\": \"light\"}, \"paper_bgcolor\": \"white\", \"plot_bgcolor\": \"#E5ECF6\", \"polar\": {\"angularaxis\": {\"gridcolor\": \"white\", \"linecolor\": \"white\", \"ticks\": \"\"}, \"bgcolor\": \"#E5ECF6\", \"radialaxis\": {\"gridcolor\": \"white\", \"linecolor\": \"white\", \"ticks\": \"\"}}, \"scene\": {\"xaxis\": {\"backgroundcolor\": \"#E5ECF6\", \"gridcolor\": \"white\", \"gridwidth\": 2, \"linecolor\": \"white\", \"showbackground\": true, \"ticks\": \"\", \"zerolinecolor\": \"white\"}, \"yaxis\": {\"backgroundcolor\": \"#E5ECF6\", \"gridcolor\": \"white\", \"gridwidth\": 2, \"linecolor\": \"white\", \"showbackground\": true, \"ticks\": \"\", \"zerolinecolor\": \"white\"}, \"zaxis\": {\"backgroundcolor\": \"#E5ECF6\", \"gridcolor\": \"white\", \"gridwidth\": 2, \"linecolor\": \"white\", \"showbackground\": true, \"ticks\": \"\", \"zerolinecolor\": \"white\"}}, \"shapedefaults\": {\"line\": {\"color\": \"#2a3f5f\"}}, \"ternary\": {\"aaxis\": {\"gridcolor\": \"white\", \"linecolor\": \"white\", \"ticks\": \"\"}, \"baxis\": {\"gridcolor\": \"white\", \"linecolor\": \"white\", \"ticks\": \"\"}, \"bgcolor\": \"#E5ECF6\", \"caxis\": {\"gridcolor\": \"white\", \"linecolor\": \"white\", \"ticks\": \"\"}}, \"title\": {\"x\": 0.05}, \"xaxis\": {\"automargin\": true, \"gridcolor\": \"white\", \"linecolor\": \"white\", \"ticks\": \"\", \"title\": {\"standoff\": 15}, \"zerolinecolor\": \"white\", \"zerolinewidth\": 2}, \"yaxis\": {\"automargin\": true, \"gridcolor\": \"white\", \"linecolor\": \"white\", \"ticks\": \"\", \"title\": {\"standoff\": 15}, \"zerolinecolor\": \"white\", \"zerolinewidth\": 2}}}, \"title\": {\"text\": \"Distribution of the Acutal and Predicted Values\"}, \"xaxis\": {\"anchor\": \"y\", \"domain\": [0.0, 1.0], \"range\": [15, 65], \"title\": {\"text\": \"value\"}}, \"xaxis2\": {\"anchor\": \"y2\", \"domain\": [0.0, 1.0], \"matches\": \"x\", \"showgrid\": true, \"showticklabels\": false}, \"yaxis\": {\"anchor\": \"x\", \"domain\": [0.0, 0.7326], \"title\": {\"text\": \"count\"}}, \"yaxis2\": {\"anchor\": \"x2\", \"domain\": [0.7426, 1.0], \"matches\": \"y2\", \"showgrid\": false, \"showline\": false, \"showticklabels\": false, \"ticks\": \"\"}},                        {\"responsive\": true}                    ).then(function(){\n",
       "                            \n",
       "var gd = document.getElementById('702a462e-4e33-478f-9c41-d72d23b90b74');\n",
       "var x = new MutationObserver(function (mutations, observer) {{\n",
       "        var display = window.getComputedStyle(gd).display;\n",
       "        if (!display || display === 'none') {{\n",
       "            console.log([gd, 'removed!']);\n",
       "            Plotly.purge(gd);\n",
       "            observer.disconnect();\n",
       "        }}\n",
       "}});\n",
       "\n",
       "// Listen for the removal of the full notebook cells\n",
       "var notebookContainer = gd.closest('#notebook-container');\n",
       "if (notebookContainer) {{\n",
       "    x.observe(notebookContainer, {childList: true});\n",
       "}}\n",
       "\n",
       "// Listen for the clearing of the current output cell\n",
       "var outputEl = gd.closest('.output');\n",
       "if (outputEl) {{\n",
       "    x.observe(outputEl, {childList: true});\n",
       "}}\n",
       "\n",
       "                        })                };                });            </script>        </div>"
      ]
     },
     "metadata": {},
     "output_type": "display_data"
    }
   ],
   "source": [
    "results=pd.DataFrame({\"Actual\":y_test,\"Predicted\":y_predict})\n",
    "\n",
    "px.histogram(results,x=[\"Actual\",\"Predicted\"],nbins=20,range_x=[15,65],opacity=0.3,marginal=\"rug\",\n",
    "            title=\"Distribution of the Acutal and Predicted Values\")"
   ]
  },
  {
   "cell_type": "code",
   "execution_count": 31,
   "metadata": {
    "execution": {
     "iopub.execute_input": "2020-12-29T23:15:25.526957Z",
     "iopub.status.busy": "2020-12-29T23:15:25.526261Z",
     "iopub.status.idle": "2020-12-29T23:15:25.535888Z",
     "shell.execute_reply": "2020-12-29T23:15:25.535361Z"
    },
    "papermill": {
     "duration": 0.066917,
     "end_time": "2020-12-29T23:15:25.536010",
     "exception": false,
     "start_time": "2020-12-29T23:15:25.469093",
     "status": "completed"
    },
    "tags": []
   },
   "outputs": [
    {
     "data": {
      "text/plain": [
       "Ttest_indResult(statistic=0.4132021588854063, pvalue=0.6817810024407129)"
      ]
     },
     "execution_count": 31,
     "metadata": {},
     "output_type": "execute_result"
    }
   ],
   "source": [
    "a=results[\"Actual\"]\n",
    "b=results[\"Predicted\"]\n",
    "\n",
    "stats.ttest_ind(a,b)"
   ]
  },
  {
   "cell_type": "code",
   "execution_count": 32,
   "metadata": {
    "execution": {
     "iopub.execute_input": "2020-12-29T23:15:25.674764Z",
     "iopub.status.busy": "2020-12-29T23:15:25.673494Z",
     "iopub.status.idle": "2020-12-29T23:15:25.691182Z",
     "shell.execute_reply": "2020-12-29T23:15:25.691696Z"
    },
    "papermill": {
     "duration": 0.100684,
     "end_time": "2020-12-29T23:15:25.691977",
     "exception": false,
     "start_time": "2020-12-29T23:15:25.591293",
     "status": "completed"
    },
    "tags": []
   },
   "outputs": [
    {
     "data": {
      "text/html": [
       "<style  type=\"text/css\" >\n",
       "#T_bba05816_4a2b_11eb_959e_0242ac130202row0_col0,#T_bba05816_4a2b_11eb_959e_0242ac130202row0_col4,#T_bba05816_4a2b_11eb_959e_0242ac130202row0_col5,#T_bba05816_4a2b_11eb_959e_0242ac130202row1_col1,#T_bba05816_4a2b_11eb_959e_0242ac130202row1_col2,#T_bba05816_4a2b_11eb_959e_0242ac130202row1_col3{\n",
       "            background-color:  #3b4cc0;\n",
       "            color:  #f1f1f1;\n",
       "        }#T_bba05816_4a2b_11eb_959e_0242ac130202row0_col1,#T_bba05816_4a2b_11eb_959e_0242ac130202row0_col2,#T_bba05816_4a2b_11eb_959e_0242ac130202row0_col3,#T_bba05816_4a2b_11eb_959e_0242ac130202row1_col0,#T_bba05816_4a2b_11eb_959e_0242ac130202row1_col4,#T_bba05816_4a2b_11eb_959e_0242ac130202row1_col5{\n",
       "            background-color:  #b40426;\n",
       "            color:  #f1f1f1;\n",
       "        }</style><table id=\"T_bba05816_4a2b_11eb_959e_0242ac130202\" ><thead>    <tr>        <th class=\"blank level0\" ></th>        <th class=\"col_heading level0 col0\" >Min</th>        <th class=\"col_heading level0 col1\" >Max</th>        <th class=\"col_heading level0 col2\" >Mean</th>        <th class=\"col_heading level0 col3\" >Standard Deviation</th>        <th class=\"col_heading level0 col4\" >Skew</th>        <th class=\"col_heading level0 col5\" >Kurtosis</th>    </tr></thead><tbody>\n",
       "                <tr>\n",
       "                        <th id=\"T_bba05816_4a2b_11eb_959e_0242ac130202level0_row0\" class=\"row_heading level0 row0\" >Actual</th>\n",
       "                        <td id=\"T_bba05816_4a2b_11eb_959e_0242ac130202row0_col0\" class=\"data row0 col0\" >19.823573</td>\n",
       "                        <td id=\"T_bba05816_4a2b_11eb_959e_0242ac130202row0_col1\" class=\"data row0 col1\" >64.533816</td>\n",
       "                        <td id=\"T_bba05816_4a2b_11eb_959e_0242ac130202row0_col2\" class=\"data row0 col2\" >41.297828</td>\n",
       "                        <td id=\"T_bba05816_4a2b_11eb_959e_0242ac130202row0_col3\" class=\"data row0 col3\" >11.979021</td>\n",
       "                        <td id=\"T_bba05816_4a2b_11eb_959e_0242ac130202row0_col4\" class=\"data row0 col4\" >0.283683</td>\n",
       "                        <td id=\"T_bba05816_4a2b_11eb_959e_0242ac130202row0_col5\" class=\"data row0 col5\" >-0.400146</td>\n",
       "            </tr>\n",
       "            <tr>\n",
       "                        <th id=\"T_bba05816_4a2b_11eb_959e_0242ac130202level0_row1\" class=\"row_heading level0 row1\" >Predicted</th>\n",
       "                        <td id=\"T_bba05816_4a2b_11eb_959e_0242ac130202row1_col0\" class=\"data row1 col0\" >26.107569</td>\n",
       "                        <td id=\"T_bba05816_4a2b_11eb_959e_0242ac130202row1_col1\" class=\"data row1 col1\" >64.354052</td>\n",
       "                        <td id=\"T_bba05816_4a2b_11eb_959e_0242ac130202row1_col2\" class=\"data row1 col2\" >39.867140</td>\n",
       "                        <td id=\"T_bba05816_4a2b_11eb_959e_0242ac130202row1_col3\" class=\"data row1 col3\" >9.811869</td>\n",
       "                        <td id=\"T_bba05816_4a2b_11eb_959e_0242ac130202row1_col4\" class=\"data row1 col4\" >0.855533</td>\n",
       "                        <td id=\"T_bba05816_4a2b_11eb_959e_0242ac130202row1_col5\" class=\"data row1 col5\" >0.249976</td>\n",
       "            </tr>\n",
       "    </tbody></table>"
      ],
      "text/plain": [
       "<pandas.io.formats.style.Styler at 0x7f37fc1545d0>"
      ]
     },
     "execution_count": 32,
     "metadata": {},
     "output_type": "execute_result"
    }
   ],
   "source": [
    "smin=[stats.tmin(results[i]) for i in results.columns]\n",
    "smax=[stats.tmax(results[i]) for i in results.columns]\n",
    "smean=[stats.tmean(results[i]) for i in results.columns]\n",
    "sstd=[stats.tstd(results[i]) for i in results.columns]\n",
    "sskew=[stats.skew(results[i]) for i in results.columns]\n",
    "skurtosis=[stats.kurtosis(results[i]) for i in results.columns]\n",
    "\n",
    "stable=pd.DataFrame({\"Min\":smin,\"Max\":smax,\"Mean\":smean,\"Standard Deviation\":sstd,\"Skew\":sskew,\"Kurtosis\":skurtosis},index=results.columns)\n",
    "stable.style.background_gradient(cmap=\"coolwarm\")"
   ]
  },
  {
   "cell_type": "markdown",
   "metadata": {
    "papermill": {
     "duration": 0.056806,
     "end_time": "2020-12-29T23:15:25.804009",
     "exception": false,
     "start_time": "2020-12-29T23:15:25.747203",
     "status": "completed"
    },
    "tags": []
   },
   "source": [
    "The model is 72% accurate with the actual and predicted results not statistically different having a similar mean and standard deviation, the same maximum value and acceptable kurtosis. Where the acutal and predicted results differ is a larger predicted minimum value and a more skewed predicted distribution."
   ]
  },
  {
   "cell_type": "markdown",
   "metadata": {
    "papermill": {
     "duration": 0.054985,
     "end_time": "2020-12-29T23:15:25.920906",
     "exception": false,
     "start_time": "2020-12-29T23:15:25.865921",
     "status": "completed"
    },
    "tags": []
   },
   "source": [
    "As with k-nearest neighbours we can choose the number of nearest neighbours the model should look for. Maybe we can improve the model's accuracy by testing the model for the most optimal number of neighbours!"
   ]
  },
  {
   "cell_type": "code",
   "execution_count": 33,
   "metadata": {
    "execution": {
     "iopub.execute_input": "2020-12-29T23:15:26.048913Z",
     "iopub.status.busy": "2020-12-29T23:15:26.044911Z",
     "iopub.status.idle": "2020-12-29T23:15:26.159300Z",
     "shell.execute_reply": "2020-12-29T23:15:26.159987Z"
    },
    "papermill": {
     "duration": 0.183471,
     "end_time": "2020-12-29T23:15:26.160158",
     "exception": false,
     "start_time": "2020-12-29T23:15:25.976687",
     "status": "completed"
    },
    "tags": []
   },
   "outputs": [
    {
     "data": {
      "text/html": [
       "<div>                            <div id=\"d7b7aa9f-9273-4ec6-a8a2-aeacb40a1521\" class=\"plotly-graph-div\" style=\"height:525px; width:100%;\"></div>            <script type=\"text/javascript\">                require([\"plotly\"], function(Plotly) {                    window.PLOTLYENV=window.PLOTLYENV || {};                                    if (document.getElementById(\"d7b7aa9f-9273-4ec6-a8a2-aeacb40a1521\")) {                    Plotly.newPlot(                        \"d7b7aa9f-9273-4ec6-a8a2-aeacb40a1521\",                        [{\"hovertemplate\": \"No of Neighbours=%{x}<br>Score=%{y}<extra></extra>\", \"legendgroup\": \"\", \"line\": {\"color\": \"slateblue\", \"dash\": \"solid\"}, \"mode\": \"lines\", \"name\": \"\", \"orientation\": \"v\", \"showlegend\": false, \"type\": \"scatter\", \"x\": [1, 2, 3, 4, 5, 6, 7, 8, 9, 10, 11, 12, 13, 14, 15, 16, 17, 18, 19], \"xaxis\": \"x\", \"y\": [0.22755811061574183, 0.4523391794043857, 0.5972507690737542, 0.5904010892577782, 0.718367798190463, 0.7091562928872385, 0.6642178745867164, 0.6840130225900773, 0.6737850244104837, 0.6040873871925425, 0.6011432099006053, 0.581471220748214, 0.5846264553782382, 0.5786894908029206, 0.5437378460228227, 0.5427206113889333, 0.5587547452351438, 0.6079666264187136, 0.57542417762613], \"yaxis\": \"y\"}],                        {\"annotations\": [{\"arrowhead\": 2, \"arrowsize\": 1, \"arrowwidth\": 1.5, \"standoff\": 0, \"text\": \"Optimal number of neighbours, which <br> was already implemented in the initial model!\", \"x\": 5, \"y\": 0.73}], \"legend\": {\"tracegroupgap\": 0}, \"margin\": {\"t\": 60}, \"template\": {\"data\": {\"bar\": [{\"error_x\": {\"color\": \"#2a3f5f\"}, \"error_y\": {\"color\": \"#2a3f5f\"}, \"marker\": {\"line\": {\"color\": \"#E5ECF6\", \"width\": 0.5}}, \"type\": \"bar\"}], \"barpolar\": [{\"marker\": {\"line\": {\"color\": \"#E5ECF6\", \"width\": 0.5}}, \"type\": \"barpolar\"}], \"carpet\": [{\"aaxis\": {\"endlinecolor\": \"#2a3f5f\", \"gridcolor\": \"white\", \"linecolor\": \"white\", \"minorgridcolor\": \"white\", \"startlinecolor\": \"#2a3f5f\"}, \"baxis\": {\"endlinecolor\": \"#2a3f5f\", \"gridcolor\": \"white\", \"linecolor\": \"white\", \"minorgridcolor\": \"white\", \"startlinecolor\": \"#2a3f5f\"}, \"type\": \"carpet\"}], \"choropleth\": [{\"colorbar\": {\"outlinewidth\": 0, \"ticks\": \"\"}, \"type\": \"choropleth\"}], \"contour\": [{\"colorbar\": {\"outlinewidth\": 0, \"ticks\": \"\"}, \"colorscale\": [[0.0, \"#0d0887\"], [0.1111111111111111, \"#46039f\"], [0.2222222222222222, \"#7201a8\"], [0.3333333333333333, \"#9c179e\"], [0.4444444444444444, \"#bd3786\"], [0.5555555555555556, \"#d8576b\"], [0.6666666666666666, \"#ed7953\"], [0.7777777777777778, \"#fb9f3a\"], [0.8888888888888888, \"#fdca26\"], [1.0, \"#f0f921\"]], \"type\": \"contour\"}], \"contourcarpet\": [{\"colorbar\": {\"outlinewidth\": 0, \"ticks\": \"\"}, \"type\": \"contourcarpet\"}], \"heatmap\": [{\"colorbar\": {\"outlinewidth\": 0, \"ticks\": \"\"}, \"colorscale\": [[0.0, \"#0d0887\"], [0.1111111111111111, \"#46039f\"], [0.2222222222222222, \"#7201a8\"], [0.3333333333333333, \"#9c179e\"], [0.4444444444444444, \"#bd3786\"], [0.5555555555555556, \"#d8576b\"], [0.6666666666666666, \"#ed7953\"], [0.7777777777777778, \"#fb9f3a\"], [0.8888888888888888, \"#fdca26\"], [1.0, \"#f0f921\"]], \"type\": \"heatmap\"}], \"heatmapgl\": [{\"colorbar\": {\"outlinewidth\": 0, \"ticks\": \"\"}, \"colorscale\": [[0.0, \"#0d0887\"], [0.1111111111111111, \"#46039f\"], [0.2222222222222222, \"#7201a8\"], [0.3333333333333333, \"#9c179e\"], [0.4444444444444444, \"#bd3786\"], [0.5555555555555556, \"#d8576b\"], [0.6666666666666666, \"#ed7953\"], [0.7777777777777778, \"#fb9f3a\"], [0.8888888888888888, \"#fdca26\"], [1.0, \"#f0f921\"]], \"type\": \"heatmapgl\"}], \"histogram\": [{\"marker\": {\"colorbar\": {\"outlinewidth\": 0, \"ticks\": \"\"}}, \"type\": \"histogram\"}], \"histogram2d\": [{\"colorbar\": {\"outlinewidth\": 0, \"ticks\": \"\"}, \"colorscale\": [[0.0, \"#0d0887\"], [0.1111111111111111, \"#46039f\"], [0.2222222222222222, \"#7201a8\"], [0.3333333333333333, \"#9c179e\"], [0.4444444444444444, \"#bd3786\"], [0.5555555555555556, \"#d8576b\"], [0.6666666666666666, \"#ed7953\"], [0.7777777777777778, \"#fb9f3a\"], [0.8888888888888888, \"#fdca26\"], [1.0, \"#f0f921\"]], \"type\": \"histogram2d\"}], \"histogram2dcontour\": [{\"colorbar\": {\"outlinewidth\": 0, \"ticks\": \"\"}, \"colorscale\": [[0.0, \"#0d0887\"], [0.1111111111111111, \"#46039f\"], [0.2222222222222222, \"#7201a8\"], [0.3333333333333333, \"#9c179e\"], [0.4444444444444444, \"#bd3786\"], [0.5555555555555556, \"#d8576b\"], [0.6666666666666666, \"#ed7953\"], [0.7777777777777778, \"#fb9f3a\"], [0.8888888888888888, \"#fdca26\"], [1.0, \"#f0f921\"]], \"type\": \"histogram2dcontour\"}], \"mesh3d\": [{\"colorbar\": {\"outlinewidth\": 0, \"ticks\": \"\"}, \"type\": \"mesh3d\"}], \"parcoords\": [{\"line\": {\"colorbar\": {\"outlinewidth\": 0, \"ticks\": \"\"}}, \"type\": \"parcoords\"}], \"pie\": [{\"automargin\": true, \"type\": \"pie\"}], \"scatter\": [{\"marker\": {\"colorbar\": {\"outlinewidth\": 0, \"ticks\": \"\"}}, \"type\": \"scatter\"}], \"scatter3d\": [{\"line\": {\"colorbar\": {\"outlinewidth\": 0, \"ticks\": \"\"}}, \"marker\": {\"colorbar\": {\"outlinewidth\": 0, \"ticks\": \"\"}}, \"type\": \"scatter3d\"}], \"scattercarpet\": [{\"marker\": {\"colorbar\": {\"outlinewidth\": 0, \"ticks\": \"\"}}, \"type\": \"scattercarpet\"}], \"scattergeo\": [{\"marker\": {\"colorbar\": {\"outlinewidth\": 0, \"ticks\": \"\"}}, \"type\": \"scattergeo\"}], \"scattergl\": [{\"marker\": {\"colorbar\": {\"outlinewidth\": 0, \"ticks\": \"\"}}, \"type\": \"scattergl\"}], \"scattermapbox\": [{\"marker\": {\"colorbar\": {\"outlinewidth\": 0, \"ticks\": \"\"}}, \"type\": \"scattermapbox\"}], \"scatterpolar\": [{\"marker\": {\"colorbar\": {\"outlinewidth\": 0, \"ticks\": \"\"}}, \"type\": \"scatterpolar\"}], \"scatterpolargl\": [{\"marker\": {\"colorbar\": {\"outlinewidth\": 0, \"ticks\": \"\"}}, \"type\": \"scatterpolargl\"}], \"scatterternary\": [{\"marker\": {\"colorbar\": {\"outlinewidth\": 0, \"ticks\": \"\"}}, \"type\": \"scatterternary\"}], \"surface\": [{\"colorbar\": {\"outlinewidth\": 0, \"ticks\": \"\"}, \"colorscale\": [[0.0, \"#0d0887\"], [0.1111111111111111, \"#46039f\"], [0.2222222222222222, \"#7201a8\"], [0.3333333333333333, \"#9c179e\"], [0.4444444444444444, \"#bd3786\"], [0.5555555555555556, \"#d8576b\"], [0.6666666666666666, \"#ed7953\"], [0.7777777777777778, \"#fb9f3a\"], [0.8888888888888888, \"#fdca26\"], [1.0, \"#f0f921\"]], \"type\": \"surface\"}], \"table\": [{\"cells\": {\"fill\": {\"color\": \"#EBF0F8\"}, \"line\": {\"color\": \"white\"}}, \"header\": {\"fill\": {\"color\": \"#C8D4E3\"}, \"line\": {\"color\": \"white\"}}, \"type\": \"table\"}]}, \"layout\": {\"annotationdefaults\": {\"arrowcolor\": \"#2a3f5f\", \"arrowhead\": 0, \"arrowwidth\": 1}, \"coloraxis\": {\"colorbar\": {\"outlinewidth\": 0, \"ticks\": \"\"}}, \"colorscale\": {\"diverging\": [[0, \"#8e0152\"], [0.1, \"#c51b7d\"], [0.2, \"#de77ae\"], [0.3, \"#f1b6da\"], [0.4, \"#fde0ef\"], [0.5, \"#f7f7f7\"], [0.6, \"#e6f5d0\"], [0.7, \"#b8e186\"], [0.8, \"#7fbc41\"], [0.9, \"#4d9221\"], [1, \"#276419\"]], \"sequential\": [[0.0, \"#0d0887\"], [0.1111111111111111, \"#46039f\"], [0.2222222222222222, \"#7201a8\"], [0.3333333333333333, \"#9c179e\"], [0.4444444444444444, \"#bd3786\"], [0.5555555555555556, \"#d8576b\"], [0.6666666666666666, \"#ed7953\"], [0.7777777777777778, \"#fb9f3a\"], [0.8888888888888888, \"#fdca26\"], [1.0, \"#f0f921\"]], \"sequentialminus\": [[0.0, \"#0d0887\"], [0.1111111111111111, \"#46039f\"], [0.2222222222222222, \"#7201a8\"], [0.3333333333333333, \"#9c179e\"], [0.4444444444444444, \"#bd3786\"], [0.5555555555555556, \"#d8576b\"], [0.6666666666666666, \"#ed7953\"], [0.7777777777777778, \"#fb9f3a\"], [0.8888888888888888, \"#fdca26\"], [1.0, \"#f0f921\"]]}, \"colorway\": [\"#636efa\", \"#EF553B\", \"#00cc96\", \"#ab63fa\", \"#FFA15A\", \"#19d3f3\", \"#FF6692\", \"#B6E880\", \"#FF97FF\", \"#FECB52\"], \"font\": {\"color\": \"#2a3f5f\"}, \"geo\": {\"bgcolor\": \"white\", \"lakecolor\": \"white\", \"landcolor\": \"#E5ECF6\", \"showlakes\": true, \"showland\": true, \"subunitcolor\": \"white\"}, \"hoverlabel\": {\"align\": \"left\"}, \"hovermode\": \"closest\", \"mapbox\": {\"style\": \"light\"}, \"paper_bgcolor\": \"white\", \"plot_bgcolor\": \"#E5ECF6\", \"polar\": {\"angularaxis\": {\"gridcolor\": \"white\", \"linecolor\": \"white\", \"ticks\": \"\"}, \"bgcolor\": \"#E5ECF6\", \"radialaxis\": {\"gridcolor\": \"white\", \"linecolor\": \"white\", \"ticks\": \"\"}}, \"scene\": {\"xaxis\": {\"backgroundcolor\": \"#E5ECF6\", \"gridcolor\": \"white\", \"gridwidth\": 2, \"linecolor\": \"white\", \"showbackground\": true, \"ticks\": \"\", \"zerolinecolor\": \"white\"}, \"yaxis\": {\"backgroundcolor\": \"#E5ECF6\", \"gridcolor\": \"white\", \"gridwidth\": 2, \"linecolor\": \"white\", \"showbackground\": true, \"ticks\": \"\", \"zerolinecolor\": \"white\"}, \"zaxis\": {\"backgroundcolor\": \"#E5ECF6\", \"gridcolor\": \"white\", \"gridwidth\": 2, \"linecolor\": \"white\", \"showbackground\": true, \"ticks\": \"\", \"zerolinecolor\": \"white\"}}, \"shapedefaults\": {\"line\": {\"color\": \"#2a3f5f\"}}, \"ternary\": {\"aaxis\": {\"gridcolor\": \"white\", \"linecolor\": \"white\", \"ticks\": \"\"}, \"baxis\": {\"gridcolor\": \"white\", \"linecolor\": \"white\", \"ticks\": \"\"}, \"bgcolor\": \"#E5ECF6\", \"caxis\": {\"gridcolor\": \"white\", \"linecolor\": \"white\", \"ticks\": \"\"}}, \"title\": {\"x\": 0.05}, \"xaxis\": {\"automargin\": true, \"gridcolor\": \"white\", \"linecolor\": \"white\", \"ticks\": \"\", \"title\": {\"standoff\": 15}, \"zerolinecolor\": \"white\", \"zerolinewidth\": 2}, \"yaxis\": {\"automargin\": true, \"gridcolor\": \"white\", \"linecolor\": \"white\", \"ticks\": \"\", \"title\": {\"standoff\": 15}, \"zerolinecolor\": \"white\", \"zerolinewidth\": 2}}}, \"xaxis\": {\"anchor\": \"y\", \"domain\": [0.0, 1.0], \"title\": {\"text\": \"No of Neighbours\"}}, \"yaxis\": {\"anchor\": \"x\", \"domain\": [0.0, 1.0], \"range\": [0.2, 0.83], \"title\": {\"text\": \"Score\"}}},                        {\"responsive\": true}                    ).then(function(){\n",
       "                            \n",
       "var gd = document.getElementById('d7b7aa9f-9273-4ec6-a8a2-aeacb40a1521');\n",
       "var x = new MutationObserver(function (mutations, observer) {{\n",
       "        var display = window.getComputedStyle(gd).display;\n",
       "        if (!display || display === 'none') {{\n",
       "            console.log([gd, 'removed!']);\n",
       "            Plotly.purge(gd);\n",
       "            observer.disconnect();\n",
       "        }}\n",
       "}});\n",
       "\n",
       "// Listen for the removal of the full notebook cells\n",
       "var notebookContainer = gd.closest('#notebook-container');\n",
       "if (notebookContainer) {{\n",
       "    x.observe(notebookContainer, {childList: true});\n",
       "}}\n",
       "\n",
       "// Listen for the clearing of the current output cell\n",
       "var outputEl = gd.closest('.output');\n",
       "if (outputEl) {{\n",
       "    x.observe(outputEl, {childList: true});\n",
       "}}\n",
       "\n",
       "                        })                };                });            </script>        </div>"
      ]
     },
     "metadata": {},
     "output_type": "display_data"
    }
   ],
   "source": [
    "neighbours=list(range(1,20))\n",
    "score=[]\n",
    "\n",
    "for i in range (1,20):\n",
    "    model=KNeighborsRegressor(n_neighbors=i)\n",
    "    model.fit(x_train,y_train)\n",
    "    y_predict_i=model.predict(x_test)\n",
    "    score.append(model.score(x_test,y_test))\n",
    "\n",
    "neighbourlist=pd.DataFrame({\"No of Neighbours\":neighbours,\"Score\":score})\n",
    "\n",
    "fig=px.line(neighbourlist,x=\"No of Neighbours\",y=\"Score\",range_y=[0.2,0.83],color_discrete_sequence=[\"slateblue\"])\n",
    "fig.add_annotation(x=5,y=0.73,\n",
    "                   text=\"Optimal number of neighbours, which <br> was already implemented in the initial model!\",\n",
    "                   standoff=0,arrowsize=1,arrowwidth=1.5,arrowhead=2)"
   ]
  },
  {
   "cell_type": "markdown",
   "metadata": {
    "papermill": {
     "duration": 0.055547,
     "end_time": "2020-12-29T23:15:26.272139",
     "exception": false,
     "start_time": "2020-12-29T23:15:26.216592",
     "status": "completed"
    },
    "tags": []
   },
   "source": [
    "Our initial model already had the optimal number of neighbours.."
   ]
  },
  {
   "cell_type": "markdown",
   "metadata": {
    "papermill": {
     "duration": 0.05602,
     "end_time": "2020-12-29T23:15:26.384149",
     "exception": false,
     "start_time": "2020-12-29T23:15:26.328129",
     "status": "completed"
    },
    "tags": []
   },
   "source": [
    "But wait a minute!"
   ]
  },
  {
   "cell_type": "code",
   "execution_count": 34,
   "metadata": {
    "execution": {
     "iopub.execute_input": "2020-12-29T23:15:26.509735Z",
     "iopub.status.busy": "2020-12-29T23:15:26.507783Z",
     "iopub.status.idle": "2020-12-29T23:15:26.516736Z",
     "shell.execute_reply": "2020-12-29T23:15:26.517425Z"
    },
    "papermill": {
     "duration": 0.077293,
     "end_time": "2020-12-29T23:15:26.517605",
     "exception": false,
     "start_time": "2020-12-29T23:15:26.440312",
     "status": "completed"
    },
    "tags": []
   },
   "outputs": [
    {
     "data": {
      "text/plain": [
       "19"
      ]
     },
     "execution_count": 34,
     "metadata": {},
     "output_type": "execute_result"
    }
   ],
   "source": [
    "x.shape[1]"
   ]
  },
  {
   "cell_type": "code",
   "execution_count": 35,
   "metadata": {
    "execution": {
     "iopub.execute_input": "2020-12-29T23:15:26.646311Z",
     "iopub.status.busy": "2020-12-29T23:15:26.645032Z",
     "iopub.status.idle": "2020-12-29T23:15:26.651696Z",
     "shell.execute_reply": "2020-12-29T23:15:26.652228Z"
    },
    "papermill": {
     "duration": 0.073445,
     "end_time": "2020-12-29T23:15:26.652415",
     "exception": false,
     "start_time": "2020-12-29T23:15:26.578970",
     "status": "completed"
    },
    "tags": []
   },
   "outputs": [
    {
     "data": {
      "text/plain": [
       "Index(['Calories', 'Protein', 'Fat', 'Sodium', 'Fiber', 'Carbohydrates',\n",
       "       'Sugars', 'Potassium', 'Vitamins', 'Weight', 'Cups', 'A', 'G', 'K', 'N',\n",
       "       'P', 'Q', 'R', 'Cold'],\n",
       "      dtype='object')"
      ]
     },
     "execution_count": 35,
     "metadata": {},
     "output_type": "execute_result"
    }
   ],
   "source": [
    "x.columns"
   ]
  },
  {
   "cell_type": "markdown",
   "metadata": {
    "papermill": {
     "duration": 0.066228,
     "end_time": "2020-12-29T23:15:26.781929",
     "exception": false,
     "start_time": "2020-12-29T23:15:26.715701",
     "status": "completed"
    },
    "tags": []
   },
   "source": [
    "Our model was taking these 19 variables as input. We had already previously dropped unnecessary columns *Name* and *Shelf* but I wonder what the predictive power of these remaining variables are and if they are all important.."
   ]
  },
  {
   "cell_type": "code",
   "execution_count": 36,
   "metadata": {
    "execution": {
     "iopub.execute_input": "2020-12-29T23:15:26.910117Z",
     "iopub.status.busy": "2020-12-29T23:15:26.909059Z",
     "iopub.status.idle": "2020-12-29T23:15:26.944364Z",
     "shell.execute_reply": "2020-12-29T23:15:26.944928Z"
    },
    "papermill": {
     "duration": 0.09761,
     "end_time": "2020-12-29T23:15:26.945101",
     "exception": false,
     "start_time": "2020-12-29T23:15:26.847491",
     "status": "completed"
    },
    "tags": []
   },
   "outputs": [
    {
     "data": {
      "text/html": [
       "<style  type=\"text/css\" >\n",
       "#T_bc5f5720_4a2b_11eb_959e_0242ac130202row0_col1,#T_bc5f5720_4a2b_11eb_959e_0242ac130202row1_col1,#T_bc5f5720_4a2b_11eb_959e_0242ac130202row2_col1,#T_bc5f5720_4a2b_11eb_959e_0242ac130202row3_col1,#T_bc5f5720_4a2b_11eb_959e_0242ac130202row4_col1,#T_bc5f5720_4a2b_11eb_959e_0242ac130202row6_col1,#T_bc5f5720_4a2b_11eb_959e_0242ac130202row7_col1,#T_bc5f5720_4a2b_11eb_959e_0242ac130202row9_col1,#T_bc5f5720_4a2b_11eb_959e_0242ac130202row12_col1,#T_bc5f5720_4a2b_11eb_959e_0242ac130202row14_col1{\n",
       "            color: black;\n",
       "        }#T_bc5f5720_4a2b_11eb_959e_0242ac130202row5_col1,#T_bc5f5720_4a2b_11eb_959e_0242ac130202row8_col1,#T_bc5f5720_4a2b_11eb_959e_0242ac130202row10_col1,#T_bc5f5720_4a2b_11eb_959e_0242ac130202row11_col1,#T_bc5f5720_4a2b_11eb_959e_0242ac130202row13_col1,#T_bc5f5720_4a2b_11eb_959e_0242ac130202row15_col1,#T_bc5f5720_4a2b_11eb_959e_0242ac130202row16_col1,#T_bc5f5720_4a2b_11eb_959e_0242ac130202row17_col1,#T_bc5f5720_4a2b_11eb_959e_0242ac130202row18_col1{\n",
       "            color: red;\n",
       "        }</style><table id=\"T_bc5f5720_4a2b_11eb_959e_0242ac130202\" ><thead>    <tr>        <th class=\"blank level0\" ></th>        <th class=\"col_heading level0 col0\" >variable</th>        <th class=\"col_heading level0 col1\" >P-value</th>    </tr></thead><tbody>\n",
       "                <tr>\n",
       "                        <th id=\"T_bc5f5720_4a2b_11eb_959e_0242ac130202level0_row0\" class=\"row_heading level0 row0\" >0</th>\n",
       "                        <td id=\"T_bc5f5720_4a2b_11eb_959e_0242ac130202row0_col0\" class=\"data row0 col0\" >Calories</td>\n",
       "                        <td id=\"T_bc5f5720_4a2b_11eb_959e_0242ac130202row0_col1\" class=\"data row0 col1\" >0.000000</td>\n",
       "            </tr>\n",
       "            <tr>\n",
       "                        <th id=\"T_bc5f5720_4a2b_11eb_959e_0242ac130202level0_row1\" class=\"row_heading level0 row1\" >1</th>\n",
       "                        <td id=\"T_bc5f5720_4a2b_11eb_959e_0242ac130202row1_col0\" class=\"data row1 col0\" >Protein</td>\n",
       "                        <td id=\"T_bc5f5720_4a2b_11eb_959e_0242ac130202row1_col1\" class=\"data row1 col1\" >0.000154</td>\n",
       "            </tr>\n",
       "            <tr>\n",
       "                        <th id=\"T_bc5f5720_4a2b_11eb_959e_0242ac130202level0_row2\" class=\"row_heading level0 row2\" >2</th>\n",
       "                        <td id=\"T_bc5f5720_4a2b_11eb_959e_0242ac130202row2_col0\" class=\"data row2 col0\" >Fat</td>\n",
       "                        <td id=\"T_bc5f5720_4a2b_11eb_959e_0242ac130202row2_col1\" class=\"data row2 col1\" >0.000908</td>\n",
       "            </tr>\n",
       "            <tr>\n",
       "                        <th id=\"T_bc5f5720_4a2b_11eb_959e_0242ac130202level0_row3\" class=\"row_heading level0 row3\" >3</th>\n",
       "                        <td id=\"T_bc5f5720_4a2b_11eb_959e_0242ac130202row3_col0\" class=\"data row3 col0\" >Sodium</td>\n",
       "                        <td id=\"T_bc5f5720_4a2b_11eb_959e_0242ac130202row3_col1\" class=\"data row3 col1\" >0.001132</td>\n",
       "            </tr>\n",
       "            <tr>\n",
       "                        <th id=\"T_bc5f5720_4a2b_11eb_959e_0242ac130202level0_row4\" class=\"row_heading level0 row4\" >4</th>\n",
       "                        <td id=\"T_bc5f5720_4a2b_11eb_959e_0242ac130202row4_col0\" class=\"data row4 col0\" >Fiber</td>\n",
       "                        <td id=\"T_bc5f5720_4a2b_11eb_959e_0242ac130202row4_col1\" class=\"data row4 col1\" >0.000000</td>\n",
       "            </tr>\n",
       "            <tr>\n",
       "                        <th id=\"T_bc5f5720_4a2b_11eb_959e_0242ac130202level0_row5\" class=\"row_heading level0 row5\" >5</th>\n",
       "                        <td id=\"T_bc5f5720_4a2b_11eb_959e_0242ac130202row5_col0\" class=\"data row5 col0\" >Carbohydrates</td>\n",
       "                        <td id=\"T_bc5f5720_4a2b_11eb_959e_0242ac130202row5_col1\" class=\"data row5 col1\" >0.921237</td>\n",
       "            </tr>\n",
       "            <tr>\n",
       "                        <th id=\"T_bc5f5720_4a2b_11eb_959e_0242ac130202level0_row6\" class=\"row_heading level0 row6\" >6</th>\n",
       "                        <td id=\"T_bc5f5720_4a2b_11eb_959e_0242ac130202row6_col0\" class=\"data row6 col0\" >Sugars</td>\n",
       "                        <td id=\"T_bc5f5720_4a2b_11eb_959e_0242ac130202row6_col1\" class=\"data row6 col1\" >0.000000</td>\n",
       "            </tr>\n",
       "            <tr>\n",
       "                        <th id=\"T_bc5f5720_4a2b_11eb_959e_0242ac130202level0_row7\" class=\"row_heading level0 row7\" >7</th>\n",
       "                        <td id=\"T_bc5f5720_4a2b_11eb_959e_0242ac130202row7_col0\" class=\"data row7 col0\" >Potassium</td>\n",
       "                        <td id=\"T_bc5f5720_4a2b_11eb_959e_0242ac130202row7_col1\" class=\"data row7 col1\" >0.000266</td>\n",
       "            </tr>\n",
       "            <tr>\n",
       "                        <th id=\"T_bc5f5720_4a2b_11eb_959e_0242ac130202level0_row8\" class=\"row_heading level0 row8\" >8</th>\n",
       "                        <td id=\"T_bc5f5720_4a2b_11eb_959e_0242ac130202row8_col0\" class=\"data row8 col0\" >Vitamins</td>\n",
       "                        <td id=\"T_bc5f5720_4a2b_11eb_959e_0242ac130202row8_col1\" class=\"data row8 col1\" >0.081051</td>\n",
       "            </tr>\n",
       "            <tr>\n",
       "                        <th id=\"T_bc5f5720_4a2b_11eb_959e_0242ac130202level0_row9\" class=\"row_heading level0 row9\" >9</th>\n",
       "                        <td id=\"T_bc5f5720_4a2b_11eb_959e_0242ac130202row9_col0\" class=\"data row9 col0\" >Weight</td>\n",
       "                        <td id=\"T_bc5f5720_4a2b_11eb_959e_0242ac130202row9_col1\" class=\"data row9 col1\" >0.022149</td>\n",
       "            </tr>\n",
       "            <tr>\n",
       "                        <th id=\"T_bc5f5720_4a2b_11eb_959e_0242ac130202level0_row10\" class=\"row_heading level0 row10\" >10</th>\n",
       "                        <td id=\"T_bc5f5720_4a2b_11eb_959e_0242ac130202row10_col0\" class=\"data row10 col0\" >Cups</td>\n",
       "                        <td id=\"T_bc5f5720_4a2b_11eb_959e_0242ac130202row10_col1\" class=\"data row10 col1\" >0.142837</td>\n",
       "            </tr>\n",
       "            <tr>\n",
       "                        <th id=\"T_bc5f5720_4a2b_11eb_959e_0242ac130202level0_row11\" class=\"row_heading level0 row11\" >11</th>\n",
       "                        <td id=\"T_bc5f5720_4a2b_11eb_959e_0242ac130202row11_col0\" class=\"data row11 col0\" >A</td>\n",
       "                        <td id=\"T_bc5f5720_4a2b_11eb_959e_0242ac130202row11_col1\" class=\"data row11 col1\" >0.428976</td>\n",
       "            </tr>\n",
       "            <tr>\n",
       "                        <th id=\"T_bc5f5720_4a2b_11eb_959e_0242ac130202level0_row12\" class=\"row_heading level0 row12\" >12</th>\n",
       "                        <td id=\"T_bc5f5720_4a2b_11eb_959e_0242ac130202row12_col0\" class=\"data row12 col0\" >G</td>\n",
       "                        <td id=\"T_bc5f5720_4a2b_11eb_959e_0242ac130202row12_col1\" class=\"data row12 col1\" >0.015511</td>\n",
       "            </tr>\n",
       "            <tr>\n",
       "                        <th id=\"T_bc5f5720_4a2b_11eb_959e_0242ac130202level0_row13\" class=\"row_heading level0 row13\" >13</th>\n",
       "                        <td id=\"T_bc5f5720_4a2b_11eb_959e_0242ac130202row13_col0\" class=\"data row13 col0\" >K</td>\n",
       "                        <td id=\"T_bc5f5720_4a2b_11eb_959e_0242ac130202row13_col1\" class=\"data row13 col1\" >0.991570</td>\n",
       "            </tr>\n",
       "            <tr>\n",
       "                        <th id=\"T_bc5f5720_4a2b_11eb_959e_0242ac130202level0_row14\" class=\"row_heading level0 row14\" >14</th>\n",
       "                        <td id=\"T_bc5f5720_4a2b_11eb_959e_0242ac130202row14_col0\" class=\"data row14 col0\" >N</td>\n",
       "                        <td id=\"T_bc5f5720_4a2b_11eb_959e_0242ac130202row14_col1\" class=\"data row14 col1\" >0.000014</td>\n",
       "            </tr>\n",
       "            <tr>\n",
       "                        <th id=\"T_bc5f5720_4a2b_11eb_959e_0242ac130202level0_row15\" class=\"row_heading level0 row15\" >15</th>\n",
       "                        <td id=\"T_bc5f5720_4a2b_11eb_959e_0242ac130202row15_col0\" class=\"data row15 col0\" >P</td>\n",
       "                        <td id=\"T_bc5f5720_4a2b_11eb_959e_0242ac130202row15_col1\" class=\"data row15 col1\" >0.597342</td>\n",
       "            </tr>\n",
       "            <tr>\n",
       "                        <th id=\"T_bc5f5720_4a2b_11eb_959e_0242ac130202level0_row16\" class=\"row_heading level0 row16\" >16</th>\n",
       "                        <td id=\"T_bc5f5720_4a2b_11eb_959e_0242ac130202row16_col0\" class=\"data row16 col0\" >Q</td>\n",
       "                        <td id=\"T_bc5f5720_4a2b_11eb_959e_0242ac130202row16_col1\" class=\"data row16 col1\" >0.532244</td>\n",
       "            </tr>\n",
       "            <tr>\n",
       "                        <th id=\"T_bc5f5720_4a2b_11eb_959e_0242ac130202level0_row17\" class=\"row_heading level0 row17\" >17</th>\n",
       "                        <td id=\"T_bc5f5720_4a2b_11eb_959e_0242ac130202row17_col0\" class=\"data row17 col0\" >R</td>\n",
       "                        <td id=\"T_bc5f5720_4a2b_11eb_959e_0242ac130202row17_col1\" class=\"data row17 col1\" >0.602912</td>\n",
       "            </tr>\n",
       "            <tr>\n",
       "                        <th id=\"T_bc5f5720_4a2b_11eb_959e_0242ac130202level0_row18\" class=\"row_heading level0 row18\" >18</th>\n",
       "                        <td id=\"T_bc5f5720_4a2b_11eb_959e_0242ac130202row18_col0\" class=\"data row18 col0\" >Cold</td>\n",
       "                        <td id=\"T_bc5f5720_4a2b_11eb_959e_0242ac130202row18_col1\" class=\"data row18 col1\" >0.349364</td>\n",
       "            </tr>\n",
       "    </tbody></table>"
      ],
      "text/plain": [
       "<pandas.io.formats.style.Styler at 0x7f37ff109990>"
      ]
     },
     "execution_count": 36,
     "metadata": {},
     "output_type": "execute_result"
    }
   ],
   "source": [
    "from sklearn.feature_selection import SelectKBest,f_regression\n",
    "\n",
    "selector=SelectKBest(f_regression,k=\"all\")\n",
    "selector.fit(x_train,y_train)\n",
    "\n",
    "pvals=pd.DataFrame({\"variable\":x.columns,\"P-value\":selector.pvalues_})\n",
    "def color_pvalues_red(val):\n",
    "    color=\"red\" if val>0.05 else \"black\"\n",
    "    return \"color:%s\" % color\n",
    "pvals.style.applymap(color_pvalues_red,subset=pd.IndexSlice[:,\"P-value\"])"
   ]
  },
  {
   "cell_type": "markdown",
   "metadata": {
    "papermill": {
     "duration": 0.057829,
     "end_time": "2020-12-29T23:15:27.060821",
     "exception": false,
     "start_time": "2020-12-29T23:15:27.002992",
     "status": "completed"
    },
    "tags": []
   },
   "source": [
    "So it seems *carbohydrates*, *cups*, *A*, *K*, *P*, *Q*, *R* and *cold* do not have much predicitive power so we can remove these from the input and test if the model is any more accurate."
   ]
  },
  {
   "cell_type": "code",
   "execution_count": 37,
   "metadata": {
    "execution": {
     "iopub.execute_input": "2020-12-29T23:15:27.182939Z",
     "iopub.status.busy": "2020-12-29T23:15:27.181915Z",
     "iopub.status.idle": "2020-12-29T23:15:27.197866Z",
     "shell.execute_reply": "2020-12-29T23:15:27.197026Z"
    },
    "papermill": {
     "duration": 0.078557,
     "end_time": "2020-12-29T23:15:27.198011",
     "exception": false,
     "start_time": "2020-12-29T23:15:27.119454",
     "status": "completed"
    },
    "tags": []
   },
   "outputs": [
    {
     "data": {
      "text/plain": [
       "0.9109939603399623"
      ]
     },
     "execution_count": 37,
     "metadata": {},
     "output_type": "execute_result"
    }
   ],
   "source": [
    "x_train=np.delete(x_train,[5,8,10,11,13,15,16,17,18],1)\n",
    "x_test=np.delete(x_test,[5,8,10,11,13,15,16,17,18],1)\n",
    "\n",
    "model=KNeighborsRegressor(n_neighbors=5)\n",
    "model.fit(x_train,y_train)\n",
    "y_predict=model.predict(x_test)\n",
    "\n",
    "model.score(x_test,y_test)"
   ]
  },
  {
   "cell_type": "markdown",
   "metadata": {
    "papermill": {
     "duration": 0.064955,
     "end_time": "2020-12-29T23:15:27.331914",
     "exception": false,
     "start_time": "2020-12-29T23:15:27.266959",
     "status": "completed"
    },
    "tags": []
   },
   "source": [
    "Yes we have improved the accuracy from it's initial 72% to 91% by removing columns with low predictive power!"
   ]
  }
 ],
 "metadata": {
  "kernelspec": {
   "display_name": "Python 3",
   "language": "python",
   "name": "python3"
  },
  "language_info": {
   "codemirror_mode": {
    "name": "ipython",
    "version": 3
   },
   "file_extension": ".py",
   "mimetype": "text/x-python",
   "name": "python",
   "nbconvert_exporter": "python",
   "pygments_lexer": "ipython3",
   "version": "3.7.6"
  },
  "papermill": {
   "duration": 18.47425,
   "end_time": "2020-12-29T23:15:27.506553",
   "environment_variables": {},
   "exception": null,
   "input_path": "__notebook__.ipynb",
   "output_path": "__notebook__.ipynb",
   "parameters": {},
   "start_time": "2020-12-29T23:15:09.032303",
   "version": "2.1.0"
  }
 },
 "nbformat": 4,
 "nbformat_minor": 4
}
